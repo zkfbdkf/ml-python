{
  "nbformat": 4,
  "nbformat_minor": 0,
  "metadata": {
    "colab": {
      "provenance": [],
      "authorship_tag": "ABX9TyPdmuiUvUPuazEf/jXQIyWj",
      "include_colab_link": true
    },
    "kernelspec": {
      "name": "python3",
      "display_name": "Python 3"
    },
    "language_info": {
      "name": "python"
    },
    "accelerator": "GPU",
    "gpuClass": "standard"
  },
  "cells": [
    {
      "cell_type": "markdown",
      "metadata": {
        "id": "view-in-github",
        "colab_type": "text"
      },
      "source": [
        "<a href=\"https://colab.research.google.com/github/chminPark/ml-python/blob/master/%EC%8B%A4%EC%8A%B5_CNN.ipynb\" target=\"_parent\"><img src=\"https://colab.research.google.com/assets/colab-badge.svg\" alt=\"Open In Colab\"/></a>"
      ]
    },
    {
      "cell_type": "code",
      "source": [
        "from __future__ import print_function\n",
        "\n",
        "import torch\n",
        "import torch.nn as nn\n",
        "import torch.nn.functional as F\n",
        "import torch.optim as optim\n",
        "\n",
        "from PIL import Image\n",
        "import matplotlib.pyplot as plt\n",
        "\n",
        "import torchvision\n",
        "import torchvision.transforms as transforms\n",
        "import torchvision.models as models\n",
        "\n",
        "import copy\n",
        "import os\n",
        "import numpy as np\n",
        "import random\n",
        "import time\n",
        "import os\n",
        "\n",
        "torch.backends.cudnn.deterministic = True # Use cudnn as deterministic mode for reproducibility\n",
        "torch.backends.cudnn.benchmark = False"
      ],
      "metadata": {
        "id": "fvM0McnQ8Mx8"
      },
      "execution_count": null,
      "outputs": []
    },
    {
      "cell_type": "markdown",
      "source": [
        "# CIFAR-10 데이터를 이용한다."
      ],
      "metadata": {
        "id": "oR6SrnSXNdbS"
      }
    },
    {
      "cell_type": "code",
      "source": [
        "transform = transforms.Compose([\n",
        "        transforms.RandomCrop(32, padding=4), # Random Crop: Randomly crop the part of the large image and utilize it as an augmented data\n",
        "        transforms.RandomHorizontalFlip(), # Random Horizontal Flip: Randomly flip the image and utilize it as an augmented data\n",
        "        transforms.ToTensor(),\n",
        "        transforms.Normalize(mean=[0.4914, 0.4822, 0.4465], std=[0.2023,0.1994,0.2010]), # Normalize the data using the given mean and standard deviation\n",
        "        ])\n",
        "\n",
        "#Apply data preprocessing for test set\n",
        "transform_test = transforms.Compose([\n",
        "        transforms.ToTensor(),\n",
        "        transforms.Normalize(mean=[0.4914, 0.4822, 0.4465], std=[0.2023,0.1994,0.2010]),\n",
        "        ])\n",
        "\n",
        "train_dataset = torchvision.datasets.CIFAR10(root='./data', train=True, download=True, transform=transform)\n",
        "test_dataset = torchvision.datasets.CIFAR10(root='./data', train=False, download=True, transform=transform_test)\n",
        "\n",
        "train_loader = torch.utils.data.DataLoader(train_dataset, batch_size=100, shuffle=True)\n",
        "test_loader = torch.utils.data.DataLoader(test_dataset, batch_size=100)"
      ],
      "metadata": {
        "colab": {
          "base_uri": "https://localhost:8080/"
        },
        "id": "T5r2VhcQPJwl",
        "outputId": "517e2d82-ec58-4e88-8a04-d03b711c7078"
      },
      "execution_count": null,
      "outputs": [
        {
          "output_type": "stream",
          "name": "stdout",
          "text": [
            "Downloading https://www.cs.toronto.edu/~kriz/cifar-10-python.tar.gz to ./data/cifar-10-python.tar.gz\n"
          ]
        },
        {
          "output_type": "stream",
          "name": "stderr",
          "text": [
            "100%|██████████| 170498071/170498071 [00:02<00:00, 85039321.51it/s]\n"
          ]
        },
        {
          "output_type": "stream",
          "name": "stdout",
          "text": [
            "Extracting ./data/cifar-10-python.tar.gz to ./data\n",
            "Files already downloaded and verified\n"
          ]
        }
      ]
    },
    {
      "cell_type": "code",
      "source": [
        "idxs = np.random.choice(len(train_dataset), 10, replace=False)\n",
        "idxs"
      ],
      "metadata": {
        "colab": {
          "base_uri": "https://localhost:8080/"
        },
        "id": "3ygiz9ucVV95",
        "outputId": "6101b896-48ff-4cec-bb99-497ff5322709"
      },
      "execution_count": null,
      "outputs": [
        {
          "output_type": "execute_result",
          "data": {
            "text/plain": [
              "array([43141, 40251, 19075, 35432, 30537,  8711, 39109, 12815, 36594,\n",
              "       44401])"
            ]
          },
          "metadata": {},
          "execution_count": 8
        }
      ]
    },
    {
      "cell_type": "code",
      "source": [
        "# Cifar 데이터는 어떻게 생겼을까?\n",
        "import matplotlib.pyplot as plt\n",
        "import cv2\n",
        "import warnings\n",
        "warnings.filterwarnings(\"ignore\")\n",
        "\n",
        "num_imgs= 5\n",
        "idxs = np.random.choice(len(train_dataset), num_imgs, replace=False)\n",
        "\n",
        "plt.figure(figsize=(20, 10))\n",
        "for i, idx in enumerate(idxs):\n",
        "\n",
        "  #### 실습 : Index로 데이터 확인\n",
        "  #### 1) Tensor to Numpy 2) BGR to RGB\n",
        "  image, target =  train_dataset[idx]\n",
        "\n",
        "  # channel을 맨 뒤로 보냄\n",
        "  image = image.permute(1,2,0).float().numpy()\n",
        "  image_converted = cv2.cvtColor(image, cv2.COLOR_BGR2RGB)\n",
        "  #########################################\n",
        "\n",
        "  plt.subplot(2, num_imgs, i+1)\n",
        "  plt.imshow(image.astype(np.uint8))\n",
        "  plt.subplot(2, num_imgs, i+num_imgs+1)\n",
        "  plt.imshow(image_converted.astype(np.uint8))\n"
      ],
      "metadata": {
        "colab": {
          "base_uri": "https://localhost:8080/",
          "height": 357
        },
        "id": "mlsGEtJCPPGx",
        "outputId": "a879d42d-eec4-4a5d-b182-d9106a7c386b"
      },
      "execution_count": null,
      "outputs": [
        {
          "output_type": "display_data",
          "data": {
            "text/plain": [
              "<Figure size 2000x1000 with 10 Axes>"
            ],
            "image/png": "[encoded data removed]"
          },
          "metadata": {}
        }
      ]
    },
    {
      "cell_type": "markdown",
      "source": [
        "# VGG구조\n",
        "![](https://drive.google.com/uc?export=view&id=1I2AYVIxViWv2Rf9Y9tOWeOo-H2bjZo9K)\n",
        "\n"
      ],
      "metadata": {
        "id": "6gnGTI-ANNHJ"
      }
    },
    {
      "cell_type": "code",
      "source": [
        "class VGG(nn.Module):\n",
        "    def __init__(self):\n",
        "      super(VGG, self).__init__()\n",
        "\n",
        "      ##### 실습 : 위 그림에 있는 CNN구성 요소 선언\n",
        "      self.conv1 = nn.Conv2d(in_channels=3, out_channels=32, kernel_size=3, padding='same') # Convolutional layer with 3x3 kernel. The size of feature does not change due to the usage of padding.\n",
        "      self.conv2 = nn.Conv2d(in_channels=32, out_channels=32, kernel_size=3, padding='same')\n",
        "\n",
        "      self.conv3 = nn.Conv2d(in_channels=32, out_channels=64, kernel_size=3, padding='same')\n",
        "      self.conv4 = nn.Conv2d(in_channels=64, out_channels=64, kernel_size=3, padding='same')\n",
        "\n",
        "      self.conv5 = nn.Conv2d(in_channels=64, out_channels=128, kernel_size=3, padding='same')\n",
        "      self.conv6 = nn.Conv2d(in_channels=128, out_channels=128, kernel_size=3, padding='same')\n",
        "\n",
        "      self.max_pool = nn.MaxPool2d(kernel_size=2, stride=2) #Maxpooling layer to change feature size\n",
        "      self.avg_pool = nn.AdaptiveAvgPool2d(output_size = (1, 1)) ## 실습: 이미지의 평균값을 계산하는 Layer\n",
        "      self.fc = nn.Linear(in_features=128, out_features=10) # 실습 : 10개 Class를 만들어 내는 FC\n",
        "\n",
        "    def forward(self, x):\n",
        "      #### 실습 : VGG를 구성한다.\n",
        "      x = self.conv1(x)\n",
        "      x = F.relu(x)\n",
        "      x = self.conv2(x)\n",
        "      x = F.relu(x)\n",
        "      x = self.max_pool(x)\n",
        "\n",
        "      x = self.conv3(x)\n",
        "      x = F.relu(x)\n",
        "      x = self.conv4(x)\n",
        "      x = F.relu(x)\n",
        "      x = self.max_pool(x)\n",
        "\n",
        "      x = self.conv5(x)\n",
        "      x = F.relu(x)\n",
        "      x = self.conv6(x)\n",
        "      x = F.relu(x)   # 128x8x8\n",
        "      x = self.avg_pool(x) # 128x1x1\n",
        "\n",
        "      x = x.view(-1, 128)\n",
        "      x = self.fc(x)\n",
        "      return x"
      ],
      "metadata": {
        "id": "01E_p1DUU0LO"
      },
      "execution_count": null,
      "outputs": []
    },
    {
      "cell_type": "code",
      "source": [
        "def reset_seed(seed):\n",
        "    torch.manual_seed(seed)\n",
        "    np.random.seed(seed)\n",
        "    random.seed(seed)"
      ],
      "metadata": {
        "id": "_1QV7UevU0D8"
      },
      "execution_count": null,
      "outputs": []
    },
    {
      "cell_type": "markdown",
      "source": [
        "# 학습함수를 선언하고 학습을 수행한다"
      ],
      "metadata": {
        "id": "gpA1CP5kZ-nD"
      }
    },
    {
      "cell_type": "code",
      "source": [
        "def train(model, data_loader, criterion, optimizer, n_epoch):\n",
        "  ### 실습 : 학습 중임을 알림\n",
        "  model.train() ###\n",
        "  for epoch in range(n_epoch):\n",
        "    running_loss = 0\n",
        "    for i, (images, labels) in enumerate(data_loader):\n",
        "      ### 실습 : 데이터를 GPU로 할당\n",
        "      images, labels = images.cuda(), labels.cuda()\n",
        "      outputs = model(images)\n",
        "      loss = criterion(outputs, labels)\n",
        "\n",
        "      optimizer.zero_grad()\n",
        "      loss.backward()\n",
        "      optimizer.step()\n",
        "      running_loss += loss.item()\n",
        "      if (i + 1) % 100 == 0:\n",
        "        print('iteration: [{}/{}]'.format(i + 1, len(data_loader)))\n",
        "\n",
        "    print('Epoch {}, loss = {:.3f}'.format(epoch + 1, running_loss/len(data_loader)))"
      ],
      "metadata": {
        "id": "XdzlE2_OUz33"
      },
      "execution_count": null,
      "outputs": []
    },
    {
      "cell_type": "code",
      "source": [
        "reset_seed(2020)\n",
        "criterion = nn.CrossEntropyLoss()\n",
        "##### 실습 : 모델을 GPU에 할당한다.\n",
        "vgg_model = VGG().to(\"cuda\")\n",
        "\n",
        "##### Adam 최적화 모델을 할당한다\n",
        "optimizer = optim.Adam(params=vgg_model.parameters())\n",
        "\n",
        "train(vgg_model, train_loader, criterion, optimizer, n_epoch=10)"
      ],
      "metadata": {
        "colab": {
          "base_uri": "https://localhost:8080/"
        },
        "id": "DV3Zjb9BVo15",
        "outputId": "bd9c64f0-6a7e-4673-abc9-35db1c275058"
      },
      "execution_count": null,
      "outputs": [
        {
          "output_type": "stream",
          "name": "stdout",
          "text": [
            "iteration: [100/500]\n",
            "iteration: [200/500]\n",
            "iteration: [300/500]\n",
            "iteration: [400/500]\n",
            "iteration: [500/500]\n",
            "Epoch 1, loss = 1.757\n",
            "iteration: [100/500]\n",
            "iteration: [200/500]\n",
            "iteration: [300/500]\n",
            "iteration: [400/500]\n",
            "iteration: [500/500]\n",
            "Epoch 2, loss = 1.336\n",
            "iteration: [100/500]\n",
            "iteration: [200/500]\n",
            "iteration: [300/500]\n",
            "iteration: [400/500]\n",
            "iteration: [500/500]\n",
            "Epoch 3, loss = 1.110\n",
            "iteration: [100/500]\n",
            "iteration: [200/500]\n",
            "iteration: [300/500]\n",
            "iteration: [400/500]\n",
            "iteration: [500/500]\n",
            "Epoch 4, loss = 0.982\n",
            "iteration: [100/500]\n",
            "iteration: [200/500]\n",
            "iteration: [300/500]\n",
            "iteration: [400/500]\n",
            "iteration: [500/500]\n",
            "Epoch 5, loss = 0.893\n",
            "iteration: [100/500]\n",
            "iteration: [200/500]\n",
            "iteration: [300/500]\n",
            "iteration: [400/500]\n",
            "iteration: [500/500]\n",
            "Epoch 6, loss = 0.813\n",
            "iteration: [100/500]\n",
            "iteration: [200/500]\n",
            "iteration: [300/500]\n",
            "iteration: [400/500]\n",
            "iteration: [500/500]\n",
            "Epoch 7, loss = 0.746\n",
            "iteration: [100/500]\n",
            "iteration: [200/500]\n",
            "iteration: [300/500]\n",
            "iteration: [400/500]\n",
            "iteration: [500/500]\n",
            "Epoch 8, loss = 0.699\n",
            "iteration: [100/500]\n",
            "iteration: [200/500]\n",
            "iteration: [300/500]\n",
            "iteration: [400/500]\n",
            "iteration: [500/500]\n",
            "Epoch 9, loss = 0.654\n",
            "iteration: [100/500]\n",
            "iteration: [200/500]\n",
            "iteration: [300/500]\n",
            "iteration: [400/500]\n",
            "iteration: [500/500]\n",
            "Epoch 10, loss = 0.615\n"
          ]
        }
      ]
    },
    {
      "cell_type": "markdown",
      "source": [
        "# 평가 함수를 구성하고 평가 정확도를 확인한다"
      ],
      "metadata": {
        "id": "lGaoRR1iZ5Nt"
      }
    },
    {
      "cell_type": "code",
      "source": [
        "def eval(model, data_loader):\n",
        "  #### 실습 : 평가를 위해서는 eval()을 선언\n",
        "  model.eval()\n",
        "  total = 0\n",
        "  correct = 0\n",
        "\n",
        "  preds = []\n",
        "  trues = []\n",
        "  #### 실습 : Gradient를 타지 않아야 한다\n",
        "  with torch.no_grad():\n",
        "    for images, labels in data_loader:\n",
        "      images, labels = images.cuda(), labels.cuda()\n",
        "      outputs = model(images)\n",
        "      _, predicted = torch.max(outputs, 1)\n",
        "      total += labels.size(0)\n",
        "      correct += (predicted == labels).sum().item()\n",
        "      preds.append(predicted.detach().cpu().numpy())\n",
        "      trues.append(labels.detach().cpu().numpy())\n",
        "\n",
        "    accuracy = 100 * correct / total\n",
        "\n",
        "  print('Test Accuracy: {}%'.format(accuracy))\n",
        "  return preds, trues\n"
      ],
      "metadata": {
        "id": "1aX7lDqDWPGW"
      },
      "execution_count": null,
      "outputs": []
    },
    {
      "cell_type": "code",
      "source": [
        "len(test_loader)"
      ],
      "metadata": {
        "colab": {
          "base_uri": "https://localhost:8080/"
        },
        "id": "hDtSmsL7ZCb_",
        "outputId": "a03d34a0-ea25-4f75-8b49-b24b1b822b61"
      },
      "execution_count": null,
      "outputs": [
        {
          "output_type": "execute_result",
          "data": {
            "text/plain": [
              "100"
            ]
          },
          "metadata": {},
          "execution_count": 34
        }
      ]
    },
    {
      "cell_type": "code",
      "source": [
        "preds, trues = eval(vgg_model, test_loader)"
      ],
      "metadata": {
        "colab": {
          "base_uri": "https://localhost:8080/"
        },
        "id": "rwbjZYTFZ3ae",
        "outputId": "6ce145f8-8291-47e7-c9e6-a86435c33f30"
      },
      "execution_count": null,
      "outputs": [
        {
          "output_type": "stream",
          "name": "stdout",
          "text": [
            "Test Accuracy: 76.15%\n"
          ]
        }
      ]
    },
    {
      "cell_type": "markdown",
      "source": [
        "# 각 Class의 정확도는?"
      ],
      "metadata": {
        "id": "sSVJgW7XYRrU"
      }
    },
    {
      "cell_type": "code",
      "source": [
        "prediction_label = np.stack(preds).flatten()\n",
        "test_labels = np.stack(trues).flatten()\n",
        "prediction_label, test_labels"
      ],
      "metadata": {
        "colab": {
          "base_uri": "https://localhost:8080/"
        },
        "id": "dzppplYSY4-7",
        "outputId": "daf30eff-841f-47e6-b40a-0ed91489749a"
      },
      "execution_count": null,
      "outputs": [
        {
          "output_type": "execute_result",
          "data": {
            "text/plain": [
              "(array([3, 8, 8, ..., 5, 1, 7]), array([3, 8, 8, ..., 5, 1, 7]))"
            ]
          },
          "metadata": {},
          "execution_count": 41
        }
      ]
    },
    {
      "cell_type": "code",
      "source": [
        "########### 실습 : 분류 성능을 평가해 봅니다.\n",
        "from sklearn.metrics import classification_report\n",
        "print(classification_report(test_labels, prediction_label))"
      ],
      "metadata": {
        "id": "j9e062DTcalk",
        "colab": {
          "base_uri": "https://localhost:8080/"
        },
        "outputId": "507a4aab-f1d8-4746-cfca-9f75d2975982"
      },
      "execution_count": null,
      "outputs": [
        {
          "output_type": "stream",
          "name": "stdout",
          "text": [
            "              precision    recall  f1-score   support\n",
            "\n",
            "           0       0.84      0.75      0.79      1000\n",
            "           1       0.95      0.82      0.88      1000\n",
            "           2       0.65      0.70      0.68      1000\n",
            "           3       0.68      0.49      0.57      1000\n",
            "           4       0.85      0.61      0.71      1000\n",
            "           5       0.70      0.70      0.70      1000\n",
            "           6       0.58      0.93      0.72      1000\n",
            "           7       0.87      0.79      0.83      1000\n",
            "           8       0.89      0.87      0.88      1000\n",
            "           9       0.77      0.95      0.85      1000\n",
            "\n",
            "    accuracy                           0.76     10000\n",
            "   macro avg       0.78      0.76      0.76     10000\n",
            "weighted avg       0.78      0.76      0.76     10000\n",
            "\n"
          ]
        }
      ]
    },
    {
      "cell_type": "code",
      "source": [
        "########### 실습 : 분류 성능을 평가해 봅니다.\n",
        "# Accuracy : # 전체 샘플중 맞게 예측한 샘플수 (TP + TN) / Total\n",
        "from sklearn.metrics import accuracy_score\n",
        "accuracy_score(test_labels, prediction_label)"
      ],
      "metadata": {
        "colab": {
          "base_uri": "https://localhost:8080/"
        },
        "id": "0E4gHuwHYXAi",
        "outputId": "81159eb4-eee8-4903-c5e1-728486565562"
      },
      "execution_count": null,
      "outputs": [
        {
          "output_type": "execute_result",
          "data": {
            "text/plain": [
              "0.7615"
            ]
          },
          "metadata": {},
          "execution_count": 43
        }
      ]
    },
    {
      "cell_type": "code",
      "source": [
        "########### 실습 : 분류 성능을 평가해 봅니다.\n",
        "# Precision 정밀도 : 예측값 값의 정확도\n",
        "from sklearn.metrics import precision_score\n",
        "# 각 label의 prediction을 계산 후 평균을 취함\n",
        "precision_score(test_labels, prediction_label, average = 'macro')"
      ],
      "metadata": {
        "colab": {
          "base_uri": "https://localhost:8080/"
        },
        "id": "1nsSj7LSYYLI",
        "outputId": "98b02702-6952-4af9-ef2c-dca7990d8708"
      },
      "execution_count": null,
      "outputs": [
        {
          "output_type": "execute_result",
          "data": {
            "text/plain": [
              "0.7781025554994233"
            ]
          },
          "metadata": {},
          "execution_count": 44
        }
      ]
    },
    {
      "cell_type": "code",
      "source": [
        "########### 실습 : 분류 성능을 평가해 봅니다.\n",
        "# recall : 실제 Positive중 Positive라고 예측된 비중\n",
        "from sklearn.metrics import recall_score\n",
        "recall_score(test_labels, prediction_label, average = 'macro')"
      ],
      "metadata": {
        "colab": {
          "base_uri": "https://localhost:8080/"
        },
        "id": "2o5eqq-fYZhp",
        "outputId": "1ded8446-1d0e-4294-87b1-3e8bafc95cce"
      },
      "execution_count": null,
      "outputs": [
        {
          "output_type": "execute_result",
          "data": {
            "text/plain": [
              "0.7615"
            ]
          },
          "metadata": {},
          "execution_count": 45
        }
      ]
    }
  ]
}