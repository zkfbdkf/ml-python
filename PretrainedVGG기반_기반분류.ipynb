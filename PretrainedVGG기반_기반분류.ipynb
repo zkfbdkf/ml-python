{
  "nbformat": 4,
  "nbformat_minor": 0,
  "metadata": {
    "colab": {
      "provenance": [],
      "gpuType": "T4",
      "include_colab_link": true
    },
    "kernelspec": {
      "name": "python3",
      "display_name": "Python 3"
    },
    "language_info": {
      "name": "python"
    },
    "accelerator": "GPU"
  },
  "cells": [
    {
      "cell_type": "markdown",
      "metadata": {
        "id": "view-in-github",
        "colab_type": "text"
      },
      "source": [
        "<a href=\"https://colab.research.google.com/github/chminPark/ml-python/blob/master/PretrainedVGG%EA%B8%B0%EB%B0%98_%EA%B8%B0%EB%B0%98%EB%B6%84%EB%A5%98.ipynb\" target=\"_parent\"><img src=\"https://colab.research.google.com/assets/colab-badge.svg\" alt=\"Open In Colab\"/></a>"
      ]
    },
    {
      "cell_type": "code",
      "source": [
        "# Pytorch로 개발하기 위한 Library\n",
        "import torch\n",
        "import torch.nn as nn\n",
        "import torch.nn.functional as F\n",
        "import torch.optim as optim\n",
        "import matplotlib.pyplot as plt\n",
        "\n",
        "import numpy as np\n",
        "\n",
        "torch.__version__"
      ],
      "metadata": {
        "colab": {
          "base_uri": "https://localhost:8080/",
          "height": 35
        },
        "id": "-8vDBSXXqKCH",
        "outputId": "f0bcbc6b-ac6f-4cd5-9396-6d62e9109b1f"
      },
      "execution_count": null,
      "outputs": [
        {
          "output_type": "execute_result",
          "data": {
            "text/plain": [
              "'2.1.0+cu118'"
            ],
            "application/vnd.google.colaboratory.intrinsic+json": {
              "type": "string"
            }
          },
          "metadata": {},
          "execution_count": 1
        }
      ]
    },
    {
      "cell_type": "code",
      "source": [
        "!gdown --id 1L3aXv9A2bn8G9orLqjVWOE_1OY4ycdjs\n",
        "!mkdir 'chip_data'\n",
        "!unzip -q chip_data.zip -d chip_data\n",
        "!rm chip_data.zip"
      ],
      "metadata": {
        "id": "fvM0McnQ8Mx8"
      },
      "execution_count": null,
      "outputs": []
    },
    {
      "cell_type": "code",
      "source": [
        "import csv\n",
        "import os\n",
        "import pandas as pd\n",
        "\"\"\"\n",
        "Args:\n",
        "  directory_string: 이미지가 저장되어 있는 폴더 Path\n",
        "  output_csv_name: csv 파일 이름\n",
        "Returns:\n",
        "  csv file\n",
        "\"\"\"\n",
        "def build_csv(directory_string, output_csv_name):\n",
        "\n",
        "    directory = directory_string\n",
        "    class_list = os.listdir(directory)\n",
        "    class_list.sort()\n",
        "\n",
        "    dict_map = {\n",
        "        'crack, scratch, stamp' : 1,\n",
        "        'particle' : 2,\n",
        "        'titled' : 3,\n",
        "        \"와이어끊어짐\" : 4,\n",
        "        \"정상\": 0\n",
        "    }\n",
        "    with open(output_csv_name, 'w', newline='') as csvfile:\n",
        "\n",
        "        ### 실습 : CSV 파일 Object 생성\n",
        "        writer = csv.writer(csvfile, delimiter=',')\n",
        "        ############################################\n",
        "        writer.writerow(['file_name', 'file_path', 'class_name', 'class_index']) # CSV의 column 이름을 지정\n",
        "\n",
        "        ###### 각 folder에 들어가서 각 이미지의 이름을 가져옴\n",
        "        for class_name in class_list:\n",
        "          class_path = os.path.join(directory, class_name)\n",
        "          file_list = os.listdir(class_path) # 해당 파일 내부의 이미지를 확보\n",
        "          for file_name in file_list:\n",
        "              file_path = os.path.join(directory, class_name, file_name) #concatenate class folder dir, class name and file name\n",
        "              writer.writerow([file_name, file_path, class_name, dict_map[class_name]]) #write the file path and class name to the csv file\n",
        "        #############################\n",
        "\n",
        "    return\n",
        "\n",
        "train_folder = os.path.join(os.getcwd(), 'chip_data')\n",
        "build_csv(train_folder, 'train.csv')\n",
        "all_df = pd.read_csv('train.csv')\n"
      ],
      "metadata": {
        "id": "5dXEooJlWsRV"
      },
      "execution_count": null,
      "outputs": []
    },
    {
      "cell_type": "code",
      "source": [
        "all_df"
      ],
      "metadata": {
        "id": "P8HvlmwipUpj",
        "colab": {
          "base_uri": "https://localhost:8080/",
          "height": 597
        },
        "outputId": "74c77046-0a24-46e9-e7ea-beb942e4fa5b"
      },
      "execution_count": null,
      "outputs": [
        {
          "output_type": "execute_result",
          "data": {
            "text/plain": [
              "                   file_name  \\\n",
              "0    Sat Nov 25 15-20-27.jpg   \n",
              "1    Sat Nov 25 15-20-32.jpg   \n",
              "2    Sat Nov 25 13-22-27.jpg   \n",
              "3    Sat Nov 25 15-24-11.jpg   \n",
              "4    Sat Nov 25 15-24-15.jpg   \n",
              "..                       ...   \n",
              "850  Sat Nov 25 14-05-57.jpg   \n",
              "851  Sat Nov 25 14-08-38.jpg   \n",
              "852  Sat Nov 25 13-44-32.jpg   \n",
              "853  Sat Nov 25 13-54-56.jpg   \n",
              "854  Sat Nov 25 13-34-39.jpg   \n",
              "\n",
              "                                             file_path             class_name  \\\n",
              "0    /content/chip_data/crack, scratch, stamp/Sat N...  crack, scratch, stamp   \n",
              "1    /content/chip_data/crack, scratch, stamp/Sat N...  crack, scratch, stamp   \n",
              "2    /content/chip_data/crack, scratch, stamp/Sat N...  crack, scratch, stamp   \n",
              "3    /content/chip_data/crack, scratch, stamp/Sat N...  crack, scratch, stamp   \n",
              "4    /content/chip_data/crack, scratch, stamp/Sat N...  crack, scratch, stamp   \n",
              "..                                                 ...                    ...   \n",
              "850      /content/chip_data/정상/Sat Nov 25 14-05-57.jpg                     정상   \n",
              "851      /content/chip_data/정상/Sat Nov 25 14-08-38.jpg                     정상   \n",
              "852      /content/chip_data/정상/Sat Nov 25 13-44-32.jpg                     정상   \n",
              "853      /content/chip_data/정상/Sat Nov 25 13-54-56.jpg                     정상   \n",
              "854      /content/chip_data/정상/Sat Nov 25 13-34-39.jpg                     정상   \n",
              "\n",
              "     class_index  \n",
              "0              1  \n",
              "1              1  \n",
              "2              1  \n",
              "3              1  \n",
              "4              1  \n",
              "..           ...  \n",
              "850            0  \n",
              "851            0  \n",
              "852            0  \n",
              "853            0  \n",
              "854            0  \n",
              "\n",
              "[855 rows x 4 columns]"
            ],
            "text/html": [
              "\n",
              "  <div id=\"df-d6f67af6-cdce-43a6-990e-69b0737111d2\" class=\"colab-df-container\">\n",
              "    <div>\n",
              "<style scoped>\n",
              "    .dataframe tbody tr th:only-of-type {\n",
              "        vertical-align: middle;\n",
              "    }\n",
              "\n",
              "    .dataframe tbody tr th {\n",
              "        vertical-align: top;\n",
              "    }\n",
              "\n",
              "    .dataframe thead th {\n",
              "        text-align: right;\n",
              "    }\n",
              "</style>\n",
              "<table border=\"1\" class=\"dataframe\">\n",
              "  <thead>\n",
              "    <tr style=\"text-align: right;\">\n",
              "      <th></th>\n",
              "      <th>file_name</th>\n",
              "      <th>file_path</th>\n",
              "      <th>class_name</th>\n",
              "      <th>class_index</th>\n",
              "    </tr>\n",
              "  </thead>\n",
              "  <tbody>\n",
              "    <tr>\n",
              "      <th>0</th>\n",
              "      <td>Sat Nov 25 15-20-27.jpg</td>\n",
              "      <td>/content/chip_data/crack, scratch, stamp/Sat N...</td>\n",
              "      <td>crack, scratch, stamp</td>\n",
              "      <td>1</td>\n",
              "    </tr>\n",
              "    <tr>\n",
              "      <th>1</th>\n",
              "      <td>Sat Nov 25 15-20-32.jpg</td>\n",
              "      <td>/content/chip_data/crack, scratch, stamp/Sat N...</td>\n",
              "      <td>crack, scratch, stamp</td>\n",
              "      <td>1</td>\n",
              "    </tr>\n",
              "    <tr>\n",
              "      <th>2</th>\n",
              "      <td>Sat Nov 25 13-22-27.jpg</td>\n",
              "      <td>/content/chip_data/crack, scratch, stamp/Sat N...</td>\n",
              "      <td>crack, scratch, stamp</td>\n",
              "      <td>1</td>\n",
              "    </tr>\n",
              "    <tr>\n",
              "      <th>3</th>\n",
              "      <td>Sat Nov 25 15-24-11.jpg</td>\n",
              "      <td>/content/chip_data/crack, scratch, stamp/Sat N...</td>\n",
              "      <td>crack, scratch, stamp</td>\n",
              "      <td>1</td>\n",
              "    </tr>\n",
              "    <tr>\n",
              "      <th>4</th>\n",
              "      <td>Sat Nov 25 15-24-15.jpg</td>\n",
              "      <td>/content/chip_data/crack, scratch, stamp/Sat N...</td>\n",
              "      <td>crack, scratch, stamp</td>\n",
              "      <td>1</td>\n",
              "    </tr>\n",
              "    <tr>\n",
              "      <th>...</th>\n",
              "      <td>...</td>\n",
              "      <td>...</td>\n",
              "      <td>...</td>\n",
              "      <td>...</td>\n",
              "    </tr>\n",
              "    <tr>\n",
              "      <th>850</th>\n",
              "      <td>Sat Nov 25 14-05-57.jpg</td>\n",
              "      <td>/content/chip_data/정상/Sat Nov 25 14-05-57.jpg</td>\n",
              "      <td>정상</td>\n",
              "      <td>0</td>\n",
              "    </tr>\n",
              "    <tr>\n",
              "      <th>851</th>\n",
              "      <td>Sat Nov 25 14-08-38.jpg</td>\n",
              "      <td>/content/chip_data/정상/Sat Nov 25 14-08-38.jpg</td>\n",
              "      <td>정상</td>\n",
              "      <td>0</td>\n",
              "    </tr>\n",
              "    <tr>\n",
              "      <th>852</th>\n",
              "      <td>Sat Nov 25 13-44-32.jpg</td>\n",
              "      <td>/content/chip_data/정상/Sat Nov 25 13-44-32.jpg</td>\n",
              "      <td>정상</td>\n",
              "      <td>0</td>\n",
              "    </tr>\n",
              "    <tr>\n",
              "      <th>853</th>\n",
              "      <td>Sat Nov 25 13-54-56.jpg</td>\n",
              "      <td>/content/chip_data/정상/Sat Nov 25 13-54-56.jpg</td>\n",
              "      <td>정상</td>\n",
              "      <td>0</td>\n",
              "    </tr>\n",
              "    <tr>\n",
              "      <th>854</th>\n",
              "      <td>Sat Nov 25 13-34-39.jpg</td>\n",
              "      <td>/content/chip_data/정상/Sat Nov 25 13-34-39.jpg</td>\n",
              "      <td>정상</td>\n",
              "      <td>0</td>\n",
              "    </tr>\n",
              "  </tbody>\n",
              "</table>\n",
              "<p>855 rows × 4 columns</p>\n",
              "</div>\n",
              "    <div class=\"colab-df-buttons\">\n",
              "\n",
              "  <div class=\"colab-df-container\">\n",
              "    <button class=\"colab-df-convert\" onclick=\"convertToInteractive('df-d6f67af6-cdce-43a6-990e-69b0737111d2')\"\n",
              "            title=\"Convert this dataframe to an interactive table.\"\n",
              "            style=\"display:none;\">\n",
              "\n",
              "  <svg xmlns=\"http://www.w3.org/2000/svg\" height=\"24px\" viewBox=\"0 -960 960 960\">\n",
              "    <path d=\"M120-120v-720h720v720H120Zm60-500h600v-160H180v160Zm220 220h160v-160H400v160Zm0 220h160v-160H400v160ZM180-400h160v-160H180v160Zm440 0h160v-160H620v160ZM180-180h160v-160H180v160Zm440 0h160v-160H620v160Z\"/>\n",
              "  </svg>\n",
              "    </button>\n",
              "\n",
              "  <style>\n",
              "    .colab-df-container {\n",
              "      display:flex;\n",
              "      gap: 12px;\n",
              "    }\n",
              "\n",
              "    .colab-df-convert {\n",
              "      background-color: #E8F0FE;\n",
              "      border: none;\n",
              "      border-radius: 50%;\n",
              "      cursor: pointer;\n",
              "      display: none;\n",
              "      fill: #1967D2;\n",
              "      height: 32px;\n",
              "      padding: 0 0 0 0;\n",
              "      width: 32px;\n",
              "    }\n",
              "\n",
              "    .colab-df-convert:hover {\n",
              "      background-color: #E2EBFA;\n",
              "      box-shadow: 0px 1px 2px rgba(60, 64, 67, 0.3), 0px 1px 3px 1px rgba(60, 64, 67, 0.15);\n",
              "      fill: #174EA6;\n",
              "    }\n",
              "\n",
              "    .colab-df-buttons div {\n",
              "      margin-bottom: 4px;\n",
              "    }\n",
              "\n",
              "    [theme=dark] .colab-df-convert {\n",
              "      background-color: #3B4455;\n",
              "      fill: #D2E3FC;\n",
              "    }\n",
              "\n",
              "    [theme=dark] .colab-df-convert:hover {\n",
              "      background-color: #434B5C;\n",
              "      box-shadow: 0px 1px 3px 1px rgba(0, 0, 0, 0.15);\n",
              "      filter: drop-shadow(0px 1px 2px rgba(0, 0, 0, 0.3));\n",
              "      fill: #FFFFFF;\n",
              "    }\n",
              "  </style>\n",
              "\n",
              "    <script>\n",
              "      const buttonEl =\n",
              "        document.querySelector('#df-d6f67af6-cdce-43a6-990e-69b0737111d2 button.colab-df-convert');\n",
              "      buttonEl.style.display =\n",
              "        google.colab.kernel.accessAllowed ? 'block' : 'none';\n",
              "\n",
              "      async function convertToInteractive(key) {\n",
              "        const element = document.querySelector('#df-d6f67af6-cdce-43a6-990e-69b0737111d2');\n",
              "        const dataTable =\n",
              "          await google.colab.kernel.invokeFunction('convertToInteractive',\n",
              "                                                    [key], {});\n",
              "        if (!dataTable) return;\n",
              "\n",
              "        const docLinkHtml = 'Like what you see? Visit the ' +\n",
              "          '<a target=\"_blank\" href=https://colab.research.google.com/notebooks/data_table.ipynb>data table notebook</a>'\n",
              "          + ' to learn more about interactive tables.';\n",
              "        element.innerHTML = '';\n",
              "        dataTable['output_type'] = 'display_data';\n",
              "        await google.colab.output.renderOutput(dataTable, element);\n",
              "        const docLink = document.createElement('div');\n",
              "        docLink.innerHTML = docLinkHtml;\n",
              "        element.appendChild(docLink);\n",
              "      }\n",
              "    </script>\n",
              "  </div>\n",
              "\n",
              "\n",
              "<div id=\"df-ba09c504-58e8-460f-b523-90aeb1e6e38b\">\n",
              "  <button class=\"colab-df-quickchart\" onclick=\"quickchart('df-ba09c504-58e8-460f-b523-90aeb1e6e38b')\"\n",
              "            title=\"Suggest charts\"\n",
              "            style=\"display:none;\">\n",
              "\n",
              "<svg xmlns=\"http://www.w3.org/2000/svg\" height=\"24px\"viewBox=\"0 0 24 24\"\n",
              "     width=\"24px\">\n",
              "    <g>\n",
              "        <path d=\"M19 3H5c-1.1 0-2 .9-2 2v14c0 1.1.9 2 2 2h14c1.1 0 2-.9 2-2V5c0-1.1-.9-2-2-2zM9 17H7v-7h2v7zm4 0h-2V7h2v10zm4 0h-2v-4h2v4z\"/>\n",
              "    </g>\n",
              "</svg>\n",
              "  </button>\n",
              "\n",
              "<style>\n",
              "  .colab-df-quickchart {\n",
              "      --bg-color: #E8F0FE;\n",
              "      --fill-color: #1967D2;\n",
              "      --hover-bg-color: #E2EBFA;\n",
              "      --hover-fill-color: #174EA6;\n",
              "      --disabled-fill-color: #AAA;\n",
              "      --disabled-bg-color: #DDD;\n",
              "  }\n",
              "\n",
              "  [theme=dark] .colab-df-quickchart {\n",
              "      --bg-color: #3B4455;\n",
              "      --fill-color: #D2E3FC;\n",
              "      --hover-bg-color: #434B5C;\n",
              "      --hover-fill-color: #FFFFFF;\n",
              "      --disabled-bg-color: #3B4455;\n",
              "      --disabled-fill-color: #666;\n",
              "  }\n",
              "\n",
              "  .colab-df-quickchart {\n",
              "    background-color: var(--bg-color);\n",
              "    border: none;\n",
              "    border-radius: 50%;\n",
              "    cursor: pointer;\n",
              "    display: none;\n",
              "    fill: var(--fill-color);\n",
              "    height: 32px;\n",
              "    padding: 0;\n",
              "    width: 32px;\n",
              "  }\n",
              "\n",
              "  .colab-df-quickchart:hover {\n",
              "    background-color: var(--hover-bg-color);\n",
              "    box-shadow: 0 1px 2px rgba(60, 64, 67, 0.3), 0 1px 3px 1px rgba(60, 64, 67, 0.15);\n",
              "    fill: var(--button-hover-fill-color);\n",
              "  }\n",
              "\n",
              "  .colab-df-quickchart-complete:disabled,\n",
              "  .colab-df-quickchart-complete:disabled:hover {\n",
              "    background-color: var(--disabled-bg-color);\n",
              "    fill: var(--disabled-fill-color);\n",
              "    box-shadow: none;\n",
              "  }\n",
              "\n",
              "  .colab-df-spinner {\n",
              "    border: 2px solid var(--fill-color);\n",
              "    border-color: transparent;\n",
              "    border-bottom-color: var(--fill-color);\n",
              "    animation:\n",
              "      spin 1s steps(1) infinite;\n",
              "  }\n",
              "\n",
              "  @keyframes spin {\n",
              "    0% {\n",
              "      border-color: transparent;\n",
              "      border-bottom-color: var(--fill-color);\n",
              "      border-left-color: var(--fill-color);\n",
              "    }\n",
              "    20% {\n",
              "      border-color: transparent;\n",
              "      border-left-color: var(--fill-color);\n",
              "      border-top-color: var(--fill-color);\n",
              "    }\n",
              "    30% {\n",
              "      border-color: transparent;\n",
              "      border-left-color: var(--fill-color);\n",
              "      border-top-color: var(--fill-color);\n",
              "      border-right-color: var(--fill-color);\n",
              "    }\n",
              "    40% {\n",
              "      border-color: transparent;\n",
              "      border-right-color: var(--fill-color);\n",
              "      border-top-color: var(--fill-color);\n",
              "    }\n",
              "    60% {\n",
              "      border-color: transparent;\n",
              "      border-right-color: var(--fill-color);\n",
              "    }\n",
              "    80% {\n",
              "      border-color: transparent;\n",
              "      border-right-color: var(--fill-color);\n",
              "      border-bottom-color: var(--fill-color);\n",
              "    }\n",
              "    90% {\n",
              "      border-color: transparent;\n",
              "      border-bottom-color: var(--fill-color);\n",
              "    }\n",
              "  }\n",
              "</style>\n",
              "\n",
              "  <script>\n",
              "    async function quickchart(key) {\n",
              "      const quickchartButtonEl =\n",
              "        document.querySelector('#' + key + ' button');\n",
              "      quickchartButtonEl.disabled = true;  // To prevent multiple clicks.\n",
              "      quickchartButtonEl.classList.add('colab-df-spinner');\n",
              "      try {\n",
              "        const charts = await google.colab.kernel.invokeFunction(\n",
              "            'suggestCharts', [key], {});\n",
              "      } catch (error) {\n",
              "        console.error('Error during call to suggestCharts:', error);\n",
              "      }\n",
              "      quickchartButtonEl.classList.remove('colab-df-spinner');\n",
              "      quickchartButtonEl.classList.add('colab-df-quickchart-complete');\n",
              "    }\n",
              "    (() => {\n",
              "      let quickchartButtonEl =\n",
              "        document.querySelector('#df-ba09c504-58e8-460f-b523-90aeb1e6e38b button');\n",
              "      quickchartButtonEl.style.display =\n",
              "        google.colab.kernel.accessAllowed ? 'block' : 'none';\n",
              "    })();\n",
              "  </script>\n",
              "</div>\n",
              "    </div>\n",
              "  </div>\n"
            ]
          },
          "metadata": {},
          "execution_count": 4
        }
      ]
    },
    {
      "cell_type": "code",
      "source": [
        "all_df['class_index'].unique()"
      ],
      "metadata": {
        "id": "kanI8L3rdS2_",
        "colab": {
          "base_uri": "https://localhost:8080/"
        },
        "outputId": "b98ab51a-4225-4180-acbd-6a49d39ed30c"
      },
      "execution_count": null,
      "outputs": [
        {
          "output_type": "execute_result",
          "data": {
            "text/plain": [
              "array([1, 2, 3, 4, 0])"
            ]
          },
          "metadata": {},
          "execution_count": 5
        }
      ]
    },
    {
      "cell_type": "code",
      "source": [
        "from sklearn.model_selection import train_test_split\n",
        "train, test = train_test_split(all_df, test_size=0.2, random_state=42, shuffle=True)"
      ],
      "metadata": {
        "id": "Q5CcMwA2fDtt"
      },
      "execution_count": null,
      "outputs": []
    },
    {
      "cell_type": "code",
      "source": [
        "train['class_index'].value_counts(), test['class_index'].value_counts()"
      ],
      "metadata": {
        "id": "KThOxNbof1GO",
        "colab": {
          "base_uri": "https://localhost:8080/"
        },
        "outputId": "f8977163-cd2c-4679-b404-12071459a5e3"
      },
      "execution_count": null,
      "outputs": [
        {
          "output_type": "execute_result",
          "data": {
            "text/plain": [
              "(0    369\n",
              " 1     99\n",
              " 2     80\n",
              " 4     79\n",
              " 3     57\n",
              " Name: class_index, dtype: int64,\n",
              " 0    88\n",
              " 1    28\n",
              " 4    22\n",
              " 3    18\n",
              " 2    15\n",
              " Name: class_index, dtype: int64)"
            ]
          },
          "metadata": {},
          "execution_count": 7
        }
      ]
    },
    {
      "cell_type": "code",
      "source": [
        "from sklearn.model_selection import train_test_split\n",
        "train, test = train_test_split(all_df, test_size=0.2, random_state=42, shuffle=True, stratify=all_df['class_index'])\n",
        "train['class_index'].value_counts(), test['class_index'].value_counts()"
      ],
      "metadata": {
        "id": "09PRNu9jf9v9",
        "colab": {
          "base_uri": "https://localhost:8080/"
        },
        "outputId": "109ff4e7-9759-4127-b906-462020f117a0"
      },
      "execution_count": null,
      "outputs": [
        {
          "output_type": "execute_result",
          "data": {
            "text/plain": [
              "(0    365\n",
              " 1    102\n",
              " 4     81\n",
              " 2     76\n",
              " 3     60\n",
              " Name: class_index, dtype: int64,\n",
              " 0    92\n",
              " 1    25\n",
              " 4    20\n",
              " 2    19\n",
              " 3    15\n",
              " Name: class_index, dtype: int64)"
            ]
          },
          "metadata": {},
          "execution_count": 8
        }
      ]
    },
    {
      "cell_type": "code",
      "source": [
        "# save df to csv\n",
        "train.to_csv(\"train.csv\", index=0)\n",
        "test.to_csv(\"test.csv\", index=0)"
      ],
      "metadata": {
        "id": "C8NZzi2QgfcL"
      },
      "execution_count": null,
      "outputs": []
    },
    {
      "cell_type": "code",
      "source": [
        "pd.read_csv(\"train.csv\")"
      ],
      "metadata": {
        "id": "P8_mGHHyg_yU",
        "colab": {
          "base_uri": "https://localhost:8080/",
          "height": 597
        },
        "outputId": "4b3e9bbd-9232-4304-d75d-e75324a771df"
      },
      "execution_count": null,
      "outputs": [
        {
          "output_type": "execute_result",
          "data": {
            "text/plain": [
              "                   file_name  \\\n",
              "0    Sat Nov 25 15-17-34.jpg   \n",
              "1    Sat Nov 25 15-38-05.jpg   \n",
              "2    Sat Nov 25 14-17-43.jpg   \n",
              "3    Sat Nov 25 15-24-12.jpg   \n",
              "4    Sat Nov 25 14-05-24.jpg   \n",
              "..                       ...   \n",
              "679  Sat Nov 25 13-28-25.jpg   \n",
              "680  Sat Nov 25 15-15-11.jpg   \n",
              "681  Sat Nov 25 15-41-02.jpg   \n",
              "682  Sat Nov 25 15-25-58.jpg   \n",
              "683  Sat Nov 25 15-38-40.jpg   \n",
              "\n",
              "                                             file_path             class_name  \\\n",
              "0    /content/chip_data/와이어끊어짐/Sat Nov 25 15-17-34.jpg                 와이어끊어짐   \n",
              "1    /content/chip_data/particle/Sat Nov 25 15-38-0...               particle   \n",
              "2        /content/chip_data/정상/Sat Nov 25 14-17-43.jpg                     정상   \n",
              "3    /content/chip_data/crack, scratch, stamp/Sat N...  crack, scratch, stamp   \n",
              "4        /content/chip_data/정상/Sat Nov 25 14-05-24.jpg                     정상   \n",
              "..                                                 ...                    ...   \n",
              "679      /content/chip_data/정상/Sat Nov 25 13-28-25.jpg                     정상   \n",
              "680  /content/chip_data/와이어끊어짐/Sat Nov 25 15-15-11.jpg                 와이어끊어짐   \n",
              "681  /content/chip_data/particle/Sat Nov 25 15-41-0...               particle   \n",
              "682  /content/chip_data/crack, scratch, stamp/Sat N...  crack, scratch, stamp   \n",
              "683  /content/chip_data/particle/Sat Nov 25 15-38-4...               particle   \n",
              "\n",
              "     class_index  \n",
              "0              4  \n",
              "1              2  \n",
              "2              0  \n",
              "3              1  \n",
              "4              0  \n",
              "..           ...  \n",
              "679            0  \n",
              "680            4  \n",
              "681            2  \n",
              "682            1  \n",
              "683            2  \n",
              "\n",
              "[684 rows x 4 columns]"
            ],
            "text/html": [
              "\n",
              "  <div id=\"df-9c4101c5-c02e-4fa6-bfc5-7b767b0e2e3d\" class=\"colab-df-container\">\n",
              "    <div>\n",
              "<style scoped>\n",
              "    .dataframe tbody tr th:only-of-type {\n",
              "        vertical-align: middle;\n",
              "    }\n",
              "\n",
              "    .dataframe tbody tr th {\n",
              "        vertical-align: top;\n",
              "    }\n",
              "\n",
              "    .dataframe thead th {\n",
              "        text-align: right;\n",
              "    }\n",
              "</style>\n",
              "<table border=\"1\" class=\"dataframe\">\n",
              "  <thead>\n",
              "    <tr style=\"text-align: right;\">\n",
              "      <th></th>\n",
              "      <th>file_name</th>\n",
              "      <th>file_path</th>\n",
              "      <th>class_name</th>\n",
              "      <th>class_index</th>\n",
              "    </tr>\n",
              "  </thead>\n",
              "  <tbody>\n",
              "    <tr>\n",
              "      <th>0</th>\n",
              "      <td>Sat Nov 25 15-17-34.jpg</td>\n",
              "      <td>/content/chip_data/와이어끊어짐/Sat Nov 25 15-17-34.jpg</td>\n",
              "      <td>와이어끊어짐</td>\n",
              "      <td>4</td>\n",
              "    </tr>\n",
              "    <tr>\n",
              "      <th>1</th>\n",
              "      <td>Sat Nov 25 15-38-05.jpg</td>\n",
              "      <td>/content/chip_data/particle/Sat Nov 25 15-38-0...</td>\n",
              "      <td>particle</td>\n",
              "      <td>2</td>\n",
              "    </tr>\n",
              "    <tr>\n",
              "      <th>2</th>\n",
              "      <td>Sat Nov 25 14-17-43.jpg</td>\n",
              "      <td>/content/chip_data/정상/Sat Nov 25 14-17-43.jpg</td>\n",
              "      <td>정상</td>\n",
              "      <td>0</td>\n",
              "    </tr>\n",
              "    <tr>\n",
              "      <th>3</th>\n",
              "      <td>Sat Nov 25 15-24-12.jpg</td>\n",
              "      <td>/content/chip_data/crack, scratch, stamp/Sat N...</td>\n",
              "      <td>crack, scratch, stamp</td>\n",
              "      <td>1</td>\n",
              "    </tr>\n",
              "    <tr>\n",
              "      <th>4</th>\n",
              "      <td>Sat Nov 25 14-05-24.jpg</td>\n",
              "      <td>/content/chip_data/정상/Sat Nov 25 14-05-24.jpg</td>\n",
              "      <td>정상</td>\n",
              "      <td>0</td>\n",
              "    </tr>\n",
              "    <tr>\n",
              "      <th>...</th>\n",
              "      <td>...</td>\n",
              "      <td>...</td>\n",
              "      <td>...</td>\n",
              "      <td>...</td>\n",
              "    </tr>\n",
              "    <tr>\n",
              "      <th>679</th>\n",
              "      <td>Sat Nov 25 13-28-25.jpg</td>\n",
              "      <td>/content/chip_data/정상/Sat Nov 25 13-28-25.jpg</td>\n",
              "      <td>정상</td>\n",
              "      <td>0</td>\n",
              "    </tr>\n",
              "    <tr>\n",
              "      <th>680</th>\n",
              "      <td>Sat Nov 25 15-15-11.jpg</td>\n",
              "      <td>/content/chip_data/와이어끊어짐/Sat Nov 25 15-15-11.jpg</td>\n",
              "      <td>와이어끊어짐</td>\n",
              "      <td>4</td>\n",
              "    </tr>\n",
              "    <tr>\n",
              "      <th>681</th>\n",
              "      <td>Sat Nov 25 15-41-02.jpg</td>\n",
              "      <td>/content/chip_data/particle/Sat Nov 25 15-41-0...</td>\n",
              "      <td>particle</td>\n",
              "      <td>2</td>\n",
              "    </tr>\n",
              "    <tr>\n",
              "      <th>682</th>\n",
              "      <td>Sat Nov 25 15-25-58.jpg</td>\n",
              "      <td>/content/chip_data/crack, scratch, stamp/Sat N...</td>\n",
              "      <td>crack, scratch, stamp</td>\n",
              "      <td>1</td>\n",
              "    </tr>\n",
              "    <tr>\n",
              "      <th>683</th>\n",
              "      <td>Sat Nov 25 15-38-40.jpg</td>\n",
              "      <td>/content/chip_data/particle/Sat Nov 25 15-38-4...</td>\n",
              "      <td>particle</td>\n",
              "      <td>2</td>\n",
              "    </tr>\n",
              "  </tbody>\n",
              "</table>\n",
              "<p>684 rows × 4 columns</p>\n",
              "</div>\n",
              "    <div class=\"colab-df-buttons\">\n",
              "\n",
              "  <div class=\"colab-df-container\">\n",
              "    <button class=\"colab-df-convert\" onclick=\"convertToInteractive('df-9c4101c5-c02e-4fa6-bfc5-7b767b0e2e3d')\"\n",
              "            title=\"Convert this dataframe to an interactive table.\"\n",
              "            style=\"display:none;\">\n",
              "\n",
              "  <svg xmlns=\"http://www.w3.org/2000/svg\" height=\"24px\" viewBox=\"0 -960 960 960\">\n",
              "    <path d=\"M120-120v-720h720v720H120Zm60-500h600v-160H180v160Zm220 220h160v-160H400v160Zm0 220h160v-160H400v160ZM180-400h160v-160H180v160Zm440 0h160v-160H620v160ZM180-180h160v-160H180v160Zm440 0h160v-160H620v160Z\"/>\n",
              "  </svg>\n",
              "    </button>\n",
              "\n",
              "  <style>\n",
              "    .colab-df-container {\n",
              "      display:flex;\n",
              "      gap: 12px;\n",
              "    }\n",
              "\n",
              "    .colab-df-convert {\n",
              "      background-color: #E8F0FE;\n",
              "      border: none;\n",
              "      border-radius: 50%;\n",
              "      cursor: pointer;\n",
              "      display: none;\n",
              "      fill: #1967D2;\n",
              "      height: 32px;\n",
              "      padding: 0 0 0 0;\n",
              "      width: 32px;\n",
              "    }\n",
              "\n",
              "    .colab-df-convert:hover {\n",
              "      background-color: #E2EBFA;\n",
              "      box-shadow: 0px 1px 2px rgba(60, 64, 67, 0.3), 0px 1px 3px 1px rgba(60, 64, 67, 0.15);\n",
              "      fill: #174EA6;\n",
              "    }\n",
              "\n",
              "    .colab-df-buttons div {\n",
              "      margin-bottom: 4px;\n",
              "    }\n",
              "\n",
              "    [theme=dark] .colab-df-convert {\n",
              "      background-color: #3B4455;\n",
              "      fill: #D2E3FC;\n",
              "    }\n",
              "\n",
              "    [theme=dark] .colab-df-convert:hover {\n",
              "      background-color: #434B5C;\n",
              "      box-shadow: 0px 1px 3px 1px rgba(0, 0, 0, 0.15);\n",
              "      filter: drop-shadow(0px 1px 2px rgba(0, 0, 0, 0.3));\n",
              "      fill: #FFFFFF;\n",
              "    }\n",
              "  </style>\n",
              "\n",
              "    <script>\n",
              "      const buttonEl =\n",
              "        document.querySelector('#df-9c4101c5-c02e-4fa6-bfc5-7b767b0e2e3d button.colab-df-convert');\n",
              "      buttonEl.style.display =\n",
              "        google.colab.kernel.accessAllowed ? 'block' : 'none';\n",
              "\n",
              "      async function convertToInteractive(key) {\n",
              "        const element = document.querySelector('#df-9c4101c5-c02e-4fa6-bfc5-7b767b0e2e3d');\n",
              "        const dataTable =\n",
              "          await google.colab.kernel.invokeFunction('convertToInteractive',\n",
              "                                                    [key], {});\n",
              "        if (!dataTable) return;\n",
              "\n",
              "        const docLinkHtml = 'Like what you see? Visit the ' +\n",
              "          '<a target=\"_blank\" href=https://colab.research.google.com/notebooks/data_table.ipynb>data table notebook</a>'\n",
              "          + ' to learn more about interactive tables.';\n",
              "        element.innerHTML = '';\n",
              "        dataTable['output_type'] = 'display_data';\n",
              "        await google.colab.output.renderOutput(dataTable, element);\n",
              "        const docLink = document.createElement('div');\n",
              "        docLink.innerHTML = docLinkHtml;\n",
              "        element.appendChild(docLink);\n",
              "      }\n",
              "    </script>\n",
              "  </div>\n",
              "\n",
              "\n",
              "<div id=\"df-75cdd65c-a532-4da9-864f-8be97cdf0fbf\">\n",
              "  <button class=\"colab-df-quickchart\" onclick=\"quickchart('df-75cdd65c-a532-4da9-864f-8be97cdf0fbf')\"\n",
              "            title=\"Suggest charts\"\n",
              "            style=\"display:none;\">\n",
              "\n",
              "<svg xmlns=\"http://www.w3.org/2000/svg\" height=\"24px\"viewBox=\"0 0 24 24\"\n",
              "     width=\"24px\">\n",
              "    <g>\n",
              "        <path d=\"M19 3H5c-1.1 0-2 .9-2 2v14c0 1.1.9 2 2 2h14c1.1 0 2-.9 2-2V5c0-1.1-.9-2-2-2zM9 17H7v-7h2v7zm4 0h-2V7h2v10zm4 0h-2v-4h2v4z\"/>\n",
              "    </g>\n",
              "</svg>\n",
              "  </button>\n",
              "\n",
              "<style>\n",
              "  .colab-df-quickchart {\n",
              "      --bg-color: #E8F0FE;\n",
              "      --fill-color: #1967D2;\n",
              "      --hover-bg-color: #E2EBFA;\n",
              "      --hover-fill-color: #174EA6;\n",
              "      --disabled-fill-color: #AAA;\n",
              "      --disabled-bg-color: #DDD;\n",
              "  }\n",
              "\n",
              "  [theme=dark] .colab-df-quickchart {\n",
              "      --bg-color: #3B4455;\n",
              "      --fill-color: #D2E3FC;\n",
              "      --hover-bg-color: #434B5C;\n",
              "      --hover-fill-color: #FFFFFF;\n",
              "      --disabled-bg-color: #3B4455;\n",
              "      --disabled-fill-color: #666;\n",
              "  }\n",
              "\n",
              "  .colab-df-quickchart {\n",
              "    background-color: var(--bg-color);\n",
              "    border: none;\n",
              "    border-radius: 50%;\n",
              "    cursor: pointer;\n",
              "    display: none;\n",
              "    fill: var(--fill-color);\n",
              "    height: 32px;\n",
              "    padding: 0;\n",
              "    width: 32px;\n",
              "  }\n",
              "\n",
              "  .colab-df-quickchart:hover {\n",
              "    background-color: var(--hover-bg-color);\n",
              "    box-shadow: 0 1px 2px rgba(60, 64, 67, 0.3), 0 1px 3px 1px rgba(60, 64, 67, 0.15);\n",
              "    fill: var(--button-hover-fill-color);\n",
              "  }\n",
              "\n",
              "  .colab-df-quickchart-complete:disabled,\n",
              "  .colab-df-quickchart-complete:disabled:hover {\n",
              "    background-color: var(--disabled-bg-color);\n",
              "    fill: var(--disabled-fill-color);\n",
              "    box-shadow: none;\n",
              "  }\n",
              "\n",
              "  .colab-df-spinner {\n",
              "    border: 2px solid var(--fill-color);\n",
              "    border-color: transparent;\n",
              "    border-bottom-color: var(--fill-color);\n",
              "    animation:\n",
              "      spin 1s steps(1) infinite;\n",
              "  }\n",
              "\n",
              "  @keyframes spin {\n",
              "    0% {\n",
              "      border-color: transparent;\n",
              "      border-bottom-color: var(--fill-color);\n",
              "      border-left-color: var(--fill-color);\n",
              "    }\n",
              "    20% {\n",
              "      border-color: transparent;\n",
              "      border-left-color: var(--fill-color);\n",
              "      border-top-color: var(--fill-color);\n",
              "    }\n",
              "    30% {\n",
              "      border-color: transparent;\n",
              "      border-left-color: var(--fill-color);\n",
              "      border-top-color: var(--fill-color);\n",
              "      border-right-color: var(--fill-color);\n",
              "    }\n",
              "    40% {\n",
              "      border-color: transparent;\n",
              "      border-right-color: var(--fill-color);\n",
              "      border-top-color: var(--fill-color);\n",
              "    }\n",
              "    60% {\n",
              "      border-color: transparent;\n",
              "      border-right-color: var(--fill-color);\n",
              "    }\n",
              "    80% {\n",
              "      border-color: transparent;\n",
              "      border-right-color: var(--fill-color);\n",
              "      border-bottom-color: var(--fill-color);\n",
              "    }\n",
              "    90% {\n",
              "      border-color: transparent;\n",
              "      border-bottom-color: var(--fill-color);\n",
              "    }\n",
              "  }\n",
              "</style>\n",
              "\n",
              "  <script>\n",
              "    async function quickchart(key) {\n",
              "      const quickchartButtonEl =\n",
              "        document.querySelector('#' + key + ' button');\n",
              "      quickchartButtonEl.disabled = true;  // To prevent multiple clicks.\n",
              "      quickchartButtonEl.classList.add('colab-df-spinner');\n",
              "      try {\n",
              "        const charts = await google.colab.kernel.invokeFunction(\n",
              "            'suggestCharts', [key], {});\n",
              "      } catch (error) {\n",
              "        console.error('Error during call to suggestCharts:', error);\n",
              "      }\n",
              "      quickchartButtonEl.classList.remove('colab-df-spinner');\n",
              "      quickchartButtonEl.classList.add('colab-df-quickchart-complete');\n",
              "    }\n",
              "    (() => {\n",
              "      let quickchartButtonEl =\n",
              "        document.querySelector('#df-75cdd65c-a532-4da9-864f-8be97cdf0fbf button');\n",
              "      quickchartButtonEl.style.display =\n",
              "        google.colab.kernel.accessAllowed ? 'block' : 'none';\n",
              "    })();\n",
              "  </script>\n",
              "</div>\n",
              "    </div>\n",
              "  </div>\n"
            ]
          },
          "metadata": {},
          "execution_count": 10
        }
      ]
    },
    {
      "cell_type": "markdown",
      "source": [
        "# Custom데이터를 활용하기 위한 Dataset을 선언\n",
        "- pytorch의 `dataloader`를 이용하기 위해서는 `torch.utils.data.Dataset` 클래스를 상속한 클래스의 선언이 필요하다.\n",
        "- 클래스 내에 `__init__`, `__getitem__`, `__len__`의 3개의 메소드를 선언하여 오버라이드한다."
      ],
      "metadata": {
        "id": "i837jqmdjrGV"
      }
    },
    {
      "cell_type": "code",
      "source": [
        "import cv2\n",
        "import torch\n",
        "from torch.utils.data import Dataset\n",
        "\n",
        "class semiconductorDataset(Dataset): # inheritin from Dataset class\n",
        "\n",
        "    def __init__(self, csv_file, root_dir=\"\", transform=None):\n",
        "        self.annotation_df = pd.read_csv(csv_file)\n",
        "        self.root_dir = root_dir # root directory of images, leave \"\" if using the image path column in the __getitem__ method\n",
        "        self.transform = transform\n",
        "\n",
        "    def __len__(self):\n",
        "        return len(self.annotation_df) # return length (numer of rows) of the dataframe\n",
        "\n",
        "    ############ 실습 : annotation_df에 있는 이미지를 읽어 들어서, 변경한후\n",
        "    ############        읽어 들인 값을 return 하는 함수를 작성한다.\n",
        "    def __getitem__(self, idx):\n",
        "\n",
        "        ##### Image 읽기\n",
        "        image_path = os.path.join(self.root_dir, self.annotation_df.iloc[idx, 1]) #use image path column (index = 1) in csv file\n",
        "        image = cv2.imread(image_path) # read image by cv2\n",
        "        #### 이미지를 Channel순서를 변경\n",
        "        image = cv2.cvtColor(image, cv2.COLOR_BGR2RGB) # convert from BGR to RGB for matplotlib\n",
        "        #### 이미지 Transform\n",
        "        if self.transform:\n",
        "            image = self.transform(image)\n",
        "\n",
        "        #### 이미지에 대한 추가 정보 확인\n",
        "        class_name = self.annotation_df.iloc[idx, 2] # use class name column (index = 2) in csv file\n",
        "        class_index = self.annotation_df.iloc[idx, 3] # use class index column (index = 3) in csv file\n",
        "\n",
        "        return image, class_name, class_index"
      ],
      "metadata": {
        "id": "qOUmcMyjYn-W"
      },
      "execution_count": null,
      "outputs": []
    },
    {
      "cell_type": "code",
      "source": [
        "# https://pytorch.org/vision/stable/auto_examples/plot_transforms.html#sphx-glr-auto-examples-plot-transforms-py\n",
        "from torchvision import transforms\n",
        "import matplotlib.pyplot as plt\n",
        "import random\n",
        "\n",
        "transform = transforms.Compose([\n",
        "    transforms.ToTensor(), # PIL Image를 Tensor로 변경\n",
        "    transforms.Resize((100,100), antialias=True), # 크기 변경\n",
        "    transforms.Normalize(mean=(0.485, 0.456, 0.406), std=(0.229, 0.224, 0.225)), # Normalize\n",
        "    transforms.RandomAdjustSharpness(sharpness_factor=2), # randomly adjusts the sharpness\n",
        "    transforms.RandomAutocontrast() # 임의로 Contrast변경\n",
        "])\n",
        "\n",
        "transform_test = transforms.Compose([\n",
        "    transforms.ToTensor(), # PIL Image를 Tensor로 변경\n",
        "    transforms.Resize((100,100), antialias=True), # 크기 변경\n",
        "    transforms.Normalize(mean=(0.485, 0.456, 0.406), std=(0.229, 0.224, 0.225)), # Normalize\n",
        "])\n",
        "\n",
        "##### 실습 : train_dataset 선언\n",
        "##### 실습 : test_dataset 선언\n",
        "train_dataset = semiconductorDataset(csv_file='train.csv', root_dir=\"\", transform=transform)\n",
        "test_dataset = semiconductorDataset(csv_file='test.csv', root_dir=\"\", transform=transform_test)"
      ],
      "metadata": {
        "id": "aH1Zej7hLxxR"
      },
      "execution_count": null,
      "outputs": []
    },
    {
      "cell_type": "markdown",
      "source": [
        "# Batch 단위 학습을 위한 DataLoader 선언\n",
        " - Dataset내부의 샘플들을 batch 크기로 추출\n",
        " - Batch Size는 1step에 들어간 데이터의 개수\n",
        " - Epoch 마다 데이터를 섞어(Shuffle) Overfitting을 방지\n",
        " - 병렬처리를 지원하여 데이터 검색 속도를 향상\n"
      ],
      "metadata": {
        "id": "m5pV5UK4kBiR"
      }
    },
    {
      "cell_type": "code",
      "source": [
        "#### 실습 : torch.utils.DataLoader를 이용하여 데이터를 load. Batch 크기를 10으로 한다.\n",
        "train_dataloader = torch.utils.data.DataLoader(train_dataset,batch_size=10, shuffle=True, num_workers=2)\n",
        "\n",
        "for i, data in enumerate(train_dataloader):\n",
        "  images, class_name, labels = data\n",
        "  print(images.shape, labels.shape)\n",
        "\n",
        "  # 5번만 데이터를 load하고 멈춘다\n",
        "  if i > 3:\n",
        "    break"
      ],
      "metadata": {
        "id": "bCTnlT1pRpSS",
        "colab": {
          "base_uri": "https://localhost:8080/"
        },
        "outputId": "2bfee983-1431-4230-86f8-abbd09493c27"
      },
      "execution_count": null,
      "outputs": [
        {
          "output_type": "stream",
          "name": "stdout",
          "text": [
            "torch.Size([10, 3, 100, 100]) torch.Size([10])\n",
            "torch.Size([10, 3, 100, 100]) torch.Size([10])\n",
            "torch.Size([10, 3, 100, 100]) torch.Size([10])\n",
            "torch.Size([10, 3, 100, 100]) torch.Size([10])\n",
            "torch.Size([10, 3, 100, 100]) torch.Size([10])\n"
          ]
        }
      ]
    },
    {
      "cell_type": "markdown",
      "source": [
        "# Pretrained 모델을 활용한다"
      ],
      "metadata": {
        "id": "WhDfo_bXniHr"
      }
    },
    {
      "cell_type": "code",
      "source": [
        "from torchvision import models\n",
        "import torch\n",
        "\n",
        "vgg16_pretrained = models.vgg16(weights='VGG16_Weights.IMAGENET1K_V1')\n",
        "\n",
        "# 최종 결과가 1000개로 나온다. 우리의 데이터는 11개의 class로 변경해야 한다.\n",
        "print(vgg16_pretrained.classifier)\n",
        "print(vgg16_pretrained.classifier[-1])\n",
        "vgg16_pretrained.classifier[3] = nn.Linear(in_features=4096, out_features=1000, bias=True)\n",
        "vgg16_pretrained.classifier[6] = nn.Linear(in_features=1000, out_features=11, bias=True)"
      ],
      "metadata": {
        "id": "QY8Iolz6gvHn",
        "colab": {
          "base_uri": "https://localhost:8080/"
        },
        "outputId": "7c865d05-f564-4fc2-d75d-0bc1ae9d9aee"
      },
      "execution_count": null,
      "outputs": [
        {
          "output_type": "stream",
          "name": "stdout",
          "text": [
            "Sequential(\n",
            "  (0): Linear(in_features=25088, out_features=4096, bias=True)\n",
            "  (1): ReLU(inplace=True)\n",
            "  (2): Dropout(p=0.5, inplace=False)\n",
            "  (3): Linear(in_features=4096, out_features=4096, bias=True)\n",
            "  (4): ReLU(inplace=True)\n",
            "  (5): Dropout(p=0.5, inplace=False)\n",
            "  (6): Linear(in_features=4096, out_features=1000, bias=True)\n",
            ")\n",
            "Linear(in_features=4096, out_features=1000, bias=True)\n"
          ]
        }
      ]
    },
    {
      "cell_type": "code",
      "source": [
        "# 일부 layer frozon  하기\n",
        "for name, params in vgg16_pretrained.named_parameters():\n",
        "  # print(name, params.requires_grad)\n",
        "\n",
        "  if 'features' in name:\n",
        "    idx = int(name.split(\".\")[1])\n",
        "    if idx <= 5:\n",
        "      params.requires_grad = False"
      ],
      "metadata": {
        "id": "-X9FUXvSBGhG"
      },
      "execution_count": null,
      "outputs": []
    },
    {
      "cell_type": "code",
      "source": [
        "def train(model, data_loader, criterion, optimizer, n_epoch):\n",
        "\n",
        "  model.train() #\n",
        "  for epoch in range(n_epoch):\n",
        "    running_loss = 0\n",
        "    ### 실습 : Custom dataloader 에서 값을 가져온다\n",
        "    for i, (images, _, labels) in enumerate(data_loader):\n",
        "\n",
        "\n",
        "      images, labels = images.cuda(), labels.cuda()\n",
        "      outputs = model(images)\n",
        "      loss = criterion(outputs, labels)\n",
        "\n",
        "      optimizer.zero_grad()\n",
        "      loss.backward()\n",
        "      optimizer.step()\n",
        "      running_loss += loss.item()\n",
        "      if (i + 1) % 100 == 0:\n",
        "        print('iteration: [{}/{}]'.format(i + 1, len(data_loader)))\n",
        "\n",
        "    print('Epoch {}, loss = {:.3f}'.format(epoch + 1, running_loss/len(data_loader)))"
      ],
      "metadata": {
        "id": "yHya_ZR3vj0I"
      },
      "execution_count": null,
      "outputs": []
    },
    {
      "cell_type": "code",
      "source": [
        "def eval(model, data_loader):\n",
        "  #### 실습 : 평가를 위해서는 eval()을 선언\n",
        "  model.eval()\n",
        "  total = 0\n",
        "  correct = 0\n",
        "\n",
        "  preds = []\n",
        "  trues = []\n",
        "  #### 실습 : Gradient를 타지 않아야 한다\n",
        "  with torch.no_grad():\n",
        "    for images, _, labels in data_loader:\n",
        "      images, labels = images.cuda(), labels.cuda()\n",
        "      outputs = model(images)\n",
        "      _, predicted = torch.max(outputs, 1)\n",
        "      total += labels.size(0)\n",
        "      correct += (predicted == labels).sum().item()\n",
        "      preds.append(predicted.detach().cpu().numpy())\n",
        "      trues.append(labels.detach().cpu().numpy())\n",
        "\n",
        "    accuracy = 100 * correct / total\n",
        "\n",
        "  print('Test Accuracy: {}%'.format(accuracy))\n",
        "  return preds, trues\n"
      ],
      "metadata": {
        "id": "Reds16kIjVDW"
      },
      "execution_count": null,
      "outputs": []
    },
    {
      "cell_type": "code",
      "source": [
        "import numpy as np\n",
        "def reset_seed(seed):\n",
        "    torch.manual_seed(seed)\n",
        "    np.random.seed(seed)\n",
        "    random.seed(seed)"
      ],
      "metadata": {
        "id": "RLI00mauwDyZ"
      },
      "execution_count": null,
      "outputs": []
    },
    {
      "cell_type": "code",
      "source": [
        "reset_seed(2020)\n",
        "criterion = nn.CrossEntropyLoss()\n",
        "vgg16 = vgg16_pretrained.to(\"cuda\")\n",
        "optimizer = optim.Adam(params=vgg16.parameters(), lr=0.00003)\n",
        "\n",
        "train(vgg16, train_dataloader, criterion, optimizer, n_epoch=10)"
      ],
      "metadata": {
        "id": "t85o-4CZve4T",
        "colab": {
          "base_uri": "https://localhost:8080/"
        },
        "outputId": "c767d0db-5af1-486e-e2bf-3208b60e96d9"
      },
      "execution_count": null,
      "outputs": [
        {
          "output_type": "stream",
          "name": "stdout",
          "text": [
            "Epoch 1, loss = 1.308\n",
            "Epoch 2, loss = 0.606\n",
            "Epoch 3, loss = 0.443\n",
            "Epoch 4, loss = 0.324\n",
            "Epoch 5, loss = 0.264\n",
            "Epoch 6, loss = 0.263\n",
            "Epoch 7, loss = 0.202\n",
            "Epoch 8, loss = 0.210\n",
            "Epoch 9, loss = 0.177\n",
            "Epoch 10, loss = 0.183\n"
          ]
        }
      ]
    },
    {
      "cell_type": "markdown",
      "source": [
        "# 정확도를 평가해 봅시다"
      ],
      "metadata": {
        "id": "8d4AUYGHJzQ6"
      }
    },
    {
      "cell_type": "code",
      "source": [
        "#### 실습 : torch.utils.DataLoader를 이용하여 데이터를 load. Batch 크기를 10으로 한다.\n",
        "test_dataloader = torch.utils.data.DataLoader(test_dataset,batch_size=10, shuffle=False, num_workers=2, drop_last=True)\n",
        "\n",
        "for i, data in enumerate(test_dataloader):\n",
        "  images, class_name, labels = data\n",
        "  print(images.shape, labels.shape)\n",
        "\n",
        "  # 5번만 데이터를 load하고 멈춘다\n",
        "  if i > 1:\n",
        "    break"
      ],
      "metadata": {
        "id": "-I7-XyhWhgzI",
        "colab": {
          "base_uri": "https://localhost:8080/"
        },
        "outputId": "810f0d54-6a8c-463a-b240-e961f6544ca2"
      },
      "execution_count": null,
      "outputs": [
        {
          "output_type": "stream",
          "name": "stdout",
          "text": [
            "torch.Size([10, 3, 100, 100]) torch.Size([10])\n",
            "torch.Size([10, 3, 100, 100]) torch.Size([10])\n",
            "torch.Size([10, 3, 100, 100]) torch.Size([10])\n"
          ]
        }
      ]
    },
    {
      "cell_type": "code",
      "source": [
        "preds_r, trues_r = eval(vgg16, train_dataloader)"
      ],
      "metadata": {
        "id": "sOZgeQXPi49W",
        "colab": {
          "base_uri": "https://localhost:8080/"
        },
        "outputId": "7069c18b-85cd-48ca-99e4-dd9020c1c6b7"
      },
      "execution_count": null,
      "outputs": [
        {
          "output_type": "stream",
          "name": "stdout",
          "text": [
            "Test Accuracy: 94.15204678362574%\n"
          ]
        }
      ]
    },
    {
      "cell_type": "code",
      "source": [
        "preds, trues = eval(vgg16, test_dataloader)"
      ],
      "metadata": {
        "id": "cdj0G1XrrBkv",
        "colab": {
          "base_uri": "https://localhost:8080/"
        },
        "outputId": "b36837f2-5f2d-462d-b9a8-4908e6ebec54"
      },
      "execution_count": null,
      "outputs": [
        {
          "output_type": "stream",
          "name": "stdout",
          "text": [
            "Test Accuracy: 87.6470588235294%\n"
          ]
        }
      ]
    },
    {
      "cell_type": "code",
      "source": [
        "prediction_label = np.stack(preds).flatten()\n",
        "test_labels = np.stack(trues).flatten()\n",
        "prediction_label, test_labels"
      ],
      "metadata": {
        "id": "xQVX4HIMjyZa",
        "colab": {
          "base_uri": "https://localhost:8080/"
        },
        "outputId": "ffa817aa-a653-4a6f-a821-75c37e689fdd"
      },
      "execution_count": null,
      "outputs": [
        {
          "output_type": "execute_result",
          "data": {
            "text/plain": [
              "(array([3, 3, 0, 1, 0, 0, 1, 0, 0, 1, 0, 0, 1, 0, 0, 2, 0, 2, 0, 2, 0, 3,\n",
              "        2, 4, 0, 0, 0, 3, 0, 0, 1, 4, 0, 0, 0, 2, 2, 4, 1, 1, 0, 0, 0, 0,\n",
              "        3, 0, 0, 0, 1, 0, 3, 0, 4, 2, 3, 1, 2, 0, 1, 4, 0, 0, 0, 3, 3, 4,\n",
              "        2, 4, 0, 0, 0, 0, 0, 0, 1, 3, 1, 3, 0, 0, 2, 1, 0, 4, 2, 0, 0, 1,\n",
              "        0, 0, 1, 0, 0, 2, 1, 4, 0, 3, 4, 0, 0, 0, 0, 0, 4, 2, 4, 0, 0, 1,\n",
              "        0, 1, 0, 4, 0, 0, 0, 0, 3, 1, 0, 0, 4, 4, 3, 0, 4, 0, 1, 0, 4, 0,\n",
              "        3, 0, 0, 3, 0, 0, 3, 2, 0, 0, 2, 3, 0, 0, 0, 0, 0, 3, 0, 4, 0, 1,\n",
              "        0, 1, 1, 3, 0, 0, 0, 0, 2, 0, 0, 0, 3, 0, 0, 4]),\n",
              " array([0, 0, 0, 1, 0, 0, 1, 3, 0, 1, 0, 0, 1, 0, 0, 2, 0, 2, 0, 2, 2, 3,\n",
              "        2, 4, 0, 0, 0, 3, 0, 0, 1, 4, 1, 0, 0, 2, 2, 4, 1, 1, 0, 0, 1, 0,\n",
              "        3, 0, 0, 0, 1, 0, 3, 0, 4, 2, 0, 0, 2, 0, 0, 4, 0, 0, 0, 3, 3, 4,\n",
              "        2, 4, 0, 0, 0, 0, 3, 0, 1, 0, 1, 0, 0, 0, 2, 0, 0, 4, 2, 0, 0, 1,\n",
              "        0, 0, 1, 0, 0, 2, 1, 4, 0, 3, 4, 0, 0, 1, 0, 0, 4, 2, 4, 0, 0, 1,\n",
              "        0, 1, 0, 4, 0, 0, 0, 0, 0, 1, 0, 0, 4, 4, 3, 0, 4, 0, 1, 1, 4, 0,\n",
              "        3, 1, 0, 0, 0, 0, 0, 2, 0, 0, 2, 3, 0, 0, 0, 0, 0, 3, 0, 4, 0, 1,\n",
              "        0, 1, 1, 3, 0, 0, 0, 2, 2, 0, 4, 0, 3, 0, 0, 4]))"
            ]
          },
          "metadata": {},
          "execution_count": 30
        }
      ]
    },
    {
      "cell_type": "code",
      "source": [
        "from sklearn.metrics import classification_report\n",
        "print(classification_report(test_labels, prediction_label))"
      ],
      "metadata": {
        "id": "ZWlrVMQQkICA",
        "colab": {
          "base_uri": "https://localhost:8080/"
        },
        "outputId": "7222463f-1b90-43f8-e823-5df94018efbc"
      },
      "execution_count": null,
      "outputs": [
        {
          "output_type": "stream",
          "name": "stdout",
          "text": [
            "              precision    recall  f1-score   support\n",
            "\n",
            "           0       0.89      0.88      0.89        92\n",
            "           1       0.87      0.80      0.83        25\n",
            "           2       1.00      0.89      0.94        18\n",
            "           3       0.62      0.87      0.72        15\n",
            "           4       1.00      0.95      0.97        20\n",
            "\n",
            "    accuracy                           0.88       170\n",
            "   macro avg       0.88      0.88      0.87       170\n",
            "weighted avg       0.89      0.88      0.88       170\n",
            "\n"
          ]
        }
      ]
    },
    {
      "cell_type": "code",
      "source": [],
      "metadata": {
        "id": "_J0MGu8TqYYT"
      },
      "execution_count": null,
      "outputs": []
    }
  ]
}