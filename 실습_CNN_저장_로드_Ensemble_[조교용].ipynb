{
  "nbformat": 4,
  "nbformat_minor": 0,
  "metadata": {
    "colab": {
      "provenance": [],
      "include_colab_link": true
    },
    "kernelspec": {
      "name": "python3",
      "display_name": "Python 3"
    },
    "language_info": {
      "name": "python"
    },
    "accelerator": "GPU",
    "gpuClass": "standard"
  },
  "cells": [
    {
      "cell_type": "markdown",
      "metadata": {
        "id": "view-in-github",
        "colab_type": "text"
      },
      "source": [
        "<a href=\"https://colab.research.google.com/github/chminPark/ml-python/blob/master/%EC%8B%A4%EC%8A%B5_CNN_%EC%A0%80%EC%9E%A5_%EB%A1%9C%EB%93%9C_Ensemble_%5B%EC%A1%B0%EA%B5%90%EC%9A%A9%5D.ipynb\" target=\"_parent\"><img src=\"https://colab.research.google.com/assets/colab-badge.svg\" alt=\"Open In Colab\"/></a>"
      ]
    },
    {
      "cell_type": "code",
      "source": [
        "from __future__ import print_function\n",
        "\n",
        "import torch\n",
        "import torch.nn as nn\n",
        "import torch.nn.functional as F\n",
        "import torch.optim as optim\n",
        "\n",
        "from PIL import Image\n",
        "import matplotlib.pyplot as plt\n",
        "\n",
        "import torchvision\n",
        "import torchvision.transforms as transforms\n",
        "import torchvision.models as models\n",
        "\n",
        "import copy\n",
        "import os\n",
        "import numpy as np\n",
        "import random\n",
        "import time\n",
        "import os\n",
        "\n",
        "torch.backends.cudnn.deterministic = True # Use cudnn as deterministic mode for reproducibility\n",
        "torch.backends.cudnn.benchmark = False"
      ],
      "metadata": {
        "id": "0-inzXqxlwJH"
      },
      "execution_count": null,
      "outputs": []
    },
    {
      "cell_type": "code",
      "source": [
        "!gdown --id 1nOUWByW6ifnd_P-Jgd4mbNkAT-jGzpWC\n",
        "!mkdir 'semicon'\n",
        "!unzip -q semiconductor_dataset.zip -d semicon\n",
        "!rm semiconductor_dataset.zip"
      ],
      "metadata": {
        "colab": {
          "base_uri": "https://localhost:8080/"
        },
        "id": "fvM0McnQ8Mx8",
        "outputId": "44081f3e-66ec-46a0-805c-6ce7298e332d"
      },
      "execution_count": null,
      "outputs": [
        {
          "output_type": "stream",
          "name": "stdout",
          "text": [
            "/usr/local/lib/python3.8/dist-packages/gdown/cli.py:127: FutureWarning: Option `--id` was deprecated in version 4.3.1 and will be removed in 5.0. You don't need to pass it anymore to use a file ID.\n",
            "  warnings.warn(\n",
            "Downloading...\n",
            "From: https://drive.google.com/uc?id=1nOUWByW6ifnd_P-Jgd4mbNkAT-jGzpWC\n",
            "To: /content/semiconductor_dataset.zip\n",
            "100% 10.3M/10.3M [00:00<00:00, 187MB/s]\n"
          ]
        }
      ]
    },
    {
      "cell_type": "code",
      "source": [
        "import csv\n",
        "import os\n",
        "import pandas as pd\n",
        "\"\"\"\n",
        "Args:\n",
        "  directory_string: 이미지가 저장되어 있는 폴더 Path\n",
        "  output_csv_name: csv 파일 이름\n",
        "Returns:\n",
        "  csv file\n",
        "\"\"\"\n",
        "def build_csv(directory_string, output_csv_name):\n",
        "\n",
        "    directory = directory_string\n",
        "    class_list = os.listdir(directory)\n",
        "    class_list.sort()\n",
        "\n",
        "\n",
        "    with open(output_csv_name, 'w', newline='') as csvfile:\n",
        "\n",
        "        ### 실습 : CSV 파일 Object 생성\n",
        "        writer = csv.writer(csvfile, delimiter=',')\n",
        "        ############################################\n",
        "        writer.writerow(['file_name', 'file_path', 'class_name', 'class_index']) # CSV의 column 이름을 지정\n",
        "\n",
        "        ###### 각 folder에 들어가서 각 이미지의 이름을 가져옴\n",
        "        for class_name in class_list:\n",
        "          class_path = os.path.join(directory, class_name)\n",
        "          file_list = os.listdir(class_path) # 해당 파일 내부의 이미지를 확보\n",
        "          for file_name in file_list:\n",
        "              file_path = os.path.join(directory, class_name, file_name) #concatenate class folder dir, class name and file name\n",
        "              writer.writerow([file_name, file_path, class_name, class_name.split(\"_\")[1]]) #write the file path and class name to the csv file\n",
        "        #############################\n",
        "\n",
        "    return\n",
        "\n",
        "train_folder = os.path.join(os.getcwd(), 'semicon')\n",
        "build_csv(train_folder, 'train.csv')\n",
        "train_df = pd.read_csv('train.csv')\n"
      ],
      "metadata": {
        "id": "5dXEooJlWsRV"
      },
      "execution_count": null,
      "outputs": []
    },
    {
      "cell_type": "markdown",
      "source": [
        "# Custom데이터를 활용하기 위한 Dataset을 선언\n",
        "- pytorch의 `dataloader`를 이용하기 위해서는 `torch.utils.data.Dataset` 클래스를 상속한 클래스의 선언이 필요하다.\n",
        "- 클래스 내에 `__init__`, `__getitem__`, `__len__`의 3개의 메소드를 선언하여 오버라이드한다."
      ],
      "metadata": {
        "id": "i837jqmdjrGV"
      }
    },
    {
      "cell_type": "code",
      "source": [
        "import cv2\n",
        "import torch\n",
        "from torch.utils.data import Dataset\n",
        "\n",
        "class semiconductorDataset(Dataset): # inheritin from Dataset class\n",
        "\n",
        "    def __init__(self, csv_file, root_dir=\"\", transform=None):\n",
        "        self.annotation_df = pd.read_csv(csv_file)\n",
        "        self.root_dir = root_dir # root directory of images, leave \"\" if using the image path column in the __getitem__ method\n",
        "        self.transform = transform\n",
        "\n",
        "    def __len__(self):\n",
        "        return len(self.annotation_df) # return length (numer of rows) of the dataframe\n",
        "\n",
        "    ############ 실습 : annotation_df에 있는 이미지를 읽어 들어서, 변경한후\n",
        "    ############        읽어 들인 값을 return 하는 함수를 작성한다.\n",
        "    def __getitem__(self, idx):\n",
        "\n",
        "        ##### Image 읽기\n",
        "        image_path = os.path.join(self.root_dir, self.annotation_df.iloc[idx, 1]) #use image path column (index = 1) in csv file\n",
        "        image = cv2.imread(image_path) # read image by cv2\n",
        "        #### 이미지를 Channel순서를 변경\n",
        "        image = cv2.cvtColor(image, cv2.COLOR_BGR2RGB) # convert from BGR to RGB for matplotlib\n",
        "        #### 이미지 Transform\n",
        "        if self.transform:\n",
        "            image = self.transform(image)\n",
        "\n",
        "        #### 이미지에 대한 추가 정보 확인\n",
        "        class_name = self.annotation_df.iloc[idx, 2] # use class name column (index = 2) in csv file\n",
        "        class_index = self.annotation_df.iloc[idx, 3] # use class index column (index = 3) in csv file\n",
        "\n",
        "        return image, class_name, class_index"
      ],
      "metadata": {
        "id": "qOUmcMyjYn-W"
      },
      "execution_count": null,
      "outputs": []
    },
    {
      "cell_type": "code",
      "source": [
        "# https://pytorch.org/vision/stable/auto_examples/plot_transforms.html#sphx-glr-auto-examples-plot-transforms-py\n",
        "from torchvision import transforms\n",
        "import matplotlib.pyplot as plt\n",
        "import random\n",
        "import pandas as pd\n",
        "\n",
        "\n",
        "transform = transforms.Compose([\n",
        "    transforms.ToTensor(), # PIL Image를 Tensor로 변경\n",
        "    transforms.Resize((256,256), antialias=True), # 크기 변경\n",
        "    transforms.Normalize(mean=(0.485, 0.456, 0.406), std=(0.229, 0.224, 0.225)), # Normalize\n",
        "    transforms.Grayscale(), # Gray Scale로 변경\n",
        "    transforms.RandomAdjustSharpness(sharpness_factor=2), # randomly adjusts the sharpness\n",
        "    transforms.RandomAutocontrast() # 임의로 Contrast변경\n",
        "])\n",
        "\n",
        "##### 실습 : train_dataset 선언\n",
        "train_dataset = semiconductorDataset(csv_file='train.csv', root_dir=\"\", transform=transform)"
      ],
      "metadata": {
        "id": "aH1Zej7hLxxR"
      },
      "execution_count": null,
      "outputs": []
    },
    {
      "cell_type": "code",
      "source": [
        "## 실습 : 전체 데이터를 한번에 가져오고, 이 결과를 기반으로 Report출력\n",
        "train_dataloader = torch.utils.data.DataLoader(train_dataset,\n",
        "                                               batch_size=len(train_dataset),\n",
        "                                               shuffle=False, num_workers=1)\n",
        "\n",
        "labels, predicted,images, names = None, None, None, None\n",
        "with torch.no_grad():\n",
        "  for images, names,  labels in train_dataloader:\n",
        "    continue\n",
        "\n",
        "### 입력 이미지를 numpy 로 변경\n",
        "print(images.shape)\n"
      ],
      "metadata": {
        "colab": {
          "base_uri": "https://localhost:8080/"
        },
        "id": "AFb55-aKMHz6",
        "outputId": "13f1c4f1-1917-4a40-f542-17cc1c93ac59"
      },
      "execution_count": null,
      "outputs": [
        {
          "output_type": "stream",
          "name": "stdout",
          "text": [
            "torch.Size([198, 1, 256, 256])\n"
          ]
        }
      ]
    },
    {
      "cell_type": "code",
      "source": [
        "images = images.squeeze()\n",
        "print(images.shape)\n",
        "\n",
        "images = images.view(images.shape[0], -1)\n",
        "images.shape"
      ],
      "metadata": {
        "colab": {
          "base_uri": "https://localhost:8080/"
        },
        "id": "xvWh4-xjMhHU",
        "outputId": "329a2ae8-088f-4400-a4b4-4b145917d432"
      },
      "execution_count": null,
      "outputs": [
        {
          "output_type": "stream",
          "name": "stdout",
          "text": [
            "torch.Size([198, 256, 256])\n"
          ]
        },
        {
          "output_type": "execute_result",
          "data": {
            "text/plain": [
              "torch.Size([198, 65536])"
            ]
          },
          "metadata": {},
          "execution_count": 6
        }
      ]
    },
    {
      "cell_type": "code",
      "source": [
        "# Image plotting function\n",
        "def img_plt(X_train, Y_train, n):\n",
        "  X_train_2d = X_train.reshape(X_train.shape[0], 256, 256)\n",
        "  fig, axes = plt.subplots(n, 10, figsize=(10,10))\n",
        "  for j in range(n):\n",
        "    for i in range(10):\n",
        "        ax = axes[j, i]\n",
        "        try:\n",
        "          ax.imshow(X_train_2d[Y_train==j][i], cmap='gray_r')\n",
        "          ax.axis('off')\n",
        "          if i == 0:\n",
        "            ax.set_title('Cluster: {}'.format(j))\n",
        "        except:\n",
        "          ax.axis('off')\n",
        "\n",
        "  plt.tight_layout()\n",
        "  plt.show()"
      ],
      "metadata": {
        "id": "ghCR7igHNMG1"
      },
      "execution_count": null,
      "outputs": []
    },
    {
      "cell_type": "code",
      "source": [
        "X_train = images.numpy()\n",
        "Y_train = labels.numpy().shape\n",
        "## Clustering\n",
        "from sklearn import cluster\n",
        "n = 3 # number of clusters\n",
        "model = cluster.KMeans(n_clusters=n, random_state=1) # 'Kmeans' from 'sklearn.cluster', 'n_cluster' default=2\n",
        "Y_train = model.fit_predict(X_train) # their clustering result using 'X_train_s' will be assigned to 'Y_train'\n"
      ],
      "metadata": {
        "id": "iil9qDpdMYux"
      },
      "execution_count": null,
      "outputs": []
    },
    {
      "cell_type": "code",
      "source": [
        "labels"
      ],
      "metadata": {
        "colab": {
          "base_uri": "https://localhost:8080/"
        },
        "id": "8SnV4h0tOPLj",
        "outputId": "4ddefd8c-12a5-4edc-a5c9-a0817228cf17"
      },
      "execution_count": null,
      "outputs": [
        {
          "output_type": "execute_result",
          "data": {
            "text/plain": [
              "tensor([ 1,  1,  1,  1,  1,  1,  1,  1,  1,  1,  1,  1,  1,  1,  1,  1,  1,  1,\n",
              "        10, 10, 10, 10, 10, 10, 10, 10, 10, 10, 10, 10, 10, 10, 10, 10, 10, 10,\n",
              "         2,  2,  2,  2,  2,  2,  2,  2,  2,  2,  2,  2,  2,  2,  2,  2,  2,  2,\n",
              "         2,  3,  3,  3,  3,  3,  3,  3,  3,  3,  3,  3,  3,  3,  3,  3,  3,  3,\n",
              "         4,  4,  4,  4,  4,  4,  4,  4,  4,  4,  4,  4,  4,  4,  4,  4,  4,  5,\n",
              "         5,  5,  5,  5,  5,  5,  5,  5,  5,  5,  5,  5,  5,  5,  5,  5,  5,  6,\n",
              "         6,  6,  6,  6,  6,  6,  6,  6,  6,  6,  6,  6,  6,  6,  6,  6,  6,  7,\n",
              "         7,  7,  7,  7,  7,  7,  7,  7,  7,  7,  7,  7,  7,  7,  7,  7,  7,  8,\n",
              "         8,  8,  8,  8,  8,  8,  8,  8,  8,  8,  8,  8,  8,  8,  8,  8,  8,  9,\n",
              "         9,  9,  9,  9,  9,  9,  9,  9,  9,  9,  9,  9,  9,  9,  9,  9,  9,  0,\n",
              "         0,  0,  0,  0,  0,  0,  0,  0,  0,  0,  0,  0,  0,  0,  0,  0,  0,  0])"
            ]
          },
          "metadata": {},
          "execution_count": 9
        }
      ]
    },
    {
      "cell_type": "code",
      "source": [
        "model.labels_"
      ],
      "metadata": {
        "colab": {
          "base_uri": "https://localhost:8080/"
        },
        "id": "3xEY_vy-OE8s",
        "outputId": "f16f4bae-ed98-4f68-c03e-9551375855ff"
      },
      "execution_count": null,
      "outputs": [
        {
          "output_type": "execute_result",
          "data": {
            "text/plain": [
              "array([2, 2, 1, 1, 1, 2, 1, 0, 1, 1, 2, 1, 0, 0, 2, 2, 0, 0, 2, 0, 1, 0,\n",
              "       2, 0, 2, 2, 2, 2, 2, 2, 0, 1, 0, 1, 0, 2, 2, 1, 0, 0, 1, 2, 2, 1,\n",
              "       2, 2, 2, 1, 0, 1, 2, 2, 0, 2, 2, 2, 2, 2, 2, 2, 2, 2, 2, 0, 1, 1,\n",
              "       2, 2, 1, 2, 2, 0, 2, 2, 2, 1, 2, 0, 2, 2, 2, 2, 2, 1, 1, 2, 2, 2,\n",
              "       0, 2, 0, 2, 2, 2, 0, 2, 2, 2, 2, 1, 2, 2, 2, 1, 2, 2, 0, 2, 2, 2,\n",
              "       2, 1, 2, 2, 2, 1, 2, 1, 1, 2, 2, 0, 1, 2, 2, 2, 2, 1, 2, 2, 2, 2,\n",
              "       0, 1, 2, 1, 2, 2, 2, 1, 2, 2, 2, 2, 2, 2, 1, 0, 2, 2, 2, 2, 2, 2,\n",
              "       2, 2, 2, 0, 0, 0, 1, 0, 2, 1, 2, 2, 1, 2, 2, 2, 2, 2, 2, 2, 2, 2,\n",
              "       1, 2, 2, 1, 2, 0, 1, 2, 0, 0, 1, 2, 2, 1, 2, 1, 2, 1, 2, 0, 2, 2],\n",
              "      dtype=int32)"
            ]
          },
          "metadata": {},
          "execution_count": 10
        }
      ]
    },
    {
      "cell_type": "code",
      "source": [
        "img_plt(X_train, Y_train, n) # plot"
      ],
      "metadata": {
        "colab": {
          "base_uri": "https://localhost:8080/",
          "height": 457
        },
        "id": "wJqhDyoGNFzs",
        "outputId": "aef8d552-a7ea-4411-8e79-0c9e0d9c9245"
      },
      "execution_count": null,
      "outputs": [
        {
          "output_type": "display_data",
          "data": {
            "text/plain": [
              "<Figure size 720x720 with 30 Axes>"
            ],
            "image/png": "[encoded data removed]"
          },
          "metadata": {
            "needs_background": "light"
          }
        }
      ]
    },
    {
      "cell_type": "markdown",
      "source": [
        "# Batch 단위 학습을 위한 DataLoader 선언\n",
        " - Dataset내부의 샘플들을 batch 크기로 추출\n",
        " - Batch Size는 1step에 들어간 데이터의 개수\n",
        " - Epoch 마다 데이터를 섞어(Shuffle) Overfitting을 방지\n",
        " - 병렬처리를 지원하여 데이터 검색 속도를 향상\n"
      ],
      "metadata": {
        "id": "m5pV5UK4kBiR"
      }
    },
    {
      "cell_type": "code",
      "source": [
        "#### 실습 : torch.utils.DataLoader를 이용하여 데이터를 load. Batch 크기를 10으로 한다.\n",
        "train_dataloader = torch.utils.data.DataLoader(train_dataset,batch_size=10, shuffle=True, num_workers=2)\n",
        "\n",
        "for i, data in enumerate(train_dataloader):\n",
        "  images, class_name, labels = data\n",
        "  print(images.shape, labels.shape)\n",
        "\n",
        "  # 5번만 데이터를 load하고 멈춘다\n",
        "  if i > 3:\n",
        "    break"
      ],
      "metadata": {
        "id": "bCTnlT1pRpSS",
        "colab": {
          "base_uri": "https://localhost:8080/"
        },
        "outputId": "bef12a9c-6070-4073-ec4c-ac90209b85b0"
      },
      "execution_count": null,
      "outputs": [
        {
          "output_type": "stream",
          "name": "stdout",
          "text": [
            "torch.Size([10, 1, 256, 256]) torch.Size([10])\n",
            "torch.Size([10, 1, 256, 256]) torch.Size([10])\n",
            "torch.Size([10, 1, 256, 256]) torch.Size([10])\n",
            "torch.Size([10, 1, 256, 256]) torch.Size([10])\n",
            "torch.Size([10, 1, 256, 256]) torch.Size([10])\n"
          ]
        }
      ]
    },
    {
      "cell_type": "markdown",
      "source": [
        "# VGG6를 이용하여 학습을 수행한다\n",
        "![](https://drive.google.com/uc?export=view&id=1vLrvhxczx1ZCOH05cxzzESylaOaF1Uj2)\n"
      ],
      "metadata": {
        "id": "WhDfo_bXniHr"
      }
    },
    {
      "cell_type": "code",
      "source": [
        "import torch\n",
        "import torch.nn as nn\n",
        "import torch.nn.functional as F\n",
        "import torch.optim as optim\n",
        "import numpy as np\n",
        "import matplotlib.pyplot as plt\n",
        "\n",
        "class VGG_BatchNormTorch(nn.Module):\n",
        "  def __init__(self, in_channels, out_features):\n",
        "    super(VGG_BatchNormTorch, self).__init__()\n",
        "\n",
        "    ###### 실습 : Gray이미지 이므로 in_channel =1 로 선언한다\n",
        "    self.conv1 = nn.Conv2d(in_channels=in_channels, out_channels=32, kernel_size=3, padding=1)\n",
        "    self.norm1 = torch.nn.BatchNorm2d(32)\n",
        "    self.conv2 = nn.Conv2d(in_channels=32, out_channels=32, kernel_size=3, padding=1)\n",
        "    self.norm2 = torch.nn.BatchNorm2d(32)\n",
        "\n",
        "    self.conv3 = nn.Conv2d(in_channels=32, out_channels=64, kernel_size=3, padding=1)\n",
        "    self.norm3 = torch.nn.BatchNorm2d(64)\n",
        "\n",
        "    self.conv4 = nn.Conv2d(in_channels=64, out_channels=64, kernel_size=3, padding=1)\n",
        "    self.norm4 = torch.nn.BatchNorm2d(64)\n",
        "\n",
        "    self.conv5 = nn.Conv2d(in_channels=64, out_channels=128, kernel_size=3, padding=1)\n",
        "    #### 실습 : Batch Norm 을 Pytorch의 값으로 변경한다\n",
        "    self.norm5 = torch.nn.BatchNorm2d(128)\n",
        "    self.conv6 = nn.Conv2d(in_channels=128, out_channels=128, kernel_size=3, padding=1)\n",
        "    #### 실습 : Batch Norm 을 Pytorch의 값으로 변경한다\n",
        "    self.norm6 = torch.nn.BatchNorm2d(128)\n",
        "\n",
        "    self.max_pool = nn.MaxPool2d(kernel_size=2, stride=2) #Maxpooling layer to change feature size\n",
        "    self.avg_pool = nn.AdaptiveAvgPool2d(output_size = (1, 1)) #Note that average pooling layer is not adopted in original VGG architecture. We use average pooling layer to make the architecture for experiment simple.\n",
        "\n",
        "    ###### 실습 : 11개의 Label이 있으므로 out_features=11로 선언한다\n",
        "    self.fc = nn.Linear(in_features=128, out_features=out_features)\n",
        "\n",
        "  def forward(self, x):\n",
        "    #### 실습 : Batch Norm을 Convolution 이후에 선언\n",
        "    x = self.norm1(self.conv1(x))\n",
        "    x = F.relu(x)\n",
        "    x = self.norm2(self.conv2(x))\n",
        "    x = F.relu(x)\n",
        "    x = self.max_pool(x)\n",
        "\n",
        "    x = self.norm3(self.conv3(x))\n",
        "    x = F.relu(x)\n",
        "    x = self.norm4(self.conv4(x))\n",
        "    x = F.relu(x)\n",
        "    x = self.max_pool(x)\n",
        "\n",
        "    x = self.norm5(self.conv5(x))\n",
        "    x = F.relu(x)\n",
        "    x = self.norm6(self.conv6(x))\n",
        "    x = F.relu(x)\n",
        "\n",
        "    x = self.avg_pool(x)\n",
        "    x = x.view(-1, 128)\n",
        "    x = self.fc(x)\n",
        "    return x"
      ],
      "metadata": {
        "id": "QY8Iolz6gvHn"
      },
      "execution_count": null,
      "outputs": []
    },
    {
      "cell_type": "code",
      "source": [
        "def train(model, data_loader, criterion, optimizer, n_epoch):\n",
        "\n",
        "  model.train() #\n",
        "  for epoch in range(n_epoch):\n",
        "    running_loss = 0\n",
        "    ### 실습 : Custom dataloader 에서 값을 가져온다\n",
        "    for i, (images, _, labels) in enumerate(data_loader):\n",
        "      images, labels = images.cuda(), labels.cuda()\n",
        "      outputs = model(images)\n",
        "      loss = criterion(outputs, labels)\n",
        "\n",
        "      optimizer.zero_grad()\n",
        "      loss.backward()\n",
        "      optimizer.step()\n",
        "      running_loss += loss.item()\n",
        "      if (i + 1) % 100 == 0:\n",
        "        print('iteration: [{}/{}]'.format(i + 1, len(data_loader)))\n",
        "\n",
        "    print('Epoch {}, loss = {:.3f}'.format(epoch + 1, running_loss/len(data_loader)))"
      ],
      "metadata": {
        "id": "yHya_ZR3vj0I"
      },
      "execution_count": null,
      "outputs": []
    },
    {
      "cell_type": "code",
      "source": [
        "def eval(model, data_loader):\n",
        "\n",
        "  model.eval()\n",
        "  total = 0\n",
        "  correct = 0\n",
        "\n",
        "  with torch.no_grad():\n",
        "    ### 실습 : Custom dataloader 에서 값을 가져온다\n",
        "    for images, _,  labels in data_loader:\n",
        "      images, labels = images.cuda(), labels.cuda()\n",
        "      outputs = model(images)\n",
        "      _, predicted = torch.max(outputs, 1)\n",
        "      total += labels.size(0)\n",
        "      correct += (predicted == labels).sum().item()\n",
        "    accuracy = 100 * correct / total\n",
        "\n",
        "  print('Test Accuracy: {}%'.format(accuracy))"
      ],
      "metadata": {
        "id": "HjX476cmvhSE"
      },
      "execution_count": null,
      "outputs": []
    },
    {
      "cell_type": "code",
      "source": [
        "def reset_seed(seed):\n",
        "    torch.manual_seed(seed)\n",
        "    np.random.seed(seed)\n",
        "    random.seed(seed)"
      ],
      "metadata": {
        "id": "RLI00mauwDyZ"
      },
      "execution_count": null,
      "outputs": []
    },
    {
      "cell_type": "code",
      "source": [
        "reset_seed(2020)\n",
        "criterion = nn.CrossEntropyLoss()\n",
        "vgg_batchnorm_model = VGG_BatchNormTorch(in_channels=1, out_features=11).to(\"cuda\")\n",
        "optimizer = optim.Adam(params=vgg_batchnorm_model.parameters())\n",
        "\n",
        "train(vgg_batchnorm_model, train_dataloader, criterion, optimizer, n_epoch=50)"
      ],
      "metadata": {
        "colab": {
          "base_uri": "https://localhost:8080/"
        },
        "id": "t85o-4CZve4T",
        "outputId": "ac265070-062b-4c29-d9e4-090e0ea8b316"
      },
      "execution_count": null,
      "outputs": [
        {
          "output_type": "stream",
          "name": "stdout",
          "text": [
            "Epoch 1, loss = 2.407\n",
            "Epoch 2, loss = 2.340\n",
            "Epoch 3, loss = 2.203\n",
            "Epoch 4, loss = 2.155\n",
            "Epoch 5, loss = 2.025\n",
            "Epoch 6, loss = 1.889\n",
            "Epoch 7, loss = 1.780\n",
            "Epoch 8, loss = 1.721\n",
            "Epoch 9, loss = 1.630\n",
            "Epoch 10, loss = 1.558\n",
            "Epoch 11, loss = 1.465\n",
            "Epoch 12, loss = 1.395\n",
            "Epoch 13, loss = 1.380\n",
            "Epoch 14, loss = 1.305\n",
            "Epoch 15, loss = 1.226\n",
            "Epoch 16, loss = 1.193\n",
            "Epoch 17, loss = 1.139\n",
            "Epoch 18, loss = 1.103\n",
            "Epoch 19, loss = 1.083\n",
            "Epoch 20, loss = 1.027\n",
            "Epoch 21, loss = 0.958\n",
            "Epoch 22, loss = 0.964\n",
            "Epoch 23, loss = 0.904\n",
            "Epoch 24, loss = 0.901\n",
            "Epoch 25, loss = 0.813\n",
            "Epoch 26, loss = 0.789\n",
            "Epoch 27, loss = 0.783\n",
            "Epoch 28, loss = 0.758\n",
            "Epoch 29, loss = 0.706\n",
            "Epoch 30, loss = 0.705\n",
            "Epoch 31, loss = 0.647\n",
            "Epoch 32, loss = 0.601\n",
            "Epoch 33, loss = 0.575\n",
            "Epoch 34, loss = 0.545\n",
            "Epoch 35, loss = 0.521\n",
            "Epoch 36, loss = 0.495\n",
            "Epoch 37, loss = 0.446\n",
            "Epoch 38, loss = 0.474\n",
            "Epoch 39, loss = 0.442\n",
            "Epoch 40, loss = 0.467\n",
            "Epoch 41, loss = 0.410\n",
            "Epoch 42, loss = 0.449\n",
            "Epoch 43, loss = 0.456\n",
            "Epoch 44, loss = 0.379\n",
            "Epoch 45, loss = 0.357\n",
            "Epoch 46, loss = 0.324\n",
            "Epoch 47, loss = 0.327\n",
            "Epoch 48, loss = 0.290\n",
            "Epoch 49, loss = 0.311\n",
            "Epoch 50, loss = 0.261\n"
          ]
        }
      ]
    },
    {
      "cell_type": "markdown",
      "source": [
        "# 정확도를 평가해 봅시다\n",
        "* 데이터가 너무 적어서 평가 데이터에 대한 정확도를 봅니다"
      ],
      "metadata": {
        "id": "8d4AUYGHJzQ6"
      }
    },
    {
      "cell_type": "code",
      "source": [
        "eval(vgg_batchnorm_model, train_dataloader)"
      ],
      "metadata": {
        "id": "cdj0G1XrrBkv",
        "colab": {
          "base_uri": "https://localhost:8080/"
        },
        "outputId": "de2b67ed-f34d-4a10-d682-e09e491d3b78"
      },
      "execution_count": null,
      "outputs": [
        {
          "output_type": "stream",
          "name": "stdout",
          "text": [
            "Test Accuracy: 96.46464646464646%\n"
          ]
        }
      ]
    },
    {
      "cell_type": "markdown",
      "source": [
        "# 선언한 모델의 구조를 확인한다"
      ],
      "metadata": {
        "id": "3J1ozFQsh3Bo"
      }
    },
    {
      "cell_type": "code",
      "source": [
        "print(\"Our model: \\n\\n\", vgg_batchnorm_model, '\\n')\n"
      ],
      "metadata": {
        "colab": {
          "base_uri": "https://localhost:8080/"
        },
        "id": "YhW39ipPjBAx",
        "outputId": "e7adf1da-95e0-4cdd-c704-560f9bf88f16"
      },
      "execution_count": null,
      "outputs": [
        {
          "output_type": "stream",
          "name": "stdout",
          "text": [
            "Our model: \n",
            "\n",
            " VGG_BatchNormTorch(\n",
            "  (conv1): Conv2d(1, 32, kernel_size=(3, 3), stride=(1, 1), padding=(1, 1))\n",
            "  (norm1): BatchNorm2d(32, eps=1e-05, momentum=0.1, affine=True, track_running_stats=True)\n",
            "  (conv2): Conv2d(32, 32, kernel_size=(3, 3), stride=(1, 1), padding=(1, 1))\n",
            "  (norm2): BatchNorm2d(32, eps=1e-05, momentum=0.1, affine=True, track_running_stats=True)\n",
            "  (conv3): Conv2d(32, 64, kernel_size=(3, 3), stride=(1, 1), padding=(1, 1))\n",
            "  (norm3): BatchNorm2d(64, eps=1e-05, momentum=0.1, affine=True, track_running_stats=True)\n",
            "  (conv4): Conv2d(64, 64, kernel_size=(3, 3), stride=(1, 1), padding=(1, 1))\n",
            "  (norm4): BatchNorm2d(64, eps=1e-05, momentum=0.1, affine=True, track_running_stats=True)\n",
            "  (conv5): Conv2d(64, 128, kernel_size=(3, 3), stride=(1, 1), padding=(1, 1))\n",
            "  (norm5): BatchNorm2d(128, eps=1e-05, momentum=0.1, affine=True, track_running_stats=True)\n",
            "  (conv6): Conv2d(128, 128, kernel_size=(3, 3), stride=(1, 1), padding=(1, 1))\n",
            "  (norm6): BatchNorm2d(128, eps=1e-05, momentum=0.1, affine=True, track_running_stats=True)\n",
            "  (max_pool): MaxPool2d(kernel_size=2, stride=2, padding=0, dilation=1, ceil_mode=False)\n",
            "  (avg_pool): AdaptiveAvgPool2d(output_size=(1, 1))\n",
            "  (fc): Linear(in_features=128, out_features=11, bias=True)\n",
            ") \n",
            "\n"
          ]
        }
      ]
    },
    {
      "cell_type": "code",
      "source": [
        "vgg_batchnorm_model.state_dict().keys()"
      ],
      "metadata": {
        "colab": {
          "base_uri": "https://localhost:8080/"
        },
        "id": "DybTAn5BnYhl",
        "outputId": "1323a5b6-aea4-4a14-9529-dc9809ef93df"
      },
      "execution_count": null,
      "outputs": [
        {
          "output_type": "execute_result",
          "data": {
            "text/plain": [
              "odict_keys(['conv1.weight', 'conv1.bias', 'norm1.weight', 'norm1.bias', 'norm1.running_mean', 'norm1.running_var', 'norm1.num_batches_tracked', 'conv2.weight', 'conv2.bias', 'norm2.weight', 'norm2.bias', 'norm2.running_mean', 'norm2.running_var', 'norm2.num_batches_tracked', 'conv3.weight', 'conv3.bias', 'norm3.weight', 'norm3.bias', 'norm3.running_mean', 'norm3.running_var', 'norm3.num_batches_tracked', 'conv4.weight', 'conv4.bias', 'norm4.weight', 'norm4.bias', 'norm4.running_mean', 'norm4.running_var', 'norm4.num_batches_tracked', 'conv5.weight', 'conv5.bias', 'norm5.weight', 'norm5.bias', 'norm5.running_mean', 'norm5.running_var', 'norm5.num_batches_tracked', 'conv6.weight', 'conv6.bias', 'norm6.weight', 'norm6.bias', 'norm6.running_mean', 'norm6.running_var', 'norm6.num_batches_tracked', 'fc.weight', 'fc.bias'])"
            ]
          },
          "metadata": {},
          "execution_count": 20
        }
      ]
    },
    {
      "cell_type": "code",
      "source": [
        "vgg_batchnorm_model.state_dict()"
      ],
      "metadata": {
        "id": "1RHZxxVenBZ_",
        "colab": {
          "base_uri": "https://localhost:8080/"
        },
        "outputId": "03e8b935-4579-4485-d76a-7e45e36030c1"
      },
      "execution_count": null,
      "outputs": [
        {
          "output_type": "execute_result",
          "data": {
            "text/plain": [
              "OrderedDict([('conv1.weight', tensor([[[[ 0.0066, -0.2340,  0.0567],\n",
              "                        [-0.2294,  0.0351, -0.1452],\n",
              "                        [ 0.1139,  0.2662, -0.0834]]],\n",
              "              \n",
              "              \n",
              "                      [[[ 0.0348, -0.0225,  0.1616],\n",
              "                        [ 0.1143, -0.0587,  0.1877],\n",
              "                        [-0.0323,  0.0571, -0.4033]]],\n",
              "              \n",
              "              \n",
              "                      [[[-0.2240,  0.2695, -0.2578],\n",
              "                        [ 0.0040,  0.2541, -0.0687],\n",
              "                        [-0.0097,  0.1531, -0.2528]]],\n",
              "              \n",
              "              \n",
              "                      [[[ 0.1788, -0.1350, -0.0011],\n",
              "                        [ 0.0963,  0.3227,  0.0280],\n",
              "                        [-0.2664,  0.1560, -0.2582]]],\n",
              "              \n",
              "              \n",
              "                      [[[ 0.1572, -0.0439,  0.2119],\n",
              "                        [-0.0599, -0.3971,  0.1932],\n",
              "                        [-0.2911,  0.1726,  0.1117]]],\n",
              "              \n",
              "              \n",
              "                      [[[-0.3966,  0.0806,  0.2223],\n",
              "                        [ 0.0398, -0.0301,  0.1469],\n",
              "                        [ 0.2646,  0.1063, -0.3183]]],\n",
              "              \n",
              "              \n",
              "                      [[[ 0.1574, -0.3782,  0.2552],\n",
              "                        [-0.0709,  0.1831, -0.2268],\n",
              "                        [-0.0780,  0.2264, -0.0830]]],\n",
              "              \n",
              "              \n",
              "                      [[[ 0.1297,  0.0232,  0.2094],\n",
              "                        [-0.2252, -0.1956,  0.0861],\n",
              "                        [ 0.1516, -0.1080,  0.0284]]],\n",
              "              \n",
              "              \n",
              "                      [[[-0.0657,  0.2709, -0.2123],\n",
              "                        [-0.0323,  0.0270,  0.0321],\n",
              "                        [-0.0576, -0.0756, -0.2274]]],\n",
              "              \n",
              "              \n",
              "                      [[[ 0.0316,  0.2548, -0.1713],\n",
              "                        [ 0.0888,  0.1137,  0.0055],\n",
              "                        [-0.1101, -0.2551, -0.1660]]],\n",
              "              \n",
              "              \n",
              "                      [[[ 0.3246,  0.3295, -0.3258],\n",
              "                        [-0.0213, -0.1143, -0.0574],\n",
              "                        [-0.2384, -0.2433,  0.3556]]],\n",
              "              \n",
              "              \n",
              "                      [[[ 0.1653, -0.0365, -0.1847],\n",
              "                        [ 0.3188,  0.2668, -0.1033],\n",
              "                        [-0.0633, -0.0810, -0.2120]]],\n",
              "              \n",
              "              \n",
              "                      [[[-0.2858, -0.0038, -0.0681],\n",
              "                        [ 0.2494,  0.0018, -0.1084],\n",
              "                        [ 0.1206, -0.0131,  0.0940]]],\n",
              "              \n",
              "              \n",
              "                      [[[ 0.0347, -0.0207, -0.2369],\n",
              "                        [-0.2987, -0.0128,  0.0298],\n",
              "                        [ 0.0892,  0.2542,  0.2106]]],\n",
              "              \n",
              "              \n",
              "                      [[[-0.2569, -0.2761,  0.0870],\n",
              "                        [-0.1462,  0.0377,  0.1923],\n",
              "                        [ 0.3413, -0.2013,  0.2917]]],\n",
              "              \n",
              "              \n",
              "                      [[[ 0.0687,  0.2847,  0.1943],\n",
              "                        [-0.2763, -0.1947, -0.2761],\n",
              "                        [ 0.0309, -0.2456,  0.2585]]],\n",
              "              \n",
              "              \n",
              "                      [[[-0.1048, -0.1120, -0.1507],\n",
              "                        [-0.1524,  0.0790,  0.0425],\n",
              "                        [-0.2417, -0.0962,  0.2688]]],\n",
              "              \n",
              "              \n",
              "                      [[[-0.2483,  0.1695, -0.2515],\n",
              "                        [ 0.2517,  0.1122, -0.0963],\n",
              "                        [ 0.1895,  0.0317, -0.0175]]],\n",
              "              \n",
              "              \n",
              "                      [[[-0.1002, -0.1419,  0.0223],\n",
              "                        [ 0.2292, -0.3192,  0.2512],\n",
              "                        [-0.1871,  0.2553,  0.0504]]],\n",
              "              \n",
              "              \n",
              "                      [[[ 0.2126, -0.1408, -0.2155],\n",
              "                        [-0.2678,  0.0553,  0.3871],\n",
              "                        [ 0.3599, -0.0915, -0.2686]]],\n",
              "              \n",
              "              \n",
              "                      [[[-0.0344,  0.2588,  0.1171],\n",
              "                        [ 0.1876,  0.0210,  0.2482],\n",
              "                        [ 0.1723,  0.3212, -0.0594]]],\n",
              "              \n",
              "              \n",
              "                      [[[-0.1234,  0.2727, -0.1356],\n",
              "                        [ 0.1427, -0.2808,  0.2212],\n",
              "                        [-0.0524, -0.2114,  0.1263]]],\n",
              "              \n",
              "              \n",
              "                      [[[-0.3460, -0.2855,  0.2729],\n",
              "                        [-0.2246,  0.1628, -0.1796],\n",
              "                        [ 0.1022,  0.3069,  0.1980]]],\n",
              "              \n",
              "              \n",
              "                      [[[-0.3959,  0.0304,  0.1292],\n",
              "                        [-0.1601, -0.0621,  0.0248],\n",
              "                        [ 0.0336,  0.3763,  0.2084]]],\n",
              "              \n",
              "              \n",
              "                      [[[-0.0353,  0.2044,  0.1685],\n",
              "                        [-0.1282,  0.0073,  0.2250],\n",
              "                        [-0.3084,  0.0158, -0.0671]]],\n",
              "              \n",
              "              \n",
              "                      [[[-0.2042, -0.0828, -0.0107],\n",
              "                        [ 0.0688,  0.3202, -0.2826],\n",
              "                        [ 0.0600,  0.0890,  0.1025]]],\n",
              "              \n",
              "              \n",
              "                      [[[ 0.1781,  0.1739,  0.0697],\n",
              "                        [-0.3120,  0.2182,  0.1042],\n",
              "                        [-0.1855, -0.2456,  0.0477]]],\n",
              "              \n",
              "              \n",
              "                      [[[-0.0705,  0.2301,  0.0222],\n",
              "                        [-0.0733,  0.1715, -0.1195],\n",
              "                        [-0.2393,  0.1015, -0.1315]]],\n",
              "              \n",
              "              \n",
              "                      [[[-0.0336,  0.0605, -0.2668],\n",
              "                        [ 0.3586, -0.1803, -0.2580],\n",
              "                        [ 0.2205, -0.1359,  0.2955]]],\n",
              "              \n",
              "              \n",
              "                      [[[-0.0122,  0.3389,  0.2768],\n",
              "                        [-0.2794,  0.2149, -0.0370],\n",
              "                        [ 0.1308, -0.1726, -0.1440]]],\n",
              "              \n",
              "              \n",
              "                      [[[ 0.1439, -0.3983,  0.2573],\n",
              "                        [ 0.0887,  0.0511, -0.3467],\n",
              "                        [ 0.2737, -0.2663,  0.2622]]],\n",
              "              \n",
              "              \n",
              "                      [[[-0.0105, -0.2465,  0.2887],\n",
              "                        [-0.2133,  0.3066, -0.1973],\n",
              "                        [ 0.2420, -0.2457,  0.0735]]]], device='cuda:0')),\n",
              "             ('conv1.bias',\n",
              "              tensor([ 0.0993, -0.1677,  0.0469,  0.0978,  0.2301,  0.1012, -0.3153, -0.0544,\n",
              "                       0.1530,  0.0438, -0.2099,  0.1360, -0.1811,  0.2301,  0.1349,  0.0801,\n",
              "                      -0.3075,  0.0730, -0.0035, -0.3135, -0.3226,  0.1123, -0.0933, -0.2391,\n",
              "                      -0.1953,  0.0896,  0.1341,  0.1993,  0.0460, -0.2826,  0.1066,  0.3740],\n",
              "                     device='cuda:0')),\n",
              "             ('norm1.weight',\n",
              "              tensor([0.9283, 1.0007, 0.9470, 1.0536, 0.9466, 0.9009, 1.0146, 1.0068, 0.8791,\n",
              "                      0.9192, 1.1927, 1.0526, 0.9517, 1.0193, 1.0312, 0.9841, 0.8556, 0.9425,\n",
              "                      1.1670, 0.9474, 0.8004, 0.9568, 1.0509, 0.8440, 1.1710, 1.0219, 0.9242,\n",
              "                      0.9716, 1.0792, 0.8801, 0.9944, 1.0456], device='cuda:0')),\n",
              "             ('norm1.bias',\n",
              "              tensor([-0.1571,  0.0505, -0.1196,  0.1706,  0.0296, -0.1551, -0.0321,  0.2306,\n",
              "                      -0.1641, -0.1284,  0.0244,  0.0191, -0.0840,  0.0845,  0.0547, -0.1973,\n",
              "                      -0.1763, -0.0882,  0.1968, -0.0801, -0.2039, -0.0868, -0.0521, -0.1439,\n",
              "                       0.1287,  0.0178, -0.1000, -0.1073,  0.1670, -0.0941,  0.0472, -0.0948],\n",
              "                     device='cuda:0')),\n",
              "             ('norm1.running_mean',\n",
              "              tensor([ 0.0534, -0.1560,  0.0178,  0.1231,  0.2402,  0.1275, -0.3202, -0.0348,\n",
              "                       0.0774, -0.0027, -0.2075,  0.1524, -0.1822,  0.2417,  0.1498,  0.0494,\n",
              "                      -0.4118,  0.1045,  0.0079, -0.3115, -0.0492,  0.1039, -0.0877, -0.1975,\n",
              "                      -0.1795,  0.1036,  0.1476,  0.1801,  0.0571, -0.2121,  0.1212,  0.3750],\n",
              "                     device='cuda:0')),\n",
              "             ('norm1.running_var',\n",
              "              tensor([0.0041, 0.0021, 0.0025, 0.0038, 0.0023, 0.0014, 0.0005, 0.0028, 0.0069,\n",
              "                      0.0050, 0.0019, 0.0040, 0.0016, 0.0038, 0.0041, 0.0083, 0.0122, 0.0030,\n",
              "                      0.0012, 0.0011, 0.0782, 0.0007, 0.0051, 0.0062, 0.0029, 0.0018, 0.0031,\n",
              "                      0.0018, 0.0026, 0.0086, 0.0021, 0.0005], device='cuda:0')),\n",
              "             ('norm1.num_batches_tracked', tensor(1000, device='cuda:0')),\n",
              "             ('conv2.weight',\n",
              "              tensor([[[[-2.1556e-02, -2.9554e-02,  1.5122e-02],\n",
              "                        [-4.4804e-02, -3.1567e-02,  8.4816e-03],\n",
              "                        [-3.2189e-02,  1.5122e-03, -3.6730e-02]],\n",
              "              \n",
              "                       [[ 7.2568e-02,  3.5279e-02,  2.1026e-02],\n",
              "                        [-1.7165e-02,  3.3754e-02,  4.2571e-02],\n",
              "                        [ 3.1282e-03, -5.3683e-02,  4.7796e-02]],\n",
              "              \n",
              "                       [[-1.2082e-04, -4.5609e-02, -8.3012e-02],\n",
              "                        [-1.7919e-02,  3.2754e-03,  2.5190e-02],\n",
              "                        [-4.3381e-02,  3.3202e-02, -1.8224e-02]],\n",
              "              \n",
              "                       ...,\n",
              "              \n",
              "                       [[ 3.0435e-03,  5.0399e-02,  1.5972e-02],\n",
              "                        [-4.2570e-03,  5.8198e-02, -6.2892e-03],\n",
              "                        [-4.8309e-02, -4.8228e-02, -2.4393e-02]],\n",
              "              \n",
              "                       [[-1.6689e-02,  1.4440e-02, -6.7013e-02],\n",
              "                        [ 4.6351e-02,  3.9050e-02,  2.6572e-02],\n",
              "                        [-3.7227e-02,  2.9607e-02, -4.1671e-02]],\n",
              "              \n",
              "                       [[-4.8242e-02, -2.4562e-02,  4.7909e-04],\n",
              "                        [ 5.4674e-02,  2.1547e-03, -5.4455e-03],\n",
              "                        [-1.2690e-02, -3.2737e-02, -4.7335e-02]]],\n",
              "              \n",
              "              \n",
              "                      [[[-3.0387e-02, -1.6739e-02, -8.7473e-03],\n",
              "                        [-4.2461e-03,  1.8747e-02, -5.8889e-02],\n",
              "                        [-3.3658e-02,  1.3927e-02,  9.6579e-03]],\n",
              "              \n",
              "                       [[ 8.7167e-02,  8.2062e-02,  5.8208e-02],\n",
              "                        [-7.1631e-02, -1.2986e-02, -4.7997e-02],\n",
              "                        [-1.6994e-02, -1.4738e-02, -5.9343e-02]],\n",
              "              \n",
              "                       [[ 2.3646e-02, -3.0690e-02, -1.8842e-02],\n",
              "                        [-3.1733e-02,  1.9273e-02, -2.7556e-02],\n",
              "                        [-2.1379e-02, -2.8301e-02, -1.7576e-02]],\n",
              "              \n",
              "                       ...,\n",
              "              \n",
              "                       [[ 8.9971e-02,  7.4475e-02,  4.2131e-02],\n",
              "                        [ 1.0657e-02,  1.5757e-02, -2.7165e-04],\n",
              "                        [-2.3994e-02,  5.8335e-02, -3.5114e-02]],\n",
              "              \n",
              "                       [[-5.0940e-02, -2.7738e-02, -7.7036e-02],\n",
              "                        [-1.9786e-02, -4.7801e-03, -3.7742e-02],\n",
              "                        [ 6.3446e-02, -1.5674e-02,  7.3800e-02]],\n",
              "              \n",
              "                       [[-2.4495e-02, -4.8351e-02, -6.6493e-02],\n",
              "                        [ 9.1927e-03, -6.3704e-03,  2.4429e-02],\n",
              "                        [ 3.0092e-02, -6.6424e-02, -6.8006e-02]]],\n",
              "              \n",
              "              \n",
              "                      [[[-3.9036e-02,  4.2529e-02, -3.5291e-03],\n",
              "                        [-1.5531e-02, -7.6586e-02, -1.8394e-02],\n",
              "                        [-1.2587e-02, -2.8536e-02, -7.0067e-02]],\n",
              "              \n",
              "                       [[ 1.9560e-03, -5.5661e-02, -4.5529e-02],\n",
              "                        [-3.9024e-02, -5.6034e-02, -7.6672e-02],\n",
              "                        [-1.6158e-02,  1.1554e-02, -1.3851e-02]],\n",
              "              \n",
              "                       [[ 1.2239e-02, -2.9082e-02,  5.7219e-05],\n",
              "                        [ 7.4892e-03,  1.8244e-02, -6.1764e-02],\n",
              "                        [-1.0726e-01, -1.7094e-02, -6.7096e-03]],\n",
              "              \n",
              "                       ...,\n",
              "              \n",
              "                       [[ 5.0829e-03, -4.2247e-02, -4.8501e-02],\n",
              "                        [-6.4378e-02, -2.1152e-02, -8.3142e-03],\n",
              "                        [ 1.4369e-02, -6.2620e-03, -4.1090e-02]],\n",
              "              \n",
              "                       [[-1.5868e-02,  5.8225e-02,  1.3311e-02],\n",
              "                        [-1.9868e-02,  4.0475e-02, -1.0720e-02],\n",
              "                        [ 3.5503e-02,  8.2467e-03, -6.1653e-02]],\n",
              "              \n",
              "                       [[-7.8731e-02, -1.1343e-01, -1.0864e-01],\n",
              "                        [-3.8780e-04, -5.8150e-02,  1.1314e-03],\n",
              "                        [-2.1990e-02,  1.1911e-02, -2.5081e-02]]],\n",
              "              \n",
              "              \n",
              "                      ...,\n",
              "              \n",
              "              \n",
              "                      [[[-7.7095e-03, -1.1656e-02,  2.2725e-02],\n",
              "                        [ 9.5543e-03,  4.4417e-02,  6.9333e-03],\n",
              "                        [ 1.7935e-03, -4.1264e-02,  5.0570e-02]],\n",
              "              \n",
              "                       [[ 7.8002e-03,  8.0568e-02,  3.9067e-02],\n",
              "                        [ 6.7976e-02,  1.2422e-02,  6.9163e-02],\n",
              "                        [-4.5894e-02, -9.2906e-02, -9.3239e-02]],\n",
              "              \n",
              "                       [[-2.7318e-02, -2.6407e-03,  2.9410e-02],\n",
              "                        [ 3.9956e-02, -5.7446e-02, -3.5999e-02],\n",
              "                        [ 1.4044e-02,  2.5283e-02, -7.1751e-02]],\n",
              "              \n",
              "                       ...,\n",
              "              \n",
              "                       [[-2.6900e-02, -1.0321e-02, -3.4120e-03],\n",
              "                        [-3.3944e-02,  2.7792e-02,  3.1096e-02],\n",
              "                        [-3.3745e-02,  3.1758e-02, -5.0271e-03]],\n",
              "              \n",
              "                       [[-5.1262e-02, -4.1135e-02, -6.2962e-02],\n",
              "                        [-2.8894e-02, -2.2685e-02, -6.7072e-02],\n",
              "                        [ 2.7942e-02,  4.3128e-02, -2.8637e-02]],\n",
              "              \n",
              "                       [[-4.8388e-02,  3.1712e-02,  3.2058e-02],\n",
              "                        [-1.8920e-02,  7.8644e-02, -5.3328e-02],\n",
              "                        [ 1.5126e-02,  6.0493e-02, -8.3606e-03]]],\n",
              "              \n",
              "              \n",
              "                      [[[-8.1146e-03,  2.9857e-02,  3.3144e-02],\n",
              "                        [ 4.9863e-03,  2.8280e-02, -6.0075e-02],\n",
              "                        [ 2.8836e-02, -2.0963e-02, -2.8457e-02]],\n",
              "              \n",
              "                       [[-3.5795e-02, -6.4412e-02,  3.0328e-03],\n",
              "                        [-3.3948e-04,  4.3406e-02,  1.7909e-02],\n",
              "                        [ 4.5400e-02, -5.6373e-03,  2.4739e-02]],\n",
              "              \n",
              "                       [[ 2.6602e-02,  2.7486e-02, -3.4510e-02],\n",
              "                        [ 1.1904e-03, -1.9867e-02, -1.8390e-02],\n",
              "                        [-1.8449e-02, -5.4986e-02,  5.7755e-03]],\n",
              "              \n",
              "                       ...,\n",
              "              \n",
              "                       [[-2.4007e-03,  1.0571e-02,  1.0675e-02],\n",
              "                        [ 3.3353e-02,  5.2561e-03, -6.8822e-03],\n",
              "                        [-2.0719e-02,  3.3657e-03,  3.6916e-02]],\n",
              "              \n",
              "                       [[ 3.7272e-02,  1.8228e-02,  3.5464e-02],\n",
              "                        [-4.8987e-02,  1.4161e-02, -6.4141e-02],\n",
              "                        [-2.9278e-03, -6.1312e-02, -5.7029e-02]],\n",
              "              \n",
              "                       [[ 2.2229e-02, -7.4912e-02, -1.2548e-02],\n",
              "                        [-4.8808e-02, -5.2705e-03,  2.7614e-03],\n",
              "                        [ 4.9395e-02,  3.0913e-03, -4.3814e-02]]],\n",
              "              \n",
              "              \n",
              "                      [[[-2.6262e-02, -6.0333e-02, -6.0995e-02],\n",
              "                        [-6.2718e-02, -1.5845e-02,  2.3242e-02],\n",
              "                        [ 1.5999e-03, -1.7148e-02,  3.2121e-02]],\n",
              "              \n",
              "                       [[ 1.6947e-02,  1.3550e-02, -2.9733e-02],\n",
              "                        [-7.3750e-02, -3.3772e-02, -6.6655e-03],\n",
              "                        [-4.2283e-02, -3.1684e-02, -4.0099e-02]],\n",
              "              \n",
              "                       [[-4.6908e-02, -2.1012e-02,  2.1293e-02],\n",
              "                        [-5.6774e-02, -5.7282e-02, -2.0595e-02],\n",
              "                        [-1.0596e-02, -3.0935e-02, -7.1058e-03]],\n",
              "              \n",
              "                       ...,\n",
              "              \n",
              "                       [[ 1.0051e-02, -2.2143e-02,  6.8079e-02],\n",
              "                        [-1.1783e-02,  2.1210e-02, -1.2751e-02],\n",
              "                        [ 5.2139e-02, -2.5560e-03,  4.4589e-02]],\n",
              "              \n",
              "                       [[ 9.2533e-03, -1.9442e-02,  7.5408e-03],\n",
              "                        [-2.3599e-02,  2.4061e-02, -3.4344e-02],\n",
              "                        [-8.6102e-02, -1.5826e-03, -2.3319e-03]],\n",
              "              \n",
              "                       [[-2.6183e-02, -6.5793e-03,  8.3253e-03],\n",
              "                        [-1.2728e-02,  4.8847e-02, -3.7833e-03],\n",
              "                        [ 5.5754e-03,  1.9350e-02,  2.2022e-02]]]], device='cuda:0')),\n",
              "             ('conv2.bias',\n",
              "              tensor([ 0.0360, -0.0044,  0.0094, -0.0358,  0.0234, -0.0472,  0.0020,  0.0065,\n",
              "                      -0.0503, -0.0235, -0.0378, -0.0605, -0.0385, -0.0575, -0.0580, -0.0324,\n",
              "                      -0.0104, -0.0585,  0.0398,  0.0277,  0.0294,  0.0261, -0.0103,  0.0556,\n",
              "                      -0.0507, -0.0521, -0.0108, -0.0415,  0.0612,  0.0083, -0.0527, -0.0465],\n",
              "                     device='cuda:0')),\n",
              "             ('norm2.weight',\n",
              "              tensor([1.0180, 0.9717, 1.0319, 1.0190, 1.0003, 0.9420, 0.9540, 1.0539, 1.0069,\n",
              "                      0.9607, 1.0027, 1.0778, 1.0696, 0.9942, 0.9767, 1.0801, 1.0624, 0.9830,\n",
              "                      0.9282, 0.9814, 0.9694, 0.9362, 1.0913, 0.8758, 1.0017, 1.0135, 0.9660,\n",
              "                      0.9242, 0.9647, 1.0398, 0.9682, 0.9375], device='cuda:0')),\n",
              "             ('norm2.bias',\n",
              "              tensor([-0.1381, -0.0492, -0.1103, -0.0950, -0.0813, -0.0491, -0.1257, -0.1002,\n",
              "                      -0.0399, -0.0026, -0.0980, -0.0485, -0.1328, -0.1190, -0.1573, -0.1178,\n",
              "                      -0.0381, -0.0805, -0.0554, -0.2236, -0.1046, -0.1093, -0.0919, -0.0954,\n",
              "                      -0.1670,  0.0134, -0.0995, -0.1335, -0.1058, -0.0184, -0.0523, -0.0130],\n",
              "                     device='cuda:0')),\n",
              "             ('norm2.running_mean',\n",
              "              tensor([-0.2494, -0.7274, -0.1627, -0.3974, -0.2841, -1.0056, -0.5257, -0.4144,\n",
              "                       0.0227, -1.2386,  0.0838, -0.3216, -0.1902, -0.2848,  0.1873, -0.2614,\n",
              "                      -0.6466,  0.0845, -1.4302,  0.2039,  0.0587,  1.4322,  0.0576, -0.7253,\n",
              "                      -0.1482, -0.6162, -0.4162, -0.7960, -0.1091, -0.6605, -0.3515, -1.3930],\n",
              "                     device='cuda:0')),\n",
              "             ('norm2.running_var',\n",
              "              tensor([0.3608, 2.3254, 1.5673, 0.5174, 0.2671, 1.7767, 1.0834, 0.7410, 1.1172,\n",
              "                      2.3061, 0.4927, 1.4130, 0.8574, 0.6197, 1.8921, 0.3943, 0.8621, 0.9914,\n",
              "                      2.6895, 1.6520, 2.1092, 1.6315, 0.3234, 1.3618, 1.2284, 1.2698, 0.3448,\n",
              "                      0.9594, 1.4555, 2.9003, 1.3206, 3.0773], device='cuda:0')),\n",
              "             ('norm2.num_batches_tracked', tensor(1000, device='cuda:0')),\n",
              "             ('conv3.weight',\n",
              "              tensor([[[[-3.1766e-02,  1.7419e-02, -4.6828e-02],\n",
              "                        [ 3.1424e-02,  3.2363e-02,  3.2770e-02],\n",
              "                        [ 2.5740e-02,  1.0015e-02, -4.5903e-02]],\n",
              "              \n",
              "                       [[ 2.6448e-02, -3.0314e-02,  1.8847e-02],\n",
              "                        [-3.1956e-03, -1.1383e-02,  5.1450e-02],\n",
              "                        [-6.1615e-02, -2.6323e-02, -3.7213e-02]],\n",
              "              \n",
              "                       [[-1.0146e-02,  3.2167e-02, -4.8930e-02],\n",
              "                        [ 5.9327e-02, -3.8321e-03, -1.5568e-02],\n",
              "                        [-4.5455e-02, -6.2045e-02,  2.8308e-03]],\n",
              "              \n",
              "                       ...,\n",
              "              \n",
              "                       [[ 1.2790e-02,  7.4716e-02,  3.1185e-02],\n",
              "                        [-3.1336e-02, -9.9741e-02, -1.5766e-02],\n",
              "                        [-3.5122e-02, -5.1490e-02,  3.6992e-02]],\n",
              "              \n",
              "                       [[ 5.5766e-02,  4.5418e-02,  4.8407e-02],\n",
              "                        [-1.4979e-02, -1.3951e-02, -5.1335e-02],\n",
              "                        [ 3.9692e-02,  1.8874e-02,  1.2670e-02]],\n",
              "              \n",
              "                       [[-3.8646e-02, -1.4410e-03, -5.6855e-02],\n",
              "                        [ 1.8858e-02, -9.3624e-03, -1.4249e-02],\n",
              "                        [ 1.0845e-02, -2.2011e-02, -2.7256e-02]]],\n",
              "              \n",
              "              \n",
              "                      [[[-2.4960e-03,  7.8873e-02,  9.8540e-02],\n",
              "                        [-6.3003e-03,  1.3037e-03,  4.4638e-02],\n",
              "                        [-1.2355e-02, -6.9567e-02,  2.7031e-02]],\n",
              "              \n",
              "                       [[ 5.6352e-02, -2.2428e-04, -3.7784e-02],\n",
              "                        [ 3.9875e-02, -5.2314e-02, -2.6918e-02],\n",
              "                        [-5.4907e-02, -8.9322e-03, -2.9722e-02]],\n",
              "              \n",
              "                       [[ 2.7685e-02,  3.4256e-02, -2.3198e-02],\n",
              "                        [ 9.7263e-02,  4.8655e-02,  6.9112e-03],\n",
              "                        [-1.0112e-01, -4.0572e-02, -1.1769e-01]],\n",
              "              \n",
              "                       ...,\n",
              "              \n",
              "                       [[-2.5564e-02, -2.1739e-02,  1.7667e-02],\n",
              "                        [-1.5865e-02, -4.3226e-02,  5.0428e-02],\n",
              "                        [ 2.9140e-02,  7.4019e-03,  3.6967e-02]],\n",
              "              \n",
              "                       [[-8.2796e-02, -3.6969e-02, -6.1917e-02],\n",
              "                        [-5.0320e-02, -1.5604e-03,  1.3097e-02],\n",
              "                        [-5.3735e-02, -8.8842e-03,  2.9532e-02]],\n",
              "              \n",
              "                       [[-1.9647e-02,  1.8938e-02,  1.9998e-02],\n",
              "                        [-3.4858e-02,  4.3316e-03, -3.2068e-03],\n",
              "                        [ 1.5891e-02,  3.6239e-02, -3.2349e-02]]],\n",
              "              \n",
              "              \n",
              "                      [[[ 7.2808e-02,  4.4043e-02, -6.8286e-03],\n",
              "                        [-1.2355e-02,  5.0468e-02, -3.6690e-02],\n",
              "                        [ 3.3047e-02, -1.0109e-02, -3.2689e-02]],\n",
              "              \n",
              "                       [[-5.7982e-02, -5.7125e-02, -5.8642e-02],\n",
              "                        [-1.6471e-02,  3.5041e-02, -1.3950e-02],\n",
              "                        [-2.4639e-02, -3.1777e-02,  2.6137e-02]],\n",
              "              \n",
              "                       [[-2.7016e-03,  2.8692e-02, -1.3185e-02],\n",
              "                        [ 2.0706e-02,  5.9020e-02, -2.4850e-02],\n",
              "                        [ 4.8990e-02,  4.1177e-02, -6.5213e-02]],\n",
              "              \n",
              "                       ...,\n",
              "              \n",
              "                       [[ 1.0259e-02,  1.7004e-03,  4.3191e-02],\n",
              "                        [-5.9380e-02,  3.9017e-02,  3.7881e-02],\n",
              "                        [-1.1475e-02, -3.6940e-02,  3.9619e-02]],\n",
              "              \n",
              "                       [[-4.8350e-02,  2.4168e-02, -8.2670e-03],\n",
              "                        [-7.1533e-02,  8.8866e-03, -6.6686e-02],\n",
              "                        [ 4.6954e-02, -2.5085e-02, -4.3647e-02]],\n",
              "              \n",
              "                       [[-4.7305e-02,  3.8252e-02, -4.8285e-02],\n",
              "                        [ 5.6468e-02,  3.3109e-02,  5.6067e-03],\n",
              "                        [ 4.4642e-02, -1.6947e-02,  3.7641e-02]]],\n",
              "              \n",
              "              \n",
              "                      ...,\n",
              "              \n",
              "              \n",
              "                      [[[ 2.4455e-02,  8.0367e-03,  5.2103e-02],\n",
              "                        [-1.4228e-02, -6.7706e-02, -3.8039e-02],\n",
              "                        [-5.1685e-02, -3.5503e-02,  4.4738e-03]],\n",
              "              \n",
              "                       [[ 5.3073e-02, -4.7018e-02, -5.8141e-02],\n",
              "                        [-3.4637e-02, -5.1969e-02, -3.4924e-02],\n",
              "                        [ 8.5521e-03, -8.3913e-02, -3.0966e-02]],\n",
              "              \n",
              "                       [[-7.2473e-02, -2.3831e-02, -3.8769e-02],\n",
              "                        [-5.9776e-02, -1.3343e-02, -6.1840e-02],\n",
              "                        [-1.3622e-01, -1.4204e-01, -1.6680e-01]],\n",
              "              \n",
              "                       ...,\n",
              "              \n",
              "                       [[-2.6940e-02, -7.0316e-02, -7.2654e-02],\n",
              "                        [-9.1941e-03, -5.7474e-02, -3.0110e-02],\n",
              "                        [-4.6198e-02, -4.2689e-02,  3.2784e-02]],\n",
              "              \n",
              "                       [[ 6.5247e-02, -2.3371e-02,  4.9341e-02],\n",
              "                        [ 8.1865e-03, -4.9355e-02,  1.9814e-02],\n",
              "                        [ 2.9242e-02,  2.4356e-02, -5.5406e-02]],\n",
              "              \n",
              "                       [[-4.2260e-02,  3.6152e-02,  5.1394e-02],\n",
              "                        [-9.8161e-03,  6.6066e-02, -3.9995e-02],\n",
              "                        [ 1.0181e-02, -5.4285e-02,  2.4220e-02]]],\n",
              "              \n",
              "              \n",
              "                      [[[-1.6588e-02,  8.3103e-02,  5.8797e-02],\n",
              "                        [-5.0634e-02, -2.5926e-02,  5.3798e-02],\n",
              "                        [-3.2180e-02,  1.6198e-04,  3.1402e-02]],\n",
              "              \n",
              "                       [[ 8.0953e-04,  2.5214e-02, -8.1088e-02],\n",
              "                        [ 7.4230e-02,  5.0482e-02, -5.5119e-02],\n",
              "                        [ 2.6280e-02, -4.6627e-02, -2.7708e-02]],\n",
              "              \n",
              "                       [[-3.0711e-02,  6.4614e-02,  3.1002e-03],\n",
              "                        [ 2.4976e-02,  1.0561e-01,  7.3204e-02],\n",
              "                        [ 8.8425e-02,  5.2610e-02,  5.3816e-02]],\n",
              "              \n",
              "                       ...,\n",
              "              \n",
              "                       [[-4.0663e-02,  1.1093e-03, -3.3442e-02],\n",
              "                        [-2.6465e-02, -3.5127e-02, -8.4922e-02],\n",
              "                        [ 1.2880e-02, -6.7381e-02,  1.5817e-03]],\n",
              "              \n",
              "                       [[-4.9950e-02, -3.4072e-02, -2.0599e-02],\n",
              "                        [-4.4332e-02, -1.3571e-02, -1.3442e-03],\n",
              "                        [ 3.3971e-02, -4.9320e-02,  1.5200e-02]],\n",
              "              \n",
              "                       [[ 7.3847e-02,  2.2362e-02,  4.8948e-02],\n",
              "                        [-3.6158e-02,  6.4127e-02, -4.9715e-02],\n",
              "                        [-2.7625e-02, -3.1185e-02,  4.3670e-02]]],\n",
              "              \n",
              "              \n",
              "                      [[[ 1.0031e-01,  7.1949e-02, -1.0597e-02],\n",
              "                        [ 3.4535e-03,  4.9734e-02,  5.0456e-02],\n",
              "                        [-3.2068e-02,  3.1452e-02, -2.4479e-02]],\n",
              "              \n",
              "                       [[ 2.2219e-02, -4.6797e-02, -4.0033e-03],\n",
              "                        [ 5.3924e-03,  1.4829e-02,  2.3777e-02],\n",
              "                        [-7.7349e-03, -3.9880e-02,  9.7798e-03]],\n",
              "              \n",
              "                       [[ 6.1606e-02,  1.6789e-03,  8.4987e-02],\n",
              "                        [ 8.6921e-02, -1.1235e-02,  6.0389e-02],\n",
              "                        [ 2.7344e-02, -2.8654e-02,  1.3133e-02]],\n",
              "              \n",
              "                       ...,\n",
              "              \n",
              "                       [[-1.8921e-02, -1.1019e-01, -3.9251e-02],\n",
              "                        [-7.4234e-03, -8.1872e-02,  4.7227e-02],\n",
              "                        [ 2.3887e-02, -3.6385e-02, -1.1813e-02]],\n",
              "              \n",
              "                       [[ 3.8172e-02,  5.2116e-02, -1.0061e-02],\n",
              "                        [ 2.6975e-02, -7.0563e-02, -6.1296e-02],\n",
              "                        [ 2.3623e-02, -2.7301e-03,  1.4252e-02]],\n",
              "              \n",
              "                       [[-5.7264e-02,  1.3690e-02,  1.0890e-02],\n",
              "                        [-2.5199e-02, -4.8863e-02,  2.1523e-02],\n",
              "                        [-2.2749e-02, -4.0550e-02,  3.3258e-02]]]], device='cuda:0')),\n",
              "             ('conv3.bias',\n",
              "              tensor([ 0.0397,  0.0561,  0.0041,  0.0272, -0.0250,  0.0357,  0.0345, -0.0006,\n",
              "                       0.0487, -0.0233, -0.0260,  0.0526, -0.0427, -0.0197,  0.0171,  0.0022,\n",
              "                      -0.0262, -0.0387, -0.0409, -0.0065, -0.0481, -0.0034,  0.0029, -0.0342,\n",
              "                      -0.0137,  0.0286,  0.0319,  0.0087, -0.0584,  0.0336,  0.0068, -0.0186,\n",
              "                      -0.0432, -0.0216,  0.0139,  0.0197, -0.0406, -0.0065, -0.0031,  0.0384,\n",
              "                       0.0486, -0.0534, -0.0508,  0.0132, -0.0372, -0.0487, -0.0447, -0.0202,\n",
              "                      -0.0119, -0.0420, -0.0495,  0.0045, -0.0174,  0.0398,  0.0048,  0.0471,\n",
              "                      -0.0511, -0.0353, -0.0489,  0.0078, -0.0161,  0.0012,  0.0292, -0.0451],\n",
              "                     device='cuda:0')),\n",
              "             ('norm3.weight',\n",
              "              tensor([1.0429, 1.0067, 0.9910, 0.9547, 0.9559, 0.9953, 1.1134, 1.0296, 0.9687,\n",
              "                      1.0614, 1.0122, 0.9428, 1.0586, 0.9971, 0.9565, 1.0654, 0.9748, 0.9338,\n",
              "                      1.0625, 0.9085, 0.9316, 0.9325, 0.9538, 1.0206, 1.0161, 0.9619, 0.9506,\n",
              "                      1.0197, 1.0046, 0.9952, 1.0367, 1.0587, 1.0682, 0.9826, 1.0037, 1.0730,\n",
              "                      1.0197, 1.0922, 0.9928, 0.9652, 1.0152, 0.9794, 0.9531, 0.9855, 0.9171,\n",
              "                      0.9948, 1.0497, 1.0228, 0.9253, 1.0469, 1.0077, 1.0862, 1.0315, 1.0149,\n",
              "                      0.9258, 0.9838, 1.0505, 1.0258, 1.0211, 0.9335, 0.9498, 1.0612, 0.9729,\n",
              "                      1.0198], device='cuda:0')),\n",
              "             ('norm3.bias',\n",
              "              tensor([ 0.1008,  0.0003, -0.0835, -0.0853, -0.1213, -0.0160, -0.0448,  0.0525,\n",
              "                      -0.0788,  0.0841, -0.0716, -0.0601, -0.0535,  0.0741, -0.0278, -0.1433,\n",
              "                      -0.0875, -0.0994, -0.0345, -0.1850, -0.1124, -0.0721, -0.0165, -0.0026,\n",
              "                       0.0064, -0.0662, -0.0385, -0.0210, -0.0361, -0.1203,  0.0358, -0.1341,\n",
              "                      -0.1568,  0.0298, -0.0314, -0.0354, -0.1327, -0.0034, -0.0911, -0.0874,\n",
              "                      -0.0465, -0.0969,  0.0072, -0.0894, -0.0774, -0.0123,  0.0821, -0.0908,\n",
              "                      -0.0861, -0.0468, -0.0422,  0.0178, -0.0477, -0.1361, -0.1039, -0.0145,\n",
              "                      -0.0029,  0.0298, -0.0069, -0.0461, -0.1053,  0.0830, -0.1797, -0.1586],\n",
              "                     device='cuda:0')),\n",
              "             ('norm3.running_mean',\n",
              "              tensor([-0.7319, -0.6217, -0.0832,  1.0009,  0.3027, -0.5819, -0.5589, -1.2280,\n",
              "                      -0.4990, -0.6083, -0.3157,  0.1407,  0.0612, -0.8341, -0.8949, -0.0921,\n",
              "                      -0.2204, -0.8300, -0.0330,  1.3271,  0.9505, -0.6917, -1.0538, -0.3943,\n",
              "                      -0.6774, -0.0294, -0.6848, -0.4887, -0.8929, -0.3097, -1.0034, -0.1680,\n",
              "                      -0.3507, -1.2255, -0.6026, -0.7554, -0.0643, -0.5992, -0.7630, -0.4633,\n",
              "                      -0.0247, -0.4234, -1.5166,  0.0408, -1.1585, -0.5500, -0.9436, -0.4487,\n",
              "                       0.2858, -0.1433, -0.6493, -0.0865, -0.1135, -0.0387, -0.1580, -0.7421,\n",
              "                      -0.7053, -0.4633, -0.0482, -0.6497,  0.1240, -0.9320,  0.0419, -0.2457],\n",
              "                     device='cuda:0')),\n",
              "             ('norm3.running_var',\n",
              "              tensor([1.2426, 1.6487, 0.9748, 2.0196, 2.0425, 1.5668, 1.1558, 2.7181, 2.3513,\n",
              "                      2.5246, 0.6272, 1.5264, 1.0460, 2.3666, 1.4810, 0.5796, 1.5608, 1.8817,\n",
              "                      1.9394, 1.7340, 2.5264, 1.5184, 2.0967, 0.6242, 2.5448, 0.4837, 1.5545,\n",
              "                      3.4042, 1.9812, 1.8446, 1.5884, 0.6229, 1.4229, 2.8928, 1.6173, 4.0677,\n",
              "                      1.1485, 1.1845, 1.0795, 0.7705, 0.9661, 2.2811, 2.5923, 0.5782, 1.9302,\n",
              "                      1.8838, 2.5105, 0.9065, 1.2511, 0.8007, 2.9205, 1.4850, 1.0766, 1.0023,\n",
              "                      1.0217, 2.4125, 1.8345, 1.5829, 0.6828, 2.4211, 0.6671, 2.9582, 0.7293,\n",
              "                      1.0173], device='cuda:0')),\n",
              "             ('norm3.num_batches_tracked', tensor(1000, device='cuda:0')),\n",
              "             ('conv4.weight', tensor([[[[ 0.0148, -0.0152,  0.0133],\n",
              "                        [-0.1199, -0.0483, -0.0846],\n",
              "                        [ 0.0163, -0.0028,  0.0059]],\n",
              "              \n",
              "                       [[ 0.0274,  0.0557,  0.0032],\n",
              "                        [ 0.0334, -0.0070,  0.0349],\n",
              "                        [ 0.0149,  0.0473,  0.0289]],\n",
              "              \n",
              "                       [[-0.1070, -0.0453,  0.0018],\n",
              "                        [-0.0753, -0.0043, -0.0260],\n",
              "                        [-0.0288, -0.0065, -0.0025]],\n",
              "              \n",
              "                       ...,\n",
              "              \n",
              "                       [[ 0.0475, -0.0004,  0.0030],\n",
              "                        [ 0.0180, -0.0031,  0.0592],\n",
              "                        [ 0.0044,  0.0371,  0.0431]],\n",
              "              \n",
              "                       [[ 0.0072,  0.0175, -0.0132],\n",
              "                        [ 0.0070,  0.0208, -0.0668],\n",
              "                        [ 0.0032, -0.0110,  0.0187]],\n",
              "              \n",
              "                       [[-0.0326, -0.0258, -0.0262],\n",
              "                        [-0.0405,  0.0076, -0.0650],\n",
              "                        [-0.0620, -0.0799, -0.0959]]],\n",
              "              \n",
              "              \n",
              "                      [[[ 0.0095, -0.0523,  0.0300],\n",
              "                        [-0.0240, -0.0502, -0.0120],\n",
              "                        [-0.0767, -0.0051, -0.0417]],\n",
              "              \n",
              "                       [[-0.0445, -0.0463, -0.0692],\n",
              "                        [ 0.0328,  0.0140, -0.0134],\n",
              "                        [-0.0185, -0.0734, -0.0399]],\n",
              "              \n",
              "                       [[-0.0376, -0.0293,  0.0234],\n",
              "                        [-0.0089, -0.0281, -0.0513],\n",
              "                        [-0.1042, -0.0328, -0.0506]],\n",
              "              \n",
              "                       ...,\n",
              "              \n",
              "                       [[-0.0130, -0.0019, -0.0400],\n",
              "                        [ 0.0221,  0.0309,  0.0284],\n",
              "                        [ 0.0173, -0.0064,  0.0531]],\n",
              "              \n",
              "                       [[-0.0478, -0.0530, -0.0291],\n",
              "                        [-0.0027,  0.0360, -0.0029],\n",
              "                        [ 0.0023,  0.0051, -0.0521]],\n",
              "              \n",
              "                       [[ 0.0220,  0.0265,  0.0050],\n",
              "                        [-0.0226, -0.0138, -0.0308],\n",
              "                        [ 0.0144, -0.0264, -0.0282]]],\n",
              "              \n",
              "              \n",
              "                      [[[-0.0444, -0.0053,  0.0102],\n",
              "                        [ 0.0582,  0.0605,  0.0137],\n",
              "                        [-0.0197, -0.0206, -0.0015]],\n",
              "              \n",
              "                       [[ 0.0357,  0.0383, -0.0132],\n",
              "                        [-0.0672, -0.0392, -0.0550],\n",
              "                        [ 0.0458,  0.0019,  0.0029]],\n",
              "              \n",
              "                       [[ 0.0011, -0.0023,  0.0502],\n",
              "                        [ 0.0584,  0.0508, -0.0028],\n",
              "                        [ 0.0060,  0.0176,  0.0366]],\n",
              "              \n",
              "                       ...,\n",
              "              \n",
              "                       [[-0.0084,  0.0072, -0.0109],\n",
              "                        [-0.0773, -0.0839, -0.0422],\n",
              "                        [-0.0229, -0.0985, -0.0597]],\n",
              "              \n",
              "                       [[ 0.0663, -0.0006, -0.0085],\n",
              "                        [ 0.0321,  0.0113, -0.0208],\n",
              "                        [ 0.0636, -0.0124,  0.0207]],\n",
              "              \n",
              "                       [[-0.0172, -0.0109,  0.0478],\n",
              "                        [-0.0503, -0.0686, -0.0831],\n",
              "                        [ 0.0084,  0.0255, -0.0037]]],\n",
              "              \n",
              "              \n",
              "                      ...,\n",
              "              \n",
              "              \n",
              "                      [[[-0.0601, -0.0438, -0.0700],\n",
              "                        [-0.0252,  0.0110,  0.0061],\n",
              "                        [-0.0365,  0.0084, -0.0037]],\n",
              "              \n",
              "                       [[ 0.0732,  0.0481,  0.0108],\n",
              "                        [-0.0159, -0.0289, -0.0243],\n",
              "                        [-0.0296,  0.0102, -0.0003]],\n",
              "              \n",
              "                       [[-0.0918, -0.0469,  0.0016],\n",
              "                        [-0.0092, -0.0205,  0.0128],\n",
              "                        [-0.0236,  0.0108, -0.0106]],\n",
              "              \n",
              "                       ...,\n",
              "              \n",
              "                       [[ 0.0516,  0.0374,  0.0464],\n",
              "                        [-0.0088, -0.0241,  0.0241],\n",
              "                        [-0.0158, -0.0316, -0.0264]],\n",
              "              \n",
              "                       [[ 0.0121,  0.0788,  0.0140],\n",
              "                        [-0.0081,  0.0308,  0.0065],\n",
              "                        [ 0.0409, -0.0104, -0.0149]],\n",
              "              \n",
              "                       [[ 0.0031, -0.0403, -0.0610],\n",
              "                        [ 0.0367,  0.0103,  0.0286],\n",
              "                        [ 0.0577, -0.0057, -0.0241]]],\n",
              "              \n",
              "              \n",
              "                      [[[ 0.0101,  0.0340,  0.0295],\n",
              "                        [-0.0063,  0.0302, -0.0021],\n",
              "                        [-0.0336,  0.0164,  0.0075]],\n",
              "              \n",
              "                       [[-0.0072,  0.0184,  0.0317],\n",
              "                        [ 0.0296, -0.0351,  0.0081],\n",
              "                        [ 0.0655,  0.0924,  0.0269]],\n",
              "              \n",
              "                       [[-0.0145,  0.0316, -0.0062],\n",
              "                        [-0.0104,  0.0363,  0.0107],\n",
              "                        [ 0.0226,  0.0084, -0.0330]],\n",
              "              \n",
              "                       ...,\n",
              "              \n",
              "                       [[-0.0718, -0.0660,  0.0028],\n",
              "                        [ 0.0594,  0.0435,  0.0138],\n",
              "                        [ 0.0352,  0.0767,  0.1164]],\n",
              "              \n",
              "                       [[ 0.0152, -0.0117, -0.0047],\n",
              "                        [-0.0212, -0.0273,  0.0226],\n",
              "                        [ 0.0576, -0.0364, -0.0272]],\n",
              "              \n",
              "                       [[-0.0131,  0.0183, -0.0630],\n",
              "                        [-0.0458,  0.0349,  0.0177],\n",
              "                        [ 0.0133,  0.0242, -0.0084]]],\n",
              "              \n",
              "              \n",
              "                      [[[-0.0146, -0.0266, -0.0199],\n",
              "                        [-0.0036, -0.0314, -0.0076],\n",
              "                        [ 0.0622,  0.0130,  0.0050]],\n",
              "              \n",
              "                       [[-0.0500, -0.0476, -0.0045],\n",
              "                        [-0.0034, -0.0349,  0.0144],\n",
              "                        [-0.0037, -0.0148, -0.0530]],\n",
              "              \n",
              "                       [[ 0.0352, -0.0297, -0.0320],\n",
              "                        [ 0.0079, -0.0111, -0.0189],\n",
              "                        [-0.0365, -0.0319, -0.1002]],\n",
              "              \n",
              "                       ...,\n",
              "              \n",
              "                       [[-0.0957, -0.0390, -0.0567],\n",
              "                        [-0.0313, -0.0525, -0.0445],\n",
              "                        [-0.1045, -0.0792, -0.0203]],\n",
              "              \n",
              "                       [[-0.0452, -0.0543, -0.0952],\n",
              "                        [ 0.0303, -0.0438, -0.0074],\n",
              "                        [-0.0686, -0.0334,  0.0013]],\n",
              "              \n",
              "                       [[ 0.0155, -0.0328, -0.0502],\n",
              "                        [-0.0204,  0.0074, -0.0517],\n",
              "                        [-0.0481,  0.0080, -0.0285]]]], device='cuda:0')),\n",
              "             ('conv4.bias',\n",
              "              tensor([-0.0259, -0.0149,  0.0339,  0.0366, -0.0220, -0.0007,  0.0285, -0.0081,\n",
              "                       0.0318,  0.0316, -0.0318, -0.0333,  0.0041,  0.0044, -0.0378,  0.0099,\n",
              "                      -0.0117,  0.0072, -0.0242,  0.0244, -0.0017, -0.0335, -0.0290,  0.0368,\n",
              "                       0.0022,  0.0169,  0.0375,  0.0361,  0.0047, -0.0258,  0.0456, -0.0049,\n",
              "                       0.0323, -0.0221,  0.0051,  0.0287, -0.0397,  0.0392, -0.0296, -0.0061,\n",
              "                       0.0237,  0.0085, -0.0125, -0.0315,  0.0019, -0.0347, -0.0412,  0.0492,\n",
              "                      -0.0089, -0.0226,  0.0323, -0.0398,  0.0098,  0.0168, -0.0141, -0.0387,\n",
              "                       0.0164, -0.0104, -0.0277,  0.0226, -0.0038,  0.0225, -0.0148, -0.0187],\n",
              "                     device='cuda:0')),\n",
              "             ('norm4.weight',\n",
              "              tensor([0.9888, 0.9849, 1.0623, 0.9965, 1.0047, 0.9858, 1.0368, 0.9120, 1.0075,\n",
              "                      1.0131, 0.9978, 1.0018, 1.0431, 0.9528, 1.0064, 1.0026, 0.9434, 0.9427,\n",
              "                      0.9386, 0.9259, 1.0011, 0.9653, 1.0126, 0.9936, 1.0095, 0.9038, 0.9586,\n",
              "                      0.9655, 1.0736, 0.8683, 0.9985, 1.0222, 0.9887, 0.9639, 0.9612, 1.0076,\n",
              "                      0.9331, 0.9952, 0.9656, 1.0019, 1.0249, 1.0298, 0.9597, 1.0171, 1.0119,\n",
              "                      0.9409, 1.0240, 1.0116, 1.0557, 1.0017, 1.1107, 1.0097, 0.9735, 1.0358,\n",
              "                      0.9689, 0.9490, 1.0085, 1.0100, 0.9909, 0.9932, 0.9190, 0.9940, 1.0798,\n",
              "                      1.0088], device='cuda:0')),\n",
              "             ('norm4.bias',\n",
              "              tensor([-0.0532, -0.0728, -0.1245, -0.1527, -0.0553, -0.1053, -0.0114, -0.0827,\n",
              "                      -0.0841, -0.0154, -0.0808, -0.1556, -0.1976, -0.1315, -0.0164, -0.0032,\n",
              "                      -0.1261, -0.0519, -0.0854, -0.1985, -0.0655, -0.1043, -0.0659, -0.1180,\n",
              "                      -0.1438, -0.0790, -0.0313, -0.1440, -0.0579, -0.0842, -0.0359, -0.0073,\n",
              "                      -0.1066, -0.0556, -0.2459, -0.1246, -0.1491, -0.1002, -0.0143, -0.0807,\n",
              "                      -0.2081, -0.2144, -0.0214, -0.1984, -0.1898, -0.1641, -0.1246, -0.1686,\n",
              "                       0.0938, -0.1744, -0.0481, -0.0504, -0.0796, -0.0372, -0.1838, -0.2206,\n",
              "                      -0.0411, -0.0068, -0.0733,  0.0510, -0.0933, -0.0981, -0.0512, -0.1225],\n",
              "                     device='cuda:0')),\n",
              "             ('norm4.running_mean',\n",
              "              tensor([ 0.4738, -1.6170, -1.6193,  1.7558, -1.1696,  0.4674, -1.1984, -0.9104,\n",
              "                      -0.9468, -2.2013, -0.3510, -0.9586, -0.2971, -1.7637, -1.6209, -1.4813,\n",
              "                      -1.0335, -0.7953, -1.0745, -0.2692, -1.0071, -1.7064, -0.6841, -1.1223,\n",
              "                      -0.5230, -1.3270, -1.5202,  0.5028, -0.2762,  0.2588, -0.5834, -1.5155,\n",
              "                       0.2686, -1.5576,  1.1334, -0.4233, -0.8681, -0.3283, -0.6698, -1.2057,\n",
              "                      -0.4345,  0.8842, -2.4033,  0.1047, -0.7662, -0.9618, -1.0483, -0.1306,\n",
              "                      -0.6569, -0.2706, -0.3428, -0.9983, -0.7429,  0.0970, -0.2955,  0.1956,\n",
              "                      -0.1093, -1.6760, -0.2973, -1.1979,  0.1392, -1.2418, -0.3049, -1.1477],\n",
              "                     device='cuda:0')),\n",
              "             ('norm4.running_var',\n",
              "              tensor([2.7720, 2.1598, 1.1011, 1.2501, 3.2556, 1.6410, 3.5388, 4.2422, 3.2134,\n",
              "                      3.6537, 2.0318, 1.4986, 1.3194, 0.7053, 2.4686, 3.5385, 2.7204, 3.1818,\n",
              "                      3.2758, 1.1944, 2.1323, 2.4435, 1.2313, 1.8465, 1.0689, 2.8341, 4.0881,\n",
              "                      1.3003, 1.8757, 2.5008, 2.3605, 4.2484, 1.7070, 2.4602, 1.2887, 1.6794,\n",
              "                      2.5580, 1.0077, 2.3590, 2.5495, 1.1343, 2.9477, 3.6459, 1.3187, 0.5586,\n",
              "                      0.9724, 2.2607, 0.5022, 2.3439, 1.0971, 1.0808, 3.2143, 2.3905, 2.4751,\n",
              "                      0.9421, 1.5684, 1.5910, 2.5826, 2.1874, 3.0160, 2.3808, 2.3520, 1.0472,\n",
              "                      1.0403], device='cuda:0')),\n",
              "             ('norm4.num_batches_tracked', tensor(1000, device='cuda:0')),\n",
              "             ('conv5.weight',\n",
              "              tensor([[[[-1.9190e-05,  1.3611e-02,  2.5006e-02],\n",
              "                        [-1.3931e-02,  4.8479e-03, -1.5096e-02],\n",
              "                        [ 6.9055e-03, -1.8739e-02, -4.1944e-02]],\n",
              "              \n",
              "                       [[ 4.9672e-02, -3.1419e-02, -3.4691e-02],\n",
              "                        [-1.0996e-02, -5.5803e-02, -3.8665e-02],\n",
              "                        [ 1.1987e-03, -2.9092e-02, -3.3879e-02]],\n",
              "              \n",
              "                       [[-5.8476e-02, -5.2812e-02,  1.6829e-03],\n",
              "                        [ 2.5148e-02,  6.3551e-02, -2.6733e-03],\n",
              "                        [ 7.4133e-02,  6.9491e-02,  3.0845e-02]],\n",
              "              \n",
              "                       ...,\n",
              "              \n",
              "                       [[ 7.5215e-02,  2.3630e-02,  7.5319e-02],\n",
              "                        [ 2.0925e-03, -4.0571e-02, -2.9083e-02],\n",
              "                        [ 2.8486e-02,  5.8688e-02,  6.0690e-02]],\n",
              "              \n",
              "                       [[-4.9665e-02,  8.0062e-04, -6.1738e-02],\n",
              "                        [ 3.5925e-02, -1.7148e-02, -3.3408e-02],\n",
              "                        [ 9.1158e-02,  2.8464e-02,  2.2339e-02]],\n",
              "              \n",
              "                       [[ 1.1802e-02,  1.5082e-03,  1.5248e-02],\n",
              "                        [ 2.0680e-02,  1.1993e-02,  2.4549e-02],\n",
              "                        [ 6.4228e-02,  3.4489e-02,  5.8671e-02]]],\n",
              "              \n",
              "              \n",
              "                      [[[-2.5252e-03,  7.9508e-03,  1.1320e-02],\n",
              "                        [-5.5228e-02, -3.0660e-03, -3.2351e-02],\n",
              "                        [-7.3143e-02, -5.5132e-03, -6.4652e-03]],\n",
              "              \n",
              "                       [[-1.6368e-02, -4.1579e-02,  6.1065e-03],\n",
              "                        [ 1.8004e-02, -2.8720e-02, -1.4272e-02],\n",
              "                        [-2.0588e-02, -2.8915e-02, -2.1973e-02]],\n",
              "              \n",
              "                       [[-1.7528e-02, -2.3985e-02, -3.8295e-02],\n",
              "                        [ 8.1076e-03,  2.6921e-02, -1.8920e-02],\n",
              "                        [ 3.0964e-02,  5.4795e-02,  3.4931e-02]],\n",
              "              \n",
              "                       ...,\n",
              "              \n",
              "                       [[ 3.8169e-02,  5.6881e-02,  4.2921e-02],\n",
              "                        [-1.5740e-02,  3.9843e-02,  3.8649e-02],\n",
              "                        [ 2.8041e-02,  3.5125e-02,  3.4592e-02]],\n",
              "              \n",
              "                       [[-5.6230e-03,  2.1896e-02,  3.1552e-03],\n",
              "                        [-1.6394e-02, -2.3752e-02, -2.3587e-02],\n",
              "                        [ 7.1014e-02,  9.4933e-02,  8.8954e-02]],\n",
              "              \n",
              "                       [[ 4.5439e-02,  2.3958e-02, -4.1127e-03],\n",
              "                        [-1.9400e-02,  1.1807e-02,  1.0317e-02],\n",
              "                        [-3.9269e-02, -2.2007e-02, -5.2975e-02]]],\n",
              "              \n",
              "              \n",
              "                      [[[ 8.4886e-03,  1.2876e-02,  4.5953e-02],\n",
              "                        [-4.2765e-02, -3.5950e-02, -4.3446e-02],\n",
              "                        [-4.6173e-02, -4.1151e-02, -2.4820e-02]],\n",
              "              \n",
              "                       [[-1.7151e-02,  2.7905e-02, -5.1614e-03],\n",
              "                        [ 2.2520e-02,  1.5912e-02, -2.2495e-02],\n",
              "                        [ 1.9719e-02,  2.0105e-02, -3.5580e-03]],\n",
              "              \n",
              "                       [[-3.9726e-03, -4.8954e-03, -5.5690e-02],\n",
              "                        [ 9.4524e-03,  2.5696e-02,  1.9284e-02],\n",
              "                        [-2.4027e-02, -2.7991e-02,  4.0714e-02]],\n",
              "              \n",
              "                       ...,\n",
              "              \n",
              "                       [[ 2.6902e-02,  9.5601e-04,  3.9462e-02],\n",
              "                        [ 3.1226e-02,  4.0980e-02,  2.7506e-02],\n",
              "                        [ 2.2726e-02,  1.7450e-02, -5.9820e-04]],\n",
              "              \n",
              "                       [[ 3.4551e-02,  3.7868e-02,  5.2654e-02],\n",
              "                        [-9.4854e-03, -8.3020e-03, -1.0345e-03],\n",
              "                        [ 6.8521e-03,  2.1008e-02, -8.9066e-03]],\n",
              "              \n",
              "                       [[-9.7653e-03,  4.2540e-02,  2.4396e-02],\n",
              "                        [ 3.0022e-02, -1.7164e-02, -1.5698e-03],\n",
              "                        [-2.2532e-02,  2.9322e-02,  2.9390e-02]]],\n",
              "              \n",
              "              \n",
              "                      ...,\n",
              "              \n",
              "              \n",
              "                      [[[ 2.8328e-02,  3.1807e-02, -1.4095e-02],\n",
              "                        [-1.4588e-02, -3.6254e-02, -5.1854e-02],\n",
              "                        [-7.1111e-04,  2.2342e-02,  1.9755e-02]],\n",
              "              \n",
              "                       [[-1.3790e-02, -5.2109e-02, -2.5748e-02],\n",
              "                        [-2.4844e-02, -2.0991e-02, -5.9640e-02],\n",
              "                        [-7.7364e-02, -2.3038e-02, -9.9821e-02]],\n",
              "              \n",
              "                       [[-7.4580e-02, -3.0688e-02, -6.5787e-02],\n",
              "                        [ 8.7625e-03,  2.6542e-02, -2.8661e-02],\n",
              "                        [ 2.2665e-02,  2.2564e-02,  7.8102e-02]],\n",
              "              \n",
              "                       ...,\n",
              "              \n",
              "                       [[-1.3664e-02, -1.5986e-02,  4.8456e-03],\n",
              "                        [-1.5852e-02, -1.2463e-03, -1.0629e-02],\n",
              "                        [-5.1434e-03,  3.1379e-02,  1.4318e-02]],\n",
              "              \n",
              "                       [[-5.9050e-02, -2.2172e-02, -7.6935e-02],\n",
              "                        [-3.9489e-02, -2.0907e-04, -3.2997e-02],\n",
              "                        [ 2.4862e-03,  1.4402e-02,  6.6311e-02]],\n",
              "              \n",
              "                       [[-2.4351e-02, -4.7166e-02, -1.0483e-03],\n",
              "                        [ 2.2518e-02, -2.0495e-02,  4.5383e-02],\n",
              "                        [ 9.3801e-02,  8.1706e-02,  6.5513e-02]]],\n",
              "              \n",
              "              \n",
              "                      [[[-1.0528e-02, -3.1370e-02,  2.9355e-02],\n",
              "                        [ 1.7643e-02, -6.9764e-02, -3.2771e-02],\n",
              "                        [-3.9599e-02, -2.7650e-02, -4.8369e-02]],\n",
              "              \n",
              "                       [[-1.3372e-02, -4.3635e-02, -6.9984e-02],\n",
              "                        [ 9.0171e-03, -1.7930e-02, -5.5771e-02],\n",
              "                        [ 2.2922e-02,  2.1349e-03, -6.2239e-03]],\n",
              "              \n",
              "                       [[ 2.0084e-03,  4.6906e-02,  6.1442e-03],\n",
              "                        [ 3.2190e-04,  6.4766e-02,  5.4815e-02],\n",
              "                        [ 7.2205e-02,  6.4846e-02,  2.8002e-02]],\n",
              "              \n",
              "                       ...,\n",
              "              \n",
              "                       [[-1.5001e-02, -3.7242e-02, -6.1169e-02],\n",
              "                        [-1.0210e-03,  7.3374e-03, -4.8485e-02],\n",
              "                        [ 4.6188e-03, -4.5268e-03, -3.9310e-02]],\n",
              "              \n",
              "                       [[-1.4397e-02,  2.5431e-02,  6.7678e-03],\n",
              "                        [ 2.8288e-02,  5.8662e-02,  5.0542e-02],\n",
              "                        [-1.5737e-02,  7.5457e-02,  2.4017e-02]],\n",
              "              \n",
              "                       [[ 1.7019e-02, -4.4368e-02, -3.2131e-02],\n",
              "                        [ 6.0495e-03, -3.2076e-02,  1.7647e-02],\n",
              "                        [-2.9528e-02, -2.9180e-02, -2.9563e-02]]],\n",
              "              \n",
              "              \n",
              "                      [[[ 2.5336e-02,  5.2397e-03,  1.5554e-03],\n",
              "                        [-3.7097e-02,  3.1390e-03, -9.3106e-03],\n",
              "                        [-5.7185e-02,  3.6477e-02,  5.6505e-02]],\n",
              "              \n",
              "                       [[-1.5915e-02, -5.3726e-02, -2.6188e-02],\n",
              "                        [-6.4048e-03,  6.7204e-03, -2.0912e-02],\n",
              "                        [ 1.0636e-02,  2.4885e-02,  1.0326e-02]],\n",
              "              \n",
              "                       [[ 4.0767e-03,  6.6694e-02,  8.6214e-03],\n",
              "                        [ 1.7398e-02,  2.2845e-02,  9.6201e-03],\n",
              "                        [-2.1464e-02,  1.3036e-02,  6.3943e-02]],\n",
              "              \n",
              "                       ...,\n",
              "              \n",
              "                       [[-1.3895e-03, -3.5321e-02, -1.9124e-02],\n",
              "                        [-2.0516e-02,  4.6417e-02, -2.8537e-02],\n",
              "                        [ 2.3002e-03, -2.3965e-02, -8.4825e-03]],\n",
              "              \n",
              "                       [[-1.1643e-03,  1.6372e-02, -1.3647e-02],\n",
              "                        [ 3.1198e-02, -1.4936e-03,  1.8912e-02],\n",
              "                        [-3.4187e-02, -5.7789e-03,  8.6889e-03]],\n",
              "              \n",
              "                       [[ 2.9567e-03,  6.1730e-03,  3.8051e-03],\n",
              "                        [-4.3088e-02, -1.1447e-02,  1.3230e-02],\n",
              "                        [ 3.8346e-02,  3.7547e-02,  2.8590e-02]]]], device='cuda:0')),\n",
              "             ('conv5.bias',\n",
              "              tensor([-1.4241e-02,  2.9188e-02, -3.8727e-02, -2.7989e-02,  1.0629e-02,\n",
              "                      -2.7655e-02,  8.6736e-03,  9.4149e-04, -1.2394e-02, -1.7152e-05,\n",
              "                      -3.5253e-02, -1.1843e-02,  4.4376e-03,  2.5692e-02,  1.5800e-02,\n",
              "                      -3.6347e-02,  3.7829e-03, -1.8479e-02, -3.8213e-02,  2.8250e-02,\n",
              "                      -2.8821e-02, -8.5157e-04,  4.0122e-02, -2.7409e-02, -2.7746e-02,\n",
              "                      -1.3775e-02,  4.1259e-02,  1.0078e-02,  3.9691e-03, -1.3347e-02,\n",
              "                       3.8150e-02, -1.8608e-02,  2.1996e-02, -6.0235e-03,  1.3165e-02,\n",
              "                      -6.0219e-03, -3.1035e-03, -3.1799e-03, -3.9764e-02, -3.5909e-02,\n",
              "                       2.8605e-02,  1.3040e-02,  3.2519e-02, -6.5045e-03, -3.5067e-03,\n",
              "                      -3.4377e-02, -4.0656e-02, -1.3093e-02,  1.7582e-02,  4.0471e-02,\n",
              "                       9.8037e-03, -3.7200e-02,  8.7254e-03, -3.6016e-02, -1.9877e-02,\n",
              "                      -9.5607e-03, -9.1256e-03, -1.0493e-02,  6.1364e-03, -1.3050e-02,\n",
              "                      -1.7010e-04, -1.3592e-02, -2.7098e-03,  1.8285e-02,  1.8327e-02,\n",
              "                      -2.3955e-02,  2.4421e-02, -2.8130e-03,  5.6705e-03, -3.8400e-02,\n",
              "                       4.0604e-03,  2.9046e-02, -2.4313e-02, -3.9568e-02, -1.5216e-02,\n",
              "                       3.6441e-02, -3.9820e-02,  2.5798e-03, -1.9412e-02, -1.6532e-02,\n",
              "                       1.6431e-02,  1.8883e-02,  7.3931e-04,  2.9065e-02,  1.3819e-02,\n",
              "                      -2.6137e-02, -4.2359e-03, -2.3718e-03, -2.0596e-02,  4.5579e-03,\n",
              "                      -8.2641e-03,  2.9824e-02,  3.6745e-02,  3.0990e-02, -3.4676e-02,\n",
              "                       2.0437e-02,  2.6793e-02,  7.2150e-03,  2.7131e-02, -3.8967e-02,\n",
              "                      -3.3639e-03,  1.2418e-02, -2.7154e-03,  4.0331e-02,  2.6141e-02,\n",
              "                       3.6226e-02,  9.5881e-03,  3.4024e-02, -4.5510e-03, -2.4309e-02,\n",
              "                       2.1929e-02,  8.0357e-04, -2.7913e-02,  2.6142e-02, -3.1538e-02,\n",
              "                       1.5824e-02, -1.5028e-02,  1.8883e-02, -3.1015e-02,  3.2683e-02,\n",
              "                       2.6977e-02,  1.4356e-02, -4.0168e-02, -1.7523e-02, -1.6272e-02,\n",
              "                      -2.0451e-02,  1.9016e-02,  1.1847e-02], device='cuda:0')),\n",
              "             ('norm5.weight',\n",
              "              tensor([1.0558, 0.9992, 0.9062, 1.0052, 0.9902, 0.9883, 0.8896, 1.0012, 1.0168,\n",
              "                      0.9615, 0.9964, 0.9847, 0.9162, 0.9624, 0.9994, 0.9313, 1.0314, 1.0495,\n",
              "                      0.8654, 0.9657, 0.9114, 0.9853, 0.9550, 0.9806, 1.1082, 0.8164, 0.9901,\n",
              "                      0.9231, 1.0134, 1.1200, 0.9713, 0.9015, 1.0184, 0.9798, 1.0040, 0.9022,\n",
              "                      1.0191, 1.0226, 0.9901, 0.9518, 0.9628, 1.0265, 0.9484, 0.9272, 1.0699,\n",
              "                      0.9766, 0.9545, 0.9901, 0.9315, 1.0353, 0.9588, 1.0070, 1.0631, 0.8704,\n",
              "                      1.0932, 0.9194, 0.9916, 1.0027, 1.0441, 0.8861, 1.0302, 1.1159, 0.9669,\n",
              "                      1.0625, 1.0342, 0.9714, 0.9071, 1.1041, 0.9785, 0.9956, 0.9489, 0.9782,\n",
              "                      0.9201, 0.9617, 0.9487, 0.9509, 0.9144, 1.0914, 1.0033, 0.9838, 0.8544,\n",
              "                      1.0316, 0.9392, 0.9533, 0.9346, 1.0144, 1.0542, 1.0011, 1.0158, 1.0332,\n",
              "                      0.8786, 0.9704, 0.9208, 0.9256, 0.9415, 0.9285, 0.9495, 1.0508, 1.0682,\n",
              "                      0.9288, 1.0203, 0.9248, 0.9364, 1.0161, 1.0957, 0.9609, 1.0372, 0.9073,\n",
              "                      0.9415, 0.9968, 0.9677, 1.0647, 0.9494, 0.8907, 1.0545, 0.9037, 0.9476,\n",
              "                      0.9249, 0.8859, 0.9147, 0.8905, 0.9365, 0.8756, 0.8937, 0.9032, 1.0059,\n",
              "                      0.9513, 1.0540], device='cuda:0')),\n",
              "             ('norm5.bias',\n",
              "              tensor([-0.2333, -0.1926, -0.1009, -0.1024, -0.0706, -0.1355, -0.0959, -0.1484,\n",
              "                      -0.1359, -0.2010, -0.1583, -0.1255, -0.0791, -0.1317, -0.1171, -0.1004,\n",
              "                      -0.1830, -0.1171, -0.0838, -0.1417, -0.0975, -0.0954, -0.1466, -0.0436,\n",
              "                      -0.1548, -0.1387, -0.2177, -0.0694, -0.0928, -0.2808, -0.1094, -0.1917,\n",
              "                      -0.1528, -0.1034, -0.1758, -0.0700, -0.0425, -0.1127, -0.1043, -0.0737,\n",
              "                      -0.0921, -0.0330, -0.1269, -0.1053, -0.2348, -0.0996, -0.1582, -0.1397,\n",
              "                      -0.0247, -0.1711, -0.1807, -0.0677, -0.1117, -0.1385, -0.1634, -0.1811,\n",
              "                      -0.0495, -0.0968, -0.1025, -0.0710, -0.1157, -0.1480, -0.1329, -0.2007,\n",
              "                      -0.2149, -0.1015, -0.1502, -0.1693, -0.1052, -0.2066, -0.1419, -0.1291,\n",
              "                      -0.1972, -0.0865, -0.0664, -0.2330, -0.0571, -0.2068, -0.1911, -0.1799,\n",
              "                      -0.1107, -0.1764, -0.0956, -0.1435, -0.1174, -0.1722, -0.2763, -0.1477,\n",
              "                      -0.1227, -0.0839, -0.0593, -0.1931, -0.1188, -0.0752, -0.0854, -0.1412,\n",
              "                      -0.0323, -0.1616, -0.0424, -0.0524, -0.1063, -0.1550, -0.0417, -0.1696,\n",
              "                      -0.1357, -0.1467, -0.2868, -0.0109, -0.1318, -0.1406, -0.0704, -0.1359,\n",
              "                      -0.1950, -0.1526, -0.1689, -0.0955, -0.1455, -0.0523, -0.1380, -0.1904,\n",
              "                      -0.1087, -0.0391, -0.0789, -0.0963, -0.1791, -0.1240, -0.0368, -0.2428],\n",
              "                     device='cuda:0')),\n",
              "             ('norm5.running_mean',\n",
              "              tensor([-0.0754,  0.0889, -0.7575, -2.4146, -1.7140, -0.6751, -3.5323,  0.4696,\n",
              "                      -1.2890, -0.6779, -0.5415, -2.1545, -1.0914, -1.0743, -0.3259, -0.5746,\n",
              "                      -0.8355, -0.7348, -1.5812, -1.3470, -2.3436, -1.6384, -0.3712, -2.1471,\n",
              "                      -0.5507, -1.0260,  0.3882, -3.2830, -1.6698,  0.0703, -0.4553,  0.2986,\n",
              "                      -1.3073, -2.9231,  1.3528, -1.9501,  0.1128, -0.5229, -2.4617, -2.7019,\n",
              "                       0.5606, -1.1019, -1.5333, -1.0595,  0.2422, -0.1213, -1.8604, -1.5860,\n",
              "                      -3.7314, -0.9644, -0.6490, -1.1699, -0.2040, -2.1513, -1.1098, -1.1057,\n",
              "                      -0.7543, -1.4616, -1.0598, -1.6009, -1.5300,  0.2616,  1.6536, -0.0807,\n",
              "                      -0.1143, -2.6839, -0.8302, -0.8394, -1.4204,  1.0944, -1.3944, -1.8813,\n",
              "                      -0.2089, -1.9467,  0.1435,  0.9921, -0.7727, -0.7221, -0.2989, -1.2759,\n",
              "                      -1.1265, -1.3176, -0.7570, -2.9122,  0.8052, -0.1037,  0.3474, -1.1321,\n",
              "                      -1.4984, -0.6081, -3.6757, -0.5618, -1.5072, -4.0678, -1.5461,  0.2127,\n",
              "                      -1.5489, -0.6499, -3.0167, -2.5795, -0.1654, -2.8643, -1.9490, -1.0563,\n",
              "                      -0.7031, -2.1410, -0.5183, -1.7311, -0.3617, -0.6511,  0.1007, -0.7715,\n",
              "                      -1.4179, -0.6211, -0.1756, -2.9498, -0.8192, -1.8527, -1.0054, -0.8768,\n",
              "                      -1.6466, -2.1592, -3.5556, -3.6424, -0.8381, -2.2159, -1.8410, -0.4237],\n",
              "                     device='cuda:0')),\n",
              "             ('norm5.running_var',\n",
              "              tensor([1.5511, 1.4136, 2.4646, 2.0146, 3.5077, 1.1156, 3.0669, 1.6647, 1.5569,\n",
              "                      1.6363, 2.1044, 2.2328, 1.8533, 1.0583, 2.3039, 1.7814, 1.4018, 1.8122,\n",
              "                      3.7680, 2.0205, 4.3583, 1.9550, 1.6951, 2.3759, 1.3456, 2.1180, 1.1967,\n",
              "                      2.9321, 2.5287, 1.3560, 1.6562, 1.7714, 2.3166, 3.7101, 2.3934, 4.7839,\n",
              "                      1.9756, 1.9871, 2.2424, 1.9394, 4.5575, 3.5589, 1.7990, 3.6200, 2.0782,\n",
              "                      2.9905, 2.3184, 1.4077, 3.7072, 1.9787, 2.4082, 1.8676, 1.3259, 1.8581,\n",
              "                      1.2771, 1.8495, 2.3250, 1.9857, 4.7182, 2.6411, 3.8953, 4.0804, 2.5735,\n",
              "                      1.8583, 0.8730, 2.7662, 2.0024, 1.3023, 4.1817, 1.6526, 0.9697, 1.1558,\n",
              "                      5.4452, 1.9073, 1.5513, 1.0011, 2.5626, 1.3379, 1.3574, 2.7129, 2.0187,\n",
              "                      1.7147, 3.6852, 1.9801, 2.0750, 2.0046, 1.1113, 1.6447, 1.8254, 1.6474,\n",
              "                      2.0982, 0.9429, 1.8775, 3.1851, 2.7034, 1.5476, 4.7995, 1.7073, 2.5914,\n",
              "                      2.4622, 3.2737, 3.6944, 5.1094, 1.5375, 3.7690, 1.1645, 0.9109, 2.8975,\n",
              "                      1.8627, 3.4503, 1.9391, 2.0939, 1.3433, 1.7773, 1.4564, 3.1370, 4.3925,\n",
              "                      2.3791, 2.8229, 1.0980, 1.3801, 3.2474, 3.1319, 4.1727, 2.1263, 2.9063,\n",
              "                      3.8860, 1.2350], device='cuda:0')),\n",
              "             ('norm5.num_batches_tracked', tensor(1000, device='cuda:0')),\n",
              "             ('conv6.weight', tensor([[[[-0.0227, -0.0015,  0.0276],\n",
              "                        [ 0.0261,  0.0387,  0.0412],\n",
              "                        [ 0.0823,  0.0425,  0.0637]],\n",
              "              \n",
              "                       [[-0.0205, -0.0063, -0.0295],\n",
              "                        [-0.0216, -0.0302, -0.0289],\n",
              "                        [-0.0368, -0.0339, -0.0610]],\n",
              "              \n",
              "                       [[-0.0615, -0.0114, -0.0267],\n",
              "                        [-0.0279, -0.0363, -0.0003],\n",
              "                        [-0.0351, -0.0381, -0.0179]],\n",
              "              \n",
              "                       ...,\n",
              "              \n",
              "                       [[ 0.0252,  0.0325,  0.0194],\n",
              "                        [ 0.0083, -0.0076, -0.0039],\n",
              "                        [ 0.0068,  0.0171, -0.0019]],\n",
              "              \n",
              "                       [[-0.0228, -0.0018, -0.0258],\n",
              "                        [-0.0205,  0.0065,  0.0154],\n",
              "                        [-0.0159, -0.0205,  0.0120]],\n",
              "              \n",
              "                       [[-0.0230, -0.0257, -0.0055],\n",
              "                        [-0.0382, -0.0529, -0.0339],\n",
              "                        [-0.0083, -0.0002, -0.0197]]],\n",
              "              \n",
              "              \n",
              "                      [[[-0.0204, -0.0097, -0.0183],\n",
              "                        [-0.0080,  0.0144, -0.0067],\n",
              "                        [-0.0075,  0.0193,  0.0270]],\n",
              "              \n",
              "                       [[ 0.0250,  0.0210,  0.0464],\n",
              "                        [ 0.0399,  0.0166,  0.0140],\n",
              "                        [ 0.0274,  0.0216,  0.0490]],\n",
              "              \n",
              "                       [[ 0.0248, -0.0019, -0.0293],\n",
              "                        [-0.0186,  0.0294,  0.0015],\n",
              "                        [ 0.0266,  0.0342,  0.0004]],\n",
              "              \n",
              "                       ...,\n",
              "              \n",
              "                       [[-0.0094, -0.0098, -0.0101],\n",
              "                        [ 0.0209,  0.0211,  0.0226],\n",
              "                        [-0.0288, -0.0155, -0.0156]],\n",
              "              \n",
              "                       [[-0.0437, -0.0437, -0.0487],\n",
              "                        [-0.0151, -0.0296, -0.0327],\n",
              "                        [-0.0073,  0.0107,  0.0048]],\n",
              "              \n",
              "                       [[ 0.0585,  0.0235,  0.0380],\n",
              "                        [-0.0179, -0.0031,  0.0217],\n",
              "                        [ 0.0473,  0.0343,  0.0724]]],\n",
              "              \n",
              "              \n",
              "                      [[[-0.0219, -0.0285, -0.0224],\n",
              "                        [-0.0250, -0.0148, -0.0314],\n",
              "                        [-0.0723, -0.0290, -0.0288]],\n",
              "              \n",
              "                       [[-0.0393, -0.0085, -0.0487],\n",
              "                        [-0.0265, -0.0212, -0.0421],\n",
              "                        [-0.0682, -0.0430, -0.0373]],\n",
              "              \n",
              "                       [[-0.0318,  0.0053, -0.0230],\n",
              "                        [ 0.0122, -0.0302, -0.0297],\n",
              "                        [ 0.0138, -0.0040, -0.0235]],\n",
              "              \n",
              "                       ...,\n",
              "              \n",
              "                       [[-0.0209,  0.0053,  0.0087],\n",
              "                        [ 0.0077,  0.0112, -0.0008],\n",
              "                        [-0.0101, -0.0696, -0.0210]],\n",
              "              \n",
              "                       [[ 0.0191, -0.0211, -0.0170],\n",
              "                        [ 0.0030, -0.0049, -0.0206],\n",
              "                        [ 0.0176,  0.0214,  0.0086]],\n",
              "              \n",
              "                       [[-0.0152, -0.0251, -0.0221],\n",
              "                        [-0.0027, -0.0339, -0.0053],\n",
              "                        [ 0.0042, -0.0032, -0.0123]]],\n",
              "              \n",
              "              \n",
              "                      ...,\n",
              "              \n",
              "              \n",
              "                      [[[ 0.0394, -0.0060,  0.0610],\n",
              "                        [ 0.0508,  0.0223,  0.0623],\n",
              "                        [ 0.0837,  0.0864,  0.0707]],\n",
              "              \n",
              "                       [[ 0.0061,  0.0026,  0.0355],\n",
              "                        [-0.0169,  0.0023, -0.0004],\n",
              "                        [-0.0020,  0.0155,  0.0185]],\n",
              "              \n",
              "                       [[-0.0134, -0.0500, -0.0581],\n",
              "                        [-0.0168,  0.0010, -0.0023],\n",
              "                        [-0.0009, -0.0099, -0.0553]],\n",
              "              \n",
              "                       ...,\n",
              "              \n",
              "                       [[ 0.0169,  0.0090,  0.0092],\n",
              "                        [ 0.0380,  0.0259,  0.0038],\n",
              "                        [ 0.0815,  0.0326,  0.0725]],\n",
              "              \n",
              "                       [[-0.0424,  0.0039, -0.0147],\n",
              "                        [ 0.0056, -0.0257, -0.0127],\n",
              "                        [ 0.0158,  0.0120, -0.0005]],\n",
              "              \n",
              "                       [[-0.0238,  0.0107,  0.0088],\n",
              "                        [-0.0225, -0.0239, -0.0012],\n",
              "                        [ 0.0077,  0.0026,  0.0065]]],\n",
              "              \n",
              "              \n",
              "                      [[[-0.0033, -0.0216, -0.0197],\n",
              "                        [-0.0151, -0.0168,  0.0070],\n",
              "                        [ 0.0186,  0.0242,  0.0004]],\n",
              "              \n",
              "                       [[ 0.0172, -0.0208,  0.0050],\n",
              "                        [-0.0028, -0.0205,  0.0118],\n",
              "                        [-0.0397,  0.0010, -0.0314]],\n",
              "              \n",
              "                       [[-0.0424, -0.0070, -0.0134],\n",
              "                        [ 0.0096, -0.0338, -0.0114],\n",
              "                        [ 0.0138,  0.0174, -0.0084]],\n",
              "              \n",
              "                       ...,\n",
              "              \n",
              "                       [[ 0.0162,  0.0424,  0.0236],\n",
              "                        [-0.0156, -0.0107, -0.0007],\n",
              "                        [ 0.0354,  0.0368,  0.0157]],\n",
              "              \n",
              "                       [[-0.0227, -0.0449, -0.0661],\n",
              "                        [-0.0143, -0.0269, -0.0005],\n",
              "                        [-0.0188, -0.0116, -0.0393]],\n",
              "              \n",
              "                       [[ 0.0707,  0.0145,  0.0481],\n",
              "                        [-0.0207, -0.0504, -0.0149],\n",
              "                        [ 0.0344, -0.0002,  0.0576]]],\n",
              "              \n",
              "              \n",
              "                      [[[ 0.0197,  0.0191,  0.0340],\n",
              "                        [ 0.0023,  0.0277,  0.0195],\n",
              "                        [ 0.0518,  0.0297,  0.0399]],\n",
              "              \n",
              "                       [[-0.0044,  0.0307,  0.0041],\n",
              "                        [ 0.0163, -0.0011,  0.0201],\n",
              "                        [ 0.0106,  0.0193,  0.0280]],\n",
              "              \n",
              "                       [[ 0.0017, -0.0184, -0.0300],\n",
              "                        [-0.0108, -0.0200, -0.0159],\n",
              "                        [-0.0207, -0.0054, -0.0071]],\n",
              "              \n",
              "                       ...,\n",
              "              \n",
              "                       [[ 0.0121,  0.0032,  0.0355],\n",
              "                        [-0.0069,  0.0246,  0.0059],\n",
              "                        [ 0.0360,  0.0092,  0.0298]],\n",
              "              \n",
              "                       [[-0.0219, -0.0482, -0.0371],\n",
              "                        [-0.0297,  0.0140,  0.0076],\n",
              "                        [-0.0252,  0.0093,  0.0100]],\n",
              "              \n",
              "                       [[ 0.0257, -0.0094,  0.0666],\n",
              "                        [ 0.0195, -0.0314,  0.0382],\n",
              "                        [ 0.0364,  0.0099,  0.0471]]]], device='cuda:0')),\n",
              "             ('conv6.bias',\n",
              "              tensor([-1.4355e-02, -3.2062e-02,  1.2174e-03,  5.6795e-03,  2.1546e-02,\n",
              "                      -1.6168e-02,  2.1757e-02, -1.3724e-02,  2.4456e-03, -5.1269e-04,\n",
              "                      -1.4806e-03,  5.5043e-03, -1.6734e-02,  2.6216e-02, -1.5395e-02,\n",
              "                       2.0949e-02,  1.1686e-02, -2.2067e-02,  1.9450e-02,  2.3762e-02,\n",
              "                       2.3227e-02, -9.3779e-03, -2.1617e-02, -2.1736e-02,  1.9715e-02,\n",
              "                      -1.5252e-02, -1.0381e-02,  1.2988e-02, -2.1522e-02,  8.9786e-03,\n",
              "                       1.6115e-03, -1.5860e-02,  2.6344e-02,  5.3355e-04, -2.7822e-03,\n",
              "                      -2.4883e-02,  8.9936e-03, -1.5030e-02,  2.6666e-03,  2.0859e-02,\n",
              "                      -3.5999e-04,  5.0148e-03,  1.4277e-02,  1.6302e-02, -2.6388e-02,\n",
              "                      -4.8612e-03,  3.4801e-02, -2.2448e-03, -7.9555e-04, -8.1572e-03,\n",
              "                      -1.5301e-02, -2.0769e-02,  8.5344e-03,  3.1247e-02,  1.5479e-02,\n",
              "                       2.8676e-02,  2.9327e-02,  3.7021e-03,  1.8095e-02, -1.5814e-02,\n",
              "                       1.0844e-02,  1.0713e-02, -3.9542e-03,  2.0703e-02, -1.8194e-02,\n",
              "                      -1.1531e-02,  3.0129e-02, -9.4318e-03, -7.7956e-04,  4.3753e-03,\n",
              "                       3.4310e-02,  1.7713e-02,  1.3776e-02, -4.3395e-03, -3.1829e-02,\n",
              "                      -1.4220e-02, -2.5887e-02, -2.4647e-02, -6.7614e-06, -8.6736e-03,\n",
              "                       2.2002e-02, -2.8819e-02,  2.9541e-04,  2.1611e-02, -1.8795e-02,\n",
              "                       9.6332e-03, -1.6519e-02, -2.1933e-02,  2.8814e-02, -2.8867e-03,\n",
              "                      -9.4449e-03,  1.6552e-02,  2.4104e-03, -2.2150e-02,  2.8184e-02,\n",
              "                       1.3863e-02, -2.0233e-02,  8.5121e-03, -2.1926e-02,  1.7544e-02,\n",
              "                       2.7636e-02, -5.9874e-03,  1.1295e-03,  3.3484e-03,  4.2748e-04,\n",
              "                       1.3172e-02, -1.4483e-02, -3.3345e-02,  8.9251e-03,  2.8388e-03,\n",
              "                       2.0069e-02, -2.2788e-02,  2.4371e-02, -5.6016e-03,  1.8754e-02,\n",
              "                      -3.0685e-02, -3.1829e-02, -1.3489e-02, -2.7873e-03,  2.2539e-02,\n",
              "                      -2.9867e-02,  1.8068e-02,  1.1547e-02, -1.6613e-02, -1.2836e-02,\n",
              "                       2.2797e-02, -1.6691e-02,  1.2063e-03], device='cuda:0')),\n",
              "             ('norm6.weight',\n",
              "              tensor([1.2575, 1.3859, 1.3078, 1.2112, 1.4237, 1.3786, 1.2826, 1.3474, 1.4181,\n",
              "                      1.3038, 1.3317, 1.2812, 1.3281, 1.2893, 1.4357, 1.4663, 1.4970, 1.2095,\n",
              "                      1.4453, 1.3306, 1.4237, 1.3214, 1.3953, 1.2936, 1.2544, 1.2262, 1.3514,\n",
              "                      1.2275, 1.4889, 1.3104, 1.3986, 1.3505, 1.2809, 1.3696, 1.3037, 1.3351,\n",
              "                      1.2964, 1.4009, 1.3079, 1.2024, 1.2519, 1.3131, 1.3810, 1.4136, 1.2590,\n",
              "                      1.3983, 1.4153, 1.3979, 1.3045, 1.3571, 1.3254, 1.3182, 1.2639, 1.3630,\n",
              "                      1.3954, 1.4020, 1.3374, 1.3550, 1.3855, 1.3990, 1.4460, 1.2831, 1.3348,\n",
              "                      1.3821, 1.3474, 1.2988, 1.4238, 1.4508, 1.4519, 1.3817, 1.3277, 1.3540,\n",
              "                      1.4459, 1.3232, 1.3939, 1.5093, 1.2321, 1.3585, 1.3967, 1.2314, 1.2519,\n",
              "                      1.4514, 1.1307, 1.3821, 1.2820, 1.4005, 1.4826, 1.4219, 1.3865, 1.2810,\n",
              "                      1.3232, 1.2776, 1.2692, 1.2300, 1.3985, 1.2318, 1.3335, 1.3298, 1.3829,\n",
              "                      1.3772, 1.4098, 1.4405, 1.3584, 1.2920, 1.3460, 1.3666, 1.3032, 1.3896,\n",
              "                      1.4651, 1.3225, 1.4294, 1.3755, 1.3122, 1.3855, 1.5006, 1.3994, 1.2616,\n",
              "                      1.4724, 1.3226, 1.3547, 1.4218, 1.3105, 1.2984, 1.4280, 1.3867, 1.3690,\n",
              "                      1.4272, 1.4590], device='cuda:0')),\n",
              "             ('norm6.bias',\n",
              "              tensor([ 0.0607,  0.0560,  0.1722,  0.1148,  0.1107,  0.0468,  0.0779,  0.0514,\n",
              "                       0.1100,  0.1153,  0.1437,  0.1344,  0.2560,  0.2288,  0.1313,  0.0916,\n",
              "                       0.1337,  0.0465,  0.1264,  0.1198,  0.1051,  0.1298,  0.2120,  0.0942,\n",
              "                       0.0490,  0.0482,  0.1166,  0.1219,  0.1325,  0.1661,  0.1425,  0.1391,\n",
              "                       0.1150,  0.1841,  0.0488,  0.2316,  0.0911,  0.2842,  0.1651,  0.0984,\n",
              "                       0.0122,  0.1781,  0.2049,  0.2574,  0.1867,  0.1053,  0.0919,  0.2351,\n",
              "                       0.1896,  0.1315,  0.0778,  0.1926,  0.1660,  0.1031,  0.2060,  0.1818,\n",
              "                       0.2334,  0.1040,  0.0443,  0.0841,  0.2410,  0.1222,  0.1244,  0.0542,\n",
              "                       0.1921,  0.1283,  0.1130,  0.2544,  0.0646,  0.1891,  0.0510,  0.0872,\n",
              "                       0.1034,  0.0476,  0.1189,  0.0832,  0.1221,  0.1357,  0.0708,  0.1847,\n",
              "                       0.1090,  0.1528,  0.0547,  0.2752, -0.0113,  0.1805,  0.0666,  0.1261,\n",
              "                       0.0451,  0.1510,  0.1139,  0.1548,  0.0609,  0.1348,  0.2179,  0.0136,\n",
              "                       0.0622,  0.0584,  0.2193,  0.1068,  0.1811,  0.1193,  0.1508,  0.0787,\n",
              "                       0.2139,  0.0945,  0.1291,  0.0499,  0.0673,  0.1501,  0.2710,  0.0285,\n",
              "                       0.0706,  0.0490,  0.1087,  0.1440,  0.0367,  0.0563,  0.1591,  0.2319,\n",
              "                       0.0901,  0.1107,  0.1951,  0.2817,  0.0854,  0.1356,  0.1016,  0.0805],\n",
              "                     device='cuda:0')),\n",
              "             ('norm6.running_mean',\n",
              "              tensor([ 1.3458,  0.1572, -1.0706, -1.2421,  0.5393,  0.3051, -0.6090,  0.2838,\n",
              "                       0.2683, -1.2589, -0.0851,  0.0541, -0.2284,  0.4445, -0.7019,  0.9562,\n",
              "                      -1.7167,  0.1868,  0.5510, -1.0901,  0.3192, -0.8304,  0.6928, -2.3995,\n",
              "                      -0.7456,  0.4924, -2.3799,  0.7324, -1.5586, -0.1903,  1.2771,  0.0548,\n",
              "                      -0.0211, -1.0333, -0.6900, -0.9738, -0.3396,  0.5619, -0.9167,  2.0356,\n",
              "                       0.0844, -0.2366,  0.4001,  0.7843,  0.7200, -0.3220,  1.8576,  0.3862,\n",
              "                      -0.5748, -0.7149, -0.2432,  0.7674, -0.1920,  0.2078, -0.8612,  0.4350,\n",
              "                       0.1311, -0.1180,  0.1811, -1.6031, -0.2736, -0.1934, -0.3223,  0.8376,\n",
              "                      -0.1036, -0.8597,  1.2904, -1.1918,  1.4220, -1.0983,  0.2148,  1.4178,\n",
              "                       0.5955, -0.4532,  0.3368,  0.0516, -2.0595, -1.3356,  0.2377,  0.5482,\n",
              "                       0.9686, -1.5167, -1.7060, -0.2664, -1.0413, -3.1927,  1.0709, -1.4092,\n",
              "                       1.3081,  0.7222, -0.4084,  0.9317, -0.8901,  1.2802, -0.2710, -0.1943,\n",
              "                      -0.2992, -1.3366,  0.2789,  0.4566,  0.9334,  0.0707,  0.6790,  1.3591,\n",
              "                       0.1949,  1.0524,  1.7828, -1.7639, -0.1951, -0.7834,  0.1825, -0.3044,\n",
              "                       0.3416, -1.2599,  0.4358, -3.1536,  0.7730, -1.3455, -0.1135, -1.4005,\n",
              "                      -0.6187, -2.5739,  0.5050,  0.1254, -1.4445,  1.1895,  0.5406,  0.3333],\n",
              "                     device='cuda:0')),\n",
              "             ('norm6.running_var',\n",
              "              tensor([1.2603, 1.3926, 1.0580, 0.8282, 1.8035, 1.1877, 0.9235, 0.8975, 2.0594,\n",
              "                      0.7694, 1.2105, 1.1315, 1.4056, 1.2142, 1.2558, 1.8070, 1.3764, 0.7218,\n",
              "                      2.0384, 0.8903, 1.2677, 0.7511, 1.2824, 0.8548, 1.0674, 1.0233, 0.8175,\n",
              "                      0.5656, 1.5206, 0.9387, 0.8011, 1.1543, 0.9869, 0.9445, 1.7468, 1.0513,\n",
              "                      1.3665, 1.0716, 0.9722, 0.9468, 1.7824, 1.0074, 1.3109, 1.1675, 1.2730,\n",
              "                      0.9167, 1.4793, 1.4350, 0.9855, 1.1301, 0.8969, 0.9975, 1.5575, 0.9008,\n",
              "                      0.8083, 0.9392, 0.8355, 1.1438, 2.5429, 0.8359, 1.0896, 0.8424, 0.8349,\n",
              "                      1.1773, 1.3565, 1.1057, 1.3370, 1.2324, 2.4759, 0.7315, 0.8457, 0.8935,\n",
              "                      1.0994, 0.8377, 1.3910, 3.1838, 0.8318, 1.0774, 1.5646, 1.0219, 1.4968,\n",
              "                      1.0396, 0.6961, 1.7085, 1.0427, 0.9808, 1.5690, 1.3096, 1.2741, 0.9429,\n",
              "                      0.7739, 0.7881, 0.5847, 0.6758, 1.1094, 0.8758, 1.4329, 1.0102, 1.2339,\n",
              "                      0.9988, 2.0861, 2.2662, 0.7612, 0.7511, 1.0729, 1.3513, 1.4226, 1.2236,\n",
              "                      1.6658, 1.0963, 1.4793, 1.6391, 1.2855, 1.1273, 2.0506, 0.8299, 1.0539,\n",
              "                      1.2648, 0.6073, 1.2628, 1.0736, 0.6584, 2.0177, 1.1858, 1.3105, 1.1081,\n",
              "                      1.8519, 1.6781], device='cuda:0')),\n",
              "             ('norm6.num_batches_tracked', tensor(1000, device='cuda:0')),\n",
              "             ('fc.weight',\n",
              "              tensor([[-0.0716, -0.0644,  0.1171,  ..., -0.1962, -0.2218, -0.2926],\n",
              "                      [-0.0764,  0.2115,  0.1424,  ..., -0.2343,  0.0622,  0.2126],\n",
              "                      [ 0.2145,  0.2065,  0.0222,  ...,  0.0210,  0.2446,  0.1140],\n",
              "                      ...,\n",
              "                      [ 0.1474, -0.0334,  0.0388,  ..., -0.0344,  0.0713, -0.0277],\n",
              "                      [-0.1597, -0.1561, -0.0251,  ..., -0.1734, -0.3089, -0.2550],\n",
              "                      [ 0.0050,  0.1705, -0.2366,  ...,  0.0644, -0.0502,  0.1797]],\n",
              "                     device='cuda:0')),\n",
              "             ('fc.bias',\n",
              "              tensor([ 0.0570, -0.0081, -0.0823, -0.0845, -0.0767,  0.0252,  0.0566,  0.0592,\n",
              "                      -0.0250, -0.0695, -0.0315], device='cuda:0'))])"
            ]
          },
          "metadata": {},
          "execution_count": 21
        }
      ]
    },
    {
      "cell_type": "markdown",
      "source": [
        "# 모델을 저장하고 불러 들인다."
      ],
      "metadata": {
        "id": "C0CL0-wZoLAF"
      }
    },
    {
      "cell_type": "markdown",
      "source": [
        "## state_dict를 저장"
      ],
      "metadata": {
        "id": "j4nPy34Rrypy"
      }
    },
    {
      "cell_type": "code",
      "source": [
        "### 위에 학습한 모델을 저장합니다. 저장파일 이름은 checkpoint.pth 입니다.\n",
        "torch.save(vgg_batchnorm_model.state_dict(), 'checkpoint.pth')"
      ],
      "metadata": {
        "id": "mNR_Oztrh2UT"
      },
      "execution_count": null,
      "outputs": []
    },
    {
      "cell_type": "markdown",
      "source": [
        "## state_dict를 새로 선언한 모델에 load"
      ],
      "metadata": {
        "id": "S_syQ6dMr8e-"
      }
    },
    {
      "cell_type": "code",
      "source": [
        "#### 저장한 state_dict를 로드하고, 선언된 모델에 해당 내용을 load합니다.\n",
        "state_dict = torch.load('checkpoint.pth')\n",
        "print(state_dict.keys())\n",
        "vgg_loaded = VGG_BatchNormTorch(in_channels=1, out_features=11).to(\"cuda\")\n",
        "vgg_loaded.load_state_dict(state_dict)"
      ],
      "metadata": {
        "colab": {
          "base_uri": "https://localhost:8080/"
        },
        "id": "6R02gRUPh1x8",
        "outputId": "ecbe221c-c9b6-4346-9876-152e10c6ee1c"
      },
      "execution_count": null,
      "outputs": [
        {
          "output_type": "stream",
          "name": "stdout",
          "text": [
            "odict_keys(['conv1.weight', 'conv1.bias', 'norm1.weight', 'norm1.bias', 'norm1.running_mean', 'norm1.running_var', 'norm1.num_batches_tracked', 'conv2.weight', 'conv2.bias', 'norm2.weight', 'norm2.bias', 'norm2.running_mean', 'norm2.running_var', 'norm2.num_batches_tracked', 'conv3.weight', 'conv3.bias', 'norm3.weight', 'norm3.bias', 'norm3.running_mean', 'norm3.running_var', 'norm3.num_batches_tracked', 'conv4.weight', 'conv4.bias', 'norm4.weight', 'norm4.bias', 'norm4.running_mean', 'norm4.running_var', 'norm4.num_batches_tracked', 'conv5.weight', 'conv5.bias', 'norm5.weight', 'norm5.bias', 'norm5.running_mean', 'norm5.running_var', 'norm5.num_batches_tracked', 'conv6.weight', 'conv6.bias', 'norm6.weight', 'norm6.bias', 'norm6.running_mean', 'norm6.running_var', 'norm6.num_batches_tracked', 'fc.weight', 'fc.bias'])\n"
          ]
        },
        {
          "output_type": "execute_result",
          "data": {
            "text/plain": [
              "<All keys matched successfully>"
            ]
          },
          "metadata": {},
          "execution_count": 23
        }
      ]
    },
    {
      "cell_type": "code",
      "source": [
        "eval(vgg_loaded, train_dataloader)"
      ],
      "metadata": {
        "colab": {
          "base_uri": "https://localhost:8080/"
        },
        "id": "1DNtAis7pxm2",
        "outputId": "851dd218-e1c3-4e13-b1c4-053fe8bae941"
      },
      "execution_count": null,
      "outputs": [
        {
          "output_type": "stream",
          "name": "stdout",
          "text": [
            "Test Accuracy: 96.96969696969697%\n"
          ]
        }
      ]
    },
    {
      "cell_type": "markdown",
      "source": [
        "# 주기적으로 checkpoint를 저장"
      ],
      "metadata": {
        "id": "iBtyp4yotr3f"
      }
    },
    {
      "cell_type": "code",
      "source": [
        "def train_ckpt(model, data_loader, criterion, optimizer, n_epoch):\n",
        "\n",
        "  ########## 2 Epoch 마다 Check point 를 저장하는 학습부를 작성해 봅니다.\n",
        "  model.train() #\n",
        "  for epoch in range(n_epoch):\n",
        "    running_loss = 0\n",
        "    for i, (images, _, labels) in enumerate(data_loader):\n",
        "      images, labels = images.cuda(), labels.cuda()\n",
        "      outputs = model(images)\n",
        "      loss = criterion(outputs, labels)\n",
        "\n",
        "      optimizer.zero_grad()\n",
        "      loss.backward()\n",
        "      optimizer.step()\n",
        "      running_loss += loss.item()\n",
        "\n",
        "        ## 여러 정보를 저장하는 부분\n",
        "\n",
        "    if (epoch + 1) % 2 == 0:\n",
        "      info_to_save = {\n",
        "                \"model\": \"VGG_BatchNorm\",\n",
        "                \"epoch\": epoch,\n",
        "                \"model_state_dict\": model.state_dict(),\n",
        "                \"optimizer_state_dict\": optimizer.state_dict(),\n",
        "                \"cost\": loss,\n",
        "                \"description\": f\"VGG 체크포인트-{epoch+1}\",\n",
        "            }\n",
        "\n",
        "      torch.save(info_to_save, f\"./checkpoint-{epoch+1}.pt\")\n",
        "      print('Epoch {}, loss = {:.3f}'.format(epoch + 1, running_loss/len(data_loader)))"
      ],
      "metadata": {
        "id": "bJXhTUzbpxg9"
      },
      "execution_count": null,
      "outputs": []
    },
    {
      "cell_type": "code",
      "source": [
        "reset_seed(2020)\n",
        "criterion = nn.CrossEntropyLoss()\n",
        "vgg_batchnorm_model = VGG_BatchNormTorch(in_channels=1, out_features=11).to(\"cuda\")\n",
        "optimizer = optim.Adam(params=vgg_batchnorm_model.parameters())\n",
        "\n",
        "train_ckpt(vgg_batchnorm_model, train_dataloader, criterion, optimizer, n_epoch=50)"
      ],
      "metadata": {
        "colab": {
          "base_uri": "https://localhost:8080/"
        },
        "id": "HZSNaTMDpxeB",
        "outputId": "4e327a02-b546-4d74-b51d-07f1acdf8bf6"
      },
      "execution_count": null,
      "outputs": [
        {
          "output_type": "stream",
          "name": "stdout",
          "text": [
            "Epoch 2, loss = 2.340\n",
            "Epoch 4, loss = 2.140\n",
            "Epoch 6, loss = 1.889\n",
            "Epoch 8, loss = 1.710\n",
            "Epoch 10, loss = 1.552\n",
            "Epoch 12, loss = 1.389\n",
            "Epoch 14, loss = 1.303\n",
            "Epoch 16, loss = 1.168\n",
            "Epoch 18, loss = 1.080\n",
            "Epoch 20, loss = 1.004\n",
            "Epoch 22, loss = 0.924\n",
            "Epoch 24, loss = 0.894\n",
            "Epoch 26, loss = 0.804\n",
            "Epoch 28, loss = 0.729\n",
            "Epoch 30, loss = 0.655\n",
            "Epoch 32, loss = 0.576\n",
            "Epoch 34, loss = 0.530\n",
            "Epoch 36, loss = 0.475\n",
            "Epoch 38, loss = 0.448\n",
            "Epoch 40, loss = 0.413\n",
            "Epoch 42, loss = 0.415\n",
            "Epoch 44, loss = 0.344\n",
            "Epoch 46, loss = 0.292\n",
            "Epoch 48, loss = 0.266\n",
            "Epoch 50, loss = 0.230\n"
          ]
        }
      ]
    },
    {
      "cell_type": "markdown",
      "source": [
        "## 저장된 정보를 확인해 보겠습니다"
      ],
      "metadata": {
        "id": "S8gUuFMjwfkF"
      }
    },
    {
      "cell_type": "code",
      "source": [
        "### 실습 : epoch 10, 20, 30, 40, 50 에서의 모델 정확도를 출력해 봅니다\n",
        "for idx in [10,20,30,40,50]:\n",
        "  checkpoint = torch.load(f'checkpoint-{idx}.pt')\n",
        "  state_dict = checkpoint[\"model_state_dict\"]\n",
        "  vgg_loaded = VGG_BatchNormTorch(in_channels=1, out_features=11).to(\"cuda\")\n",
        "  vgg_loaded.load_state_dict(state_dict)\n",
        "\n",
        "  # 각 Epoch 마다의 accuracy를 출력해 봅니다.\n",
        "  print(f\"Epoch[{idx}]\", end=\",\")\n",
        "  eval(vgg_loaded, train_dataloader)\n",
        "\n"
      ],
      "metadata": {
        "colab": {
          "base_uri": "https://localhost:8080/"
        },
        "id": "cspIcIBWpxa6",
        "outputId": "433599cc-e6ef-4d9c-a456-bcf6e001ae49"
      },
      "execution_count": null,
      "outputs": [
        {
          "output_type": "stream",
          "name": "stdout",
          "text": [
            "Epoch[10],Test Accuracy: 34.343434343434346%\n",
            "Epoch[20],Test Accuracy: 68.68686868686869%\n",
            "Epoch[30],Test Accuracy: 74.74747474747475%\n",
            "Epoch[40],Test Accuracy: 92.92929292929293%\n",
            "Epoch[50],Test Accuracy: 100.0%\n"
          ]
        }
      ]
    },
    {
      "cell_type": "code",
      "source": [
        "### 실습 : verbose 인자가 True 일때만 출력하는 함수를 만들어 보세요\n",
        "def eval_cktp(model, data_loader, verbose=False):\n",
        "\n",
        "  model.eval()\n",
        "  total = 0\n",
        "  correct = 0\n",
        "\n",
        "  with torch.no_grad():\n",
        "    for images, _,  labels in data_loader:\n",
        "      images, labels = images.cuda(), labels.cuda()\n",
        "      outputs = model(images)\n",
        "      _, predicted = torch.max(outputs, 1)\n",
        "      total += labels.size(0)\n",
        "      correct += (predicted == labels).sum().item()\n",
        "    accuracy = 100 * correct / total\n",
        "\n",
        "  ###### 이 부분 추가\n",
        "  if verbose:\n",
        "    print('Test Accuracy: {}%'.format(accuracy))\n",
        "  else:\n",
        "    return accuracy"
      ],
      "metadata": {
        "id": "trtxmjgvzvSY"
      },
      "execution_count": null,
      "outputs": []
    },
    {
      "cell_type": "code",
      "source": [
        "### 실습 : 모든 checkpoint 에 대해 accuracy 를 계산하고 plot 해보세요\n",
        "idxs = np.arange(2,51,2)  # 2~50 사이의 2 간격 숫자 생성\n",
        "list_accuracy = []\n",
        "\n",
        "for idx in idxs:\n",
        "  checkpoint = torch.load(f'checkpoint-{idx}.pt')\n",
        "  state_dict = checkpoint[\"model_state_dict\"]\n",
        "  vgg_loaded = VGG_BatchNormTorch(in_channels=1, out_features=11).to(\"cuda\")\n",
        "  vgg_loaded.load_state_dict(state_dict)\n",
        "\n",
        "  # 각 Epoch 마다의 accuracy를 출력해 봅니다.\n",
        "\n",
        "  list_accuracy.append(eval_cktp(vgg_loaded, train_dataloader, verbose=False))\n",
        "plt.plot(idxs, list_accuracy)"
      ],
      "metadata": {
        "colab": {
          "base_uri": "https://localhost:8080/",
          "height": 283
        },
        "id": "y5X8r5oapxYD",
        "outputId": "d0a6ec4c-109f-42a8-8e58-0be34ec19780"
      },
      "execution_count": null,
      "outputs": [
        {
          "output_type": "execute_result",
          "data": {
            "text/plain": [
              "[<matplotlib.lines.Line2D at 0x7f2a79df0880>]"
            ]
          },
          "metadata": {},
          "execution_count": 29
        },
        {
          "output_type": "display_data",
          "data": {
            "text/plain": [
              "<Figure size 432x288 with 1 Axes>"
            ],
            "image/png": "[encoded data removed]"
          },
          "metadata": {
            "needs_background": "light"
          }
        }
      ]
    },
    {
      "cell_type": "markdown",
      "source": [
        "## 저장한 추가 정보 확인"
      ],
      "metadata": {
        "id": "75ZcRdBM1lJj"
      }
    },
    {
      "cell_type": "code",
      "source": [
        "checkpoint = torch.load(f'checkpoint-36.pt')\n",
        "print(checkpoint.keys())\n",
        "print(checkpoint['description'])\n",
        "print(checkpoint['optimizer_state_dict'].keys())"
      ],
      "metadata": {
        "colab": {
          "base_uri": "https://localhost:8080/"
        },
        "id": "QyJZ8Om-pxSI",
        "outputId": "1c823cbd-ed0a-4185-f437-9a501212ed52"
      },
      "execution_count": null,
      "outputs": [
        {
          "output_type": "stream",
          "name": "stdout",
          "text": [
            "dict_keys(['model', 'epoch', 'model_state_dict', 'optimizer_state_dict', 'cost', 'description'])\n",
            "VGG 체크포인트-36\n",
            "dict_keys(['state', 'param_groups'])\n"
          ]
        }
      ]
    },
    {
      "cell_type": "markdown",
      "source": [
        "## 저장된 모델 & Optimizer를 이용하여 학습"
      ],
      "metadata": {
        "id": "v_Rs9D6Y3XiB"
      }
    },
    {
      "cell_type": "code",
      "source": [
        "#### Epoch 36에서의 정보를 모두 Load  한다음에 1번만 학습해 보겠습니다.\n",
        "\n",
        "### 이전 모델 Load\n",
        "model = VGG_BatchNormTorch(in_channels=1, out_features=11).to(\"cuda\")\n",
        "model.load_state_dict(checkpoint[\"model_state_dict\"])\n",
        "\n",
        "## 이전 Optimizer 의 정보 Load\n",
        "optimizer = optim.Adam(params=vgg_batchnorm_model.parameters())\n",
        "optimizer.load_state_dict(checkpoint[\"optimizer_state_dict\"])\n",
        "checkpoint_epoch = checkpoint[\"epoch\"]\n",
        "\n",
        "## Epoch 1회만 학습\n",
        "train_ckpt(model, train_dataloader, criterion, optimizer, n_epoch=1)\n",
        "\n",
        "# 평가\n",
        "eval_cktp(model, train_dataloader, verbose=True)"
      ],
      "metadata": {
        "colab": {
          "base_uri": "https://localhost:8080/"
        },
        "id": "U5JTj_x62FBo",
        "outputId": "64e7245d-ffbd-4561-941c-0f6bebee6253"
      },
      "execution_count": null,
      "outputs": [
        {
          "output_type": "stream",
          "name": "stdout",
          "text": [
            "Test Accuracy: 92.42424242424242%\n"
          ]
        }
      ]
    },
    {
      "cell_type": "markdown",
      "source": [
        "### 저장된 파일을 PC에 저장해 보겠습니다."
      ],
      "metadata": {
        "id": "VGuCNh7S8eeJ"
      }
    },
    {
      "cell_type": "code",
      "source": [
        "from google.colab import files\n",
        "\n",
        "# download checkpoint file\n",
        "files.download('checkpoint-36.pt')\n",
        "files.download('checkpoint-38.pt')\n",
        "files.download('checkpoint-40.pt')\n",
        "files.download('checkpoint-42.pt')\n",
        "files.download('checkpoint-44.pt')\n",
        "files.download('checkpoint-46.pt')\n",
        "files.download('checkpoint-48.pt')"
      ],
      "metadata": {
        "id": "oERXIBoNpxMC",
        "colab": {
          "base_uri": "https://localhost:8080/",
          "height": 139
        },
        "outputId": "e1418bde-811e-4987-ff9b-d619e5e1aeda"
      },
      "execution_count": null,
      "outputs": [
        {
          "output_type": "display_data",
          "data": {
            "text/plain": [
              "<IPython.core.display.Javascript object>"
            ],
            "application/javascript": [
              "\n",
              "    async function download(id, filename, size) {\n",
              "      if (!google.colab.kernel.accessAllowed) {\n",
              "        return;\n",
              "      }\n",
              "      const div = document.createElement('div');\n",
              "      const label = document.createElement('label');\n",
              "      label.textContent = `Downloading \"${filename}\": `;\n",
              "      div.appendChild(label);\n",
              "      const progress = document.createElement('progress');\n",
              "      progress.max = size;\n",
              "      div.appendChild(progress);\n",
              "      document.body.appendChild(div);\n",
              "\n",
              "      const buffers = [];\n",
              "      let downloaded = 0;\n",
              "\n",
              "      const channel = await google.colab.kernel.comms.open(id);\n",
              "      // Send a message to notify the kernel that we're ready.\n",
              "      channel.send({})\n",
              "\n",
              "      for await (const message of channel.messages) {\n",
              "        // Send a message to notify the kernel that we're ready.\n",
              "        channel.send({})\n",
              "        if (message.buffers) {\n",
              "          for (const buffer of message.buffers) {\n",
              "            buffers.push(buffer);\n",
              "            downloaded += buffer.byteLength;\n",
              "            progress.value = downloaded;\n",
              "          }\n",
              "        }\n",
              "      }\n",
              "      const blob = new Blob(buffers, {type: 'application/binary'});\n",
              "      const a = document.createElement('a');\n",
              "      a.href = window.URL.createObjectURL(blob);\n",
              "      a.download = filename;\n",
              "      div.appendChild(a);\n",
              "      a.click();\n",
              "      div.remove();\n",
              "    }\n",
              "  "
            ]
          },
          "metadata": {}
        },
        {
          "output_type": "display_data",
          "data": {
            "text/plain": [
              "<IPython.core.display.Javascript object>"
            ],
            "application/javascript": [
              "download(\"download_88cd9e73-2724-41d5-8004-fa0f8981eddb\", \"checkpoint-36.pt\", 3505081)"
            ]
          },
          "metadata": {}
        },
        {
          "output_type": "display_data",
          "data": {
            "text/plain": [
              "<IPython.core.display.Javascript object>"
            ],
            "application/javascript": [
              "\n",
              "    async function download(id, filename, size) {\n",
              "      if (!google.colab.kernel.accessAllowed) {\n",
              "        return;\n",
              "      }\n",
              "      const div = document.createElement('div');\n",
              "      const label = document.createElement('label');\n",
              "      label.textContent = `Downloading \"${filename}\": `;\n",
              "      div.appendChild(label);\n",
              "      const progress = document.createElement('progress');\n",
              "      progress.max = size;\n",
              "      div.appendChild(progress);\n",
              "      document.body.appendChild(div);\n",
              "\n",
              "      const buffers = [];\n",
              "      let downloaded = 0;\n",
              "\n",
              "      const channel = await google.colab.kernel.comms.open(id);\n",
              "      // Send a message to notify the kernel that we're ready.\n",
              "      channel.send({})\n",
              "\n",
              "      for await (const message of channel.messages) {\n",
              "        // Send a message to notify the kernel that we're ready.\n",
              "        channel.send({})\n",
              "        if (message.buffers) {\n",
              "          for (const buffer of message.buffers) {\n",
              "            buffers.push(buffer);\n",
              "            downloaded += buffer.byteLength;\n",
              "            progress.value = downloaded;\n",
              "          }\n",
              "        }\n",
              "      }\n",
              "      const blob = new Blob(buffers, {type: 'application/binary'});\n",
              "      const a = document.createElement('a');\n",
              "      a.href = window.URL.createObjectURL(blob);\n",
              "      a.download = filename;\n",
              "      div.appendChild(a);\n",
              "      a.click();\n",
              "      div.remove();\n",
              "    }\n",
              "  "
            ]
          },
          "metadata": {}
        },
        {
          "output_type": "display_data",
          "data": {
            "text/plain": [
              "<IPython.core.display.Javascript object>"
            ],
            "application/javascript": [
              "download(\"download_61e0d3e0-1585-4c81-98ce-fd66d891b834\", \"checkpoint-38.pt\", 3505081)"
            ]
          },
          "metadata": {}
        },
        {
          "output_type": "display_data",
          "data": {
            "text/plain": [
              "<IPython.core.display.Javascript object>"
            ],
            "application/javascript": [
              "\n",
              "    async function download(id, filename, size) {\n",
              "      if (!google.colab.kernel.accessAllowed) {\n",
              "        return;\n",
              "      }\n",
              "      const div = document.createElement('div');\n",
              "      const label = document.createElement('label');\n",
              "      label.textContent = `Downloading \"${filename}\": `;\n",
              "      div.appendChild(label);\n",
              "      const progress = document.createElement('progress');\n",
              "      progress.max = size;\n",
              "      div.appendChild(progress);\n",
              "      document.body.appendChild(div);\n",
              "\n",
              "      const buffers = [];\n",
              "      let downloaded = 0;\n",
              "\n",
              "      const channel = await google.colab.kernel.comms.open(id);\n",
              "      // Send a message to notify the kernel that we're ready.\n",
              "      channel.send({})\n",
              "\n",
              "      for await (const message of channel.messages) {\n",
              "        // Send a message to notify the kernel that we're ready.\n",
              "        channel.send({})\n",
              "        if (message.buffers) {\n",
              "          for (const buffer of message.buffers) {\n",
              "            buffers.push(buffer);\n",
              "            downloaded += buffer.byteLength;\n",
              "            progress.value = downloaded;\n",
              "          }\n",
              "        }\n",
              "      }\n",
              "      const blob = new Blob(buffers, {type: 'application/binary'});\n",
              "      const a = document.createElement('a');\n",
              "      a.href = window.URL.createObjectURL(blob);\n",
              "      a.download = filename;\n",
              "      div.appendChild(a);\n",
              "      a.click();\n",
              "      div.remove();\n",
              "    }\n",
              "  "
            ]
          },
          "metadata": {}
        },
        {
          "output_type": "display_data",
          "data": {
            "text/plain": [
              "<IPython.core.display.Javascript object>"
            ],
            "application/javascript": [
              "download(\"download_98b797e4-d086-4b25-8a23-2e22e55fc15d\", \"checkpoint-40.pt\", 3505081)"
            ]
          },
          "metadata": {}
        },
        {
          "output_type": "display_data",
          "data": {
            "text/plain": [
              "<IPython.core.display.Javascript object>"
            ],
            "application/javascript": [
              "\n",
              "    async function download(id, filename, size) {\n",
              "      if (!google.colab.kernel.accessAllowed) {\n",
              "        return;\n",
              "      }\n",
              "      const div = document.createElement('div');\n",
              "      const label = document.createElement('label');\n",
              "      label.textContent = `Downloading \"${filename}\": `;\n",
              "      div.appendChild(label);\n",
              "      const progress = document.createElement('progress');\n",
              "      progress.max = size;\n",
              "      div.appendChild(progress);\n",
              "      document.body.appendChild(div);\n",
              "\n",
              "      const buffers = [];\n",
              "      let downloaded = 0;\n",
              "\n",
              "      const channel = await google.colab.kernel.comms.open(id);\n",
              "      // Send a message to notify the kernel that we're ready.\n",
              "      channel.send({})\n",
              "\n",
              "      for await (const message of channel.messages) {\n",
              "        // Send a message to notify the kernel that we're ready.\n",
              "        channel.send({})\n",
              "        if (message.buffers) {\n",
              "          for (const buffer of message.buffers) {\n",
              "            buffers.push(buffer);\n",
              "            downloaded += buffer.byteLength;\n",
              "            progress.value = downloaded;\n",
              "          }\n",
              "        }\n",
              "      }\n",
              "      const blob = new Blob(buffers, {type: 'application/binary'});\n",
              "      const a = document.createElement('a');\n",
              "      a.href = window.URL.createObjectURL(blob);\n",
              "      a.download = filename;\n",
              "      div.appendChild(a);\n",
              "      a.click();\n",
              "      div.remove();\n",
              "    }\n",
              "  "
            ]
          },
          "metadata": {}
        },
        {
          "output_type": "display_data",
          "data": {
            "text/plain": [
              "<IPython.core.display.Javascript object>"
            ],
            "application/javascript": [
              "download(\"download_d6647fd8-b7cb-43d1-85e4-269ade46e56e\", \"checkpoint-42.pt\", 3505081)"
            ]
          },
          "metadata": {}
        },
        {
          "output_type": "display_data",
          "data": {
            "text/plain": [
              "<IPython.core.display.Javascript object>"
            ],
            "application/javascript": [
              "\n",
              "    async function download(id, filename, size) {\n",
              "      if (!google.colab.kernel.accessAllowed) {\n",
              "        return;\n",
              "      }\n",
              "      const div = document.createElement('div');\n",
              "      const label = document.createElement('label');\n",
              "      label.textContent = `Downloading \"${filename}\": `;\n",
              "      div.appendChild(label);\n",
              "      const progress = document.createElement('progress');\n",
              "      progress.max = size;\n",
              "      div.appendChild(progress);\n",
              "      document.body.appendChild(div);\n",
              "\n",
              "      const buffers = [];\n",
              "      let downloaded = 0;\n",
              "\n",
              "      const channel = await google.colab.kernel.comms.open(id);\n",
              "      // Send a message to notify the kernel that we're ready.\n",
              "      channel.send({})\n",
              "\n",
              "      for await (const message of channel.messages) {\n",
              "        // Send a message to notify the kernel that we're ready.\n",
              "        channel.send({})\n",
              "        if (message.buffers) {\n",
              "          for (const buffer of message.buffers) {\n",
              "            buffers.push(buffer);\n",
              "            downloaded += buffer.byteLength;\n",
              "            progress.value = downloaded;\n",
              "          }\n",
              "        }\n",
              "      }\n",
              "      const blob = new Blob(buffers, {type: 'application/binary'});\n",
              "      const a = document.createElement('a');\n",
              "      a.href = window.URL.createObjectURL(blob);\n",
              "      a.download = filename;\n",
              "      div.appendChild(a);\n",
              "      a.click();\n",
              "      div.remove();\n",
              "    }\n",
              "  "
            ]
          },
          "metadata": {}
        },
        {
          "output_type": "display_data",
          "data": {
            "text/plain": [
              "<IPython.core.display.Javascript object>"
            ],
            "application/javascript": [
              "download(\"download_8c3cf8fe-7a57-4280-a440-9e4345298040\", \"checkpoint-44.pt\", 3505081)"
            ]
          },
          "metadata": {}
        },
        {
          "output_type": "display_data",
          "data": {
            "text/plain": [
              "<IPython.core.display.Javascript object>"
            ],
            "application/javascript": [
              "\n",
              "    async function download(id, filename, size) {\n",
              "      if (!google.colab.kernel.accessAllowed) {\n",
              "        return;\n",
              "      }\n",
              "      const div = document.createElement('div');\n",
              "      const label = document.createElement('label');\n",
              "      label.textContent = `Downloading \"${filename}\": `;\n",
              "      div.appendChild(label);\n",
              "      const progress = document.createElement('progress');\n",
              "      progress.max = size;\n",
              "      div.appendChild(progress);\n",
              "      document.body.appendChild(div);\n",
              "\n",
              "      const buffers = [];\n",
              "      let downloaded = 0;\n",
              "\n",
              "      const channel = await google.colab.kernel.comms.open(id);\n",
              "      // Send a message to notify the kernel that we're ready.\n",
              "      channel.send({})\n",
              "\n",
              "      for await (const message of channel.messages) {\n",
              "        // Send a message to notify the kernel that we're ready.\n",
              "        channel.send({})\n",
              "        if (message.buffers) {\n",
              "          for (const buffer of message.buffers) {\n",
              "            buffers.push(buffer);\n",
              "            downloaded += buffer.byteLength;\n",
              "            progress.value = downloaded;\n",
              "          }\n",
              "        }\n",
              "      }\n",
              "      const blob = new Blob(buffers, {type: 'application/binary'});\n",
              "      const a = document.createElement('a');\n",
              "      a.href = window.URL.createObjectURL(blob);\n",
              "      a.download = filename;\n",
              "      div.appendChild(a);\n",
              "      a.click();\n",
              "      div.remove();\n",
              "    }\n",
              "  "
            ]
          },
          "metadata": {}
        },
        {
          "output_type": "display_data",
          "data": {
            "text/plain": [
              "<IPython.core.display.Javascript object>"
            ],
            "application/javascript": [
              "download(\"download_96440792-f8c4-4a6e-a980-46c0297f4c37\", \"checkpoint-46.pt\", 3505081)"
            ]
          },
          "metadata": {}
        },
        {
          "output_type": "display_data",
          "data": {
            "text/plain": [
              "<IPython.core.display.Javascript object>"
            ],
            "application/javascript": [
              "\n",
              "    async function download(id, filename, size) {\n",
              "      if (!google.colab.kernel.accessAllowed) {\n",
              "        return;\n",
              "      }\n",
              "      const div = document.createElement('div');\n",
              "      const label = document.createElement('label');\n",
              "      label.textContent = `Downloading \"${filename}\": `;\n",
              "      div.appendChild(label);\n",
              "      const progress = document.createElement('progress');\n",
              "      progress.max = size;\n",
              "      div.appendChild(progress);\n",
              "      document.body.appendChild(div);\n",
              "\n",
              "      const buffers = [];\n",
              "      let downloaded = 0;\n",
              "\n",
              "      const channel = await google.colab.kernel.comms.open(id);\n",
              "      // Send a message to notify the kernel that we're ready.\n",
              "      channel.send({})\n",
              "\n",
              "      for await (const message of channel.messages) {\n",
              "        // Send a message to notify the kernel that we're ready.\n",
              "        channel.send({})\n",
              "        if (message.buffers) {\n",
              "          for (const buffer of message.buffers) {\n",
              "            buffers.push(buffer);\n",
              "            downloaded += buffer.byteLength;\n",
              "            progress.value = downloaded;\n",
              "          }\n",
              "        }\n",
              "      }\n",
              "      const blob = new Blob(buffers, {type: 'application/binary'});\n",
              "      const a = document.createElement('a');\n",
              "      a.href = window.URL.createObjectURL(blob);\n",
              "      a.download = filename;\n",
              "      div.appendChild(a);\n",
              "      a.click();\n",
              "      div.remove();\n",
              "    }\n",
              "  "
            ]
          },
          "metadata": {}
        },
        {
          "output_type": "display_data",
          "data": {
            "text/plain": [
              "<IPython.core.display.Javascript object>"
            ],
            "application/javascript": [
              "download(\"download_6641ad43-0111-455e-9f5f-735cb2de82c7\", \"checkpoint-48.pt\", 3505081)"
            ]
          },
          "metadata": {}
        }
      ]
    },
    {
      "cell_type": "code",
      "source": [
        "from google.colab import files\n",
        "\n",
        "# 각자 Download 폴더를 확인해 보세요\n",
        "# 이 파일의 이름을 checkpoint-36-pc.pt 로 변경해보고 다시 server로 올려 보겠습니다.\n",
        "files.upload()"
      ],
      "metadata": {
        "id": "1Agr9Es5pxET",
        "colab": {
          "base_uri": "https://localhost:8080/",
          "height": 58
        },
        "outputId": "f2fa4e47-49f2-45c5-e01b-250155752c6a"
      },
      "execution_count": null,
      "outputs": [
        {
          "output_type": "display_data",
          "data": {
            "text/plain": [
              "<IPython.core.display.HTML object>"
            ],
            "text/html": [
              "\n",
              "     <input type=\"file\" id=\"files-48224b58-2fd1-4c9c-bb5f-fc875e9ce024\" name=\"files[]\" multiple disabled\n",
              "        style=\"border:none\" />\n",
              "     <output id=\"result-48224b58-2fd1-4c9c-bb5f-fc875e9ce024\">\n",
              "      Upload widget is only available when the cell has been executed in the\n",
              "      current browser session. Please rerun this cell to enable.\n",
              "      </output>\n",
              "      <script>// Copyright 2017 Google LLC\n",
              "//\n",
              "// Licensed under the Apache License, Version 2.0 (the \"License\");\n",
              "// you may not use this file except in compliance with the License.\n",
              "// You may obtain a copy of the License at\n",
              "//\n",
              "//      http://www.apache.org/licenses/LICENSE-2.0\n",
              "//\n",
              "// Unless required by applicable law or agreed to in writing, software\n",
              "// distributed under the License is distributed on an \"AS IS\" BASIS,\n",
              "// WITHOUT WARRANTIES OR CONDITIONS OF ANY KIND, either express or implied.\n",
              "// See the License for the specific language governing permissions and\n",
              "// limitations under the License.\n",
              "\n",
              "/**\n",
              " * @fileoverview Helpers for google.colab Python module.\n",
              " */\n",
              "(function(scope) {\n",
              "function span(text, styleAttributes = {}) {\n",
              "  const element = document.createElement('span');\n",
              "  element.textContent = text;\n",
              "  for (const key of Object.keys(styleAttributes)) {\n",
              "    element.style[key] = styleAttributes[key];\n",
              "  }\n",
              "  return element;\n",
              "}\n",
              "\n",
              "// Max number of bytes which will be uploaded at a time.\n",
              "const MAX_PAYLOAD_SIZE = 100 * 1024;\n",
              "\n",
              "function _uploadFiles(inputId, outputId) {\n",
              "  const steps = uploadFilesStep(inputId, outputId);\n",
              "  const outputElement = document.getElementById(outputId);\n",
              "  // Cache steps on the outputElement to make it available for the next call\n",
              "  // to uploadFilesContinue from Python.\n",
              "  outputElement.steps = steps;\n",
              "\n",
              "  return _uploadFilesContinue(outputId);\n",
              "}\n",
              "\n",
              "// This is roughly an async generator (not supported in the browser yet),\n",
              "// where there are multiple asynchronous steps and the Python side is going\n",
              "// to poll for completion of each step.\n",
              "// This uses a Promise to block the python side on completion of each step,\n",
              "// then passes the result of the previous step as the input to the next step.\n",
              "function _uploadFilesContinue(outputId) {\n",
              "  const outputElement = document.getElementById(outputId);\n",
              "  const steps = outputElement.steps;\n",
              "\n",
              "  const next = steps.next(outputElement.lastPromiseValue);\n",
              "  return Promise.resolve(next.value.promise).then((value) => {\n",
              "    // Cache the last promise value to make it available to the next\n",
              "    // step of the generator.\n",
              "    outputElement.lastPromiseValue = value;\n",
              "    return next.value.response;\n",
              "  });\n",
              "}\n",
              "\n",
              "/**\n",
              " * Generator function which is called between each async step of the upload\n",
              " * process.\n",
              " * @param {string} inputId Element ID of the input file picker element.\n",
              " * @param {string} outputId Element ID of the output display.\n",
              " * @return {!Iterable<!Object>} Iterable of next steps.\n",
              " */\n",
              "function* uploadFilesStep(inputId, outputId) {\n",
              "  const inputElement = document.getElementById(inputId);\n",
              "  inputElement.disabled = false;\n",
              "\n",
              "  const outputElement = document.getElementById(outputId);\n",
              "  outputElement.innerHTML = '';\n",
              "\n",
              "  const pickedPromise = new Promise((resolve) => {\n",
              "    inputElement.addEventListener('change', (e) => {\n",
              "      resolve(e.target.files);\n",
              "    });\n",
              "  });\n",
              "\n",
              "  const cancel = document.createElement('button');\n",
              "  inputElement.parentElement.appendChild(cancel);\n",
              "  cancel.textContent = 'Cancel upload';\n",
              "  const cancelPromise = new Promise((resolve) => {\n",
              "    cancel.onclick = () => {\n",
              "      resolve(null);\n",
              "    };\n",
              "  });\n",
              "\n",
              "  // Wait for the user to pick the files.\n",
              "  const files = yield {\n",
              "    promise: Promise.race([pickedPromise, cancelPromise]),\n",
              "    response: {\n",
              "      action: 'starting',\n",
              "    }\n",
              "  };\n",
              "\n",
              "  cancel.remove();\n",
              "\n",
              "  // Disable the input element since further picks are not allowed.\n",
              "  inputElement.disabled = true;\n",
              "\n",
              "  if (!files) {\n",
              "    return {\n",
              "      response: {\n",
              "        action: 'complete',\n",
              "      }\n",
              "    };\n",
              "  }\n",
              "\n",
              "  for (const file of files) {\n",
              "    const li = document.createElement('li');\n",
              "    li.append(span(file.name, {fontWeight: 'bold'}));\n",
              "    li.append(span(\n",
              "        `(${file.type || 'n/a'}) - ${file.size} bytes, ` +\n",
              "        `last modified: ${\n",
              "            file.lastModifiedDate ? file.lastModifiedDate.toLocaleDateString() :\n",
              "                                    'n/a'} - `));\n",
              "    const percent = span('0% done');\n",
              "    li.appendChild(percent);\n",
              "\n",
              "    outputElement.appendChild(li);\n",
              "\n",
              "    const fileDataPromise = new Promise((resolve) => {\n",
              "      const reader = new FileReader();\n",
              "      reader.onload = (e) => {\n",
              "        resolve(e.target.result);\n",
              "      };\n",
              "      reader.readAsArrayBuffer(file);\n",
              "    });\n",
              "    // Wait for the data to be ready.\n",
              "    let fileData = yield {\n",
              "      promise: fileDataPromise,\n",
              "      response: {\n",
              "        action: 'continue',\n",
              "      }\n",
              "    };\n",
              "\n",
              "    // Use a chunked sending to avoid message size limits. See b/62115660.\n",
              "    let position = 0;\n",
              "    do {\n",
              "      const length = Math.min(fileData.byteLength - position, MAX_PAYLOAD_SIZE);\n",
              "      const chunk = new Uint8Array(fileData, position, length);\n",
              "      position += length;\n",
              "\n",
              "      const base64 = btoa(String.fromCharCode.apply(null, chunk));\n",
              "      yield {\n",
              "        response: {\n",
              "          action: 'append',\n",
              "          file: file.name,\n",
              "          data: base64,\n",
              "        },\n",
              "      };\n",
              "\n",
              "      let percentDone = fileData.byteLength === 0 ?\n",
              "          100 :\n",
              "          Math.round((position / fileData.byteLength) * 100);\n",
              "      percent.textContent = `${percentDone}% done`;\n",
              "\n",
              "    } while (position < fileData.byteLength);\n",
              "  }\n",
              "\n",
              "  // All done.\n",
              "  yield {\n",
              "    response: {\n",
              "      action: 'complete',\n",
              "    }\n",
              "  };\n",
              "}\n",
              "\n",
              "scope.google = scope.google || {};\n",
              "scope.google.colab = scope.google.colab || {};\n",
              "scope.google.colab._files = {\n",
              "  _uploadFiles,\n",
              "  _uploadFilesContinue,\n",
              "};\n",
              "})(self);\n",
              "</script> "
            ]
          },
          "metadata": {}
        },
        {
          "output_type": "execute_result",
          "data": {
            "text/plain": [
              "{}"
            ]
          },
          "metadata": {},
          "execution_count": 33
        }
      ]
    },
    {
      "cell_type": "markdown",
      "source": [
        "# 해당 파일을 이용하여 Precision, Recall, F1-Score를 분석하겠습니다"
      ],
      "metadata": {
        "id": "PniHk1A69Jgx"
      }
    },
    {
      "cell_type": "code",
      "source": [
        "### 실습 : 일정한 데이터가 오게 Dataloader 재선언\n",
        "train_dataloader = torch.utils.data.DataLoader(train_dataset,\n",
        "                                               batch_size=len(train_dataset),\n",
        "                                               shuffle=False, num_workers=1)"
      ],
      "metadata": {
        "id": "G0us_eHVTQzz"
      },
      "execution_count": null,
      "outputs": []
    },
    {
      "cell_type": "code",
      "source": [
        "# 실습 : Checkpoint  경로를 던지면 모델을 return 해 주는 함수를 작성해보세요\n",
        "##      : CPU 에서 평가를 할 수 있도록 모델을 Load 해야 합니다\n",
        "def load_model_from_checkpoint(ckpt_name):\n",
        "  checkpoint = torch.load(ckpt_name, map_location=torch.device('cpu'))\n",
        "  model = VGG_BatchNormTorch(in_channels=1, out_features=11).to(\"cpu\")\n",
        "  model.load_state_dict(checkpoint[\"model_state_dict\"])\n",
        "  return model"
      ],
      "metadata": {
        "id": "uyJVg4dJSFHc"
      },
      "execution_count": null,
      "outputs": []
    },
    {
      "cell_type": "code",
      "source": [
        "## 실습 : CPU 에서 평가를 할 수 있도록 모델을 Load해 보세요.\n",
        "model = load_model_from_checkpoint('checkpoint-36.pt')"
      ],
      "metadata": {
        "id": "nF0pXELBpw9f"
      },
      "execution_count": null,
      "outputs": []
    },
    {
      "cell_type": "code",
      "source": [
        "model"
      ],
      "metadata": {
        "id": "ApAui2zTBsm3"
      },
      "execution_count": null,
      "outputs": []
    },
    {
      "cell_type": "code",
      "source": [
        "import warnings\n",
        "warnings.filterwarnings(\"ignore\")\n",
        "from sklearn.metrics import precision_score, recall_score, f1_score, accuracy_score\n",
        "\n",
        "### 실습 : model에 대한 성능을 평가하는 모델을 만들어 보세요\n",
        "### 실습 : CPU에서 동작하게 만들어야 합니다\n",
        "def evaluate_performace(model, dataloader, verbose=False):\n",
        "\n",
        "  model.eval()\n",
        "  total = 0.0\n",
        "  correct = 0.0\n",
        "\n",
        "  precision, accuracy, recall, f1score = 0., 0., 0., 0.\n",
        "  cnt = 0\n",
        "\n",
        "  with torch.no_grad():\n",
        "    for images, _,  labels in dataloader:\n",
        "      ### CPU에서 진행하니 .cuda() 미사용!!\n",
        "      images, labels = images.cpu(), labels.cpu()\n",
        "      outputs = model(images)\n",
        "      _, predicted = torch.max(outputs, 1)\n",
        "\n",
        "      precision += precision_score(labels,predicted, average='macro')\n",
        "      accuracy += accuracy_score(labels,predicted)\n",
        "      recall += recall_score(labels,predicted, average='macro')\n",
        "      f1score += f1_score(labels,predicted, average='macro')\n",
        "\n",
        "      cnt += 1\n",
        "\n",
        "  precision = 100 * precision / cnt\n",
        "  accuracy = 100 * accuracy / cnt\n",
        "  recall = 100 * recall / cnt\n",
        "  f1score = f1score / cnt\n",
        "\n",
        "  if verbose:\n",
        "    print(f\"precision:{precision:.2f}, accuracy:{accuracy:.2f}, recall:{recall:.2f}, f1_score:{f1score:.2f}\")\n",
        "  else:\n",
        "    return precision, accuracy, recall, f1score\n",
        "\n"
      ],
      "metadata": {
        "id": "a1cM8uOpSgMF"
      },
      "execution_count": null,
      "outputs": []
    },
    {
      "cell_type": "code",
      "source": [
        "evaluate_performace(model, train_dataloader, verbose=True)"
      ],
      "metadata": {
        "colab": {
          "base_uri": "https://localhost:8080/"
        },
        "id": "HtjKW-LPS-W8",
        "outputId": "9e5b9453-ad6b-4ddf-dcb0-0ccd679f7fc6"
      },
      "execution_count": null,
      "outputs": [
        {
          "output_type": "stream",
          "name": "stdout",
          "text": [
            "precision:92.62, accuracy:91.41, recall:91.65, f1_score:0.92\n"
          ]
        }
      ]
    },
    {
      "cell_type": "markdown",
      "source": [
        "## 과적합이 되었는지 여부 확인을 위해, 여러 check point 에 대해 작업수행"
      ],
      "metadata": {
        "id": "kAcuZbSLPA2N"
      }
    },
    {
      "cell_type": "code",
      "source": [
        "for epoch in [30,36,40,46,50]:\n",
        "  model = load_model_from_checkpoint(f'checkpoint-{epoch}.pt')\n",
        "  print(f\"Epoch [{epoch}] : \", end=\"\")\n",
        "  evaluate_performace(model, train_dataloader, verbose=True)"
      ],
      "metadata": {
        "colab": {
          "base_uri": "https://localhost:8080/"
        },
        "id": "JAwX4vBRP7PU",
        "outputId": "84331b76-f8be-49b2-dbb4-ae40e7e4352b"
      },
      "execution_count": null,
      "outputs": [
        {
          "output_type": "stream",
          "name": "stdout",
          "text": [
            "Epoch [30] : precision:84.29, accuracy:71.72, recall:71.74, f1_score:0.66\n",
            "Epoch [36] : precision:90.39, accuracy:88.89, recall:89.21, f1_score:0.89\n",
            "Epoch [40] : precision:93.60, accuracy:91.41, recall:91.59, f1_score:0.91\n",
            "Epoch [46] : precision:96.47, accuracy:95.45, recall:95.48, f1_score:0.95\n",
            "Epoch [50] : precision:98.76, accuracy:98.48, recall:98.48, f1_score:0.99\n"
          ]
        }
      ]
    },
    {
      "cell_type": "markdown",
      "source": [
        "# 각 Class에 대한 예측정확도를 파악하고 싶습니다"
      ],
      "metadata": {
        "id": "oQbzPAW_UmHm"
      }
    },
    {
      "cell_type": "code",
      "source": [],
      "metadata": {
        "id": "E1pmI9RbL1kB"
      },
      "execution_count": null,
      "outputs": []
    },
    {
      "cell_type": "code",
      "source": [
        "## 실습 : 전체 데이터를 한번에 가져오고, 이 결과를 기반으로 Report출력\n",
        "train_dataloader = torch.utils.data.DataLoader(train_dataset,\n",
        "                                               batch_size=len(train_dataset),\n",
        "                                               shuffle=False, num_workers=1)\n",
        "\n",
        "labels, predicted,images, names = None, None, None, None\n",
        "with torch.no_grad():\n",
        "  for images, names,  labels in train_dataloader:\n",
        "    ### CPU에서 진행하니 .cuda() 미사용!!\n",
        "    images, labels = images.cpu(), labels.cpu()\n",
        "    outputs = model(images)\n",
        "    _, predicted = torch.max(outputs, 1)\n",
        "\n",
        "from sklearn.metrics import classification_report\n",
        "print(classification_report(labels, predicted))"
      ],
      "metadata": {
        "colab": {
          "base_uri": "https://localhost:8080/"
        },
        "id": "i8u2R9pGUygt",
        "outputId": "4b9c1460-4dae-4900-f005-28ee2d079151"
      },
      "execution_count": null,
      "outputs": [
        {
          "output_type": "stream",
          "name": "stdout",
          "text": [
            "              precision    recall  f1-score   support\n",
            "\n",
            "           0       0.76      1.00      0.86        19\n",
            "           1       1.00      1.00      1.00        18\n",
            "           2       1.00      1.00      1.00        19\n",
            "           3       1.00      1.00      1.00        17\n",
            "           4       1.00      1.00      1.00        17\n",
            "           5       1.00      1.00      1.00        18\n",
            "           6       1.00      1.00      1.00        18\n",
            "           7       1.00      1.00      1.00        18\n",
            "           8       1.00      0.83      0.91        18\n",
            "           9       1.00      0.83      0.91        18\n",
            "          10       1.00      1.00      1.00        18\n",
            "\n",
            "    accuracy                           0.97       198\n",
            "   macro avg       0.98      0.97      0.97       198\n",
            "weighted avg       0.98      0.97      0.97       198\n",
            "\n"
          ]
        }
      ]
    },
    {
      "cell_type": "markdown",
      "source": [
        "# Visualize 해보겠습니다"
      ],
      "metadata": {
        "id": "WW3YT2amVrK6"
      }
    },
    {
      "cell_type": "code",
      "source": [
        "labels.numpy() != predicted.numpy()"
      ],
      "metadata": {
        "id": "WUTlsRcwICzQ",
        "colab": {
          "base_uri": "https://localhost:8080/"
        },
        "outputId": "55a50ac6-d478-461b-ea9b-611fcad2f065"
      },
      "execution_count": null,
      "outputs": [
        {
          "output_type": "execute_result",
          "data": {
            "text/plain": [
              "array([False, False, False, False, False, False, False, False, False,\n",
              "       False, False, False, False, False, False, False, False, False,\n",
              "       False, False, False, False, False, False, False, False, False,\n",
              "       False, False, False, False, False, False, False, False, False,\n",
              "       False, False, False, False, False, False, False, False, False,\n",
              "       False, False, False, False, False, False, False, False, False,\n",
              "       False, False, False, False, False, False, False, False, False,\n",
              "       False, False, False, False, False, False, False, False, False,\n",
              "       False, False, False, False, False, False, False, False, False,\n",
              "       False, False, False, False, False, False, False, False, False,\n",
              "       False, False, False, False, False, False, False, False, False,\n",
              "       False, False, False, False, False, False, False, False, False,\n",
              "       False, False, False, False, False, False, False, False, False,\n",
              "       False, False, False, False, False, False, False, False, False,\n",
              "       False, False, False, False, False, False, False, False, False,\n",
              "       False, False, False, False, False, False, False, False, False,\n",
              "       False, False,  True, False, False, False, False, False, False,\n",
              "        True, False, False,  True, False, False, False, False, False,\n",
              "       False, False, False, False, False, False,  True, False, False,\n",
              "       False, False, False,  True, False, False, False,  True, False,\n",
              "       False, False, False, False, False, False, False, False, False,\n",
              "       False, False, False, False, False, False, False, False, False])"
            ]
          },
          "metadata": {},
          "execution_count": 42
        }
      ]
    },
    {
      "cell_type": "code",
      "source": [
        "idx_diff = np.where(labels.numpy() != predicted.numpy())\n",
        "labels_diff = labels[idx_diff]\n",
        "predicted_diff = predicted[idx_diff]\n",
        "images_diff = images[idx_diff]\n",
        "\n",
        "for t, p in zip(labels_diff, predicted_diff):\n",
        "  print(f\"정답 Label은 {t}, 예측 Label은 {p}\")\n"
      ],
      "metadata": {
        "id": "WW-zeNcmIVmk",
        "colab": {
          "base_uri": "https://localhost:8080/"
        },
        "outputId": "dfb45ba4-3b44-4095-bfb4-6162a11737de"
      },
      "execution_count": null,
      "outputs": [
        {
          "output_type": "stream",
          "name": "stdout",
          "text": [
            "정답 Label은 8, 예측 Label은 0\n",
            "정답 Label은 8, 예측 Label은 0\n",
            "정답 Label은 8, 예측 Label은 0\n",
            "정답 Label은 9, 예측 Label은 0\n",
            "정답 Label은 9, 예측 Label은 0\n",
            "정답 Label은 9, 예측 Label은 0\n"
          ]
        }
      ]
    },
    {
      "cell_type": "code",
      "source": [
        "### 실습 : label 이 0인 이미지 중 5개만 추려서 출력해 봅시다\n",
        "target_index = np.where(labels.numpy() == 0)[0]\n",
        "print(labels[target_index])\n",
        "random_idx = np.random.choice(target_index, 5)\n",
        "print(random_idx)\n",
        "plt.figure(figsize=(15, 10))\n",
        "for i, idx in enumerate(random_idx):\n",
        "\n",
        "  plt.subplot(1, 5, i+1)\n",
        "  plt.imshow(images[idx].squeeze(), cmap='gray_r')\n",
        "  plt.title('Digit : {} '.format(names[idx]), fontsize=14)\n",
        "  plt.xticks([]); plt.yticks([])\n"
      ],
      "metadata": {
        "colab": {
          "base_uri": "https://localhost:8080/",
          "height": 185
        },
        "id": "vHG6U_ttWJWn",
        "outputId": "88b88d07-4c0b-410b-d812-34439e56f7f3"
      },
      "execution_count": null,
      "outputs": [
        {
          "output_type": "stream",
          "name": "stdout",
          "text": [
            "tensor([0, 0, 0, 0, 0, 0, 0, 0, 0, 0, 0, 0, 0, 0, 0, 0, 0, 0, 0])\n",
            "[179 187 182 182 182]\n"
          ]
        },
        {
          "output_type": "display_data",
          "data": {
            "text/plain": [
              "<Figure size 1080x720 with 5 Axes>"
            ],
            "image/png": "[encoded data removed]"
          },
          "metadata": {}
        }
      ]
    },
    {
      "cell_type": "markdown",
      "source": [
        "#  Deep Ensemble 수행"
      ],
      "metadata": {
        "id": "G9P597f7dv_I"
      }
    },
    {
      "cell_type": "code",
      "source": [
        "list_models = []\n",
        "for epoch in [30,36,40,46,50]:\n",
        "  model = load_model_from_checkpoint(f'checkpoint-{epoch}.pt')\n",
        "  list_models.append(model)\n",
        "\n",
        "### 실습 : 일정한 데이터가 오게 Dataloader 재선언\n",
        "train_dataloader = torch.utils.data.DataLoader(train_dataset,\n",
        "                                               batch_size=len(train_dataset),\n",
        "                                               shuffle=False, num_workers=1)"
      ],
      "metadata": {
        "id": "Fv7xCd-Cd6Ks"
      },
      "execution_count": null,
      "outputs": []
    },
    {
      "cell_type": "code",
      "source": [
        "#### 실습 : Deep Ensemble 모델을 구성합니다.\n",
        "#### 여러 모델을 읽어 온 후 그 결과를 Average 하여 정확도를 계산하니다.\n",
        "\n",
        "images, labels = None, None\n",
        "with torch.no_grad():\n",
        "\n",
        "  ### 데이터를 읽어 들이고\n",
        "  for images, names,  labels in train_dataloader:\n",
        "    images, labels = images.cpu(), labels.cpu()\n",
        "\n",
        "\n",
        "  ## 각 모델에 대해 순환\n",
        "  outputs_stacked = None\n",
        "  for i, model in enumerate(list_models[0:2]):\n",
        "\n",
        "    outputs = model(images)\n",
        "\n",
        "    if i == 0:\n",
        "      outputs_stacked = outputs\n",
        "    else:\n",
        "      outputs_stacked = torch.stack([outputs_stacked,outputs], dim=2)\n",
        "\n",
        "  #### Ensemble 결과 생성\n",
        "  outputs_ensemble = outputs_stacked.mean(dim=2)\n",
        "  _, predicted = torch.max(outputs_ensemble, 1)\n",
        "\n",
        "  precision = precision_score(labels,predicted, average='macro')\n",
        "  accuracy = accuracy_score(labels,predicted)\n",
        "  recall = recall_score(labels,predicted, average='macro')\n",
        "  f1score = f1_score(labels,predicted, average='macro')\n",
        "\n",
        "  print(f\"precision:{precision:.2f}, accuracy:{accuracy:.2f}, recall:{recall:.2f}, f1_score:{f1score:.2f}\")\n"
      ],
      "metadata": {
        "colab": {
          "base_uri": "https://localhost:8080/"
        },
        "id": "DFngkc6id5x_",
        "outputId": "5b231fe7-9563-47d4-b15a-a7642610cbb2"
      },
      "execution_count": null,
      "outputs": [
        {
          "output_type": "stream",
          "name": "stdout",
          "text": [
            "precision:0.95, accuracy:0.93, recall:0.94, f1_score:0.93\n"
          ]
        }
      ]
    }
  ]
}