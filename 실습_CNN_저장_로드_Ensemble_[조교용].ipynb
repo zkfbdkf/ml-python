{
  "nbformat": 4,
  "nbformat_minor": 0,
  "metadata": {
    "colab": {
      "provenance": [],
      "include_colab_link": true
    },
    "kernelspec": {
      "name": "python3",
      "display_name": "Python 3"
    },
    "language_info": {
      "name": "python"
    },
    "accelerator": "GPU",
    "gpuClass": "standard"
  },
  "cells": [
    {
      "cell_type": "markdown",
      "metadata": {
        "id": "view-in-github",
        "colab_type": "text"
      },
      "source": [
        "<a href=\"https://colab.research.google.com/github/chminPark/ml-python/blob/master/%EC%8B%A4%EC%8A%B5_CNN_%EC%A0%80%EC%9E%A5_%EB%A1%9C%EB%93%9C_Ensemble_%5B%EC%A1%B0%EA%B5%90%EC%9A%A9%5D.ipynb\" target=\"_parent\"><img src=\"https://colab.research.google.com/assets/colab-badge.svg\" alt=\"Open In Colab\"/></a>"
      ]
    },
    {
      "cell_type": "code",
      "source": [
        "!gdown --id 1nOUWByW6ifnd_P-Jgd4mbNkAT-jGzpWC\n",
        "!mkdir 'semicon'\n",
        "!unzip -q semiconductor_dataset.zip -d semicon\n",
        "!rm semiconductor_dataset.zip"
      ],
      "metadata": {
        "colab": {
          "base_uri": "https://localhost:8080/"
        },
        "id": "fvM0McnQ8Mx8",
        "outputId": "efeac3ac-6691-4bfb-d02e-3d23e3bc06ee"
      },
      "execution_count": null,
      "outputs": [
        {
          "output_type": "stream",
          "name": "stdout",
          "text": [
            "/usr/local/lib/python3.8/dist-packages/gdown/cli.py:127: FutureWarning: Option `--id` was deprecated in version 4.3.1 and will be removed in 5.0. You don't need to pass it anymore to use a file ID.\n",
            "  warnings.warn(\n",
            "Downloading...\n",
            "From: https://drive.google.com/uc?id=1nOUWByW6ifnd_P-Jgd4mbNkAT-jGzpWC\n",
            "To: /content/semiconductor_dataset.zip\n",
            "100% 10.3M/10.3M [00:00<00:00, 137MB/s]\n",
            "mkdir: cannot create directory ‘semicon’: File exists\n",
            "replace semicon/abnorm_1/1-4.jpg? [y]es, [n]o, [A]ll, [N]one, [r]ename: A\n"
          ]
        }
      ]
    },
    {
      "cell_type": "code",
      "source": [
        "import csv\n",
        "import os\n",
        "import pandas as pd\n",
        "\"\"\" \n",
        "Args:    \n",
        "  directory_string: 이미지가 저장되어 있는 폴더 Path\n",
        "  output_csv_name: csv 파일 이름\n",
        "Returns:\n",
        "  csv file \n",
        "\"\"\"\n",
        "def build_csv(directory_string, output_csv_name):\n",
        "    \n",
        "    directory = directory_string\n",
        "    class_list = os.listdir(directory) \n",
        "    class_list.sort() \n",
        "\n",
        "    \n",
        "    with open(output_csv_name, 'w', newline='') as csvfile:\n",
        "        \n",
        "        ### 실습 : CSV 파일 Object 생성 \n",
        "        writer = csv.writer(csvfile, delimiter=',')\n",
        "        ############################################\n",
        "        writer.writerow(['file_name', 'file_path', 'class_name', 'class_index']) # CSV의 column 이름을 지정\n",
        "\n",
        "        ###### 각 folder에 들어가서 각 이미지의 이름을 가져옴\n",
        "        for class_name in class_list:\n",
        "          class_path = os.path.join(directory, class_name)  \n",
        "          file_list = os.listdir(class_path) # 해당 파일 내부의 이미지를 확보\n",
        "          for file_name in file_list:\n",
        "              file_path = os.path.join(directory, class_name, file_name) #concatenate class folder dir, class name and file name\n",
        "              writer.writerow([file_name, file_path, class_name, class_name.split(\"_\")[1]]) #write the file path and class name to the csv file\n",
        "        #############################\n",
        "            \n",
        "    return\n",
        "\n",
        "train_folder = os.path.join(os.getcwd(), 'semicon')\n",
        "build_csv(train_folder, 'train.csv')\n",
        "train_df = pd.read_csv('train.csv')\n"
      ],
      "metadata": {
        "id": "5dXEooJlWsRV"
      },
      "execution_count": null,
      "outputs": []
    },
    {
      "cell_type": "markdown",
      "source": [
        "# Custom데이터를 활용하기 위한 Dataset을 선언\n",
        "- pytorch의 `dataloader`를 이용하기 위해서는 `torch.utils.data.Dataset` 클래스를 상속한 클래스의 선언이 필요하다.\n",
        "- 클래스 내에 `__init__`, `__getitem__`, `__len__`의 3개의 메소드를 선언하여 오버라이드한다."
      ],
      "metadata": {
        "id": "i837jqmdjrGV"
      }
    },
    {
      "cell_type": "code",
      "source": [
        "import cv2\n",
        "import torch\n",
        "from torch.utils.data import Dataset\n",
        "\n",
        "class semiconductorDataset(Dataset): # inheritin from Dataset class\n",
        "\n",
        "    def __init__(self, csv_file, root_dir=\"\", transform=None):\n",
        "        self.annotation_df = pd.read_csv(csv_file)\n",
        "        self.root_dir = root_dir # root directory of images, leave \"\" if using the image path column in the __getitem__ method\n",
        "        self.transform = transform\n",
        "\n",
        "    def __len__(self):\n",
        "        return len(self.annotation_df) # return length (numer of rows) of the dataframe\n",
        "\n",
        "    ############ 실습 : annotation_df에 있는 이미지를 읽어 들어서, 변경한후\n",
        "    ############        읽어 들인 값을 return 하는 함수를 작성한다. \n",
        "    def __getitem__(self, idx):\n",
        "\n",
        "        ##### Image 읽기 \n",
        "        image_path = os.path.join(self.root_dir, self.annotation_df.iloc[idx, 1]) #use image path column (index = 1) in csv file\n",
        "        image = cv2.imread(image_path) # read image by cv2\n",
        "        #### 이미지를 Channel순서를 변경\n",
        "        image = cv2.cvtColor(image, cv2.COLOR_BGR2RGB) # convert from BGR to RGB for matplotlib\n",
        "        #### 이미지 Transform \n",
        "        if self.transform:\n",
        "            image = self.transform(image)\n",
        "\n",
        "        #### 이미지에 대한 추가 정보 확인 \n",
        "        class_name = self.annotation_df.iloc[idx, 2] # use class name column (index = 2) in csv file\n",
        "        class_index = self.annotation_df.iloc[idx, 3] # use class index column (index = 3) in csv file\n",
        "\n",
        "        return image, class_name, class_index"
      ],
      "metadata": {
        "id": "qOUmcMyjYn-W"
      },
      "execution_count": null,
      "outputs": []
    },
    {
      "cell_type": "code",
      "source": [
        "# https://pytorch.org/vision/stable/auto_examples/plot_transforms.html#sphx-glr-auto-examples-plot-transforms-py\n",
        "from torchvision import transforms\n",
        "import matplotlib.pyplot as plt\n",
        "import random\n",
        "import pandas as pd\n",
        "\n",
        "\n",
        "transform = transforms.Compose([\n",
        "    transforms.ToTensor(), # PIL Image를 Tensor로 변경 \n",
        "    transforms.Resize((256,256)), # 크기 변경\n",
        "    transforms.Normalize(mean=(0.485, 0.456, 0.406), std=(0.229, 0.224, 0.225)), # Normalize\n",
        "    transforms.Grayscale(), # Gray Scale로 변경 \n",
        "    transforms.RandomAdjustSharpness(sharpness_factor=2), # randomly adjusts the sharpness\n",
        "    transforms.RandomAutocontrast() # 임의로 Contrast변경\n",
        "])\n",
        "\n",
        "##### 실습 : train_dataset 선언\n",
        "train_dataset = semiconductorDataset(csv_file='train.csv', root_dir=\"\", transform=transform)"
      ],
      "metadata": {
        "id": "aH1Zej7hLxxR"
      },
      "execution_count": null,
      "outputs": []
    },
    {
      "cell_type": "code",
      "source": [
        "## 실습 : 전체 데이터를 한번에 가져오고, 이 결과를 기반으로 Report출력\n",
        "train_dataloader = torch.utils.data.DataLoader(train_dataset,\n",
        "                                               batch_size=len(train_dataset),\n",
        "                                               shuffle=False, num_workers=1)\n",
        "\n",
        "labels, predicted,images, names = None, None, None, None\n",
        "with torch.no_grad():\n",
        "  for images, names,  labels in train_dataloader:\n",
        "    continue\n",
        "\n",
        "### 입력 이미지를 numpy 로 변경 \n",
        "print(images.shape)\n"
      ],
      "metadata": {
        "colab": {
          "base_uri": "https://localhost:8080/"
        },
        "id": "AFb55-aKMHz6",
        "outputId": "6eefbe44-9ddb-4c3c-deff-3d54f7c82f4b"
      },
      "execution_count": null,
      "outputs": [
        {
          "output_type": "stream",
          "name": "stdout",
          "text": [
            "torch.Size([198, 1, 256, 256])\n"
          ]
        }
      ]
    },
    {
      "cell_type": "code",
      "source": [
        "images = images.squeeze()\n",
        "print(images.shape)\n",
        "\n",
        "images = images.view(images.shape[0], -1)\n",
        "images.shape"
      ],
      "metadata": {
        "colab": {
          "base_uri": "https://localhost:8080/"
        },
        "id": "xvWh4-xjMhHU",
        "outputId": "fcffc308-c31e-483b-bba1-72c202dba165"
      },
      "execution_count": null,
      "outputs": [
        {
          "output_type": "stream",
          "name": "stdout",
          "text": [
            "torch.Size([198, 256, 256])\n"
          ]
        },
        {
          "output_type": "execute_result",
          "data": {
            "text/plain": [
              "torch.Size([198, 65536])"
            ]
          },
          "metadata": {},
          "execution_count": 20
        }
      ]
    },
    {
      "cell_type": "code",
      "source": [
        "# Image plotting function\n",
        "def img_plt(X_train, Y_train, n):\n",
        "  X_train_2d = X_train.reshape(X_train.shape[0], 256, 256)\n",
        "  fig, axes = plt.subplots(n, 10, figsize=(10,10))\n",
        "  for j in range(n):\n",
        "    for i in range(10):\n",
        "        ax = axes[j, i]\n",
        "        try:        \n",
        "          ax.imshow(X_train_2d[Y_train==j][i], cmap='gray_r')\n",
        "          ax.axis('off')\n",
        "          if i == 0:\n",
        "            ax.set_title('Cluster: {}'.format(j))\n",
        "        except:\n",
        "          ax.axis('off')\n",
        "  \n",
        "  plt.tight_layout()\n",
        "  plt.show()"
      ],
      "metadata": {
        "id": "ghCR7igHNMG1"
      },
      "execution_count": null,
      "outputs": []
    },
    {
      "cell_type": "code",
      "source": [
        "X_train = images.numpy()\n",
        "Y_train = labels.numpy().shape\n",
        "## Clustering\n",
        "from sklearn import cluster\n",
        "n = 3 # number of clusters\n",
        "model = cluster.KMeans(n_clusters=n, random_state=1) # 'Kmeans' from 'sklearn.cluster', 'n_cluster' default=2\n",
        "Y_train = model.fit_predict(X_train) # their clustering result using 'X_train_s' will be assigned to 'Y_train'\n"
      ],
      "metadata": {
        "id": "iil9qDpdMYux"
      },
      "execution_count": null,
      "outputs": []
    },
    {
      "cell_type": "code",
      "source": [
        "labels"
      ],
      "metadata": {
        "colab": {
          "base_uri": "https://localhost:8080/"
        },
        "id": "8SnV4h0tOPLj",
        "outputId": "5086302f-0594-426d-817b-25a5343c4839"
      },
      "execution_count": null,
      "outputs": [
        {
          "output_type": "execute_result",
          "data": {
            "text/plain": [
              "tensor([ 1,  1,  1,  1,  1,  1,  1,  1,  1,  1,  1,  1,  1,  1,  1,  1,  1,  1,\n",
              "        10, 10, 10, 10, 10, 10, 10, 10, 10, 10, 10, 10, 10, 10, 10, 10, 10, 10,\n",
              "         2,  2,  2,  2,  2,  2,  2,  2,  2,  2,  2,  2,  2,  2,  2,  2,  2,  2,\n",
              "         2,  3,  3,  3,  3,  3,  3,  3,  3,  3,  3,  3,  3,  3,  3,  3,  3,  3,\n",
              "         4,  4,  4,  4,  4,  4,  4,  4,  4,  4,  4,  4,  4,  4,  4,  4,  4,  5,\n",
              "         5,  5,  5,  5,  5,  5,  5,  5,  5,  5,  5,  5,  5,  5,  5,  5,  5,  6,\n",
              "         6,  6,  6,  6,  6,  6,  6,  6,  6,  6,  6,  6,  6,  6,  6,  6,  6,  7,\n",
              "         7,  7,  7,  7,  7,  7,  7,  7,  7,  7,  7,  7,  7,  7,  7,  7,  7,  8,\n",
              "         8,  8,  8,  8,  8,  8,  8,  8,  8,  8,  8,  8,  8,  8,  8,  8,  8,  9,\n",
              "         9,  9,  9,  9,  9,  9,  9,  9,  9,  9,  9,  9,  9,  9,  9,  9,  9,  0,\n",
              "         0,  0,  0,  0,  0,  0,  0,  0,  0,  0,  0,  0,  0,  0,  0,  0,  0,  0])"
            ]
          },
          "metadata": {},
          "execution_count": 33
        }
      ]
    },
    {
      "cell_type": "code",
      "source": [
        "model.labels_"
      ],
      "metadata": {
        "colab": {
          "base_uri": "https://localhost:8080/"
        },
        "id": "3xEY_vy-OE8s",
        "outputId": "e0541a8d-85ab-46f5-9c9a-1a65c00df643"
      },
      "execution_count": null,
      "outputs": [
        {
          "output_type": "execute_result",
          "data": {
            "text/plain": [
              "array([1, 2, 2, 0, 0, 1, 2, 1, 0, 0, 0, 0, 1, 0, 2, 0, 2, 1, 2, 1, 1, 0,\n",
              "       2, 2, 1, 2, 1, 2, 2, 1, 0, 2, 2, 1, 1, 1, 2, 2, 2, 2, 2, 1, 0, 1,\n",
              "       2, 1, 0, 0, 2, 1, 0, 1, 2, 2, 2, 1, 2, 0, 1, 0, 1, 1, 2, 2, 2, 0,\n",
              "       0, 1, 0, 0, 2, 2, 2, 2, 0, 0, 0, 1, 1, 2, 0, 0, 0, 2, 0, 2, 1, 0,\n",
              "       1, 0, 2, 1, 2, 2, 1, 1, 2, 2, 0, 2, 2, 2, 1, 0, 2, 2, 0, 1, 2, 0,\n",
              "       0, 2, 1, 0, 0, 2, 1, 2, 2, 2, 1, 0, 0, 0, 2, 2, 0, 2, 0, 1, 2, 0,\n",
              "       0, 2, 2, 2, 2, 0, 0, 1, 1, 0, 2, 2, 0, 2, 2, 1, 0, 0, 2, 2, 2, 0,\n",
              "       0, 2, 1, 2, 1, 2, 0, 2, 0, 1, 0, 1, 0, 2, 2, 2, 0, 0, 2, 0, 2, 1,\n",
              "       2, 1, 1, 1, 2, 0, 2, 1, 1, 1, 1, 0, 2, 0, 0, 2, 1, 0, 2, 0, 2, 2],\n",
              "      dtype=int32)"
            ]
          },
          "metadata": {},
          "execution_count": 34
        }
      ]
    },
    {
      "cell_type": "code",
      "source": [
        "img_plt(X_train, Y_train, n) # plot"
      ],
      "metadata": {
        "colab": {
          "base_uri": "https://localhost:8080/",
          "height": 729
        },
        "id": "wJqhDyoGNFzs",
        "outputId": "d4b4c219-1b94-4d3d-ef9a-ed4d9219acdc"
      },
      "execution_count": null,
      "outputs": [
        {
          "output_type": "display_data",
          "data": {
            "text/plain": [
              "<Figure size 720x720 with 110 Axes>"
            ],
            "image/png": "[encoded data removed]"
          },
          "metadata": {
            "needs_background": "light"
          }
        }
      ]
    },
    {
      "cell_type": "markdown",
      "source": [
        "# Batch 단위 학습을 위한 DataLoader 선언\n",
        " - Dataset내부의 샘플들을 batch 크기로 추출\n",
        " - Batch Size는 1step에 들어간 데이터의 개수\n",
        " - Epoch 마다 데이터를 섞어(Shuffle) Overfitting을 방지 \n",
        " - 병렬처리를 지원하여 데이터 검색 속도를 향상\n"
      ],
      "metadata": {
        "id": "m5pV5UK4kBiR"
      }
    },
    {
      "cell_type": "code",
      "source": [
        "#### 실습 : torch.utils.DataLoader를 이용하여 데이터를 load. Batch 크기를 10으로 한다. \n",
        "train_dataloader = torch.utils.data.DataLoader(train_dataset,batch_size=10, shuffle=True, num_workers=2)\n",
        "\n",
        "for i, data in enumerate(train_dataloader):\n",
        "  images, class_name, labels = data\n",
        "  print(images.shape, labels.shape)\n",
        "\n",
        "  # 5번만 데이터를 load하고 멈춘다\n",
        "  if i > 3:\n",
        "    break"
      ],
      "metadata": {
        "id": "bCTnlT1pRpSS",
        "colab": {
          "base_uri": "https://localhost:8080/"
        },
        "outputId": "abedbe3a-8764-4900-e152-c931f0f268c6"
      },
      "execution_count": null,
      "outputs": [
        {
          "output_type": "stream",
          "name": "stdout",
          "text": [
            "torch.Size([10, 1, 100, 100]) torch.Size([10])\n",
            "torch.Size([10, 1, 100, 100]) torch.Size([10])\n",
            "torch.Size([10, 1, 100, 100]) torch.Size([10])\n",
            "torch.Size([10, 1, 100, 100]) torch.Size([10])\n",
            "torch.Size([10, 1, 100, 100]) torch.Size([10])\n"
          ]
        }
      ]
    },
    {
      "cell_type": "markdown",
      "source": [
        "# VGG6를 이용하여 학습을 수행한다\n",
        "![](https://drive.google.com/uc?export=view&id=1vLrvhxczx1ZCOH05cxzzESylaOaF1Uj2)\n"
      ],
      "metadata": {
        "id": "WhDfo_bXniHr"
      }
    },
    {
      "cell_type": "code",
      "source": [
        "import torch\n",
        "import torch.nn as nn\n",
        "import torch.nn.functional as F\n",
        "import torch.optim as optim\n",
        "import numpy as np\n",
        "import matplotlib.pyplot as plt\n",
        "\n",
        "class VGG_BatchNormTorch(nn.Module):\n",
        "  def __init__(self, in_channels, out_features):\n",
        "    super(VGG_BatchNormTorch, self).__init__()\n",
        "\n",
        "    ###### 실습 : Gray이미지 이므로 in_channel =1 로 선언한다\n",
        "    self.conv1 = nn.Conv2d(in_channels=in_channels, out_channels=32, kernel_size=3, padding=1) \n",
        "    self.norm1 = torch.nn.BatchNorm2d(32)\n",
        "    self.conv2 = nn.Conv2d(in_channels=32, out_channels=32, kernel_size=3, padding=1)\n",
        "    self.norm2 = torch.nn.BatchNorm2d(32)\n",
        "    \n",
        "    self.conv3 = nn.Conv2d(in_channels=32, out_channels=64, kernel_size=3, padding=1)\n",
        "    self.norm3 = torch.nn.BatchNorm2d(64)\n",
        "    \n",
        "    self.conv4 = nn.Conv2d(in_channels=64, out_channels=64, kernel_size=3, padding=1)\n",
        "    self.norm4 = torch.nn.BatchNorm2d(64)\n",
        "\n",
        "    self.conv5 = nn.Conv2d(in_channels=64, out_channels=128, kernel_size=3, padding=1)\n",
        "    #### 실습 : Batch Norm 을 Pytorch의 값으로 변경한다 \n",
        "    self.norm5 = torch.nn.BatchNorm2d(128)\n",
        "    self.conv6 = nn.Conv2d(in_channels=128, out_channels=128, kernel_size=3, padding=1)\n",
        "    #### 실습 : Batch Norm 을 Pytorch의 값으로 변경한다 \n",
        "    self.norm6 = torch.nn.BatchNorm2d(128)\n",
        "\n",
        "    self.max_pool = nn.MaxPool2d(kernel_size=2, stride=2) #Maxpooling layer to change feature size \n",
        "    self.avg_pool = nn.AdaptiveAvgPool2d(output_size = (1, 1)) #Note that average pooling layer is not adopted in original VGG architecture. We use average pooling layer to make the architecture for experiment simple.\n",
        "\n",
        "    ###### 실습 : 11개의 Label이 있으므로 out_features=11로 선언한다\n",
        "    self.fc = nn.Linear(in_features=128, out_features=out_features)\n",
        "\n",
        "  def forward(self, x):\n",
        "    #### 실습 : Batch Norm을 Convolution 이후에 선언 \n",
        "    x = self.norm1(self.conv1(x))\n",
        "    x = F.relu(x)\n",
        "    x = self.norm2(self.conv2(x))\n",
        "    x = F.relu(x)\n",
        "    x = self.max_pool(x)\n",
        "\n",
        "    x = self.norm3(self.conv3(x))\n",
        "    x = F.relu(x)\n",
        "    x = self.norm4(self.conv4(x))\n",
        "    x = F.relu(x)\n",
        "    x = self.max_pool(x)\n",
        "\n",
        "    x = self.norm5(self.conv5(x))\n",
        "    x = F.relu(x)\n",
        "    x = self.norm6(self.conv6(x))\n",
        "    x = F.relu(x)\n",
        "\n",
        "    x = self.avg_pool(x)\n",
        "    x = x.view(-1, 128)\n",
        "    x = self.fc(x)\n",
        "    return x"
      ],
      "metadata": {
        "id": "QY8Iolz6gvHn"
      },
      "execution_count": null,
      "outputs": []
    },
    {
      "cell_type": "code",
      "source": [
        "def train(model, data_loader, criterion, optimizer, n_epoch):\n",
        "  \n",
        "  model.train() #\n",
        "  for epoch in range(n_epoch):\n",
        "    running_loss = 0\n",
        "    ### 실습 : Custom dataloader 에서 값을 가져온다\n",
        "    for i, (images, _, labels) in enumerate(data_loader):\n",
        "      images, labels = images.cuda(), labels.cuda()\n",
        "      outputs = model(images)\n",
        "      loss = criterion(outputs, labels)\n",
        "      \n",
        "      optimizer.zero_grad()\n",
        "      loss.backward()\n",
        "      optimizer.step()\n",
        "      running_loss += loss.item()\n",
        "      if (i + 1) % 100 == 0:\n",
        "        print('iteration: [{}/{}]'.format(i + 1, len(data_loader)))\n",
        "          \n",
        "    print('Epoch {}, loss = {:.3f}'.format(epoch + 1, running_loss/len(data_loader)))"
      ],
      "metadata": {
        "id": "yHya_ZR3vj0I"
      },
      "execution_count": null,
      "outputs": []
    },
    {
      "cell_type": "code",
      "source": [
        "def eval(model, data_loader):\n",
        "  \n",
        "  model.eval()\n",
        "  total = 0\n",
        "  correct = 0\n",
        "  \n",
        "  with torch.no_grad():\n",
        "    ### 실습 : Custom dataloader 에서 값을 가져온다\n",
        "    for images, _,  labels in data_loader:\n",
        "      images, labels = images.cuda(), labels.cuda()\n",
        "      outputs = model(images)\n",
        "      _, predicted = torch.max(outputs, 1)\n",
        "      total += labels.size(0)\n",
        "      correct += (predicted == labels).sum().item()\n",
        "    accuracy = 100 * correct / total\n",
        "      \n",
        "  print('Test Accuracy: {}%'.format(accuracy))"
      ],
      "metadata": {
        "id": "HjX476cmvhSE"
      },
      "execution_count": null,
      "outputs": []
    },
    {
      "cell_type": "code",
      "source": [
        "def reset_seed(seed):\n",
        "    torch.manual_seed(seed)\n",
        "    np.random.seed(seed)\n",
        "    random.seed(seed)"
      ],
      "metadata": {
        "id": "RLI00mauwDyZ"
      },
      "execution_count": null,
      "outputs": []
    },
    {
      "cell_type": "code",
      "source": [
        "reset_seed(2020)\n",
        "criterion = nn.CrossEntropyLoss()\n",
        "vgg_batchnorm_model = VGG_BatchNormTorch(in_channels=1, out_features=11).to(\"cuda\")\n",
        "optimizer = optim.Adam(params=vgg_batchnorm_model.parameters())\n",
        "\n",
        "train(vgg_batchnorm_model, train_dataloader, criterion, optimizer, n_epoch=50)"
      ],
      "metadata": {
        "colab": {
          "base_uri": "https://localhost:8080/"
        },
        "id": "t85o-4CZve4T",
        "outputId": "ca783f08-0658-4eaf-f9ea-2e9f4e7ea02b"
      },
      "execution_count": null,
      "outputs": [
        {
          "output_type": "stream",
          "name": "stdout",
          "text": [
            "Epoch 1, loss = 2.433\n",
            "Epoch 2, loss = 2.331\n",
            "Epoch 3, loss = 2.192\n",
            "Epoch 4, loss = 2.148\n",
            "Epoch 5, loss = 2.062\n",
            "Epoch 6, loss = 1.937\n",
            "Epoch 7, loss = 1.792\n",
            "Epoch 8, loss = 1.711\n",
            "Epoch 9, loss = 1.667\n",
            "Epoch 10, loss = 1.538\n",
            "Epoch 11, loss = 1.517\n",
            "Epoch 12, loss = 1.371\n",
            "Epoch 13, loss = 1.369\n",
            "Epoch 14, loss = 1.319\n",
            "Epoch 15, loss = 1.229\n",
            "Epoch 16, loss = 1.189\n",
            "Epoch 17, loss = 1.149\n",
            "Epoch 18, loss = 1.101\n",
            "Epoch 19, loss = 1.074\n",
            "Epoch 20, loss = 1.022\n",
            "Epoch 21, loss = 0.923\n",
            "Epoch 22, loss = 0.892\n",
            "Epoch 23, loss = 0.922\n",
            "Epoch 24, loss = 0.877\n",
            "Epoch 25, loss = 0.804\n",
            "Epoch 26, loss = 0.788\n",
            "Epoch 27, loss = 0.824\n",
            "Epoch 28, loss = 0.813\n",
            "Epoch 29, loss = 0.697\n",
            "Epoch 30, loss = 0.683\n",
            "Epoch 31, loss = 0.617\n",
            "Epoch 32, loss = 0.617\n",
            "Epoch 33, loss = 0.581\n",
            "Epoch 34, loss = 0.559\n",
            "Epoch 35, loss = 0.534\n",
            "Epoch 36, loss = 0.465\n",
            "Epoch 37, loss = 0.409\n",
            "Epoch 38, loss = 0.438\n",
            "Epoch 39, loss = 0.409\n",
            "Epoch 40, loss = 0.376\n",
            "Epoch 41, loss = 0.329\n",
            "Epoch 42, loss = 0.438\n",
            "Epoch 43, loss = 0.390\n",
            "Epoch 44, loss = 0.346\n",
            "Epoch 45, loss = 0.321\n",
            "Epoch 46, loss = 0.292\n",
            "Epoch 47, loss = 0.295\n",
            "Epoch 48, loss = 0.282\n",
            "Epoch 49, loss = 0.282\n",
            "Epoch 50, loss = 0.270\n"
          ]
        }
      ]
    },
    {
      "cell_type": "markdown",
      "source": [
        "# 정확도를 평가해 봅시다 \n",
        "* 데이터가 너무 적어서 평가 데이터에 대한 정확도를 봅니다"
      ],
      "metadata": {
        "id": "8d4AUYGHJzQ6"
      }
    },
    {
      "cell_type": "code",
      "source": [
        "eval(vgg_batchnorm_model, train_dataloader)"
      ],
      "metadata": {
        "id": "cdj0G1XrrBkv",
        "colab": {
          "base_uri": "https://localhost:8080/"
        },
        "outputId": "39c963be-15d3-40d0-e569-6813b8742af8"
      },
      "execution_count": null,
      "outputs": [
        {
          "output_type": "stream",
          "name": "stdout",
          "text": [
            "Test Accuracy: 85.35353535353535%\n"
          ]
        }
      ]
    },
    {
      "cell_type": "markdown",
      "source": [
        "# 선언한 모델의 구조를 확인한다"
      ],
      "metadata": {
        "id": "3J1ozFQsh3Bo"
      }
    },
    {
      "cell_type": "code",
      "source": [
        "print(\"Our model: \\n\\n\", vgg_batchnorm_model, '\\n')\n"
      ],
      "metadata": {
        "colab": {
          "base_uri": "https://localhost:8080/"
        },
        "id": "YhW39ipPjBAx",
        "outputId": "1c2172ad-5e4a-4c4c-b1e9-56d394aef201"
      },
      "execution_count": null,
      "outputs": [
        {
          "output_type": "stream",
          "name": "stdout",
          "text": [
            "Our model: \n",
            "\n",
            " VGG_BatchNormTorch(\n",
            "  (conv1): Conv2d(1, 32, kernel_size=(3, 3), stride=(1, 1), padding=(1, 1))\n",
            "  (norm1): BatchNorm2d(32, eps=1e-05, momentum=0.1, affine=True, track_running_stats=True)\n",
            "  (conv2): Conv2d(32, 32, kernel_size=(3, 3), stride=(1, 1), padding=(1, 1))\n",
            "  (norm2): BatchNorm2d(32, eps=1e-05, momentum=0.1, affine=True, track_running_stats=True)\n",
            "  (conv3): Conv2d(32, 64, kernel_size=(3, 3), stride=(1, 1), padding=(1, 1))\n",
            "  (norm3): BatchNorm2d(64, eps=1e-05, momentum=0.1, affine=True, track_running_stats=True)\n",
            "  (conv4): Conv2d(64, 64, kernel_size=(3, 3), stride=(1, 1), padding=(1, 1))\n",
            "  (norm4): BatchNorm2d(64, eps=1e-05, momentum=0.1, affine=True, track_running_stats=True)\n",
            "  (conv5): Conv2d(64, 128, kernel_size=(3, 3), stride=(1, 1), padding=(1, 1))\n",
            "  (norm5): BatchNorm2d(128, eps=1e-05, momentum=0.1, affine=True, track_running_stats=True)\n",
            "  (conv6): Conv2d(128, 128, kernel_size=(3, 3), stride=(1, 1), padding=(1, 1))\n",
            "  (norm6): BatchNorm2d(128, eps=1e-05, momentum=0.1, affine=True, track_running_stats=True)\n",
            "  (max_pool): MaxPool2d(kernel_size=2, stride=2, padding=0, dilation=1, ceil_mode=False)\n",
            "  (avg_pool): AdaptiveAvgPool2d(output_size=(1, 1))\n",
            "  (fc): Linear(in_features=128, out_features=11, bias=True)\n",
            ") \n",
            "\n"
          ]
        }
      ]
    },
    {
      "cell_type": "code",
      "source": [
        "vgg_batchnorm_model.state_dict().keys()"
      ],
      "metadata": {
        "colab": {
          "base_uri": "https://localhost:8080/"
        },
        "id": "DybTAn5BnYhl",
        "outputId": "6e8879c0-ac36-4b8c-f6e1-6c2d2fbfc71a"
      },
      "execution_count": null,
      "outputs": [
        {
          "output_type": "execute_result",
          "data": {
            "text/plain": [
              "odict_keys(['conv1.weight', 'conv1.bias', 'norm1.weight', 'norm1.bias', 'norm1.running_mean', 'norm1.running_var', 'norm1.num_batches_tracked', 'conv2.weight', 'conv2.bias', 'norm2.weight', 'norm2.bias', 'norm2.running_mean', 'norm2.running_var', 'norm2.num_batches_tracked', 'conv3.weight', 'conv3.bias', 'norm3.weight', 'norm3.bias', 'norm3.running_mean', 'norm3.running_var', 'norm3.num_batches_tracked', 'conv4.weight', 'conv4.bias', 'norm4.weight', 'norm4.bias', 'norm4.running_mean', 'norm4.running_var', 'norm4.num_batches_tracked', 'conv5.weight', 'conv5.bias', 'norm5.weight', 'norm5.bias', 'norm5.running_mean', 'norm5.running_var', 'norm5.num_batches_tracked', 'conv6.weight', 'conv6.bias', 'norm6.weight', 'norm6.bias', 'norm6.running_mean', 'norm6.running_var', 'norm6.num_batches_tracked', 'fc.weight', 'fc.bias'])"
            ]
          },
          "metadata": {},
          "execution_count": 13
        }
      ]
    },
    {
      "cell_type": "code",
      "source": [
        "vgg_batchnorm_model.state_dict()"
      ],
      "metadata": {
        "id": "1RHZxxVenBZ_",
        "colab": {
          "base_uri": "https://localhost:8080/"
        },
        "outputId": "cfbeea29-5c36-448c-a242-5a2da55de607"
      },
      "execution_count": null,
      "outputs": [
        {
          "output_type": "execute_result",
          "data": {
            "text/plain": [
              "OrderedDict([('conv1.weight',\n",
              "              tensor([[[[ 6.0463e-02, -2.0177e-01,  9.0550e-02],\n",
              "                        [-1.9352e-01,  5.6862e-02, -1.3148e-01],\n",
              "                        [ 1.2282e-01,  2.7617e-01, -1.2210e-01]]],\n",
              "              \n",
              "              \n",
              "                      [[[ 1.7892e-02, -1.3286e-02,  2.2842e-01],\n",
              "                        [ 8.4262e-02, -5.1004e-02,  1.5203e-01],\n",
              "                        [ 7.1494e-03,  5.9091e-02, -4.0286e-01]]],\n",
              "              \n",
              "              \n",
              "                      [[[-2.3891e-01,  2.6311e-01, -2.6407e-01],\n",
              "                        [ 4.6160e-02,  2.5848e-01, -3.6234e-02],\n",
              "                        [ 1.4269e-03,  8.4751e-02, -2.7406e-01]]],\n",
              "              \n",
              "              \n",
              "                      [[[ 1.8276e-01, -1.0664e-01, -1.1964e-03],\n",
              "                        [ 1.0097e-01,  3.0513e-01,  9.2541e-03],\n",
              "                        [-3.0070e-01,  1.1658e-01, -2.7761e-01]]],\n",
              "              \n",
              "              \n",
              "                      [[[ 1.8389e-01, -1.7516e-03,  2.1189e-01],\n",
              "                        [-5.4633e-02, -3.9695e-01,  1.8582e-01],\n",
              "                        [-3.0417e-01,  1.6115e-01,  1.1786e-01]]],\n",
              "              \n",
              "              \n",
              "                      [[[-3.8796e-01,  5.3007e-02,  1.7899e-01],\n",
              "                        [ 1.1040e-01,  4.1426e-02,  2.3991e-01],\n",
              "                        [ 3.1397e-01,  1.8076e-01, -2.8336e-01]]],\n",
              "              \n",
              "              \n",
              "                      [[[ 1.6045e-01, -3.5473e-01,  2.7793e-01],\n",
              "                        [-6.4582e-02,  2.0134e-01, -2.1752e-01],\n",
              "                        [-8.9582e-02,  2.0909e-01, -7.3947e-02]]],\n",
              "              \n",
              "              \n",
              "                      [[[ 1.0079e-01,  1.2637e-02,  1.9978e-01],\n",
              "                        [-2.5069e-01, -1.9975e-01,  9.5018e-02],\n",
              "                        [ 1.3894e-01, -9.0795e-02,  5.1958e-02]]],\n",
              "              \n",
              "              \n",
              "                      [[[-4.9745e-02,  3.1598e-01, -2.1356e-01],\n",
              "                        [-2.3270e-02,  3.4430e-02,  3.6987e-02],\n",
              "                        [ 1.7861e-02,  2.6666e-02, -7.4577e-02]]],\n",
              "              \n",
              "              \n",
              "                      [[[ 4.1672e-02,  3.2284e-01, -1.4358e-01],\n",
              "                        [ 1.0624e-01,  8.5969e-02,  1.1169e-02],\n",
              "                        [-4.1999e-02, -2.3418e-01, -1.0391e-01]]],\n",
              "              \n",
              "              \n",
              "                      [[[ 3.3387e-01,  3.1233e-01, -3.1693e-01],\n",
              "                        [-2.1366e-02, -1.1515e-01, -6.7312e-02],\n",
              "                        [-2.4433e-01, -2.3588e-01,  3.7168e-01]]],\n",
              "              \n",
              "              \n",
              "                      [[[ 1.6610e-01, -3.6654e-02, -1.8120e-01],\n",
              "                        [ 3.1186e-01,  2.6231e-01, -1.0840e-01],\n",
              "                        [-8.2620e-02, -9.2557e-02, -2.2420e-01]]],\n",
              "              \n",
              "              \n",
              "                      [[[-2.8400e-01,  1.4182e-02, -4.4860e-02],\n",
              "                        [ 2.6745e-01, -6.5063e-03, -1.0821e-01],\n",
              "                        [ 1.2823e-01, -1.7951e-02,  6.3280e-02]]],\n",
              "              \n",
              "              \n",
              "                      [[[ 5.2469e-02, -3.5940e-02, -2.6383e-01],\n",
              "                        [-2.7101e-01, -7.4066e-03,  3.2637e-02],\n",
              "                        [ 8.4080e-02,  2.5451e-01,  2.2040e-01]]],\n",
              "              \n",
              "              \n",
              "                      [[[-2.7743e-01, -2.8008e-01,  7.3464e-02],\n",
              "                        [-1.4761e-01,  4.6232e-02,  1.9575e-01],\n",
              "                        [ 3.4188e-01, -1.9862e-01,  2.8023e-01]]],\n",
              "              \n",
              "              \n",
              "                      [[[ 1.9283e-02,  2.5719e-01,  1.7391e-01],\n",
              "                        [-3.2625e-01, -2.3652e-01, -2.7517e-01],\n",
              "                        [ 3.9932e-02, -2.3743e-01,  2.6997e-01]]],\n",
              "              \n",
              "              \n",
              "                      [[[-1.2516e-01, -2.1389e-01, -1.2385e-01],\n",
              "                        [-1.5436e-01,  8.7394e-02,  1.2434e-01],\n",
              "                        [-1.8081e-01, -4.1339e-03,  3.0017e-01]]],\n",
              "              \n",
              "              \n",
              "                      [[[-2.7061e-01,  1.8399e-01, -2.7056e-01],\n",
              "                        [ 1.9695e-01,  9.0067e-02, -9.4499e-02],\n",
              "                        [ 2.1726e-01, -1.9449e-02, -2.6137e-02]]],\n",
              "              \n",
              "              \n",
              "                      [[[-1.0684e-01, -1.5623e-01,  1.1202e-02],\n",
              "                        [ 2.1410e-01, -3.2878e-01,  2.4172e-01],\n",
              "                        [-1.6193e-01,  2.6277e-01,  5.3761e-02]]],\n",
              "              \n",
              "              \n",
              "                      [[[ 1.9358e-01, -1.1593e-01, -2.2676e-01],\n",
              "                        [-3.1703e-01,  9.0889e-03,  3.5117e-01],\n",
              "                        [ 3.4158e-01, -9.8258e-02, -2.6857e-01]]],\n",
              "              \n",
              "              \n",
              "                      [[[-6.6986e-02,  2.3448e-01,  2.1526e-01],\n",
              "                        [ 1.6054e-01, -5.7890e-02,  2.0734e-01],\n",
              "                        [ 1.4137e-01,  3.1530e-01, -1.3401e-01]]],\n",
              "              \n",
              "              \n",
              "                      [[[-1.0482e-01,  2.9226e-01, -1.1903e-01],\n",
              "                        [ 1.4369e-01, -2.7767e-01,  2.1276e-01],\n",
              "                        [-3.5826e-02, -1.9711e-01,  1.5242e-01]]],\n",
              "              \n",
              "              \n",
              "                      [[[-3.4745e-01, -2.7973e-01,  2.8525e-01],\n",
              "                        [-2.2040e-01,  1.8860e-01, -1.7723e-01],\n",
              "                        [ 1.0542e-01,  2.8965e-01,  1.8868e-01]]],\n",
              "              \n",
              "              \n",
              "                      [[[-3.3401e-01,  1.7821e-01,  2.4753e-01],\n",
              "                        [-7.0330e-02,  3.7483e-02,  1.1134e-01],\n",
              "                        [-1.8465e-02,  2.9571e-01,  1.5291e-01]]],\n",
              "              \n",
              "              \n",
              "                      [[[-5.3241e-03,  2.1806e-01,  1.6808e-01],\n",
              "                        [-1.4964e-01, -3.3280e-02,  1.8525e-01],\n",
              "                        [-3.1424e-01,  2.0547e-04, -7.4237e-02]]],\n",
              "              \n",
              "              \n",
              "                      [[[-2.0955e-01, -9.3039e-02, -7.3529e-03],\n",
              "                        [ 2.4762e-02,  2.9749e-01, -2.9462e-01],\n",
              "                        [ 6.2961e-02,  8.2243e-02,  1.2820e-01]]],\n",
              "              \n",
              "              \n",
              "                      [[[ 2.3018e-01,  1.9881e-01,  1.0384e-01],\n",
              "                        [-2.7865e-01,  2.4207e-01,  7.8807e-02],\n",
              "                        [-1.8912e-01, -2.7140e-01, -5.9295e-03]]],\n",
              "              \n",
              "              \n",
              "                      [[[-1.0457e-01,  2.3633e-01,  1.4132e-02],\n",
              "                        [-3.8979e-02,  1.8149e-01, -6.5648e-02],\n",
              "                        [-2.2147e-01,  6.8465e-02, -1.4547e-01]]],\n",
              "              \n",
              "              \n",
              "                      [[[-4.9099e-02,  4.6490e-02, -2.7567e-01],\n",
              "                        [ 3.3940e-01, -1.8790e-01, -2.6862e-01],\n",
              "                        [ 2.1300e-01, -1.3015e-01,  3.0559e-01]]],\n",
              "              \n",
              "              \n",
              "                      [[[-5.8137e-02,  3.2800e-01,  2.3199e-01],\n",
              "                        [-1.9249e-01,  2.9251e-01,  5.3811e-02],\n",
              "                        [ 2.1280e-01, -1.2587e-01, -1.0995e-01]]],\n",
              "              \n",
              "              \n",
              "                      [[[ 1.5888e-01, -3.9321e-01,  2.8408e-01],\n",
              "                        [ 3.7562e-02,  2.9670e-02, -3.6525e-01],\n",
              "                        [ 2.6742e-01, -2.4956e-01,  2.7964e-01]]],\n",
              "              \n",
              "              \n",
              "                      [[[-8.1468e-03, -2.5109e-01,  2.9641e-01],\n",
              "                        [-1.9906e-01,  3.0773e-01, -1.7827e-01],\n",
              "                        [ 2.3247e-01, -2.6351e-01,  6.4992e-02]]]], device='cuda:0')),\n",
              "             ('conv1.bias',\n",
              "              tensor([ 0.0617, -0.2063,  0.0149,  0.0914,  0.1203,  0.0827, -0.3728,  0.0795,\n",
              "                       0.1004,  0.0554, -0.1619,  0.1378, -0.2503,  0.2092,  0.1405,  0.1042,\n",
              "                      -0.3756,  0.1976, -0.0020, -0.2682, -0.3137,  0.1064, -0.0648, -0.2903,\n",
              "                      -0.1958,  0.0905,  0.1547,  0.1951,  0.0408, -0.2935,  0.0322,  0.2616],\n",
              "                     device='cuda:0')),\n",
              "             ('norm1.weight',\n",
              "              tensor([0.8996, 0.9826, 0.9660, 1.1119, 0.8781, 0.7846, 0.9387, 1.0263, 1.0306,\n",
              "                      0.9839, 1.1725, 1.0420, 1.0436, 1.0365, 0.9987, 1.0067, 0.8832, 0.8795,\n",
              "                      1.1273, 0.9216, 0.8605, 1.0794, 1.0487, 0.8291, 1.0885, 1.0642, 0.8435,\n",
              "                      0.9709, 1.0305, 0.8515, 1.0074, 1.0461], device='cuda:0')),\n",
              "             ('norm1.bias',\n",
              "              tensor([-0.1109,  0.2082, -0.1350,  0.2842, -0.0122, -0.1740, -0.0516,  0.1671,\n",
              "                      -0.1309, -0.0434, -0.0324,  0.2781,  0.1075,  0.1950,  0.0737, -0.1262,\n",
              "                      -0.1404, -0.1068,  0.1514, -0.0807, -0.1003, -0.1512,  0.1203, -0.1410,\n",
              "                       0.0660,  0.0969, -0.1396, -0.1229,  0.1097, -0.1496,  0.1619, -0.1766],\n",
              "                     device='cuda:0')),\n",
              "             ('norm1.running_mean',\n",
              "              tensor([ 0.0607, -0.1876, -0.0223,  0.1031,  0.1364,  0.1973, -0.3690,  0.0866,\n",
              "                       0.1130,  0.0639, -0.1585,  0.1426, -0.2451,  0.2213,  0.1549,  0.0344,\n",
              "                      -0.4380,  0.2089,  0.0024, -0.3051, -0.0700,  0.1119, -0.0547, -0.1419,\n",
              "                      -0.1866,  0.0923,  0.1831,  0.1783,  0.0434, -0.1401,  0.0393,  0.2595],\n",
              "                     device='cuda:0')),\n",
              "             ('norm1.running_var',\n",
              "              tensor([0.0019, 0.0025, 0.0043, 0.0047, 0.0037, 0.0151, 0.0007, 0.0031, 0.0007,\n",
              "                      0.0028, 0.0028, 0.0051, 0.0018, 0.0048, 0.0055, 0.0149, 0.0067, 0.0028,\n",
              "                      0.0017, 0.0030, 0.0585, 0.0008, 0.0063, 0.0233, 0.0037, 0.0022, 0.0063,\n",
              "                      0.0021, 0.0036, 0.0254, 0.0035, 0.0009], device='cuda:0')),\n",
              "             ('norm1.num_batches_tracked', tensor(1000, device='cuda:0')),\n",
              "             ('conv2.weight',\n",
              "              tensor([[[[-3.3257e-02, -2.3895e-02, -1.1822e-02],\n",
              "                        [-4.6033e-02, -5.8978e-02, -5.6682e-03],\n",
              "                        [-4.4581e-02,  1.4626e-02, -3.2119e-02]],\n",
              "              \n",
              "                       [[ 6.0846e-02,  3.2309e-02,  4.3457e-02],\n",
              "                        [-5.4263e-02,  2.4435e-02,  2.9323e-02],\n",
              "                        [-1.7965e-02, -6.0605e-02,  2.9339e-02]],\n",
              "              \n",
              "                       [[ 9.3727e-03, -4.6660e-02, -1.0124e-01],\n",
              "                        [-4.6297e-02,  2.1570e-02, -2.5372e-02],\n",
              "                        [-7.3693e-02,  1.4377e-02, -5.2881e-02]],\n",
              "              \n",
              "                       ...,\n",
              "              \n",
              "                       [[ 2.0544e-02,  4.9971e-02,  3.8850e-02],\n",
              "                        [-1.3791e-02,  5.6670e-02,  1.1290e-05],\n",
              "                        [-4.8776e-02, -4.4445e-02, -2.0700e-02]],\n",
              "              \n",
              "                       [[-3.0574e-02,  2.8705e-02, -5.5787e-02],\n",
              "                        [-1.1961e-02,  2.6264e-03,  1.6382e-02],\n",
              "                        [-2.3019e-02,  5.7237e-02, -1.6291e-02]],\n",
              "              \n",
              "                       [[-7.3849e-02, -4.4588e-02, -1.1448e-02],\n",
              "                        [-1.6692e-03, -5.3916e-02,  6.7245e-02],\n",
              "                        [-4.7134e-02, -5.2230e-02, -2.0115e-02]]],\n",
              "              \n",
              "              \n",
              "                      [[[-5.1219e-02, -1.3798e-02, -3.1801e-02],\n",
              "                        [ 9.9943e-03, -2.4140e-03, -1.3012e-02],\n",
              "                        [-7.2645e-02, -1.1661e-03, -1.6775e-02]],\n",
              "              \n",
              "                       [[ 6.7516e-02,  5.1121e-02,  2.1012e-02],\n",
              "                        [-5.1983e-02,  8.5246e-03, -1.0531e-02],\n",
              "                        [ 1.8279e-02,  1.4168e-02, -3.3364e-02]],\n",
              "              \n",
              "                       [[ 1.7563e-02, -7.5306e-02, -2.5723e-02],\n",
              "                        [-2.4870e-02,  4.2853e-03, -4.2457e-02],\n",
              "                        [-1.8598e-02, -3.6029e-02,  9.5984e-03]],\n",
              "              \n",
              "                       ...,\n",
              "              \n",
              "                       [[ 6.0358e-02,  4.0520e-02,  3.6357e-02],\n",
              "                        [ 1.2337e-02,  2.5499e-02, -1.5750e-02],\n",
              "                        [-2.3267e-02,  6.3621e-02, -2.3987e-02]],\n",
              "              \n",
              "                       [[-8.0644e-03, -7.8867e-03, -3.4217e-02],\n",
              "                        [-1.5885e-02, -3.0493e-02, -4.5264e-02],\n",
              "                        [ 3.7015e-02, -1.7669e-02,  7.5630e-02]],\n",
              "              \n",
              "                       [[ 2.3882e-02, -1.3692e-02, -4.1433e-02],\n",
              "                        [ 1.7020e-02,  3.3125e-03,  2.3914e-02],\n",
              "                        [ 5.3255e-02, -6.1192e-02,  4.4996e-03]]],\n",
              "              \n",
              "              \n",
              "                      [[[-8.5221e-02,  1.3672e-02,  1.1104e-02],\n",
              "                        [ 1.3591e-02, -6.4690e-02, -8.2220e-03],\n",
              "                        [ 9.1114e-02,  2.8749e-02, -1.6697e-02]],\n",
              "              \n",
              "                       [[ 9.3895e-03, -2.3965e-02, -3.6576e-02],\n",
              "                        [ 6.1578e-03, -4.5902e-02, -1.5261e-02],\n",
              "                        [ 2.2027e-02,  8.7906e-02,  5.3523e-02]],\n",
              "              \n",
              "                       [[-8.3484e-03, -6.1793e-02, -5.3636e-02],\n",
              "                        [-2.0797e-02, -4.5945e-03, -8.3257e-02],\n",
              "                        [-9.3906e-02, -2.1781e-02,  1.7234e-02]],\n",
              "              \n",
              "                       ...,\n",
              "              \n",
              "                       [[ 2.0416e-02, -2.0493e-02, -3.3967e-02],\n",
              "                        [-5.5273e-02,  4.1797e-03,  1.9918e-02],\n",
              "                        [ 8.7800e-03,  1.1645e-02, -3.7031e-02]],\n",
              "              \n",
              "                       [[ 3.1453e-03,  6.1064e-02,  1.8120e-02],\n",
              "                        [-4.1821e-02,  1.9066e-02, -6.0430e-02],\n",
              "                        [ 3.2306e-02,  8.6898e-03, -6.0429e-02]],\n",
              "              \n",
              "                       [[-1.2956e-01, -4.7375e-02, -9.4385e-02],\n",
              "                        [-2.7695e-03, -1.6915e-02,  7.8439e-02],\n",
              "                        [ 1.3113e-02,  1.0496e-01, -6.3227e-02]]],\n",
              "              \n",
              "              \n",
              "                      ...,\n",
              "              \n",
              "              \n",
              "                      [[[ 3.1414e-02, -3.5171e-02,  3.8501e-02],\n",
              "                        [ 3.6657e-02,  5.9734e-02,  2.9262e-02],\n",
              "                        [ 5.9743e-05, -5.3721e-02,  4.4789e-02]],\n",
              "              \n",
              "                       [[-2.1097e-02,  2.7784e-02, -1.2096e-02],\n",
              "                        [ 1.1877e-02, -2.0664e-02,  1.3294e-02],\n",
              "                        [-4.8785e-03, -3.5718e-02, -3.9240e-02]],\n",
              "              \n",
              "                       [[-1.3826e-02,  5.7630e-03,  4.5198e-02],\n",
              "                        [ 3.2393e-02, -9.6743e-02, -5.5422e-02],\n",
              "                        [ 5.4786e-02,  4.0869e-02, -3.7683e-02]],\n",
              "              \n",
              "                       ...,\n",
              "              \n",
              "                       [[-9.5327e-03,  2.5843e-02, -1.2570e-02],\n",
              "                        [-3.1078e-02,  1.1535e-02,  3.5916e-03],\n",
              "                        [-1.2494e-02,  4.2586e-02,  6.6144e-03]],\n",
              "              \n",
              "                       [[-3.2756e-02,  4.8073e-02, -1.1704e-02],\n",
              "                        [-1.0682e-02, -4.9683e-02, -2.5593e-02],\n",
              "                        [ 2.2993e-02,  2.4258e-02, -4.6608e-02]],\n",
              "              \n",
              "                       [[-2.6306e-02,  1.1161e-01, -2.4140e-02],\n",
              "                        [ 1.1887e-02,  2.1178e-03, -6.4223e-02],\n",
              "                        [ 2.9929e-02, -5.8690e-03, -8.6256e-02]]],\n",
              "              \n",
              "              \n",
              "                      [[[-3.6932e-02, -1.0672e-03,  1.0084e-02],\n",
              "                        [ 3.6857e-02,  2.9794e-02, -8.8180e-03],\n",
              "                        [ 3.5416e-02, -1.5885e-02, -2.8213e-02]],\n",
              "              \n",
              "                       [[-4.0620e-02, -1.0446e-01, -1.2698e-02],\n",
              "                        [-9.2240e-03,  6.0787e-02,  2.3096e-02],\n",
              "                        [ 3.8933e-02,  5.2946e-03,  2.5162e-02]],\n",
              "              \n",
              "                       [[-4.3251e-03,  1.8841e-02, -2.7869e-02],\n",
              "                        [-3.9342e-02, -6.8361e-02, -3.3485e-02],\n",
              "                        [-4.0154e-02, -4.4938e-02,  2.1693e-02]],\n",
              "              \n",
              "                       ...,\n",
              "              \n",
              "                       [[-4.2256e-03,  7.6572e-03,  1.1305e-02],\n",
              "                        [ 3.9237e-02,  8.7228e-03, -7.6672e-03],\n",
              "                        [-2.8923e-02, -5.8101e-03,  2.6254e-02]],\n",
              "              \n",
              "                       [[ 3.7363e-02,  2.7966e-02,  5.3823e-02],\n",
              "                        [-3.2318e-02, -4.1966e-02, -1.0300e-01],\n",
              "                        [-3.0178e-02, -4.8836e-02, -4.8973e-02]],\n",
              "              \n",
              "                       [[-1.6329e-02, -8.1338e-02,  3.7806e-04],\n",
              "                        [-3.4605e-02, -1.3237e-02, -3.9656e-02],\n",
              "                        [ 6.3713e-02, -2.4015e-03, -2.5405e-02]]],\n",
              "              \n",
              "              \n",
              "                      [[[-2.3522e-02, -8.5800e-02, -3.8891e-02],\n",
              "                        [-9.1144e-02, -3.2896e-02,  1.4604e-02],\n",
              "                        [-7.9298e-03, -4.7479e-02,  2.3924e-02]],\n",
              "              \n",
              "                       [[ 6.6392e-02,  6.2261e-02, -5.8083e-03],\n",
              "                        [-6.2579e-02,  3.0705e-04, -4.5288e-03],\n",
              "                        [-4.6232e-02, -2.3839e-02, -5.6077e-02]],\n",
              "              \n",
              "                       [[-3.1742e-02, -5.1762e-02,  5.3729e-02],\n",
              "                        [-4.8828e-02, -9.1522e-02,  2.7520e-02],\n",
              "                        [ 9.5021e-03, -5.7268e-02,  3.9674e-02]],\n",
              "              \n",
              "                       ...,\n",
              "              \n",
              "                       [[-4.0043e-03, -3.8431e-02,  5.0996e-02],\n",
              "                        [-2.5019e-02, -4.3118e-03, -3.1458e-02],\n",
              "                        [ 2.9021e-02, -2.2604e-02,  2.8540e-02]],\n",
              "              \n",
              "                       [[ 1.1289e-02, -1.9998e-03, -1.0232e-01],\n",
              "                        [-2.7290e-03,  1.0008e-01, -9.5161e-02],\n",
              "                        [-8.3395e-02,  9.8022e-02, -6.8427e-02]],\n",
              "              \n",
              "                       [[-2.4541e-02,  3.8311e-02, -1.2161e-02],\n",
              "                        [-4.3949e-03,  9.4944e-02, -9.6211e-03],\n",
              "                        [ 2.7419e-02,  8.1347e-02,  4.5640e-03]]]], device='cuda:0')),\n",
              "             ('conv2.bias',\n",
              "              tensor([ 0.0421, -0.0032,  0.0284, -0.0476,  0.0335, -0.0468, -0.0026,  0.0047,\n",
              "                      -0.0638, -0.0197, -0.0287, -0.0458, -0.0514, -0.0559, -0.0451, -0.0510,\n",
              "                      -0.0331, -0.0733,  0.0418,  0.0192,  0.0521,  0.0440, -0.0259,  0.0468,\n",
              "                      -0.0410, -0.0529, -0.0089, -0.0304,  0.0526, -0.0007, -0.0597, -0.0498],\n",
              "                     device='cuda:0')),\n",
              "             ('norm2.weight',\n",
              "              tensor([1.0099, 1.0168, 1.0038, 0.9915, 1.0315, 0.9619, 0.9130, 0.8945, 1.0275,\n",
              "                      1.0061, 1.0584, 0.9536, 1.0309, 1.0354, 0.9112, 1.1011, 1.0747, 1.0533,\n",
              "                      1.0363, 0.9710, 1.0235, 1.0186, 1.0699, 0.9475, 0.9578, 0.9770, 1.0124,\n",
              "                      0.9502, 0.9442, 0.9882, 1.0359, 1.0361], device='cuda:0')),\n",
              "             ('norm2.bias',\n",
              "              tensor([-0.0318, -0.1322, -0.1124, -0.0003, -0.0318, -0.0033, -0.1939, -0.1502,\n",
              "                      -0.0047, -0.0232, -0.0699, -0.1429, -0.0349, -0.0952, -0.1636, -0.0087,\n",
              "                       0.0248, -0.0638, -0.0360, -0.0238,  0.0232,  0.1095, -0.1106, -0.0895,\n",
              "                      -0.1309, -0.0443, -0.0110, -0.0443, -0.0479, -0.0649, -0.1013, -0.0315],\n",
              "                     device='cuda:0')),\n",
              "             ('norm2.running_mean',\n",
              "              tensor([-1.1635, -0.6150, -0.2134, -0.6678, -0.5218, -1.1213, -0.2683, -0.7566,\n",
              "                      -0.7203, -2.0593, -0.0996, -0.4501, -1.3759, -0.2689,  1.9621, -0.6666,\n",
              "                      -0.9367, -0.8404, -0.9273, -1.3506, -0.7768, -0.7108, -0.3898, -0.4916,\n",
              "                      -0.4591, -0.8014, -0.2367, -1.4524, -0.7050, -0.4695, -0.6505, -1.2866],\n",
              "                     device='cuda:0')),\n",
              "             ('norm2.running_var',\n",
              "              tensor([2.1363, 0.5891, 0.4834, 1.9330, 1.0701, 2.8585, 1.0562, 1.6932, 1.6709,\n",
              "                      3.8728, 0.4185, 1.5620, 3.2385, 0.3075, 2.8224, 1.5687, 1.8016, 1.5217,\n",
              "                      1.3192, 5.1788, 2.5295, 1.8825, 0.3140, 1.9349, 1.0277, 1.3841, 0.5380,\n",
              "                      3.5719, 1.6404, 0.7157, 1.0887, 2.3397], device='cuda:0')),\n",
              "             ('norm2.num_batches_tracked', tensor(1000, device='cuda:0')),\n",
              "             ('conv3.weight', tensor([[[[-0.0519, -0.0549, -0.1029],\n",
              "                        [ 0.0720,  0.0087,  0.0276],\n",
              "                        [ 0.0479,  0.0038,  0.0013]],\n",
              "              \n",
              "                       [[ 0.0713,  0.0224,  0.0420],\n",
              "                        [-0.0075, -0.0155,  0.0193],\n",
              "                        [-0.0168,  0.0271, -0.0183]],\n",
              "              \n",
              "                       [[ 0.0109,  0.0678,  0.0134],\n",
              "                        [ 0.0863,  0.0564,  0.1058],\n",
              "                        [-0.0054,  0.0040,  0.0596]],\n",
              "              \n",
              "                       ...,\n",
              "              \n",
              "                       [[-0.0407,  0.0566,  0.0422],\n",
              "                        [ 0.0405, -0.0175,  0.0368],\n",
              "                        [-0.0124, -0.0102,  0.0659]],\n",
              "              \n",
              "                       [[ 0.0439,  0.0278,  0.0183],\n",
              "                        [ 0.0440,  0.0108, -0.0393],\n",
              "                        [ 0.0189,  0.0474,  0.0685]],\n",
              "              \n",
              "                       [[-0.0059,  0.0383, -0.0028],\n",
              "                        [ 0.0035, -0.0243, -0.0264],\n",
              "                        [ 0.0271, -0.0048,  0.0071]]],\n",
              "              \n",
              "              \n",
              "                      [[[-0.0289,  0.0431,  0.0507],\n",
              "                        [ 0.0052,  0.0047,  0.0321],\n",
              "                        [ 0.0374, -0.0366,  0.0600]],\n",
              "              \n",
              "                       [[ 0.0366, -0.0143, -0.0596],\n",
              "                        [ 0.0746, -0.0080,  0.0105],\n",
              "                        [-0.0911, -0.0427, -0.0582]],\n",
              "              \n",
              "                       [[ 0.0204,  0.0336, -0.0212],\n",
              "                        [ 0.0473,  0.0026, -0.0413],\n",
              "                        [-0.0410,  0.0090, -0.0474]],\n",
              "              \n",
              "                       ...,\n",
              "              \n",
              "                       [[ 0.0592,  0.0368,  0.0579],\n",
              "                        [-0.0579, -0.0918,  0.0039],\n",
              "                        [ 0.0546,  0.0185,  0.0493]],\n",
              "              \n",
              "                       [[-0.0049,  0.0187, -0.0154],\n",
              "                        [-0.1193, -0.0510, -0.0280],\n",
              "                        [ 0.0083,  0.0154,  0.0358]],\n",
              "              \n",
              "                       [[ 0.0224,  0.0594,  0.0454],\n",
              "                        [-0.0382, -0.0037, -0.0275],\n",
              "                        [ 0.0129,  0.0383, -0.0441]]],\n",
              "              \n",
              "              \n",
              "                      [[[-0.0146, -0.0270, -0.0585],\n",
              "                        [-0.0470,  0.0424, -0.0314],\n",
              "                        [ 0.0743,  0.0448,  0.0229]],\n",
              "              \n",
              "                       [[-0.0664, -0.1022, -0.1083],\n",
              "                        [-0.0105,  0.0188, -0.0179],\n",
              "                        [ 0.0337,  0.0065,  0.0523]],\n",
              "              \n",
              "                       [[ 0.0207,  0.0256, -0.0298],\n",
              "                        [-0.0091,  0.0198, -0.0174],\n",
              "                        [ 0.0116,  0.0189, -0.0553]],\n",
              "              \n",
              "                       ...,\n",
              "              \n",
              "                       [[-0.0088, -0.0380, -0.0214],\n",
              "                        [-0.0510,  0.0497,  0.0334],\n",
              "                        [-0.0211, -0.0596,  0.0377]],\n",
              "              \n",
              "                       [[-0.0268,  0.0542, -0.0027],\n",
              "                        [-0.0323,  0.0341, -0.0299],\n",
              "                        [-0.0607, -0.0977, -0.0785]],\n",
              "              \n",
              "                       [[-0.0253,  0.0509, -0.0230],\n",
              "                        [ 0.0557,  0.0292, -0.0004],\n",
              "                        [ 0.0553,  0.0092,  0.0478]]],\n",
              "              \n",
              "              \n",
              "                      ...,\n",
              "              \n",
              "              \n",
              "                      [[[-0.0072,  0.0121,  0.0472],\n",
              "                        [ 0.0397, -0.0276, -0.0268],\n",
              "                        [-0.0147, -0.0348, -0.0107]],\n",
              "              \n",
              "                       [[ 0.0757,  0.0034, -0.0150],\n",
              "                        [-0.0176, -0.0058,  0.0062],\n",
              "                        [ 0.0404, -0.0162,  0.0330]],\n",
              "              \n",
              "                       [[ 0.0373,  0.0522,  0.0193],\n",
              "                        [-0.0078,  0.0077, -0.0274],\n",
              "                        [-0.0574, -0.0623, -0.0945]],\n",
              "              \n",
              "                       ...,\n",
              "              \n",
              "                       [[ 0.0597,  0.0295,  0.0058],\n",
              "                        [ 0.0148, -0.0267, -0.0066],\n",
              "                        [-0.0600, -0.0426,  0.0102]],\n",
              "              \n",
              "                       [[ 0.0492, -0.0236,  0.0555],\n",
              "                        [ 0.0207, -0.0440,  0.0267],\n",
              "                        [-0.0265, -0.0072, -0.0778]],\n",
              "              \n",
              "                       [[-0.0520,  0.0054,  0.0399],\n",
              "                        [-0.0112,  0.0514, -0.0233],\n",
              "                        [ 0.0157, -0.0574,  0.0605]]],\n",
              "              \n",
              "              \n",
              "                      [[[ 0.0007,  0.0699, -0.0059],\n",
              "                        [-0.0286, -0.0395,  0.0477],\n",
              "                        [ 0.0412,  0.0073, -0.0046]],\n",
              "              \n",
              "                       [[ 0.0435,  0.0769, -0.0383],\n",
              "                        [ 0.0434,  0.0350, -0.0328],\n",
              "                        [-0.0105, -0.0620, -0.0323]],\n",
              "              \n",
              "                       [[-0.0778,  0.0493,  0.0024],\n",
              "                        [-0.0513,  0.0460,  0.0433],\n",
              "                        [ 0.0197, -0.0148,  0.0036]],\n",
              "              \n",
              "                       ...,\n",
              "              \n",
              "                       [[ 0.0050,  0.0679,  0.0399],\n",
              "                        [-0.0680, -0.0382, -0.0195],\n",
              "                        [ 0.0110, -0.0412,  0.0502]],\n",
              "              \n",
              "                       [[-0.0843, -0.0018,  0.0395],\n",
              "                        [-0.1222, -0.0503,  0.0345],\n",
              "                        [ 0.0009, -0.0483,  0.0167]],\n",
              "              \n",
              "                       [[ 0.0499, -0.0104, -0.0204],\n",
              "                        [-0.0358,  0.0447, -0.1000],\n",
              "                        [-0.0007, -0.0024,  0.0594]]],\n",
              "              \n",
              "              \n",
              "                      [[[ 0.0651,  0.0519, -0.0536],\n",
              "                        [-0.1043, -0.0245, -0.0412],\n",
              "                        [-0.0545, -0.0152, -0.0894]],\n",
              "              \n",
              "                       [[ 0.0407, -0.0243,  0.0287],\n",
              "                        [ 0.0370,  0.0347,  0.0194],\n",
              "                        [ 0.0186, -0.0441, -0.0047]],\n",
              "              \n",
              "                       [[ 0.0467, -0.0303,  0.0986],\n",
              "                        [ 0.0910, -0.0410,  0.0810],\n",
              "                        [ 0.0294, -0.0604,  0.0575]],\n",
              "              \n",
              "                       ...,\n",
              "              \n",
              "                       [[ 0.0522, -0.0282,  0.0361],\n",
              "                        [ 0.0256, -0.0423,  0.0389],\n",
              "                        [ 0.0801,  0.0023, -0.0471]],\n",
              "              \n",
              "                       [[ 0.0110,  0.0340, -0.0212],\n",
              "                        [ 0.0371, -0.0790, -0.0684],\n",
              "                        [ 0.0442, -0.0193, -0.0424]],\n",
              "              \n",
              "                       [[ 0.0117, -0.0152, -0.0436],\n",
              "                        [ 0.0307, -0.0604, -0.0146],\n",
              "                        [-0.0524, -0.0923, -0.0066]]]], device='cuda:0')),\n",
              "             ('conv3.bias',\n",
              "              tensor([ 0.0411,  0.0562, -0.0017,  0.0351, -0.0323,  0.0356,  0.0413, -0.0016,\n",
              "                       0.0492, -0.0174, -0.0280,  0.0555, -0.0500, -0.0217,  0.0141,  0.0034,\n",
              "                      -0.0269, -0.0532, -0.0406, -0.0061, -0.0428, -0.0044,  0.0074, -0.0276,\n",
              "                      -0.0203,  0.0269,  0.0301,  0.0157, -0.0583,  0.0314,  0.0150, -0.0218,\n",
              "                      -0.0425, -0.0261,  0.0137,  0.0220, -0.0390,  0.0026, -0.0077,  0.0483,\n",
              "                       0.0455, -0.0546, -0.0503,  0.0124, -0.0402, -0.0589, -0.0473, -0.0289,\n",
              "                      -0.0155, -0.0392, -0.0450, -0.0071, -0.0201,  0.0290,  0.0034,  0.0430,\n",
              "                      -0.0549, -0.0377, -0.0492,  0.0094, -0.0212,  0.0095,  0.0332, -0.0476],\n",
              "                     device='cuda:0')),\n",
              "             ('norm3.weight',\n",
              "              tensor([1.0222, 0.9205, 0.9968, 1.0529, 1.1284, 1.0237, 1.0827, 1.0346, 0.9554,\n",
              "                      1.0000, 1.0120, 0.9588, 0.9470, 0.9740, 0.9991, 1.0011, 0.9946, 1.0389,\n",
              "                      1.0062, 0.9332, 1.0358, 1.0125, 0.9978, 1.0408, 1.0115, 1.0157, 0.9159,\n",
              "                      0.8942, 1.0949, 0.8855, 1.0035, 0.9842, 0.9291, 0.9998, 0.9780, 0.8395,\n",
              "                      0.9553, 1.1214, 1.1295, 1.0801, 1.1248, 0.9792, 0.9530, 1.1755, 0.9500,\n",
              "                      1.1354, 0.9289, 0.9968, 0.9141, 0.9593, 1.0141, 1.0009, 0.9854, 1.0521,\n",
              "                      1.0239, 1.0290, 0.9304, 0.9931, 0.9845, 0.9386, 0.9736, 1.0558, 1.0245,\n",
              "                      0.9491], device='cuda:0')),\n",
              "             ('norm3.bias',\n",
              "              tensor([-0.1415, -0.0500, -0.0806,  0.0243, -0.0318,  0.0198, -0.0811, -0.0384,\n",
              "                      -0.0441, -0.0558, -0.0954, -0.1120, -0.1417, -0.0450, -0.0622, -0.0806,\n",
              "                      -0.1461, -0.2116, -0.0948, -0.0500, -0.0928, -0.1387, -0.0682, -0.1049,\n",
              "                      -0.0569, -0.0881, -0.1614, -0.1679,  0.0838, -0.1741, -0.1111, -0.0309,\n",
              "                      -0.0410, -0.0513, -0.0882, -0.1544, -0.1543,  0.0273, -0.0021,  0.0580,\n",
              "                      -0.0996, -0.1503, -0.0792,  0.1124, -0.0365, -0.1188, -0.0553, -0.1017,\n",
              "                      -0.1353, -0.0395, -0.0431, -0.0339, -0.0746, -0.0784, -0.0685, -0.0437,\n",
              "                      -0.2043, -0.1396, -0.0645, -0.1489, -0.1720, -0.0334, -0.0847, -0.1656],\n",
              "                     device='cuda:0')),\n",
              "             ('norm3.running_mean',\n",
              "              tensor([-0.4021, -0.7883, -0.6285,  0.2892, -0.6308, -1.0221, -0.5832, -0.7887,\n",
              "                      -1.3599, -0.0628, -0.4976, -0.0070,  0.3954, -1.5687,  0.0956,  0.1274,\n",
              "                      -0.7780, -0.3697, -0.3790, -1.5528,  0.0443,  0.0106, -0.3889, -0.1520,\n",
              "                      -0.8287,  0.0111,  1.6598,  2.4603, -0.5454,  1.6090,  0.1197, -0.2614,\n",
              "                      -1.5596, -0.1420,  0.2587,  0.5561,  0.4453, -0.8194, -0.6428, -0.5203,\n",
              "                      -0.6463,  0.1100,  0.1318, -0.6127, -1.6307, -0.4356, -0.1985,  0.0561,\n",
              "                      -0.5338, -1.3829, -0.6417, -0.3154,  0.9033, -0.0597, -0.2282, -0.6768,\n",
              "                      -0.1900,  0.0079, -0.0738,  0.9344, -0.3485, -0.9721, -0.1214, -0.1035],\n",
              "                     device='cuda:0')),\n",
              "             ('norm3.running_var',\n",
              "              tensor([0.4303, 1.4927, 0.6385, 0.5594, 0.7061, 0.8680, 0.5344, 0.9374, 2.0052,\n",
              "                      0.3497, 0.6212, 0.4200, 0.6020, 1.6004, 0.4426, 0.3416, 0.4506, 0.2751,\n",
              "                      0.7074, 0.9456, 0.4257, 0.3657, 0.7431, 0.3331, 0.7542, 0.6571, 1.1303,\n",
              "                      1.2670, 0.5931, 0.8325, 0.4927, 0.7306, 1.4342, 0.4481, 0.7514, 0.8862,\n",
              "                      0.7514, 1.0000, 1.0447, 0.4750, 0.3949, 0.5508, 0.5886, 0.7950, 1.3952,\n",
              "                      0.7201, 0.6751, 0.7227, 0.9260, 0.9261, 0.8192, 0.5422, 0.5677, 0.2869,\n",
              "                      0.5048, 0.8461, 0.5672, 0.4927, 0.4690, 0.6964, 0.3026, 1.4897, 0.3399,\n",
              "                      0.4816], device='cuda:0')),\n",
              "             ('norm3.num_batches_tracked', tensor(1000, device='cuda:0')),\n",
              "             ('conv4.weight', tensor([[[[ 0.0207, -0.0216,  0.0155],\n",
              "                        [-0.0587, -0.0152, -0.0339],\n",
              "                        [ 0.0099, -0.0066,  0.0226]],\n",
              "              \n",
              "                       [[ 0.0208,  0.0509, -0.0084],\n",
              "                        [ 0.0175, -0.0253,  0.0136],\n",
              "                        [-0.0082,  0.0192,  0.0083]],\n",
              "              \n",
              "                       [[-0.0573, -0.0312,  0.0125],\n",
              "                        [-0.0412,  0.0026, -0.0146],\n",
              "                        [-0.0569, -0.0468, -0.0241]],\n",
              "              \n",
              "                       ...,\n",
              "              \n",
              "                       [[-0.0016, -0.0501, -0.0408],\n",
              "                        [-0.0392, -0.0644,  0.0031],\n",
              "                        [-0.0754, -0.0429, -0.0283]],\n",
              "              \n",
              "                       [[-0.0171, -0.0055,  0.0463],\n",
              "                        [ 0.0303,  0.0269, -0.0048],\n",
              "                        [ 0.0303, -0.0035,  0.0603]],\n",
              "              \n",
              "                       [[-0.0355, -0.0389, -0.0212],\n",
              "                        [-0.0756, -0.0227, -0.0668],\n",
              "                        [-0.0549, -0.0610, -0.0525]]],\n",
              "              \n",
              "              \n",
              "                      [[[ 0.0372, -0.0153,  0.0484],\n",
              "                        [ 0.0570,  0.0212,  0.0638],\n",
              "                        [-0.0009,  0.0624,  0.0191]],\n",
              "              \n",
              "                       [[ 0.0998,  0.0949,  0.0452],\n",
              "                        [ 0.0750,  0.0727,  0.0089],\n",
              "                        [ 0.0622,  0.0309,  0.0317]],\n",
              "              \n",
              "                       [[-0.0137,  0.0014,  0.0390],\n",
              "                        [ 0.0292,  0.0172, -0.0073],\n",
              "                        [-0.0140,  0.0352,  0.0004]],\n",
              "              \n",
              "                       ...,\n",
              "              \n",
              "                       [[ 0.0916,  0.0868,  0.0616],\n",
              "                        [ 0.0550,  0.0626,  0.0503],\n",
              "                        [ 0.0120, -0.0256,  0.0270]],\n",
              "              \n",
              "                       [[-0.0562, -0.0593, -0.0187],\n",
              "                        [-0.0380,  0.0071, -0.0119],\n",
              "                        [-0.0455, -0.0008,  0.0107]],\n",
              "              \n",
              "                       [[ 0.0354,  0.0280,  0.0263],\n",
              "                        [ 0.0386,  0.0342,  0.0416],\n",
              "                        [ 0.0499,  0.0161,  0.0245]]],\n",
              "              \n",
              "              \n",
              "                      [[[-0.0027, -0.0447, -0.0719],\n",
              "                        [ 0.0582,  0.0120, -0.0689],\n",
              "                        [ 0.1222,  0.0052, -0.0544]],\n",
              "              \n",
              "                       [[ 0.0474,  0.0546,  0.0229],\n",
              "                        [-0.0397, -0.0164, -0.0019],\n",
              "                        [-0.0066, -0.0208,  0.0420]],\n",
              "              \n",
              "                       [[-0.0715, -0.0552,  0.0247],\n",
              "                        [-0.0143,  0.0172,  0.0052],\n",
              "                        [-0.0030,  0.0039,  0.0211]],\n",
              "              \n",
              "                       ...,\n",
              "              \n",
              "                       [[-0.0606, -0.0232, -0.0707],\n",
              "                        [-0.0234, -0.0142,  0.0089],\n",
              "                        [ 0.0301, -0.0179,  0.0006]],\n",
              "              \n",
              "                       [[ 0.0130, -0.0527, -0.0891],\n",
              "                        [ 0.0149, -0.0172, -0.0509],\n",
              "                        [ 0.0796, -0.0314,  0.0111]],\n",
              "              \n",
              "                       [[-0.0066, -0.0128, -0.0171],\n",
              "                        [ 0.0272, -0.0026, -0.0762],\n",
              "                        [ 0.0229, -0.0018, -0.0864]]],\n",
              "              \n",
              "              \n",
              "                      ...,\n",
              "              \n",
              "              \n",
              "                      [[[-0.0363, -0.0490, -0.0264],\n",
              "                        [-0.0147, -0.0122,  0.0246],\n",
              "                        [ 0.0464,  0.0796,  0.0833]],\n",
              "              \n",
              "                       [[ 0.0058,  0.0030, -0.0304],\n",
              "                        [ 0.0031, -0.0182, -0.0290],\n",
              "                        [-0.0571, -0.0193, -0.0267]],\n",
              "              \n",
              "                       [[-0.0376,  0.0105,  0.0399],\n",
              "                        [ 0.0319,  0.0088,  0.0221],\n",
              "                        [-0.0004,  0.0196, -0.0254]],\n",
              "              \n",
              "                       ...,\n",
              "              \n",
              "                       [[-0.0059,  0.0205,  0.0434],\n",
              "                        [ 0.0035,  0.0291,  0.0847],\n",
              "                        [ 0.0776,  0.0775,  0.0777]],\n",
              "              \n",
              "                       [[-0.0199,  0.0065, -0.0205],\n",
              "                        [-0.0088, -0.0289,  0.0194],\n",
              "                        [ 0.0564, -0.0192, -0.0045]],\n",
              "              \n",
              "                       [[ 0.0201, -0.0139, -0.0474],\n",
              "                        [ 0.0423,  0.0262,  0.0148],\n",
              "                        [ 0.0551,  0.0662, -0.0014]]],\n",
              "              \n",
              "              \n",
              "                      [[[-0.0173,  0.0074, -0.0115],\n",
              "                        [ 0.0023,  0.0376,  0.0287],\n",
              "                        [ 0.0116,  0.0395, -0.0085]],\n",
              "              \n",
              "                       [[-0.0117,  0.0159,  0.0315],\n",
              "                        [ 0.0510, -0.0094,  0.0430],\n",
              "                        [ 0.0019,  0.0222, -0.0412]],\n",
              "              \n",
              "                       [[ 0.0268,  0.0691,  0.0438],\n",
              "                        [-0.0303,  0.0147, -0.0280],\n",
              "                        [ 0.0314,  0.0128, -0.0371]],\n",
              "              \n",
              "                       ...,\n",
              "              \n",
              "                       [[-0.0137, -0.0173,  0.0454],\n",
              "                        [ 0.0098, -0.0126, -0.0379],\n",
              "                        [-0.0706, -0.0393, -0.0041]],\n",
              "              \n",
              "                       [[ 0.0123,  0.0269,  0.0610],\n",
              "                        [-0.0311, -0.0442,  0.0026],\n",
              "                        [ 0.0149, -0.0246, -0.0115]],\n",
              "              \n",
              "                       [[-0.0026,  0.0237, -0.0337],\n",
              "                        [ 0.0047,  0.0351,  0.0162],\n",
              "                        [-0.0562, -0.0287, -0.0531]]],\n",
              "              \n",
              "              \n",
              "                      [[[-0.0297, -0.0510, -0.0292],\n",
              "                        [ 0.0012, -0.0143, -0.0269],\n",
              "                        [ 0.0529,  0.0220,  0.0019]],\n",
              "              \n",
              "                       [[-0.0206, -0.0161,  0.0407],\n",
              "                        [ 0.0078, -0.0283,  0.0255],\n",
              "                        [-0.0053,  0.0052, -0.0254]],\n",
              "              \n",
              "                       [[ 0.0317, -0.0263, -0.0235],\n",
              "                        [-0.0286, -0.0064, -0.0006],\n",
              "                        [-0.0300,  0.0228, -0.0324]],\n",
              "              \n",
              "                       ...,\n",
              "              \n",
              "                       [[ 0.0036,  0.0719,  0.0200],\n",
              "                        [ 0.0191, -0.0015, -0.0328],\n",
              "                        [-0.0534, -0.0311,  0.0015]],\n",
              "              \n",
              "                       [[-0.0141, -0.0125, -0.0875],\n",
              "                        [ 0.0490,  0.0416,  0.0660],\n",
              "                        [ 0.0376,  0.0620,  0.1500]],\n",
              "              \n",
              "                       [[ 0.0829,  0.0182,  0.0082],\n",
              "                        [ 0.0205,  0.0492, -0.0126],\n",
              "                        [-0.0608,  0.0296, -0.0083]]]], device='cuda:0')),\n",
              "             ('conv4.bias',\n",
              "              tensor([-0.0241, -0.0278,  0.0394,  0.0353, -0.0200, -0.0031,  0.0289, -0.0102,\n",
              "                       0.0211,  0.0270, -0.0320, -0.0353,  0.0023, -0.0039, -0.0399,  0.0072,\n",
              "                      -0.0124,  0.0062, -0.0253,  0.0218,  0.0032, -0.0388, -0.0309,  0.0369,\n",
              "                      -0.0042,  0.0134,  0.0348,  0.0327,  0.0068, -0.0305,  0.0390, -0.0158,\n",
              "                       0.0270, -0.0187,  0.0023,  0.0257, -0.0386,  0.0353, -0.0329, -0.0043,\n",
              "                       0.0226,  0.0157, -0.0137, -0.0376, -0.0078, -0.0389, -0.0479,  0.0419,\n",
              "                      -0.0195, -0.0203,  0.0317, -0.0414,  0.0155,  0.0144, -0.0075, -0.0358,\n",
              "                       0.0072, -0.0233, -0.0306,  0.0180, -0.0023,  0.0193, -0.0058, -0.0174],\n",
              "                     device='cuda:0')),\n",
              "             ('norm4.weight',\n",
              "              tensor([0.9629, 0.9970, 1.0929, 1.0193, 0.9880, 1.0253, 1.0617, 0.9772, 1.0123,\n",
              "                      1.0055, 0.9616, 0.9598, 0.9665, 0.9554, 0.9723, 0.9875, 0.9759, 0.9603,\n",
              "                      1.0142, 0.9833, 1.0490, 0.9695, 0.9762, 1.0171, 0.9657, 0.9716, 1.0094,\n",
              "                      0.9570, 0.9712, 1.0037, 1.0161, 0.9839, 1.0326, 1.0371, 0.9820, 1.0235,\n",
              "                      1.0157, 0.9900, 0.9641, 1.0457, 1.0094, 0.9618, 1.0183, 0.9312, 1.0042,\n",
              "                      1.0113, 1.0247, 1.0486, 1.0517, 0.9344, 1.0666, 0.9962, 1.0146, 1.0926,\n",
              "                      1.0285, 0.9586, 0.9956, 1.0576, 0.9240, 1.0648, 0.9811, 0.9591, 1.0142,\n",
              "                      0.9627], device='cuda:0')),\n",
              "             ('norm4.bias',\n",
              "              tensor([-0.0506, -0.1800, -0.1367, -0.0139, -0.0089, -0.0976, -0.0159,  0.0088,\n",
              "                      -0.2633, -0.0164, -0.1334, -0.1158, -0.0391, -0.1569, -0.1160, -0.1262,\n",
              "                      -0.0461, -0.0193, -0.1013, -0.1326, -0.0106, -0.1289, -0.0409, -0.0218,\n",
              "                      -0.1927, -0.1547, -0.0096, -0.2101, -0.1785, -0.1217, -0.0955, -0.0334,\n",
              "                      -0.0907, -0.0736, -0.0943, -0.1702, -0.1160, -0.1313, -0.1649, -0.0203,\n",
              "                      -0.1257, -0.1332,  0.0297, -0.1502, -0.1769, -0.1210, -0.2359, -0.0090,\n",
              "                      -0.1521, -0.1369, -0.1671, -0.1975, -0.0137, -0.1770, -0.0429, -0.1687,\n",
              "                      -0.0014, -0.0323, -0.1184, -0.0951, -0.0997, -0.1922, -0.1030, -0.1500],\n",
              "                     device='cuda:0')),\n",
              "             ('norm4.running_mean',\n",
              "              tensor([-1.7635,  2.8695, -0.2298, -1.7044, -1.1546, -0.9003, -1.3729, -2.9016,\n",
              "                       0.5547, -2.1831,  2.0668, -0.6123, -2.9075,  1.1259, -0.3712, -0.7235,\n",
              "                      -0.9602, -0.9395, -0.7033,  0.5831, -1.0422, -0.6129, -1.1288, -1.2310,\n",
              "                       0.1570,  1.1291, -2.1286,  0.3159,  1.0173, -0.2933, -0.7325, -1.3812,\n",
              "                      -0.0532, -0.9813,  0.5857, -0.2953,  0.4843,  1.1940,  1.1812, -0.8125,\n",
              "                      -1.1622,  1.0001, -0.8941,  0.4088,  0.1776, -0.5902, -0.0087, -1.2768,\n",
              "                       0.3711,  0.5126,  0.3362, -0.2782, -1.5473, -0.4628, -0.9094,  2.6523,\n",
              "                      -0.5601, -0.9753,  1.1550, -0.4280,  0.1680,  1.3522,  0.4101,  1.1068],\n",
              "                     device='cuda:0')),\n",
              "             ('norm4.running_var',\n",
              "              tensor([3.3364, 2.2627, 1.6722, 5.2316, 4.7130, 1.6097, 1.0553, 7.2868, 1.1221,\n",
              "                      7.0961, 2.0905, 1.7508, 6.3952, 1.9767, 2.1157, 0.6463, 2.6390, 4.1762,\n",
              "                      1.3585, 2.1450, 4.7027, 1.5771, 2.4338, 2.1302, 2.2249, 1.3593, 2.9640,\n",
              "                      2.3368, 3.3024, 2.5816, 1.9131, 2.5117, 2.4423, 1.7192, 1.7859, 0.9601,\n",
              "                      0.8435, 2.0263, 2.1148, 1.5300, 1.2503, 2.0153, 3.5974, 4.1573, 2.9948,\n",
              "                      1.9273, 3.0220, 2.8985, 1.3047, 1.7741, 0.6868, 1.7965, 3.9378, 1.3719,\n",
              "                      1.5677, 2.5494, 1.9250, 2.2560, 1.3264, 1.3206, 1.5254, 1.5376, 2.6200,\n",
              "                      1.4300], device='cuda:0')),\n",
              "             ('norm4.num_batches_tracked', tensor(1000, device='cuda:0')),\n",
              "             ('conv5.weight', tensor([[[[-0.0483, -0.0004,  0.0219],\n",
              "                        [-0.0013,  0.0445,  0.0323],\n",
              "                        [ 0.0004, -0.0018,  0.0021]],\n",
              "              \n",
              "                       [[ 0.0286, -0.0585, -0.0704],\n",
              "                        [ 0.0519, -0.0147, -0.0132],\n",
              "                        [ 0.0566,  0.0080, -0.0052]],\n",
              "              \n",
              "                       [[-0.0395, -0.0227,  0.0960],\n",
              "                        [-0.0250,  0.0361,  0.0052],\n",
              "                        [-0.0580, -0.0285, -0.0081]],\n",
              "              \n",
              "                       ...,\n",
              "              \n",
              "                       [[ 0.0538, -0.0040,  0.0272],\n",
              "                        [ 0.0142, -0.0430, -0.0488],\n",
              "                        [-0.0518, -0.0211,  0.0032]],\n",
              "              \n",
              "                       [[-0.0368, -0.0028, -0.0726],\n",
              "                        [ 0.0580, -0.0048, -0.0365],\n",
              "                        [ 0.0312, -0.0254, -0.0441]],\n",
              "              \n",
              "                       [[ 0.0105,  0.0060,  0.0090],\n",
              "                        [ 0.0070,  0.0006, -0.0129],\n",
              "                        [-0.0196, -0.0502, -0.0320]]],\n",
              "              \n",
              "              \n",
              "                      [[[ 0.0006,  0.0290,  0.0232],\n",
              "                        [-0.0353,  0.0252, -0.0226],\n",
              "                        [-0.0743,  0.0004, -0.0092]],\n",
              "              \n",
              "                       [[-0.0121, -0.0419,  0.0238],\n",
              "                        [-0.0044, -0.0484, -0.0245],\n",
              "                        [-0.0624, -0.0722, -0.0692]],\n",
              "              \n",
              "                       [[ 0.0909,  0.0834,  0.0749],\n",
              "                        [ 0.0083,  0.0442,  0.0143],\n",
              "                        [-0.0881, -0.0404, -0.0634]],\n",
              "              \n",
              "                       ...,\n",
              "              \n",
              "                       [[-0.0106,  0.0251, -0.0026],\n",
              "                        [-0.0204,  0.0556,  0.0372],\n",
              "                        [ 0.0063,  0.0217, -0.0018]],\n",
              "              \n",
              "                       [[ 0.0100,  0.0448,  0.0345],\n",
              "                        [-0.0388, -0.0331, -0.0184],\n",
              "                        [-0.0335,  0.0039, -0.0010]],\n",
              "              \n",
              "                       [[ 0.0571,  0.0282,  0.0308],\n",
              "                        [-0.0565, -0.0236,  0.0060],\n",
              "                        [-0.0075,  0.0147,  0.0057]]],\n",
              "              \n",
              "              \n",
              "                      [[[ 0.0655,  0.0685,  0.0797],\n",
              "                        [ 0.0436,  0.0424,  0.0106],\n",
              "                        [-0.0004,  0.0151,  0.0190]],\n",
              "              \n",
              "                       [[-0.0584, -0.0068, -0.0330],\n",
              "                        [-0.0174, -0.0169, -0.0459],\n",
              "                        [-0.0029, -0.0059, -0.0162]],\n",
              "              \n",
              "                       [[ 0.1335,  0.1091,  0.0522],\n",
              "                        [ 0.0929,  0.0759,  0.0253],\n",
              "                        [-0.0679, -0.0708, -0.0055]],\n",
              "              \n",
              "                       ...,\n",
              "              \n",
              "                       [[ 0.0046, -0.0337, -0.0219],\n",
              "                        [ 0.0251,  0.0132, -0.0266],\n",
              "                        [ 0.0160, -0.0160, -0.0312]],\n",
              "              \n",
              "                       [[-0.0361, -0.0236,  0.0173],\n",
              "                        [-0.0528, -0.0538, -0.0404],\n",
              "                        [-0.0452, -0.0389, -0.0483]],\n",
              "              \n",
              "                       [[-0.0407,  0.0162,  0.0269],\n",
              "                        [-0.0105, -0.0648, -0.0243],\n",
              "                        [-0.0289, -0.0002,  0.0281]]],\n",
              "              \n",
              "              \n",
              "                      ...,\n",
              "              \n",
              "              \n",
              "                      [[[-0.0007,  0.0021, -0.0495],\n",
              "                        [ 0.0056, -0.0162, -0.0436],\n",
              "                        [ 0.0230,  0.0294,  0.0082]],\n",
              "              \n",
              "                       [[-0.0437, -0.0804, -0.0525],\n",
              "                        [-0.0142, -0.0045, -0.0391],\n",
              "                        [-0.0667,  0.0021, -0.0574]],\n",
              "              \n",
              "                       [[-0.0439,  0.0075, -0.0471],\n",
              "                        [ 0.0146,  0.0569, -0.0135],\n",
              "                        [-0.0322,  0.0056,  0.0559]],\n",
              "              \n",
              "                       ...,\n",
              "              \n",
              "                       [[-0.0099, -0.0072,  0.0049],\n",
              "                        [-0.0185, -0.0041, -0.0307],\n",
              "                        [-0.0456,  0.0022, -0.0305]],\n",
              "              \n",
              "                       [[-0.0916, -0.0500, -0.1052],\n",
              "                        [-0.0828, -0.0269, -0.0517],\n",
              "                        [-0.0823, -0.0384,  0.0202]],\n",
              "              \n",
              "                       [[-0.0565, -0.0638, -0.0096],\n",
              "                        [-0.0262, -0.0484,  0.0266],\n",
              "                        [ 0.0235,  0.0286,  0.0163]]],\n",
              "              \n",
              "              \n",
              "                      [[[-0.0289, -0.0252,  0.0282],\n",
              "                        [ 0.0272, -0.0241,  0.0272],\n",
              "                        [-0.0297,  0.0140, -0.0016]],\n",
              "              \n",
              "                       [[-0.0157, -0.0296, -0.0382],\n",
              "                        [ 0.0194,  0.0039, -0.0301],\n",
              "                        [-0.0062, -0.0040,  0.0109]],\n",
              "              \n",
              "                       [[-0.0407,  0.0267, -0.0035],\n",
              "                        [-0.0091,  0.0818,  0.1139],\n",
              "                        [-0.0255,  0.0071, -0.0166]],\n",
              "              \n",
              "                       ...,\n",
              "              \n",
              "                       [[-0.0389, -0.0517, -0.1054],\n",
              "                        [-0.0195, -0.0067, -0.0780],\n",
              "                        [-0.0415, -0.0516, -0.1109]],\n",
              "              \n",
              "                       [[-0.0437, -0.0125, -0.0135],\n",
              "                        [ 0.0167,  0.0268,  0.0278],\n",
              "                        [-0.0573,  0.0170, -0.0211]],\n",
              "              \n",
              "                       [[ 0.0100, -0.0302, -0.0072],\n",
              "                        [-0.0036, -0.0114,  0.0615],\n",
              "                        [-0.0225,  0.0009,  0.0111]]],\n",
              "              \n",
              "              \n",
              "                      [[[ 0.0475,  0.0125, -0.0069],\n",
              "                        [ 0.0060,  0.0193, -0.0069],\n",
              "                        [-0.0306,  0.0443,  0.0386]],\n",
              "              \n",
              "                       [[ 0.0294, -0.0209,  0.0325],\n",
              "                        [-0.0073, -0.0275, -0.0520],\n",
              "                        [ 0.0296,  0.0126,  0.0060]],\n",
              "              \n",
              "                       [[ 0.0086,  0.0419, -0.0408],\n",
              "                        [ 0.0355,  0.0027, -0.0373],\n",
              "                        [ 0.0217,  0.0251,  0.0332]],\n",
              "              \n",
              "                       ...,\n",
              "              \n",
              "                       [[ 0.0446, -0.0271, -0.0251],\n",
              "                        [-0.0145,  0.0173, -0.0717],\n",
              "                        [ 0.0368, -0.0296, -0.0326]],\n",
              "              \n",
              "                       [[-0.0655, -0.0482, -0.0792],\n",
              "                        [-0.0204, -0.0618, -0.0509],\n",
              "                        [-0.0227, -0.0217, -0.0169]],\n",
              "              \n",
              "                       [[-0.0029, -0.0179, -0.0222],\n",
              "                        [-0.0581, -0.0427, -0.0220],\n",
              "                        [-0.0169, -0.0266, -0.0548]]]], device='cuda:0')),\n",
              "             ('conv5.bias',\n",
              "              tensor([-0.0115,  0.0290, -0.0416, -0.0308,  0.0052, -0.0265,  0.0092,  0.0022,\n",
              "                      -0.0162, -0.0035, -0.0366, -0.0157,  0.0031,  0.0245,  0.0186, -0.0388,\n",
              "                       0.0008, -0.0222, -0.0384,  0.0283, -0.0313, -0.0020,  0.0391, -0.0305,\n",
              "                      -0.0309, -0.0138,  0.0425,  0.0080,  0.0051, -0.0163,  0.0347, -0.0171,\n",
              "                       0.0210, -0.0079,  0.0140, -0.0069, -0.0034, -0.0043, -0.0387, -0.0387,\n",
              "                       0.0294,  0.0124,  0.0322, -0.0110, -0.0006, -0.0347, -0.0413, -0.0167,\n",
              "                       0.0152,  0.0387,  0.0085, -0.0396,  0.0060, -0.0372, -0.0164, -0.0143,\n",
              "                      -0.0115, -0.0122,  0.0048, -0.0153, -0.0037, -0.0152, -0.0029,  0.0148,\n",
              "                       0.0186, -0.0258,  0.0231,  0.0022,  0.0050, -0.0407,  0.0025,  0.0300,\n",
              "                      -0.0278, -0.0411, -0.0219,  0.0386, -0.0428,  0.0004, -0.0197, -0.0141,\n",
              "                       0.0158,  0.0191,  0.0002,  0.0263,  0.0131, -0.0259, -0.0028, -0.0056,\n",
              "                      -0.0219,  0.0008, -0.0102,  0.0289,  0.0364,  0.0297, -0.0395,  0.0208,\n",
              "                       0.0272,  0.0040,  0.0247, -0.0427, -0.0034,  0.0125, -0.0051,  0.0376,\n",
              "                       0.0258,  0.0360,  0.0026,  0.0379, -0.0051, -0.0258,  0.0187, -0.0023,\n",
              "                      -0.0315,  0.0205, -0.0300,  0.0158, -0.0147,  0.0174, -0.0298,  0.0312,\n",
              "                       0.0296,  0.0121, -0.0406, -0.0171, -0.0258, -0.0221,  0.0190,  0.0101],\n",
              "                     device='cuda:0')),\n",
              "             ('norm5.weight',\n",
              "              tensor([1.0995, 1.0903, 1.0205, 1.1048, 1.0474, 0.9477, 0.9643, 0.9714, 0.9843,\n",
              "                      0.9964, 0.9302, 0.9535, 1.1061, 0.9768, 1.0241, 1.0783, 0.9294, 0.9868,\n",
              "                      0.9223, 0.9655, 0.9019, 1.0388, 0.9937, 0.9355, 0.9659, 1.0090, 0.9821,\n",
              "                      0.9896, 0.9483, 0.9717, 0.9907, 1.1582, 0.9818, 0.9004, 0.9665, 0.9665,\n",
              "                      0.9722, 1.0138, 1.0008, 0.9543, 0.9795, 0.9573, 0.9579, 0.9794, 0.9764,\n",
              "                      1.0813, 1.0482, 0.9830, 0.9731, 0.9670, 1.0702, 1.0348, 0.9815, 0.9324,\n",
              "                      1.0316, 0.9566, 0.9659, 0.9373, 0.9511, 0.9865, 1.0346, 0.9456, 0.9746,\n",
              "                      0.9523, 0.9378, 0.9923, 0.9924, 1.1089, 1.0220, 0.9769, 0.9595, 1.0569,\n",
              "                      0.9609, 1.0069, 1.0507, 1.0094, 1.0177, 0.9555, 1.0130, 0.9763, 0.9681,\n",
              "                      0.9625, 0.9295, 1.0414, 0.9705, 0.9411, 0.9909, 1.0095, 0.9825, 1.0022,\n",
              "                      1.0268, 0.9632, 0.9550, 1.0083, 1.0921, 0.9296, 0.9543, 1.0126, 0.9644,\n",
              "                      0.9616, 1.0932, 0.9384, 1.0051, 0.9542, 0.9184, 1.0004, 1.0424, 0.9796,\n",
              "                      0.9629, 1.0120, 1.0799, 0.9676, 1.0247, 1.0165, 0.9614, 1.0527, 1.0041,\n",
              "                      0.9409, 0.9454, 0.9821, 0.9893, 1.0500, 0.9990, 1.0579, 1.0588, 0.9555,\n",
              "                      0.9431, 0.9830], device='cuda:0')),\n",
              "             ('norm5.bias',\n",
              "              tensor([-0.1065, -0.1539, -0.1511,  0.0181, -0.1401, -0.0962, -0.0046, -0.0617,\n",
              "                      -0.1542, -0.1288, -0.0226, -0.1551, -0.1410, -0.1052, -0.0957, -0.1017,\n",
              "                      -0.1538,  0.0019, -0.1183, -0.1293, -0.0614, -0.1199, -0.1255, -0.1023,\n",
              "                      -0.0551, -0.1008,  0.0026, -0.1172, -0.0438, -0.1870, -0.1013, -0.2141,\n",
              "                      -0.0026, -0.0984, -0.0649, -0.0469, -0.0651, -0.1874, -0.1039, -0.1076,\n",
              "                      -0.0615, -0.0524, -0.0846, -0.0237, -0.1035, -0.1401, -0.1443, -0.1189,\n",
              "                      -0.0549, -0.0716, -0.0653,  0.0506, -0.0560, -0.1051, -0.1546, -0.0823,\n",
              "                      -0.0515, -0.0262, -0.1224, -0.0025, -0.1358, -0.0535, -0.0947, -0.0212,\n",
              "                      -0.0699, -0.1361, -0.0919, -0.1984, -0.1527, -0.0528, -0.0567, -0.1725,\n",
              "                      -0.1135, -0.0211, -0.2053, -0.0584, -0.0885, -0.0688, -0.1519, -0.0334,\n",
              "                      -0.0144, -0.0542, -0.0611, -0.1325, -0.0957, -0.0430, -0.0134, -0.0583,\n",
              "                      -0.1397, -0.0412, -0.0125, -0.0531, -0.0158, -0.1521, -0.2600, -0.0928,\n",
              "                      -0.0062, -0.0355, -0.0412, -0.0416, -0.1640, -0.2212,  0.0145, -0.1271,\n",
              "                      -0.0228, -0.0329, -0.1882, -0.0593, -0.0579, -0.1125, -0.0621, -0.0834,\n",
              "                      -0.0662, -0.0522, -0.1022, -0.1922, -0.0876, -0.0703, -0.0585,  0.0300,\n",
              "                      -0.0386, -0.0317, -0.1417, -0.1300, -0.1317, -0.0662, -0.0834, -0.0812],\n",
              "                     device='cuda:0')),\n",
              "             ('norm5.running_mean',\n",
              "              tensor([-1.6802, -1.0524,  1.5775, -0.2550, -1.3795, -2.3535, -3.2866, -2.4003,\n",
              "                      -0.0899,  1.7719, -3.0082,  0.7072, -0.2131, -2.4531, -0.9856, -0.4288,\n",
              "                      -0.0513, -3.1739, -1.5473, -1.6593, -3.1478, -1.6491,  0.5603, -2.6128,\n",
              "                      -2.9739,  0.0741, -0.4595, -0.4485, -2.3485,  0.6029, -0.8751,  0.6595,\n",
              "                       0.2916, -2.2492, -1.0963, -2.8448, -1.5246,  0.7542, -0.7151, -3.0598,\n",
              "                      -3.0686, -2.4583, -1.9613, -3.8500,  0.0622, -1.0624, -1.2924, -1.7773,\n",
              "                      -3.0882,  0.6026,  0.8411, -2.7274, -0.7649, -1.5777,  0.3136, -1.7159,\n",
              "                      -2.5186, -2.3249, -2.0667, -2.0778, -2.1517, -2.0004, -0.7630, -2.4602,\n",
              "                      -3.3799,  0.1005, -2.7443,  0.2963, -1.9994, -0.9236, -2.4729,  1.0893,\n",
              "                      -3.4334, -1.9404,  2.4101, -0.1300,  0.1871,  1.6665, -0.2446, -3.1779,\n",
              "                      -3.2870, -1.2868, -3.3997, -1.4151, -2.3365, -1.5072,  2.1404, -2.5138,\n",
              "                      -0.6310, -2.2309, -2.9169, -3.2624, -3.0745, -1.9007,  1.1226, -0.8158,\n",
              "                      -1.7687, -1.4024, -1.4676, -4.3029, -0.6910,  0.6270, -3.3838, -2.4181,\n",
              "                      -3.2126, -0.9016,  1.0469, -0.3617, -2.3161, -1.0748, -2.2414, -1.5693,\n",
              "                      -2.4442, -2.3229, -0.3141, -1.0430, -2.2280, -2.6126, -1.7740, -1.6015,\n",
              "                      -2.4561, -2.3545, -0.8109, -0.7265,  0.9085, -3.4588, -2.3353, -3.2925],\n",
              "                     device='cuda:0')),\n",
              "             ('norm5.running_var',\n",
              "              tensor([3.6585, 3.2273, 2.2556, 1.4910, 2.5031, 3.0086, 6.8254, 4.8894, 2.1629,\n",
              "                      2.0463, 5.0191, 1.6290, 1.7981, 4.1649, 3.4725, 2.9734, 2.9888, 7.8528,\n",
              "                      2.8016, 1.8479, 5.1932, 5.0069, 2.0513, 5.1050, 5.8704, 1.3381, 3.0441,\n",
              "                      2.7130, 3.8049, 2.8642, 3.0963, 3.8719, 3.6224, 3.2045, 4.9052, 7.5425,\n",
              "                      4.4993, 1.6389, 4.4257, 4.9513, 5.0645, 3.2983, 4.0042, 6.8241, 3.1324,\n",
              "                      1.8454, 2.1933, 2.0632, 4.1111, 2.9330, 3.1507, 5.8507, 4.3313, 2.5497,\n",
              "                      1.9033, 3.9845, 4.3989, 3.6778, 2.7820, 3.1854, 5.5687, 3.0727, 2.6715,\n",
              "                      4.9752, 5.6852, 2.5839, 4.9447, 2.2708, 2.8387, 2.8858, 3.2038, 1.9900,\n",
              "                      4.9451, 2.9351, 5.2419, 1.7924, 2.2066, 3.1817, 2.6549, 4.5601, 7.6333,\n",
              "                      3.3235, 6.7203, 2.0399, 4.3865, 1.9363, 5.8322, 3.7149, 1.4466, 3.5568,\n",
              "                      3.8055, 5.0653, 5.5419, 3.5104, 3.7409, 2.4221, 4.1545, 2.2665, 4.5854,\n",
              "                      7.8801, 1.5709, 2.6330, 7.4857, 5.2797, 3.0057, 3.3972, 1.5424, 3.2791,\n",
              "                      3.5071, 2.2972, 3.6205, 3.7629, 4.0930, 2.8639, 2.4453, 2.3673, 5.3670,\n",
              "                      6.2081, 2.2102, 4.0857, 3.4229, 4.0925, 3.1092, 4.3753, 2.5873, 6.1868,\n",
              "                      3.8046, 6.4281], device='cuda:0')),\n",
              "             ('norm5.num_batches_tracked', tensor(1000, device='cuda:0')),\n",
              "             ('conv6.weight',\n",
              "              tensor([[[[-2.5021e-03,  2.5196e-02,  7.7255e-02],\n",
              "                        [ 2.7299e-02,  4.2030e-02,  5.8694e-02],\n",
              "                        [ 4.5330e-02,  1.4831e-02,  5.0370e-02]],\n",
              "              \n",
              "                       [[ 6.7819e-02,  8.1698e-02,  9.4020e-02],\n",
              "                        [ 6.3465e-02,  5.2570e-02,  8.6513e-02],\n",
              "                        [ 3.7260e-02,  3.5606e-02,  4.1122e-02]],\n",
              "              \n",
              "                       [[ 3.0565e-02,  7.7979e-02,  9.2244e-02],\n",
              "                        [ 2.7076e-02,  1.4986e-02,  8.0592e-02],\n",
              "                        [ 2.2531e-02,  1.7220e-02,  6.6621e-02]],\n",
              "              \n",
              "                       ...,\n",
              "              \n",
              "                       [[-1.0618e-02,  1.2678e-03, -2.7543e-02],\n",
              "                        [-5.0268e-03, -1.1621e-02, -1.7097e-02],\n",
              "                        [-3.2617e-02, -1.6093e-02, -3.6158e-02]],\n",
              "              \n",
              "                       [[-2.2070e-02, -1.2115e-04, -2.8153e-02],\n",
              "                        [-2.8353e-02, -1.3415e-03,  2.5235e-04],\n",
              "                        [-2.0805e-02, -2.5591e-02, -6.7341e-03]],\n",
              "              \n",
              "                       [[ 6.0547e-03,  1.0805e-02,  2.0461e-02],\n",
              "                        [ 3.0534e-03,  3.5376e-03,  1.8009e-02],\n",
              "                        [ 4.3692e-03,  2.6540e-02,  7.4933e-03]]],\n",
              "              \n",
              "              \n",
              "                      [[[-7.9932e-03, -2.0622e-02,  2.2403e-02],\n",
              "                        [-1.1193e-02, -1.6809e-02,  3.4603e-03],\n",
              "                        [-1.6778e-02, -8.7036e-03,  4.1099e-02]],\n",
              "              \n",
              "                       [[ 9.8070e-03, -9.5259e-03,  2.7091e-02],\n",
              "                        [ 1.6926e-02, -2.0611e-02, -1.4743e-02],\n",
              "                        [-1.4261e-03, -2.4034e-02,  5.3973e-03]],\n",
              "              \n",
              "                       [[ 1.6349e-02, -1.7092e-02, -4.7961e-02],\n",
              "                        [-3.7364e-02,  1.7132e-03, -2.8223e-02],\n",
              "                        [ 1.9210e-03,  8.8529e-04, -3.6375e-02]],\n",
              "              \n",
              "                       ...,\n",
              "              \n",
              "                       [[ 4.6033e-03, -1.3009e-02, -1.3789e-02],\n",
              "                        [ 2.3147e-02,  1.3989e-02,  1.5934e-02],\n",
              "                        [-3.1608e-02, -3.2080e-02, -3.0268e-02]],\n",
              "              \n",
              "                       [[-5.9725e-02, -6.9706e-02, -6.8860e-02],\n",
              "                        [-2.7228e-02, -5.6356e-02, -5.6406e-02],\n",
              "                        [-3.0200e-02, -2.5174e-02, -2.4849e-02]],\n",
              "              \n",
              "                       [[ 1.9459e-02,  1.8421e-02, -1.3416e-02],\n",
              "                        [-2.8473e-02,  2.6790e-02,  1.4812e-02],\n",
              "                        [-3.9322e-03,  2.2156e-02,  3.1218e-02]]],\n",
              "              \n",
              "              \n",
              "                      [[[ 2.2224e-02, -1.8097e-02,  6.8126e-05],\n",
              "                        [ 2.6903e-02,  2.6467e-03, -5.8817e-03],\n",
              "                        [ 1.2202e-02,  3.0692e-02,  4.4260e-02]],\n",
              "              \n",
              "                       [[-6.2113e-02, -4.7533e-02, -1.0842e-01],\n",
              "                        [-2.5748e-02, -3.9086e-02, -8.3303e-02],\n",
              "                        [-4.9602e-02, -4.3312e-02, -5.7626e-02]],\n",
              "              \n",
              "                       [[-6.5399e-02, -2.9111e-02, -7.3366e-02],\n",
              "                        [ 1.0514e-02, -2.8819e-02, -4.6650e-02],\n",
              "                        [ 3.8951e-04, -1.4207e-02, -5.4900e-02]],\n",
              "              \n",
              "                       ...,\n",
              "              \n",
              "                       [[-3.8296e-02, -2.1169e-02, -1.5155e-02],\n",
              "                        [-1.8932e-02, -2.1673e-02, -2.8910e-02],\n",
              "                        [ 8.9076e-03, -5.5848e-02,  3.9535e-03]],\n",
              "              \n",
              "                       [[ 1.9633e-02, -2.3139e-02, -2.7028e-02],\n",
              "                        [ 2.1709e-02,  8.4887e-03, -1.3697e-02],\n",
              "                        [ 3.4185e-02,  2.7423e-02,  6.2907e-03]],\n",
              "              \n",
              "                       [[ 3.6560e-02,  3.2739e-02,  1.2432e-02],\n",
              "                        [ 5.3614e-02,  3.3080e-02,  4.9738e-02],\n",
              "                        [ 5.1907e-02,  5.5404e-02,  3.3424e-02]]],\n",
              "              \n",
              "              \n",
              "                      ...,\n",
              "              \n",
              "              \n",
              "                      [[[-4.5755e-03, -5.1838e-02,  1.0310e-02],\n",
              "                        [ 9.2546e-03, -1.9945e-02,  1.5547e-02],\n",
              "                        [ 4.9774e-03,  9.8696e-03, -9.8513e-03]],\n",
              "              \n",
              "                       [[ 5.5071e-02,  4.6811e-02,  8.7648e-02],\n",
              "                        [ 3.6209e-02,  5.3623e-02,  6.2184e-02],\n",
              "                        [ 3.1196e-02,  4.7568e-02,  6.5323e-02]],\n",
              "              \n",
              "                       [[ 2.5973e-02, -7.4903e-03, -5.1604e-04],\n",
              "                        [ 1.3512e-02,  3.3133e-02,  4.1738e-02],\n",
              "                        [ 3.6445e-02,  3.1005e-02, -4.4589e-03]],\n",
              "              \n",
              "                       ...,\n",
              "              \n",
              "                       [[-1.8361e-02, -1.0189e-02, -2.3397e-02],\n",
              "                        [-1.8465e-03,  4.7568e-03, -2.4672e-02],\n",
              "                        [-2.1477e-03, -3.6512e-02,  8.2130e-04]],\n",
              "              \n",
              "                       [[-3.1508e-02,  1.4549e-02,  1.4750e-02],\n",
              "                        [ 7.8375e-03, -2.3857e-02,  7.6258e-04],\n",
              "                        [-9.7603e-04, -5.5705e-03, -1.1184e-02]],\n",
              "              \n",
              "                       [[-3.7464e-02, -3.2588e-03, -2.6148e-04],\n",
              "                        [-2.6001e-02, -2.8947e-02, -1.0802e-03],\n",
              "                        [ 1.6674e-02,  5.1041e-03,  1.4423e-02]]],\n",
              "              \n",
              "              \n",
              "                      [[[ 1.5845e-02, -1.6077e-02,  2.2179e-02],\n",
              "                        [ 1.0666e-03, -2.1676e-02,  3.0978e-02],\n",
              "                        [ 3.2548e-02,  2.2780e-02,  3.4162e-02]],\n",
              "              \n",
              "                       [[ 5.3812e-02,  2.3950e-02,  7.4740e-02],\n",
              "                        [ 4.5815e-02,  2.3553e-02,  7.3732e-02],\n",
              "                        [ 3.3045e-02,  5.8484e-02,  4.2848e-02]],\n",
              "              \n",
              "                       [[-4.4321e-03,  3.6588e-02,  2.9575e-02],\n",
              "                        [ 3.3697e-02, -1.0079e-02,  1.1010e-02],\n",
              "                        [ 4.0020e-02,  3.6295e-02,  2.9008e-03]],\n",
              "              \n",
              "                       ...,\n",
              "              \n",
              "                       [[-1.0498e-02,  2.1181e-02, -1.4958e-02],\n",
              "                        [-2.6106e-02, -1.2992e-02, -1.7569e-02],\n",
              "                        [ 9.6621e-03,  2.0014e-02, -1.2473e-02]],\n",
              "              \n",
              "                       [[-2.9338e-02, -4.2031e-02, -4.2379e-02],\n",
              "                        [-2.4850e-02, -3.0748e-02,  1.0094e-02],\n",
              "                        [-3.0947e-02, -1.6957e-02, -3.8290e-02]],\n",
              "              \n",
              "                       [[ 4.2509e-02,  1.2944e-02,  5.9203e-03],\n",
              "                        [ 9.9100e-03,  1.8389e-03,  1.2505e-03],\n",
              "                        [ 1.4929e-02, -1.7032e-03,  1.6488e-02]]],\n",
              "              \n",
              "              \n",
              "                      [[[-1.5492e-04,  1.0336e-02,  6.3119e-02],\n",
              "                        [-1.3924e-02,  1.7017e-02,  4.3413e-02],\n",
              "                        [ 1.4168e-02,  4.0595e-03,  6.0120e-02]],\n",
              "              \n",
              "                       [[ 8.9021e-03,  2.7728e-02,  1.7019e-02],\n",
              "                        [ 4.3398e-02,  7.8769e-03,  3.4339e-02],\n",
              "                        [ 1.6937e-02,  5.3452e-03,  1.6218e-02]],\n",
              "              \n",
              "                       [[ 4.8387e-02,  1.2366e-02,  1.0436e-02],\n",
              "                        [ 2.5277e-02, -1.0504e-02,  2.3742e-03],\n",
              "                        [ 1.1191e-02, -3.0128e-03,  2.5428e-03]],\n",
              "              \n",
              "                       ...,\n",
              "              \n",
              "                       [[ 4.2911e-03, -1.2092e-02,  1.3203e-02],\n",
              "                        [-1.8480e-02,  1.3962e-02, -6.8524e-03],\n",
              "                        [ 9.2047e-03, -2.1624e-02, -1.2170e-03]],\n",
              "              \n",
              "                       [[-2.8820e-02, -4.2238e-02, -4.5597e-02],\n",
              "                        [-3.5159e-02,  1.2954e-02, -8.2613e-03],\n",
              "                        [-2.4538e-02,  6.9758e-03, -1.4041e-02]],\n",
              "              \n",
              "                       [[-4.8175e-03, -4.6940e-03,  3.3940e-02],\n",
              "                        [ 9.0877e-03,  1.7614e-03,  4.5889e-02],\n",
              "                        [-2.7354e-02, -7.2778e-03,  1.2555e-02]]]], device='cuda:0')),\n",
              "             ('conv6.bias',\n",
              "              tensor([-0.0223, -0.0228,  0.0144,  0.0154,  0.0196, -0.0184,  0.0154, -0.0217,\n",
              "                       0.0059,  0.0187,  0.0042,  0.0090, -0.0127,  0.0266, -0.0085,  0.0140,\n",
              "                       0.0192, -0.0245,  0.0220,  0.0357,  0.0280, -0.0083, -0.0249, -0.0074,\n",
              "                       0.0344, -0.0183,  0.0074,  0.0126, -0.0104,  0.0094,  0.0173, -0.0109,\n",
              "                       0.0340,  0.0150,  0.0030, -0.0205,  0.0192, -0.0116,  0.0192,  0.0271,\n",
              "                      -0.0032,  0.0174,  0.0100,  0.0169, -0.0207, -0.0031,  0.0303, -0.0077,\n",
              "                      -0.0011, -0.0053, -0.0170, -0.0164,  0.0173,  0.0309,  0.0206,  0.0371,\n",
              "                       0.0253,  0.0099,  0.0158, -0.0113,  0.0186,  0.0140, -0.0028,  0.0184,\n",
              "                      -0.0247, -0.0174,  0.0230, -0.0014, -0.0057,  0.0093,  0.0235,  0.0188,\n",
              "                       0.0147, -0.0006, -0.0256, -0.0167, -0.0221, -0.0265, -0.0053, -0.0143,\n",
              "                       0.0269, -0.0069,  0.0096,  0.0309, -0.0066,  0.0189, -0.0257, -0.0237,\n",
              "                       0.0257,  0.0072, -0.0092, -0.0006,  0.0015, -0.0191,  0.0317,  0.0185,\n",
              "                      -0.0133,  0.0202, -0.0215,  0.0166,  0.0276, -0.0027,  0.0084,  0.0067,\n",
              "                       0.0121,  0.0098, -0.0328, -0.0037,  0.0178,  0.0074,  0.0259, -0.0236,\n",
              "                       0.0354,  0.0012,  0.0205, -0.0134, -0.0328,  0.0116,  0.0003,  0.0324,\n",
              "                      -0.0253,  0.0232,  0.0202, -0.0118,  0.0057,  0.0263, -0.0255,  0.0054],\n",
              "                     device='cuda:0')),\n",
              "             ('norm6.weight',\n",
              "              tensor([1.3440, 1.3956, 1.2449, 1.1666, 1.2323, 1.3889, 1.2535, 1.3449, 1.3408,\n",
              "                      1.2679, 1.3194, 1.2988, 1.2576, 1.2723, 1.3986, 1.2835, 1.3783, 1.3014,\n",
              "                      1.2740, 1.3019, 1.3715, 1.2688, 1.3286, 1.2645, 1.2431, 1.2987, 1.2243,\n",
              "                      1.2294, 1.3329, 1.1893, 1.3391, 1.3762, 1.1915, 1.3082, 1.3520, 1.2878,\n",
              "                      1.3167, 1.3391, 1.2978, 1.2887, 1.2598, 1.2874, 1.2141, 1.3780, 1.2754,\n",
              "                      1.2817, 1.3401, 1.2966, 1.2602, 1.3409, 1.4057, 1.3150, 1.2500, 1.2448,\n",
              "                      1.2166, 1.3357, 1.2558, 1.2688, 1.3369, 1.2396, 1.2609, 1.2226, 1.2957,\n",
              "                      1.2825, 1.2842, 1.3033, 1.4076, 1.3599, 1.3823, 1.3014, 1.2726, 1.2941,\n",
              "                      1.3110, 1.3002, 1.3188, 1.3555, 1.2542, 1.3283, 1.2621, 1.2420, 1.3749,\n",
              "                      1.3529, 1.2028, 1.2796, 1.3431, 1.3127, 1.2945, 1.2995, 1.2791, 1.2698,\n",
              "                      1.2357, 1.2924, 1.3321, 1.2415, 1.1854, 1.2329, 1.2583, 1.2157, 1.3243,\n",
              "                      1.2778, 1.3462, 1.2859, 1.3151, 1.3728, 1.2464, 1.3784, 1.3203, 1.3312,\n",
              "                      1.3293, 1.2474, 1.2859, 1.3057, 1.2487, 1.2938, 1.4012, 1.3132, 1.2457,\n",
              "                      1.3234, 1.3366, 1.2634, 1.3047, 1.2421, 1.1954, 1.2919, 1.2802, 1.3014,\n",
              "                      1.3818, 1.4054], device='cuda:0')),\n",
              "             ('norm6.bias',\n",
              "              tensor([0.0992, 0.1420, 0.0998, 0.0747, 0.1353, 0.1748, 0.0864, 0.0890, 0.1183,\n",
              "                      0.1567, 0.1662, 0.1003, 0.1860, 0.2260, 0.1810, 0.1018, 0.1505, 0.1648,\n",
              "                      0.2081, 0.1520, 0.1760, 0.2118, 0.1554, 0.1785, 0.0834, 0.0928, 0.1707,\n",
              "                      0.1495, 0.0728, 0.1165, 0.1940, 0.1325, 0.1462, 0.1815, 0.0661, 0.1993,\n",
              "                      0.0711, 0.2724, 0.1689, 0.1158, 0.0204, 0.1744, 0.1632, 0.1481, 0.2330,\n",
              "                      0.1973, 0.2149, 0.2577, 0.1945, 0.1613, 0.1308, 0.2508, 0.1943, 0.1573,\n",
              "                      0.1734, 0.1946, 0.2040, 0.0897, 0.0939, 0.0891, 0.2126, 0.1045, 0.0986,\n",
              "                      0.0879, 0.2285, 0.0835, 0.1514, 0.2534, 0.1105, 0.1599, 0.1090, 0.1319,\n",
              "                      0.1624, 0.1135, 0.1054, 0.0867, 0.1121, 0.1469, 0.1113, 0.1861, 0.1380,\n",
              "                      0.1925, 0.1339, 0.2231, 0.0888, 0.1519, 0.0805, 0.1227, 0.1085, 0.1606,\n",
              "                      0.1618, 0.1549, 0.0727, 0.1053, 0.1284, 0.1575, 0.0940, 0.1093, 0.2175,\n",
              "                      0.1262, 0.1132, 0.1335, 0.1666, 0.1190, 0.2098, 0.1241, 0.1500, 0.1376,\n",
              "                      0.1157, 0.1126, 0.2142, 0.0628, 0.0901, 0.1042, 0.1752, 0.1447, 0.1472,\n",
              "                      0.1018, 0.2062, 0.1956, 0.1207, 0.0615, 0.1574, 0.2132, 0.1448, 0.1496,\n",
              "                      0.1099, 0.1308], device='cuda:0')),\n",
              "             ('norm6.running_mean',\n",
              "              tensor([ 1.8153e+00, -2.8947e-01, -1.2922e+00,  4.2462e-01, -2.1257e-01,\n",
              "                      -8.9455e-01,  1.1798e+00,  1.5133e+00,  1.5761e+00, -1.8578e+00,\n",
              "                      -5.3468e-01,  2.1719e-01,  3.4702e-01, -2.8336e-01,  1.5152e+00,\n",
              "                       4.5432e-01, -6.2441e-01, -3.3048e-01,  1.3544e+00, -1.5687e+00,\n",
              "                       1.1538e+00, -8.0360e-01,  1.6783e+00, -5.1470e-01, -7.1828e-01,\n",
              "                       9.1962e-01,  7.6540e-01,  4.1511e-01, -1.8212e-01,  2.0160e+00,\n",
              "                      -1.3882e+00,  6.5666e-02,  2.2268e-03, -2.7657e+00,  4.9526e-01,\n",
              "                      -2.9358e-01,  3.5449e-01, -6.1953e-01, -1.3729e+00,  1.5465e+00,\n",
              "                       6.8582e-01, -1.8037e+00,  1.6510e+00, -8.1122e-01,  9.3095e-02,\n",
              "                       4.0438e-01,  9.1567e-02,  4.5062e-01,  1.3477e+00, -5.2252e-01,\n",
              "                       2.6856e-01,  1.4939e+00, -2.1480e+00, -3.4429e+00,  5.2632e-03,\n",
              "                      -1.1506e+00,  4.4598e-01,  8.4952e-01,  9.1322e-01, -2.8157e-01,\n",
              "                       2.6029e-01, -9.0129e-01,  1.3433e+00,  7.3837e-01,  9.9511e-01,\n",
              "                       5.1715e-01,  1.3733e+00, -4.9544e-01,  1.4851e+00,  4.9141e-01,\n",
              "                       2.4958e+00, -7.6437e-01, -7.7983e-01, -1.6053e-02,  9.6957e-01,\n",
              "                       5.6801e-01, -4.4798e-01, -8.4344e-01,  1.5453e+00,  1.7458e+00,\n",
              "                       1.4175e-01, -2.5639e+00, -4.3991e-01, -2.5669e+00,  2.7662e-01,\n",
              "                      -1.7920e+00,  1.2867e+00, -3.9733e-02,  2.6753e-01, -2.0542e+00,\n",
              "                       2.2263e+00,  1.3578e+00,  2.7771e-01,  1.7710e+00, -1.4854e+00,\n",
              "                      -3.8285e-01,  4.8994e-01,  1.7618e+00,  1.0324e-01,  3.4110e-01,\n",
              "                       1.3299e+00,  1.7412e-02, -2.6297e-01,  1.5450e+00,  1.5248e-01,\n",
              "                       1.1889e+00,  2.1516e+00, -1.7169e+00, -1.5400e-01, -1.9151e-01,\n",
              "                      -2.2756e-01,  5.8959e-01, -1.6195e+00, -4.5960e-02,  9.6724e-01,\n",
              "                      -1.4243e+00,  2.7757e+00, -1.9007e-01, -9.6977e-01, -1.2472e+00,\n",
              "                       5.7178e-03, -8.9389e-01, -1.5484e+00,  1.8492e+00, -2.3034e+00,\n",
              "                       5.7144e-01,  3.6578e-01,  9.3206e-01], device='cuda:0')),\n",
              "             ('norm6.running_var',\n",
              "              tensor([1.4651, 2.3882, 1.7403, 1.2775, 1.1564, 1.8288, 1.3042, 2.1571, 2.5063,\n",
              "                      1.5152, 1.7886, 1.3835, 1.5308, 1.5597, 1.9312, 1.9838, 1.7602, 1.9880,\n",
              "                      1.8548, 1.7617, 1.7923, 1.4744, 2.1202, 1.5579, 1.4035, 2.0177, 2.5675,\n",
              "                      1.7912, 1.6409, 1.6126, 1.0054, 1.6746, 1.5068, 1.7848, 1.8265, 1.8236,\n",
              "                      2.2103, 2.0552, 1.4372, 1.2967, 1.5829, 1.9264, 2.4169, 2.6581, 1.1897,\n",
              "                      1.4236, 1.7130, 2.4043, 1.8697, 2.2789, 1.3298, 2.0634, 1.6860, 2.0196,\n",
              "                      2.4351, 1.6979, 1.5380, 1.5245, 2.4883, 1.0422, 3.3861, 1.6057, 2.7015,\n",
              "                      2.6883, 2.3167, 2.0503, 1.4869, 2.5351, 2.8387, 1.8984, 2.4003, 0.8690,\n",
              "                      1.6505, 1.2118, 3.2201, 2.4521, 1.3471, 1.5898, 1.4044, 2.4309, 2.2184,\n",
              "                      1.4957, 1.5298, 2.3501, 2.4188, 1.5147, 2.3092, 1.2403, 0.9590, 1.2170,\n",
              "                      1.8790, 1.2321, 2.3978, 0.8922, 1.3036, 1.5422, 1.3243, 1.6513, 1.5797,\n",
              "                      2.1873, 2.8329, 1.4962, 1.0361, 1.7000, 1.4549, 1.5543, 0.9986, 0.9997,\n",
              "                      1.3252, 1.0773, 1.4901, 1.8781, 1.1001, 1.6265, 2.3716, 1.8295, 1.6946,\n",
              "                      1.6723, 1.6254, 2.2581, 1.6509, 1.7822, 2.3273, 2.8391, 1.0667, 1.6122,\n",
              "                      1.8064, 2.9530], device='cuda:0')),\n",
              "             ('norm6.num_batches_tracked', tensor(1000, device='cuda:0')),\n",
              "             ('fc.weight',\n",
              "              tensor([[-0.1185, -0.0450,  0.0395,  ..., -0.1718, -0.1683, -0.2030],\n",
              "                      [-0.0935,  0.2277,  0.1869,  ..., -0.2085,  0.0724,  0.1627],\n",
              "                      [ 0.2377,  0.1677, -0.0340,  ..., -0.0802,  0.1777,  0.1432],\n",
              "                      ...,\n",
              "                      [ 0.0789,  0.0131,  0.0113,  ..., -0.0137,  0.1597,  0.0884],\n",
              "                      [-0.1472, -0.2878, -0.1470,  ..., -0.1722, -0.2564, -0.1907],\n",
              "                      [ 0.1746,  0.1917, -0.1684,  ...,  0.0890,  0.0473,  0.1962]],\n",
              "                     device='cuda:0')),\n",
              "             ('fc.bias',\n",
              "              tensor([ 0.0400, -0.0264, -0.0853, -0.0710, -0.0367, -0.0126,  0.0537,  0.0546,\n",
              "                      -0.0392, -0.0005, -0.0413], device='cuda:0'))])"
            ]
          },
          "metadata": {},
          "execution_count": 14
        }
      ]
    },
    {
      "cell_type": "markdown",
      "source": [
        "# 모델을 저장하고 불러 들인다. "
      ],
      "metadata": {
        "id": "C0CL0-wZoLAF"
      }
    },
    {
      "cell_type": "markdown",
      "source": [
        "## state_dict를 저장"
      ],
      "metadata": {
        "id": "j4nPy34Rrypy"
      }
    },
    {
      "cell_type": "code",
      "source": [
        "### 위에 학습한 모델을 저장합니다. 저장파일 이름은 checkpoint.pth 입니다. \n",
        "torch.save(vgg_batchnorm_model.state_dict(), 'checkpoint.pth')"
      ],
      "metadata": {
        "id": "mNR_Oztrh2UT"
      },
      "execution_count": null,
      "outputs": []
    },
    {
      "cell_type": "markdown",
      "source": [
        "## state_dict를 새로 선언한 모델에 load"
      ],
      "metadata": {
        "id": "S_syQ6dMr8e-"
      }
    },
    {
      "cell_type": "code",
      "source": [
        "#### 저장한 state_dict를 로드하고, 선언된 모델에 해당 내용을 load합니다. \n",
        "state_dict = torch.load('checkpoint.pth')\n",
        "print(state_dict.keys())\n",
        "vgg_loaded = VGG_BatchNormTorch(in_channels=1, out_features=11).to(\"cuda\")\n",
        "vgg_loaded.load_state_dict(state_dict)"
      ],
      "metadata": {
        "colab": {
          "base_uri": "https://localhost:8080/"
        },
        "id": "6R02gRUPh1x8",
        "outputId": "4852f3eb-da90-45ac-960e-04a84f24ab86"
      },
      "execution_count": null,
      "outputs": [
        {
          "output_type": "stream",
          "name": "stdout",
          "text": [
            "odict_keys(['conv1.weight', 'conv1.bias', 'norm1.weight', 'norm1.bias', 'norm1.running_mean', 'norm1.running_var', 'norm1.num_batches_tracked', 'conv2.weight', 'conv2.bias', 'norm2.weight', 'norm2.bias', 'norm2.running_mean', 'norm2.running_var', 'norm2.num_batches_tracked', 'conv3.weight', 'conv3.bias', 'norm3.weight', 'norm3.bias', 'norm3.running_mean', 'norm3.running_var', 'norm3.num_batches_tracked', 'conv4.weight', 'conv4.bias', 'norm4.weight', 'norm4.bias', 'norm4.running_mean', 'norm4.running_var', 'norm4.num_batches_tracked', 'conv5.weight', 'conv5.bias', 'norm5.weight', 'norm5.bias', 'norm5.running_mean', 'norm5.running_var', 'norm5.num_batches_tracked', 'conv6.weight', 'conv6.bias', 'norm6.weight', 'norm6.bias', 'norm6.running_mean', 'norm6.running_var', 'norm6.num_batches_tracked', 'fc.weight', 'fc.bias'])\n"
          ]
        },
        {
          "output_type": "execute_result",
          "data": {
            "text/plain": [
              "<All keys matched successfully>"
            ]
          },
          "metadata": {},
          "execution_count": 16
        }
      ]
    },
    {
      "cell_type": "code",
      "source": [
        "eval(vgg_loaded, train_dataloader)"
      ],
      "metadata": {
        "colab": {
          "base_uri": "https://localhost:8080/"
        },
        "id": "1DNtAis7pxm2",
        "outputId": "e95b91e5-a2ff-40d6-c4af-55c230c91071"
      },
      "execution_count": null,
      "outputs": [
        {
          "output_type": "stream",
          "name": "stdout",
          "text": [
            "Test Accuracy: 83.33333333333333%\n"
          ]
        }
      ]
    },
    {
      "cell_type": "markdown",
      "source": [
        "# 주기적으로 checkpoint를 저장"
      ],
      "metadata": {
        "id": "iBtyp4yotr3f"
      }
    },
    {
      "cell_type": "code",
      "source": [
        "def train_ckpt(model, data_loader, criterion, optimizer, n_epoch):\n",
        "  \n",
        "  ########## 2 Epoch 마다 Check point 를 저장하는 학습부를 작성해 봅니다. \n",
        "  model.train() #\n",
        "  for epoch in range(n_epoch):\n",
        "    running_loss = 0\n",
        "    for i, (images, _, labels) in enumerate(data_loader):\n",
        "      images, labels = images.cuda(), labels.cuda()\n",
        "      outputs = model(images)\n",
        "      loss = criterion(outputs, labels)\n",
        "      \n",
        "      optimizer.zero_grad()\n",
        "      loss.backward()\n",
        "      optimizer.step()\n",
        "      running_loss += loss.item()\n",
        "      \n",
        "        ## 여러 정보를 저장하는 부분\n",
        "\n",
        "    if (epoch + 1) % 2 == 0:\n",
        "      info_to_save = {\n",
        "                \"model\": \"VGG_BatchNorm\",\n",
        "                \"epoch\": epoch,\n",
        "                \"model_state_dict\": model.state_dict(),\n",
        "                \"optimizer_state_dict\": optimizer.state_dict(),\n",
        "                \"cost\": loss,\n",
        "                \"description\": f\"VGG 체크포인트-{epoch+1}\",\n",
        "            }\n",
        "        \n",
        "      torch.save(info_to_save, f\"./checkpoint-{epoch+1}.pt\")    \n",
        "      print('Epoch {}, loss = {:.3f}'.format(epoch + 1, running_loss/len(data_loader)))"
      ],
      "metadata": {
        "id": "bJXhTUzbpxg9"
      },
      "execution_count": null,
      "outputs": []
    },
    {
      "cell_type": "code",
      "source": [
        "reset_seed(2020)\n",
        "criterion = nn.CrossEntropyLoss()\n",
        "vgg_batchnorm_model = VGG_BatchNormTorch(in_channels=1, out_features=11).to(\"cuda\")\n",
        "optimizer = optim.Adam(params=vgg_batchnorm_model.parameters())\n",
        "\n",
        "train_ckpt(vgg_batchnorm_model, train_dataloader, criterion, optimizer, n_epoch=50)"
      ],
      "metadata": {
        "colab": {
          "base_uri": "https://localhost:8080/"
        },
        "id": "HZSNaTMDpxeB",
        "outputId": "3c6f7c4c-8cd4-45cc-9763-aef63ecbceaa"
      },
      "execution_count": null,
      "outputs": [
        {
          "output_type": "stream",
          "name": "stdout",
          "text": [
            "Epoch 2, loss = 2.332\n",
            "Epoch 4, loss = 2.150\n",
            "Epoch 6, loss = 1.911\n",
            "Epoch 8, loss = 1.715\n",
            "Epoch 10, loss = 1.507\n",
            "Epoch 12, loss = 1.400\n",
            "Epoch 14, loss = 1.331\n",
            "Epoch 16, loss = 1.192\n",
            "Epoch 18, loss = 1.125\n",
            "Epoch 20, loss = 1.020\n",
            "Epoch 22, loss = 0.903\n",
            "Epoch 24, loss = 0.888\n",
            "Epoch 26, loss = 0.808\n",
            "Epoch 28, loss = 0.803\n",
            "Epoch 30, loss = 0.668\n",
            "Epoch 32, loss = 0.597\n",
            "Epoch 34, loss = 0.555\n",
            "Epoch 36, loss = 0.471\n",
            "Epoch 38, loss = 0.423\n",
            "Epoch 40, loss = 0.377\n",
            "Epoch 42, loss = 0.409\n",
            "Epoch 44, loss = 0.315\n",
            "Epoch 46, loss = 0.284\n",
            "Epoch 48, loss = 0.271\n",
            "Epoch 50, loss = 0.232\n"
          ]
        }
      ]
    },
    {
      "cell_type": "markdown",
      "source": [
        "## 저장된 정보를 확인해 보겠습니다"
      ],
      "metadata": {
        "id": "S8gUuFMjwfkF"
      }
    },
    {
      "cell_type": "code",
      "source": [
        "### 실습 : epoch 10, 20, 30, 40, 50 에서의 모델 정확도를 출력해 봅니다\n",
        "for idx in [10,20,30,40,50]:\n",
        "  checkpoint = torch.load(f'checkpoint-{idx}.pt')\n",
        "  state_dict = checkpoint[\"model_state_dict\"]\n",
        "  vgg_loaded = VGG_BatchNormTorch(in_channels=1, out_features=11).to(\"cuda\")\n",
        "  vgg_loaded.load_state_dict(state_dict)\n",
        "\n",
        "  # 각 Epoch 마다의 accuracy를 출력해 봅니다. \n",
        "  print(f\"Epoch[{idx}]\", end=\",\")\n",
        "  eval(vgg_loaded, train_dataloader)\n",
        "\n"
      ],
      "metadata": {
        "colab": {
          "base_uri": "https://localhost:8080/"
        },
        "id": "cspIcIBWpxa6",
        "outputId": "b46c9b2f-cae6-4155-fc0f-9ed79d063233"
      },
      "execution_count": null,
      "outputs": [
        {
          "output_type": "stream",
          "name": "stdout",
          "text": [
            "Epoch[10],Test Accuracy: 43.93939393939394%\n",
            "Epoch[20],Test Accuracy: 74.74747474747475%\n",
            "Epoch[30],Test Accuracy: 82.32323232323232%\n",
            "Epoch[40],Test Accuracy: 94.44444444444444%\n",
            "Epoch[50],Test Accuracy: 94.44444444444444%\n"
          ]
        }
      ]
    },
    {
      "cell_type": "code",
      "source": [
        "### 실습 : verbose 인자가 True 일때만 출력하는 함수를 만들어 보세요 \n",
        "def eval_cktp(model, data_loader, verbose=False):\n",
        "  \n",
        "  model.eval()\n",
        "  total = 0\n",
        "  correct = 0\n",
        "  \n",
        "  with torch.no_grad():\n",
        "    for images, _,  labels in data_loader:\n",
        "      images, labels = images.cuda(), labels.cuda()\n",
        "      outputs = model(images)\n",
        "      _, predicted = torch.max(outputs, 1)\n",
        "      total += labels.size(0)\n",
        "      correct += (predicted == labels).sum().item()\n",
        "    accuracy = 100 * correct / total\n",
        "  \n",
        "  ###### 이 부분 추가\n",
        "  if verbose:\n",
        "    print('Test Accuracy: {}%'.format(accuracy))\n",
        "  else:\n",
        "    return accuracy"
      ],
      "metadata": {
        "id": "trtxmjgvzvSY"
      },
      "execution_count": null,
      "outputs": []
    },
    {
      "cell_type": "code",
      "source": [
        "### 실습 : 모든 checkpoint 에 대해 accuracy 를 계산하고 plot 해보세요\n",
        "idxs = np.arange(2,51,2)  # 2~50 사이의 2 간격 숫자 생성\n",
        "list_accuracy = []\n",
        "\n",
        "for idx in idxs:\n",
        "  checkpoint = torch.load(f'checkpoint-{idx}.pt')\n",
        "  state_dict = checkpoint[\"model_state_dict\"]\n",
        "  vgg_loaded = VGG_BatchNormTorch(in_channels=1, out_features=11).to(\"cuda\")\n",
        "  vgg_loaded.load_state_dict(state_dict)\n",
        "\n",
        "  # 각 Epoch 마다의 accuracy를 출력해 봅니다. \n",
        "  \n",
        "  list_accuracy.append(eval_cktp(vgg_loaded, train_dataloader, verbose=False))\n",
        "plt.plot(idxs, list_accuracy)"
      ],
      "metadata": {
        "colab": {
          "base_uri": "https://localhost:8080/",
          "height": 284
        },
        "id": "y5X8r5oapxYD",
        "outputId": "ce2462ba-274e-4de7-e119-6021863e103f"
      },
      "execution_count": null,
      "outputs": [
        {
          "output_type": "execute_result",
          "data": {
            "text/plain": [
              "[<matplotlib.lines.Line2D at 0x7f5510d41df0>]"
            ]
          },
          "metadata": {},
          "execution_count": 22
        },
        {
          "output_type": "display_data",
          "data": {
            "text/plain": [
              "<Figure size 432x288 with 1 Axes>"
            ],
            "image/png": "[encoded data removed]"
          },
          "metadata": {
            "needs_background": "light"
          }
        }
      ]
    },
    {
      "cell_type": "markdown",
      "source": [
        "## 저장한 추가 정보 확인"
      ],
      "metadata": {
        "id": "75ZcRdBM1lJj"
      }
    },
    {
      "cell_type": "code",
      "source": [
        "checkpoint = torch.load(f'checkpoint-36.pt')\n",
        "print(checkpoint.keys())\n",
        "print(checkpoint['description'])\n",
        "print(checkpoint['optimizer_state_dict'].keys())"
      ],
      "metadata": {
        "colab": {
          "base_uri": "https://localhost:8080/"
        },
        "id": "QyJZ8Om-pxSI",
        "outputId": "d33a517a-835c-422f-e2c4-a552fac5d243"
      },
      "execution_count": null,
      "outputs": [
        {
          "output_type": "stream",
          "name": "stdout",
          "text": [
            "dict_keys(['model', 'epoch', 'model_state_dict', 'optimizer_state_dict', 'cost', 'description'])\n",
            "VGG 체크포인트-36\n",
            "dict_keys(['state', 'param_groups'])\n"
          ]
        }
      ]
    },
    {
      "cell_type": "markdown",
      "source": [
        "## 저장된 모델 & Optimizer를 이용하여 학습"
      ],
      "metadata": {
        "id": "v_Rs9D6Y3XiB"
      }
    },
    {
      "cell_type": "code",
      "source": [
        "#### Epoch 36에서의 정보를 모두 Load  한다음에 1번만 학습해 보겠습니다. \n",
        "\n",
        "### 이전 모델 Load\n",
        "model = VGG_BatchNormTorch(in_channels=1, out_features=11).to(\"cuda\")\n",
        "model.load_state_dict(checkpoint[\"model_state_dict\"])\n",
        "\n",
        "## 이전 Optimizer 의 정보 Load\n",
        "optimizer = optim.Adam(params=vgg_batchnorm_model.parameters())\n",
        "optimizer.load_state_dict(checkpoint[\"optimizer_state_dict\"])\n",
        "checkpoint_epoch = checkpoint[\"epoch\"]\n",
        "\n",
        "## Epoch 1회만 학습\n",
        "train_ckpt(model, train_dataloader, criterion, optimizer, n_epoch=1)\n",
        "\n",
        "# 평가\n",
        "eval_cktp(model, train_dataloader, verbose=True)"
      ],
      "metadata": {
        "colab": {
          "base_uri": "https://localhost:8080/"
        },
        "id": "U5JTj_x62FBo",
        "outputId": "92618f79-8914-4570-cde3-fade90e20539"
      },
      "execution_count": null,
      "outputs": [
        {
          "output_type": "stream",
          "name": "stdout",
          "text": [
            "Test Accuracy: 94.44444444444444%\n"
          ]
        }
      ]
    },
    {
      "cell_type": "markdown",
      "source": [
        "### 저장된 파일을 PC에 저장해 보겠습니다. "
      ],
      "metadata": {
        "id": "VGuCNh7S8eeJ"
      }
    },
    {
      "cell_type": "code",
      "source": [
        "from google.colab import files\n",
        "\n",
        "# download checkpoint file\n",
        "files.download('checkpoint-36.pt')\n",
        "files.download('checkpoint-38.pt')\n",
        "files.download('checkpoint-40.pt')\n",
        "files.download('checkpoint-42.pt')\n",
        "files.download('checkpoint-44.pt')\n",
        "files.download('checkpoint-46.pt')\n",
        "files.download('checkpoint-48.pt')"
      ],
      "metadata": {
        "id": "oERXIBoNpxMC",
        "colab": {
          "base_uri": "https://localhost:8080/",
          "height": 17
        },
        "outputId": "e99d86e3-0a97-48e0-baed-e9b7d00da8cc"
      },
      "execution_count": null,
      "outputs": [
        {
          "output_type": "display_data",
          "data": {
            "text/plain": [
              "<IPython.core.display.Javascript object>"
            ],
            "application/javascript": [
              "\n",
              "    async function download(id, filename, size) {\n",
              "      if (!google.colab.kernel.accessAllowed) {\n",
              "        return;\n",
              "      }\n",
              "      const div = document.createElement('div');\n",
              "      const label = document.createElement('label');\n",
              "      label.textContent = `Downloading \"${filename}\": `;\n",
              "      div.appendChild(label);\n",
              "      const progress = document.createElement('progress');\n",
              "      progress.max = size;\n",
              "      div.appendChild(progress);\n",
              "      document.body.appendChild(div);\n",
              "\n",
              "      const buffers = [];\n",
              "      let downloaded = 0;\n",
              "\n",
              "      const channel = await google.colab.kernel.comms.open(id);\n",
              "      // Send a message to notify the kernel that we're ready.\n",
              "      channel.send({})\n",
              "\n",
              "      for await (const message of channel.messages) {\n",
              "        // Send a message to notify the kernel that we're ready.\n",
              "        channel.send({})\n",
              "        if (message.buffers) {\n",
              "          for (const buffer of message.buffers) {\n",
              "            buffers.push(buffer);\n",
              "            downloaded += buffer.byteLength;\n",
              "            progress.value = downloaded;\n",
              "          }\n",
              "        }\n",
              "      }\n",
              "      const blob = new Blob(buffers, {type: 'application/binary'});\n",
              "      const a = document.createElement('a');\n",
              "      a.href = window.URL.createObjectURL(blob);\n",
              "      a.download = filename;\n",
              "      div.appendChild(a);\n",
              "      a.click();\n",
              "      div.remove();\n",
              "    }\n",
              "  "
            ]
          },
          "metadata": {}
        },
        {
          "output_type": "display_data",
          "data": {
            "text/plain": [
              "<IPython.core.display.Javascript object>"
            ],
            "application/javascript": [
              "download(\"download_e4f718ef-0ea0-4630-9da0-0d00b7a22bc5\", \"checkpoint-36.pt\", 3505081)"
            ]
          },
          "metadata": {}
        },
        {
          "output_type": "display_data",
          "data": {
            "text/plain": [
              "<IPython.core.display.Javascript object>"
            ],
            "application/javascript": [
              "\n",
              "    async function download(id, filename, size) {\n",
              "      if (!google.colab.kernel.accessAllowed) {\n",
              "        return;\n",
              "      }\n",
              "      const div = document.createElement('div');\n",
              "      const label = document.createElement('label');\n",
              "      label.textContent = `Downloading \"${filename}\": `;\n",
              "      div.appendChild(label);\n",
              "      const progress = document.createElement('progress');\n",
              "      progress.max = size;\n",
              "      div.appendChild(progress);\n",
              "      document.body.appendChild(div);\n",
              "\n",
              "      const buffers = [];\n",
              "      let downloaded = 0;\n",
              "\n",
              "      const channel = await google.colab.kernel.comms.open(id);\n",
              "      // Send a message to notify the kernel that we're ready.\n",
              "      channel.send({})\n",
              "\n",
              "      for await (const message of channel.messages) {\n",
              "        // Send a message to notify the kernel that we're ready.\n",
              "        channel.send({})\n",
              "        if (message.buffers) {\n",
              "          for (const buffer of message.buffers) {\n",
              "            buffers.push(buffer);\n",
              "            downloaded += buffer.byteLength;\n",
              "            progress.value = downloaded;\n",
              "          }\n",
              "        }\n",
              "      }\n",
              "      const blob = new Blob(buffers, {type: 'application/binary'});\n",
              "      const a = document.createElement('a');\n",
              "      a.href = window.URL.createObjectURL(blob);\n",
              "      a.download = filename;\n",
              "      div.appendChild(a);\n",
              "      a.click();\n",
              "      div.remove();\n",
              "    }\n",
              "  "
            ]
          },
          "metadata": {}
        },
        {
          "output_type": "display_data",
          "data": {
            "text/plain": [
              "<IPython.core.display.Javascript object>"
            ],
            "application/javascript": [
              "download(\"download_ff2ac3fe-5197-4d9f-af27-dc7f9e8d4907\", \"checkpoint-38.pt\", 3505081)"
            ]
          },
          "metadata": {}
        },
        {
          "output_type": "display_data",
          "data": {
            "text/plain": [
              "<IPython.core.display.Javascript object>"
            ],
            "application/javascript": [
              "\n",
              "    async function download(id, filename, size) {\n",
              "      if (!google.colab.kernel.accessAllowed) {\n",
              "        return;\n",
              "      }\n",
              "      const div = document.createElement('div');\n",
              "      const label = document.createElement('label');\n",
              "      label.textContent = `Downloading \"${filename}\": `;\n",
              "      div.appendChild(label);\n",
              "      const progress = document.createElement('progress');\n",
              "      progress.max = size;\n",
              "      div.appendChild(progress);\n",
              "      document.body.appendChild(div);\n",
              "\n",
              "      const buffers = [];\n",
              "      let downloaded = 0;\n",
              "\n",
              "      const channel = await google.colab.kernel.comms.open(id);\n",
              "      // Send a message to notify the kernel that we're ready.\n",
              "      channel.send({})\n",
              "\n",
              "      for await (const message of channel.messages) {\n",
              "        // Send a message to notify the kernel that we're ready.\n",
              "        channel.send({})\n",
              "        if (message.buffers) {\n",
              "          for (const buffer of message.buffers) {\n",
              "            buffers.push(buffer);\n",
              "            downloaded += buffer.byteLength;\n",
              "            progress.value = downloaded;\n",
              "          }\n",
              "        }\n",
              "      }\n",
              "      const blob = new Blob(buffers, {type: 'application/binary'});\n",
              "      const a = document.createElement('a');\n",
              "      a.href = window.URL.createObjectURL(blob);\n",
              "      a.download = filename;\n",
              "      div.appendChild(a);\n",
              "      a.click();\n",
              "      div.remove();\n",
              "    }\n",
              "  "
            ]
          },
          "metadata": {}
        },
        {
          "output_type": "display_data",
          "data": {
            "text/plain": [
              "<IPython.core.display.Javascript object>"
            ],
            "application/javascript": [
              "download(\"download_2d622f1a-5beb-4ebb-a8c5-d30158b76e45\", \"checkpoint-40.pt\", 3505081)"
            ]
          },
          "metadata": {}
        },
        {
          "output_type": "display_data",
          "data": {
            "text/plain": [
              "<IPython.core.display.Javascript object>"
            ],
            "application/javascript": [
              "\n",
              "    async function download(id, filename, size) {\n",
              "      if (!google.colab.kernel.accessAllowed) {\n",
              "        return;\n",
              "      }\n",
              "      const div = document.createElement('div');\n",
              "      const label = document.createElement('label');\n",
              "      label.textContent = `Downloading \"${filename}\": `;\n",
              "      div.appendChild(label);\n",
              "      const progress = document.createElement('progress');\n",
              "      progress.max = size;\n",
              "      div.appendChild(progress);\n",
              "      document.body.appendChild(div);\n",
              "\n",
              "      const buffers = [];\n",
              "      let downloaded = 0;\n",
              "\n",
              "      const channel = await google.colab.kernel.comms.open(id);\n",
              "      // Send a message to notify the kernel that we're ready.\n",
              "      channel.send({})\n",
              "\n",
              "      for await (const message of channel.messages) {\n",
              "        // Send a message to notify the kernel that we're ready.\n",
              "        channel.send({})\n",
              "        if (message.buffers) {\n",
              "          for (const buffer of message.buffers) {\n",
              "            buffers.push(buffer);\n",
              "            downloaded += buffer.byteLength;\n",
              "            progress.value = downloaded;\n",
              "          }\n",
              "        }\n",
              "      }\n",
              "      const blob = new Blob(buffers, {type: 'application/binary'});\n",
              "      const a = document.createElement('a');\n",
              "      a.href = window.URL.createObjectURL(blob);\n",
              "      a.download = filename;\n",
              "      div.appendChild(a);\n",
              "      a.click();\n",
              "      div.remove();\n",
              "    }\n",
              "  "
            ]
          },
          "metadata": {}
        },
        {
          "output_type": "display_data",
          "data": {
            "text/plain": [
              "<IPython.core.display.Javascript object>"
            ],
            "application/javascript": [
              "download(\"download_d31fe9c8-8e1b-452c-8115-10146ca8da20\", \"checkpoint-42.pt\", 3505081)"
            ]
          },
          "metadata": {}
        },
        {
          "output_type": "display_data",
          "data": {
            "text/plain": [
              "<IPython.core.display.Javascript object>"
            ],
            "application/javascript": [
              "\n",
              "    async function download(id, filename, size) {\n",
              "      if (!google.colab.kernel.accessAllowed) {\n",
              "        return;\n",
              "      }\n",
              "      const div = document.createElement('div');\n",
              "      const label = document.createElement('label');\n",
              "      label.textContent = `Downloading \"${filename}\": `;\n",
              "      div.appendChild(label);\n",
              "      const progress = document.createElement('progress');\n",
              "      progress.max = size;\n",
              "      div.appendChild(progress);\n",
              "      document.body.appendChild(div);\n",
              "\n",
              "      const buffers = [];\n",
              "      let downloaded = 0;\n",
              "\n",
              "      const channel = await google.colab.kernel.comms.open(id);\n",
              "      // Send a message to notify the kernel that we're ready.\n",
              "      channel.send({})\n",
              "\n",
              "      for await (const message of channel.messages) {\n",
              "        // Send a message to notify the kernel that we're ready.\n",
              "        channel.send({})\n",
              "        if (message.buffers) {\n",
              "          for (const buffer of message.buffers) {\n",
              "            buffers.push(buffer);\n",
              "            downloaded += buffer.byteLength;\n",
              "            progress.value = downloaded;\n",
              "          }\n",
              "        }\n",
              "      }\n",
              "      const blob = new Blob(buffers, {type: 'application/binary'});\n",
              "      const a = document.createElement('a');\n",
              "      a.href = window.URL.createObjectURL(blob);\n",
              "      a.download = filename;\n",
              "      div.appendChild(a);\n",
              "      a.click();\n",
              "      div.remove();\n",
              "    }\n",
              "  "
            ]
          },
          "metadata": {}
        },
        {
          "output_type": "display_data",
          "data": {
            "text/plain": [
              "<IPython.core.display.Javascript object>"
            ],
            "application/javascript": [
              "download(\"download_2927594e-ea94-44b5-bca4-9143035a98ef\", \"checkpoint-44.pt\", 3505081)"
            ]
          },
          "metadata": {}
        },
        {
          "output_type": "display_data",
          "data": {
            "text/plain": [
              "<IPython.core.display.Javascript object>"
            ],
            "application/javascript": [
              "\n",
              "    async function download(id, filename, size) {\n",
              "      if (!google.colab.kernel.accessAllowed) {\n",
              "        return;\n",
              "      }\n",
              "      const div = document.createElement('div');\n",
              "      const label = document.createElement('label');\n",
              "      label.textContent = `Downloading \"${filename}\": `;\n",
              "      div.appendChild(label);\n",
              "      const progress = document.createElement('progress');\n",
              "      progress.max = size;\n",
              "      div.appendChild(progress);\n",
              "      document.body.appendChild(div);\n",
              "\n",
              "      const buffers = [];\n",
              "      let downloaded = 0;\n",
              "\n",
              "      const channel = await google.colab.kernel.comms.open(id);\n",
              "      // Send a message to notify the kernel that we're ready.\n",
              "      channel.send({})\n",
              "\n",
              "      for await (const message of channel.messages) {\n",
              "        // Send a message to notify the kernel that we're ready.\n",
              "        channel.send({})\n",
              "        if (message.buffers) {\n",
              "          for (const buffer of message.buffers) {\n",
              "            buffers.push(buffer);\n",
              "            downloaded += buffer.byteLength;\n",
              "            progress.value = downloaded;\n",
              "          }\n",
              "        }\n",
              "      }\n",
              "      const blob = new Blob(buffers, {type: 'application/binary'});\n",
              "      const a = document.createElement('a');\n",
              "      a.href = window.URL.createObjectURL(blob);\n",
              "      a.download = filename;\n",
              "      div.appendChild(a);\n",
              "      a.click();\n",
              "      div.remove();\n",
              "    }\n",
              "  "
            ]
          },
          "metadata": {}
        },
        {
          "output_type": "display_data",
          "data": {
            "text/plain": [
              "<IPython.core.display.Javascript object>"
            ],
            "application/javascript": [
              "download(\"download_f2c5623c-c958-4155-b863-518497ef06d2\", \"checkpoint-46.pt\", 3505081)"
            ]
          },
          "metadata": {}
        },
        {
          "output_type": "display_data",
          "data": {
            "text/plain": [
              "<IPython.core.display.Javascript object>"
            ],
            "application/javascript": [
              "\n",
              "    async function download(id, filename, size) {\n",
              "      if (!google.colab.kernel.accessAllowed) {\n",
              "        return;\n",
              "      }\n",
              "      const div = document.createElement('div');\n",
              "      const label = document.createElement('label');\n",
              "      label.textContent = `Downloading \"${filename}\": `;\n",
              "      div.appendChild(label);\n",
              "      const progress = document.createElement('progress');\n",
              "      progress.max = size;\n",
              "      div.appendChild(progress);\n",
              "      document.body.appendChild(div);\n",
              "\n",
              "      const buffers = [];\n",
              "      let downloaded = 0;\n",
              "\n",
              "      const channel = await google.colab.kernel.comms.open(id);\n",
              "      // Send a message to notify the kernel that we're ready.\n",
              "      channel.send({})\n",
              "\n",
              "      for await (const message of channel.messages) {\n",
              "        // Send a message to notify the kernel that we're ready.\n",
              "        channel.send({})\n",
              "        if (message.buffers) {\n",
              "          for (const buffer of message.buffers) {\n",
              "            buffers.push(buffer);\n",
              "            downloaded += buffer.byteLength;\n",
              "            progress.value = downloaded;\n",
              "          }\n",
              "        }\n",
              "      }\n",
              "      const blob = new Blob(buffers, {type: 'application/binary'});\n",
              "      const a = document.createElement('a');\n",
              "      a.href = window.URL.createObjectURL(blob);\n",
              "      a.download = filename;\n",
              "      div.appendChild(a);\n",
              "      a.click();\n",
              "      div.remove();\n",
              "    }\n",
              "  "
            ]
          },
          "metadata": {}
        },
        {
          "output_type": "display_data",
          "data": {
            "text/plain": [
              "<IPython.core.display.Javascript object>"
            ],
            "application/javascript": [
              "download(\"download_84a091f1-f3e7-4c61-a2a5-0f4c4e29e486\", \"checkpoint-48.pt\", 3505081)"
            ]
          },
          "metadata": {}
        }
      ]
    },
    {
      "cell_type": "code",
      "source": [
        "from google.colab import files\n",
        "\n",
        "# 각자 Download 폴더를 확인해 보세요\n",
        "# 이 파일의 이름을 checkpoint-36-pc.pt 로 변경해보고 다시 server로 올려 보겠습니다. \n",
        "files.upload()"
      ],
      "metadata": {
        "id": "1Agr9Es5pxET"
      },
      "execution_count": null,
      "outputs": []
    },
    {
      "cell_type": "markdown",
      "source": [
        "# 해당 파일을 이용하여 Precision, Recall, F1-Score를 분석하겠습니다"
      ],
      "metadata": {
        "id": "PniHk1A69Jgx"
      }
    },
    {
      "cell_type": "code",
      "source": [
        "### 실습 : 일정한 데이터가 오게 Dataloader 재선언\n",
        "train_dataloader = torch.utils.data.DataLoader(train_dataset,\n",
        "                                               batch_size=len(train_dataset),\n",
        "                                               shuffle=False, num_workers=1)"
      ],
      "metadata": {
        "id": "G0us_eHVTQzz"
      },
      "execution_count": null,
      "outputs": []
    },
    {
      "cell_type": "code",
      "source": [
        "# 실습 : Checkpoint  경로를 던지면 모델을 return 해 주는 함수를 작성해보세요\n",
        "##      : CPU 에서 평가를 할 수 있도록 모델을 Load 해야 합니다\n",
        "def load_model_from_checkpoint(ckpt_name):\n",
        "  checkpoint = torch.load(ckpt_name, map_location=torch.device('cpu'))\n",
        "  model = VGG_BatchNormTorch(in_channels=1, out_features=11).to(\"cpu\")\n",
        "  model.load_state_dict(checkpoint[\"model_state_dict\"])\n",
        "  return model"
      ],
      "metadata": {
        "id": "uyJVg4dJSFHc"
      },
      "execution_count": null,
      "outputs": []
    },
    {
      "cell_type": "code",
      "source": [
        "## 실습 : CPU 에서 평가를 할 수 있도록 모델을 Load해 보세요. \n",
        "model = load_model_from_checkpoint('checkpoint-36-pc.pt')"
      ],
      "metadata": {
        "id": "nF0pXELBpw9f"
      },
      "execution_count": null,
      "outputs": []
    },
    {
      "cell_type": "code",
      "source": [
        "model"
      ],
      "metadata": {
        "colab": {
          "base_uri": "https://localhost:8080/"
        },
        "id": "ApAui2zTBsm3",
        "outputId": "bd1e8aaf-618a-4d0b-f806-fef43aa9ad55"
      },
      "execution_count": null,
      "outputs": [
        {
          "output_type": "execute_result",
          "data": {
            "text/plain": [
              "VGG_BatchNormTorch(\n",
              "  (conv1): Conv2d(1, 32, kernel_size=(3, 3), stride=(1, 1), padding=(1, 1))\n",
              "  (norm1): BatchNorm2d(32, eps=1e-05, momentum=0.1, affine=True, track_running_stats=True)\n",
              "  (conv2): Conv2d(32, 32, kernel_size=(3, 3), stride=(1, 1), padding=(1, 1))\n",
              "  (norm2): BatchNorm2d(32, eps=1e-05, momentum=0.1, affine=True, track_running_stats=True)\n",
              "  (conv3): Conv2d(32, 64, kernel_size=(3, 3), stride=(1, 1), padding=(1, 1))\n",
              "  (norm3): BatchNorm2d(64, eps=1e-05, momentum=0.1, affine=True, track_running_stats=True)\n",
              "  (conv4): Conv2d(64, 64, kernel_size=(3, 3), stride=(1, 1), padding=(1, 1))\n",
              "  (norm4): BatchNorm2d(64, eps=1e-05, momentum=0.1, affine=True, track_running_stats=True)\n",
              "  (conv5): Conv2d(64, 128, kernel_size=(3, 3), stride=(1, 1), padding=(1, 1))\n",
              "  (norm5): BatchNorm2d(128, eps=1e-05, momentum=0.1, affine=True, track_running_stats=True)\n",
              "  (conv6): Conv2d(128, 128, kernel_size=(3, 3), stride=(1, 1), padding=(1, 1))\n",
              "  (norm6): BatchNorm2d(128, eps=1e-05, momentum=0.1, affine=True, track_running_stats=True)\n",
              "  (max_pool): MaxPool2d(kernel_size=2, stride=2, padding=0, dilation=1, ceil_mode=False)\n",
              "  (avg_pool): AdaptiveAvgPool2d(output_size=(1, 1))\n",
              "  (fc): Linear(in_features=128, out_features=11, bias=True)\n",
              ")"
            ]
          },
          "metadata": {},
          "execution_count": 89
        }
      ]
    },
    {
      "cell_type": "code",
      "source": [
        "import warnings\n",
        "warnings.filterwarnings(\"ignore\")\n",
        "from sklearn.metrics import precision_score, recall_score, f1_score, accuracy_score\n",
        "\n",
        "### 실습 : model에 대한 성능을 평가하는 모델을 만들어 보세요\n",
        "### 실습 : CPU에서 동작하게 만들어야 합니다\n",
        "def evaluate_performace(model, dataloader, verbose=False):\n",
        "\n",
        "  model.eval()\n",
        "  total = 0.0\n",
        "  correct = 0.0\n",
        "\n",
        "  precision, accuracy, recall, f1score = 0., 0., 0., 0.\n",
        "  cnt = 0\n",
        "\n",
        "  with torch.no_grad():\n",
        "    for images, _,  labels in dataloader:\n",
        "      ### CPU에서 진행하니 .cuda() 미사용!!\n",
        "      images, labels = images.cpu(), labels.cpu()\n",
        "      outputs = model(images)\n",
        "      _, predicted = torch.max(outputs, 1)\n",
        "      \n",
        "      precision += precision_score(labels,predicted, average='macro')\n",
        "      accuracy += accuracy_score(labels,predicted)\n",
        "      recall += recall_score(labels,predicted, average='macro')\n",
        "      f1score += f1_score(labels,predicted, average='macro')\n",
        "      \n",
        "      cnt += 1\n",
        "    \n",
        "  precision = 100 * precision / cnt\n",
        "  accuracy = 100 * accuracy / cnt\n",
        "  recall = 100 * recall / cnt\n",
        "  f1score = f1score / cnt\n",
        "\n",
        "  if verbose:\n",
        "    print(f\"precision:{precision:.2f}, accuracy:{accuracy:.2f}, recall:{recall:.2f}, f1_score:{f1score:.2f}\")\n",
        "  else:\n",
        "    return precision, accuracy, recall, f1score\n",
        "\n",
        "  "
      ],
      "metadata": {
        "id": "a1cM8uOpSgMF"
      },
      "execution_count": null,
      "outputs": []
    },
    {
      "cell_type": "code",
      "source": [
        "evaluate_performace(model, train_dataloader, verbose=True)"
      ],
      "metadata": {
        "colab": {
          "base_uri": "https://localhost:8080/"
        },
        "id": "HtjKW-LPS-W8",
        "outputId": "8e5c3b06-3707-415c-a472-bb333b82d392"
      },
      "execution_count": null,
      "outputs": [
        {
          "output_type": "stream",
          "name": "stdout",
          "text": [
            "precision:89.47, accuracy:87.88, recall:88.09, f1_score:0.88\n"
          ]
        }
      ]
    },
    {
      "cell_type": "markdown",
      "source": [
        "## 과적합이 되었는지 여부 확인을 위해, 여러 check point 에 대해 작업수행"
      ],
      "metadata": {
        "id": "kAcuZbSLPA2N"
      }
    },
    {
      "cell_type": "code",
      "source": [
        "for epoch in [30,36,40,46,50]:\n",
        "  model = load_model_from_checkpoint(f'checkpoint-{epoch}.pt')\n",
        "  print(f\"Epoch [{epoch}] : \", end=\"\")\n",
        "  evaluate_performace(model, train_dataloader, verbose=True)"
      ],
      "metadata": {
        "colab": {
          "base_uri": "https://localhost:8080/"
        },
        "id": "JAwX4vBRP7PU",
        "outputId": "c813effc-1f17-44c2-df7d-43514b27c3eb"
      },
      "execution_count": null,
      "outputs": [
        {
          "output_type": "stream",
          "name": "stdout",
          "text": [
            "Epoch [30] : precision:85.88, accuracy:80.30, recall:80.70, f1_score:0.79\n",
            "Epoch [36] : precision:88.14, accuracy:87.88, recall:88.14, f1_score:0.87\n",
            "Epoch [40] : precision:92.94, accuracy:92.42, recall:92.58, f1_score:0.93\n",
            "Epoch [46] : precision:91.09, accuracy:83.84, recall:83.56, f1_score:0.85\n",
            "Epoch [50] : precision:96.39, accuracy:94.44, recall:94.41, f1_score:0.94\n"
          ]
        }
      ]
    },
    {
      "cell_type": "markdown",
      "source": [
        "# 각 Class에 대한 예측정확도를 파악하고 싶습니다"
      ],
      "metadata": {
        "id": "oQbzPAW_UmHm"
      }
    },
    {
      "cell_type": "code",
      "source": [],
      "metadata": {
        "id": "E1pmI9RbL1kB"
      },
      "execution_count": null,
      "outputs": []
    },
    {
      "cell_type": "code",
      "source": [
        "## 실습 : 전체 데이터를 한번에 가져오고, 이 결과를 기반으로 Report출력\n",
        "train_dataloader = torch.utils.data.DataLoader(train_dataset,\n",
        "                                               batch_size=len(train_dataset),\n",
        "                                               shuffle=False, num_workers=1)\n",
        "\n",
        "labels, predicted,images, names = None, None, None, None\n",
        "with torch.no_grad():\n",
        "  for images, names,  labels in train_dataloader:\n",
        "    ### CPU에서 진행하니 .cuda() 미사용!!\n",
        "    images, labels = images.cpu(), labels.cpu()\n",
        "    outputs = model(images)\n",
        "    _, predicted = torch.max(outputs, 1)\n",
        "\n",
        "from sklearn.metrics import classification_report\n",
        "print(classification_report(labels, predicted))"
      ],
      "metadata": {
        "colab": {
          "base_uri": "https://localhost:8080/"
        },
        "id": "i8u2R9pGUygt",
        "outputId": "d9fcc29c-ab54-4dfa-8bd2-30af5a0479b9"
      },
      "execution_count": null,
      "outputs": [
        {
          "output_type": "stream",
          "name": "stdout",
          "text": [
            "              precision    recall  f1-score   support\n",
            "\n",
            "           0       0.68      1.00      0.81        19\n",
            "           1       1.00      1.00      1.00        18\n",
            "           2       1.00      1.00      1.00        19\n",
            "           3       1.00      1.00      1.00        17\n",
            "           4       1.00      1.00      1.00        17\n",
            "           5       1.00      1.00      1.00        18\n",
            "           6       1.00      1.00      1.00        18\n",
            "           7       1.00      0.94      0.97        18\n",
            "           8       1.00      1.00      1.00        18\n",
            "           9       1.00      0.56      0.71        18\n",
            "          10       1.00      1.00      1.00        18\n",
            "\n",
            "    accuracy                           0.95       198\n",
            "   macro avg       0.97      0.95      0.95       198\n",
            "weighted avg       0.97      0.95      0.95       198\n",
            "\n"
          ]
        }
      ]
    },
    {
      "cell_type": "markdown",
      "source": [
        "# Visualize 해보겠습니다"
      ],
      "metadata": {
        "id": "WW3YT2amVrK6"
      }
    },
    {
      "cell_type": "code",
      "source": [
        "labels.numpy() != predicted.numpy()"
      ],
      "metadata": {
        "id": "WUTlsRcwICzQ"
      },
      "execution_count": null,
      "outputs": []
    },
    {
      "cell_type": "code",
      "source": [
        "idx_diff = np.where(labels.numpy() != predicted.numpy())\n",
        "labels_diff = labels[idx_diff]\n",
        "predicted_diff = predicted[idx_diff]\n",
        "images_diff = images[idx_diff]\n",
        "\n",
        "for t, p in zip(labels_diff, predicted_diff):\n",
        "  print(f\"정답 Label은 {t}, 예측 Label은 {p}\")\n"
      ],
      "metadata": {
        "id": "WW-zeNcmIVmk"
      },
      "execution_count": null,
      "outputs": []
    },
    {
      "cell_type": "code",
      "source": [
        "### 실습 : label 이 0인 이미지 중 5개만 추려서 출력해 봅시다 \n",
        "target_index = np.where(labels.numpy() == 0)[0]\n",
        "print(labels[target_index])\n",
        "random_idx = np.random.choice(target_index, 5)\n",
        "print(random_idx)\n",
        "plt.figure(figsize=(15, 10))\n",
        "for i, idx in enumerate(random_idx):\n",
        "  \n",
        "  plt.subplot(1, 5, i+1)\n",
        "  plt.imshow(images[idx].squeeze(), cmap='gray_r')\n",
        "  plt.title('Digit : {} '.format(names[idx]), fontsize=14)\n",
        "  plt.xticks([]); plt.yticks([])\n"
      ],
      "metadata": {
        "colab": {
          "base_uri": "https://localhost:8080/",
          "height": 233
        },
        "id": "vHG6U_ttWJWn",
        "outputId": "5d76fa78-a0ba-4b92-e509-9d89ae974837"
      },
      "execution_count": null,
      "outputs": [
        {
          "output_type": "stream",
          "name": "stdout",
          "text": [
            "tensor([0, 0, 0, 0, 0, 0, 0, 0, 0, 0, 0, 0, 0, 0, 0, 0, 0, 0, 0])\n",
            "[194 184 189 188 185]\n"
          ]
        },
        {
          "output_type": "display_data",
          "data": {
            "text/plain": [
              "<Figure size 1080x720 with 5 Axes>"
            ],
            "image/png": "[encoded data removed]"
          },
          "metadata": {}
        }
      ]
    },
    {
      "cell_type": "markdown",
      "source": [
        "#  Deep Ensemble 수행"
      ],
      "metadata": {
        "id": "G9P597f7dv_I"
      }
    },
    {
      "cell_type": "code",
      "source": [
        "list_models = []\n",
        "for epoch in [30,36,40,46,50]:\n",
        "  model = load_model_from_checkpoint(f'checkpoint-{epoch}.pt')\n",
        "  list_models.append(model)\n",
        "\n",
        "### 실습 : 일정한 데이터가 오게 Dataloader 재선언\n",
        "train_dataloader = torch.utils.data.DataLoader(train_dataset,\n",
        "                                               batch_size=len(train_dataset),\n",
        "                                               shuffle=False, num_workers=1)"
      ],
      "metadata": {
        "id": "Fv7xCd-Cd6Ks"
      },
      "execution_count": null,
      "outputs": []
    },
    {
      "cell_type": "code",
      "source": [
        "#### 실습 : Deep Ensemble 모델을 구성합니다. \n",
        "#### 여러 모델을 읽어 온 후 그 결과를 Average 하여 정확도를 계산하니다. \n",
        "\n",
        "images, labels = None, None\n",
        "with torch.no_grad():\n",
        "\n",
        "  ### 데이터를 읽어 들이고\n",
        "  for images, names,  labels in train_dataloader:\n",
        "    images, labels = images.cpu(), labels.cpu()\n",
        "\n",
        " \n",
        "  ## 각 모델에 대해 순환 \n",
        "  outputs_stacked = None\n",
        "  for i, model in enumerate(list_models[0:2]):\n",
        "    \n",
        "    outputs = model(images)\n",
        "\n",
        "    if i == 0:\n",
        "      outputs_stacked = outputs\n",
        "    else:\n",
        "      outputs_stacked = torch.stack([outputs_stacked,outputs], dim=2)\n",
        "\n",
        "  #### Ensemble 결과 생성\n",
        "  outputs_ensemble = outputs_stacked.mean(dim=2)\n",
        "  _, predicted = torch.max(outputs_ensemble, 1)\n",
        "    \n",
        "  precision = precision_score(labels,predicted, average='macro')\n",
        "  accuracy = accuracy_score(labels,predicted)\n",
        "  recall = recall_score(labels,predicted, average='macro')\n",
        "  f1score = f1_score(labels,predicted, average='macro')\n",
        "\n",
        "  print(f\"precision:{precision:.2f}, accuracy:{accuracy:.2f}, recall:{recall:.2f}, f1_score:{f1score:.2f}\")\n",
        "    "
      ],
      "metadata": {
        "colab": {
          "base_uri": "https://localhost:8080/"
        },
        "id": "DFngkc6id5x_",
        "outputId": "77a78d8f-61f1-4ec4-9b27-ec921e7cd92e"
      },
      "execution_count": null,
      "outputs": [
        {
          "output_type": "stream",
          "name": "stdout",
          "text": [
            "precision:0.95, accuracy:0.94, recall:0.95, f1_score:0.94\n"
          ]
        }
      ]
    }
  ]
}