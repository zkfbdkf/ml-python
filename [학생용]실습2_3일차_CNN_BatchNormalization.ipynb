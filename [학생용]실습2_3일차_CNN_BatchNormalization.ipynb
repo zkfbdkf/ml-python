{
  "nbformat": 4,
  "nbformat_minor": 0,
  "metadata": {
    "colab": {
      "provenance": [],
      "authorship_tag": "ABX9TyMVgyT7pqF8LmZ6PAGqjzce",
      "include_colab_link": true
    },
    "kernelspec": {
      "name": "python3",
      "display_name": "Python 3"
    },
    "language_info": {
      "name": "python"
    },
    "accelerator": "GPU",
    "gpuClass": "standard",
    "widgets": {
      "application/vnd.jupyter.widget-state+json": {
        "6ace23e27be54f358a2cd9ec6c149e3f": {
          "model_module": "@jupyter-widgets/controls",
          "model_name": "HBoxModel",
          "model_module_version": "1.5.0",
          "state": {
            "_dom_classes": [],
            "_model_module": "@jupyter-widgets/controls",
            "_model_module_version": "1.5.0",
            "_model_name": "HBoxModel",
            "_view_count": null,
            "_view_module": "@jupyter-widgets/controls",
            "_view_module_version": "1.5.0",
            "_view_name": "HBoxView",
            "box_style": "",
            "children": [
              "IPY_MODEL_bfa984522ad54086a6ff6f3cc937be66",
              "IPY_MODEL_1906737f6b384ac8af5094ed82148b12",
              "IPY_MODEL_413408a2a9b34216b5d364ed96058f0f"
            ],
            "layout": "IPY_MODEL_2d8c578ff57a40a7a1c0786bb298d542"
          }
        },
        "bfa984522ad54086a6ff6f3cc937be66": {
          "model_module": "@jupyter-widgets/controls",
          "model_name": "HTMLModel",
          "model_module_version": "1.5.0",
          "state": {
            "_dom_classes": [],
            "_model_module": "@jupyter-widgets/controls",
            "_model_module_version": "1.5.0",
            "_model_name": "HTMLModel",
            "_view_count": null,
            "_view_module": "@jupyter-widgets/controls",
            "_view_module_version": "1.5.0",
            "_view_name": "HTMLView",
            "description": "",
            "description_tooltip": null,
            "layout": "IPY_MODEL_6d329f36103e4234acd785668ccf1326",
            "placeholder": "​",
            "style": "IPY_MODEL_7dd3e852c4c74ceeb0f5ea5c83d6b43c",
            "value": "100%"
          }
        },
        "1906737f6b384ac8af5094ed82148b12": {
          "model_module": "@jupyter-widgets/controls",
          "model_name": "FloatProgressModel",
          "model_module_version": "1.5.0",
          "state": {
            "_dom_classes": [],
            "_model_module": "@jupyter-widgets/controls",
            "_model_module_version": "1.5.0",
            "_model_name": "FloatProgressModel",
            "_view_count": null,
            "_view_module": "@jupyter-widgets/controls",
            "_view_module_version": "1.5.0",
            "_view_name": "ProgressView",
            "bar_style": "success",
            "description": "",
            "description_tooltip": null,
            "layout": "IPY_MODEL_a5ef6669e357462ab1e6dec229958c17",
            "max": 170498071,
            "min": 0,
            "orientation": "horizontal",
            "style": "IPY_MODEL_abb4451bed1f4746bf6f7ebfcfce7e30",
            "value": 170498071
          }
        },
        "413408a2a9b34216b5d364ed96058f0f": {
          "model_module": "@jupyter-widgets/controls",
          "model_name": "HTMLModel",
          "model_module_version": "1.5.0",
          "state": {
            "_dom_classes": [],
            "_model_module": "@jupyter-widgets/controls",
            "_model_module_version": "1.5.0",
            "_model_name": "HTMLModel",
            "_view_count": null,
            "_view_module": "@jupyter-widgets/controls",
            "_view_module_version": "1.5.0",
            "_view_name": "HTMLView",
            "description": "",
            "description_tooltip": null,
            "layout": "IPY_MODEL_ef69486b532a4725b0e0042378223adf",
            "placeholder": "​",
            "style": "IPY_MODEL_3c203f0680994771b48f91ce95da1816",
            "value": " 170498071/170498071 [00:13&lt;00:00, 14705980.48it/s]"
          }
        },
        "2d8c578ff57a40a7a1c0786bb298d542": {
          "model_module": "@jupyter-widgets/base",
          "model_name": "LayoutModel",
          "model_module_version": "1.2.0",
          "state": {
            "_model_module": "@jupyter-widgets/base",
            "_model_module_version": "1.2.0",
            "_model_name": "LayoutModel",
            "_view_count": null,
            "_view_module": "@jupyter-widgets/base",
            "_view_module_version": "1.2.0",
            "_view_name": "LayoutView",
            "align_content": null,
            "align_items": null,
            "align_self": null,
            "border": null,
            "bottom": null,
            "display": null,
            "flex": null,
            "flex_flow": null,
            "grid_area": null,
            "grid_auto_columns": null,
            "grid_auto_flow": null,
            "grid_auto_rows": null,
            "grid_column": null,
            "grid_gap": null,
            "grid_row": null,
            "grid_template_areas": null,
            "grid_template_columns": null,
            "grid_template_rows": null,
            "height": null,
            "justify_content": null,
            "justify_items": null,
            "left": null,
            "margin": null,
            "max_height": null,
            "max_width": null,
            "min_height": null,
            "min_width": null,
            "object_fit": null,
            "object_position": null,
            "order": null,
            "overflow": null,
            "overflow_x": null,
            "overflow_y": null,
            "padding": null,
            "right": null,
            "top": null,
            "visibility": null,
            "width": null
          }
        },
        "6d329f36103e4234acd785668ccf1326": {
          "model_module": "@jupyter-widgets/base",
          "model_name": "LayoutModel",
          "model_module_version": "1.2.0",
          "state": {
            "_model_module": "@jupyter-widgets/base",
            "_model_module_version": "1.2.0",
            "_model_name": "LayoutModel",
            "_view_count": null,
            "_view_module": "@jupyter-widgets/base",
            "_view_module_version": "1.2.0",
            "_view_name": "LayoutView",
            "align_content": null,
            "align_items": null,
            "align_self": null,
            "border": null,
            "bottom": null,
            "display": null,
            "flex": null,
            "flex_flow": null,
            "grid_area": null,
            "grid_auto_columns": null,
            "grid_auto_flow": null,
            "grid_auto_rows": null,
            "grid_column": null,
            "grid_gap": null,
            "grid_row": null,
            "grid_template_areas": null,
            "grid_template_columns": null,
            "grid_template_rows": null,
            "height": null,
            "justify_content": null,
            "justify_items": null,
            "left": null,
            "margin": null,
            "max_height": null,
            "max_width": null,
            "min_height": null,
            "min_width": null,
            "object_fit": null,
            "object_position": null,
            "order": null,
            "overflow": null,
            "overflow_x": null,
            "overflow_y": null,
            "padding": null,
            "right": null,
            "top": null,
            "visibility": null,
            "width": null
          }
        },
        "7dd3e852c4c74ceeb0f5ea5c83d6b43c": {
          "model_module": "@jupyter-widgets/controls",
          "model_name": "DescriptionStyleModel",
          "model_module_version": "1.5.0",
          "state": {
            "_model_module": "@jupyter-widgets/controls",
            "_model_module_version": "1.5.0",
            "_model_name": "DescriptionStyleModel",
            "_view_count": null,
            "_view_module": "@jupyter-widgets/base",
            "_view_module_version": "1.2.0",
            "_view_name": "StyleView",
            "description_width": ""
          }
        },
        "a5ef6669e357462ab1e6dec229958c17": {
          "model_module": "@jupyter-widgets/base",
          "model_name": "LayoutModel",
          "model_module_version": "1.2.0",
          "state": {
            "_model_module": "@jupyter-widgets/base",
            "_model_module_version": "1.2.0",
            "_model_name": "LayoutModel",
            "_view_count": null,
            "_view_module": "@jupyter-widgets/base",
            "_view_module_version": "1.2.0",
            "_view_name": "LayoutView",
            "align_content": null,
            "align_items": null,
            "align_self": null,
            "border": null,
            "bottom": null,
            "display": null,
            "flex": null,
            "flex_flow": null,
            "grid_area": null,
            "grid_auto_columns": null,
            "grid_auto_flow": null,
            "grid_auto_rows": null,
            "grid_column": null,
            "grid_gap": null,
            "grid_row": null,
            "grid_template_areas": null,
            "grid_template_columns": null,
            "grid_template_rows": null,
            "height": null,
            "justify_content": null,
            "justify_items": null,
            "left": null,
            "margin": null,
            "max_height": null,
            "max_width": null,
            "min_height": null,
            "min_width": null,
            "object_fit": null,
            "object_position": null,
            "order": null,
            "overflow": null,
            "overflow_x": null,
            "overflow_y": null,
            "padding": null,
            "right": null,
            "top": null,
            "visibility": null,
            "width": null
          }
        },
        "abb4451bed1f4746bf6f7ebfcfce7e30": {
          "model_module": "@jupyter-widgets/controls",
          "model_name": "ProgressStyleModel",
          "model_module_version": "1.5.0",
          "state": {
            "_model_module": "@jupyter-widgets/controls",
            "_model_module_version": "1.5.0",
            "_model_name": "ProgressStyleModel",
            "_view_count": null,
            "_view_module": "@jupyter-widgets/base",
            "_view_module_version": "1.2.0",
            "_view_name": "StyleView",
            "bar_color": null,
            "description_width": ""
          }
        },
        "ef69486b532a4725b0e0042378223adf": {
          "model_module": "@jupyter-widgets/base",
          "model_name": "LayoutModel",
          "model_module_version": "1.2.0",
          "state": {
            "_model_module": "@jupyter-widgets/base",
            "_model_module_version": "1.2.0",
            "_model_name": "LayoutModel",
            "_view_count": null,
            "_view_module": "@jupyter-widgets/base",
            "_view_module_version": "1.2.0",
            "_view_name": "LayoutView",
            "align_content": null,
            "align_items": null,
            "align_self": null,
            "border": null,
            "bottom": null,
            "display": null,
            "flex": null,
            "flex_flow": null,
            "grid_area": null,
            "grid_auto_columns": null,
            "grid_auto_flow": null,
            "grid_auto_rows": null,
            "grid_column": null,
            "grid_gap": null,
            "grid_row": null,
            "grid_template_areas": null,
            "grid_template_columns": null,
            "grid_template_rows": null,
            "height": null,
            "justify_content": null,
            "justify_items": null,
            "left": null,
            "margin": null,
            "max_height": null,
            "max_width": null,
            "min_height": null,
            "min_width": null,
            "object_fit": null,
            "object_position": null,
            "order": null,
            "overflow": null,
            "overflow_x": null,
            "overflow_y": null,
            "padding": null,
            "right": null,
            "top": null,
            "visibility": null,
            "width": null
          }
        },
        "3c203f0680994771b48f91ce95da1816": {
          "model_module": "@jupyter-widgets/controls",
          "model_name": "DescriptionStyleModel",
          "model_module_version": "1.5.0",
          "state": {
            "_model_module": "@jupyter-widgets/controls",
            "_model_module_version": "1.5.0",
            "_model_name": "DescriptionStyleModel",
            "_view_count": null,
            "_view_module": "@jupyter-widgets/base",
            "_view_module_version": "1.2.0",
            "_view_name": "StyleView",
            "description_width": ""
          }
        }
      }
    }
  },
  "cells": [
    {
      "cell_type": "markdown",
      "metadata": {
        "id": "view-in-github",
        "colab_type": "text"
      },
      "source": [
        "<a href=\"https://colab.research.google.com/github/chminPark/ml-python/blob/master/%5B%ED%95%99%EC%83%9D%EC%9A%A9%5D%EC%8B%A4%EC%8A%B52_3%EC%9D%BC%EC%B0%A8_CNN_BatchNormalization.ipynb\" target=\"_parent\"><img src=\"https://colab.research.google.com/assets/colab-badge.svg\" alt=\"Open In Colab\"/></a>"
      ]
    },
    {
      "cell_type": "code",
      "source": [
        "from __future__ import print_function\n",
        "\n",
        "import torch\n",
        "import torch.nn as nn\n",
        "import torch.nn.functional as F\n",
        "import torch.optim as optim\n",
        "\n",
        "from PIL import Image\n",
        "import matplotlib.pyplot as plt\n",
        "\n",
        "import torchvision\n",
        "import torchvision.transforms as transforms\n",
        "import torchvision.models as models\n",
        "\n",
        "import copy\n",
        "import os\n",
        "import numpy as np \n",
        "import random\n",
        "import time \n",
        "import os\n",
        "\n",
        "torch.backends.cudnn.deterministic = True # Use cudnn as deterministic mode for reproducibility\n",
        "torch.backends.cudnn.benchmark = False"
      ],
      "metadata": {
        "id": "fvM0McnQ8Mx8"
      },
      "execution_count": null,
      "outputs": []
    },
    {
      "cell_type": "markdown",
      "source": [
        "# CIFAR-10 데이터를 이용한다. "
      ],
      "metadata": {
        "id": "oR6SrnSXNdbS"
      }
    },
    {
      "cell_type": "code",
      "source": [
        "##### 실습 : 아래는 어떤 형태로 이미지를 변경하는 것일까요???\n",
        "transform = transforms.Compose([\n",
        "        transforms.RandomCrop(32, padding=4), # Random Crop: Randomly crop the part of the large image and utilize it as an augmented data \n",
        "        transforms.RandomHorizontalFlip(), # Random Horizontal Flip: Randomly flip the image and utilize it as an augmented data\n",
        "        transforms.ToTensor(),\n",
        "        transforms.Normalize(mean=[0.4914, 0.4822, 0.4465], std=[0.2023,0.1994,0.2010]), # Normalize the data using the given mean and standard deviation\n",
        "        ])\n",
        "\n",
        "#Apply data preprocessing for test set\n",
        "transform_test = transforms.Compose([\n",
        "        transforms.ToTensor(), \n",
        "        transforms.Normalize(mean=[0.4914, 0.4822, 0.4465], std=[0.2023,0.1994,0.2010]),\n",
        "        ]) \n",
        "\n",
        "train_dataset = torchvision.datasets.CIFAR10(root='./data', train=True, download=True, transform=transform)\n",
        "test_dataset = torchvision.datasets.CIFAR10(root='./data', train=False, download=True, transform=transform_test)\n",
        "\n",
        "train_loader = torch.utils.data.DataLoader(train_dataset, batch_size=100, shuffle=True) \n",
        "test_loader = torch.utils.data.DataLoader(test_dataset, batch_size=100)  "
      ],
      "metadata": {
        "colab": {
          "base_uri": "https://localhost:8080/",
          "height": 105,
          "referenced_widgets": [
            "6ace23e27be54f358a2cd9ec6c149e3f",
            "bfa984522ad54086a6ff6f3cc937be66",
            "1906737f6b384ac8af5094ed82148b12",
            "413408a2a9b34216b5d364ed96058f0f",
            "2d8c578ff57a40a7a1c0786bb298d542",
            "6d329f36103e4234acd785668ccf1326",
            "7dd3e852c4c74ceeb0f5ea5c83d6b43c",
            "a5ef6669e357462ab1e6dec229958c17",
            "abb4451bed1f4746bf6f7ebfcfce7e30",
            "ef69486b532a4725b0e0042378223adf",
            "3c203f0680994771b48f91ce95da1816"
          ]
        },
        "id": "T5r2VhcQPJwl",
        "outputId": "01c49b14-de55-457a-d605-11df9d16379f"
      },
      "execution_count": null,
      "outputs": [
        {
          "output_type": "stream",
          "name": "stdout",
          "text": [
            "Downloading https://www.cs.toronto.edu/~kriz/cifar-10-python.tar.gz to ./data/cifar-10-python.tar.gz\n"
          ]
        },
        {
          "output_type": "display_data",
          "data": {
            "text/plain": [
              "  0%|          | 0/170498071 [00:00<?, ?it/s]"
            ],
            "application/vnd.jupyter.widget-view+json": {
              "version_major": 2,
              "version_minor": 0,
              "model_id": "6ace23e27be54f358a2cd9ec6c149e3f"
            }
          },
          "metadata": {}
        },
        {
          "output_type": "stream",
          "name": "stdout",
          "text": [
            "Extracting ./data/cifar-10-python.tar.gz to ./data\n",
            "Files already downloaded and verified\n"
          ]
        }
      ]
    },
    {
      "cell_type": "code",
      "source": [
        "# Cifar 데이터는 어떻게 생겼을까?\n",
        "import matplotlib.pyplot as plt\n",
        "import cv2\n",
        "import warnings\n",
        "warnings.filterwarnings(\"ignore\")\n",
        "\n",
        "idxs = np.random.choice(len(train_dataset), 10, replace=False)\n",
        "\n",
        "plt.figure(figsize=(20, 5))\n",
        "for i, idx in enumerate(idxs):\n",
        "\n",
        "  #### 실습 : Index로 데이터 확인\n",
        "  #### 1) Tensor to Numpy 2) BGR to RGB\n",
        "  ???\n",
        "  #########################################\n",
        "\n",
        "  plt.subplot(2, 10, i+1)\n",
        "  plt.imshow(image.astype(np.uint8))\n",
        "  plt.subplot(2, 10, i+11)\n",
        "  plt.imshow(image_converted.astype(np.uint8))\n"
      ],
      "metadata": {
        "colab": {
          "base_uri": "https://localhost:8080/",
          "height": 234
        },
        "id": "mlsGEtJCPPGx",
        "outputId": "4b9e34ef-1f1c-48cc-d152-843860a0a18f"
      },
      "execution_count": null,
      "outputs": [
        {
          "output_type": "display_data",
          "data": {
            "text/plain": [
              "<Figure size 1440x360 with 20 Axes>"
            ],
            "image/png": "[encoded data removed]"
          },
          "metadata": {
            "needs_background": "light"
          }
        }
      ]
    },
    {
      "cell_type": "markdown",
      "source": [
        "# VGG구조\n",
        "![](https://drive.google.com/uc?export=view&id=1I2AYVIxViWv2Rf9Y9tOWeOo-H2bjZo9K)\n",
        "\n"
      ],
      "metadata": {
        "id": "6gnGTI-ANNHJ"
      }
    },
    {
      "cell_type": "code",
      "source": [
        "class VGG(nn.Module):\n",
        "    def __init__(self):\n",
        "      super(VGG, self).__init__()\n",
        "\n",
        "      ##### 실습 : 위 그림에 있는 CNN구성 요소 선언\n",
        "      ???\n",
        "\n",
        "    def forward(self, x):\n",
        "      #### 실습 : VGG를 구성한다. \n",
        "      ???\n",
        "      return x"
      ],
      "metadata": {
        "id": "01E_p1DUU0LO"
      },
      "execution_count": null,
      "outputs": []
    },
    {
      "cell_type": "code",
      "source": [
        "def reset_seed(seed):\n",
        "    torch.manual_seed(seed)\n",
        "    np.random.seed(seed)\n",
        "    random.seed(seed)"
      ],
      "metadata": {
        "id": "_1QV7UevU0D8"
      },
      "execution_count": null,
      "outputs": []
    },
    {
      "cell_type": "markdown",
      "source": [
        "# 학습함수를 선언하고 학습을 수행한다"
      ],
      "metadata": {
        "id": "gpA1CP5kZ-nD"
      }
    },
    {
      "cell_type": "code",
      "source": [
        "def train(model, data_loader, criterion, optimizer, n_epoch):\n",
        "  ### 실습 : 학습 중임을 알림\n",
        "  ???\n",
        "  for epoch in range(n_epoch):\n",
        "    running_loss = 0\n",
        "    for i, (images, labels) in enumerate(data_loader):\n",
        "      ### 실습 : 데이터를 GPU로 할당\n",
        "      ???\n",
        "      outputs = model(images)\n",
        "      loss = criterion(outputs, labels)\n",
        "      \n",
        "      optimizer.zero_grad()\n",
        "      loss.backward()\n",
        "      optimizer.step()\n",
        "      running_loss += loss.item()\n",
        "      if (i + 1) % 100 == 0:\n",
        "        print('iteration: [{}/{}]'.format(i + 1, len(data_loader)))\n",
        "          \n",
        "    print('Epoch {}, loss = {:.3f}'.format(epoch + 1, running_loss/len(data_loader)))"
      ],
      "metadata": {
        "id": "XdzlE2_OUz33"
      },
      "execution_count": null,
      "outputs": []
    },
    {
      "cell_type": "code",
      "source": [
        "reset_seed(2020)\n",
        "criterion = nn.CrossEntropyLoss()\n",
        "##### 실습 : 모델을 GPU에 할당한다. \n",
        "vgg_model =???\n",
        "\n",
        "##### Adam 최적화 모델을 할당한다\n",
        "optimizer = ???\n",
        "\n",
        "train(vgg_model, train_loader, criterion, optimizer, n_epoch=10)"
      ],
      "metadata": {
        "colab": {
          "base_uri": "https://localhost:8080/"
        },
        "id": "DV3Zjb9BVo15",
        "outputId": "095fa86e-60a7-42ef-d5a9-638621365057"
      },
      "execution_count": null,
      "outputs": [
        {
          "output_type": "stream",
          "name": "stdout",
          "text": [
            "iteration: [100/500]\n",
            "iteration: [200/500]\n",
            "iteration: [300/500]\n",
            "iteration: [400/500]\n",
            "iteration: [500/500]\n",
            "Epoch 1, loss = 1.754\n",
            "iteration: [100/500]\n",
            "iteration: [200/500]\n",
            "iteration: [300/500]\n",
            "iteration: [400/500]\n",
            "iteration: [500/500]\n",
            "Epoch 2, loss = 1.343\n",
            "iteration: [100/500]\n",
            "iteration: [200/500]\n",
            "iteration: [300/500]\n",
            "iteration: [400/500]\n",
            "iteration: [500/500]\n",
            "Epoch 3, loss = 1.113\n",
            "iteration: [100/500]\n",
            "iteration: [200/500]\n",
            "iteration: [300/500]\n",
            "iteration: [400/500]\n",
            "iteration: [500/500]\n",
            "Epoch 4, loss = 0.982\n",
            "iteration: [100/500]\n",
            "iteration: [200/500]\n",
            "iteration: [300/500]\n",
            "iteration: [400/500]\n",
            "iteration: [500/500]\n",
            "Epoch 5, loss = 0.884\n",
            "iteration: [100/500]\n",
            "iteration: [200/500]\n",
            "iteration: [300/500]\n",
            "iteration: [400/500]\n",
            "iteration: [500/500]\n",
            "Epoch 6, loss = 0.801\n",
            "iteration: [100/500]\n",
            "iteration: [200/500]\n",
            "iteration: [300/500]\n",
            "iteration: [400/500]\n",
            "iteration: [500/500]\n",
            "Epoch 7, loss = 0.736\n",
            "iteration: [100/500]\n",
            "iteration: [200/500]\n",
            "iteration: [300/500]\n",
            "iteration: [400/500]\n",
            "iteration: [500/500]\n",
            "Epoch 8, loss = 0.688\n",
            "iteration: [100/500]\n",
            "iteration: [200/500]\n",
            "iteration: [300/500]\n",
            "iteration: [400/500]\n",
            "iteration: [500/500]\n",
            "Epoch 9, loss = 0.650\n",
            "iteration: [100/500]\n",
            "iteration: [200/500]\n",
            "iteration: [300/500]\n",
            "iteration: [400/500]\n",
            "iteration: [500/500]\n",
            "Epoch 10, loss = 0.614\n"
          ]
        }
      ]
    },
    {
      "cell_type": "markdown",
      "source": [
        "# 평가 함수를 구성하고 평가 정확도를 확인한다"
      ],
      "metadata": {
        "id": "lGaoRR1iZ5Nt"
      }
    },
    {
      "cell_type": "code",
      "source": [
        "def eval(model, data_loader):\n",
        "  #### 실습 : 평가를 위해서는 eval()을 선언\n",
        "  ???\n",
        "  total = 0\n",
        "  correct = 0\n",
        "  #### 실습 : Gradient를 타지 않아야 한다\n",
        "  with ???:\n",
        "    for images, labels in data_loader:\n",
        "      images, labels = images.cuda(), labels.cuda()\n",
        "      outputs = model(images)\n",
        "      _, predicted = torch.max(outputs, 1)\n",
        "      total += labels.size(0)\n",
        "      correct += (predicted == labels).sum().item()\n",
        "    accuracy = 100 * correct / total\n",
        "      \n",
        "  print('Test Accuracy: {}%'.format(accuracy))"
      ],
      "metadata": {
        "id": "1aX7lDqDWPGW"
      },
      "execution_count": null,
      "outputs": []
    },
    {
      "cell_type": "code",
      "source": [
        "eval(vgg_model, test_loader)"
      ],
      "metadata": {
        "colab": {
          "base_uri": "https://localhost:8080/"
        },
        "id": "rwbjZYTFZ3ae",
        "outputId": "458ef6aa-b1a2-48f4-a2a1-732580134274"
      },
      "execution_count": null,
      "outputs": [
        {
          "output_type": "stream",
          "name": "stdout",
          "text": [
            "Test Accuracy: 78.01%\n"
          ]
        }
      ]
    },
    {
      "cell_type": "markdown",
      "source": [
        "# Batch Normalization을 구현한다"
      ],
      "metadata": {
        "id": "EnLYfRsgaf1W"
      }
    },
    {
      "cell_type": "code",
      "source": [
        "class MyBatchNorm2d(nn.Module):\n",
        "  def __init__(self, num_features, alpha=0.1):\n",
        "    super(MyBatchNorm2d, self).__init__()\n",
        "\n",
        "    ######### 실습 : 각 Channel에 대해 Scale & Shift할 인자를 정의한다\n",
        "    self.gamma =???\n",
        "    self.beta =???\n",
        "    \n",
        "    self.running_mean = 0\n",
        "    self.running_var = 0\n",
        "    self.n_batches = 0\n",
        "    self.alpha = alpha\n",
        "      \n",
        "  def forward(self, input):\n",
        "      \n",
        "    if self.training: # 'model.train()' 이 호출되면 자동으로 True로 세팅됨\n",
        "      self.n_batches += 1\n",
        "      ### 실습 : Channel이 차원 1에 있음. 나머지 영역에서 Mean/Var계산\n",
        "      mean = ???\n",
        "      var = ???\n",
        "      \n",
        "      if self.n_batches == 1:\n",
        "        ##### 실습 : 첫 Batch에는 평균/분산을 저장한다\n",
        "        ???\n",
        "      else:\n",
        "        ##### 실습 : 평균, 분산에 대한 Moving Average를 계산한다\n",
        "        ???\n",
        "    \n",
        "    else: # 'model.eval()' 이 호출되면 자동으로 True로 세팅됨\n",
        "      ##### 실습 : infernece 시에는 학습 시 저장한 값 활용\n",
        "      ???\n",
        "        \n",
        "    #### 실습 : Standardization \n",
        "    output = ???\n",
        "    #### 실습 : 각 channel에 있는 값에 scale & shift 수행\n",
        "    output = ???\n",
        "    \n",
        "    return output"
      ],
      "metadata": {
        "id": "76wpBLxdafGK"
      },
      "execution_count": null,
      "outputs": []
    },
    {
      "cell_type": "markdown",
      "source": [
        "# Barch Norm이 들어간 VGG를 구현한다\n",
        "\n",
        "![](https://drive.google.com/uc?export=view&id=1vLrvhxczx1ZCOH05cxzzESylaOaF1Uj2)\n"
      ],
      "metadata": {
        "id": "c3qipGwJazO-"
      }
    },
    {
      "cell_type": "code",
      "source": [
        "class VGG_BatchNorm(nn.Module):\n",
        "  def __init__(self):\n",
        "    super(VGG_BatchNorm, self).__init__()\n",
        "    #### 실습 : BatchNormalization이 들어가 있는 구조 선언\n",
        "    ???\n",
        "\n",
        "  def forward(self, x):\n",
        "    #### 실습 : Batch Norm을 Convolution 이후에 선언 \n",
        "    ???\n",
        "    return x"
      ],
      "metadata": {
        "id": "tHCxl7AebLCX"
      },
      "execution_count": null,
      "outputs": []
    },
    {
      "cell_type": "code",
      "source": [
        "reset_seed(2020)\n",
        "criterion = nn.CrossEntropyLoss()\n",
        "vgg_batchnorm_model = VGG_BatchNorm().to(\"cuda\")\n",
        "optimizer = optim.Adam(params=vgg_batchnorm_model.parameters())\n",
        "\n",
        "train(vgg_batchnorm_model, train_loader, criterion, optimizer, n_epoch=10)"
      ],
      "metadata": {
        "colab": {
          "base_uri": "https://localhost:8080/"
        },
        "id": "OfRIehkLbLm7",
        "outputId": "2e6f7f09-ee51-479a-9a42-145b22e5b2c2"
      },
      "execution_count": null,
      "outputs": [
        {
          "output_type": "stream",
          "name": "stdout",
          "text": [
            "iteration: [100/500]\n",
            "iteration: [200/500]\n",
            "iteration: [300/500]\n",
            "iteration: [400/500]\n",
            "iteration: [500/500]\n",
            "Epoch 1, loss = 1.307\n",
            "iteration: [100/500]\n",
            "iteration: [200/500]\n",
            "iteration: [300/500]\n",
            "iteration: [400/500]\n",
            "iteration: [500/500]\n",
            "Epoch 2, loss = 0.908\n",
            "iteration: [100/500]\n",
            "iteration: [200/500]\n",
            "iteration: [300/500]\n",
            "iteration: [400/500]\n",
            "iteration: [500/500]\n",
            "Epoch 3, loss = 0.761\n",
            "iteration: [100/500]\n",
            "iteration: [200/500]\n",
            "iteration: [300/500]\n",
            "iteration: [400/500]\n",
            "iteration: [500/500]\n",
            "Epoch 4, loss = 0.666\n",
            "iteration: [100/500]\n",
            "iteration: [200/500]\n",
            "iteration: [300/500]\n",
            "iteration: [400/500]\n",
            "iteration: [500/500]\n",
            "Epoch 5, loss = 0.604\n",
            "iteration: [100/500]\n",
            "iteration: [200/500]\n",
            "iteration: [300/500]\n",
            "iteration: [400/500]\n",
            "iteration: [500/500]\n",
            "Epoch 6, loss = 0.561\n",
            "iteration: [100/500]\n",
            "iteration: [200/500]\n",
            "iteration: [300/500]\n",
            "iteration: [400/500]\n",
            "iteration: [500/500]\n",
            "Epoch 7, loss = 0.525\n",
            "iteration: [100/500]\n",
            "iteration: [200/500]\n",
            "iteration: [300/500]\n",
            "iteration: [400/500]\n",
            "iteration: [500/500]\n",
            "Epoch 8, loss = 0.498\n",
            "iteration: [100/500]\n",
            "iteration: [200/500]\n",
            "iteration: [300/500]\n",
            "iteration: [400/500]\n",
            "iteration: [500/500]\n",
            "Epoch 9, loss = 0.468\n",
            "iteration: [100/500]\n",
            "iteration: [200/500]\n",
            "iteration: [300/500]\n",
            "iteration: [400/500]\n",
            "iteration: [500/500]\n",
            "Epoch 10, loss = 0.446\n"
          ]
        }
      ]
    },
    {
      "cell_type": "code",
      "source": [
        "eval(vgg_batchnorm_model, test_loader)"
      ],
      "metadata": {
        "colab": {
          "base_uri": "https://localhost:8080/"
        },
        "id": "B6Yd4Z3WbL9i",
        "outputId": "04ac5f05-390a-4980-f726-8042cd1f0fc1"
      },
      "execution_count": null,
      "outputs": [
        {
          "output_type": "stream",
          "name": "stdout",
          "text": [
            "Test Accuracy: 81.96%\n"
          ]
        }
      ]
    },
    {
      "cell_type": "markdown",
      "source": [
        "# Pytorch 의 BatchNorm2D를 이용"
      ],
      "metadata": {
        "id": "CB27ugshk9p9"
      }
    },
    {
      "cell_type": "code",
      "source": [
        "class VGG_BatchNormTorch(nn.Module):\n",
        "  def __init__(self):\n",
        "    ### 실습 : 객체 이름과 초기화 이름은 똑같아야 한다\n",
        "    super(???, self).__init__()\n",
        "    self.conv1 = nn.Conv2d(in_channels=3, out_channels=32, kernel_size=3, padding=1) \n",
        "    #### 실습 : Batch Norm 을 Pytorch의 값으로 변경한다 \n",
        "    self.norm1 = ???\n",
        "    self.conv2 = nn.Conv2d(in_channels=32, out_channels=32, kernel_size=3, padding=1)\n",
        "    self.norm2 =???\n",
        "    \n",
        "    self.conv3 = nn.Conv2d(in_channels=32, out_channels=64, kernel_size=3, padding=1)\n",
        "    #### 실습 : Batch Norm 을 Pytorch의 값으로 변경한다 \n",
        "    self.norm3 = ???\n",
        "    \n",
        "    self.conv4 = nn.Conv2d(in_channels=64, out_channels=64, kernel_size=3, padding=1)\n",
        "    #### 실습 : Batch Norm 을 Pytorch의 값으로 변경한다 \n",
        "    self.norm4 =???\n",
        "\n",
        "    self.conv5 = nn.Conv2d(in_channels=64, out_channels=128, kernel_size=3, padding=1)\n",
        "    #### 실습 : Batch Norm 을 Pytorch의 값으로 변경한다 \n",
        "    self.norm5 = ???\n",
        "    self.conv6 = nn.Conv2d(in_channels=128, out_channels=128, kernel_size=3, padding=1)\n",
        "    #### 실습 : Batch Norm 을 Pytorch의 값으로 변경한다 \n",
        "    self.norm6 =???\n",
        "\n",
        "    self.max_pool = nn.MaxPool2d(kernel_size=2, stride=2) #Maxpooling layer to change feature size \n",
        "    self.avg_pool = nn.AdaptiveAvgPool2d(output_size = (1, 1)) #Note that average pooling layer is not adopted in original VGG architecture. We use average pooling layer to make the architecture for experiment simple.\n",
        "\n",
        "    self.fc = nn.Linear(in_features=128, out_features=10)\n",
        "\n",
        "  def forward(self, x):\n",
        "    #### 실습 : Batch Norm을 Convolution 이후에 선언 \n",
        "    x = ???\n",
        "    x = F.relu(x)\n",
        "    x = ???\n",
        "    x = F.relu(x)\n",
        "    x = self.max_pool(x)\n",
        "\n",
        "    x = ???\n",
        "    x = F.relu(x)\n",
        "    x = ???\n",
        "    x = F.relu(x)\n",
        "    x = self.max_pool(x)\n",
        "\n",
        "    x = ???\n",
        "    x = F.relu(x)\n",
        "    x = ???\n",
        "    x = F.relu(x)\n",
        "\n",
        "    x = self.avg_pool(x)\n",
        "    x = x.view(-1, 128)\n",
        "    x = self.fc(x)\n",
        "    return x"
      ],
      "metadata": {
        "id": "Pbg1Yh_Ik9LA"
      },
      "execution_count": null,
      "outputs": []
    },
    {
      "cell_type": "code",
      "source": [
        "reset_seed(2020)\n",
        "criterion = nn.CrossEntropyLoss()\n",
        "vgg_batchnorm_model_torch = VGG_BatchNormTorch().to(\"cuda\")\n",
        "optimizer = optim.Adam(params=vgg_batchnorm_model_torch.parameters())\n",
        "\n",
        "train(vgg_batchnorm_model_torch, train_loader, criterion, optimizer, n_epoch=10)"
      ],
      "metadata": {
        "colab": {
          "base_uri": "https://localhost:8080/"
        },
        "id": "nyXxMNAqldlT",
        "outputId": "50d5596d-2901-47e9-ff6a-10aec7fb60a4"
      },
      "execution_count": null,
      "outputs": [
        {
          "output_type": "stream",
          "name": "stdout",
          "text": [
            "iteration: [100/500]\n",
            "iteration: [200/500]\n",
            "iteration: [300/500]\n",
            "iteration: [400/500]\n",
            "iteration: [500/500]\n",
            "Epoch 1, loss = 1.307\n",
            "iteration: [100/500]\n",
            "iteration: [200/500]\n",
            "iteration: [300/500]\n",
            "iteration: [400/500]\n",
            "iteration: [500/500]\n",
            "Epoch 2, loss = 0.910\n",
            "iteration: [100/500]\n",
            "iteration: [200/500]\n",
            "iteration: [300/500]\n",
            "iteration: [400/500]\n",
            "iteration: [500/500]\n",
            "Epoch 3, loss = 0.765\n",
            "iteration: [100/500]\n",
            "iteration: [200/500]\n",
            "iteration: [300/500]\n",
            "iteration: [400/500]\n",
            "iteration: [500/500]\n",
            "Epoch 4, loss = 0.669\n",
            "iteration: [100/500]\n",
            "iteration: [200/500]\n",
            "iteration: [300/500]\n",
            "iteration: [400/500]\n",
            "iteration: [500/500]\n",
            "Epoch 5, loss = 0.607\n",
            "iteration: [100/500]\n",
            "iteration: [200/500]\n",
            "iteration: [300/500]\n",
            "iteration: [400/500]\n",
            "iteration: [500/500]\n",
            "Epoch 6, loss = 0.563\n",
            "iteration: [100/500]\n",
            "iteration: [200/500]\n",
            "iteration: [300/500]\n",
            "iteration: [400/500]\n",
            "iteration: [500/500]\n",
            "Epoch 7, loss = 0.524\n",
            "iteration: [100/500]\n",
            "iteration: [200/500]\n",
            "iteration: [300/500]\n",
            "iteration: [400/500]\n",
            "iteration: [500/500]\n",
            "Epoch 8, loss = 0.494\n",
            "iteration: [100/500]\n",
            "iteration: [200/500]\n",
            "iteration: [300/500]\n",
            "iteration: [400/500]\n",
            "iteration: [500/500]\n",
            "Epoch 9, loss = 0.467\n",
            "iteration: [100/500]\n",
            "iteration: [200/500]\n",
            "iteration: [300/500]\n",
            "iteration: [400/500]\n",
            "iteration: [500/500]\n",
            "Epoch 10, loss = 0.447\n"
          ]
        }
      ]
    },
    {
      "cell_type": "code",
      "source": [
        "eval(vgg_batchnorm_model_torch, test_loader)"
      ],
      "metadata": {
        "colab": {
          "base_uri": "https://localhost:8080/"
        },
        "id": "q0ue_xzhlqRR",
        "outputId": "c9ac890b-7f88-47bb-f44b-bf352306ba93"
      },
      "execution_count": null,
      "outputs": [
        {
          "output_type": "stream",
          "name": "stdout",
          "text": [
            "Test Accuracy: 81.89%\n"
          ]
        }
      ]
    }
  ]
}