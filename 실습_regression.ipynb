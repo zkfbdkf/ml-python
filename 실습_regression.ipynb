{
  "nbformat": 4,
  "nbformat_minor": 0,
  "metadata": {
    "colab": {
      "provenance": [],
      "collapsed_sections": [
        "zHahUc0s88jO",
        "oQRPtucGQV4q",
        "hhzB5Xs2WRae",
        "xXwBn-6VWl_k"
      ],
      "authorship_tag": "ABX9TyPfMhbTy+zpvlnRWmZVmtMM",
      "include_colab_link": true
    },
    "kernelspec": {
      "name": "python3",
      "display_name": "Python 3"
    },
    "language_info": {
      "name": "python"
    },
    "widgets": {
      "application/vnd.jupyter.widget-state+json": {
        "44a7a0df842c44ec9e4d222c8e2f0b27": {
          "model_module": "@jupyter-widgets/controls",
          "model_name": "HBoxModel",
          "model_module_version": "1.5.0",
          "state": {
            "_dom_classes": [],
            "_model_module": "@jupyter-widgets/controls",
            "_model_module_version": "1.5.0",
            "_model_name": "HBoxModel",
            "_view_count": null,
            "_view_module": "@jupyter-widgets/controls",
            "_view_module_version": "1.5.0",
            "_view_name": "HBoxView",
            "box_style": "",
            "children": [
              "IPY_MODEL_52bf7fa96ea9463aa4e02c5dff17daf1",
              "IPY_MODEL_a299206ab09f460498eb01280d874918",
              "IPY_MODEL_504170e4d99643978903ab9c09340a2d"
            ],
            "layout": "IPY_MODEL_0e2630fe4a764b178691227666cc174b"
          }
        },
        "52bf7fa96ea9463aa4e02c5dff17daf1": {
          "model_module": "@jupyter-widgets/controls",
          "model_name": "HTMLModel",
          "model_module_version": "1.5.0",
          "state": {
            "_dom_classes": [],
            "_model_module": "@jupyter-widgets/controls",
            "_model_module_version": "1.5.0",
            "_model_name": "HTMLModel",
            "_view_count": null,
            "_view_module": "@jupyter-widgets/controls",
            "_view_module_version": "1.5.0",
            "_view_name": "HTMLView",
            "description": "",
            "description_tooltip": null,
            "layout": "IPY_MODEL_704ce9767dfa4aedb52f9b9f1b6b6bb8",
            "placeholder": "​",
            "style": "IPY_MODEL_b7f5a894268c401ba256f1eaca602ec0",
            "value": "100%"
          }
        },
        "a299206ab09f460498eb01280d874918": {
          "model_module": "@jupyter-widgets/controls",
          "model_name": "FloatProgressModel",
          "model_module_version": "1.5.0",
          "state": {
            "_dom_classes": [],
            "_model_module": "@jupyter-widgets/controls",
            "_model_module_version": "1.5.0",
            "_model_name": "FloatProgressModel",
            "_view_count": null,
            "_view_module": "@jupyter-widgets/controls",
            "_view_module_version": "1.5.0",
            "_view_name": "ProgressView",
            "bar_style": "success",
            "description": "",
            "description_tooltip": null,
            "layout": "IPY_MODEL_68abb96177e2420285cb273eea72ee88",
            "max": 9912422,
            "min": 0,
            "orientation": "horizontal",
            "style": "IPY_MODEL_f515f81b67a145cf8d82480c1653979e",
            "value": 9912422
          }
        },
        "504170e4d99643978903ab9c09340a2d": {
          "model_module": "@jupyter-widgets/controls",
          "model_name": "HTMLModel",
          "model_module_version": "1.5.0",
          "state": {
            "_dom_classes": [],
            "_model_module": "@jupyter-widgets/controls",
            "_model_module_version": "1.5.0",
            "_model_name": "HTMLModel",
            "_view_count": null,
            "_view_module": "@jupyter-widgets/controls",
            "_view_module_version": "1.5.0",
            "_view_name": "HTMLView",
            "description": "",
            "description_tooltip": null,
            "layout": "IPY_MODEL_c793a03ac1f043b88a3e5cfb709bf465",
            "placeholder": "​",
            "style": "IPY_MODEL_6ed30423e8f642ef893b3a8a78231676",
            "value": " 9912422/9912422 [00:00&lt;00:00, 33008906.08it/s]"
          }
        },
        "0e2630fe4a764b178691227666cc174b": {
          "model_module": "@jupyter-widgets/base",
          "model_name": "LayoutModel",
          "model_module_version": "1.2.0",
          "state": {
            "_model_module": "@jupyter-widgets/base",
            "_model_module_version": "1.2.0",
            "_model_name": "LayoutModel",
            "_view_count": null,
            "_view_module": "@jupyter-widgets/base",
            "_view_module_version": "1.2.0",
            "_view_name": "LayoutView",
            "align_content": null,
            "align_items": null,
            "align_self": null,
            "border": null,
            "bottom": null,
            "display": null,
            "flex": null,
            "flex_flow": null,
            "grid_area": null,
            "grid_auto_columns": null,
            "grid_auto_flow": null,
            "grid_auto_rows": null,
            "grid_column": null,
            "grid_gap": null,
            "grid_row": null,
            "grid_template_areas": null,
            "grid_template_columns": null,
            "grid_template_rows": null,
            "height": null,
            "justify_content": null,
            "justify_items": null,
            "left": null,
            "margin": null,
            "max_height": null,
            "max_width": null,
            "min_height": null,
            "min_width": null,
            "object_fit": null,
            "object_position": null,
            "order": null,
            "overflow": null,
            "overflow_x": null,
            "overflow_y": null,
            "padding": null,
            "right": null,
            "top": null,
            "visibility": null,
            "width": null
          }
        },
        "704ce9767dfa4aedb52f9b9f1b6b6bb8": {
          "model_module": "@jupyter-widgets/base",
          "model_name": "LayoutModel",
          "model_module_version": "1.2.0",
          "state": {
            "_model_module": "@jupyter-widgets/base",
            "_model_module_version": "1.2.0",
            "_model_name": "LayoutModel",
            "_view_count": null,
            "_view_module": "@jupyter-widgets/base",
            "_view_module_version": "1.2.0",
            "_view_name": "LayoutView",
            "align_content": null,
            "align_items": null,
            "align_self": null,
            "border": null,
            "bottom": null,
            "display": null,
            "flex": null,
            "flex_flow": null,
            "grid_area": null,
            "grid_auto_columns": null,
            "grid_auto_flow": null,
            "grid_auto_rows": null,
            "grid_column": null,
            "grid_gap": null,
            "grid_row": null,
            "grid_template_areas": null,
            "grid_template_columns": null,
            "grid_template_rows": null,
            "height": null,
            "justify_content": null,
            "justify_items": null,
            "left": null,
            "margin": null,
            "max_height": null,
            "max_width": null,
            "min_height": null,
            "min_width": null,
            "object_fit": null,
            "object_position": null,
            "order": null,
            "overflow": null,
            "overflow_x": null,
            "overflow_y": null,
            "padding": null,
            "right": null,
            "top": null,
            "visibility": null,
            "width": null
          }
        },
        "b7f5a894268c401ba256f1eaca602ec0": {
          "model_module": "@jupyter-widgets/controls",
          "model_name": "DescriptionStyleModel",
          "model_module_version": "1.5.0",
          "state": {
            "_model_module": "@jupyter-widgets/controls",
            "_model_module_version": "1.5.0",
            "_model_name": "DescriptionStyleModel",
            "_view_count": null,
            "_view_module": "@jupyter-widgets/base",
            "_view_module_version": "1.2.0",
            "_view_name": "StyleView",
            "description_width": ""
          }
        },
        "68abb96177e2420285cb273eea72ee88": {
          "model_module": "@jupyter-widgets/base",
          "model_name": "LayoutModel",
          "model_module_version": "1.2.0",
          "state": {
            "_model_module": "@jupyter-widgets/base",
            "_model_module_version": "1.2.0",
            "_model_name": "LayoutModel",
            "_view_count": null,
            "_view_module": "@jupyter-widgets/base",
            "_view_module_version": "1.2.0",
            "_view_name": "LayoutView",
            "align_content": null,
            "align_items": null,
            "align_self": null,
            "border": null,
            "bottom": null,
            "display": null,
            "flex": null,
            "flex_flow": null,
            "grid_area": null,
            "grid_auto_columns": null,
            "grid_auto_flow": null,
            "grid_auto_rows": null,
            "grid_column": null,
            "grid_gap": null,
            "grid_row": null,
            "grid_template_areas": null,
            "grid_template_columns": null,
            "grid_template_rows": null,
            "height": null,
            "justify_content": null,
            "justify_items": null,
            "left": null,
            "margin": null,
            "max_height": null,
            "max_width": null,
            "min_height": null,
            "min_width": null,
            "object_fit": null,
            "object_position": null,
            "order": null,
            "overflow": null,
            "overflow_x": null,
            "overflow_y": null,
            "padding": null,
            "right": null,
            "top": null,
            "visibility": null,
            "width": null
          }
        },
        "f515f81b67a145cf8d82480c1653979e": {
          "model_module": "@jupyter-widgets/controls",
          "model_name": "ProgressStyleModel",
          "model_module_version": "1.5.0",
          "state": {
            "_model_module": "@jupyter-widgets/controls",
            "_model_module_version": "1.5.0",
            "_model_name": "ProgressStyleModel",
            "_view_count": null,
            "_view_module": "@jupyter-widgets/base",
            "_view_module_version": "1.2.0",
            "_view_name": "StyleView",
            "bar_color": null,
            "description_width": ""
          }
        },
        "c793a03ac1f043b88a3e5cfb709bf465": {
          "model_module": "@jupyter-widgets/base",
          "model_name": "LayoutModel",
          "model_module_version": "1.2.0",
          "state": {
            "_model_module": "@jupyter-widgets/base",
            "_model_module_version": "1.2.0",
            "_model_name": "LayoutModel",
            "_view_count": null,
            "_view_module": "@jupyter-widgets/base",
            "_view_module_version": "1.2.0",
            "_view_name": "LayoutView",
            "align_content": null,
            "align_items": null,
            "align_self": null,
            "border": null,
            "bottom": null,
            "display": null,
            "flex": null,
            "flex_flow": null,
            "grid_area": null,
            "grid_auto_columns": null,
            "grid_auto_flow": null,
            "grid_auto_rows": null,
            "grid_column": null,
            "grid_gap": null,
            "grid_row": null,
            "grid_template_areas": null,
            "grid_template_columns": null,
            "grid_template_rows": null,
            "height": null,
            "justify_content": null,
            "justify_items": null,
            "left": null,
            "margin": null,
            "max_height": null,
            "max_width": null,
            "min_height": null,
            "min_width": null,
            "object_fit": null,
            "object_position": null,
            "order": null,
            "overflow": null,
            "overflow_x": null,
            "overflow_y": null,
            "padding": null,
            "right": null,
            "top": null,
            "visibility": null,
            "width": null
          }
        },
        "6ed30423e8f642ef893b3a8a78231676": {
          "model_module": "@jupyter-widgets/controls",
          "model_name": "DescriptionStyleModel",
          "model_module_version": "1.5.0",
          "state": {
            "_model_module": "@jupyter-widgets/controls",
            "_model_module_version": "1.5.0",
            "_model_name": "DescriptionStyleModel",
            "_view_count": null,
            "_view_module": "@jupyter-widgets/base",
            "_view_module_version": "1.2.0",
            "_view_name": "StyleView",
            "description_width": ""
          }
        },
        "a591eedc0be74fa290fc9e02d6710311": {
          "model_module": "@jupyter-widgets/controls",
          "model_name": "HBoxModel",
          "model_module_version": "1.5.0",
          "state": {
            "_dom_classes": [],
            "_model_module": "@jupyter-widgets/controls",
            "_model_module_version": "1.5.0",
            "_model_name": "HBoxModel",
            "_view_count": null,
            "_view_module": "@jupyter-widgets/controls",
            "_view_module_version": "1.5.0",
            "_view_name": "HBoxView",
            "box_style": "",
            "children": [
              "IPY_MODEL_37ad70bbf5454369aa61e9d272a8b4b3",
              "IPY_MODEL_8694c15dbc0647fbbe45670bb49929f2",
              "IPY_MODEL_2150535e93a846adb701a0b3550b4a1f"
            ],
            "layout": "IPY_MODEL_6eaf5cdd77184dcc80f1da7a82d29d9e"
          }
        },
        "37ad70bbf5454369aa61e9d272a8b4b3": {
          "model_module": "@jupyter-widgets/controls",
          "model_name": "HTMLModel",
          "model_module_version": "1.5.0",
          "state": {
            "_dom_classes": [],
            "_model_module": "@jupyter-widgets/controls",
            "_model_module_version": "1.5.0",
            "_model_name": "HTMLModel",
            "_view_count": null,
            "_view_module": "@jupyter-widgets/controls",
            "_view_module_version": "1.5.0",
            "_view_name": "HTMLView",
            "description": "",
            "description_tooltip": null,
            "layout": "IPY_MODEL_675b44a8a0a848f9a4204368316d8f1d",
            "placeholder": "​",
            "style": "IPY_MODEL_49cf094fa6e7434995979618d7b43588",
            "value": "100%"
          }
        },
        "8694c15dbc0647fbbe45670bb49929f2": {
          "model_module": "@jupyter-widgets/controls",
          "model_name": "FloatProgressModel",
          "model_module_version": "1.5.0",
          "state": {
            "_dom_classes": [],
            "_model_module": "@jupyter-widgets/controls",
            "_model_module_version": "1.5.0",
            "_model_name": "FloatProgressModel",
            "_view_count": null,
            "_view_module": "@jupyter-widgets/controls",
            "_view_module_version": "1.5.0",
            "_view_name": "ProgressView",
            "bar_style": "success",
            "description": "",
            "description_tooltip": null,
            "layout": "IPY_MODEL_182b27fb0e4c4d62a48fc770f03e2d0a",
            "max": 28881,
            "min": 0,
            "orientation": "horizontal",
            "style": "IPY_MODEL_3fe3eedce1684d85a6bb6655b568edeb",
            "value": 28881
          }
        },
        "2150535e93a846adb701a0b3550b4a1f": {
          "model_module": "@jupyter-widgets/controls",
          "model_name": "HTMLModel",
          "model_module_version": "1.5.0",
          "state": {
            "_dom_classes": [],
            "_model_module": "@jupyter-widgets/controls",
            "_model_module_version": "1.5.0",
            "_model_name": "HTMLModel",
            "_view_count": null,
            "_view_module": "@jupyter-widgets/controls",
            "_view_module_version": "1.5.0",
            "_view_name": "HTMLView",
            "description": "",
            "description_tooltip": null,
            "layout": "IPY_MODEL_ec3faa27fd974aefabab01d1c269089b",
            "placeholder": "​",
            "style": "IPY_MODEL_7e11164cb70044399e85deab71d05825",
            "value": " 28881/28881 [00:00&lt;00:00, 950091.32it/s]"
          }
        },
        "6eaf5cdd77184dcc80f1da7a82d29d9e": {
          "model_module": "@jupyter-widgets/base",
          "model_name": "LayoutModel",
          "model_module_version": "1.2.0",
          "state": {
            "_model_module": "@jupyter-widgets/base",
            "_model_module_version": "1.2.0",
            "_model_name": "LayoutModel",
            "_view_count": null,
            "_view_module": "@jupyter-widgets/base",
            "_view_module_version": "1.2.0",
            "_view_name": "LayoutView",
            "align_content": null,
            "align_items": null,
            "align_self": null,
            "border": null,
            "bottom": null,
            "display": null,
            "flex": null,
            "flex_flow": null,
            "grid_area": null,
            "grid_auto_columns": null,
            "grid_auto_flow": null,
            "grid_auto_rows": null,
            "grid_column": null,
            "grid_gap": null,
            "grid_row": null,
            "grid_template_areas": null,
            "grid_template_columns": null,
            "grid_template_rows": null,
            "height": null,
            "justify_content": null,
            "justify_items": null,
            "left": null,
            "margin": null,
            "max_height": null,
            "max_width": null,
            "min_height": null,
            "min_width": null,
            "object_fit": null,
            "object_position": null,
            "order": null,
            "overflow": null,
            "overflow_x": null,
            "overflow_y": null,
            "padding": null,
            "right": null,
            "top": null,
            "visibility": null,
            "width": null
          }
        },
        "675b44a8a0a848f9a4204368316d8f1d": {
          "model_module": "@jupyter-widgets/base",
          "model_name": "LayoutModel",
          "model_module_version": "1.2.0",
          "state": {
            "_model_module": "@jupyter-widgets/base",
            "_model_module_version": "1.2.0",
            "_model_name": "LayoutModel",
            "_view_count": null,
            "_view_module": "@jupyter-widgets/base",
            "_view_module_version": "1.2.0",
            "_view_name": "LayoutView",
            "align_content": null,
            "align_items": null,
            "align_self": null,
            "border": null,
            "bottom": null,
            "display": null,
            "flex": null,
            "flex_flow": null,
            "grid_area": null,
            "grid_auto_columns": null,
            "grid_auto_flow": null,
            "grid_auto_rows": null,
            "grid_column": null,
            "grid_gap": null,
            "grid_row": null,
            "grid_template_areas": null,
            "grid_template_columns": null,
            "grid_template_rows": null,
            "height": null,
            "justify_content": null,
            "justify_items": null,
            "left": null,
            "margin": null,
            "max_height": null,
            "max_width": null,
            "min_height": null,
            "min_width": null,
            "object_fit": null,
            "object_position": null,
            "order": null,
            "overflow": null,
            "overflow_x": null,
            "overflow_y": null,
            "padding": null,
            "right": null,
            "top": null,
            "visibility": null,
            "width": null
          }
        },
        "49cf094fa6e7434995979618d7b43588": {
          "model_module": "@jupyter-widgets/controls",
          "model_name": "DescriptionStyleModel",
          "model_module_version": "1.5.0",
          "state": {
            "_model_module": "@jupyter-widgets/controls",
            "_model_module_version": "1.5.0",
            "_model_name": "DescriptionStyleModel",
            "_view_count": null,
            "_view_module": "@jupyter-widgets/base",
            "_view_module_version": "1.2.0",
            "_view_name": "StyleView",
            "description_width": ""
          }
        },
        "182b27fb0e4c4d62a48fc770f03e2d0a": {
          "model_module": "@jupyter-widgets/base",
          "model_name": "LayoutModel",
          "model_module_version": "1.2.0",
          "state": {
            "_model_module": "@jupyter-widgets/base",
            "_model_module_version": "1.2.0",
            "_model_name": "LayoutModel",
            "_view_count": null,
            "_view_module": "@jupyter-widgets/base",
            "_view_module_version": "1.2.0",
            "_view_name": "LayoutView",
            "align_content": null,
            "align_items": null,
            "align_self": null,
            "border": null,
            "bottom": null,
            "display": null,
            "flex": null,
            "flex_flow": null,
            "grid_area": null,
            "grid_auto_columns": null,
            "grid_auto_flow": null,
            "grid_auto_rows": null,
            "grid_column": null,
            "grid_gap": null,
            "grid_row": null,
            "grid_template_areas": null,
            "grid_template_columns": null,
            "grid_template_rows": null,
            "height": null,
            "justify_content": null,
            "justify_items": null,
            "left": null,
            "margin": null,
            "max_height": null,
            "max_width": null,
            "min_height": null,
            "min_width": null,
            "object_fit": null,
            "object_position": null,
            "order": null,
            "overflow": null,
            "overflow_x": null,
            "overflow_y": null,
            "padding": null,
            "right": null,
            "top": null,
            "visibility": null,
            "width": null
          }
        },
        "3fe3eedce1684d85a6bb6655b568edeb": {
          "model_module": "@jupyter-widgets/controls",
          "model_name": "ProgressStyleModel",
          "model_module_version": "1.5.0",
          "state": {
            "_model_module": "@jupyter-widgets/controls",
            "_model_module_version": "1.5.0",
            "_model_name": "ProgressStyleModel",
            "_view_count": null,
            "_view_module": "@jupyter-widgets/base",
            "_view_module_version": "1.2.0",
            "_view_name": "StyleView",
            "bar_color": null,
            "description_width": ""
          }
        },
        "ec3faa27fd974aefabab01d1c269089b": {
          "model_module": "@jupyter-widgets/base",
          "model_name": "LayoutModel",
          "model_module_version": "1.2.0",
          "state": {
            "_model_module": "@jupyter-widgets/base",
            "_model_module_version": "1.2.0",
            "_model_name": "LayoutModel",
            "_view_count": null,
            "_view_module": "@jupyter-widgets/base",
            "_view_module_version": "1.2.0",
            "_view_name": "LayoutView",
            "align_content": null,
            "align_items": null,
            "align_self": null,
            "border": null,
            "bottom": null,
            "display": null,
            "flex": null,
            "flex_flow": null,
            "grid_area": null,
            "grid_auto_columns": null,
            "grid_auto_flow": null,
            "grid_auto_rows": null,
            "grid_column": null,
            "grid_gap": null,
            "grid_row": null,
            "grid_template_areas": null,
            "grid_template_columns": null,
            "grid_template_rows": null,
            "height": null,
            "justify_content": null,
            "justify_items": null,
            "left": null,
            "margin": null,
            "max_height": null,
            "max_width": null,
            "min_height": null,
            "min_width": null,
            "object_fit": null,
            "object_position": null,
            "order": null,
            "overflow": null,
            "overflow_x": null,
            "overflow_y": null,
            "padding": null,
            "right": null,
            "top": null,
            "visibility": null,
            "width": null
          }
        },
        "7e11164cb70044399e85deab71d05825": {
          "model_module": "@jupyter-widgets/controls",
          "model_name": "DescriptionStyleModel",
          "model_module_version": "1.5.0",
          "state": {
            "_model_module": "@jupyter-widgets/controls",
            "_model_module_version": "1.5.0",
            "_model_name": "DescriptionStyleModel",
            "_view_count": null,
            "_view_module": "@jupyter-widgets/base",
            "_view_module_version": "1.2.0",
            "_view_name": "StyleView",
            "description_width": ""
          }
        },
        "25f816601be2499286da0fee7ad268b2": {
          "model_module": "@jupyter-widgets/controls",
          "model_name": "HBoxModel",
          "model_module_version": "1.5.0",
          "state": {
            "_dom_classes": [],
            "_model_module": "@jupyter-widgets/controls",
            "_model_module_version": "1.5.0",
            "_model_name": "HBoxModel",
            "_view_count": null,
            "_view_module": "@jupyter-widgets/controls",
            "_view_module_version": "1.5.0",
            "_view_name": "HBoxView",
            "box_style": "",
            "children": [
              "IPY_MODEL_b77ca9f269af4fab9abca2c87568227f",
              "IPY_MODEL_22efe14a132b4f40805c982e023b90a9",
              "IPY_MODEL_aa0a8e30ae064429af0ec6d19ebaf418"
            ],
            "layout": "IPY_MODEL_61281eabdd5c421bb31c27319fc7f6d6"
          }
        },
        "b77ca9f269af4fab9abca2c87568227f": {
          "model_module": "@jupyter-widgets/controls",
          "model_name": "HTMLModel",
          "model_module_version": "1.5.0",
          "state": {
            "_dom_classes": [],
            "_model_module": "@jupyter-widgets/controls",
            "_model_module_version": "1.5.0",
            "_model_name": "HTMLModel",
            "_view_count": null,
            "_view_module": "@jupyter-widgets/controls",
            "_view_module_version": "1.5.0",
            "_view_name": "HTMLView",
            "description": "",
            "description_tooltip": null,
            "layout": "IPY_MODEL_b4307fbfec6b496995dc9d6476533467",
            "placeholder": "​",
            "style": "IPY_MODEL_1dd7b73b3f5f48f598680ec406c1a2d8",
            "value": "100%"
          }
        },
        "22efe14a132b4f40805c982e023b90a9": {
          "model_module": "@jupyter-widgets/controls",
          "model_name": "FloatProgressModel",
          "model_module_version": "1.5.0",
          "state": {
            "_dom_classes": [],
            "_model_module": "@jupyter-widgets/controls",
            "_model_module_version": "1.5.0",
            "_model_name": "FloatProgressModel",
            "_view_count": null,
            "_view_module": "@jupyter-widgets/controls",
            "_view_module_version": "1.5.0",
            "_view_name": "ProgressView",
            "bar_style": "success",
            "description": "",
            "description_tooltip": null,
            "layout": "IPY_MODEL_9c828822606944399ca6c252c54d29f6",
            "max": 1648877,
            "min": 0,
            "orientation": "horizontal",
            "style": "IPY_MODEL_5061ea5f7c8c439abb51d12533adbed1",
            "value": 1648877
          }
        },
        "aa0a8e30ae064429af0ec6d19ebaf418": {
          "model_module": "@jupyter-widgets/controls",
          "model_name": "HTMLModel",
          "model_module_version": "1.5.0",
          "state": {
            "_dom_classes": [],
            "_model_module": "@jupyter-widgets/controls",
            "_model_module_version": "1.5.0",
            "_model_name": "HTMLModel",
            "_view_count": null,
            "_view_module": "@jupyter-widgets/controls",
            "_view_module_version": "1.5.0",
            "_view_name": "HTMLView",
            "description": "",
            "description_tooltip": null,
            "layout": "IPY_MODEL_4088f09df1734983920ae78edc900722",
            "placeholder": "​",
            "style": "IPY_MODEL_52ab1c33e1d44a01837b225ee6585e91",
            "value": " 1648877/1648877 [00:00&lt;00:00, 16845143.05it/s]"
          }
        },
        "61281eabdd5c421bb31c27319fc7f6d6": {
          "model_module": "@jupyter-widgets/base",
          "model_name": "LayoutModel",
          "model_module_version": "1.2.0",
          "state": {
            "_model_module": "@jupyter-widgets/base",
            "_model_module_version": "1.2.0",
            "_model_name": "LayoutModel",
            "_view_count": null,
            "_view_module": "@jupyter-widgets/base",
            "_view_module_version": "1.2.0",
            "_view_name": "LayoutView",
            "align_content": null,
            "align_items": null,
            "align_self": null,
            "border": null,
            "bottom": null,
            "display": null,
            "flex": null,
            "flex_flow": null,
            "grid_area": null,
            "grid_auto_columns": null,
            "grid_auto_flow": null,
            "grid_auto_rows": null,
            "grid_column": null,
            "grid_gap": null,
            "grid_row": null,
            "grid_template_areas": null,
            "grid_template_columns": null,
            "grid_template_rows": null,
            "height": null,
            "justify_content": null,
            "justify_items": null,
            "left": null,
            "margin": null,
            "max_height": null,
            "max_width": null,
            "min_height": null,
            "min_width": null,
            "object_fit": null,
            "object_position": null,
            "order": null,
            "overflow": null,
            "overflow_x": null,
            "overflow_y": null,
            "padding": null,
            "right": null,
            "top": null,
            "visibility": null,
            "width": null
          }
        },
        "b4307fbfec6b496995dc9d6476533467": {
          "model_module": "@jupyter-widgets/base",
          "model_name": "LayoutModel",
          "model_module_version": "1.2.0",
          "state": {
            "_model_module": "@jupyter-widgets/base",
            "_model_module_version": "1.2.0",
            "_model_name": "LayoutModel",
            "_view_count": null,
            "_view_module": "@jupyter-widgets/base",
            "_view_module_version": "1.2.0",
            "_view_name": "LayoutView",
            "align_content": null,
            "align_items": null,
            "align_self": null,
            "border": null,
            "bottom": null,
            "display": null,
            "flex": null,
            "flex_flow": null,
            "grid_area": null,
            "grid_auto_columns": null,
            "grid_auto_flow": null,
            "grid_auto_rows": null,
            "grid_column": null,
            "grid_gap": null,
            "grid_row": null,
            "grid_template_areas": null,
            "grid_template_columns": null,
            "grid_template_rows": null,
            "height": null,
            "justify_content": null,
            "justify_items": null,
            "left": null,
            "margin": null,
            "max_height": null,
            "max_width": null,
            "min_height": null,
            "min_width": null,
            "object_fit": null,
            "object_position": null,
            "order": null,
            "overflow": null,
            "overflow_x": null,
            "overflow_y": null,
            "padding": null,
            "right": null,
            "top": null,
            "visibility": null,
            "width": null
          }
        },
        "1dd7b73b3f5f48f598680ec406c1a2d8": {
          "model_module": "@jupyter-widgets/controls",
          "model_name": "DescriptionStyleModel",
          "model_module_version": "1.5.0",
          "state": {
            "_model_module": "@jupyter-widgets/controls",
            "_model_module_version": "1.5.0",
            "_model_name": "DescriptionStyleModel",
            "_view_count": null,
            "_view_module": "@jupyter-widgets/base",
            "_view_module_version": "1.2.0",
            "_view_name": "StyleView",
            "description_width": ""
          }
        },
        "9c828822606944399ca6c252c54d29f6": {
          "model_module": "@jupyter-widgets/base",
          "model_name": "LayoutModel",
          "model_module_version": "1.2.0",
          "state": {
            "_model_module": "@jupyter-widgets/base",
            "_model_module_version": "1.2.0",
            "_model_name": "LayoutModel",
            "_view_count": null,
            "_view_module": "@jupyter-widgets/base",
            "_view_module_version": "1.2.0",
            "_view_name": "LayoutView",
            "align_content": null,
            "align_items": null,
            "align_self": null,
            "border": null,
            "bottom": null,
            "display": null,
            "flex": null,
            "flex_flow": null,
            "grid_area": null,
            "grid_auto_columns": null,
            "grid_auto_flow": null,
            "grid_auto_rows": null,
            "grid_column": null,
            "grid_gap": null,
            "grid_row": null,
            "grid_template_areas": null,
            "grid_template_columns": null,
            "grid_template_rows": null,
            "height": null,
            "justify_content": null,
            "justify_items": null,
            "left": null,
            "margin": null,
            "max_height": null,
            "max_width": null,
            "min_height": null,
            "min_width": null,
            "object_fit": null,
            "object_position": null,
            "order": null,
            "overflow": null,
            "overflow_x": null,
            "overflow_y": null,
            "padding": null,
            "right": null,
            "top": null,
            "visibility": null,
            "width": null
          }
        },
        "5061ea5f7c8c439abb51d12533adbed1": {
          "model_module": "@jupyter-widgets/controls",
          "model_name": "ProgressStyleModel",
          "model_module_version": "1.5.0",
          "state": {
            "_model_module": "@jupyter-widgets/controls",
            "_model_module_version": "1.5.0",
            "_model_name": "ProgressStyleModel",
            "_view_count": null,
            "_view_module": "@jupyter-widgets/base",
            "_view_module_version": "1.2.0",
            "_view_name": "StyleView",
            "bar_color": null,
            "description_width": ""
          }
        },
        "4088f09df1734983920ae78edc900722": {
          "model_module": "@jupyter-widgets/base",
          "model_name": "LayoutModel",
          "model_module_version": "1.2.0",
          "state": {
            "_model_module": "@jupyter-widgets/base",
            "_model_module_version": "1.2.0",
            "_model_name": "LayoutModel",
            "_view_count": null,
            "_view_module": "@jupyter-widgets/base",
            "_view_module_version": "1.2.0",
            "_view_name": "LayoutView",
            "align_content": null,
            "align_items": null,
            "align_self": null,
            "border": null,
            "bottom": null,
            "display": null,
            "flex": null,
            "flex_flow": null,
            "grid_area": null,
            "grid_auto_columns": null,
            "grid_auto_flow": null,
            "grid_auto_rows": null,
            "grid_column": null,
            "grid_gap": null,
            "grid_row": null,
            "grid_template_areas": null,
            "grid_template_columns": null,
            "grid_template_rows": null,
            "height": null,
            "justify_content": null,
            "justify_items": null,
            "left": null,
            "margin": null,
            "max_height": null,
            "max_width": null,
            "min_height": null,
            "min_width": null,
            "object_fit": null,
            "object_position": null,
            "order": null,
            "overflow": null,
            "overflow_x": null,
            "overflow_y": null,
            "padding": null,
            "right": null,
            "top": null,
            "visibility": null,
            "width": null
          }
        },
        "52ab1c33e1d44a01837b225ee6585e91": {
          "model_module": "@jupyter-widgets/controls",
          "model_name": "DescriptionStyleModel",
          "model_module_version": "1.5.0",
          "state": {
            "_model_module": "@jupyter-widgets/controls",
            "_model_module_version": "1.5.0",
            "_model_name": "DescriptionStyleModel",
            "_view_count": null,
            "_view_module": "@jupyter-widgets/base",
            "_view_module_version": "1.2.0",
            "_view_name": "StyleView",
            "description_width": ""
          }
        },
        "0e1a90fd6b9f416e88f137b6a9e0360b": {
          "model_module": "@jupyter-widgets/controls",
          "model_name": "HBoxModel",
          "model_module_version": "1.5.0",
          "state": {
            "_dom_classes": [],
            "_model_module": "@jupyter-widgets/controls",
            "_model_module_version": "1.5.0",
            "_model_name": "HBoxModel",
            "_view_count": null,
            "_view_module": "@jupyter-widgets/controls",
            "_view_module_version": "1.5.0",
            "_view_name": "HBoxView",
            "box_style": "",
            "children": [
              "IPY_MODEL_4292b63101f041c2a0d9e7a56a989635",
              "IPY_MODEL_48735bda6ed54c73aa0574fa231eab04",
              "IPY_MODEL_09ebbda8c26f44319973bf2bbde0663c"
            ],
            "layout": "IPY_MODEL_0a866bc35bdd45179469ee6dfc41d26e"
          }
        },
        "4292b63101f041c2a0d9e7a56a989635": {
          "model_module": "@jupyter-widgets/controls",
          "model_name": "HTMLModel",
          "model_module_version": "1.5.0",
          "state": {
            "_dom_classes": [],
            "_model_module": "@jupyter-widgets/controls",
            "_model_module_version": "1.5.0",
            "_model_name": "HTMLModel",
            "_view_count": null,
            "_view_module": "@jupyter-widgets/controls",
            "_view_module_version": "1.5.0",
            "_view_name": "HTMLView",
            "description": "",
            "description_tooltip": null,
            "layout": "IPY_MODEL_3cf362c3db414023a6a88741ab55c3a3",
            "placeholder": "​",
            "style": "IPY_MODEL_30804880ba9640358261bed8020fa43a",
            "value": "100%"
          }
        },
        "48735bda6ed54c73aa0574fa231eab04": {
          "model_module": "@jupyter-widgets/controls",
          "model_name": "FloatProgressModel",
          "model_module_version": "1.5.0",
          "state": {
            "_dom_classes": [],
            "_model_module": "@jupyter-widgets/controls",
            "_model_module_version": "1.5.0",
            "_model_name": "FloatProgressModel",
            "_view_count": null,
            "_view_module": "@jupyter-widgets/controls",
            "_view_module_version": "1.5.0",
            "_view_name": "ProgressView",
            "bar_style": "success",
            "description": "",
            "description_tooltip": null,
            "layout": "IPY_MODEL_26d8b0ed998a4c52b47e69fa61834218",
            "max": 4542,
            "min": 0,
            "orientation": "horizontal",
            "style": "IPY_MODEL_29b51209b0af4630b4373c0fdf508408",
            "value": 4542
          }
        },
        "09ebbda8c26f44319973bf2bbde0663c": {
          "model_module": "@jupyter-widgets/controls",
          "model_name": "HTMLModel",
          "model_module_version": "1.5.0",
          "state": {
            "_dom_classes": [],
            "_model_module": "@jupyter-widgets/controls",
            "_model_module_version": "1.5.0",
            "_model_name": "HTMLModel",
            "_view_count": null,
            "_view_module": "@jupyter-widgets/controls",
            "_view_module_version": "1.5.0",
            "_view_name": "HTMLView",
            "description": "",
            "description_tooltip": null,
            "layout": "IPY_MODEL_96fead179e364a5ea64a26193baecb03",
            "placeholder": "​",
            "style": "IPY_MODEL_1a88da21014240b892a7e32a1335b0c6",
            "value": " 4542/4542 [00:00&lt;00:00, 179074.93it/s]"
          }
        },
        "0a866bc35bdd45179469ee6dfc41d26e": {
          "model_module": "@jupyter-widgets/base",
          "model_name": "LayoutModel",
          "model_module_version": "1.2.0",
          "state": {
            "_model_module": "@jupyter-widgets/base",
            "_model_module_version": "1.2.0",
            "_model_name": "LayoutModel",
            "_view_count": null,
            "_view_module": "@jupyter-widgets/base",
            "_view_module_version": "1.2.0",
            "_view_name": "LayoutView",
            "align_content": null,
            "align_items": null,
            "align_self": null,
            "border": null,
            "bottom": null,
            "display": null,
            "flex": null,
            "flex_flow": null,
            "grid_area": null,
            "grid_auto_columns": null,
            "grid_auto_flow": null,
            "grid_auto_rows": null,
            "grid_column": null,
            "grid_gap": null,
            "grid_row": null,
            "grid_template_areas": null,
            "grid_template_columns": null,
            "grid_template_rows": null,
            "height": null,
            "justify_content": null,
            "justify_items": null,
            "left": null,
            "margin": null,
            "max_height": null,
            "max_width": null,
            "min_height": null,
            "min_width": null,
            "object_fit": null,
            "object_position": null,
            "order": null,
            "overflow": null,
            "overflow_x": null,
            "overflow_y": null,
            "padding": null,
            "right": null,
            "top": null,
            "visibility": null,
            "width": null
          }
        },
        "3cf362c3db414023a6a88741ab55c3a3": {
          "model_module": "@jupyter-widgets/base",
          "model_name": "LayoutModel",
          "model_module_version": "1.2.0",
          "state": {
            "_model_module": "@jupyter-widgets/base",
            "_model_module_version": "1.2.0",
            "_model_name": "LayoutModel",
            "_view_count": null,
            "_view_module": "@jupyter-widgets/base",
            "_view_module_version": "1.2.0",
            "_view_name": "LayoutView",
            "align_content": null,
            "align_items": null,
            "align_self": null,
            "border": null,
            "bottom": null,
            "display": null,
            "flex": null,
            "flex_flow": null,
            "grid_area": null,
            "grid_auto_columns": null,
            "grid_auto_flow": null,
            "grid_auto_rows": null,
            "grid_column": null,
            "grid_gap": null,
            "grid_row": null,
            "grid_template_areas": null,
            "grid_template_columns": null,
            "grid_template_rows": null,
            "height": null,
            "justify_content": null,
            "justify_items": null,
            "left": null,
            "margin": null,
            "max_height": null,
            "max_width": null,
            "min_height": null,
            "min_width": null,
            "object_fit": null,
            "object_position": null,
            "order": null,
            "overflow": null,
            "overflow_x": null,
            "overflow_y": null,
            "padding": null,
            "right": null,
            "top": null,
            "visibility": null,
            "width": null
          }
        },
        "30804880ba9640358261bed8020fa43a": {
          "model_module": "@jupyter-widgets/controls",
          "model_name": "DescriptionStyleModel",
          "model_module_version": "1.5.0",
          "state": {
            "_model_module": "@jupyter-widgets/controls",
            "_model_module_version": "1.5.0",
            "_model_name": "DescriptionStyleModel",
            "_view_count": null,
            "_view_module": "@jupyter-widgets/base",
            "_view_module_version": "1.2.0",
            "_view_name": "StyleView",
            "description_width": ""
          }
        },
        "26d8b0ed998a4c52b47e69fa61834218": {
          "model_module": "@jupyter-widgets/base",
          "model_name": "LayoutModel",
          "model_module_version": "1.2.0",
          "state": {
            "_model_module": "@jupyter-widgets/base",
            "_model_module_version": "1.2.0",
            "_model_name": "LayoutModel",
            "_view_count": null,
            "_view_module": "@jupyter-widgets/base",
            "_view_module_version": "1.2.0",
            "_view_name": "LayoutView",
            "align_content": null,
            "align_items": null,
            "align_self": null,
            "border": null,
            "bottom": null,
            "display": null,
            "flex": null,
            "flex_flow": null,
            "grid_area": null,
            "grid_auto_columns": null,
            "grid_auto_flow": null,
            "grid_auto_rows": null,
            "grid_column": null,
            "grid_gap": null,
            "grid_row": null,
            "grid_template_areas": null,
            "grid_template_columns": null,
            "grid_template_rows": null,
            "height": null,
            "justify_content": null,
            "justify_items": null,
            "left": null,
            "margin": null,
            "max_height": null,
            "max_width": null,
            "min_height": null,
            "min_width": null,
            "object_fit": null,
            "object_position": null,
            "order": null,
            "overflow": null,
            "overflow_x": null,
            "overflow_y": null,
            "padding": null,
            "right": null,
            "top": null,
            "visibility": null,
            "width": null
          }
        },
        "29b51209b0af4630b4373c0fdf508408": {
          "model_module": "@jupyter-widgets/controls",
          "model_name": "ProgressStyleModel",
          "model_module_version": "1.5.0",
          "state": {
            "_model_module": "@jupyter-widgets/controls",
            "_model_module_version": "1.5.0",
            "_model_name": "ProgressStyleModel",
            "_view_count": null,
            "_view_module": "@jupyter-widgets/base",
            "_view_module_version": "1.2.0",
            "_view_name": "StyleView",
            "bar_color": null,
            "description_width": ""
          }
        },
        "96fead179e364a5ea64a26193baecb03": {
          "model_module": "@jupyter-widgets/base",
          "model_name": "LayoutModel",
          "model_module_version": "1.2.0",
          "state": {
            "_model_module": "@jupyter-widgets/base",
            "_model_module_version": "1.2.0",
            "_model_name": "LayoutModel",
            "_view_count": null,
            "_view_module": "@jupyter-widgets/base",
            "_view_module_version": "1.2.0",
            "_view_name": "LayoutView",
            "align_content": null,
            "align_items": null,
            "align_self": null,
            "border": null,
            "bottom": null,
            "display": null,
            "flex": null,
            "flex_flow": null,
            "grid_area": null,
            "grid_auto_columns": null,
            "grid_auto_flow": null,
            "grid_auto_rows": null,
            "grid_column": null,
            "grid_gap": null,
            "grid_row": null,
            "grid_template_areas": null,
            "grid_template_columns": null,
            "grid_template_rows": null,
            "height": null,
            "justify_content": null,
            "justify_items": null,
            "left": null,
            "margin": null,
            "max_height": null,
            "max_width": null,
            "min_height": null,
            "min_width": null,
            "object_fit": null,
            "object_position": null,
            "order": null,
            "overflow": null,
            "overflow_x": null,
            "overflow_y": null,
            "padding": null,
            "right": null,
            "top": null,
            "visibility": null,
            "width": null
          }
        },
        "1a88da21014240b892a7e32a1335b0c6": {
          "model_module": "@jupyter-widgets/controls",
          "model_name": "DescriptionStyleModel",
          "model_module_version": "1.5.0",
          "state": {
            "_model_module": "@jupyter-widgets/controls",
            "_model_module_version": "1.5.0",
            "_model_name": "DescriptionStyleModel",
            "_view_count": null,
            "_view_module": "@jupyter-widgets/base",
            "_view_module_version": "1.2.0",
            "_view_name": "StyleView",
            "description_width": ""
          }
        }
      }
    }
  },
  "cells": [
    {
      "cell_type": "markdown",
      "metadata": {
        "id": "view-in-github",
        "colab_type": "text"
      },
      "source": [
        "<a href=\"https://colab.research.google.com/github/chminPark/ml-python/blob/master/%EC%8B%A4%EC%8A%B5_regression.ipynb\" target=\"_parent\"><img src=\"https://colab.research.google.com/assets/colab-badge.svg\" alt=\"Open In Colab\"/></a>"
      ]
    },
    {
      "cell_type": "markdown",
      "source": [
        "### Stochastic Gradient Descent의 개념을 이해한다 \n",
        "* Loss계산 후 Step Loss를 줄이기 위해 학습이 진행됩니다. \n",
        "* Gradient(기울기)는 Loss의 기울기 입니다\n",
        "\n",
        "<img src=\"https://static.javatpoint.com/tutorial/machine-learning/images/gradient-descent-in-machine-learning1.png\" height=\"200px\" width=\"300px\">\n",
        "\n",
        "<img src=\"https://miro.medium.com/max/1400/1*zoywHDM6_AdN2LmQbro9Iw.webp\" height=\"150px\" width=\"350px\">\n",
        "\n",
        "\n",
        "* Learning의 크기는 학습속도에 영향을 미칩니다. 너무 크면 학습이 안될 수도 있습니다 \n",
        "\n",
        "<img src=\"https://static.javatpoint.com/tutorial/machine-learning/images/gradient-descent-in-machine-learning3.png\" height=\"200px\" width=\"500px\">\n",
        "\n",
        "https://moding.tistory.com/entry/Pytorch로-Fashion-MNIST-구현하기\n",
        " "
      ],
      "metadata": {
        "id": "GxlcEfNGa3aQ"
      }
    },
    {
      "cell_type": "code",
      "source": [
        "import torch\n",
        "import torch.nn as nn\n",
        "import torch.nn.functional as F\n",
        "import torch.optim as optim\n",
        "import matplotlib.pyplot as plt\n",
        "\n",
        "torch.__version__"
      ],
      "metadata": {
        "colab": {
          "base_uri": "https://localhost:8080/",
          "height": 37
        },
        "id": "0smk9wP0Jw3w",
        "outputId": "d30ef0bd-6b93-49e0-e257-f8ec7a7da82c"
      },
      "execution_count": null,
      "outputs": [
        {
          "output_type": "execute_result",
          "data": {
            "text/plain": [
              "'1.13.0+cu116'"
            ],
            "application/vnd.google.colaboratory.intrinsic+json": {
              "type": "string"
            }
          },
          "metadata": {},
          "execution_count": 1
        }
      ]
    },
    {
      "cell_type": "code",
      "source": [
        "# Quadratic function\n",
        "def hypothesis(x, coefficients):\n",
        "    a,b,c = coefficients\n",
        "    return a*(x**2)+(b*x)+c\n",
        "\n",
        "\n",
        "##### RMSE Loss를 구현해 본다. \n",
        "def rmse(preds, targets):\n",
        "    return ((preds-targets)**2).mean().sqrt()\n",
        "#####\n",
        "\n",
        "\n",
        "def show_predicted(x, y, preds, ax=None):\n",
        "    if ax is None: \n",
        "      ax=plt.subplots(figsize=(3,3))[1]\n",
        "    ax.scatter(x,y, label='true')\n",
        "\n",
        "    if preds is not None:\n",
        "      ax.scatter(x, preds, label='pred', color='red')\n",
        "    ax.legend()\n",
        "\n",
        "\n",
        "\n",
        "x_train = torch.arange(0,20).float()\n",
        "y_train = x_train*3 + 0.75*((x_train-9.5)**2)+1\n",
        "\n",
        "\n",
        "\n",
        "fig, ax = plt.subplots(1,3, figsize=(10,3))\n",
        "show_predicted(x_train,y_train, None, ax[0])\n",
        "\n",
        "params = torch.randn(3).requires_grad_()\n",
        "print(f\"Initial Weights: {params}\")\n",
        "\n",
        "preds = hypothesis(x_train, params)\n",
        "show_predicted(x_train, y_train, preds.detach().numpy(), ax[1])\n",
        "\n",
        "# RMSE loss\n",
        "cost = rmse(preds,  y_train)\n",
        "\n",
        "print(f\"Initial Cost: {cost}\")\n",
        "\n",
        "\n",
        "# Weight와 Bias를 cost를 줄이는 방향으로 업데이트 ~ Optimization(최적화)\n",
        "\n",
        "### Learning Rate를 0.0001, 0.1, 0.00000001 에 대해 실험해 본다. \n",
        "optimizer = torch.optim.SGD([params], lr=0.0001) \n",
        "\n",
        "nb_epochs = 1000 # 원하는만큼 경사 하강법을 반복\n",
        "for epoch in range(nb_epochs + 1):\n",
        "\n",
        "    ##### 예측값을 생성해 본다. \n",
        "    preds = hypothesis(x_train, params)\n",
        "    #####\n",
        "    \n",
        "    # cost 계산\n",
        "    cost = rmse(preds,  y_train)\n",
        "\n",
        "    optimizer.zero_grad() # 초기화\n",
        "    cost.backward() # gradient계산\n",
        "\n",
        "    ##### 계산된 gradient 값을 이용하여 W,b 업데이트하는 Step을 구현한다\n",
        "    optimizer.step() \n",
        "    #####\n",
        "\n",
        "\n",
        "    # 100번마다 로그 출력\n",
        "    if epoch % 100 == 1:\n",
        "        print('Epoch {:4d}/{} a: {:.3f}, b: {:.3f}, c: {:.3f}, Cost: {:.6f}'.format(\n",
        "            epoch, nb_epochs, params[0].item(), params[1].item(), params[2].item(), cost.item()\n",
        "        ))\n",
        "\n",
        "preds = hypothesis(x_train, params)\n",
        "show_predicted(x_train, y_train, preds.detach().numpy(), ax[2])"
      ],
      "metadata": {
        "colab": {
          "base_uri": "https://localhost:8080/",
          "height": 415
        },
        "id": "weNMvY_svCLx",
        "outputId": "fa8cfcec-96bb-446b-f8e0-f001e626d407"
      },
      "execution_count": null,
      "outputs": [
        {
          "output_type": "stream",
          "name": "stdout",
          "text": [
            "Initial Weights: tensor([-0.5729, -0.3759,  1.8067], requires_grad=True)\n",
            "Initial Cost: 156.26319885253906\n",
            "Epoch    1/1000 a: -0.540, b: -0.374, c: 1.807, Cost: 153.515518\n",
            "Epoch  101/1000 a: 0.341, b: -0.312, c: 1.814, Cost: 25.726553\n",
            "Epoch  201/1000 a: 0.341, b: -0.303, c: 1.819, Cost: 25.716951\n",
            "Epoch  301/1000 a: 0.341, b: -0.295, c: 1.825, Cost: 25.707514\n",
            "Epoch  401/1000 a: 0.340, b: -0.287, c: 1.830, Cost: 25.698118\n",
            "Epoch  501/1000 a: 0.340, b: -0.279, c: 1.835, Cost: 25.688768\n",
            "Epoch  601/1000 a: 0.339, b: -0.271, c: 1.840, Cost: 25.679462\n",
            "Epoch  701/1000 a: 0.339, b: -0.263, c: 1.845, Cost: 25.670202\n",
            "Epoch  801/1000 a: 0.338, b: -0.255, c: 1.851, Cost: 25.660982\n",
            "Epoch  901/1000 a: 0.337, b: -0.247, c: 1.856, Cost: 25.651808\n"
          ]
        },
        {
          "output_type": "display_data",
          "data": {
            "text/plain": [
              "<Figure size 720x216 with 3 Axes>"
            ],
            "image/png": "[encoded data removed]"
          },
          "metadata": {
            "needs_background": "light"
          }
        }
      ]
    },
    {
      "cell_type": "code",
      "source": [
        "import torch \n",
        "from torch import optim\n",
        "\n",
        "# y = 2x +1 데이터를 확인한다 \n",
        "x_train = torch.FloatTensor([[1], [2], [3]])\n",
        "y_train = torch.FloatTensor([[3], [5], [7]])\n",
        "\n",
        "# Weight와 Bias를 0으로 초기화 \n",
        "W = torch.zeros(1, requires_grad=True)\n",
        "b = torch.zeros(1, requires_grad=True)\n",
        "\n",
        "print(f\"Initial Weight: {W} and Bias: {b}\")\n",
        "\n",
        "hypothesis = x_train * W + b\n",
        "\n",
        "# RMSE loss\n",
        "cost = rmse(preds,  y_train)\n",
        "\n",
        "fig, ax = plt.subplots(1,2, figsize=(10,3))\n",
        "show_predicted(x_train,y_train, hypothesis.detach().numpy(), ax[0])\n",
        "\n",
        "# Weight와 Bias를 cost를 줄이는 방향으로 업데이트 ~ Optimization(최적화)\n",
        "optimizer = optim.SGD([W, b], lr=0.01)\n",
        "\n",
        "nb_epochs = 1000 # 원하는만큼 경사 하강법을 반복\n",
        "for epoch in range(nb_epochs + 1):\n",
        "\n",
        "    hypothesis = x_train * W + b\n",
        "    # cost 계산\n",
        "    cost = rmse(hypothesis,  y_train)\n",
        "\n",
        "    optimizer.zero_grad() # 초기화\n",
        "    cost.backward() # gradient계산\n",
        "    optimizer.step() # 계산된 gradient 값을 이용하여 W,b 업데이트\n",
        "\n",
        "    \n",
        "    # 100번마다 로그 출력\n",
        "    if epoch % 100 == 0:\n",
        "        print('Epoch {:4d}/{} W: {:.3f}, b: {:.3f} Cost: {:.6f}'.format(\n",
        "            epoch, nb_epochs, W.item(), b.item(), cost.item()\n",
        "        ))\n",
        "\n",
        "show_predicted(x_train,y_train, hypothesis.detach().numpy(), ax[1])\n"
      ],
      "metadata": {
        "colab": {
          "base_uri": "https://localhost:8080/",
          "height": 415
        },
        "id": "2JvctUTZa2SN",
        "outputId": "58d97894-f91f-468c-e5e5-902f426aa825"
      },
      "execution_count": null,
      "outputs": [
        {
          "output_type": "stream",
          "name": "stdout",
          "text": [
            "Initial Weight: tensor([0.], requires_grad=True) and Bias: tensor([0.], requires_grad=True)\n",
            "Epoch    0/1000 W: 0.022, b: 0.010 Cost: 5.259911\n",
            "Epoch  100/1000 W: 2.031, b: 0.928 Cost: 0.028261\n",
            "Epoch  200/1000 W: 1.990, b: 0.994 Cost: 0.027731\n",
            "Epoch  300/1000 W: 1.989, b: 0.995 Cost: 0.027732\n",
            "Epoch  400/1000 W: 1.989, b: 0.995 Cost: 0.027736\n",
            "Epoch  500/1000 W: 1.989, b: 0.995 Cost: 0.027736\n",
            "Epoch  600/1000 W: 1.989, b: 0.995 Cost: 0.027736\n",
            "Epoch  700/1000 W: 1.989, b: 0.995 Cost: 0.027736\n",
            "Epoch  800/1000 W: 1.989, b: 0.995 Cost: 0.027736\n",
            "Epoch  900/1000 W: 1.989, b: 0.995 Cost: 0.027736\n",
            "Epoch 1000/1000 W: 1.989, b: 0.995 Cost: 0.027736\n"
          ]
        },
        {
          "output_type": "display_data",
          "data": {
            "text/plain": [
              "<Figure size 720x216 with 2 Axes>"
            ],
            "image/png": "[encoded data removed]"
          },
          "metadata": {
            "needs_background": "light"
          }
        }
      ]
    },
    {
      "cell_type": "markdown",
      "source": [
        "## 데이터의 형태를 알아도 잘 학습이 안되는 경우"
      ],
      "metadata": {
        "id": "MDZ0e7P3d6Yn"
      }
    },
    {
      "cell_type": "code",
      "source": [
        "import torch \n",
        "from torch import optim\n",
        "import numpy as np\n",
        "import matplotlib.pyplot as plt\n",
        "\n",
        "x_train = torch.arange(1,100,5).float() # start, stop, step\n",
        "y_train=0.15*x_train**3 - 20*x_train**2 + 5*x_train - 4 + 5000\n",
        "\n",
        "def hypothesis(x, coefficients):\n",
        "    a,b,c,d = coefficients\n",
        "    return a*(x**3)+b*(x**2)+c*x+d\n",
        "\n",
        "# 학습해야 하는 \n",
        "params = torch.randn(4).requires_grad_()\n",
        "print(f\"Initial Weights: {params}\")\n",
        "\n",
        "preds = hypothesis(x_train, params)\n",
        "\n",
        "fig, ax = plt.subplots(1,2, figsize=(10,3))\n",
        "show_predicted(x_train, y_train, preds.detach().numpy(), ax[0])\n",
        "\n",
        "cost = rmse(preds,  y_train)\n",
        "\n",
        "print(f\"Initial Cost: {cost}\")\n",
        "\n",
        "# Weight와 Bias를 cost를 줄이는 방향으로 업데이트 ~ Optimization(최적화)\n",
        "optimizer = torch.optim.SGD([params], lr=0.001)\n",
        "\n",
        "nb_epochs = 1000 # 원하는만큼 경사 하강법을 반복\n",
        "for epoch in range(nb_epochs + 1):\n",
        "\n",
        "    preds = hypothesis(x_train, params)\n",
        "    # cost 계산\n",
        "    cost =  rmse(preds,  y_train)\n",
        "\n",
        "    optimizer.zero_grad() # 초기화\n",
        "    cost.backward() # gradient계산\n",
        "    optimizer.step() # 계산된 gradient 값을 이용하여 W,b 업데이트\n",
        "\n",
        "\n",
        "    # 100번마다 로그 출력\n",
        "    if epoch % 100 == 1:\n",
        "        print('Epoch {:4d}/{} a: {:.3f}, b: {:.3f}, c: {:.3f}, d: {:.3f}, Cost: {:.6f}'.format(\n",
        "            epoch, nb_epochs, params[0].item(), params[1].item(), params[2].item(), params[3].item(), cost.item()\n",
        "        ))\n",
        "\n",
        "preds = hypothesis(x_train, params)\n",
        "show_predicted(x_train, y_train, preds.detach().numpy(),ax[1])"
      ],
      "metadata": {
        "id": "EHSUz8oya10N",
        "colab": {
          "base_uri": "https://localhost:8080/",
          "height": 426
        },
        "outputId": "b20a2bca-6617-4844-c29f-eaada3b2b80c"
      },
      "execution_count": null,
      "outputs": [
        {
          "output_type": "stream",
          "name": "stdout",
          "text": [
            "Initial Weights: tensor([ 2.0914,  1.6083, -0.7312, -0.6675], requires_grad=True)\n",
            "Initial Cost: 782587.5\n",
            "Epoch    1/1000 a: 2.139, b: 1.597, c: -0.731, d: -0.668, Cost: 127155344.000000\n",
            "Epoch  101/1000 a: 3.462, b: 1.189, c: -0.744, d: -0.668, Cost: 126684104.000000\n",
            "Epoch  201/1000 a: 4.167, b: 0.885, c: -0.753, d: -0.668, Cost: 126432912.000000\n",
            "Epoch  301/1000 a: 4.680, b: 0.625, c: -0.760, d: -0.668, Cost: 126250568.000000\n",
            "Epoch  401/1000 a: 5.091, b: 0.391, c: -0.767, d: -0.668, Cost: 126104672.000000\n",
            "Epoch  501/1000 a: 5.436, b: 0.176, c: -0.774, d: -0.668, Cost: 125982240.000000\n",
            "Epoch  601/1000 a: 5.736, b: -0.024, c: -0.779, d: -0.669, Cost: 125875736.000000\n",
            "Epoch  701/1000 a: 6.002, b: -0.214, c: -0.785, d: -0.669, Cost: 125781488.000000\n",
            "Epoch  801/1000 a: 6.243, b: -0.393, c: -0.790, d: -0.669, Cost: 125696064.000000\n",
            "Epoch  901/1000 a: 6.460, b: -0.565, c: -0.795, d: -0.669, Cost: 125619040.000000\n"
          ]
        },
        {
          "output_type": "display_data",
          "data": {
            "text/plain": [
              "<Figure size 720x216 with 2 Axes>"
            ],
            "image/png": "[encoded data removed]"
          },
          "metadata": {
            "needs_background": "light"
          }
        }
      ]
    },
    {
      "cell_type": "markdown",
      "source": [
        "nn.Linear()를 이용하여 위 문제를 해결해 봅시다"
      ],
      "metadata": {
        "id": "0YnBK9VpKo0n"
      }
    },
    {
      "cell_type": "code",
      "source": [
        "import torch \n",
        "from torch import optim\n",
        "import numpy as np\n",
        "import matplotlib.pyplot as plt\n",
        "\n",
        "x_train = torch.arange(1,100,5).float().unsqueeze(1) # start, stop, step\n",
        "y_train=0.15*x_train**3 - 20*x_train**2 + 5*x_train - 4 + 5000\n",
        "\n",
        "\n",
        "# 학습해야 하는 \n",
        "\n",
        "model = nn.Linear(in_features=1, out_features=1, bias=True)\n",
        "print(f\"Initial Weights: {list(model.parameters())}\")\n",
        "\n",
        "preds = model(x_train)\n",
        "\n",
        "fig, ax = plt.subplots(1,2, figsize=(10,3))\n",
        "show_predicted(x_train, y_train, preds.detach().numpy(), ax[0])\n",
        "\n",
        "cost = rmse(preds,  y_train)\n",
        "\n",
        "print(f\"Initial Cost: {cost}\")\n",
        "\n",
        "# Weight와 Bias를 cost를 줄이는 방향으로 업데이트 ~ Optimization(최적화)\n",
        "optimizer = torch.optim.SGD( model.parameters(), lr=0.1)\n",
        "\n",
        "nb_epochs = 1000 # 원하는만큼 경사 하강법을 반복\n",
        "for epoch in range(nb_epochs + 1):\n",
        "\n",
        "    preds = model(x_train)\n",
        "    # cost 계산\n",
        "    cost =  rmse(preds,  y_train)\n",
        "\n",
        "    optimizer.zero_grad() # 초기화\n",
        "    cost.backward() # gradient계산\n",
        "    optimizer.step() # 계산된 gradient 값을 이용하여 W,b 업데이트\n",
        "\n",
        "\n",
        "    # 100번마다 로그 출력\n",
        "    if epoch % 100 == 1:\n",
        "        print('Epoch {:4d}/{},  Cost: {:.6f}'.format(\n",
        "            epoch, nb_epochs, cost.item()\n",
        "        ))\n",
        "\n",
        "preds = model(x_train)\n",
        "show_predicted(x_train, y_train, preds.detach().numpy(),ax[1])\n",
        "print(f\"Train accuracy(RMSE) :  {torch.sqrt(nn.MSELoss()(preds,  y_train))}\")"
      ],
      "metadata": {
        "colab": {
          "base_uri": "https://localhost:8080/",
          "height": 466
        },
        "id": "c9XfthNAKmoP",
        "outputId": "96f2b5e3-66f5-491e-b9bb-4a2569d394a9"
      },
      "execution_count": null,
      "outputs": [
        {
          "output_type": "stream",
          "name": "stdout",
          "text": [
            "Initial Weights: [Parameter containing:\n",
            "tensor([[0.4151]], requires_grad=True), Parameter containing:\n",
            "tensor([0.2381], requires_grad=True)]\n",
            "Initial Cost: 30039.662109375\n",
            "Epoch    1/1000,  Cost: 29731.314453\n",
            "Epoch  101/1000,  Cost: 5713.770996\n",
            "Epoch  201/1000,  Cost: 5327.878906\n",
            "Epoch  301/1000,  Cost: 5326.147949\n",
            "Epoch  401/1000,  Cost: 5324.419434\n",
            "Epoch  501/1000,  Cost: 5322.691406\n",
            "Epoch  601/1000,  Cost: 5320.964355\n",
            "Epoch  701/1000,  Cost: 5319.238281\n",
            "Epoch  801/1000,  Cost: 5317.511719\n",
            "Epoch  901/1000,  Cost: 5315.786621\n",
            "Train accuracy(RMSE) :  5314.06201171875\n"
          ]
        },
        {
          "output_type": "display_data",
          "data": {
            "text/plain": [
              "<Figure size 720x216 with 2 Axes>"
            ],
            "image/png": "[encoded data removed]"
          },
          "metadata": {
            "needs_background": "light"
          }
        }
      ]
    },
    {
      "cell_type": "code",
      "source": [
        "import torch \n",
        "from torch import optim\n",
        "import numpy as np\n",
        "import matplotlib.pyplot as plt\n",
        "\n",
        "x_train = torch.arange(1,100,5).float().unsqueeze(1) # start, stop, step\n",
        "y_train=0.15*x_train**3 - 20*x_train**2 + 5*x_train - 4 + 5000\n",
        "\n",
        "\n",
        "# 학습해야 하는 모델 선언. hidden layer 크기가 인경우를 구현한다\n",
        "\n",
        "model = nn.Sequential(nn.Linear(in_features=1, out_features=5, bias=True),\n",
        "                      nn.Linear(in_features=5, out_features=5, bias=True),\n",
        "                      nn.Linear(in_features=5, out_features=1, bias=True)\n",
        "                      )\n",
        " \n",
        "print(f\"Initial Weights: {list(model.parameters())}\")\n",
        "\n",
        "preds = model(x_train)\n",
        "\n",
        "fig, ax = plt.subplots(1,2, figsize=(10,3))\n",
        "show_predicted(x_train, y_train, preds.detach().numpy(), ax[0])\n",
        "\n",
        "cost = rmse(preds,  y_train)\n",
        "\n",
        "print(f\"Initial Cost: {cost}\")\n",
        "\n",
        "# Weight와 Bias를 cost를 줄이는 방향으로 업데이트 ~ Optimization(최적화)\n",
        "optimizer = torch.optim.SGD( model.parameters(), lr=0.0001)\n",
        "\n",
        "nb_epochs = 1000 # 원하는만큼 경사 하강법을 반복\n",
        "for epoch in range(nb_epochs + 1):\n",
        "\n",
        "    preds = model(x_train)\n",
        "    # cost 계산\n",
        "    cost =  rmse(preds,  y_train)\n",
        "\n",
        "    optimizer.zero_grad() # 초기화\n",
        "    cost.backward() # gradient계산\n",
        "    optimizer.step() # 계산된 gradient 값을 이용하여 W,b 업데이트\n",
        "\n",
        "\n",
        "    # 100번마다 로그 출력\n",
        "    if epoch % 100 == 1:\n",
        "        print('Epoch {:4d}/{},  Cost: {:.6f}'.format(\n",
        "            epoch, nb_epochs, cost.item()\n",
        "        ))\n",
        "\n",
        "preds = model(x_train)\n",
        "show_predicted(x_train, y_train, preds.detach().numpy(),ax[1])\n",
        "print(f\"Train accuracy(RMSE) :  {torch.sqrt(nn.MSELoss()(preds,  y_train))}\")"
      ],
      "metadata": {
        "colab": {
          "base_uri": "https://localhost:8080/",
          "height": 670
        },
        "id": "G7f7m8gqKoOm",
        "outputId": "9122aaa4-dc27-4b1e-a49f-90c6f9b74396"
      },
      "execution_count": null,
      "outputs": [
        {
          "output_type": "stream",
          "name": "stdout",
          "text": [
            "Initial Weights: [Parameter containing:\n",
            "tensor([[ 0.0533],\n",
            "        [ 0.8500],\n",
            "        [ 0.8185],\n",
            "        [-0.8917],\n",
            "        [ 0.6315]], requires_grad=True), Parameter containing:\n",
            "tensor([ 0.6540,  0.7202,  0.9343,  0.8975, -0.4504], requires_grad=True), Parameter containing:\n",
            "tensor([[-0.3978,  0.4117,  0.4358,  0.3238, -0.2961],\n",
            "        [-0.3828,  0.0635,  0.2023,  0.3314, -0.3015],\n",
            "        [ 0.3402, -0.1925,  0.4333,  0.1128,  0.2954],\n",
            "        [ 0.0692, -0.3770, -0.0098,  0.1393,  0.3722],\n",
            "        [-0.2034, -0.1227, -0.3796,  0.1247, -0.3436]], requires_grad=True), Parameter containing:\n",
            "tensor([-0.3274,  0.4289, -0.0619,  0.3402, -0.2751], requires_grad=True), Parameter containing:\n",
            "tensor([[-0.2361,  0.0395, -0.3093, -0.0896,  0.2082]], requires_grad=True), Parameter containing:\n",
            "tensor([0.2024], requires_grad=True)]\n",
            "Initial Cost: 30000.216796875\n",
            "Epoch    1/1000,  Cost: 29999.753906\n",
            "Epoch  101/1000,  Cost: 29828.625000\n",
            "Epoch  201/1000,  Cost: 5343.250488\n",
            "Epoch  301/1000,  Cost: 5335.214844\n",
            "Epoch  401/1000,  Cost: 5327.684082\n",
            "Epoch  501/1000,  Cost: 5320.155762\n",
            "Epoch  601/1000,  Cost: 5312.607422\n",
            "Epoch  701/1000,  Cost: 5305.012695\n",
            "Epoch  801/1000,  Cost: 5297.351074\n",
            "Epoch  901/1000,  Cost: 5289.596680\n",
            "Train accuracy(RMSE) :  5281.7236328125\n"
          ]
        },
        {
          "output_type": "display_data",
          "data": {
            "text/plain": [
              "<Figure size 720x216 with 2 Axes>"
            ],
            "image/png": "[encoded data removed]"
          },
          "metadata": {
            "needs_background": "light"
          }
        }
      ]
    },
    {
      "cell_type": "markdown",
      "source": [
        "## Neural Network 는 nn.Module을 이용하여 객체로 표현합니다. \n",
        "\n",
        "* 위에 실습한 내용을 nn.Module을 이용하여 수정해 봅시다\n",
        "\n",
        "<img src=\"https://raw.githubusercontent.com/mrdbourke/pytorch-deep-learning/main/images/01-pytorch-linear-regression-model-with-nn-Parameter-and-nn-Linear-compared.png\" height=\"300px\" width=\"700px\">\n",
        "\n"
      ],
      "metadata": {
        "id": "CGtv1n98Rdin"
      }
    },
    {
      "cell_type": "code",
      "source": [
        "class LinearRegressionModel(nn.Module):\n",
        "\n",
        "  # 객체를 만들때에는 항상 init 이 있어야 함\n",
        "  def __init__(self):\n",
        "    super().__init__()\n",
        "    self.linear = nn.Sequential(nn.Linear(in_features=1, out_features=5, bias=True),\n",
        "                                nn.Linear(in_features=5, out_features=5, bias=True),\n",
        "                                nn.Linear(in_features=5, out_features=1, bias=True)\n",
        "                  )\n",
        "\n",
        "  def forward(self, x):\n",
        "      return self.linear(x)"
      ],
      "metadata": {
        "id": "z5YMCdS0Rcf4"
      },
      "execution_count": null,
      "outputs": []
    },
    {
      "cell_type": "code",
      "source": [
        "import torch \n",
        "from torch import optim\n",
        "import numpy as np\n",
        "import matplotlib.pyplot as plt\n",
        "\n",
        "x_train = torch.arange(1,100,5).float().unsqueeze(1) # start, stop, step\n",
        "x_train = torch.arange(1,100,1.7).float().unsqueeze(1) # start, stop, step\n",
        "y_train=0.15*x_train**3 - 20*x_train**2 + 5*x_train - 4 + 5000\n",
        "\n",
        "\n",
        "# 학습해야 하는 모델 선언. hidden layer 크기가 인경우를 구현한다\n",
        "\n",
        "model = LinearRegressionModel()\n",
        " \n",
        "# print(f\"Initial Weights: {list(model.parameters())}\")\n",
        "\n",
        "preds = model(x_train)\n",
        "\n",
        "fig, ax = plt.subplots(1,2, figsize=(10,3))\n",
        "show_predicted(x_train, y_train, preds.detach().numpy(), ax[0])\n",
        "\n",
        "cost = rmse(preds,  y_train)\n",
        "\n",
        "print(f\"Initial Cost: {cost}\")\n",
        "\n",
        "# Weight와 Bias를 cost를 줄이는 방향으로 업데이트 ~ Optimization(최적화)\n",
        "#optimizer = torch.optim.SGD( model.parameters(), lr=0.000015)\n",
        "optimizer = torch.optim.SGD( model.parameters(), lr=0.00005)\n",
        "\n",
        "nb_epochs = 10000 # 원하는만큼 경사 하강법을 반복\n",
        "for epoch in range(nb_epochs + 1):\n",
        "\n",
        "    preds = model(x_train)\n",
        "    # cost 계산\n",
        "    cost =  rmse(preds,  y_train)\n",
        "\n",
        "    optimizer.zero_grad() # 초기화\n",
        "    cost.backward() # gradient계산\n",
        "    optimizer.step() # 계산된 gradient 값을 이용하여 W,b 업데이트\n",
        "\n",
        "\n",
        "    # 1000번마다 로그 출력\n",
        "    if epoch % 1000 == 1:\n",
        "        print('Epoch {:4d}/{},  Cost: {:.6f}'.format(\n",
        "            epoch, nb_epochs, cost.item()\n",
        "        ))\n",
        "\n",
        "preds = model(x_train)\n",
        "show_predicted(x_train, y_train, preds.detach().numpy(),ax[1])"
      ],
      "metadata": {
        "colab": {
          "base_uri": "https://localhost:8080/",
          "height": 398
        },
        "id": "6CFA5z8JUI9h",
        "outputId": "f766458b-b713-4e47-a533-fff5cd8f5208"
      },
      "execution_count": null,
      "outputs": [
        {
          "output_type": "stream",
          "name": "stdout",
          "text": [
            "Initial Cost: 30595.232421875\n",
            "Epoch    1/10000,  Cost: 30594.859375\n",
            "Epoch 1001/10000,  Cost: 5391.649414\n",
            "Epoch 2001/10000,  Cost: 5361.312012\n",
            "Epoch 3001/10000,  Cost: 5329.682129\n",
            "Epoch 4001/10000,  Cost: 5294.503906\n",
            "Epoch 5001/10000,  Cost: 5252.399902\n",
            "Epoch 6001/10000,  Cost: 5197.321777\n",
            "Epoch 7001/10000,  Cost: 5116.819336\n",
            "Epoch 8001/10000,  Cost: 4982.596680\n",
            "Epoch 9001/10000,  Cost: 4730.465332\n"
          ]
        },
        {
          "output_type": "display_data",
          "data": {
            "text/plain": [
              "<Figure size 720x216 with 2 Axes>"
            ],
            "image/png": "[encoded data removed]"
          },
          "metadata": {
            "needs_background": "light"
          }
        }
      ]
    },
    {
      "cell_type": "code",
      "source": [
        "import torch \n",
        "from torch import optim\n",
        "import numpy as np\n",
        "import matplotlib.pyplot as plt\n",
        "\n",
        "x_train = torch.arange(1,100,5).float().unsqueeze(1) # start, stop, step\n",
        "x_train = torch.arange(1,100,1.2).float().unsqueeze(1) # start, stop, step\n",
        "y_train=0.15*x_train**3 - 20*x_train**2 + 5*x_train - 4 + 5000\n",
        "\n",
        "class LinearRegressionModel(nn.Module):\n",
        "\n",
        "  # 객체를 만들때에는 항상 init 이 있어야 함\n",
        "  def __init__(self):\n",
        "    super().__init__()\n",
        "    self.linear = nn.Sequential(nn.Linear(in_features=1, out_features=5, bias=True),\n",
        "                                nn.ReLU(),\n",
        "                                nn.Linear(in_features=5, out_features=5, bias=True),\n",
        "                                nn.ReLU(),\n",
        "                                nn.Linear(in_features=5, out_features=1, bias=True),\n",
        "                            )\n",
        "\n",
        "  def forward(self, x):\n",
        "      return self.linear(x)\n",
        "\n",
        "# 학습해야 하는 모델 선언. hidden layer 크기가 인경우를 구현한다\n",
        "model = LinearRegressionModel()\n",
        " \n",
        "# print(f\"Initial Weights: {list(model.parameters())}\")\n",
        "\n",
        "preds = model(x_train)\n",
        "\n",
        "fig, ax = plt.subplots(1,2, figsize=(10,3))\n",
        "show_predicted(x_train, y_train, preds.detach().numpy(), ax[0])\n",
        "\n",
        "cost =  torch.sqrt(nn.MSELoss()(preds,  y_train))\n",
        "\n",
        "print(f\"Initial Cost: {cost}\")\n",
        "\n",
        "# Weight와 Bias를 cost를 줄이는 방향으로 업데이트 ~ Optimization(최적화)\n",
        "#optimizer = torch.optim.SGD( model.parameters(), lr=0.000015)\n",
        "optimizer = torch.optim.SGD( model.parameters(), lr=0.0001)\n",
        "\n",
        "nb_epochs = 10000 # 원하는만큼 경사 하강법을 반복\n",
        "for epoch in range(nb_epochs + 1):\n",
        "\n",
        "    preds = model(x_train)\n",
        "    # cost 계산\n",
        "    cost = torch.sqrt(nn.MSELoss()(preds,  y_train))\n",
        "\n",
        "    optimizer.zero_grad() # 초기화\n",
        "    cost.backward() # gradient계산\n",
        "    optimizer.step() # 계산된 gradient 값을 이용하여 W,b 업데이트\n",
        "\n",
        "\n",
        "    # 1000번마다 로그 출력\n",
        "    if epoch % 1000 == 1:\n",
        "        print('Epoch {:4d}/{},  Cost: {:.6f}'.format(\n",
        "            epoch, nb_epochs, cost.item()\n",
        "        ))\n",
        "\n",
        "preds = model(x_train)\n",
        "show_predicted(x_train, y_train, preds.detach().numpy(),ax[1])"
      ],
      "metadata": {
        "colab": {
          "base_uri": "https://localhost:8080/",
          "height": 398
        },
        "id": "RlXkCFyzfTJq",
        "outputId": "58d94712-0ff6-4957-d16b-ba7a4ce3299c"
      },
      "execution_count": null,
      "outputs": [
        {
          "output_type": "stream",
          "name": "stdout",
          "text": [
            "Initial Cost: 30571.3046875\n",
            "Epoch    1/10000,  Cost: 30570.869141\n",
            "Epoch 1001/10000,  Cost: 5353.694824\n",
            "Epoch 2001/10000,  Cost: 5286.311523\n",
            "Epoch 3001/10000,  Cost: 5189.407715\n",
            "Epoch 4001/10000,  Cost: 4991.618652\n",
            "Epoch 5001/10000,  Cost: 4976.750000\n",
            "Epoch 6001/10000,  Cost: 4850.223145\n",
            "Epoch 7001/10000,  Cost: 4744.508789\n",
            "Epoch 8001/10000,  Cost: 4644.729004\n",
            "Epoch 9001/10000,  Cost: 4560.925781\n"
          ]
        },
        {
          "output_type": "display_data",
          "data": {
            "text/plain": [
              "<Figure size 720x216 with 2 Axes>"
            ],
            "image/png": "[encoded data removed]"
          },
          "metadata": {
            "needs_background": "light"
          }
        }
      ]
    },
    {
      "cell_type": "markdown",
      "source": [
        "### 데이터를 대해 Train, Validation, Test용으로 나누는 실습을 한다 \n",
        "* 학습부/평가부를 나누어야 한다 \n",
        "* Multivariate 한 입력을 처리하는 실습을 한다"
      ],
      "metadata": {
        "id": "5-V6-Sv-RXDi"
      }
    },
    {
      "cell_type": "code",
      "source": [
        "from sklearn.model_selection import train_test_split\n",
        "\n",
        "def get_train_testset(X,y, tensor=False, show=True):\n",
        "  X_train, X_test, y_train, y_test = train_test_split(X, y, test_size=0.2)\n",
        "\n",
        "  if show:\n",
        "    fig, ax = plt.subplots(1,2, figsize=(5,2))\n",
        "    ax[0].scatter(X_train, y_train, s=100)\n",
        "    ax[1].scatter(X_test, y_test, s=100)\n",
        "\n",
        "  if tensor:\n",
        "    X_train = torch.from_numpy(X_train).float()\n",
        "    y_train = torch.from_numpy(y_train).float()\n",
        "    #X_train = x_train.view(X_train.size(0), -1)\n",
        "    #y_train = y_train.view(y_train.size(0), -1)\n",
        "\n",
        "    X_test = torch.from_numpy(X_test).float()\n",
        "    y_test = torch.from_numpy(y_test).float()\n",
        "    #X_test = X_test.view(X_test.size(0), -1)\n",
        "    #y_test = y_test.view(y_test.size(0), -1)\n",
        "\n",
        "  return X_train, X_test, y_train, y_test"
      ],
      "metadata": {
        "id": "Qr0l585YRWPm"
      },
      "execution_count": null,
      "outputs": []
    },
    {
      "cell_type": "code",
      "source": [
        "import torch \n",
        "from torch import optim\n",
        "import numpy as np\n",
        "import matplotlib.pyplot as plt\n",
        "\n",
        "seed = 27\n",
        "torch.manual_seed(seed) # cpu 연산 무작위 고정 \n",
        "torch.cuda.manual_seed(seed) # gpu 연산 무작위 고정 \n",
        "torch.cuda.manual_seed_all(seed) # 멀티 gpu 연산 무작위 고정 \n",
        "np.random.seed(seed) # numpy 관련 연산 무작위 고정\n",
        "\n",
        "x = torch.arange(1,100,1.2).float().unsqueeze(1) # start, stop, step\n",
        "y=0.15*x**3 - 20*x**2 + 5*x - 4 + 5000\n",
        "x_train, x_test, y_train, y_test = get_train_testset(x,y, show=False)\n",
        "x_train, x_val, y_train, y_val = get_train_testset(x_train,y_train, show=False)\n",
        "\n",
        "class LinearRegressionModel(nn.Module):\n",
        "\n",
        "  # 객체를 만들때에는 항상 init 이 있어야 함\n",
        "  def __init__(self):\n",
        "    super().__init__()\n",
        "    self.linear = nn.Sequential(nn.Linear(in_features=1, out_features=10, bias=True),\n",
        "                                nn.LeakyReLU(),\n",
        "                                nn.Linear(in_features=10, out_features=10, bias=True),\n",
        "                                nn.LeakyReLU(),\n",
        "                                nn.Linear(in_features=10, out_features=5, bias=True),\n",
        "                                nn.LeakyReLU(),\n",
        "                                nn.Linear(in_features=5, out_features=1, bias=True),\n",
        "                            )\n",
        "\n",
        "  def forward(self, x):\n",
        "      return self.linear(x)\n",
        "\n",
        "# 학습해야 하는 모델 선언. hidden layer 크기가 인경우를 구현한다\n",
        "model = LinearRegressionModel()\n",
        " \n",
        "# print(f\"Initial Weights: {list(model.parameters())}\")\n",
        "\n",
        "preds = model(x_train)\n",
        "\n",
        "fig, ax = plt.subplots(1,3, figsize=(10,3))\n",
        "show_predicted(x_train, y_train, preds.detach().numpy(), ax[0])\n",
        "\n",
        "cost =  torch.sqrt(nn.MSELoss()(preds,  y_train))\n",
        "\n",
        "print(f\"Initial Cost: {cost}\")\n",
        "\n",
        "# Weight와 Bias를 cost를 줄이는 방향으로 업데이트 ~ Optimization(최적화)\n",
        "optimizer = torch.optim.SGD( model.parameters(), lr=0.0003)\n",
        "\n",
        "nb_epochs = 100000 # 원하는만큼 경사 하강법을 반복\n",
        "for epoch in range(nb_epochs + 1):\n",
        "\n",
        "    preds = model(x_train)\n",
        "    # cost 계산\n",
        "    cost = torch.sqrt(nn.MSELoss()(preds, y_train))\n",
        "\n",
        "    optimizer.zero_grad() # 초기화\n",
        "    cost.backward() # gradient계산\n",
        "    optimizer.step() # 계산된 gradient 값을 이용하여 W,b 업데이트\n",
        "\n",
        "\n",
        "    preds_val = model(x_val)\n",
        "    # cost 계산\n",
        "    cost_val = torch.sqrt(nn.MSELoss()(preds_val, y_val))\n",
        "\n",
        "\n",
        "    # 1000번마다 로그 출력\n",
        "    if epoch % (nb_epochs/10) == 1:\n",
        "      print(f'Epoch {epoch:4d}/{nb_epochs}, Cost_train: {cost.item():.6f}, Cost_val: {cost_val.item():.6f}')\n",
        "\n",
        "preds = model(x_train)\n",
        "show_predicted(x_train, y_train, preds.detach().numpy(),ax[1])\n",
        "print(f\"Train accuracy(RMSE) :  {torch.sqrt(nn.MSELoss()(preds,  y_train))}\")\n",
        "\n",
        "preds_test = model(x_test)\n",
        "print(f\"Test accuracy(RMSE) : { torch.sqrt(nn.MSELoss()(preds_test,  y_test))}\")\n",
        "show_predicted(x_test, y_test, preds_test.detach().numpy(),ax[2])"
      ],
      "metadata": {
        "colab": {
          "base_uri": "https://localhost:8080/",
          "height": 432
        },
        "id": "6gU8YfcYXW9B",
        "outputId": "9bb6d105-4f3b-4c34-8608-6012f4cf3d95"
      },
      "execution_count": null,
      "outputs": [
        {
          "output_type": "stream",
          "name": "stdout",
          "text": [
            "Initial Cost: 29422.017578125\n",
            "Epoch    1/100000, Cost_train: 29421.978516, Cost_val: 27712.205078\n",
            "Epoch 10001/100000, Cost_train: 3517.961426, Cost_val: 3125.737549\n",
            "Epoch 20001/100000, Cost_train: 2871.091309, Cost_val: 3455.504395\n",
            "Epoch 30001/100000, Cost_train: 2515.645752, Cost_val: 2853.932861\n",
            "Epoch 40001/100000, Cost_train: 2377.968750, Cost_val: 2628.193359\n",
            "Epoch 50001/100000, Cost_train: 2498.940186, Cost_val: 2287.868164\n",
            "Epoch 60001/100000, Cost_train: 2343.754395, Cost_val: 1553.648804\n",
            "Epoch 70001/100000, Cost_train: 3189.262207, Cost_val: 1109.713989\n",
            "Epoch 80001/100000, Cost_train: 997.793579, Cost_val: 2454.334229\n",
            "Epoch 90001/100000, Cost_train: 1255.775513, Cost_val: 2838.122314\n",
            "Train accuracy(RMSE) :  998.219482421875\n",
            "Test accuracy(RMSE) : 1310.677490234375\n"
          ]
        },
        {
          "output_type": "display_data",
          "data": {
            "text/plain": [
              "<Figure size 720x216 with 3 Axes>"
            ],
            "image/png": "[encoded data removed]"
          },
          "metadata": {
            "needs_background": "light"
          }
        }
      ]
    },
    {
      "cell_type": "code",
      "source": [
        "import torch \n",
        "from torch import optim\n",
        "import numpy as np\n",
        "import matplotlib.pyplot as plt\n",
        "\n",
        "seed = 27\n",
        "torch.manual_seed(seed) # cpu 연산 무작위 고정 \n",
        "torch.cuda.manual_seed(seed) # gpu 연산 무작위 고정 \n",
        "torch.cuda.manual_seed_all(seed) # 멀티 gpu 연산 무작위 고정 \n",
        "np.random.seed(seed) # numpy 관련 연산 무작위 고정\n",
        "\n",
        "x = torch.arange(1,100,1.2).float().unsqueeze(1) # start, stop, step\n",
        "y=0.15*x**3 - 20*x**2 + 5*x - 4 + 5000\n",
        "x_train, x_test, y_train, y_test = get_train_testset(x,y, show=False)\n",
        "x_train, x_val, y_train, y_val = get_train_testset(x_train,y_train, show=False)\n",
        "\n",
        "class LinearRegressionModel(nn.Module):\n",
        "\n",
        "  # 객체를 만들때에는 항상 init 이 있어야 함\n",
        "  def __init__(self):\n",
        "    super().__init__()\n",
        "    self.linear = nn.Sequential(nn.Linear(in_features=1, out_features=10, bias=True),\n",
        "                                nn.LeakyReLU(),\n",
        "                                nn.Linear(in_features=10, out_features=10, bias=True),\n",
        "                                nn.LeakyReLU(),\n",
        "                                nn.Linear(in_features=10, out_features=5, bias=True),\n",
        "                                nn.LeakyReLU(),\n",
        "                                nn.Linear(in_features=5, out_features=1, bias=True),\n",
        "                            )\n",
        "\n",
        "  def forward(self, x):\n",
        "      return self.linear(x)\n",
        "\n",
        "# 학습해야 하는 모델 선언. hidden layer 크기가 인경우를 구현한다\n",
        "model = LinearRegressionModel()\n",
        " \n",
        "# print(f\"Initial Weights: {list(model.parameters())}\")\n",
        "\n",
        "preds = model(x_train)\n",
        "\n",
        "fig, ax = plt.subplots(1,3, figsize=(10,3))\n",
        "show_predicted(x_train, y_train, preds.detach().numpy(), ax[0])\n",
        "\n",
        "cost =  torch.sqrt(nn.MSELoss()(preds,  y_train))\n",
        "\n",
        "print(f\"Initial Cost: {cost}\")\n",
        "\n",
        "# Weight와 Bias를 cost를 줄이는 방향으로 업데이트 ~ Optimization(최적화)\n",
        "optimizer = torch.optim.SGD( model.parameters(), lr=0.0003)\n",
        "\n",
        "nb_epochs = 300000 # 원하는만큼 경사 하강법을 반복\n",
        "for epoch in range(nb_epochs + 1):\n",
        "\n",
        "    preds = model(x_train)\n",
        "    # cost 계산\n",
        "    cost = torch.sqrt(nn.MSELoss()(preds, y_train))\n",
        "\n",
        "    optimizer.zero_grad() # 초기화\n",
        "    cost.backward() # gradient계산\n",
        "    optimizer.step() # 계산된 gradient 값을 이용하여 W,b 업데이트\n",
        "\n",
        "\n",
        "    preds_val = model(x_val)\n",
        "    # cost 계산\n",
        "    cost_val = torch.sqrt(nn.MSELoss()(preds_val, y_val))\n",
        "\n",
        "\n",
        "    # 1000번마다 로그 출력\n",
        "    if epoch % (nb_epochs/10) == 1:\n",
        "      print(f'Epoch {epoch:4d}/{nb_epochs}, Cost_train: {cost.item():.6f}, Cost_val: {cost_val.item():.6f}')\n",
        "\n",
        "preds = model(x_train)\n",
        "show_predicted(x_train, y_train, preds.detach().numpy(),ax[1])\n",
        "print(f\"Train accuracy(RMSE) :  {torch.sqrt(nn.MSELoss()(preds,  y_train))}\")\n",
        "\n",
        "preds_test = model(x_test)\n",
        "print(f\"Test accuracy(RMSE) : { torch.sqrt(nn.MSELoss()(preds_test,  y_test))}\")\n",
        "show_predicted(x_test, y_test, preds_test.detach().numpy(),ax[2])"
      ],
      "metadata": {
        "colab": {
          "base_uri": "https://localhost:8080/",
          "height": 432
        },
        "id": "Z6AujRB2H8Ol",
        "outputId": "e7d3a0a8-fbaa-4123-89b5-f856946e7aa4"
      },
      "execution_count": null,
      "outputs": [
        {
          "output_type": "stream",
          "name": "stdout",
          "text": [
            "Initial Cost: 29422.017578125\n",
            "Epoch    1/300000, Cost_train: 29421.978516, Cost_val: 27712.205078\n",
            "Epoch 30001/300000, Cost_train: 2515.645752, Cost_val: 2853.932861\n",
            "Epoch 60001/300000, Cost_train: 2343.754395, Cost_val: 1553.648804\n",
            "Epoch 90001/300000, Cost_train: 1255.775513, Cost_val: 2838.122314\n",
            "Epoch 120001/300000, Cost_train: 913.795288, Cost_val: 3016.693848\n",
            "Epoch 150001/300000, Cost_train: 751.010803, Cost_val: 2991.822510\n",
            "Epoch 180001/300000, Cost_train: 902.087158, Cost_val: 2887.772949\n",
            "Epoch 210001/300000, Cost_train: 849.581665, Cost_val: 2897.920410\n",
            "Epoch 240001/300000, Cost_train: 715.324097, Cost_val: 2812.598145\n",
            "Epoch 270001/300000, Cost_train: 841.139099, Cost_val: 2823.304443\n",
            "Train accuracy(RMSE) :  727.8648071289062\n",
            "Test accuracy(RMSE) : 1242.1473388671875\n"
          ]
        },
        {
          "output_type": "display_data",
          "data": {
            "text/plain": [
              "<Figure size 720x216 with 3 Axes>"
            ],
            "image/png": "[encoded data removed]"
          },
          "metadata": {
            "needs_background": "light"
          }
        }
      ]
    },
    {
      "cell_type": "markdown",
      "source": [
        "# Sklearn examples"
      ],
      "metadata": {
        "id": "pmp7aciESd6W"
      }
    },
    {
      "cell_type": "code",
      "source": [
        "from sklearn.linear_model import (\n",
        "    LinearRegression,\n",
        "    TheilSenRegressor,\n",
        "    RANSACRegressor,\n",
        "    HuberRegressor,\n",
        ")\n",
        "\n",
        "x = np.arange(1,100,1.2) # start, stop, step\n",
        "y=0.15*x**3 - 20*x**2 + 5*x - 4 + 5000\n",
        "\n",
        "x_train, x_test, y_train, y_test = get_train_testset(x,y, show=False)\n",
        "x_train, x_val, y_train, y_val = get_train_testset(x_train,y_train, show=False)\n",
        "\n",
        "plt.scatter(x_train, y_train, color=\"black\")\n",
        "\n",
        "model_linear= LinearRegression() #random_state=20)\n",
        "model_squared= LinearRegression() #random_state=20)\n",
        "model_cubic= LinearRegression() #random_state=20)\n",
        "\n",
        "x2=x_train**2\n",
        "x3=x_train**3\n",
        "\n",
        "model_linear.fit(np.vstack([x_train]).T, y_train)\n",
        "model_squared.fit(np.vstack([x_train,x2]).T, y_train)\n",
        "model_cubic.fit(np.vstack([x_train,x2,x3]).T, y_train)\n",
        "\n",
        "\n",
        "yf_linear=model_linear.predict(np.vstack([x_test]).T)\n",
        "yf_squared=model_squared.predict(np.vstack([x_test,x_test**2]).T)\n",
        "yf_cubic=model_cubic.predict(np.vstack([x_test,x_test**2,x_test**3]).T)\n",
        "\n",
        "plt.plot(x_test,yf_linear, label=\"linear\")\n",
        "plt.plot(x_test,yf_squared, label=\"squared\")\n",
        "plt.plot(x_test,yf_cubic, label=\"cubic\")\n",
        "plt.legend()\n",
        "\n",
        "from sklearn.metrics import mean_squared_error\n",
        "print (f\"Error yf_linear: {mean_squared_error(y_test, yf_linear, squared=False):.6f}\")\n",
        "print (f\"Error yf_squared: {mean_squared_error(y_test, yf_squared, squared=False):.6f}\")\n",
        "print (f\"Error yf_cubic: {mean_squared_error(y_test, yf_cubic, squared=False):.6f}\")"
      ],
      "metadata": {
        "colab": {
          "base_uri": "https://localhost:8080/",
          "height": 316
        },
        "id": "h2tNBE3vScrS",
        "outputId": "011e664e-715b-495a-aaa2-80b43d2e575e"
      },
      "execution_count": null,
      "outputs": [
        {
          "output_type": "stream",
          "name": "stdout",
          "text": [
            "Error yf_linear: 3269.227433\n",
            "Error yf_squared: 2704.302959\n",
            "Error yf_cubic: 0.000000\n"
          ]
        },
        {
          "output_type": "display_data",
          "data": {
            "text/plain": [
              "<Figure size 432x288 with 1 Axes>"
            ],
            "image/png": "[encoded data removed]"
          },
          "metadata": {
            "needs_background": "light"
          }
        }
      ]
    },
    {
      "cell_type": "markdown",
      "source": [
        "### multivariate 입력을 활용하여 아래 모듈들을 실습해 본다. \n",
        "* MLP \n",
        "* LSTM\n",
        "* TCN"
      ],
      "metadata": {
        "id": "bgxcqxJwRmE_"
      }
    },
    {
      "cell_type": "code",
      "source": [
        "#importing the inbuilt dataset in sklearn package for performing regression analysis.\n",
        "from sklearn import datasets\n",
        "diabetes = datasets.load_diabetes()\n",
        "print(diabetes.DESCR)"
      ],
      "metadata": {
        "id": "hjkLNrYNRPpf",
        "colab": {
          "base_uri": "https://localhost:8080/"
        },
        "outputId": "d70c8910-2b7c-4c2e-8ccb-96c0089e4377"
      },
      "execution_count": null,
      "outputs": [
        {
          "output_type": "stream",
          "name": "stdout",
          "text": [
            ".. _diabetes_dataset:\n",
            "\n",
            "Diabetes dataset\n",
            "----------------\n",
            "\n",
            "Ten baseline variables, age, sex, body mass index, average blood\n",
            "pressure, and six blood serum measurements were obtained for each of n =\n",
            "442 diabetes patients, as well as the response of interest, a\n",
            "quantitative measure of disease progression one year after baseline.\n",
            "\n",
            "**Data Set Characteristics:**\n",
            "\n",
            "  :Number of Instances: 442\n",
            "\n",
            "  :Number of Attributes: First 10 columns are numeric predictive values\n",
            "\n",
            "  :Target: Column 11 is a quantitative measure of disease progression one year after baseline\n",
            "\n",
            "  :Attribute Information:\n",
            "      - age     age in years\n",
            "      - sex\n",
            "      - bmi     body mass index\n",
            "      - bp      average blood pressure\n",
            "      - s1      tc, total serum cholesterol\n",
            "      - s2      ldl, low-density lipoproteins\n",
            "      - s3      hdl, high-density lipoproteins\n",
            "      - s4      tch, total cholesterol / HDL\n",
            "      - s5      ltg, possibly log of serum triglycerides level\n",
            "      - s6      glu, blood sugar level\n",
            "\n",
            "Note: Each of these 10 feature variables have been mean centered and scaled by the standard deviation times `n_samples` (i.e. the sum of squares of each column totals 1).\n",
            "\n",
            "Source URL:\n",
            "https://www4.stat.ncsu.edu/~boos/var.select/diabetes.html\n",
            "\n",
            "For more information see:\n",
            "Bradley Efron, Trevor Hastie, Iain Johnstone and Robert Tibshirani (2004) \"Least Angle Regression,\" Annals of Statistics (with discussion), 407-499.\n",
            "(https://web.stanford.edu/~hastie/Papers/LARS/LeastAngle_2002.pdf)\n"
          ]
        }
      ]
    },
    {
      "cell_type": "code",
      "source": [
        "print(f\"feature names: {diabetes.feature_names }\")\n",
        "print(f\"data shape: {diabetes.data.shape}\")"
      ],
      "metadata": {
        "colab": {
          "base_uri": "https://localhost:8080/"
        },
        "id": "IDPeUkophYCj",
        "outputId": "87d28c80-3f03-4eec-8c13-29cbcf898d29"
      },
      "execution_count": null,
      "outputs": [
        {
          "output_type": "stream",
          "name": "stdout",
          "text": [
            "feature names: ['age', 'sex', 'bmi', 'bp', 's1', 's2', 's3', 's4', 's5', 's6']\n",
            "data shape: (442, 10)\n"
          ]
        }
      ]
    },
    {
      "cell_type": "code",
      "source": [
        "import pandas as pd\n",
        "\n",
        "df_data = pd.DataFrame(diabetes.data,columns=diabetes.feature_names)\n",
        "df_data['target'] = diabetes.target # add target\n",
        "df_data.head()"
      ],
      "metadata": {
        "colab": {
          "base_uri": "https://localhost:8080/",
          "height": 204
        },
        "id": "3wyVM1xHhy6O",
        "outputId": "a406a247-a7ee-42ac-a991-4d3d52eb93d4"
      },
      "execution_count": null,
      "outputs": [
        {
          "output_type": "execute_result",
          "data": {
            "text/plain": [
              "        age       sex       bmi        bp        s1        s2        s3  \\\n",
              "0  0.038076  0.050680  0.061696  0.021872 -0.044223 -0.034821 -0.043401   \n",
              "1 -0.001882 -0.044642 -0.051474 -0.026328 -0.008449 -0.019163  0.074412   \n",
              "2  0.085299  0.050680  0.044451 -0.005671 -0.045599 -0.034194 -0.032356   \n",
              "3 -0.089063 -0.044642 -0.011595 -0.036656  0.012191  0.024991 -0.036038   \n",
              "4  0.005383 -0.044642 -0.036385  0.021872  0.003935  0.015596  0.008142   \n",
              "\n",
              "         s4        s5        s6  target  \n",
              "0 -0.002592  0.019908 -0.017646   151.0  \n",
              "1 -0.039493 -0.068330 -0.092204    75.0  \n",
              "2 -0.002592  0.002864 -0.025930   141.0  \n",
              "3  0.034309  0.022692 -0.009362   206.0  \n",
              "4 -0.002592 -0.031991 -0.046641   135.0  "
            ],
            "text/html": [
              "\n",
              "  <div id=\"df-b4a1333c-40ee-4ba1-9de6-d4690958ec12\">\n",
              "    <div class=\"colab-df-container\">\n",
              "      <div>\n",
              "<style scoped>\n",
              "    .dataframe tbody tr th:only-of-type {\n",
              "        vertical-align: middle;\n",
              "    }\n",
              "\n",
              "    .dataframe tbody tr th {\n",
              "        vertical-align: top;\n",
              "    }\n",
              "\n",
              "    .dataframe thead th {\n",
              "        text-align: right;\n",
              "    }\n",
              "</style>\n",
              "<table border=\"1\" class=\"dataframe\">\n",
              "  <thead>\n",
              "    <tr style=\"text-align: right;\">\n",
              "      <th></th>\n",
              "      <th>age</th>\n",
              "      <th>sex</th>\n",
              "      <th>bmi</th>\n",
              "      <th>bp</th>\n",
              "      <th>s1</th>\n",
              "      <th>s2</th>\n",
              "      <th>s3</th>\n",
              "      <th>s4</th>\n",
              "      <th>s5</th>\n",
              "      <th>s6</th>\n",
              "      <th>target</th>\n",
              "    </tr>\n",
              "  </thead>\n",
              "  <tbody>\n",
              "    <tr>\n",
              "      <th>0</th>\n",
              "      <td>0.038076</td>\n",
              "      <td>0.050680</td>\n",
              "      <td>0.061696</td>\n",
              "      <td>0.021872</td>\n",
              "      <td>-0.044223</td>\n",
              "      <td>-0.034821</td>\n",
              "      <td>-0.043401</td>\n",
              "      <td>-0.002592</td>\n",
              "      <td>0.019908</td>\n",
              "      <td>-0.017646</td>\n",
              "      <td>151.0</td>\n",
              "    </tr>\n",
              "    <tr>\n",
              "      <th>1</th>\n",
              "      <td>-0.001882</td>\n",
              "      <td>-0.044642</td>\n",
              "      <td>-0.051474</td>\n",
              "      <td>-0.026328</td>\n",
              "      <td>-0.008449</td>\n",
              "      <td>-0.019163</td>\n",
              "      <td>0.074412</td>\n",
              "      <td>-0.039493</td>\n",
              "      <td>-0.068330</td>\n",
              "      <td>-0.092204</td>\n",
              "      <td>75.0</td>\n",
              "    </tr>\n",
              "    <tr>\n",
              "      <th>2</th>\n",
              "      <td>0.085299</td>\n",
              "      <td>0.050680</td>\n",
              "      <td>0.044451</td>\n",
              "      <td>-0.005671</td>\n",
              "      <td>-0.045599</td>\n",
              "      <td>-0.034194</td>\n",
              "      <td>-0.032356</td>\n",
              "      <td>-0.002592</td>\n",
              "      <td>0.002864</td>\n",
              "      <td>-0.025930</td>\n",
              "      <td>141.0</td>\n",
              "    </tr>\n",
              "    <tr>\n",
              "      <th>3</th>\n",
              "      <td>-0.089063</td>\n",
              "      <td>-0.044642</td>\n",
              "      <td>-0.011595</td>\n",
              "      <td>-0.036656</td>\n",
              "      <td>0.012191</td>\n",
              "      <td>0.024991</td>\n",
              "      <td>-0.036038</td>\n",
              "      <td>0.034309</td>\n",
              "      <td>0.022692</td>\n",
              "      <td>-0.009362</td>\n",
              "      <td>206.0</td>\n",
              "    </tr>\n",
              "    <tr>\n",
              "      <th>4</th>\n",
              "      <td>0.005383</td>\n",
              "      <td>-0.044642</td>\n",
              "      <td>-0.036385</td>\n",
              "      <td>0.021872</td>\n",
              "      <td>0.003935</td>\n",
              "      <td>0.015596</td>\n",
              "      <td>0.008142</td>\n",
              "      <td>-0.002592</td>\n",
              "      <td>-0.031991</td>\n",
              "      <td>-0.046641</td>\n",
              "      <td>135.0</td>\n",
              "    </tr>\n",
              "  </tbody>\n",
              "</table>\n",
              "</div>\n",
              "      <button class=\"colab-df-convert\" onclick=\"convertToInteractive('df-b4a1333c-40ee-4ba1-9de6-d4690958ec12')\"\n",
              "              title=\"Convert this dataframe to an interactive table.\"\n",
              "              style=\"display:none;\">\n",
              "        \n",
              "  <svg xmlns=\"http://www.w3.org/2000/svg\" height=\"24px\"viewBox=\"0 0 24 24\"\n",
              "       width=\"24px\">\n",
              "    <path d=\"M0 0h24v24H0V0z\" fill=\"none\"/>\n",
              "    <path d=\"M18.56 5.44l.94 2.06.94-2.06 2.06-.94-2.06-.94-.94-2.06-.94 2.06-2.06.94zm-11 1L8.5 8.5l.94-2.06 2.06-.94-2.06-.94L8.5 2.5l-.94 2.06-2.06.94zm10 10l.94 2.06.94-2.06 2.06-.94-2.06-.94-.94-2.06-.94 2.06-2.06.94z\"/><path d=\"M17.41 7.96l-1.37-1.37c-.4-.4-.92-.59-1.43-.59-.52 0-1.04.2-1.43.59L10.3 9.45l-7.72 7.72c-.78.78-.78 2.05 0 2.83L4 21.41c.39.39.9.59 1.41.59.51 0 1.02-.2 1.41-.59l7.78-7.78 2.81-2.81c.8-.78.8-2.07 0-2.86zM5.41 20L4 18.59l7.72-7.72 1.47 1.35L5.41 20z\"/>\n",
              "  </svg>\n",
              "      </button>\n",
              "      \n",
              "  <style>\n",
              "    .colab-df-container {\n",
              "      display:flex;\n",
              "      flex-wrap:wrap;\n",
              "      gap: 12px;\n",
              "    }\n",
              "\n",
              "    .colab-df-convert {\n",
              "      background-color: #E8F0FE;\n",
              "      border: none;\n",
              "      border-radius: 50%;\n",
              "      cursor: pointer;\n",
              "      display: none;\n",
              "      fill: #1967D2;\n",
              "      height: 32px;\n",
              "      padding: 0 0 0 0;\n",
              "      width: 32px;\n",
              "    }\n",
              "\n",
              "    .colab-df-convert:hover {\n",
              "      background-color: #E2EBFA;\n",
              "      box-shadow: 0px 1px 2px rgba(60, 64, 67, 0.3), 0px 1px 3px 1px rgba(60, 64, 67, 0.15);\n",
              "      fill: #174EA6;\n",
              "    }\n",
              "\n",
              "    [theme=dark] .colab-df-convert {\n",
              "      background-color: #3B4455;\n",
              "      fill: #D2E3FC;\n",
              "    }\n",
              "\n",
              "    [theme=dark] .colab-df-convert:hover {\n",
              "      background-color: #434B5C;\n",
              "      box-shadow: 0px 1px 3px 1px rgba(0, 0, 0, 0.15);\n",
              "      filter: drop-shadow(0px 1px 2px rgba(0, 0, 0, 0.3));\n",
              "      fill: #FFFFFF;\n",
              "    }\n",
              "  </style>\n",
              "\n",
              "      <script>\n",
              "        const buttonEl =\n",
              "          document.querySelector('#df-b4a1333c-40ee-4ba1-9de6-d4690958ec12 button.colab-df-convert');\n",
              "        buttonEl.style.display =\n",
              "          google.colab.kernel.accessAllowed ? 'block' : 'none';\n",
              "\n",
              "        async function convertToInteractive(key) {\n",
              "          const element = document.querySelector('#df-b4a1333c-40ee-4ba1-9de6-d4690958ec12');\n",
              "          const dataTable =\n",
              "            await google.colab.kernel.invokeFunction('convertToInteractive',\n",
              "                                                     [key], {});\n",
              "          if (!dataTable) return;\n",
              "\n",
              "          const docLinkHtml = 'Like what you see? Visit the ' +\n",
              "            '<a target=\"_blank\" href=https://colab.research.google.com/notebooks/data_table.ipynb>data table notebook</a>'\n",
              "            + ' to learn more about interactive tables.';\n",
              "          element.innerHTML = '';\n",
              "          dataTable['output_type'] = 'display_data';\n",
              "          await google.colab.output.renderOutput(dataTable, element);\n",
              "          const docLink = document.createElement('div');\n",
              "          docLink.innerHTML = docLinkHtml;\n",
              "          element.appendChild(docLink);\n",
              "        }\n",
              "      </script>\n",
              "    </div>\n",
              "  </div>\n",
              "  "
            ]
          },
          "metadata": {},
          "execution_count": 72
        }
      ]
    },
    {
      "cell_type": "markdown",
      "source": [
        "## 데이터 확인 \n",
        " * 데이터에 NaN이 있는지 확인\n",
        " * 인자간 상관관계 확인"
      ],
      "metadata": {
        "id": "7L2TvqwFiUf8"
      }
    },
    {
      "cell_type": "code",
      "source": [
        "df_data.describe()"
      ],
      "metadata": {
        "colab": {
          "base_uri": "https://localhost:8080/",
          "height": 297
        },
        "id": "pBhwIcsknd0-",
        "outputId": "cf2fa619-0d3e-4e88-d652-c18ca2d1d59b"
      },
      "execution_count": null,
      "outputs": [
        {
          "output_type": "execute_result",
          "data": {
            "text/plain": [
              "                age           sex           bmi            bp            s1  \\\n",
              "count  4.420000e+02  4.420000e+02  4.420000e+02  4.420000e+02  4.420000e+02   \n",
              "mean  -3.639623e-16  1.309912e-16 -8.013951e-16  1.289818e-16 -9.042540e-17   \n",
              "std    4.761905e-02  4.761905e-02  4.761905e-02  4.761905e-02  4.761905e-02   \n",
              "min   -1.072256e-01 -4.464164e-02 -9.027530e-02 -1.123996e-01 -1.267807e-01   \n",
              "25%   -3.729927e-02 -4.464164e-02 -3.422907e-02 -3.665645e-02 -3.424784e-02   \n",
              "50%    5.383060e-03 -4.464164e-02 -7.283766e-03 -5.670611e-03 -4.320866e-03   \n",
              "75%    3.807591e-02  5.068012e-02  3.124802e-02  3.564384e-02  2.835801e-02   \n",
              "max    1.107267e-01  5.068012e-02  1.705552e-01  1.320442e-01  1.539137e-01   \n",
              "\n",
              "                 s2            s3            s4            s5            s6  \\\n",
              "count  4.420000e+02  4.420000e+02  4.420000e+02  4.420000e+02  4.420000e+02   \n",
              "mean   1.301121e-16 -4.563971e-16  3.863174e-16 -3.848103e-16 -3.398488e-16   \n",
              "std    4.761905e-02  4.761905e-02  4.761905e-02  4.761905e-02  4.761905e-02   \n",
              "min   -1.156131e-01 -1.023071e-01 -7.639450e-02 -1.260974e-01 -1.377672e-01   \n",
              "25%   -3.035840e-02 -3.511716e-02 -3.949338e-02 -3.324879e-02 -3.317903e-02   \n",
              "50%   -3.819065e-03 -6.584468e-03 -2.592262e-03 -1.947634e-03 -1.077698e-03   \n",
              "75%    2.984439e-02  2.931150e-02  3.430886e-02  3.243323e-02  2.791705e-02   \n",
              "max    1.987880e-01  1.811791e-01  1.852344e-01  1.335990e-01  1.356118e-01   \n",
              "\n",
              "           target  \n",
              "count  442.000000  \n",
              "mean   152.133484  \n",
              "std     77.093005  \n",
              "min     25.000000  \n",
              "25%     87.000000  \n",
              "50%    140.500000  \n",
              "75%    211.500000  \n",
              "max    346.000000  "
            ],
            "text/html": [
              "\n",
              "  <div id=\"df-f794d9f5-42e6-4bc1-8a94-e21a34bd5dba\">\n",
              "    <div class=\"colab-df-container\">\n",
              "      <div>\n",
              "<style scoped>\n",
              "    .dataframe tbody tr th:only-of-type {\n",
              "        vertical-align: middle;\n",
              "    }\n",
              "\n",
              "    .dataframe tbody tr th {\n",
              "        vertical-align: top;\n",
              "    }\n",
              "\n",
              "    .dataframe thead th {\n",
              "        text-align: right;\n",
              "    }\n",
              "</style>\n",
              "<table border=\"1\" class=\"dataframe\">\n",
              "  <thead>\n",
              "    <tr style=\"text-align: right;\">\n",
              "      <th></th>\n",
              "      <th>age</th>\n",
              "      <th>sex</th>\n",
              "      <th>bmi</th>\n",
              "      <th>bp</th>\n",
              "      <th>s1</th>\n",
              "      <th>s2</th>\n",
              "      <th>s3</th>\n",
              "      <th>s4</th>\n",
              "      <th>s5</th>\n",
              "      <th>s6</th>\n",
              "      <th>target</th>\n",
              "    </tr>\n",
              "  </thead>\n",
              "  <tbody>\n",
              "    <tr>\n",
              "      <th>count</th>\n",
              "      <td>4.420000e+02</td>\n",
              "      <td>4.420000e+02</td>\n",
              "      <td>4.420000e+02</td>\n",
              "      <td>4.420000e+02</td>\n",
              "      <td>4.420000e+02</td>\n",
              "      <td>4.420000e+02</td>\n",
              "      <td>4.420000e+02</td>\n",
              "      <td>4.420000e+02</td>\n",
              "      <td>4.420000e+02</td>\n",
              "      <td>4.420000e+02</td>\n",
              "      <td>442.000000</td>\n",
              "    </tr>\n",
              "    <tr>\n",
              "      <th>mean</th>\n",
              "      <td>-3.639623e-16</td>\n",
              "      <td>1.309912e-16</td>\n",
              "      <td>-8.013951e-16</td>\n",
              "      <td>1.289818e-16</td>\n",
              "      <td>-9.042540e-17</td>\n",
              "      <td>1.301121e-16</td>\n",
              "      <td>-4.563971e-16</td>\n",
              "      <td>3.863174e-16</td>\n",
              "      <td>-3.848103e-16</td>\n",
              "      <td>-3.398488e-16</td>\n",
              "      <td>152.133484</td>\n",
              "    </tr>\n",
              "    <tr>\n",
              "      <th>std</th>\n",
              "      <td>4.761905e-02</td>\n",
              "      <td>4.761905e-02</td>\n",
              "      <td>4.761905e-02</td>\n",
              "      <td>4.761905e-02</td>\n",
              "      <td>4.761905e-02</td>\n",
              "      <td>4.761905e-02</td>\n",
              "      <td>4.761905e-02</td>\n",
              "      <td>4.761905e-02</td>\n",
              "      <td>4.761905e-02</td>\n",
              "      <td>4.761905e-02</td>\n",
              "      <td>77.093005</td>\n",
              "    </tr>\n",
              "    <tr>\n",
              "      <th>min</th>\n",
              "      <td>-1.072256e-01</td>\n",
              "      <td>-4.464164e-02</td>\n",
              "      <td>-9.027530e-02</td>\n",
              "      <td>-1.123996e-01</td>\n",
              "      <td>-1.267807e-01</td>\n",
              "      <td>-1.156131e-01</td>\n",
              "      <td>-1.023071e-01</td>\n",
              "      <td>-7.639450e-02</td>\n",
              "      <td>-1.260974e-01</td>\n",
              "      <td>-1.377672e-01</td>\n",
              "      <td>25.000000</td>\n",
              "    </tr>\n",
              "    <tr>\n",
              "      <th>25%</th>\n",
              "      <td>-3.729927e-02</td>\n",
              "      <td>-4.464164e-02</td>\n",
              "      <td>-3.422907e-02</td>\n",
              "      <td>-3.665645e-02</td>\n",
              "      <td>-3.424784e-02</td>\n",
              "      <td>-3.035840e-02</td>\n",
              "      <td>-3.511716e-02</td>\n",
              "      <td>-3.949338e-02</td>\n",
              "      <td>-3.324879e-02</td>\n",
              "      <td>-3.317903e-02</td>\n",
              "      <td>87.000000</td>\n",
              "    </tr>\n",
              "    <tr>\n",
              "      <th>50%</th>\n",
              "      <td>5.383060e-03</td>\n",
              "      <td>-4.464164e-02</td>\n",
              "      <td>-7.283766e-03</td>\n",
              "      <td>-5.670611e-03</td>\n",
              "      <td>-4.320866e-03</td>\n",
              "      <td>-3.819065e-03</td>\n",
              "      <td>-6.584468e-03</td>\n",
              "      <td>-2.592262e-03</td>\n",
              "      <td>-1.947634e-03</td>\n",
              "      <td>-1.077698e-03</td>\n",
              "      <td>140.500000</td>\n",
              "    </tr>\n",
              "    <tr>\n",
              "      <th>75%</th>\n",
              "      <td>3.807591e-02</td>\n",
              "      <td>5.068012e-02</td>\n",
              "      <td>3.124802e-02</td>\n",
              "      <td>3.564384e-02</td>\n",
              "      <td>2.835801e-02</td>\n",
              "      <td>2.984439e-02</td>\n",
              "      <td>2.931150e-02</td>\n",
              "      <td>3.430886e-02</td>\n",
              "      <td>3.243323e-02</td>\n",
              "      <td>2.791705e-02</td>\n",
              "      <td>211.500000</td>\n",
              "    </tr>\n",
              "    <tr>\n",
              "      <th>max</th>\n",
              "      <td>1.107267e-01</td>\n",
              "      <td>5.068012e-02</td>\n",
              "      <td>1.705552e-01</td>\n",
              "      <td>1.320442e-01</td>\n",
              "      <td>1.539137e-01</td>\n",
              "      <td>1.987880e-01</td>\n",
              "      <td>1.811791e-01</td>\n",
              "      <td>1.852344e-01</td>\n",
              "      <td>1.335990e-01</td>\n",
              "      <td>1.356118e-01</td>\n",
              "      <td>346.000000</td>\n",
              "    </tr>\n",
              "  </tbody>\n",
              "</table>\n",
              "</div>\n",
              "      <button class=\"colab-df-convert\" onclick=\"convertToInteractive('df-f794d9f5-42e6-4bc1-8a94-e21a34bd5dba')\"\n",
              "              title=\"Convert this dataframe to an interactive table.\"\n",
              "              style=\"display:none;\">\n",
              "        \n",
              "  <svg xmlns=\"http://www.w3.org/2000/svg\" height=\"24px\"viewBox=\"0 0 24 24\"\n",
              "       width=\"24px\">\n",
              "    <path d=\"M0 0h24v24H0V0z\" fill=\"none\"/>\n",
              "    <path d=\"M18.56 5.44l.94 2.06.94-2.06 2.06-.94-2.06-.94-.94-2.06-.94 2.06-2.06.94zm-11 1L8.5 8.5l.94-2.06 2.06-.94-2.06-.94L8.5 2.5l-.94 2.06-2.06.94zm10 10l.94 2.06.94-2.06 2.06-.94-2.06-.94-.94-2.06-.94 2.06-2.06.94z\"/><path d=\"M17.41 7.96l-1.37-1.37c-.4-.4-.92-.59-1.43-.59-.52 0-1.04.2-1.43.59L10.3 9.45l-7.72 7.72c-.78.78-.78 2.05 0 2.83L4 21.41c.39.39.9.59 1.41.59.51 0 1.02-.2 1.41-.59l7.78-7.78 2.81-2.81c.8-.78.8-2.07 0-2.86zM5.41 20L4 18.59l7.72-7.72 1.47 1.35L5.41 20z\"/>\n",
              "  </svg>\n",
              "      </button>\n",
              "      \n",
              "  <style>\n",
              "    .colab-df-container {\n",
              "      display:flex;\n",
              "      flex-wrap:wrap;\n",
              "      gap: 12px;\n",
              "    }\n",
              "\n",
              "    .colab-df-convert {\n",
              "      background-color: #E8F0FE;\n",
              "      border: none;\n",
              "      border-radius: 50%;\n",
              "      cursor: pointer;\n",
              "      display: none;\n",
              "      fill: #1967D2;\n",
              "      height: 32px;\n",
              "      padding: 0 0 0 0;\n",
              "      width: 32px;\n",
              "    }\n",
              "\n",
              "    .colab-df-convert:hover {\n",
              "      background-color: #E2EBFA;\n",
              "      box-shadow: 0px 1px 2px rgba(60, 64, 67, 0.3), 0px 1px 3px 1px rgba(60, 64, 67, 0.15);\n",
              "      fill: #174EA6;\n",
              "    }\n",
              "\n",
              "    [theme=dark] .colab-df-convert {\n",
              "      background-color: #3B4455;\n",
              "      fill: #D2E3FC;\n",
              "    }\n",
              "\n",
              "    [theme=dark] .colab-df-convert:hover {\n",
              "      background-color: #434B5C;\n",
              "      box-shadow: 0px 1px 3px 1px rgba(0, 0, 0, 0.15);\n",
              "      filter: drop-shadow(0px 1px 2px rgba(0, 0, 0, 0.3));\n",
              "      fill: #FFFFFF;\n",
              "    }\n",
              "  </style>\n",
              "\n",
              "      <script>\n",
              "        const buttonEl =\n",
              "          document.querySelector('#df-f794d9f5-42e6-4bc1-8a94-e21a34bd5dba button.colab-df-convert');\n",
              "        buttonEl.style.display =\n",
              "          google.colab.kernel.accessAllowed ? 'block' : 'none';\n",
              "\n",
              "        async function convertToInteractive(key) {\n",
              "          const element = document.querySelector('#df-f794d9f5-42e6-4bc1-8a94-e21a34bd5dba');\n",
              "          const dataTable =\n",
              "            await google.colab.kernel.invokeFunction('convertToInteractive',\n",
              "                                                     [key], {});\n",
              "          if (!dataTable) return;\n",
              "\n",
              "          const docLinkHtml = 'Like what you see? Visit the ' +\n",
              "            '<a target=\"_blank\" href=https://colab.research.google.com/notebooks/data_table.ipynb>data table notebook</a>'\n",
              "            + ' to learn more about interactive tables.';\n",
              "          element.innerHTML = '';\n",
              "          dataTable['output_type'] = 'display_data';\n",
              "          await google.colab.output.renderOutput(dataTable, element);\n",
              "          const docLink = document.createElement('div');\n",
              "          docLink.innerHTML = docLinkHtml;\n",
              "          element.appendChild(docLink);\n",
              "        }\n",
              "      </script>\n",
              "    </div>\n",
              "  </div>\n",
              "  "
            ]
          },
          "metadata": {},
          "execution_count": 105
        }
      ]
    },
    {
      "cell_type": "code",
      "source": [
        "print(df_data.isna().sum())\n",
        "print(f\"NaN Exist = {df_data.isna().any().any()}\")"
      ],
      "metadata": {
        "colab": {
          "base_uri": "https://localhost:8080/"
        },
        "id": "nM_K1aQgiRpN",
        "outputId": "508019cc-c5aa-4ed3-a242-272b37cc6491"
      },
      "execution_count": null,
      "outputs": [
        {
          "output_type": "stream",
          "name": "stdout",
          "text": [
            "age       0\n",
            "sex       0\n",
            "bmi       0\n",
            "bp        0\n",
            "s1        0\n",
            "s2        0\n",
            "s3        0\n",
            "s4        0\n",
            "s5        0\n",
            "s6        0\n",
            "target    0\n",
            "dtype: int64\n",
            "NaN Exist = False\n"
          ]
        }
      ]
    },
    {
      "cell_type": "code",
      "source": [
        "import seaborn as sns\n",
        "plt.subplots(figsize=(8,8))\n",
        "sns.heatmap(df_data.corr(),cmap= 'RdYlGn',annot=True)\n",
        "plt.show()\n"
      ],
      "metadata": {
        "colab": {
          "base_uri": "https://localhost:8080/",
          "height": 487
        },
        "id": "6IaX4bZ8iR7w",
        "outputId": "230f1ccb-2b45-4270-962f-995809800fa5"
      },
      "execution_count": null,
      "outputs": [
        {
          "output_type": "display_data",
          "data": {
            "text/plain": [
              "<Figure size 576x576 with 2 Axes>"
            ],
            "image/png": "[encoded data removed]"
          },
          "metadata": {
            "needs_background": "light"
          }
        }
      ]
    },
    {
      "cell_type": "code",
      "source": [
        "\n",
        "#independent variables / explanatory variables\n",
        "x = df_data.drop(labels='target', axis=1)  #axis=1 means we drop data by column.\n",
        "\n",
        "#dependent variable / response / target variable.\n",
        "y = df_data['target']\n"
      ],
      "metadata": {
        "colab": {
          "base_uri": "https://localhost:8080/"
        },
        "id": "3jbZ9mKzkIhp",
        "outputId": "70cb7949-5b18-4a58-8bdc-5b41e044cfe5"
      },
      "execution_count": null,
      "outputs": [
        {
          "output_type": "execute_result",
          "data": {
            "text/plain": [
              "((442, 10), (442,))"
            ]
          },
          "metadata": {},
          "execution_count": 91
        }
      ]
    },
    {
      "cell_type": "code",
      "source": [
        "x_train, x_test, y_train, y_test = get_train_testset(x.values,y.values, tensor=True, show=False)\n",
        "x_train, x_val, y_train, y_val = get_train_testset(x_train,y_train,  show=False)\n",
        "\n",
        "y_train = y_train.view(-1,1)\n",
        "y_val = y_val.view(-1,1)\n",
        "y_test = y_test.view(-1,1)\n",
        "\n",
        "print(x_train.shape)\n",
        "print(x_test.shape)\n",
        "print(y_train.shape)\n",
        "print(y_test.shape)\n"
      ],
      "metadata": {
        "colab": {
          "base_uri": "https://localhost:8080/"
        },
        "id": "HSjAgXepkSij",
        "outputId": "91c3d1e0-d015-4053-d3c2-d74cb6b8dd84"
      },
      "execution_count": null,
      "outputs": [
        {
          "output_type": "stream",
          "name": "stdout",
          "text": [
            "torch.Size([282, 10])\n",
            "torch.Size([89, 10])\n",
            "torch.Size([282, 1])\n",
            "torch.Size([89, 1])\n"
          ]
        }
      ]
    },
    {
      "cell_type": "code",
      "source": [
        "import torch \n",
        "from torch import optim\n",
        "import numpy as np\n",
        "import matplotlib.pyplot as plt\n",
        "\n",
        "seed = 27\n",
        "torch.manual_seed(seed) # cpu 연산 무작위 고정 \n",
        "torch.cuda.manual_seed(seed) # gpu 연산 무작위 고정 \n",
        "torch.cuda.manual_seed_all(seed) # 멀티 gpu 연산 무작위 고정 \n",
        "np.random.seed(seed) # numpy 관련 연산 무작위 고정\n",
        "\n",
        "\n",
        "class LinearRegressionModel(nn.Module):\n",
        "\n",
        "  # 객체를 만들때에는 항상 init 이 있어야 함\n",
        "  def __init__(self):\n",
        "    super().__init__()\n",
        "    self.linear = nn.Sequential(nn.Linear(in_features=10, out_features=30, bias=True),\n",
        "                                nn.LeakyReLU(),\n",
        "                                nn.Linear(in_features=30, out_features=30, bias=True),\n",
        "                                nn.LeakyReLU(),\n",
        "                                nn.Linear(in_features=30, out_features=5, bias=True),\n",
        "                                nn.LeakyReLU(),\n",
        "                                nn.Linear(in_features=5, out_features=1, bias=True),\n",
        "                            )\n",
        "\n",
        "  def forward(self, x):\n",
        "      return self.linear(x)\n",
        "\n",
        "# 학습해야 하는 모델 선언. hidden layer 크기가 인경우를 구현한다\n",
        "model = LinearRegressionModel()\n",
        "preds = model(x_train)\n",
        "\n",
        "fig, ax = plt.subplots(1,3, figsize=(10,3))\n",
        "show_predicted(range(x_train.shape[0]), y_train, preds.detach().numpy(), ax[0])\n",
        "\n",
        "cost =  torch.sqrt(nn.MSELoss()(preds,  y_train))\n",
        "\n",
        "print(f\"Initial Cost: {cost}\")\n",
        "\n",
        "# Weight와 Bias를 cost를 줄이는 방향으로 업데이트 ~ Optimization(최적화)\n",
        "optimizer = torch.optim.SGD( model.parameters(), lr=0.0003)\n",
        "\n",
        "nb_epochs = 100000 # 원하는만큼 경사 하강법을 반복\n",
        "for epoch in range(nb_epochs + 1):\n",
        "\n",
        "    preds = model(x_train)\n",
        "    # cost 계산\n",
        "    cost = torch.sqrt(nn.MSELoss()(preds, y_train))\n",
        "\n",
        "    optimizer.zero_grad() # 초기화\n",
        "    cost.backward() # gradient계산\n",
        "    optimizer.step() # 계산된 gradient 값을 이용하여 W,b 업데이트\n",
        "\n",
        "\n",
        "    preds_val = model(x_val)\n",
        "    # cost 계산\n",
        "    cost_val = torch.sqrt(nn.MSELoss()(preds_val, y_val))\n",
        "\n",
        "\n",
        "    # 1000번마다 로그 출력\n",
        "    if epoch % (nb_epochs/10) == 1:\n",
        "      print(f'Epoch {epoch:4d}/{nb_epochs}, Cost_train: {cost.item():.6f}, Cost_val: {cost_val.item():.6f}')\n",
        "\n",
        "preds = model(x_train)\n",
        "show_predicted(range(x_train.shape[0]), y_train, preds.detach().numpy(),ax[1])\n",
        "print(f\"Train accuracy(RMSE) :  {torch.sqrt(nn.MSELoss()(preds,  y_train))}\")\n",
        "\n",
        "preds_test = model(x_test)\n",
        "print(f\"Test accuracy(RMSE) : { torch.sqrt(nn.MSELoss()(preds_test,  y_test))}\")\n",
        "show_predicted(range(x_test.shape[0]), y_test, preds_test.detach().numpy(),ax[2])"
      ],
      "metadata": {
        "colab": {
          "base_uri": "https://localhost:8080/",
          "height": 432
        },
        "id": "eqnmq-VKkl5t",
        "outputId": "d02cce6b-4a66-4165-dd64-6abe8bae13be"
      },
      "execution_count": null,
      "outputs": [
        {
          "output_type": "stream",
          "name": "stdout",
          "text": [
            "Initial Cost: 173.44671630859375\n",
            "Epoch    1/100000, Cost_train: 173.446411, Cost_val: 167.270981\n",
            "Epoch 10001/100000, Cost_train: 76.248444, Cost_val: 67.492172\n",
            "Epoch 20001/100000, Cost_train: 54.097946, Cost_val: 51.211700\n",
            "Epoch 30001/100000, Cost_train: 53.468353, Cost_val: 51.281590\n",
            "Epoch 40001/100000, Cost_train: 52.989899, Cost_val: 50.978058\n",
            "Epoch 50001/100000, Cost_train: 52.657238, Cost_val: 50.581554\n",
            "Epoch 60001/100000, Cost_train: 52.373421, Cost_val: 50.214882\n",
            "Epoch 70001/100000, Cost_train: 51.988430, Cost_val: 49.718288\n",
            "Epoch 80001/100000, Cost_train: 51.539169, Cost_val: 49.259758\n",
            "Epoch 90001/100000, Cost_train: 51.071453, Cost_val: 48.869179\n",
            "Train accuracy(RMSE) :  50.65240478515625\n",
            "Test accuracy(RMSE) : 55.049381256103516\n"
          ]
        },
        {
          "output_type": "display_data",
          "data": {
            "text/plain": [
              "<Figure size 720x216 with 3 Axes>"
            ],
            "image/png": "[encoded data removed]"
          },
          "metadata": {
            "needs_background": "light"
          }
        }
      ]
    },
    {
      "cell_type": "markdown",
      "source": [
        "# LSTM 구현\n",
        "\n",
        "* LSTM Arcitecture\n",
        "\n",
        "<img src=\"https://api.wandb.ai/files/sauravmaheshkar/images/projects/445540/3b5df3df.png\n",
        "\" height=\"200px\" width=\"300px\">\n",
        "\n",
        "\n",
        "* L = Sequence Length\n",
        "* N = Batch Size\n",
        "* Hin=input_size (=num of features)\n",
        "\n",
        "* tensor shape (L,Hin) for unbatched input\n",
        "* tensor shape (N, L, Hin) when batch_first=True\n",
        "* tensor shape (L, N, Hin) when batch_forst=False\n",
        "\n",
        "* num_layers는 LSTM의 개수를 의미함\n",
        "\n",
        "<img src=\"https://img1.daumcdn.net/thumb/R1280x0/?scode=mtistory2&fname=https%3A%2F%2Fblog.kakaocdn.net%2Fdn%2FVJ2Yi%2FbtrE4VSN4tw%2FwO0TxP67kQqpOJiN0vP3N0%2Fimg.png\n",
        "\" height=\"150px\" width=\"400px\">\n",
        "\n",
        "\n",
        "https://pytorch.org/docs/stable/generated/torch.nn.LSTM.html\n",
        "\n",
        "https://hongl.tistory.com/247\n",
        "\n",
        "https://ok-lab.tistory.com/209"
      ],
      "metadata": {
        "id": "gX3H8BscpJ1j"
      }
    },
    {
      "cell_type": "code",
      "source": [
        "from sklearn import datasets\n",
        "diabetes = datasets.load_diabetes()\n",
        "df_data = pd.DataFrame(diabetes.data,columns=diabetes.feature_names)\n",
        "df_data['target'] = diabetes.target # add target\n",
        "x_train, x_test, y_train, y_test = get_train_testset(x.values,y.values, tensor=True, show=False)\n",
        "x_train, x_val, y_train, y_val = get_train_testset(x_train,y_train,  show=False)\n",
        "\n",
        "y_train = y_train.view(-1,1)\n",
        "y_val = y_val.view(-1,1)\n",
        "y_test = y_test.view(-1,1)\n",
        "\n",
        "\n",
        "# 입력 길이는 1\n",
        "x_train = torch.reshape(x_train,   (x_train.shape[0], 1, x_train.shape[1]))\n",
        "x_val = torch.reshape(x_val,   (x_val.shape[0], 1, x_val.shape[1]))\n",
        "x_test = torch.reshape(x_test,  (x_test.shape[0], 1, x_test.shape[1])) \n",
        "\n",
        "\n",
        "print(x_train.shape)\n",
        "print(x_test.shape)\n",
        "print(y_train.shape)\n",
        "print(y_test.shape)"
      ],
      "metadata": {
        "colab": {
          "base_uri": "https://localhost:8080/"
        },
        "id": "-aNuSnRMvP2d",
        "outputId": "88945abd-ab44-4247-a252-6fe87e8c1a58"
      },
      "execution_count": null,
      "outputs": [
        {
          "output_type": "stream",
          "name": "stdout",
          "text": [
            "torch.Size([282, 1, 10])\n",
            "torch.Size([89, 1, 10])\n",
            "torch.Size([282, 1])\n",
            "torch.Size([89, 1])\n"
          ]
        }
      ]
    },
    {
      "cell_type": "code",
      "source": [
        "from torch.autograd import Variable\n",
        "from sklearn.preprocessing import MinMaxScaler\n",
        "\n",
        "class LSTM(nn.Module):\n",
        "  def __init__(self, num_classes, input_size, hidden_size, num_layers):\n",
        "    super(LSTM, self).__init__()\n",
        "    self.num_classes = num_classes \n",
        "    self.num_layers = num_layers \n",
        "    self.input_size = input_size \n",
        "    self.hidden_size = hidden_size \n",
        " \n",
        "    self.lstm = nn.LSTM(input_size=input_size, hidden_size=hidden_size,\n",
        "                      num_layers=num_layers, batch_first=True) #lstm\n",
        "    self.fc =  nn.Sequential(nn.Linear(hidden_size, int(hidden_size/2)), \n",
        "                             nn.ReLU(),\n",
        "                             nn.Linear(int(hidden_size/2), num_classes) \n",
        "    )\n",
        "\n",
        "     \n",
        "\n",
        "  def forward(self,x):\n",
        "    h_0 = Variable(torch.zeros(self.num_layers, x.size(0), self.hidden_size))\n",
        "    c_0 = Variable(torch.zeros(self.num_layers, x.size(0), self.hidden_size))  \n",
        "    \n",
        "    # Propagate input through LSTM\n",
        "    output, (hn, cn) = self.lstm(x, (h_0, c_0)) #lstm with input, hidden, and internal state\n",
        "   \n",
        "    hn = hn.view(-1, self.hidden_size) #reshaping the data for Dense layer next\n",
        "\n",
        "    batch_size = x.shape[0]\n",
        "\n",
        "    out = self.fc(hn[-batch_size:,:]) #Final Output\n",
        "   \n",
        "    return out "
      ],
      "metadata": {
        "id": "Z_9lsKDGpJHA"
      },
      "execution_count": null,
      "outputs": []
    },
    {
      "cell_type": "code",
      "source": [
        "import torch \n",
        "from torch import optim\n",
        "import numpy as np\n",
        "import matplotlib.pyplot as plt\n",
        "\n",
        "seed = 27\n",
        "torch.manual_seed(seed) # cpu 연산 무작위 고정 \n",
        "torch.cuda.manual_seed(seed) # gpu 연산 무작위 고정 \n",
        "torch.cuda.manual_seed_all(seed) # 멀티 gpu 연산 무작위 고정 \n",
        "np.random.seed(seed) # numpy 관련 연산 무작위 고정\n",
        "\n",
        "\n",
        "# 학습해야 하는 모델 선언. hidden layer 크기가 인경우를 구현한다\n",
        "model = LSTM(num_classes=1, input_size=10, hidden_size=50, num_layers=1)\n",
        "preds = model(x_train)\n",
        "\n",
        "fig, ax = plt.subplots(1,3, figsize=(10,3))\n",
        "\n",
        "show_predicted(np.arange(0, x_train.shape[0]), y_train, preds.detach().numpy(), ax[0])\n",
        "\n",
        "cost =  torch.sqrt(nn.MSELoss()(preds,  y_train))\n",
        "\n",
        "print(f\"Initial Cost: {cost}\")\n",
        "\n",
        "# Weight와 Bias를 cost를 줄이는 방향으로 업데이트 ~ Optimization(최적화)\n",
        "optimizer = torch.optim.SGD( model.parameters(), lr=0.0003)\n",
        "\n",
        "nb_epochs = 100000 # 원하는만큼 경사 하강법을 반복\n",
        "for epoch in range(nb_epochs + 1):\n",
        "\n",
        "    preds = model(x_train)\n",
        "    # cost 계산\n",
        "    cost = torch.sqrt(nn.MSELoss()(preds, y_train))\n",
        "\n",
        "    optimizer.zero_grad() # 초기화\n",
        "    cost.backward() # gradient계산\n",
        "    optimizer.step() # 계산된 gradient 값을 이용하여 W,b 업데이트\n",
        "\n",
        "\n",
        "    preds_val = model(x_val)\n",
        "    # cost 계산\n",
        "    cost_val = torch.sqrt(nn.MSELoss()(preds_val, y_val))\n",
        "\n",
        "\n",
        "    # 1000번마다 로그 출력\n",
        "    if epoch % (nb_epochs/10) == 1:\n",
        "      print(f'Epoch {epoch:4d}/{nb_epochs}, Cost_train: {cost.item():.6f}, Cost_val: {cost_val.item():.6f}')\n",
        "\n",
        "preds = model(x_train)\n",
        "show_predicted(range(x_train.shape[0]), y_train, preds.detach().numpy(),ax[1])\n",
        "print(f\"Train accuracy(RMSE) :  {torch.sqrt(nn.MSELoss()(preds,  y_train))}\")\n",
        "\n",
        "preds_test = model(x_test)\n",
        "print(f\"Test accuracy(RMSE) : { torch.sqrt(nn.MSELoss()(preds_test,  y_test))}\")\n",
        "show_predicted(range(x_test.shape[0]), y_test, preds_test.detach().numpy(),ax[2])"
      ],
      "metadata": {
        "id": "9j7lYtCMuSrq"
      },
      "execution_count": null,
      "outputs": []
    },
    {
      "cell_type": "code",
      "source": [
        "import torch \n",
        "from torch import optim\n",
        "import numpy as np\n",
        "import matplotlib.pyplot as plt\n",
        "\n",
        "seed = 27\n",
        "torch.manual_seed(seed) # cpu 연산 무작위 고정 \n",
        "torch.cuda.manual_seed(seed) # gpu 연산 무작위 고정 \n",
        "torch.cuda.manual_seed_all(seed) # 멀티 gpu 연산 무작위 고정 \n",
        "np.random.seed(seed) # numpy 관련 연산 무작위 고정\n",
        "\n",
        "\n",
        "# 학습해야 하는 모델 선언. hidden layer 크기가 인경우를 구현한다\n",
        "model = LSTM(num_classes=1, input_size=10, hidden_size=50, num_layers=2)\n",
        "preds = model(x_train)\n",
        "\n",
        "fig, ax = plt.subplots(1,3, figsize=(10,3))\n",
        "\n",
        "show_predicted(np.arange(0, x_train.shape[0]), y_train, preds.detach().numpy(), ax[0])\n",
        "\n",
        "cost =  torch.sqrt(nn.MSELoss()(preds,  y_train))\n",
        "\n",
        "print(f\"Initial Cost: {cost}\")\n",
        "\n",
        "# Weight와 Bias를 cost를 줄이는 방향으로 업데이트 ~ Optimization(최적화)\n",
        "optimizer = torch.optim.SGD( model.parameters(), lr=0.0003)\n",
        "\n",
        "nb_epochs = 100000 # 원하는만큼 경사 하강법을 반복\n",
        "for epoch in range(nb_epochs + 1):\n",
        "\n",
        "    preds = model(x_train)\n",
        "    # cost 계산\n",
        "    cost = torch.sqrt(nn.MSELoss()(preds, y_train))\n",
        "\n",
        "    optimizer.zero_grad() # 초기화\n",
        "    cost.backward() # gradient계산\n",
        "    optimizer.step() # 계산된 gradient 값을 이용하여 W,b 업데이트\n",
        "\n",
        "\n",
        "    preds_val = model(x_val)\n",
        "    # cost 계산\n",
        "    cost_val = torch.sqrt(nn.MSELoss()(preds_val, y_val))\n",
        "\n",
        "\n",
        "    # 1000번마다 로그 출력\n",
        "    if epoch % (nb_epochs/10) == 1:\n",
        "      print(f'Epoch {epoch:4d}/{nb_epochs}, Cost_train: {cost.item():.6f}, Cost_val: {cost_val.item():.6f}')\n",
        "\n",
        "preds = model(x_train)\n",
        "show_predicted(range(x_train.shape[0]), y_train, preds.detach().numpy(),ax[1])\n",
        "print(f\"Train accuracy(RMSE) :  {torch.sqrt(nn.MSELoss()(preds,  y_train))}\")\n",
        "\n",
        "preds_test = model(x_test)\n",
        "print(f\"Test accuracy(RMSE) : { torch.sqrt(nn.MSELoss()(preds_test,  y_test))}\")\n",
        "show_predicted(range(x_test.shape[0]), y_test, preds_test.detach().numpy(),ax[2])"
      ],
      "metadata": {
        "colab": {
          "base_uri": "https://localhost:8080/",
          "height": 375
        },
        "id": "cC7U1TrBKais",
        "outputId": "2dd890c8-8d83-4494-c059-9c989536c325"
      },
      "execution_count": null,
      "outputs": [
        {
          "output_type": "error",
          "ename": "RuntimeError",
          "evalue": "ignored",
          "traceback": [
            "\u001b[0;31m---------------------------------------------------------------------------\u001b[0m",
            "\u001b[0;31mRuntimeError\u001b[0m                              Traceback (most recent call last)",
            "\u001b[0;32m<ipython-input-218-25d751907fc0>\u001b[0m in \u001b[0;36m<module>\u001b[0;34m\u001b[0m\n\u001b[1;32m     13\u001b[0m \u001b[0;31m# 학습해야 하는 모델 선언. hidden layer 크기가 인경우를 구현한다\u001b[0m\u001b[0;34m\u001b[0m\u001b[0;34m\u001b[0m\u001b[0;34m\u001b[0m\u001b[0m\n\u001b[1;32m     14\u001b[0m \u001b[0mmodel\u001b[0m \u001b[0;34m=\u001b[0m \u001b[0mLSTM\u001b[0m\u001b[0;34m(\u001b[0m\u001b[0mnum_classes\u001b[0m\u001b[0;34m=\u001b[0m\u001b[0;36m1\u001b[0m\u001b[0;34m,\u001b[0m \u001b[0minput_size\u001b[0m\u001b[0;34m=\u001b[0m\u001b[0;36m10\u001b[0m\u001b[0;34m,\u001b[0m \u001b[0mhidden_size\u001b[0m\u001b[0;34m=\u001b[0m\u001b[0;36m50\u001b[0m\u001b[0;34m,\u001b[0m \u001b[0mnum_layers\u001b[0m\u001b[0;34m=\u001b[0m\u001b[0;36m2\u001b[0m\u001b[0;34m)\u001b[0m\u001b[0;34m\u001b[0m\u001b[0;34m\u001b[0m\u001b[0m\n\u001b[0;32m---> 15\u001b[0;31m \u001b[0mpreds\u001b[0m \u001b[0;34m=\u001b[0m \u001b[0mmodel\u001b[0m\u001b[0;34m(\u001b[0m\u001b[0mx_train\u001b[0m\u001b[0;34m)\u001b[0m\u001b[0;34m\u001b[0m\u001b[0;34m\u001b[0m\u001b[0m\n\u001b[0m\u001b[1;32m     16\u001b[0m \u001b[0;34m\u001b[0m\u001b[0m\n\u001b[1;32m     17\u001b[0m \u001b[0mfig\u001b[0m\u001b[0;34m,\u001b[0m \u001b[0max\u001b[0m \u001b[0;34m=\u001b[0m \u001b[0mplt\u001b[0m\u001b[0;34m.\u001b[0m\u001b[0msubplots\u001b[0m\u001b[0;34m(\u001b[0m\u001b[0;36m1\u001b[0m\u001b[0;34m,\u001b[0m\u001b[0;36m3\u001b[0m\u001b[0;34m,\u001b[0m \u001b[0mfigsize\u001b[0m\u001b[0;34m=\u001b[0m\u001b[0;34m(\u001b[0m\u001b[0;36m10\u001b[0m\u001b[0;34m,\u001b[0m\u001b[0;36m3\u001b[0m\u001b[0;34m)\u001b[0m\u001b[0;34m)\u001b[0m\u001b[0;34m\u001b[0m\u001b[0;34m\u001b[0m\u001b[0m\n",
            "\u001b[0;32m/usr/local/lib/python3.8/dist-packages/torch/nn/modules/module.py\u001b[0m in \u001b[0;36m_call_impl\u001b[0;34m(self, *input, **kwargs)\u001b[0m\n\u001b[1;32m   1188\u001b[0m         if not (self._backward_hooks or self._forward_hooks or self._forward_pre_hooks or _global_backward_hooks\n\u001b[1;32m   1189\u001b[0m                 or _global_forward_hooks or _global_forward_pre_hooks):\n\u001b[0;32m-> 1190\u001b[0;31m             \u001b[0;32mreturn\u001b[0m \u001b[0mforward_call\u001b[0m\u001b[0;34m(\u001b[0m\u001b[0;34m*\u001b[0m\u001b[0minput\u001b[0m\u001b[0;34m,\u001b[0m \u001b[0;34m**\u001b[0m\u001b[0mkwargs\u001b[0m\u001b[0;34m)\u001b[0m\u001b[0;34m\u001b[0m\u001b[0;34m\u001b[0m\u001b[0m\n\u001b[0m\u001b[1;32m   1191\u001b[0m         \u001b[0;31m# Do not call functions when jit is used\u001b[0m\u001b[0;34m\u001b[0m\u001b[0;34m\u001b[0m\u001b[0;34m\u001b[0m\u001b[0m\n\u001b[1;32m   1192\u001b[0m         \u001b[0mfull_backward_hooks\u001b[0m\u001b[0;34m,\u001b[0m \u001b[0mnon_full_backward_hooks\u001b[0m \u001b[0;34m=\u001b[0m \u001b[0;34m[\u001b[0m\u001b[0;34m]\u001b[0m\u001b[0;34m,\u001b[0m \u001b[0;34m[\u001b[0m\u001b[0;34m]\u001b[0m\u001b[0;34m\u001b[0m\u001b[0;34m\u001b[0m\u001b[0m\n",
            "\u001b[0;32m<ipython-input-167-5034522d2454>\u001b[0m in \u001b[0;36mforward\u001b[0;34m(self, x)\u001b[0m\n\u001b[1;32m     24\u001b[0m \u001b[0;34m\u001b[0m\u001b[0m\n\u001b[1;32m     25\u001b[0m     \u001b[0;31m# Propagate input through LSTM\u001b[0m\u001b[0;34m\u001b[0m\u001b[0;34m\u001b[0m\u001b[0;34m\u001b[0m\u001b[0m\n\u001b[0;32m---> 26\u001b[0;31m     \u001b[0moutput\u001b[0m\u001b[0;34m,\u001b[0m \u001b[0;34m(\u001b[0m\u001b[0mhn\u001b[0m\u001b[0;34m,\u001b[0m \u001b[0mcn\u001b[0m\u001b[0;34m)\u001b[0m \u001b[0;34m=\u001b[0m \u001b[0mself\u001b[0m\u001b[0;34m.\u001b[0m\u001b[0mlstm\u001b[0m\u001b[0;34m(\u001b[0m\u001b[0mx\u001b[0m\u001b[0;34m,\u001b[0m \u001b[0;34m(\u001b[0m\u001b[0mh_0\u001b[0m\u001b[0;34m,\u001b[0m \u001b[0mc_0\u001b[0m\u001b[0;34m)\u001b[0m\u001b[0;34m)\u001b[0m \u001b[0;31m#lstm with input, hidden, and internal state\u001b[0m\u001b[0;34m\u001b[0m\u001b[0;34m\u001b[0m\u001b[0m\n\u001b[0m\u001b[1;32m     27\u001b[0m \u001b[0;34m\u001b[0m\u001b[0m\n\u001b[1;32m     28\u001b[0m     \u001b[0mhn\u001b[0m \u001b[0;34m=\u001b[0m \u001b[0mhn\u001b[0m\u001b[0;34m.\u001b[0m\u001b[0mview\u001b[0m\u001b[0;34m(\u001b[0m\u001b[0;34m-\u001b[0m\u001b[0;36m1\u001b[0m\u001b[0;34m,\u001b[0m \u001b[0mself\u001b[0m\u001b[0;34m.\u001b[0m\u001b[0mhidden_size\u001b[0m\u001b[0;34m)\u001b[0m \u001b[0;31m#reshaping the data for Dense layer next\u001b[0m\u001b[0;34m\u001b[0m\u001b[0;34m\u001b[0m\u001b[0m\n",
            "\u001b[0;32m/usr/local/lib/python3.8/dist-packages/torch/nn/modules/module.py\u001b[0m in \u001b[0;36m_call_impl\u001b[0;34m(self, *input, **kwargs)\u001b[0m\n\u001b[1;32m   1188\u001b[0m         if not (self._backward_hooks or self._forward_hooks or self._forward_pre_hooks or _global_backward_hooks\n\u001b[1;32m   1189\u001b[0m                 or _global_forward_hooks or _global_forward_pre_hooks):\n\u001b[0;32m-> 1190\u001b[0;31m             \u001b[0;32mreturn\u001b[0m \u001b[0mforward_call\u001b[0m\u001b[0;34m(\u001b[0m\u001b[0;34m*\u001b[0m\u001b[0minput\u001b[0m\u001b[0;34m,\u001b[0m \u001b[0;34m**\u001b[0m\u001b[0mkwargs\u001b[0m\u001b[0;34m)\u001b[0m\u001b[0;34m\u001b[0m\u001b[0;34m\u001b[0m\u001b[0m\n\u001b[0m\u001b[1;32m   1191\u001b[0m         \u001b[0;31m# Do not call functions when jit is used\u001b[0m\u001b[0;34m\u001b[0m\u001b[0;34m\u001b[0m\u001b[0;34m\u001b[0m\u001b[0m\n\u001b[1;32m   1192\u001b[0m         \u001b[0mfull_backward_hooks\u001b[0m\u001b[0;34m,\u001b[0m \u001b[0mnon_full_backward_hooks\u001b[0m \u001b[0;34m=\u001b[0m \u001b[0;34m[\u001b[0m\u001b[0;34m]\u001b[0m\u001b[0;34m,\u001b[0m \u001b[0;34m[\u001b[0m\u001b[0;34m]\u001b[0m\u001b[0;34m\u001b[0m\u001b[0;34m\u001b[0m\u001b[0m\n",
            "\u001b[0;32m/usr/local/lib/python3.8/dist-packages/torch/nn/modules/rnn.py\u001b[0m in \u001b[0;36mforward\u001b[0;34m(self, input, hx)\u001b[0m\n\u001b[1;32m    770\u001b[0m             \u001b[0mhx\u001b[0m \u001b[0;34m=\u001b[0m \u001b[0mself\u001b[0m\u001b[0;34m.\u001b[0m\u001b[0mpermute_hidden\u001b[0m\u001b[0;34m(\u001b[0m\u001b[0mhx\u001b[0m\u001b[0;34m,\u001b[0m \u001b[0msorted_indices\u001b[0m\u001b[0;34m)\u001b[0m\u001b[0;34m\u001b[0m\u001b[0;34m\u001b[0m\u001b[0m\n\u001b[1;32m    771\u001b[0m \u001b[0;34m\u001b[0m\u001b[0m\n\u001b[0;32m--> 772\u001b[0;31m         \u001b[0mself\u001b[0m\u001b[0;34m.\u001b[0m\u001b[0mcheck_forward_args\u001b[0m\u001b[0;34m(\u001b[0m\u001b[0minput\u001b[0m\u001b[0;34m,\u001b[0m \u001b[0mhx\u001b[0m\u001b[0;34m,\u001b[0m \u001b[0mbatch_sizes\u001b[0m\u001b[0;34m)\u001b[0m\u001b[0;34m\u001b[0m\u001b[0;34m\u001b[0m\u001b[0m\n\u001b[0m\u001b[1;32m    773\u001b[0m         \u001b[0;32mif\u001b[0m \u001b[0mbatch_sizes\u001b[0m \u001b[0;32mis\u001b[0m \u001b[0;32mNone\u001b[0m\u001b[0;34m:\u001b[0m\u001b[0;34m\u001b[0m\u001b[0;34m\u001b[0m\u001b[0m\n\u001b[1;32m    774\u001b[0m             result = _VF.lstm(input, hx, self._flat_weights, self.bias, self.num_layers,\n",
            "\u001b[0;32m/usr/local/lib/python3.8/dist-packages/torch/nn/modules/rnn.py\u001b[0m in \u001b[0;36mcheck_forward_args\u001b[0;34m(self, input, hidden, batch_sizes)\u001b[0m\n\u001b[1;32m    695\u001b[0m                            \u001b[0mbatch_sizes\u001b[0m\u001b[0;34m:\u001b[0m \u001b[0mOptional\u001b[0m\u001b[0;34m[\u001b[0m\u001b[0mTensor\u001b[0m\u001b[0;34m]\u001b[0m\u001b[0;34m,\u001b[0m\u001b[0;34m\u001b[0m\u001b[0;34m\u001b[0m\u001b[0m\n\u001b[1;32m    696\u001b[0m                            ):\n\u001b[0;32m--> 697\u001b[0;31m         \u001b[0mself\u001b[0m\u001b[0;34m.\u001b[0m\u001b[0mcheck_input\u001b[0m\u001b[0;34m(\u001b[0m\u001b[0minput\u001b[0m\u001b[0;34m,\u001b[0m \u001b[0mbatch_sizes\u001b[0m\u001b[0;34m)\u001b[0m\u001b[0;34m\u001b[0m\u001b[0;34m\u001b[0m\u001b[0m\n\u001b[0m\u001b[1;32m    698\u001b[0m         self.check_hidden_size(hidden[0], self.get_expected_hidden_size(input, batch_sizes),\n\u001b[1;32m    699\u001b[0m                                'Expected hidden[0] size {}, got {}')\n",
            "\u001b[0;32m/usr/local/lib/python3.8/dist-packages/torch/nn/modules/rnn.py\u001b[0m in \u001b[0;36mcheck_input\u001b[0;34m(self, input, batch_sizes)\u001b[0m\n\u001b[1;32m    208\u001b[0m                     expected_input_dim, input.dim()))\n\u001b[1;32m    209\u001b[0m         \u001b[0;32mif\u001b[0m \u001b[0mself\u001b[0m\u001b[0;34m.\u001b[0m\u001b[0minput_size\u001b[0m \u001b[0;34m!=\u001b[0m \u001b[0minput\u001b[0m\u001b[0;34m.\u001b[0m\u001b[0msize\u001b[0m\u001b[0;34m(\u001b[0m\u001b[0;34m-\u001b[0m\u001b[0;36m1\u001b[0m\u001b[0;34m)\u001b[0m\u001b[0;34m:\u001b[0m\u001b[0;34m\u001b[0m\u001b[0;34m\u001b[0m\u001b[0m\n\u001b[0;32m--> 210\u001b[0;31m             raise RuntimeError(\n\u001b[0m\u001b[1;32m    211\u001b[0m                 'input.size(-1) must be equal to input_size. Expected {}, got {}'.format(\n\u001b[1;32m    212\u001b[0m                     self.input_size, input.size(-1)))\n",
            "\u001b[0;31mRuntimeError\u001b[0m: input.size(-1) must be equal to input_size. Expected 10, got 7"
          ]
        }
      ]
    },
    {
      "cell_type": "markdown",
      "source": [
        "## 이전까지는 Sequence 길이가 1인 경우였음. Sequence길이가 N개인 경우는?"
      ],
      "metadata": {
        "id": "kOwSjAEWLCaM"
      }
    },
    {
      "cell_type": "code",
      "source": [
        "https://panggu15.github.io/sequence/(심화)-딥러닝-삼성-주가-예측/\n",
        "\n",
        "!pip install finance-datareader\n",
        "!pip install requests_cache"
      ],
      "metadata": {
        "colab": {
          "base_uri": "https://localhost:8080/",
          "height": 868
        },
        "id": "MT-RBfKs2ytm",
        "outputId": "3f342596-6aa6-4bf9-d6d9-20d657932d8f"
      },
      "execution_count": null,
      "outputs": [
        {
          "output_type": "stream",
          "name": "stdout",
          "text": [
            "Looking in indexes: https://pypi.org/simple, https://us-python.pkg.dev/colab-wheels/public/simple/\n",
            "Collecting finance-datareader\n",
            "  Downloading finance_datareader-0.9.50-py3-none-any.whl (19 kB)\n",
            "Requirement already satisfied: lxml in /usr/local/lib/python3.8/dist-packages (from finance-datareader) (4.9.2)\n",
            "Collecting requests-file\n",
            "  Downloading requests_file-1.5.1-py2.py3-none-any.whl (3.7 kB)\n",
            "Requirement already satisfied: requests>=2.3.0 in /usr/local/lib/python3.8/dist-packages (from finance-datareader) (2.25.1)\n",
            "Requirement already satisfied: pandas>=0.19.2 in /usr/local/lib/python3.8/dist-packages (from finance-datareader) (1.3.5)\n",
            "Requirement already satisfied: tqdm in /usr/local/lib/python3.8/dist-packages (from finance-datareader) (4.64.1)\n",
            "Requirement already satisfied: python-dateutil>=2.7.3 in /usr/local/lib/python3.8/dist-packages (from pandas>=0.19.2->finance-datareader) (2.8.2)\n",
            "Requirement already satisfied: numpy>=1.17.3 in /usr/local/lib/python3.8/dist-packages (from pandas>=0.19.2->finance-datareader) (1.21.6)\n",
            "Requirement already satisfied: pytz>=2017.3 in /usr/local/lib/python3.8/dist-packages (from pandas>=0.19.2->finance-datareader) (2022.7)\n",
            "Requirement already satisfied: urllib3<1.27,>=1.21.1 in /usr/local/lib/python3.8/dist-packages (from requests>=2.3.0->finance-datareader) (1.24.3)\n",
            "Requirement already satisfied: certifi>=2017.4.17 in /usr/local/lib/python3.8/dist-packages (from requests>=2.3.0->finance-datareader) (2022.12.7)\n",
            "Requirement already satisfied: chardet<5,>=3.0.2 in /usr/local/lib/python3.8/dist-packages (from requests>=2.3.0->finance-datareader) (4.0.0)\n",
            "Requirement already satisfied: idna<3,>=2.5 in /usr/local/lib/python3.8/dist-packages (from requests>=2.3.0->finance-datareader) (2.10)\n",
            "Requirement already satisfied: six in /usr/local/lib/python3.8/dist-packages (from requests-file->finance-datareader) (1.15.0)\n",
            "Installing collected packages: requests-file, finance-datareader\n",
            "Successfully installed finance-datareader-0.9.50 requests-file-1.5.1\n",
            "Looking in indexes: https://pypi.org/simple, https://us-python.pkg.dev/colab-wheels/public/simple/\n",
            "Collecting requests_cache\n",
            "  Downloading requests_cache-0.9.7-py3-none-any.whl (48 kB)\n",
            "\u001b[2K     \u001b[90m━━━━━━━━━━━━━━━━━━━━━━━━━━━━━━━━━━━━━━━━\u001b[0m \u001b[32m48.5/48.5 KB\u001b[0m \u001b[31m3.0 MB/s\u001b[0m eta \u001b[36m0:00:00\u001b[0m\n",
            "\u001b[?25hRequirement already satisfied: appdirs>=1.4.4 in /usr/local/lib/python3.8/dist-packages (from requests_cache) (1.4.4)\n",
            "Requirement already satisfied: requests>=2.22 in /usr/local/lib/python3.8/dist-packages (from requests_cache) (2.25.1)\n",
            "Collecting urllib3>=1.25.5\n",
            "  Downloading urllib3-1.26.13-py2.py3-none-any.whl (140 kB)\n",
            "\u001b[2K     \u001b[90m━━━━━━━━━━━━━━━━━━━━━━━━━━━━━━━━━━━━━━━\u001b[0m \u001b[32m140.6/140.6 KB\u001b[0m \u001b[31m7.4 MB/s\u001b[0m eta \u001b[36m0:00:00\u001b[0m\n",
            "\u001b[?25hCollecting cattrs>=22.2\n",
            "  Downloading cattrs-22.2.0-py3-none-any.whl (35 kB)\n",
            "Collecting url-normalize>=1.4\n",
            "  Downloading url_normalize-1.4.3-py2.py3-none-any.whl (6.8 kB)\n",
            "Requirement already satisfied: attrs>=21.2 in /usr/local/lib/python3.8/dist-packages (from requests_cache) (22.2.0)\n",
            "Collecting exceptiongroup\n",
            "  Downloading exceptiongroup-1.1.0-py3-none-any.whl (14 kB)\n",
            "Requirement already satisfied: idna<3,>=2.5 in /usr/local/lib/python3.8/dist-packages (from requests>=2.22->requests_cache) (2.10)\n",
            "Requirement already satisfied: certifi>=2017.4.17 in /usr/local/lib/python3.8/dist-packages (from requests>=2.22->requests_cache) (2022.12.7)\n",
            "Requirement already satisfied: chardet<5,>=3.0.2 in /usr/local/lib/python3.8/dist-packages (from requests>=2.22->requests_cache) (4.0.0)\n",
            "Requirement already satisfied: six in /usr/local/lib/python3.8/dist-packages (from url-normalize>=1.4->requests_cache) (1.15.0)\n",
            "Installing collected packages: urllib3, url-normalize, exceptiongroup, cattrs, requests_cache\n",
            "  Attempting uninstall: urllib3\n",
            "    Found existing installation: urllib3 1.24.3\n",
            "    Uninstalling urllib3-1.24.3:\n",
            "      Successfully uninstalled urllib3-1.24.3\n",
            "Successfully installed cattrs-22.2.0 exceptiongroup-1.1.0 requests_cache-0.9.7 url-normalize-1.4.3 urllib3-1.26.13\n"
          ]
        },
        {
          "output_type": "display_data",
          "data": {
            "application/vnd.colab-display-data+json": {
              "pip_warning": {
                "packages": [
                  "urllib3"
                ]
              }
            }
          },
          "metadata": {}
        }
      ]
    },
    {
      "cell_type": "code",
      "source": [
        "import FinanceDataReader as fdr\n",
        "import pandas_datareader as pdr\n",
        "import requests_cache\n",
        "import matplotlib.pyplot as plt\n",
        "import pandas as pd\n",
        "\n",
        "start_date = '20100101'\n",
        "end_date = '20221231'\n",
        "\n",
        "df = fdr.DataReader('005930', start_date, end_date)   # 삼성전자: 005930\n",
        "\n",
        "# 5일, 20일, 60일 이동평균선\n",
        "df['ma5'] = df['Close'].rolling(window=5).mean()\n",
        "df['ma20'] = df['Close'].rolling(window=20).mean()\n",
        "df['ma60'] = df['Close'].rolling(window=60).mean()\n",
        "\n",
        "# 다음날 종가를 예측\n",
        "df['target'] = df['Close'].shift(-1)\n",
        "\n",
        "df = df.dropna()"
      ],
      "metadata": {
        "id": "VhY_Fte8MsDm"
      },
      "execution_count": null,
      "outputs": []
    },
    {
      "cell_type": "code",
      "source": [
        "df.isna().any()"
      ],
      "metadata": {
        "colab": {
          "base_uri": "https://localhost:8080/"
        },
        "id": "DYjB2rHJNrTn",
        "outputId": "e539b704-c4bd-4a08-b944-2f5c7190b6dd"
      },
      "execution_count": null,
      "outputs": [
        {
          "output_type": "execute_result",
          "data": {
            "text/plain": [
              "Open      False\n",
              "High      False\n",
              "Low       False\n",
              "Close     False\n",
              "Volume    False\n",
              "Change    False\n",
              "ma5       False\n",
              "ma20      False\n",
              "ma60      False\n",
              "target    False\n",
              "dtype: bool"
            ]
          },
          "metadata": {},
          "execution_count": 201
        }
      ]
    },
    {
      "cell_type": "code",
      "source": [
        "df"
      ],
      "metadata": {
        "colab": {
          "base_uri": "https://localhost:8080/",
          "height": 450
        },
        "id": "Nve5izApNyuV",
        "outputId": "eebe5ecf-ef55-46b0-9632-0d38232e2e01"
      },
      "execution_count": null,
      "outputs": [
        {
          "output_type": "execute_result",
          "data": {
            "text/plain": [
              "             Open   High    Low  Close    Volume    Change      ma5     ma20  \\\n",
              "Date                                                                           \n",
              "2010-03-30  16540  16580  16240  16280    240934 -0.004890  16360.0  15851.0   \n",
              "2010-03-31  16280  16680  16260  16360    434300  0.004914  16356.0  15898.0   \n",
              "2010-04-01  16520  16900  16480  16900    561659  0.033007  16460.0  15982.0   \n",
              "2010-04-02  16920  17200  16820  17140    419069  0.014201  16608.0  16064.0   \n",
              "2010-04-05  17220  17400  17140  17400    304516  0.015169  16816.0  16148.0   \n",
              "...           ...    ...    ...    ...       ...       ...      ...      ...   \n",
              "2022-12-22  58100  59100  58100  59100  10720630  0.018966  58940.0  59930.0   \n",
              "2022-12-23  58200  58400  57700  58100   9829407 -0.016920  58660.0  59785.0   \n",
              "2022-12-26  58000  58100  57700  57900   6756411 -0.003442  58340.0  59675.0   \n",
              "2022-12-27  58000  58400  57900  58100  10667027  0.003454  58240.0  59550.0   \n",
              "2022-12-28  57600  57600  56400  56600  14665410 -0.025818  57960.0  59270.0   \n",
              "\n",
              "                    ma60   target  \n",
              "Date                               \n",
              "2010-03-30  15831.333333  16360.0  \n",
              "2010-03-31  15834.333333  16900.0  \n",
              "2010-04-01  15842.000000  17140.0  \n",
              "2010-04-02  15847.333333  17400.0  \n",
              "2010-04-05  15866.333333  17380.0  \n",
              "...                  ...      ...  \n",
              "2022-12-22  58913.333333  58100.0  \n",
              "2022-12-23  59000.000000  57900.0  \n",
              "2022-12-26  59088.333333  58100.0  \n",
              "2022-12-27  59171.666667  56600.0  \n",
              "2022-12-28  59195.000000  55300.0  \n",
              "\n",
              "[3148 rows x 10 columns]"
            ],
            "text/html": [
              "\n",
              "  <div id=\"df-f45fc4cb-f437-454d-b514-63d8d1f0b7e0\">\n",
              "    <div class=\"colab-df-container\">\n",
              "      <div>\n",
              "<style scoped>\n",
              "    .dataframe tbody tr th:only-of-type {\n",
              "        vertical-align: middle;\n",
              "    }\n",
              "\n",
              "    .dataframe tbody tr th {\n",
              "        vertical-align: top;\n",
              "    }\n",
              "\n",
              "    .dataframe thead th {\n",
              "        text-align: right;\n",
              "    }\n",
              "</style>\n",
              "<table border=\"1\" class=\"dataframe\">\n",
              "  <thead>\n",
              "    <tr style=\"text-align: right;\">\n",
              "      <th></th>\n",
              "      <th>Open</th>\n",
              "      <th>High</th>\n",
              "      <th>Low</th>\n",
              "      <th>Close</th>\n",
              "      <th>Volume</th>\n",
              "      <th>Change</th>\n",
              "      <th>ma5</th>\n",
              "      <th>ma20</th>\n",
              "      <th>ma60</th>\n",
              "      <th>target</th>\n",
              "    </tr>\n",
              "    <tr>\n",
              "      <th>Date</th>\n",
              "      <th></th>\n",
              "      <th></th>\n",
              "      <th></th>\n",
              "      <th></th>\n",
              "      <th></th>\n",
              "      <th></th>\n",
              "      <th></th>\n",
              "      <th></th>\n",
              "      <th></th>\n",
              "      <th></th>\n",
              "    </tr>\n",
              "  </thead>\n",
              "  <tbody>\n",
              "    <tr>\n",
              "      <th>2010-03-30</th>\n",
              "      <td>16540</td>\n",
              "      <td>16580</td>\n",
              "      <td>16240</td>\n",
              "      <td>16280</td>\n",
              "      <td>240934</td>\n",
              "      <td>-0.004890</td>\n",
              "      <td>16360.0</td>\n",
              "      <td>15851.0</td>\n",
              "      <td>15831.333333</td>\n",
              "      <td>16360.0</td>\n",
              "    </tr>\n",
              "    <tr>\n",
              "      <th>2010-03-31</th>\n",
              "      <td>16280</td>\n",
              "      <td>16680</td>\n",
              "      <td>16260</td>\n",
              "      <td>16360</td>\n",
              "      <td>434300</td>\n",
              "      <td>0.004914</td>\n",
              "      <td>16356.0</td>\n",
              "      <td>15898.0</td>\n",
              "      <td>15834.333333</td>\n",
              "      <td>16900.0</td>\n",
              "    </tr>\n",
              "    <tr>\n",
              "      <th>2010-04-01</th>\n",
              "      <td>16520</td>\n",
              "      <td>16900</td>\n",
              "      <td>16480</td>\n",
              "      <td>16900</td>\n",
              "      <td>561659</td>\n",
              "      <td>0.033007</td>\n",
              "      <td>16460.0</td>\n",
              "      <td>15982.0</td>\n",
              "      <td>15842.000000</td>\n",
              "      <td>17140.0</td>\n",
              "    </tr>\n",
              "    <tr>\n",
              "      <th>2010-04-02</th>\n",
              "      <td>16920</td>\n",
              "      <td>17200</td>\n",
              "      <td>16820</td>\n",
              "      <td>17140</td>\n",
              "      <td>419069</td>\n",
              "      <td>0.014201</td>\n",
              "      <td>16608.0</td>\n",
              "      <td>16064.0</td>\n",
              "      <td>15847.333333</td>\n",
              "      <td>17400.0</td>\n",
              "    </tr>\n",
              "    <tr>\n",
              "      <th>2010-04-05</th>\n",
              "      <td>17220</td>\n",
              "      <td>17400</td>\n",
              "      <td>17140</td>\n",
              "      <td>17400</td>\n",
              "      <td>304516</td>\n",
              "      <td>0.015169</td>\n",
              "      <td>16816.0</td>\n",
              "      <td>16148.0</td>\n",
              "      <td>15866.333333</td>\n",
              "      <td>17380.0</td>\n",
              "    </tr>\n",
              "    <tr>\n",
              "      <th>...</th>\n",
              "      <td>...</td>\n",
              "      <td>...</td>\n",
              "      <td>...</td>\n",
              "      <td>...</td>\n",
              "      <td>...</td>\n",
              "      <td>...</td>\n",
              "      <td>...</td>\n",
              "      <td>...</td>\n",
              "      <td>...</td>\n",
              "      <td>...</td>\n",
              "    </tr>\n",
              "    <tr>\n",
              "      <th>2022-12-22</th>\n",
              "      <td>58100</td>\n",
              "      <td>59100</td>\n",
              "      <td>58100</td>\n",
              "      <td>59100</td>\n",
              "      <td>10720630</td>\n",
              "      <td>0.018966</td>\n",
              "      <td>58940.0</td>\n",
              "      <td>59930.0</td>\n",
              "      <td>58913.333333</td>\n",
              "      <td>58100.0</td>\n",
              "    </tr>\n",
              "    <tr>\n",
              "      <th>2022-12-23</th>\n",
              "      <td>58200</td>\n",
              "      <td>58400</td>\n",
              "      <td>57700</td>\n",
              "      <td>58100</td>\n",
              "      <td>9829407</td>\n",
              "      <td>-0.016920</td>\n",
              "      <td>58660.0</td>\n",
              "      <td>59785.0</td>\n",
              "      <td>59000.000000</td>\n",
              "      <td>57900.0</td>\n",
              "    </tr>\n",
              "    <tr>\n",
              "      <th>2022-12-26</th>\n",
              "      <td>58000</td>\n",
              "      <td>58100</td>\n",
              "      <td>57700</td>\n",
              "      <td>57900</td>\n",
              "      <td>6756411</td>\n",
              "      <td>-0.003442</td>\n",
              "      <td>58340.0</td>\n",
              "      <td>59675.0</td>\n",
              "      <td>59088.333333</td>\n",
              "      <td>58100.0</td>\n",
              "    </tr>\n",
              "    <tr>\n",
              "      <th>2022-12-27</th>\n",
              "      <td>58000</td>\n",
              "      <td>58400</td>\n",
              "      <td>57900</td>\n",
              "      <td>58100</td>\n",
              "      <td>10667027</td>\n",
              "      <td>0.003454</td>\n",
              "      <td>58240.0</td>\n",
              "      <td>59550.0</td>\n",
              "      <td>59171.666667</td>\n",
              "      <td>56600.0</td>\n",
              "    </tr>\n",
              "    <tr>\n",
              "      <th>2022-12-28</th>\n",
              "      <td>57600</td>\n",
              "      <td>57600</td>\n",
              "      <td>56400</td>\n",
              "      <td>56600</td>\n",
              "      <td>14665410</td>\n",
              "      <td>-0.025818</td>\n",
              "      <td>57960.0</td>\n",
              "      <td>59270.0</td>\n",
              "      <td>59195.000000</td>\n",
              "      <td>55300.0</td>\n",
              "    </tr>\n",
              "  </tbody>\n",
              "</table>\n",
              "<p>3148 rows × 10 columns</p>\n",
              "</div>\n",
              "      <button class=\"colab-df-convert\" onclick=\"convertToInteractive('df-f45fc4cb-f437-454d-b514-63d8d1f0b7e0')\"\n",
              "              title=\"Convert this dataframe to an interactive table.\"\n",
              "              style=\"display:none;\">\n",
              "        \n",
              "  <svg xmlns=\"http://www.w3.org/2000/svg\" height=\"24px\"viewBox=\"0 0 24 24\"\n",
              "       width=\"24px\">\n",
              "    <path d=\"M0 0h24v24H0V0z\" fill=\"none\"/>\n",
              "    <path d=\"M18.56 5.44l.94 2.06.94-2.06 2.06-.94-2.06-.94-.94-2.06-.94 2.06-2.06.94zm-11 1L8.5 8.5l.94-2.06 2.06-.94-2.06-.94L8.5 2.5l-.94 2.06-2.06.94zm10 10l.94 2.06.94-2.06 2.06-.94-2.06-.94-.94-2.06-.94 2.06-2.06.94z\"/><path d=\"M17.41 7.96l-1.37-1.37c-.4-.4-.92-.59-1.43-.59-.52 0-1.04.2-1.43.59L10.3 9.45l-7.72 7.72c-.78.78-.78 2.05 0 2.83L4 21.41c.39.39.9.59 1.41.59.51 0 1.02-.2 1.41-.59l7.78-7.78 2.81-2.81c.8-.78.8-2.07 0-2.86zM5.41 20L4 18.59l7.72-7.72 1.47 1.35L5.41 20z\"/>\n",
              "  </svg>\n",
              "      </button>\n",
              "      \n",
              "  <style>\n",
              "    .colab-df-container {\n",
              "      display:flex;\n",
              "      flex-wrap:wrap;\n",
              "      gap: 12px;\n",
              "    }\n",
              "\n",
              "    .colab-df-convert {\n",
              "      background-color: #E8F0FE;\n",
              "      border: none;\n",
              "      border-radius: 50%;\n",
              "      cursor: pointer;\n",
              "      display: none;\n",
              "      fill: #1967D2;\n",
              "      height: 32px;\n",
              "      padding: 0 0 0 0;\n",
              "      width: 32px;\n",
              "    }\n",
              "\n",
              "    .colab-df-convert:hover {\n",
              "      background-color: #E2EBFA;\n",
              "      box-shadow: 0px 1px 2px rgba(60, 64, 67, 0.3), 0px 1px 3px 1px rgba(60, 64, 67, 0.15);\n",
              "      fill: #174EA6;\n",
              "    }\n",
              "\n",
              "    [theme=dark] .colab-df-convert {\n",
              "      background-color: #3B4455;\n",
              "      fill: #D2E3FC;\n",
              "    }\n",
              "\n",
              "    [theme=dark] .colab-df-convert:hover {\n",
              "      background-color: #434B5C;\n",
              "      box-shadow: 0px 1px 3px 1px rgba(0, 0, 0, 0.15);\n",
              "      filter: drop-shadow(0px 1px 2px rgba(0, 0, 0, 0.3));\n",
              "      fill: #FFFFFF;\n",
              "    }\n",
              "  </style>\n",
              "\n",
              "      <script>\n",
              "        const buttonEl =\n",
              "          document.querySelector('#df-f45fc4cb-f437-454d-b514-63d8d1f0b7e0 button.colab-df-convert');\n",
              "        buttonEl.style.display =\n",
              "          google.colab.kernel.accessAllowed ? 'block' : 'none';\n",
              "\n",
              "        async function convertToInteractive(key) {\n",
              "          const element = document.querySelector('#df-f45fc4cb-f437-454d-b514-63d8d1f0b7e0');\n",
              "          const dataTable =\n",
              "            await google.colab.kernel.invokeFunction('convertToInteractive',\n",
              "                                                     [key], {});\n",
              "          if (!dataTable) return;\n",
              "\n",
              "          const docLinkHtml = 'Like what you see? Visit the ' +\n",
              "            '<a target=\"_blank\" href=https://colab.research.google.com/notebooks/data_table.ipynb>data table notebook</a>'\n",
              "            + ' to learn more about interactive tables.';\n",
              "          element.innerHTML = '';\n",
              "          dataTable['output_type'] = 'display_data';\n",
              "          await google.colab.output.renderOutput(dataTable, element);\n",
              "          const docLink = document.createElement('div');\n",
              "          docLink.innerHTML = docLinkHtml;\n",
              "          element.appendChild(docLink);\n",
              "        }\n",
              "      </script>\n",
              "    </div>\n",
              "  </div>\n",
              "  "
            ]
          },
          "metadata": {},
          "execution_count": 203
        }
      ]
    },
    {
      "cell_type": "code",
      "source": [],
      "metadata": {
        "id": "xJIIzGN-QwaG"
      },
      "execution_count": null,
      "outputs": []
    },
    {
      "cell_type": "code",
      "source": [
        "# Normilization\n",
        "from sklearn.preprocessing import MinMaxScaler, StandardScaler\n",
        "import numpy as np\n",
        "\n",
        "data = df[['Close', 'Open', 'High', 'Low', 'ma5', 'ma20', 'ma60']]\n",
        "target = df[['target']]\n",
        "\n",
        "print(f\"data shape: {data.shape}\")\n",
        "scaler = MinMaxScaler(feature_range=(0, 1))\n",
        "scaler_target = StandardScaler()\n",
        "x = scaler.fit_transform(data)\n",
        "y = scaler_target.fit_transform(target)\n",
        "print(scaler.n_samples_seen_, scaler.feature_range)\n",
        "x.shape, y.shape"
      ],
      "metadata": {
        "colab": {
          "base_uri": "https://localhost:8080/"
        },
        "id": "Oq-hcM2XOCoX",
        "outputId": "61b18c1f-eca6-4f50-c10d-22d9d6107942"
      },
      "execution_count": null,
      "outputs": [
        {
          "output_type": "stream",
          "name": "stdout",
          "text": [
            "data shape: (3148, 7)\n",
            "3148 (0, 1)\n"
          ]
        },
        {
          "output_type": "execute_result",
          "data": {
            "text/plain": [
              "((3148, 7), (3148, 1))"
            ]
          },
          "metadata": {},
          "execution_count": 210
        }
      ]
    },
    {
      "cell_type": "code",
      "source": [
        "test_idx = int(len(x) * 0.8)\n",
        "\n",
        "x_train, y_train = x[:test_idx], y[:test_idx]\n",
        "x_test, y_test = x[test_idx:], y[test_idx:]\n",
        "\n",
        "x_train = torch.from_numpy(x_train).float()\n",
        "y_train = torch.from_numpy(y_train).float()\n",
        "\n",
        "x_test = torch.from_numpy(x_test).float()\n",
        "y_test = torch.from_numpy(y_test).float()\n",
        "\n",
        "x_train = torch.reshape(x_train,   (x_train.shape[0], 1, x_train.shape[1]))\n",
        "x_test = torch.reshape(x_test,  (x_test.shape[0], 1, x_test.shape[1])) \n",
        "y_train = y_train.view(-1,1)\n",
        "y_test = y_test.view(-1,1)\n",
        "\n",
        "x_train.shape, y_train.shape"
      ],
      "metadata": {
        "colab": {
          "base_uri": "https://localhost:8080/"
        },
        "id": "8ao13UDrQyCD",
        "outputId": "2c9173e3-908a-45b0-ceaf-97434cd75f8a"
      },
      "execution_count": null,
      "outputs": [
        {
          "output_type": "execute_result",
          "data": {
            "text/plain": [
              "(torch.Size([2518, 1, 7]), torch.Size([2518, 1]))"
            ]
          },
          "metadata": {},
          "execution_count": 215
        }
      ]
    },
    {
      "cell_type": "code",
      "source": [
        "import torch \n",
        "from torch import optim\n",
        "import numpy as np\n",
        "import matplotlib.pyplot as plt\n",
        "\n",
        "seed = 27\n",
        "torch.manual_seed(seed) # cpu 연산 무작위 고정 \n",
        "torch.cuda.manual_seed(seed) # gpu 연산 무작위 고정 \n",
        "torch.cuda.manual_seed_all(seed) # 멀티 gpu 연산 무작위 고정 \n",
        "np.random.seed(seed) # numpy 관련 연산 무작위 고정\n",
        "\n",
        "\n",
        "# 학습해야 하는 모델 선언. hidden layer 크기가 인경우를 구현한다\n",
        "model = LSTM(num_classes=1, input_size=7, hidden_size=25, num_layers=1)\n",
        "preds = model(x_train)\n",
        "\n",
        "fig, ax = plt.subplots(1,3, figsize=(10,3))\n",
        "\n",
        "show_predicted(np.arange(0, x_train.shape[0]), y_train, preds.detach().numpy(), ax[0])\n",
        "\n",
        "cost =  torch.sqrt(nn.MSELoss()(preds,  y_train))\n",
        "\n",
        "print(f\"Initial Cost: {cost}\")\n",
        "\n",
        "# Weight와 Bias를 cost를 줄이는 방향으로 업데이트 ~ Optimization(최적화)\n",
        "optimizer = torch.optim.SGD( model.parameters(), lr=0.0003)\n",
        "\n",
        "nb_epochs = 100000 # 원하는만큼 경사 하강법을 반복\n",
        "for epoch in range(nb_epochs + 1):\n",
        "\n",
        "    preds = model(x_train)\n",
        "    # cost 계산\n",
        "    cost = torch.sqrt(nn.MSELoss()(preds, y_train))\n",
        "\n",
        "    optimizer.zero_grad() # 초기화\n",
        "    cost.backward() # gradient계산\n",
        "    optimizer.step() # 계산된 gradient 값을 이용하여 W,b 업데이트\n",
        "\n",
        "\n",
        "    # 1000번마다 로그 출력\n",
        "    if epoch % (nb_epochs/10) == 1:\n",
        "      print(f'Epoch {epoch:4d}/{nb_epochs}, Cost: {cost.item():.6f}')\n",
        "\n",
        "preds = model(x_train)\n",
        "show_predicted(range(x_train.shape[0]), y_train, preds.detach().numpy(),ax[1])\n",
        "print(f\"Train accuracy(RMSE) :  {torch.sqrt(nn.MSELoss()(preds,  y_train))}\")\n",
        "\n",
        "preds_test = model(x_test)\n",
        "print(f\"Test accuracy(RMSE) : { torch.sqrt(nn.MSELoss()(preds_test,  y_test))}\")\n",
        "show_predicted(range(x_test.shape[0]), y_test, preds_test.detach().numpy(),ax[2])"
      ],
      "metadata": {
        "colab": {
          "base_uri": "https://localhost:8080/",
          "height": 432
        },
        "id": "6qkiHF-ePYcL",
        "outputId": "786decf3-8b2d-4fc3-8c88-24f8b6f55fc3"
      },
      "execution_count": null,
      "outputs": [
        {
          "output_type": "stream",
          "name": "stdout",
          "text": [
            "Initial Cost: 0.9081196188926697\n",
            "Epoch    1/100000, Cost: 0.907917\n",
            "Epoch 10001/100000, Cost: 0.634267\n",
            "Epoch 20001/100000, Cost: 0.630872\n",
            "Epoch 30001/100000, Cost: 0.625155\n",
            "Epoch 40001/100000, Cost: 0.614318\n",
            "Epoch 50001/100000, Cost: 0.589678\n",
            "Epoch 60001/100000, Cost: 0.525445\n",
            "Epoch 70001/100000, Cost: 0.318730\n",
            "Epoch 80001/100000, Cost: 0.062546\n",
            "Epoch 90001/100000, Cost: 0.059812\n",
            "Train accuracy(RMSE) :  0.05875873938202858\n",
            "Test accuracy(RMSE) : 0.2791307866573334\n"
          ]
        },
        {
          "output_type": "display_data",
          "data": {
            "text/plain": [
              "<Figure size 720x216 with 3 Axes>"
            ],
            "image/png": "[encoded data removed]"
          },
          "metadata": {
            "needs_background": "light"
          }
        }
      ]
    },
    {
      "cell_type": "code",
      "source": [],
      "metadata": {
        "id": "3ksRPrZyPX72"
      },
      "execution_count": null,
      "outputs": []
    },
    {
      "cell_type": "markdown",
      "source": [
        "# Libarary 선언 및 데이터 생성"
      ],
      "metadata": {
        "id": "zD51Y8Wu6gjf"
      }
    },
    {
      "cell_type": "code",
      "source": [
        "model = nn.Linear(in_features=1, out_features=1, bias=True)\n",
        "print(list(model.parameters()))\n",
        "\n",
        "# optimizer 설정\n",
        "optimizer = optim.SGD(model.parameters(), lr=0.02)\n",
        "\n",
        "nb_epochs = 1000 # 원하는만큼 경사 하강법을 반복\n",
        "for epoch in range(nb_epochs + 1):\n",
        "\n",
        "    # H(x) 계산\n",
        "    prediction = model(x_train)\n",
        "\n",
        "    # cost 계산\n",
        "    cost = F.mse_loss(prediction, y_train) "
      ],
      "metadata": {
        "id": "wgzWu-YQKZuV"
      },
      "execution_count": null,
      "outputs": []
    },
    {
      "cell_type": "code",
      "source": [
        "import torch\n",
        "import torch.nn as nn\n",
        "import torch.nn.functional as F\n",
        "import torch.optim as optim\n",
        "torch.__version__"
      ],
      "metadata": {
        "id": "y87Rq-RK6f4q"
      },
      "execution_count": null,
      "outputs": []
    },
    {
      "cell_type": "code",
      "source": [],
      "metadata": {
        "colab": {
          "base_uri": "https://localhost:8080/",
          "height": 35
        },
        "id": "OCAmKE9h8Qk4",
        "outputId": "fd1e0d92-3110-45f6-c5b8-8a637ee5251e"
      },
      "execution_count": null,
      "outputs": [
        {
          "output_type": "execute_result",
          "data": {
            "text/plain": [
              "'1.13.0+cu116'"
            ],
            "application/vnd.google.colaboratory.intrinsic+json": {
              "type": "string"
            }
          },
          "metadata": {},
          "execution_count": 9
        }
      ]
    },
    {
      "cell_type": "code",
      "source": [
        "# NN은 학습 시 Random 하게 Weight를 생성합니다. \n",
        "# manual_seed를 강제로 주면 재실행시 같은 결과를 나오게 할 수 있습니다\n",
        "torch.manual_seed(1)"
      ],
      "metadata": {
        "colab": {
          "base_uri": "https://localhost:8080/"
        },
        "id": "G5IfQM1X6fZ3",
        "outputId": "d7472145-996f-4913-b2f2-6fdfe078e861"
      },
      "execution_count": null,
      "outputs": [
        {
          "output_type": "execute_result",
          "data": {
            "text/plain": [
              "<torch._C.Generator at 0x7f997f5eec30>"
            ]
          },
          "metadata": {},
          "execution_count": 3
        }
      ]
    },
    {
      "cell_type": "code",
      "source": [
        "!pip install --upgrade scikit-learn"
      ],
      "metadata": {
        "colab": {
          "base_uri": "https://localhost:8080/"
        },
        "id": "FK0GOBn08Mr7",
        "outputId": "2ae088b4-b17f-4032-aba8-8c322d4d978b"
      },
      "execution_count": null,
      "outputs": [
        {
          "output_type": "stream",
          "name": "stdout",
          "text": [
            "Looking in indexes: https://pypi.org/simple, https://us-python.pkg.dev/colab-wheels/public/simple/\n",
            "Requirement already satisfied: scikit-learn in /usr/local/lib/python3.8/dist-packages (1.0.2)\n",
            "Collecting scikit-learn\n",
            "  Downloading scikit_learn-1.2.0-cp38-cp38-manylinux_2_17_x86_64.manylinux2014_x86_64.whl (9.7 MB)\n",
            "\u001b[K     |████████████████████████████████| 9.7 MB 5.3 MB/s \n",
            "\u001b[?25hRequirement already satisfied: threadpoolctl>=2.0.0 in /usr/local/lib/python3.8/dist-packages (from scikit-learn) (3.1.0)\n",
            "Requirement already satisfied: scipy>=1.3.2 in /usr/local/lib/python3.8/dist-packages (from scikit-learn) (1.7.3)\n",
            "Requirement already satisfied: numpy>=1.17.3 in /usr/local/lib/python3.8/dist-packages (from scikit-learn) (1.21.6)\n",
            "Requirement already satisfied: joblib>=1.1.1 in /usr/local/lib/python3.8/dist-packages (from scikit-learn) (1.2.0)\n",
            "Installing collected packages: scikit-learn\n",
            "  Attempting uninstall: scikit-learn\n",
            "    Found existing installation: scikit-learn 1.0.2\n",
            "    Uninstalling scikit-learn-1.0.2:\n",
            "      Successfully uninstalled scikit-learn-1.0.2\n",
            "Successfully installed scikit-learn-1.2.0\n"
          ]
        }
      ]
    },
    {
      "cell_type": "code",
      "source": [
        "import numpy as np\n",
        "import sklearn\n",
        "import matplotlib.pyplot as plt\n",
        "from sklearn.model_selection import train_test_split\n",
        "from sklearn.datasets import make_regression\n",
        "\n",
        "%matplotlib inline\n",
        "sklearn.__version__"
      ],
      "metadata": {
        "colab": {
          "base_uri": "https://localhost:8080/",
          "height": 35
        },
        "id": "mSJg-W8J8DuN",
        "outputId": "b743180d-827d-48e6-ac43-63bc655602af"
      },
      "execution_count": null,
      "outputs": [
        {
          "output_type": "execute_result",
          "data": {
            "text/plain": [
              "'1.0.2'"
            ],
            "application/vnd.google.colaboratory.intrinsic+json": {
              "type": "string"
            }
          },
          "metadata": {},
          "execution_count": 21
        }
      ]
    },
    {
      "cell_type": "code",
      "source": [
        "\n",
        "\n",
        "\n",
        "  return X_train, X_test, y_train, y_test"
      ],
      "metadata": {
        "id": "5HLzNRcf71O3"
      },
      "execution_count": null,
      "outputs": []
    },
    {
      "cell_type": "code",
      "source": [
        "X,y = get_dataset(type='linear', number_of_datapoint=50)\n",
        "X_train, X_test, y_train, y_test = get_train_testset(X,y, show=True)"
      ],
      "metadata": {
        "colab": {
          "base_uri": "https://localhost:8080/",
          "height": 158
        },
        "id": "veW-AutD77i2",
        "outputId": "71afd5cd-62bd-4378-f0cb-3ac0cb667abf"
      },
      "execution_count": null,
      "outputs": [
        {
          "output_type": "display_data",
          "data": {
            "text/plain": [
              "<Figure size 360x144 with 2 Axes>"
            ],
            "image/png": "[encoded data removed]"
          },
          "metadata": {
            "needs_background": "light"
          }
        }
      ]
    },
    {
      "cell_type": "code",
      "source": [
        "X,y = get_dataset(type='poly', number_of_datapoint=50)\n",
        "X_train, X_test, y_train, y_test = get_train_testset(X,y, show=True)"
      ],
      "metadata": {
        "colab": {
          "base_uri": "https://localhost:8080/",
          "height": 168
        },
        "id": "fMogqH7n8h6H",
        "outputId": "26bc1970-621b-4725-b838-6d74638325b5"
      },
      "execution_count": null,
      "outputs": [
        {
          "output_type": "display_data",
          "data": {
            "text/plain": [
              "<Figure size 360x144 with 2 Axes>"
            ],
            "image/png": "[encoded data removed]"
          },
          "metadata": {
            "needs_background": "light"
          }
        }
      ]
    },
    {
      "cell_type": "code",
      "source": [],
      "metadata": {
        "colab": {
          "base_uri": "https://localhost:8080/",
          "height": 157
        },
        "id": "Q1ZgiV0S8tnT",
        "outputId": "c056a33d-b7ce-4106-f105-a78e728c17a7"
      },
      "execution_count": null,
      "outputs": [
        {
          "output_type": "display_data",
          "data": {
            "text/plain": [
              "<Figure size 360x144 with 2 Axes>"
            ],
            "image/png": "[encoded data removed]"
          },
          "metadata": {
            "needs_background": "light"
          }
        }
      ]
    },
    {
      "cell_type": "markdown",
      "source": [
        "# Pytorch기반으로 단순한 수식 풀기\n",
        "#### Learning Rate 이 바뀌 었을 때 어떻게 학습 되는지 확인"
      ],
      "metadata": {
        "id": "zHahUc0s88jO"
      }
    },
    {
      "cell_type": "code",
      "source": [
        "# 데이터\n",
        "x_train = torch.FloatTensor([[1], [2], [3]])\n",
        "y_train = torch.FloatTensor([[2], [4], [6]])\n",
        "# 모델 초기화\n",
        "W = torch.zeros(1, requires_grad=True)\n",
        "b = torch.zeros(1, requires_grad=True)\n",
        "# optimizer 설정\n",
        "optimizer = optim.SGD([W, b], lr=0.01)\n",
        "\n",
        "nb_epochs = 1000 # 원하는만큼 경사 하강법을 반복\n",
        "for epoch in range(nb_epochs + 1):\n",
        "\n",
        "    # H(x) 계산\n",
        "    hypothesis = x_train * W + b\n",
        "\n",
        "    # cost 계산\n",
        "    cost = torch.mean((hypothesis - y_train) ** 2)\n",
        "\n",
        "    # cost로 H(x) 개선\n",
        "    optimizer.zero_grad()\n",
        "    cost.backward()\n",
        "    optimizer.step()\n",
        "\n",
        "    # 100번마다 로그 출력\n",
        "    if epoch % 100 == 0:\n",
        "        print('Epoch {:4d}/{} W: {:.3f}, b: {:.3f} Cost: {:.6f}'.format(\n",
        "            epoch, nb_epochs, W.item(), b.item(), cost.item()\n",
        "        ))"
      ],
      "metadata": {
        "colab": {
          "base_uri": "https://localhost:8080/"
        },
        "id": "jckEvBzv84tX",
        "outputId": "bc5e3a23-c600-4721-dfd4-ee20d1e232ed"
      },
      "execution_count": null,
      "outputs": [
        {
          "output_type": "stream",
          "name": "stdout",
          "text": [
            "Epoch    0/1000 W: 0.187, b: 0.080 Cost: 18.666666\n",
            "Epoch  100/1000 W: 1.746, b: 0.578 Cost: 0.048171\n",
            "Epoch  200/1000 W: 1.800, b: 0.454 Cost: 0.029767\n",
            "Epoch  300/1000 W: 1.843, b: 0.357 Cost: 0.018394\n",
            "Epoch  400/1000 W: 1.876, b: 0.281 Cost: 0.011366\n",
            "Epoch  500/1000 W: 1.903, b: 0.221 Cost: 0.007024\n",
            "Epoch  600/1000 W: 1.924, b: 0.174 Cost: 0.004340\n",
            "Epoch  700/1000 W: 1.940, b: 0.136 Cost: 0.002682\n",
            "Epoch  800/1000 W: 1.953, b: 0.107 Cost: 0.001657\n",
            "Epoch  900/1000 W: 1.963, b: 0.084 Cost: 0.001024\n",
            "Epoch 1000/1000 W: 1.971, b: 0.066 Cost: 0.000633\n"
          ]
        }
      ]
    },
    {
      "cell_type": "code",
      "source": [
        "# 데이터\n",
        "x_train = torch.FloatTensor([[1], [2], [3]])\n",
        "y_train = torch.FloatTensor([[2], [4], [6]])\n",
        "# 모델 초기화\n",
        "W = torch.zeros(1, requires_grad=True)\n",
        "b = torch.zeros(1, requires_grad=True)\n",
        "# optimizer 설정\n",
        "optimizer = optim.SGD([W, b], lr=0.5)\n",
        "\n",
        "nb_epochs = 1000 # 원하는만큼 경사 하강법을 반복\n",
        "for epoch in range(nb_epochs + 1):\n",
        "\n",
        "    # H(x) 계산\n",
        "    hypothesis = x_train * W + b\n",
        "\n",
        "    # cost 계산\n",
        "    cost = torch.mean((hypothesis - y_train) ** 2)\n",
        "\n",
        "    # cost로 H(x) 개선\n",
        "    optimizer.zero_grad()\n",
        "    cost.backward()\n",
        "    optimizer.step()\n",
        "\n",
        "    # 100번마다 로그 출력\n",
        "    if epoch % 100 == 0:\n",
        "        print('Epoch {:4d}/{} W: {:.3f}, b: {:.3f} Cost: {:.6f}'.format(\n",
        "            epoch, nb_epochs, W.item(), b.item(), cost.item()\n",
        "        ))"
      ],
      "metadata": {
        "colab": {
          "base_uri": "https://localhost:8080/"
        },
        "id": "bedH93_r-URY",
        "outputId": "7b58684f-9b0e-4f94-b4ca-48fd9fe57e50"
      },
      "execution_count": null,
      "outputs": [
        {
          "output_type": "stream",
          "name": "stdout",
          "text": [
            "Epoch    0/1000 W: 9.333, b: 4.000 Cost: 18.666666\n",
            "Epoch  100/1000 W: nan, b: nan Cost: nan\n",
            "Epoch  200/1000 W: nan, b: nan Cost: nan\n",
            "Epoch  300/1000 W: nan, b: nan Cost: nan\n",
            "Epoch  400/1000 W: nan, b: nan Cost: nan\n",
            "Epoch  500/1000 W: nan, b: nan Cost: nan\n",
            "Epoch  600/1000 W: nan, b: nan Cost: nan\n",
            "Epoch  700/1000 W: nan, b: nan Cost: nan\n",
            "Epoch  800/1000 W: nan, b: nan Cost: nan\n",
            "Epoch  900/1000 W: nan, b: nan Cost: nan\n",
            "Epoch 1000/1000 W: nan, b: nan Cost: nan\n"
          ]
        }
      ]
    },
    {
      "cell_type": "markdown",
      "source": [
        "# nn.Linear 를 이용하여 문제 해결"
      ],
      "metadata": {
        "id": "rJXcYi0YAIVb"
      }
    },
    {
      "cell_type": "code",
      "source": [
        "# 데이터\n",
        "x_train = torch.FloatTensor([[1], [2], [3]])\n",
        "y_train = torch.FloatTensor([[2], [4], [6]])\n",
        "# 모델 초기화\n",
        "model = nn.Linear(in_features=1, out_features=1, bias=True)\n",
        "print(list(model.parameters()))\n",
        "\n",
        "# optimizer 설정\n",
        "optimizer = optim.SGD(model.parameters(), lr=0.02)\n",
        "\n",
        "nb_epochs = 1000 # 원하는만큼 경사 하강법을 반복\n",
        "for epoch in range(nb_epochs + 1):\n",
        "\n",
        "    # H(x) 계산\n",
        "    prediction = model(x_train)\n",
        "\n",
        "    # cost 계산\n",
        "    cost = F.mse_loss(prediction, y_train) \n",
        "\n",
        "    # cost로 H(x) 개선\n",
        "    optimizer.zero_grad()\n",
        "    cost.backward()\n",
        "    optimizer.step()\n",
        "\n",
        "    # 100번마다 로그 출력\n",
        "    if epoch % 100 == 0:\n",
        "        print('Epoch {:4d}/{} W: {:.3f}, b: {:.3f} Cost: {:.6f}'.format(\n",
        "            epoch, nb_epochs, W.item(), b.item(), cost.item()\n",
        "        ))"
      ],
      "metadata": {
        "colab": {
          "base_uri": "https://localhost:8080/",
          "height": 246
        },
        "id": "uZLOghyWAGrG",
        "outputId": "6e676c93-3188-4821-a782-79e7b2f96c03"
      },
      "execution_count": null,
      "outputs": [
        {
          "output_type": "error",
          "ename": "NameError",
          "evalue": "ignored",
          "traceback": [
            "\u001b[0;31m---------------------------------------------------------------------------\u001b[0m",
            "\u001b[0;31mNameError\u001b[0m                                 Traceback (most recent call last)",
            "\u001b[0;32m<ipython-input-20-f44d699b84b9>\u001b[0m in \u001b[0;36m<module>\u001b[0;34m\u001b[0m\n\u001b[1;32m      3\u001b[0m \u001b[0my_train\u001b[0m \u001b[0;34m=\u001b[0m \u001b[0mtorch\u001b[0m\u001b[0;34m.\u001b[0m\u001b[0mFloatTensor\u001b[0m\u001b[0;34m(\u001b[0m\u001b[0;34m[\u001b[0m\u001b[0;34m[\u001b[0m\u001b[0;36m2\u001b[0m\u001b[0;34m]\u001b[0m\u001b[0;34m,\u001b[0m \u001b[0;34m[\u001b[0m\u001b[0;36m4\u001b[0m\u001b[0;34m]\u001b[0m\u001b[0;34m,\u001b[0m \u001b[0;34m[\u001b[0m\u001b[0;36m6\u001b[0m\u001b[0;34m]\u001b[0m\u001b[0;34m]\u001b[0m\u001b[0;34m)\u001b[0m\u001b[0;34m\u001b[0m\u001b[0;34m\u001b[0m\u001b[0m\n\u001b[1;32m      4\u001b[0m \u001b[0;31m# 모델 초기화\u001b[0m\u001b[0;34m\u001b[0m\u001b[0;34m\u001b[0m\u001b[0;34m\u001b[0m\u001b[0m\n\u001b[0;32m----> 5\u001b[0;31m \u001b[0mmodel\u001b[0m \u001b[0;34m=\u001b[0m \u001b[0mnn\u001b[0m\u001b[0;34m.\u001b[0m\u001b[0mLinear\u001b[0m\u001b[0;34m(\u001b[0m\u001b[0min_features\u001b[0m\u001b[0;34m=\u001b[0m\u001b[0;36m1\u001b[0m\u001b[0;34m,\u001b[0m \u001b[0mout_features\u001b[0m\u001b[0;34m=\u001b[0m\u001b[0;36m1\u001b[0m\u001b[0;34m,\u001b[0m \u001b[0mbias\u001b[0m\u001b[0;34m=\u001b[0m\u001b[0;32mTrue\u001b[0m\u001b[0;34m)\u001b[0m\u001b[0;34m\u001b[0m\u001b[0;34m\u001b[0m\u001b[0m\n\u001b[0m\u001b[1;32m      6\u001b[0m \u001b[0mprint\u001b[0m\u001b[0;34m(\u001b[0m\u001b[0mlist\u001b[0m\u001b[0;34m(\u001b[0m\u001b[0mmodel\u001b[0m\u001b[0;34m.\u001b[0m\u001b[0mparameters\u001b[0m\u001b[0;34m(\u001b[0m\u001b[0;34m)\u001b[0m\u001b[0;34m)\u001b[0m\u001b[0;34m)\u001b[0m\u001b[0;34m\u001b[0m\u001b[0;34m\u001b[0m\u001b[0m\n\u001b[1;32m      7\u001b[0m \u001b[0;34m\u001b[0m\u001b[0m\n",
            "\u001b[0;31mNameError\u001b[0m: name 'nn' is not defined"
          ]
        }
      ]
    },
    {
      "cell_type": "markdown",
      "source": [
        "# 실제 활용하기 위해서는 Class로 선언해야 함"
      ],
      "metadata": {
        "id": "-aPWWLk9Ctwr"
      }
    },
    {
      "cell_type": "code",
      "source": [
        "class LinearRegressionModel(nn.Module):\n",
        "\n",
        "  # 객체를 만들때에는 항상 init 이 있어야 함\n",
        "  def __init__(self):\n",
        "    super().__init__()\n",
        "    self.linear = nn.Linear(1, 1)\n",
        "\n",
        "  def forward(self, x):\n",
        "      return self.linear(x)"
      ],
      "metadata": {
        "id": "3JvomYT6AHOG"
      },
      "execution_count": null,
      "outputs": []
    },
    {
      "cell_type": "code",
      "source": [
        "model = LinearRegressionModel()\n",
        "optimizer = torch.optim.SGD(model.parameters(), lr=0.01) \n",
        "\n",
        "# 전체 훈련 데이터에 대해 경사 하강법을 2,000회 반복\n",
        "nb_epochs = 2000\n",
        "for epoch in range(nb_epochs+1):\n",
        "\n",
        "    # H(x) 계산\n",
        "    prediction = model(x_train)\n",
        "\n",
        "    # cost 계산\n",
        "    cost = F.mse_loss(prediction, y_train) # <== 파이토치에서 제공하는 평균 제곱 오차 함수\n",
        "\n",
        "    # cost로 H(x) 개선하는 부분\n",
        "    # gradient를 0으로 초기화\n",
        "    optimizer.zero_grad()\n",
        "    # 비용 함수를 미분하여 gradient 계산\n",
        "    cost.backward() # backward 연산\n",
        "    # W와 b를 업데이트\n",
        "    optimizer.step()\n",
        "\n",
        "    if epoch % 100 == 0:\n",
        "    # 100번마다 로그 출력\n",
        "      print('Epoch {:4d}/{} Cost: {:.6f}'.format(\n",
        "          epoch, nb_epochs, cost.item()\n",
        "      ))"
      ],
      "metadata": {
        "colab": {
          "base_uri": "https://localhost:8080/"
        },
        "id": "VQxYlJCqAHi3",
        "outputId": "8ea33542-c4d6-4582-c84c-d0ccd23b9a87"
      },
      "execution_count": null,
      "outputs": [
        {
          "output_type": "stream",
          "name": "stdout",
          "text": [
            "Epoch    0/2000 Cost: 15.171722\n",
            "Epoch  100/2000 Cost: 0.006754\n",
            "Epoch  200/2000 Cost: 0.004174\n",
            "Epoch  300/2000 Cost: 0.002579\n",
            "Epoch  400/2000 Cost: 0.001594\n",
            "Epoch  500/2000 Cost: 0.000985\n",
            "Epoch  600/2000 Cost: 0.000609\n",
            "Epoch  700/2000 Cost: 0.000376\n",
            "Epoch  800/2000 Cost: 0.000232\n",
            "Epoch  900/2000 Cost: 0.000144\n",
            "Epoch 1000/2000 Cost: 0.000089\n",
            "Epoch 1100/2000 Cost: 0.000055\n",
            "Epoch 1200/2000 Cost: 0.000034\n",
            "Epoch 1300/2000 Cost: 0.000021\n",
            "Epoch 1400/2000 Cost: 0.000013\n",
            "Epoch 1500/2000 Cost: 0.000008\n",
            "Epoch 1600/2000 Cost: 0.000005\n",
            "Epoch 1700/2000 Cost: 0.000003\n",
            "Epoch 1800/2000 Cost: 0.000002\n",
            "Epoch 1900/2000 Cost: 0.000001\n",
            "Epoch 2000/2000 Cost: 0.000001\n"
          ]
        }
      ]
    },
    {
      "cell_type": "code",
      "source": [
        "X,y = get_dataset(type='linear', number_of_datapoint=50)\n",
        "x_train, x_test, y_train, y_test = get_train_testset(X,y, tensor=True, show=True)"
      ],
      "metadata": {
        "colab": {
          "base_uri": "https://localhost:8080/",
          "height": 157
        },
        "id": "hPPjm3KXEqJb",
        "outputId": "dbf90575-4955-4c1e-c8f8-69842ea2904f"
      },
      "execution_count": null,
      "outputs": [
        {
          "output_type": "display_data",
          "data": {
            "text/plain": [
              "<Figure size 360x144 with 2 Axes>"
            ],
            "image/png": "[encoded data removed]"
          },
          "metadata": {
            "needs_background": "light"
          }
        }
      ]
    },
    {
      "cell_type": "code",
      "source": [
        "model = LinearRegressionModel()\n",
        "optimizer = torch.optim.SGD(model.parameters(), lr=0.0001) \n",
        "\n",
        "# 전체 훈련 데이터에 대해 경사 하강법을 2,000회 반복\n",
        "nb_epochs = 2000\n",
        "for epoch in range(nb_epochs+1):\n",
        "\n",
        "    # H(x) 계산\n",
        "    prediction = model(x_train)\n",
        "\n",
        "    # cost 계산\n",
        "    cost = F.mse_loss(prediction, y_train) # <== 파이토치에서 제공하는 평균 제곱 오차 함수\n",
        "\n",
        "    # cost로 H(x) 개선하는 부분\n",
        "    # gradient를 0으로 초기화\n",
        "    optimizer.zero_grad()\n",
        "    # 비용 함수를 미분하여 gradient 계산\n",
        "    cost.backward() # backward 연산\n",
        "    # W와 b를 업데이트\n",
        "    optimizer.step()\n",
        "\n",
        "    if epoch % 100 == 0:\n",
        "    # 100번마다 로그 출력\n",
        "      print('Epoch {:4d}/{} Cost: {:.6f}'.format(\n",
        "          epoch, nb_epochs, cost.item()\n",
        "      ))\n",
        "\n",
        "# 평가데이터에 대한 성능 평가 \n",
        "print (f\"[Test Error] MSE {F.mse_loss(model(x_test), y_test)}\")\n",
        "print (f\"[Test Error] MSE {F.mse_loss(model(x_test), y_test)}\")"
      ],
      "metadata": {
        "colab": {
          "base_uri": "https://localhost:8080/"
        },
        "id": "xFE92WFeEqfl",
        "outputId": "2a862fd5-09e4-4d3e-f630-dc9f0dee3493"
      },
      "execution_count": null,
      "outputs": [
        {
          "output_type": "stream",
          "name": "stdout",
          "text": [
            "Epoch    0/2000 Cost: 2429.072021\n",
            "Epoch  100/2000 Cost: 637.396606\n",
            "Epoch  200/2000 Cost: 167.927689\n",
            "Epoch  300/2000 Cost: 44.913235\n",
            "Epoch  400/2000 Cost: 12.679220\n",
            "Epoch  500/2000 Cost: 4.232242\n",
            "Epoch  600/2000 Cost: 2.018048\n",
            "Epoch  700/2000 Cost: 1.437052\n",
            "Epoch  800/2000 Cost: 1.283988\n",
            "Epoch  900/2000 Cost: 1.243068\n",
            "Epoch 1000/2000 Cost: 1.231545\n",
            "Epoch 1100/2000 Cost: 1.227730\n",
            "Epoch 1200/2000 Cost: 1.225943\n",
            "Epoch 1300/2000 Cost: 1.224696\n",
            "Epoch 1400/2000 Cost: 1.223603\n",
            "Epoch 1500/2000 Cost: 1.222554\n",
            "Epoch 1600/2000 Cost: 1.221527\n",
            "Epoch 1700/2000 Cost: 1.220514\n",
            "Epoch 1800/2000 Cost: 1.219511\n",
            "Epoch 1900/2000 Cost: 1.218520\n",
            "Epoch 2000/2000 Cost: 1.217543\n",
            "1.1434857845306396\n"
          ]
        }
      ]
    },
    {
      "cell_type": "markdown",
      "source": [
        "# K-fold Cross Validation\n",
        "\n",
        "https://medium.com/dataseries/k-fold-cross-validation-with-pytorch-and-sklearn-d094aa00105f"
      ],
      "metadata": {
        "id": "oQRPtucGQV4q"
      }
    },
    {
      "cell_type": "code",
      "source": [
        "import matplotlib.pyplot as plt\n",
        "import numpy as np\n",
        "from sklearn.model_selection import KFold\n",
        "import random\n",
        "\n",
        "import torch\n",
        "import torch.nn as nn\n",
        "import torch.optim as optim\n",
        "from torch.utils.data import Dataset, DataLoader,TensorDataset,random_split,SubsetRandomSampler, ConcatDataset\n",
        "from torch.nn import functional as F\n",
        "import torchvision\n",
        "from torchvision import datasets,transforms\n",
        "import torchvision.transforms as transforms\n",
        "\n",
        "\n",
        "train_dataset = torchvision.datasets.MNIST('classifier_data', train=True, download=True)\n",
        "test_dataset  = torchvision.datasets.MNIST('classifier_data', train=False, download=True)\n",
        "\n",
        "transform = torchvision.transforms.Compose([\n",
        "    torchvision.transforms.ToTensor()\n",
        "])\n",
        "\n",
        "train_dataset.transform=transform\n",
        "test_dataset.transform=transform\n",
        "\n",
        "m=len(train_dataset)\n",
        "\n",
        "class ConvNet(nn.Module):\n",
        "    def __init__(self,h1=96):\n",
        "        # We optimize dropout rate in a convolutional neural network.\n",
        "        super(ConvNet, self).__init__()\n",
        "\n",
        "        self.conv1 = nn.Conv2d(in_channels=1, out_channels=16, kernel_size=5, stride=1, padding=2)\n",
        "\n",
        "        self.conv2 = nn.Conv2d(in_channels=16, out_channels=32, kernel_size=5, stride=1, padding=2)\n",
        "        self.drop1=nn.Dropout2d(p=0.5)   \n",
        "\n",
        "        self.fc1 = nn.Linear(32 * 7 * 7, h1)\n",
        "        self.drop2=nn.Dropout2d(p=0.1)\n",
        "\n",
        "        self.fc2 = nn.Linear(h1, 10)\n",
        "\n",
        "    def forward(self, x):\n",
        "        x = F.relu(F.max_pool2d(self.conv1(x),kernel_size = 2))\n",
        "\n",
        "        x = F.relu(F.max_pool2d(self.conv2(x),kernel_size = 2))\n",
        "        x = self.drop1(x)\n",
        "\n",
        "        x = x.view(x.size(0),-1)\n",
        "\n",
        "        x = F.relu(self.fc1(x))\n",
        "        x = self.drop2(x)\n",
        "\n",
        "        x = self.fc2(x)\n",
        "\n",
        "        return x\n",
        "\n",
        "device = torch.device(\"cuda:0\" if torch.cuda.is_available() else \"cpu\")\n",
        "torch.manual_seed(42)\n",
        "criterion = nn.CrossEntropyLoss()\n",
        "\n",
        "dataset = ConcatDataset([train_dataset, test_dataset])\n",
        "\n",
        "num_epochs=10\n",
        "batch_size=128\n",
        "k=10\n",
        "splits=KFold(n_splits=k,shuffle=True,random_state=42)\n",
        "foldperf={}\n",
        "\n",
        "\n",
        "def train_epoch(model,device,dataloader,loss_fn,optimizer):\n",
        "    train_loss,train_correct=0.0,0\n",
        "    model.train()\n",
        "    for images, labels in dataloader:\n",
        "\n",
        "        images,labels = images.to(device),labels.to(device)\n",
        "        optimizer.zero_grad()\n",
        "        output = model(images)\n",
        "        loss = loss_fn(output,labels)\n",
        "        loss.backward()\n",
        "        optimizer.step()\n",
        "        train_loss += loss.item() * images.size(0)\n",
        "        scores, predictions = torch.max(output.data, 1)\n",
        "        train_correct += (predictions == labels).sum().item()\n",
        "\n",
        "    return train_loss,train_correct\n",
        "  \n",
        "def valid_epoch(model,device,dataloader,loss_fn):\n",
        "    valid_loss, val_correct = 0.0, 0\n",
        "    model.eval()\n",
        "    for images, labels in dataloader:\n",
        "\n",
        "        images,labels = images.to(device),labels.to(device)\n",
        "        output = model(images)\n",
        "        loss=loss_fn(output,labels)\n",
        "        valid_loss+=loss.item()*images.size(0)\n",
        "        scores, predictions = torch.max(output.data,1)\n",
        "        val_correct+=(predictions == labels).sum().item()\n",
        "\n",
        "    return valid_loss,val_correct"
      ],
      "metadata": {
        "colab": {
          "base_uri": "https://localhost:8080/",
          "height": 437,
          "referenced_widgets": [
            "44a7a0df842c44ec9e4d222c8e2f0b27",
            "52bf7fa96ea9463aa4e02c5dff17daf1",
            "a299206ab09f460498eb01280d874918",
            "504170e4d99643978903ab9c09340a2d",
            "0e2630fe4a764b178691227666cc174b",
            "704ce9767dfa4aedb52f9b9f1b6b6bb8",
            "b7f5a894268c401ba256f1eaca602ec0",
            "68abb96177e2420285cb273eea72ee88",
            "f515f81b67a145cf8d82480c1653979e",
            "c793a03ac1f043b88a3e5cfb709bf465",
            "6ed30423e8f642ef893b3a8a78231676",
            "a591eedc0be74fa290fc9e02d6710311",
            "37ad70bbf5454369aa61e9d272a8b4b3",
            "8694c15dbc0647fbbe45670bb49929f2",
            "2150535e93a846adb701a0b3550b4a1f",
            "6eaf5cdd77184dcc80f1da7a82d29d9e",
            "675b44a8a0a848f9a4204368316d8f1d",
            "49cf094fa6e7434995979618d7b43588",
            "182b27fb0e4c4d62a48fc770f03e2d0a",
            "3fe3eedce1684d85a6bb6655b568edeb",
            "ec3faa27fd974aefabab01d1c269089b",
            "7e11164cb70044399e85deab71d05825",
            "25f816601be2499286da0fee7ad268b2",
            "b77ca9f269af4fab9abca2c87568227f",
            "22efe14a132b4f40805c982e023b90a9",
            "aa0a8e30ae064429af0ec6d19ebaf418",
            "61281eabdd5c421bb31c27319fc7f6d6",
            "b4307fbfec6b496995dc9d6476533467",
            "1dd7b73b3f5f48f598680ec406c1a2d8",
            "9c828822606944399ca6c252c54d29f6",
            "5061ea5f7c8c439abb51d12533adbed1",
            "4088f09df1734983920ae78edc900722",
            "52ab1c33e1d44a01837b225ee6585e91",
            "0e1a90fd6b9f416e88f137b6a9e0360b",
            "4292b63101f041c2a0d9e7a56a989635",
            "48735bda6ed54c73aa0574fa231eab04",
            "09ebbda8c26f44319973bf2bbde0663c",
            "0a866bc35bdd45179469ee6dfc41d26e",
            "3cf362c3db414023a6a88741ab55c3a3",
            "30804880ba9640358261bed8020fa43a",
            "26d8b0ed998a4c52b47e69fa61834218",
            "29b51209b0af4630b4373c0fdf508408",
            "96fead179e364a5ea64a26193baecb03",
            "1a88da21014240b892a7e32a1335b0c6"
          ]
        },
        "id": "TIT8YOmAQVRd",
        "outputId": "d086795d-effe-43e8-f287-3e2e94ea661a"
      },
      "execution_count": null,
      "outputs": [
        {
          "output_type": "stream",
          "name": "stdout",
          "text": [
            "Downloading http://yann.lecun.com/exdb/mnist/train-images-idx3-ubyte.gz\n",
            "Downloading http://yann.lecun.com/exdb/mnist/train-images-idx3-ubyte.gz to classifier_data/MNIST/raw/train-images-idx3-ubyte.gz\n"
          ]
        },
        {
          "output_type": "display_data",
          "data": {
            "text/plain": [
              "  0%|          | 0/9912422 [00:00<?, ?it/s]"
            ],
            "application/vnd.jupyter.widget-view+json": {
              "version_major": 2,
              "version_minor": 0,
              "model_id": "44a7a0df842c44ec9e4d222c8e2f0b27"
            }
          },
          "metadata": {}
        },
        {
          "output_type": "stream",
          "name": "stdout",
          "text": [
            "Extracting classifier_data/MNIST/raw/train-images-idx3-ubyte.gz to classifier_data/MNIST/raw\n",
            "\n",
            "Downloading http://yann.lecun.com/exdb/mnist/train-labels-idx1-ubyte.gz\n",
            "Downloading http://yann.lecun.com/exdb/mnist/train-labels-idx1-ubyte.gz to classifier_data/MNIST/raw/train-labels-idx1-ubyte.gz\n"
          ]
        },
        {
          "output_type": "display_data",
          "data": {
            "text/plain": [
              "  0%|          | 0/28881 [00:00<?, ?it/s]"
            ],
            "application/vnd.jupyter.widget-view+json": {
              "version_major": 2,
              "version_minor": 0,
              "model_id": "a591eedc0be74fa290fc9e02d6710311"
            }
          },
          "metadata": {}
        },
        {
          "output_type": "stream",
          "name": "stdout",
          "text": [
            "Extracting classifier_data/MNIST/raw/train-labels-idx1-ubyte.gz to classifier_data/MNIST/raw\n",
            "\n",
            "Downloading http://yann.lecun.com/exdb/mnist/t10k-images-idx3-ubyte.gz\n",
            "Downloading http://yann.lecun.com/exdb/mnist/t10k-images-idx3-ubyte.gz to classifier_data/MNIST/raw/t10k-images-idx3-ubyte.gz\n"
          ]
        },
        {
          "output_type": "display_data",
          "data": {
            "text/plain": [
              "  0%|          | 0/1648877 [00:00<?, ?it/s]"
            ],
            "application/vnd.jupyter.widget-view+json": {
              "version_major": 2,
              "version_minor": 0,
              "model_id": "25f816601be2499286da0fee7ad268b2"
            }
          },
          "metadata": {}
        },
        {
          "output_type": "stream",
          "name": "stdout",
          "text": [
            "Extracting classifier_data/MNIST/raw/t10k-images-idx3-ubyte.gz to classifier_data/MNIST/raw\n",
            "\n",
            "Downloading http://yann.lecun.com/exdb/mnist/t10k-labels-idx1-ubyte.gz\n",
            "Downloading http://yann.lecun.com/exdb/mnist/t10k-labels-idx1-ubyte.gz to classifier_data/MNIST/raw/t10k-labels-idx1-ubyte.gz\n"
          ]
        },
        {
          "output_type": "display_data",
          "data": {
            "text/plain": [
              "  0%|          | 0/4542 [00:00<?, ?it/s]"
            ],
            "application/vnd.jupyter.widget-view+json": {
              "version_major": 2,
              "version_minor": 0,
              "model_id": "0e1a90fd6b9f416e88f137b6a9e0360b"
            }
          },
          "metadata": {}
        },
        {
          "output_type": "stream",
          "name": "stdout",
          "text": [
            "Extracting classifier_data/MNIST/raw/t10k-labels-idx1-ubyte.gz to classifier_data/MNIST/raw\n",
            "\n"
          ]
        }
      ]
    },
    {
      "cell_type": "code",
      "source": [
        "history = {'train_loss': [], 'test_loss': [],'train_acc':[],'test_acc':[]}\n",
        "\n",
        "for fold, (train_idx,val_idx) in enumerate(splits.split(np.arange(len(dataset)))):\n",
        "\n",
        "    print('Fold {}'.format(fold + 1))\n",
        "\n",
        "    train_sampler = SubsetRandomSampler(train_idx)\n",
        "    test_sampler = SubsetRandomSampler(val_idx)\n",
        "    train_loader = DataLoader(dataset, batch_size=batch_size, sampler=train_sampler)\n",
        "    test_loader = DataLoader(dataset, batch_size=batch_size, sampler=test_sampler)\n",
        "    \n",
        "    model = ConvNet()\n",
        "    model.to(device)\n",
        "    optimizer = optim.Adam(model.parameters(), lr=0.002)\n",
        "\n",
        "    for epoch in range(num_epochs):\n",
        "        train_loss, train_correct=train_epoch(model,device,train_loader,criterion,optimizer)\n",
        "        test_loss, test_correct=valid_epoch(model,device,test_loader,criterion)\n",
        "\n",
        "        train_loss = train_loss / len(train_loader.sampler)\n",
        "        train_acc = train_correct / len(train_loader.sampler) * 100\n",
        "        test_loss = test_loss / len(test_loader.sampler)\n",
        "        test_acc = test_correct / len(test_loader.sampler) * 100\n",
        "\n",
        "        print(\"Epoch:{}/{} AVG Training Loss:{:.3f} AVG Test Loss:{:.3f} AVG Training Acc {:.2f} % AVG Test Acc {:.2f} %\".format(epoch + 1,\n",
        "                                                                                                             num_epochs,\n",
        "                                                                                                             train_loss,\n",
        "                                                                                                             test_loss,\n",
        "                                                                                                             train_acc,\n",
        "                                                                                                             test_acc))\n",
        "        history['train_loss'].append(train_loss)\n",
        "        history['test_loss'].append(test_loss)\n",
        "        history['train_acc'].append(train_acc)\n",
        "        history['test_acc'].append(test_acc)   "
      ],
      "metadata": {
        "colab": {
          "base_uri": "https://localhost:8080/"
        },
        "id": "5TRqisLuQVEU",
        "outputId": "7d5bd019-8ff3-4dd8-b890-1f2ab4b1e11b"
      },
      "execution_count": null,
      "outputs": [
        {
          "output_type": "stream",
          "name": "stdout",
          "text": [
            "Fold 1\n"
          ]
        },
        {
          "output_type": "stream",
          "name": "stderr",
          "text": [
            "/usr/local/lib/python3.8/dist-packages/torch/nn/functional.py:1331: UserWarning: dropout2d: Received a 2-D input to dropout2d, which is deprecated and will result in an error in a future release. To retain the behavior and silence this warning, please use dropout instead. Note that dropout2d exists to provide channel-wise dropout on inputs with 2 spatial dimensions, a channel dimension, and an optional batch dimension (i.e. 3D or 4D inputs).\n",
            "  warnings.warn(warn_msg)\n"
          ]
        },
        {
          "output_type": "stream",
          "name": "stdout",
          "text": [
            "Epoch:1/10 AVG Training Loss:0.232 AVG Test Loss:0.082 AVG Training Acc 92.93 % AVG Test Acc 97.41 %\n",
            "Epoch:2/10 AVG Training Loss:0.076 AVG Test Loss:0.046 AVG Training Acc 97.68 % AVG Test Acc 98.50 %\n",
            "Epoch:3/10 AVG Training Loss:0.060 AVG Test Loss:0.044 AVG Training Acc 98.21 % AVG Test Acc 98.40 %\n",
            "Epoch:4/10 AVG Training Loss:0.050 AVG Test Loss:0.037 AVG Training Acc 98.48 % AVG Test Acc 98.66 %\n",
            "Epoch:5/10 AVG Training Loss:0.042 AVG Test Loss:0.031 AVG Training Acc 98.65 % AVG Test Acc 98.89 %\n",
            "Epoch:6/10 AVG Training Loss:0.037 AVG Test Loss:0.038 AVG Training Acc 98.88 % AVG Test Acc 98.83 %\n",
            "Epoch:7/10 AVG Training Loss:0.035 AVG Test Loss:0.036 AVG Training Acc 98.91 % AVG Test Acc 98.94 %\n",
            "Epoch:8/10 AVG Training Loss:0.035 AVG Test Loss:0.035 AVG Training Acc 98.90 % AVG Test Acc 98.96 %\n",
            "Epoch:9/10 AVG Training Loss:0.029 AVG Test Loss:0.035 AVG Training Acc 99.06 % AVG Test Acc 98.90 %\n",
            "Epoch:10/10 AVG Training Loss:0.030 AVG Test Loss:0.027 AVG Training Acc 99.05 % AVG Test Acc 99.01 %\n",
            "Fold 2\n",
            "Epoch:1/10 AVG Training Loss:0.245 AVG Test Loss:0.074 AVG Training Acc 92.42 % AVG Test Acc 97.56 %\n",
            "Epoch:2/10 AVG Training Loss:0.081 AVG Test Loss:0.050 AVG Training Acc 97.50 % AVG Test Acc 98.59 %\n",
            "Epoch:3/10 AVG Training Loss:0.064 AVG Test Loss:0.039 AVG Training Acc 98.07 % AVG Test Acc 98.80 %\n",
            "Epoch:4/10 AVG Training Loss:0.054 AVG Test Loss:0.040 AVG Training Acc 98.32 % AVG Test Acc 98.89 %\n",
            "Epoch:5/10 AVG Training Loss:0.046 AVG Test Loss:0.036 AVG Training Acc 98.54 % AVG Test Acc 99.09 %\n",
            "Epoch:6/10 AVG Training Loss:0.040 AVG Test Loss:0.036 AVG Training Acc 98.75 % AVG Test Acc 99.04 %\n",
            "Epoch:7/10 AVG Training Loss:0.040 AVG Test Loss:0.033 AVG Training Acc 98.74 % AVG Test Acc 99.06 %\n",
            "Epoch:8/10 AVG Training Loss:0.033 AVG Test Loss:0.031 AVG Training Acc 98.97 % AVG Test Acc 99.07 %\n",
            "Epoch:9/10 AVG Training Loss:0.034 AVG Test Loss:0.033 AVG Training Acc 98.90 % AVG Test Acc 99.16 %\n",
            "Epoch:10/10 AVG Training Loss:0.031 AVG Test Loss:0.031 AVG Training Acc 99.03 % AVG Test Acc 99.13 %\n",
            "Fold 3\n",
            "Epoch:1/10 AVG Training Loss:0.237 AVG Test Loss:0.056 AVG Training Acc 92.61 % AVG Test Acc 98.13 %\n",
            "Epoch:2/10 AVG Training Loss:0.078 AVG Test Loss:0.048 AVG Training Acc 97.60 % AVG Test Acc 98.47 %\n",
            "Epoch:3/10 AVG Training Loss:0.060 AVG Test Loss:0.043 AVG Training Acc 98.16 % AVG Test Acc 98.66 %\n",
            "Epoch:4/10 AVG Training Loss:0.052 AVG Test Loss:0.033 AVG Training Acc 98.41 % AVG Test Acc 98.96 %\n",
            "Epoch:5/10 AVG Training Loss:0.043 AVG Test Loss:0.039 AVG Training Acc 98.67 % AVG Test Acc 98.86 %\n",
            "Epoch:6/10 AVG Training Loss:0.039 AVG Test Loss:0.033 AVG Training Acc 98.75 % AVG Test Acc 99.04 %\n",
            "Epoch:7/10 AVG Training Loss:0.037 AVG Test Loss:0.038 AVG Training Acc 98.81 % AVG Test Acc 98.94 %\n",
            "Epoch:8/10 AVG Training Loss:0.034 AVG Test Loss:0.036 AVG Training Acc 98.91 % AVG Test Acc 99.09 %\n",
            "Epoch:9/10 AVG Training Loss:0.032 AVG Test Loss:0.034 AVG Training Acc 98.99 % AVG Test Acc 99.07 %\n",
            "Epoch:10/10 AVG Training Loss:0.029 AVG Test Loss:0.035 AVG Training Acc 99.01 % AVG Test Acc 99.04 %\n",
            "Fold 4\n",
            "Epoch:1/10 AVG Training Loss:0.239 AVG Test Loss:0.064 AVG Training Acc 92.69 % AVG Test Acc 97.90 %\n",
            "Epoch:2/10 AVG Training Loss:0.082 AVG Test Loss:0.045 AVG Training Acc 97.54 % AVG Test Acc 98.57 %\n",
            "Epoch:3/10 AVG Training Loss:0.060 AVG Test Loss:0.039 AVG Training Acc 98.20 % AVG Test Acc 98.86 %\n",
            "Epoch:4/10 AVG Training Loss:0.052 AVG Test Loss:0.031 AVG Training Acc 98.37 % AVG Test Acc 99.09 %\n",
            "Epoch:5/10 AVG Training Loss:0.044 AVG Test Loss:0.034 AVG Training Acc 98.60 % AVG Test Acc 98.94 %\n",
            "Epoch:6/10 AVG Training Loss:0.041 AVG Test Loss:0.032 AVG Training Acc 98.75 % AVG Test Acc 99.11 %\n",
            "Epoch:7/10 AVG Training Loss:0.037 AVG Test Loss:0.032 AVG Training Acc 98.80 % AVG Test Acc 99.00 %\n",
            "Epoch:8/10 AVG Training Loss:0.035 AVG Test Loss:0.025 AVG Training Acc 98.89 % AVG Test Acc 99.39 %\n",
            "Epoch:9/10 AVG Training Loss:0.034 AVG Test Loss:0.028 AVG Training Acc 98.96 % AVG Test Acc 99.30 %\n",
            "Epoch:10/10 AVG Training Loss:0.032 AVG Test Loss:0.030 AVG Training Acc 98.99 % AVG Test Acc 99.13 %\n",
            "Fold 5\n",
            "Epoch:1/10 AVG Training Loss:0.235 AVG Test Loss:0.065 AVG Training Acc 92.76 % AVG Test Acc 98.19 %\n",
            "Epoch:2/10 AVG Training Loss:0.078 AVG Test Loss:0.051 AVG Training Acc 97.62 % AVG Test Acc 98.44 %\n",
            "Epoch:3/10 AVG Training Loss:0.058 AVG Test Loss:0.041 AVG Training Acc 98.22 % AVG Test Acc 98.90 %\n",
            "Epoch:4/10 AVG Training Loss:0.049 AVG Test Loss:0.034 AVG Training Acc 98.52 % AVG Test Acc 98.91 %\n",
            "Epoch:5/10 AVG Training Loss:0.044 AVG Test Loss:0.037 AVG Training Acc 98.66 % AVG Test Acc 99.06 %\n",
            "Epoch:6/10 AVG Training Loss:0.039 AVG Test Loss:0.041 AVG Training Acc 98.76 % AVG Test Acc 98.91 %\n",
            "Epoch:7/10 AVG Training Loss:0.036 AVG Test Loss:0.031 AVG Training Acc 98.91 % AVG Test Acc 99.14 %\n",
            "Epoch:8/10 AVG Training Loss:0.033 AVG Test Loss:0.035 AVG Training Acc 98.97 % AVG Test Acc 99.07 %\n",
            "Epoch:9/10 AVG Training Loss:0.031 AVG Test Loss:0.038 AVG Training Acc 99.03 % AVG Test Acc 99.11 %\n",
            "Epoch:10/10 AVG Training Loss:0.029 AVG Test Loss:0.036 AVG Training Acc 99.03 % AVG Test Acc 99.16 %\n",
            "Fold 6\n",
            "Epoch:1/10 AVG Training Loss:0.234 AVG Test Loss:0.060 AVG Training Acc 92.81 % AVG Test Acc 98.04 %\n",
            "Epoch:2/10 AVG Training Loss:0.078 AVG Test Loss:0.037 AVG Training Acc 97.64 % AVG Test Acc 98.76 %\n",
            "Epoch:3/10 AVG Training Loss:0.060 AVG Test Loss:0.032 AVG Training Acc 98.17 % AVG Test Acc 99.00 %\n",
            "Epoch:4/10 AVG Training Loss:0.052 AVG Test Loss:0.027 AVG Training Acc 98.37 % AVG Test Acc 99.13 %\n",
            "Epoch:5/10 AVG Training Loss:0.044 AVG Test Loss:0.027 AVG Training Acc 98.69 % AVG Test Acc 99.23 %\n",
            "Epoch:6/10 AVG Training Loss:0.039 AVG Test Loss:0.034 AVG Training Acc 98.82 % AVG Test Acc 98.99 %\n",
            "Epoch:7/10 AVG Training Loss:0.036 AVG Test Loss:0.028 AVG Training Acc 98.90 % AVG Test Acc 99.29 %\n",
            "Epoch:8/10 AVG Training Loss:0.035 AVG Test Loss:0.025 AVG Training Acc 98.89 % AVG Test Acc 99.23 %\n",
            "Epoch:9/10 AVG Training Loss:0.033 AVG Test Loss:0.026 AVG Training Acc 98.93 % AVG Test Acc 99.20 %\n",
            "Epoch:10/10 AVG Training Loss:0.030 AVG Test Loss:0.025 AVG Training Acc 99.04 % AVG Test Acc 99.23 %\n",
            "Fold 7\n",
            "Epoch:1/10 AVG Training Loss:0.229 AVG Test Loss:0.060 AVG Training Acc 92.89 % AVG Test Acc 98.16 %\n",
            "Epoch:2/10 AVG Training Loss:0.077 AVG Test Loss:0.039 AVG Training Acc 97.63 % AVG Test Acc 98.96 %\n",
            "Epoch:3/10 AVG Training Loss:0.057 AVG Test Loss:0.035 AVG Training Acc 98.26 % AVG Test Acc 98.99 %\n",
            "Epoch:4/10 AVG Training Loss:0.050 AVG Test Loss:0.034 AVG Training Acc 98.49 % AVG Test Acc 99.04 %\n",
            "Epoch:5/10 AVG Training Loss:0.041 AVG Test Loss:0.032 AVG Training Acc 98.71 % AVG Test Acc 99.00 %\n",
            "Epoch:6/10 AVG Training Loss:0.039 AVG Test Loss:0.032 AVG Training Acc 98.75 % AVG Test Acc 99.07 %\n",
            "Epoch:7/10 AVG Training Loss:0.034 AVG Test Loss:0.031 AVG Training Acc 98.92 % AVG Test Acc 99.23 %\n",
            "Epoch:8/10 AVG Training Loss:0.030 AVG Test Loss:0.030 AVG Training Acc 99.01 % AVG Test Acc 99.20 %\n",
            "Epoch:9/10 AVG Training Loss:0.031 AVG Test Loss:0.033 AVG Training Acc 99.07 % AVG Test Acc 99.11 %\n",
            "Epoch:10/10 AVG Training Loss:0.028 AVG Test Loss:0.028 AVG Training Acc 99.08 % AVG Test Acc 99.26 %\n",
            "Fold 8\n",
            "Epoch:1/10 AVG Training Loss:0.236 AVG Test Loss:0.074 AVG Training Acc 92.69 % AVG Test Acc 97.86 %\n",
            "Epoch:2/10 AVG Training Loss:0.080 AVG Test Loss:0.054 AVG Training Acc 97.60 % AVG Test Acc 98.51 %\n",
            "Epoch:3/10 AVG Training Loss:0.059 AVG Test Loss:0.054 AVG Training Acc 98.18 % AVG Test Acc 98.53 %\n",
            "Epoch:4/10 AVG Training Loss:0.051 AVG Test Loss:0.043 AVG Training Acc 98.40 % AVG Test Acc 98.74 %\n",
            "Epoch:5/10 AVG Training Loss:0.045 AVG Test Loss:0.042 AVG Training Acc 98.60 % AVG Test Acc 99.03 %\n",
            "Epoch:6/10 AVG Training Loss:0.039 AVG Test Loss:0.040 AVG Training Acc 98.76 % AVG Test Acc 98.89 %\n",
            "Epoch:7/10 AVG Training Loss:0.036 AVG Test Loss:0.040 AVG Training Acc 98.84 % AVG Test Acc 98.93 %\n",
            "Epoch:8/10 AVG Training Loss:0.033 AVG Test Loss:0.043 AVG Training Acc 98.95 % AVG Test Acc 98.94 %\n",
            "Epoch:9/10 AVG Training Loss:0.032 AVG Test Loss:0.040 AVG Training Acc 98.95 % AVG Test Acc 98.99 %\n",
            "Epoch:10/10 AVG Training Loss:0.030 AVG Test Loss:0.040 AVG Training Acc 99.01 % AVG Test Acc 99.03 %\n",
            "Fold 9\n",
            "Epoch:1/10 AVG Training Loss:0.246 AVG Test Loss:0.060 AVG Training Acc 92.43 % AVG Test Acc 98.13 %\n",
            "Epoch:2/10 AVG Training Loss:0.079 AVG Test Loss:0.042 AVG Training Acc 97.62 % AVG Test Acc 98.63 %\n",
            "Epoch:3/10 AVG Training Loss:0.061 AVG Test Loss:0.034 AVG Training Acc 98.14 % AVG Test Acc 98.89 %\n",
            "Epoch:4/10 AVG Training Loss:0.051 AVG Test Loss:0.032 AVG Training Acc 98.45 % AVG Test Acc 98.94 %\n",
            "Epoch:5/10 AVG Training Loss:0.046 AVG Test Loss:0.030 AVG Training Acc 98.55 % AVG Test Acc 99.17 %\n",
            "Epoch:6/10 AVG Training Loss:0.040 AVG Test Loss:0.030 AVG Training Acc 98.80 % AVG Test Acc 99.13 %\n",
            "Epoch:7/10 AVG Training Loss:0.038 AVG Test Loss:0.027 AVG Training Acc 98.84 % AVG Test Acc 99.24 %\n",
            "Epoch:8/10 AVG Training Loss:0.033 AVG Test Loss:0.031 AVG Training Acc 98.97 % AVG Test Acc 99.19 %\n",
            "Epoch:9/10 AVG Training Loss:0.033 AVG Test Loss:0.033 AVG Training Acc 99.00 % AVG Test Acc 99.01 %\n",
            "Epoch:10/10 AVG Training Loss:0.030 AVG Test Loss:0.027 AVG Training Acc 99.03 % AVG Test Acc 99.20 %\n",
            "Fold 10\n",
            "Epoch:1/10 AVG Training Loss:0.222 AVG Test Loss:0.058 AVG Training Acc 93.08 % AVG Test Acc 98.07 %\n",
            "Epoch:2/10 AVG Training Loss:0.080 AVG Test Loss:0.043 AVG Training Acc 97.58 % AVG Test Acc 98.69 %\n",
            "Epoch:3/10 AVG Training Loss:0.063 AVG Test Loss:0.035 AVG Training Acc 98.08 % AVG Test Acc 99.03 %\n",
            "Epoch:4/10 AVG Training Loss:0.052 AVG Test Loss:0.034 AVG Training Acc 98.40 % AVG Test Acc 99.00 %\n",
            "Epoch:5/10 AVG Training Loss:0.045 AVG Test Loss:0.034 AVG Training Acc 98.61 % AVG Test Acc 99.03 %\n",
            "Epoch:6/10 AVG Training Loss:0.041 AVG Test Loss:0.030 AVG Training Acc 98.71 % AVG Test Acc 99.07 %\n",
            "Epoch:7/10 AVG Training Loss:0.035 AVG Test Loss:0.032 AVG Training Acc 98.88 % AVG Test Acc 99.04 %\n",
            "Epoch:8/10 AVG Training Loss:0.035 AVG Test Loss:0.028 AVG Training Acc 98.90 % AVG Test Acc 99.14 %\n",
            "Epoch:9/10 AVG Training Loss:0.032 AVG Test Loss:0.032 AVG Training Acc 98.94 % AVG Test Acc 99.06 %\n",
            "Epoch:10/10 AVG Training Loss:0.030 AVG Test Loss:0.028 AVG Training Acc 99.04 % AVG Test Acc 99.24 %\n"
          ]
        }
      ]
    },
    {
      "cell_type": "code",
      "source": [
        "avg_train_loss = np.mean(history['train_loss'])\n",
        "avg_test_loss = np.mean(history['test_loss'])\n",
        "avg_train_acc = np.mean(history['train_acc'])\n",
        "avg_test_acc = np.mean(history['test_acc'])\n",
        "\n",
        "print('Performance of {} fold cross validation'.format(k))\n",
        "print(\"Average Training Loss: {:.4f} \\t Average Test Loss: {:.4f} \\t Average Training Acc: {:.3f} \\t Average Test Acc: {:.3f}\".format(avg_train_loss,avg_test_loss,avg_train_acc,avg_test_acc)) "
      ],
      "metadata": {
        "colab": {
          "base_uri": "https://localhost:8080/"
        },
        "id": "ulB_JjFyQUu8",
        "outputId": "9a409ce7-d37b-42df-d3f5-d6cbbe4e9e1f"
      },
      "execution_count": null,
      "outputs": [
        {
          "output_type": "stream",
          "name": "stdout",
          "text": [
            "Performance of 10 fold cross validation\n",
            "Average Training Loss: 0.0641 \t Average Test Loss: 0.0382 \t Average Training Acc: 98.013 \t Average Test Acc: 98.878\n"
          ]
        }
      ]
    },
    {
      "cell_type": "markdown",
      "source": [
        "## Machine Learning\n",
        "$y=8x+1$ 과 $y=2x^2 + 5x + 3$ 으로 데이터를 만들고 regression을 수행한다. Regression은 입력의 특징(=통계적)을 파악하기 위해 minimize the sum of squared errors $\\sum_i (y[i] - \\hat{y}[i])^2$ 를 수행한다. $\\hat{y}$ 이 예측값이다. \n",
        "\n",
        "1. linear regression\n",
        "2. Polynomial regression\n",
        "3. Decision Tree"
      ],
      "metadata": {
        "id": "hhzB5Xs2WRae"
      }
    },
    {
      "cell_type": "code",
      "source": [
        "!pip install --upgrade scikit-learn"
      ],
      "metadata": {
        "colab": {
          "base_uri": "https://localhost:8080/"
        },
        "id": "AIfIGAJ0alRe",
        "outputId": "c779679e-a14f-4d64-803a-9b63680f0899"
      },
      "execution_count": null,
      "outputs": [
        {
          "output_type": "stream",
          "name": "stdout",
          "text": [
            "Looking in indexes: https://pypi.org/simple, https://us-python.pkg.dev/colab-wheels/public/simple/\n",
            "Requirement already satisfied: scikit-learn in /usr/local/lib/python3.8/dist-packages (1.0.2)\n",
            "Collecting scikit-learn\n",
            "  Downloading scikit_learn-1.2.0-cp38-cp38-manylinux_2_17_x86_64.manylinux2014_x86_64.whl (9.7 MB)\n",
            "\u001b[K     |████████████████████████████████| 9.7 MB 4.2 MB/s \n",
            "\u001b[?25hRequirement already satisfied: threadpoolctl>=2.0.0 in /usr/local/lib/python3.8/dist-packages (from scikit-learn) (3.1.0)\n",
            "Requirement already satisfied: joblib>=1.1.1 in /usr/local/lib/python3.8/dist-packages (from scikit-learn) (1.2.0)\n",
            "Requirement already satisfied: scipy>=1.3.2 in /usr/local/lib/python3.8/dist-packages (from scikit-learn) (1.7.3)\n",
            "Requirement already satisfied: numpy>=1.17.3 in /usr/local/lib/python3.8/dist-packages (from scikit-learn) (1.21.6)\n",
            "Installing collected packages: scikit-learn\n",
            "  Attempting uninstall: scikit-learn\n",
            "    Found existing installation: scikit-learn 1.0.2\n",
            "    Uninstalling scikit-learn-1.0.2:\n",
            "      Successfully uninstalled scikit-learn-1.0.2\n",
            "Successfully installed scikit-learn-1.2.0\n"
          ]
        }
      ]
    },
    {
      "cell_type": "code",
      "source": [],
      "metadata": {
        "colab": {
          "base_uri": "https://localhost:8080/",
          "height": 35
        },
        "id": "TiPY1zmBZSqs",
        "outputId": "2dae1dfc-a4d1-420c-8eaa-32c6e95ac811"
      },
      "execution_count": null,
      "outputs": [
        {
          "output_type": "execute_result",
          "data": {
            "text/plain": [
              "'1.2.0'"
            ],
            "application/vnd.google.colaboratory.intrinsic+json": {
              "type": "string"
            }
          },
          "metadata": {},
          "execution_count": 2
        }
      ]
    },
    {
      "cell_type": "code",
      "source": [
        "import numpy as np\n",
        "import pandas as pd\n",
        "import matplotlib.pyplot as plt\n",
        "\n",
        "from sklearn.linear_model import LinearRegression, Ridge, Lasso\n",
        "\n",
        "from sklearn.metrics import mean_squared_error"
      ],
      "metadata": {
        "id": "LH8qQ0qAlZx7"
      },
      "execution_count": null,
      "outputs": []
    },
    {
      "cell_type": "code",
      "source": [
        "\n",
        "\n",
        "\n",
        "\n",
        "def train_regressor(X_train, y_train, regression_model=LinearRegression()):\n",
        "\n",
        "  model = regression_model\n",
        "\n",
        "  model.fit(X_train.reshape(-1,1), y_train.reshape(-1,1)) # 학습을 수행\n",
        "  \n",
        "  return model\n",
        "\n",
        "def test_regressor(model, X_test, y_test):\n",
        "  y_pred = model.predict(X_test.reshape(-1,1)) # 예측값 생성\n",
        "\n",
        "  print(\"Coefficients: \\n\", model.coef_) # 어떤 값이 coefficient인지 확인\n",
        "\n",
        "  print(\"Mean squared error: %.2f\" % mean_squared_error(y_test, y_pred))\n",
        "  plt.scatter(X_test, y_test, color=\"black\")\n",
        "  plt.plot(X_test, y_pred, color=\"blue\", linewidth=3)\n",
        "\n",
        "\n",
        "\n",
        "  "
      ],
      "metadata": {
        "id": "v_-4s75plWIS"
      },
      "execution_count": null,
      "outputs": []
    },
    {
      "cell_type": "code",
      "source": [
        "from sklearn import datasets, linear_model\n",
        "from sklearn.metrics import mean_squared_error, r2_score\n",
        "\n",
        "print(X_train.shape)"
      ],
      "metadata": {
        "colab": {
          "base_uri": "https://localhost:8080/"
        },
        "id": "3kwVAHPJi7OB",
        "outputId": "d6de3a75-8759-4d1a-a326-93c000dd6018"
      },
      "execution_count": null,
      "outputs": [
        {
          "output_type": "stream",
          "name": "stdout",
          "text": [
            "(750, 1)\n"
          ]
        }
      ]
    },
    {
      "cell_type": "code",
      "source": [
        "X, y, c = make_regression(n_samples=300, n_features=2, effective_rank=1, noise=0, tail_strength=1, coef=True, random_state=0)\n",
        "\n",
        "plt.scatter(X[:,0], X[:,1], c=y, s=100)\n",
        "plt.xlabel(\"x1\")\n",
        "plt.ylabel(\"x2\")\n",
        "plt.axis(\"equal\")"
      ],
      "metadata": {
        "colab": {
          "base_uri": "https://localhost:8080/",
          "height": 353
        },
        "id": "E76cLnX-aY1c",
        "outputId": "2491a354-fd5e-48cb-e18a-ed6e579f53d0"
      },
      "execution_count": null,
      "outputs": [
        {
          "output_type": "execute_result",
          "data": {
            "text/plain": [
              "(-0.1683275562485818,\n",
              " 0.16613389615969384,\n",
              " -0.15115438149608185,\n",
              " 0.15525245571029833)"
            ]
          },
          "metadata": {},
          "execution_count": 11
        },
        {
          "output_type": "display_data",
          "data": {
            "text/plain": [
              "<Figure size 432x288 with 1 Axes>"
            ],
            "image/png": "[encoded data removed]"
          },
          "metadata": {
            "needs_background": "light"
          }
        }
      ]
    },
    {
      "cell_type": "markdown",
      "source": [
        "# Machine Learning\n",
        "1. 실수와 카테고리 인자가 섞여 있는 경우에는 one-hot embedding\n",
        "2. 실수값들의 range가 다른 경우에는 Standarzation vs. Normazliation\n",
        "3. 여러 작업을 한꺼번에 처리해 주는 Pipeline\n",
        "4. 예측오차는 왜 MSE 로 계산되는가?\n",
        "5. 모델의 성능 평가는 어떻게 하는가? CrossValidation으로 한다\n",
        "\n"
      ],
      "metadata": {
        "id": "xXwBn-6VWl_k"
      }
    },
    {
      "cell_type": "code",
      "source": [],
      "metadata": {
        "id": "09ZujstNXOEk"
      },
      "execution_count": null,
      "outputs": []
    },
    {
      "cell_type": "markdown",
      "source": [
        "# Neural Network \n",
        "1. Gradient Descent\n",
        "2. Learning Rate\n",
        "3. Batch Size\n",
        "4. Optimization\n",
        " * Stochastic Gradient Descent\n",
        " * momentum\n",
        "5. 위의 문제를 Neural Network로 풀어본다\n"
      ],
      "metadata": {
        "id": "u_nTC83mXYZU"
      }
    },
    {
      "cell_type": "code",
      "source": [
        "# 임의의 합성 데이터를 만드는 함수 입니다. \n",
        "def get_dataset(type='linear', number_of_datapoint=10):\n",
        "  \n",
        "  if type == 'linear':\n",
        "    n=number_of_datapoint   # Number of data points\n",
        "    X=np.linspace(0, 10, n)\n",
        "    y=X*8 + 1 + 1*np.random.randn(n) # Standard deviation 1\n",
        "    return X,y\n",
        "\n",
        "  elif type == 'poly':\n",
        "    n=number_of_datapoint   # Number of data points\n",
        "    X=np.linspace(0, 200, n)\n",
        "    y = 5*X*X*X + X*X*2 + X*5 + 3 + 1*np.random.randn(n) # Standard deviation 1\n",
        "    return X,y\n",
        "\n",
        "  else:\n",
        "    # just random generation\n",
        "    X, y = make_regression(n_samples=number_of_datapoint, n_features=1, bias=0, noise=5)\n",
        "    return X,y\n"
      ],
      "metadata": {
        "id": "7gOGIjEZX7nB"
      },
      "execution_count": null,
      "outputs": []
    }
  ]
}