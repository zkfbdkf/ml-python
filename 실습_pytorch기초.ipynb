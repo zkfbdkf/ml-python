{
  "nbformat": 4,
  "nbformat_minor": 0,
  "metadata": {
    "colab": {
      "provenance": [],
      "include_colab_link": true
    },
    "kernelspec": {
      "name": "python3",
      "display_name": "Python 3"
    },
    "language_info": {
      "name": "python"
    },
    "accelerator": "GPU",
    "gpuClass": "standard"
  },
  "cells": [
    {
      "cell_type": "markdown",
      "metadata": {
        "id": "view-in-github",
        "colab_type": "text"
      },
      "source": [
        "<a href=\"https://colab.research.google.com/github/chminPark/ml-python/blob/master/%EC%8B%A4%EC%8A%B5_pytorch%EA%B8%B0%EC%B4%88.ipynb\" target=\"_parent\"><img src=\"https://colab.research.google.com/assets/colab-badge.svg\" alt=\"Open In Colab\"/></a>"
      ]
    },
    {
      "cell_type": "code",
      "source": [
        "# torch library를 load 합니다\n",
        "import torch"
      ],
      "metadata": {
        "id": "S8fW-5QGObDe"
      },
      "execution_count": null,
      "outputs": []
    },
    {
      "cell_type": "code",
      "source": [
        "torch.__version__"
      ],
      "metadata": {
        "colab": {
          "base_uri": "https://localhost:8080/",
          "height": 35
        },
        "id": "5mB2qGCmSKfS",
        "outputId": "b1460244-cee7-4946-c47a-c857bfea635b"
      },
      "execution_count": null,
      "outputs": [
        {
          "output_type": "execute_result",
          "data": {
            "text/plain": [
              "'2.1.0+cu118'"
            ],
            "application/vnd.google.colaboratory.intrinsic+json": {
              "type": "string"
            }
          },
          "metadata": {},
          "execution_count": 2
        }
      ]
    },
    {
      "cell_type": "markdown",
      "source": [
        "# 행렬 덧셈과 뺄샘"
      ],
      "metadata": {
        "id": "n2QHuWISOcq3"
      }
    },
    {
      "cell_type": "code",
      "source": [
        "# 4 x 3 크기의 Matrix를 생성합니다.\n",
        "A = torch.arange(1,13)\n",
        "print(A)\n",
        "# Matrix 형태로 크기를 변경해 주는 것은 view로 가능합니다.\n",
        "A = A.view(3,4)\n",
        "A"
      ],
      "metadata": {
        "colab": {
          "base_uri": "https://localhost:8080/"
        },
        "id": "kGcJJT9pOltt",
        "outputId": "5f6b8b5e-ee9c-4463-d026-3120dee736d1"
      },
      "execution_count": null,
      "outputs": [
        {
          "output_type": "stream",
          "name": "stdout",
          "text": [
            "tensor([ 1,  2,  3,  4,  5,  6,  7,  8,  9, 10, 11, 12])\n"
          ]
        },
        {
          "output_type": "execute_result",
          "data": {
            "text/plain": [
              "tensor([[ 1,  2,  3,  4],\n",
              "        [ 5,  6,  7,  8],\n",
              "        [ 9, 10, 11, 12]])"
            ]
          },
          "metadata": {},
          "execution_count": 29
        }
      ]
    },
    {
      "cell_type": "code",
      "source": [
        "# arange 는 한번에 만드는 것을 지원하지 않습니다.\n",
        "# random 번호로 생성하면 한번에 만들 수 있습니다.\n",
        "torch.rand(3,4)"
      ],
      "metadata": {
        "colab": {
          "base_uri": "https://localhost:8080/"
        },
        "id": "Qn25ChkUSlbz",
        "outputId": "ec9fb616-c60e-4888-a909-8039f8f0ba67"
      },
      "execution_count": null,
      "outputs": [
        {
          "output_type": "execute_result",
          "data": {
            "text/plain": [
              "tensor([[0.0042, 0.6828, 0.2433, 0.2708],\n",
              "        [0.2774, 0.1845, 0.3914, 0.6545],\n",
              "        [0.1044, 0.3427, 0.2952, 0.9993]])"
            ]
          },
          "metadata": {},
          "execution_count": 8
        }
      ]
    },
    {
      "cell_type": "code",
      "source": [
        "# 직접 만들어 볼수도 있습니다.\n",
        "B = torch.Tensor([[0,0,0,0], [1,1,1,1], [2,2,2,2]])\n",
        "B"
      ],
      "metadata": {
        "colab": {
          "base_uri": "https://localhost:8080/"
        },
        "id": "GhTucEgbPIZa",
        "outputId": "ed4eced6-50bb-4e19-a193-9ce7ff97996d"
      },
      "execution_count": null,
      "outputs": [
        {
          "output_type": "execute_result",
          "data": {
            "text/plain": [
              "tensor([[0., 0., 0., 0.],\n",
              "        [1., 1., 1., 1.],\n",
              "        [2., 2., 2., 2.]])"
            ]
          },
          "metadata": {},
          "execution_count": 9
        }
      ]
    },
    {
      "cell_type": "code",
      "source": [
        "# 더하기 연산\n",
        "A+B"
      ],
      "metadata": {
        "colab": {
          "base_uri": "https://localhost:8080/"
        },
        "id": "ouRS-sOKPV6S",
        "outputId": "103a8f80-e254-410f-ef09-8a3cb4daef7b"
      },
      "execution_count": null,
      "outputs": [
        {
          "output_type": "execute_result",
          "data": {
            "text/plain": [
              "tensor([[ 1.,  2.,  3.,  4.],\n",
              "        [ 6.,  7.,  8.,  9.],\n",
              "        [11., 12., 13., 14.]])"
            ]
          },
          "metadata": {},
          "execution_count": 10
        }
      ]
    },
    {
      "cell_type": "code",
      "source": [
        "# 빼기연산\n",
        "A-B"
      ],
      "metadata": {
        "colab": {
          "base_uri": "https://localhost:8080/"
        },
        "id": "WOEEd3OFPa3S",
        "outputId": "9ef23477-4c21-4164-ac5a-9d828cc88ba9"
      },
      "execution_count": null,
      "outputs": [
        {
          "output_type": "execute_result",
          "data": {
            "text/plain": [
              "tensor([[ 1.,  2.,  3.,  4.],\n",
              "        [ 4.,  5.,  6.,  7.],\n",
              "        [ 7.,  8.,  9., 10.]])"
            ]
          },
          "metadata": {},
          "execution_count": 11
        }
      ]
    },
    {
      "cell_type": "code",
      "source": [
        "A+1\n"
      ],
      "metadata": {
        "colab": {
          "base_uri": "https://localhost:8080/"
        },
        "id": "565Mwcv5Pd7X",
        "outputId": "fdd67c25-27eb-41bc-ec91-978dd9a3c483"
      },
      "execution_count": null,
      "outputs": [
        {
          "output_type": "execute_result",
          "data": {
            "text/plain": [
              "tensor([[ 2,  3,  4,  5],\n",
              "        [ 6,  7,  8,  9],\n",
              "        [10, 11, 12, 13]])"
            ]
          },
          "metadata": {},
          "execution_count": 12
        }
      ]
    },
    {
      "cell_type": "code",
      "source": [
        "B * 2"
      ],
      "metadata": {
        "colab": {
          "base_uri": "https://localhost:8080/"
        },
        "id": "aATk-I_FPdvq",
        "outputId": "a786f5c5-17fc-4590-e665-9c6cc91d9c15"
      },
      "execution_count": null,
      "outputs": [
        {
          "output_type": "execute_result",
          "data": {
            "text/plain": [
              "tensor([[0., 0., 0., 0.],\n",
              "        [2., 2., 2., 2.],\n",
              "        [4., 4., 4., 4.]])"
            ]
          },
          "metadata": {},
          "execution_count": 13
        }
      ]
    },
    {
      "cell_type": "code",
      "source": [
        "# Element wise multiplication\n",
        "A * B"
      ],
      "metadata": {
        "colab": {
          "base_uri": "https://localhost:8080/"
        },
        "id": "3RABHs9bPoPk",
        "outputId": "e7a76a8d-77cf-44ae-8063-63d684d48f14"
      },
      "execution_count": null,
      "outputs": [
        {
          "output_type": "execute_result",
          "data": {
            "text/plain": [
              "tensor([[ 0.,  0.,  0.,  0.],\n",
              "        [ 5.,  6.,  7.,  8.],\n",
              "        [18., 20., 22., 24.]])"
            ]
          },
          "metadata": {},
          "execution_count": 14
        }
      ]
    },
    {
      "cell_type": "code",
      "source": [
        "1/A"
      ],
      "metadata": {
        "id": "NRYh7aC8RyoC",
        "outputId": "d145ceb2-d55b-4c5f-cf97-23258af7c26b",
        "colab": {
          "base_uri": "https://localhost:8080/"
        }
      },
      "execution_count": null,
      "outputs": [
        {
          "output_type": "execute_result",
          "data": {
            "text/plain": [
              "tensor([[1.0000, 0.5000, 0.3333, 0.2500],\n",
              "        [0.2000, 0.1667, 0.1429, 0.1250],\n",
              "        [0.1111, 0.1000, 0.0909, 0.0833]])"
            ]
          },
          "metadata": {},
          "execution_count": 15
        }
      ]
    },
    {
      "cell_type": "code",
      "source": [
        "A / 2"
      ],
      "metadata": {
        "colab": {
          "base_uri": "https://localhost:8080/"
        },
        "id": "o9JxuUZfRsa-",
        "outputId": "764edeec-0921-4505-c9c5-0805684da609"
      },
      "execution_count": null,
      "outputs": [
        {
          "output_type": "execute_result",
          "data": {
            "text/plain": [
              "tensor([[0.5000, 1.0000, 1.5000, 2.0000],\n",
              "        [2.5000, 3.0000, 3.5000, 4.0000],\n",
              "        [4.5000, 5.0000, 5.5000, 6.0000]])"
            ]
          },
          "metadata": {},
          "execution_count": 16
        }
      ]
    },
    {
      "cell_type": "markdown",
      "source": [
        "# Concatenation"
      ],
      "metadata": {
        "id": "w14EIkuWO0zZ"
      }
    },
    {
      "cell_type": "code",
      "source": [
        "batch_size, N, K = 3, 10, 256\n",
        "\n",
        "x = torch.rand(batch_size, N, K) # [batch_size, N, K]\n",
        "y = torch.rand(batch_size, N, K) # [batch_size, N, K]\n",
        "\n",
        "### Cat 은 지정한 차원에 대해 값을 붙여줌(Concatenation)\n",
        "output1 = torch.cat([x,y], dim=1) #[batch_size, N+N, K]\n",
        "output2 = torch.cat([x,y], dim=2) #[batch_size, N, K+K]\n",
        "\n",
        "print(x.shape)\n",
        "output1.shape, output2.shape"
      ],
      "metadata": {
        "colab": {
          "base_uri": "https://localhost:8080/"
        },
        "id": "izkK00Qdm7kl",
        "outputId": "5f9359d1-1e17-474b-f703-d673c6529d74"
      },
      "execution_count": null,
      "outputs": [
        {
          "output_type": "stream",
          "name": "stdout",
          "text": [
            "torch.Size([3, 10, 256])\n"
          ]
        },
        {
          "output_type": "execute_result",
          "data": {
            "text/plain": [
              "(torch.Size([3, 20, 256]), torch.Size([3, 10, 512]))"
            ]
          },
          "metadata": {},
          "execution_count": 18
        }
      ]
    },
    {
      "cell_type": "markdown",
      "source": [
        "# Stack"
      ],
      "metadata": {
        "id": "IPpD8hJJPvOK"
      }
    },
    {
      "cell_type": "code",
      "source": [
        "batch_size, N, K = 3, 10, 256\n",
        "\n",
        "x = torch.rand(batch_size, N, K) # [batch_size, N, K]\n",
        "y = torch.rand(batch_size, N, K) # [batch_size, N, K]\n",
        "\n",
        "### Stack은 지정하는 차원으로 확장하여 Tensor를 쌓아줌\n",
        "output = torch.stack([x,y], dim=1) #[batch_size, 2, N, K]\n",
        "x.shape, output.shape"
      ],
      "metadata": {
        "colab": {
          "base_uri": "https://localhost:8080/"
        },
        "id": "dCGGDMi1m7hd",
        "outputId": "f5556c09-41fc-43b5-e8ac-b33d5095eac5"
      },
      "execution_count": null,
      "outputs": [
        {
          "output_type": "execute_result",
          "data": {
            "text/plain": [
              "(torch.Size([3, 10, 256]), torch.Size([3, 2, 10, 256]))"
            ]
          },
          "metadata": {},
          "execution_count": 19
        }
      ]
    },
    {
      "cell_type": "markdown",
      "source": [
        "# Squeeze"
      ],
      "metadata": {
        "id": "lQ_ijyZUPw-6"
      }
    },
    {
      "cell_type": "code",
      "source": [
        "## Squeeze 는 차원이 1인 차원을 제거해줌\n",
        "x = torch.rand(3, 1, 20, 128)\n",
        "y = x.squeeze() #[3, 1, 20, 128] -> [3, 20, 128]\n",
        "x.shape, y.shape"
      ],
      "metadata": {
        "colab": {
          "base_uri": "https://localhost:8080/"
        },
        "id": "V-RdwHLvm7ea",
        "outputId": "fec5c1ba-2e5d-4a9b-a2ad-2e25ceff647d"
      },
      "execution_count": null,
      "outputs": [
        {
          "output_type": "execute_result",
          "data": {
            "text/plain": [
              "(torch.Size([3, 1, 20, 128]), torch.Size([3, 20, 128]))"
            ]
          },
          "metadata": {},
          "execution_count": 20
        }
      ]
    },
    {
      "cell_type": "code",
      "source": [
        "## Squeeze 는 차원이 1인 차원을 제거해줌\n",
        "x = torch.rand(1, 1, 20, 128)\n",
        "print(x.shape)\n",
        "x = x.squeeze() # [1, 1, 20, 128] -> [20, 128]\n",
        "print(x.shape)"
      ],
      "metadata": {
        "colab": {
          "base_uri": "https://localhost:8080/"
        },
        "id": "I6ew-b48m7bu",
        "outputId": "d493f02d-2e41-410f-f7b7-db9d139b114c"
      },
      "execution_count": null,
      "outputs": [
        {
          "output_type": "stream",
          "name": "stdout",
          "text": [
            "torch.Size([1, 1, 20, 128])\n",
            "torch.Size([20, 128])\n"
          ]
        },
        {
          "output_type": "execute_result",
          "data": {
            "text/plain": [
              "torch.Size([1, 20, 128])"
            ]
          },
          "metadata": {},
          "execution_count": 21
        }
      ]
    },
    {
      "cell_type": "code",
      "source": [
        "## 제거할 차원을 고정!\n",
        "x2 = torch.rand(128, 1, 20, 1)\n",
        "print(x2.shape)\n",
        "\n",
        "x2 = x2.squeeze(dim=1) # [1, 1, 20, 128] -> [1, 20, 128]\n",
        "x2.shape"
      ],
      "metadata": {
        "colab": {
          "base_uri": "https://localhost:8080/"
        },
        "id": "H7HWYyjbUBk0",
        "outputId": "f1bb1a53-5b19-479a-91af-a9bf1b9d9ffa"
      },
      "execution_count": null,
      "outputs": [
        {
          "output_type": "stream",
          "name": "stdout",
          "text": [
            "torch.Size([128, 1, 20, 1])\n"
          ]
        },
        {
          "output_type": "execute_result",
          "data": {
            "text/plain": [
              "torch.Size([128, 20, 1])"
            ]
          },
          "metadata": {},
          "execution_count": 24
        }
      ]
    },
    {
      "cell_type": "code",
      "source": [
        "x2.squeeze().shape"
      ],
      "metadata": {
        "colab": {
          "base_uri": "https://localhost:8080/"
        },
        "id": "ydrIube4UMmh",
        "outputId": "6dfab556-9aa8-4873-e3d6-d3df8ef543bb"
      },
      "execution_count": null,
      "outputs": [
        {
          "output_type": "execute_result",
          "data": {
            "text/plain": [
              "torch.Size([128, 20])"
            ]
          },
          "metadata": {},
          "execution_count": 25
        }
      ]
    },
    {
      "cell_type": "markdown",
      "source": [
        "# Unsqueeze"
      ],
      "metadata": {
        "id": "QcsNlRSqP4qo"
      }
    },
    {
      "cell_type": "code",
      "source": [
        "## Unsqueeze는 1인 차원을 생성하는 함수\n",
        "import torch\n",
        "\n",
        "x = torch.rand(3, 20, 128)\n",
        "x = x.unsqueeze(dim=1) #[3, 20, 128] -> [3, 1, 20, 128]\n",
        "x.shape"
      ],
      "metadata": {
        "colab": {
          "base_uri": "https://localhost:8080/"
        },
        "id": "aKPOwrnGm7Y2",
        "outputId": "01624685-8d93-470a-fb03-8dc88947ec4e"
      },
      "execution_count": null,
      "outputs": [
        {
          "output_type": "execute_result",
          "data": {
            "text/plain": [
              "torch.Size([3, 1, 20, 128])"
            ]
          },
          "metadata": {},
          "execution_count": 27
        }
      ]
    },
    {
      "cell_type": "code",
      "source": [
        "# Unsqueeze는 차원을 생성할 위치를 명확히 지정해야 한다.\n",
        "x.unsqueeze()"
      ],
      "metadata": {
        "id": "lku7VZd-m7WD",
        "colab": {
          "base_uri": "https://localhost:8080/",
          "height": 184
        },
        "outputId": "4e94c8a3-a61c-4b3e-f846-e3afe689d4a2"
      },
      "execution_count": null,
      "outputs": [
        {
          "output_type": "error",
          "ename": "TypeError",
          "evalue": "ignored",
          "traceback": [
            "\u001b[0;31m---------------------------------------------------------------------------\u001b[0m",
            "\u001b[0;31mTypeError\u001b[0m                                 Traceback (most recent call last)",
            "\u001b[0;32m<ipython-input-26-4fb1e7374a24>\u001b[0m in \u001b[0;36m<cell line: 1>\u001b[0;34m()\u001b[0m\n\u001b[0;32m----> 1\u001b[0;31m \u001b[0mx\u001b[0m\u001b[0;34m.\u001b[0m\u001b[0munsqueeze\u001b[0m\u001b[0;34m(\u001b[0m\u001b[0;34m)\u001b[0m\u001b[0;34m\u001b[0m\u001b[0;34m\u001b[0m\u001b[0m\n\u001b[0m",
            "\u001b[0;31mTypeError\u001b[0m: unsqueeze() missing 1 required positional arguments: \"dim\""
          ]
        }
      ]
    },
    {
      "cell_type": "code",
      "source": [],
      "metadata": {
        "id": "5T9vRLZhm7TB"
      },
      "execution_count": null,
      "outputs": []
    },
    {
      "cell_type": "code",
      "source": [],
      "metadata": {
        "id": "lsXsYbTxm7M1"
      },
      "execution_count": null,
      "outputs": []
    }
  ]
}