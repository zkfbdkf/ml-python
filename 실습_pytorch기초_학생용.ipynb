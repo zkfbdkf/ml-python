{
  "nbformat": 4,
  "nbformat_minor": 0,
  "metadata": {
    "colab": {
      "provenance": [],
      "include_colab_link": true
    },
    "kernelspec": {
      "name": "python3",
      "display_name": "Python 3"
    },
    "language_info": {
      "name": "python"
    },
    "accelerator": "GPU",
    "gpuClass": "standard"
  },
  "cells": [
    {
      "cell_type": "markdown",
      "metadata": {
        "id": "view-in-github",
        "colab_type": "text"
      },
      "source": [
        "<a href=\"https://colab.research.google.com/github/chminPark/ml-python/blob/master/%EC%8B%A4%EC%8A%B5_pytorch%EA%B8%B0%EC%B4%88_%ED%95%99%EC%83%9D%EC%9A%A9.ipynb\" target=\"_parent\"><img src=\"https://colab.research.google.com/assets/colab-badge.svg\" alt=\"Open In Colab\"/></a>"
      ]
    },
    {
      "cell_type": "code",
      "source": [
        "import torch\n",
        "\n",
        "batch_size, N, K = 3, 10, 256\n",
        "\n",
        "x = torch.rand(batch_size, N, K) # [M, N, K]\n",
        "y = torch.rand(batch_size, N, K) # [M, N, K]\n",
        "\n",
        "### Cat 은 지정한 차원에 대해 값을 붙여줌(Concatenation)\n",
        "output1 = ???? ## 차원 1에 붙여움\n",
        "output2 = ????  ## 차원 2에 붙여줌\n",
        "\n",
        "output1.shape, output2.shape"
      ],
      "metadata": {
        "colab": {
          "base_uri": "https://localhost:8080/"
        },
        "id": "izkK00Qdm7kl",
        "outputId": "97cb19eb-9117-4489-fda7-07591cabea4f"
      },
      "execution_count": null,
      "outputs": [
        {
          "output_type": "execute_result",
          "data": {
            "text/plain": [
              "(torch.Size([3, 20, 256]), torch.Size([3, 10, 512]))"
            ]
          },
          "metadata": {},
          "execution_count": 3
        }
      ]
    },
    {
      "cell_type": "code",
      "source": [
        "import torch\n",
        "\n",
        "batch_size, N, K = 3, 10, 256\n",
        "\n",
        "x = torch.rand(batch_size, N, K) # [M, N, K]\n",
        "y = torch.rand(batch_size, N, K) # [M, N, K]\n",
        "\n",
        "### Stack은 지정하는 차원으로 확장하여 Tensor를 쌓아줌\n",
        "output = ???? # 차원 1에 확장 #[M, 2, N, K]\n",
        "output.shape"
      ],
      "metadata": {
        "colab": {
          "base_uri": "https://localhost:8080/"
        },
        "id": "dCGGDMi1m7hd",
        "outputId": "00456dc4-c9cb-4351-8b40-b94b2d5a292c"
      },
      "execution_count": null,
      "outputs": [
        {
          "output_type": "execute_result",
          "data": {
            "text/plain": [
              "torch.Size([3, 2, 10, 256])"
            ]
          },
          "metadata": {},
          "execution_count": 2
        }
      ]
    },
    {
      "cell_type": "code",
      "source": [
        "import torch\n",
        "\n",
        "## Squeeze 는 차원이 1인 차원을 제거해줌\n",
        "x = torch.rand(3, 1, 20, 128)\n",
        "print(x.shape)\n",
        "x = ?????? ## 차원1인 차원 제거 #[3, 1, 20, 128] -> [3, 20, 128]\n",
        "x.shape"
      ],
      "metadata": {
        "colab": {
          "base_uri": "https://localhost:8080/"
        },
        "id": "V-RdwHLvm7ea",
        "outputId": "61ba1e65-2b9d-4545-fa70-6d8043de699d"
      },
      "execution_count": null,
      "outputs": [
        {
          "output_type": "execute_result",
          "data": {
            "text/plain": [
              "torch.Size([3, 20, 128])"
            ]
          },
          "metadata": {},
          "execution_count": 4
        }
      ]
    },
    {
      "cell_type": "code",
      "source": [
        "import torch\n",
        "\n",
        "## Squeeze 는 차원이 1인 차원을 제거해줌\n",
        "x = torch.rand(1, 1, 20, 128)\n",
        "x = ????? # [1, 1, 20, 128] -> [20, 128]\n",
        "print(x.shape)\n",
        "\n",
        "\n",
        "## 제거할 차원을 고정!\n",
        "x2 = torch.rand(1, 1, 20, 128)\n",
        "x2 = ????   # [1, 1, 20, 128] -> [1, 20, 128]\n",
        "x2.shape"
      ],
      "metadata": {
        "colab": {
          "base_uri": "https://localhost:8080/"
        },
        "id": "I6ew-b48m7bu",
        "outputId": "8e67b482-456f-481e-886c-916df04eccca"
      },
      "execution_count": null,
      "outputs": [
        {
          "output_type": "stream",
          "name": "stdout",
          "text": [
            "torch.Size([20, 128])\n"
          ]
        },
        {
          "output_type": "execute_result",
          "data": {
            "text/plain": [
              "torch.Size([1, 20, 128])"
            ]
          },
          "metadata": {},
          "execution_count": 6
        }
      ]
    },
    {
      "cell_type": "code",
      "source": [
        "## Unsqueeze는 1인 차원을 생성하는 함수\n",
        "import torch\n",
        "\n",
        "x = torch.rand(3, 20, 128)\n",
        "x =????  #[3, 20, 128] -> [3, 1, 20, 128]\n",
        "x.shape"
      ],
      "metadata": {
        "colab": {
          "base_uri": "https://localhost:8080/"
        },
        "id": "aKPOwrnGm7Y2",
        "outputId": "9445efd8-4cdb-4ab7-eca6-731175416519"
      },
      "execution_count": null,
      "outputs": [
        {
          "output_type": "execute_result",
          "data": {
            "text/plain": [
              "torch.Size([3, 1, 20, 128])"
            ]
          },
          "metadata": {},
          "execution_count": 5
        }
      ]
    },
    {
      "cell_type": "code",
      "source": [],
      "metadata": {
        "id": "lku7VZd-m7WD"
      },
      "execution_count": null,
      "outputs": []
    },
    {
      "cell_type": "code",
      "source": [],
      "metadata": {
        "id": "5T9vRLZhm7TB"
      },
      "execution_count": null,
      "outputs": []
    },
    {
      "cell_type": "code",
      "source": [],
      "metadata": {
        "id": "lsXsYbTxm7M1"
      },
      "execution_count": null,
      "outputs": []
    }
  ]
}