{
  "cells": [
    {
      "cell_type": "markdown",
      "metadata": {
        "id": "view-in-github",
        "colab_type": "text"
      },
      "source": [
        "<a href=\"https://colab.research.google.com/github/chminPark/ml-python/blob/master/%5B%EC%A1%B0%EA%B5%90%EC%9A%A9%5D_%EC%8B%A4%EC%8A%B53%EC%9D%BC%EC%B0%A8_Clustering.ipynb\" target=\"_parent\"><img src=\"https://colab.research.google.com/assets/colab-badge.svg\" alt=\"Open In Colab\"/></a>"
      ]
    },
    {
      "cell_type": "markdown",
      "metadata": {
        "id": "W3P-1sJ4yiqR"
      },
      "source": [
        "# Unsupervised Learning (비지도학습)\n"
      ]
    },
    {
      "cell_type": "markdown",
      "metadata": {
        "id": "z9UpzjeSS0yN"
      },
      "source": [
        " Unsupervised learning is type of learning algorithms that utilize unlabeled data to find commonalities/similarities among the data. Clustering is the most common type of unsupervised learning, so we will exercise this with MNIST data.\n",
        " MNIST data is  binary images of handwritten digits, and it has already labeled. Today, we will not use the label to cluster the data."
      ]
    },
    {
      "cell_type": "code",
      "execution_count": 1,
      "metadata": {
        "id": "kgxAdpQncz4G"
      },
      "outputs": [],
      "source": [
        "import matplotlib.pyplot as plt\n",
        "import numpy as np\n",
        "from sklearn.datasets import fetch_openml\n",
        "from sklearn.model_selection import train_test_split\n",
        "from sklearn import cluster\n",
        "from sklearn.preprocessing import StandardScaler"
      ]
    },
    {
      "cell_type": "code",
      "execution_count": 2,
      "metadata": {
        "id": "bjJnbLNs6T32"
      },
      "outputs": [],
      "source": [
        "# Load data from https://www.openml.org/d/554, it takes about a minute\n",
        "X, T = fetch_openml('mnist_784', version=1, return_X_y=True)\n",
        "\n",
        "# Extracting 0~4 digits\n",
        "for i in range(5):\n",
        "  temp_arr = X[T=='{}'.format(i)]\n",
        "  temp_arr_T = T[T=='{}'.format(i)]\n",
        "  try:\n",
        "    X_part = np.vstack([X_part, temp_arr])\n",
        "    T_part = np.concatenate([T_part, temp_arr_T])\n",
        "  except:\n",
        "    X_part = temp_arr\n",
        "    T_part = temp_arr_T"
      ]
    },
    {
      "cell_type": "code",
      "execution_count": 3,
      "metadata": {
        "id": "J_pbTbyZW5VQ"
      },
      "outputs": [],
      "source": [
        "np.random.seed(1)\n",
        "X_train, X_test, T_train, T_test = train_test_split(X_part, T_part, train_size=5000, test_size=1000, shuffle=True) # 5000 samples for clustering (we use only X_train)\n",
        "\n",
        "# Scaling data\n",
        "scaler = StandardScaler()\n",
        "X_train_s = scaler.fit_transform(X_train)\n",
        "X_test_s = scaler.transform(X_test)"
      ]
    },
    {
      "cell_type": "code",
      "execution_count": null,
      "metadata": {
        "colab": {
          "base_uri": "https://localhost:8080/"
        },
        "id": "Xay6HKRgghZv",
        "outputId": "2b6331c2-1a9c-4328-9122-e7d8936a276a"
      },
      "outputs": [
        {
          "output_type": "stream",
          "name": "stderr",
          "text": [
            "/usr/local/lib/python3.8/dist-packages/sklearn/manifold/_t_sne.py:780: FutureWarning: The default initialization in TSNE will change from 'random' to 'pca' in 1.2.\n",
            "  warnings.warn(\n"
          ]
        }
      ],
      "source": [
        "# TSNE for visualization, it takes about 2~3 minutes\n",
        "from sklearn.manifold import TSNE\n",
        "\n",
        "model = TSNE(learning_rate=300, random_state=1)\n",
        "TSNE_X = model.fit_transform(X_train_s) "
      ]
    },
    {
      "cell_type": "code",
      "execution_count": null,
      "metadata": {
        "id": "b-MrHM0Wp--p"
      },
      "outputs": [],
      "source": [
        "# Image plotting function\n",
        "def img_plt(X_train, Y_train, n):\n",
        "  X_train_2d = X_train.reshape(X_train.shape[0], 28, 28)\n",
        "  fig, axes = plt.subplots(n, 10, figsize=(7.5,7.5))\n",
        "  for j in range(n):\n",
        "    for i in range(10):\n",
        "        ax = axes[j, i]\n",
        "        try:        \n",
        "          ax.imshow(X_train_2d[Y_train==j][i], cmap='gray_r')\n",
        "          ax.axis('off')\n",
        "          if i == 0:\n",
        "            ax.set_title('Cluster: {}'.format(j))\n",
        "        except:\n",
        "          ax.axis('off')\n",
        "  \n",
        "  plt.tight_layout()\n",
        "  plt.show()"
      ]
    },
    {
      "cell_type": "code",
      "execution_count": null,
      "metadata": {
        "id": "nNXXi6XOf3OJ"
      },
      "outputs": [],
      "source": [
        "# Visualization with TSNE\n",
        "def vec_vis(x, y, T, n):\n",
        "  plt.rcParams['figure.figsize'] = [20, 8]\n",
        "  color_num = n\n",
        "  fig = plt.figure()\n",
        "  ax1 = fig.add_subplot(1, 2, 1)\n",
        "  ax2 = fig.add_subplot(1, 2, 2)\n",
        "\n",
        "  xs = x[:,0]\n",
        "  ys = x[:,1]\n",
        "  ax1.set_title(\"t-SNE Visualization with Clustering\")\n",
        "  scatter = ax1.scatter(xs, ys, c=y, cmap=plt.get_cmap('rainbow', color_num))\n",
        "  legend = ax1.legend(*scatter.legend_elements(), loc='upper right', title='Clusters')\n",
        "  ax2.set_title(\"t-SNE Visualization with True label\")\n",
        "  scatter = ax2.scatter(xs, ys, c=list(map(int, T)), cmap=plt.get_cmap('rainbow', 5))\n",
        "  legend = ax2.legend(*scatter.legend_elements(), loc='upper right', title='Labels')\n",
        "  plt.show()"
      ]
    },
    {
      "cell_type": "markdown",
      "metadata": {
        "id": "GrLYtXM-ksTv"
      },
      "source": [
        "## Step 1-1. K-Means Clustering\n",
        "\n",
        "Scikit을 이용하여 K-Means Clustring 을 수행합니다. 0~4 사이의 숫자만 존재하는 데이터이므로 K=5로 설정하겠습니다. \n"
      ]
    },
    {
      "cell_type": "code",
      "execution_count": null,
      "metadata": {
        "id": "hMJAJH48IdcA"
      },
      "outputs": [],
      "source": [
        "n = 5 # number of clusters\n",
        "model = cluster.KMeans(n_clusters=n, random_state=1) # 'Kmeans' from 'sklearn.cluster', 'n_cluster' default=2\n",
        "Y_train = model.fit_predict(X_train_s) # their clustering result using 'X_train_s' will be assigned to 'Y_train'\n",
        "\n",
        "img_plt(X_train, Y_train, n) # plot\n",
        "vec_vis(TSNE_X, Y_train, T_train, n) # visualize"
      ]
    },
    {
      "cell_type": "markdown",
      "metadata": {
        "id": "ziLtqbYrk0TW"
      },
      "source": [
        "## Step 1-2. Agglomerative Clustering\n",
        "\n",
        "For agglomerative clustering, there are 4 linking criteria used in Sckikit-learn. : {\"ward\", \"average\", \"complete\", \"single\"} (\"single\" is newly added)\n",
        "\n",
        "If you do not input the linking criterion, the default one is \"ward\". You can try other linking criteria."
      ]
    },
    {
      "cell_type": "code",
      "execution_count": null,
      "metadata": {
        "id": "JhJBGJicQd-o"
      },
      "outputs": [],
      "source": [
        "n = 5 # number of clusters\n",
        "model = cluster.AgglomerativeClustering(n_clusters=n, linkage='ward') # 'Agglomerative Clustering' from 'sklearn.cluster'\n",
        "Y_train = model.fit_predict(X_train_s) # their clustering result using 'X_train_s' will be assigned to 'Y_train'\n",
        "\n",
        "img_plt(X_train, Y_train, n) # plot\n",
        "vec_vis(TSNE_X, Y_train, T_train, n) # visualize"
      ]
    },
    {
      "cell_type": "markdown",
      "metadata": {
        "id": "40KRwaXtk8vQ"
      },
      "source": [
        "## Step 2. Clustering after dimension reduction using PCA"
      ]
    },
    {
      "cell_type": "markdown",
      "metadata": {
        "id": "GQ-LEk4DVkzN"
      },
      "source": [
        "MNIST data is too high dimensional. - 784(28X28)\n",
        "Because clustering algorithm we handled are based on Eucleadian distance, too high dimension make the model work poorly. To reduce the dimension of the data, we will use PCA which we have studied last time."
      ]
    },
    {
      "cell_type": "code",
      "execution_count": null,
      "metadata": {
        "id": "Dlu2-cnnQeLu"
      },
      "outputs": [],
      "source": [
        "from sklearn import decomposition\n",
        "\n",
        "pca = decomposition.PCA(n_components=30).fit(X_train_s)\n",
        "reduced_X = pca.transform(X_train_s)\n",
        "\n",
        "color_num = 5\n",
        "\n",
        "plt.rcParams['figure.figsize'] = [10, 8]\n",
        "xs = reduced_X[:,0]\n",
        "ys = reduced_X[:,1]\n",
        "\n",
        "scatter = plt.scatter(xs, ys, c=list(map(int, T_train)), cmap=plt.get_cmap('rainbow', color_num))\n",
        "legend = plt.legend(*scatter.legend_elements(), loc='upper right', title='Labels')\n",
        "\n",
        "plt.show()"
      ]
    },
    {
      "cell_type": "code",
      "execution_count": null,
      "metadata": {
        "id": "lssCkRGZi09A"
      },
      "outputs": [],
      "source": [
        "# TSNE for visualization, it takes about a minute\n",
        "model = TSNE(learning_rate=300, random_state=1)\n",
        "TSNE_X_red = model.fit_transform(reduced_X)"
      ]
    },
    {
      "cell_type": "markdown",
      "metadata": {
        "id": "e5_8izb1lJAJ"
      },
      "source": [
        "## Step 2-1. K-means with reduced input\n"
      ]
    },
    {
      "cell_type": "code",
      "execution_count": null,
      "metadata": {
        "id": "mjRGx3XQcMDX"
      },
      "outputs": [],
      "source": [
        "n = 5 # number of clusters\n",
        "############ start your code here #################\n",
        "# Use a variable 'reduced_X' for input\n",
        "model = cluster.KMeans(n_clusters=n, random_state=1)\n",
        "Y_train = model.fit_predict(reduced_X)\n",
        "###################################################\n",
        "\n",
        "img_plt(X_train, Y_train, n) # plot\n",
        "vec_vis(TSNE_X_red, Y_train, T_train, n) # visualize"
      ]
    },
    {
      "cell_type": "markdown",
      "metadata": {
        "id": "viFeuSCwlYGO"
      },
      "source": [
        "## Step 2-2. Agglomerative Clustering with reduced input"
      ]
    },
    {
      "cell_type": "code",
      "execution_count": null,
      "metadata": {
        "id": "qPMzeHvmVBGQ"
      },
      "outputs": [],
      "source": [
        "n = 5 # number of clusters\n",
        "############ start your code here #################\n",
        "# Use a variable 'reduced_X' for input\n",
        "model = cluster.AgglomerativeClustering(n_clusters=n, linkage='ward')\n",
        "Y_train = model.fit_predict(reduced_X)\n",
        "###################################################\n",
        "\n",
        "img_plt(X_train, Y_train, n) # plot\n",
        "vec_vis(TSNE_X_red, Y_train, T_train, n) # visualize"
      ]
    },
    {
      "cell_type": "markdown",
      "metadata": {
        "id": "aMPjhXqslbSn"
      },
      "source": [
        "## Optional. DBSCAN (Density-based spatial clustering of applications with noise) \n",
        "![Week 7 DBSCAN.jpg](data:image/jpeg;base64,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)\n",
        "\n",
        "\n",
        "In DBSCAN algorithm, we do not input the number of clusters. Instead, we use $ε$ and MinPts. It means that choosing appropiate value of those is really critical for DBSCAN. Let's try if you have some time.\n",
        "\n"
      ]
    },
    {
      "cell_type": "markdown",
      "metadata": {
        "id": "lV8lu6P46nlb"
      },
      "source": [
        "### Optional-1. Cluster MNIST original data using DBSCAN"
      ]
    },
    {
      "cell_type": "code",
      "execution_count": null,
      "metadata": {
        "id": "I14HI0FpcMMu"
      },
      "outputs": [],
      "source": [
        "############ try other values for eps and min_sample #################\n",
        "model = cluster.DBSCAN(eps=8, min_samples=10) \n",
        "Y_train = model.fit_predict(reduced_X)\n",
        "######################################################################\n",
        "\n",
        "labels = model.labels_\n",
        "n_clusters_ = len(set(labels)) - (1 if -1 in labels else 0) # number of clusters\n",
        "n_noise_ = list(labels).count(-1) # number of noise points, '-1' means noise\n",
        "n = n_clusters_\n",
        "\n",
        "print(\"Number of clusters: \", n_clusters_)\n",
        "print(\"Number of noise points: \", n_noise_)\n",
        "\n",
        "img_plt(X_train, Y_train, n)\n",
        "vec_vis(TSNE_X_red, Y_train, T_train, n+1)"
      ]
    },
    {
      "cell_type": "markdown",
      "metadata": {
        "id": "S_YaYKcaAVMa"
      },
      "source": [
        "## Optional-2. Cluster synthetic data using DBSCAN\n",
        "\n",
        "As you see, MNIST data which is not well-clustered with density based clustering algorithms. So, we will try again with synthetic data and compare DBSCAN with other clutering algorithms."
      ]
    },
    {
      "cell_type": "code",
      "execution_count": null,
      "metadata": {
        "id": "IxBCPQEGAS2s"
      },
      "outputs": [],
      "source": [
        "from sklearn import datasets\n",
        "\n",
        "np.random.seed(1)\n",
        "noisy_moons = datasets.make_moons(n_samples=1500, noise=.05)\n",
        "\n",
        "X_train2, T_train2 = noisy_moons\n",
        "\n",
        "# Scaling data\n",
        "### 실습 : 입력은 Scaling 한다. \n",
        "scaler2 = StandardScaler()\n",
        "X_train_s2 = scaler2.fit_transform(X_train2)\n",
        "\n",
        "### DBSCAN 의 결과를 구한다\n",
        "model2 = cluster.DBSCAN(eps=0.3, min_samples=10) \n",
        "Y_train2_d = model2.fit_predict(X_train_s2)\n",
        "\n",
        "\n",
        "### 실습 : KMeans 결과를 구한다\n",
        "model2 = cluster.KMeans(n_clusters=2, random_state=1) \n",
        "Y_train2_k = model2.fit_predict(X_train_s2)\n",
        "\n",
        "\n",
        "### Agglomerative의 결과를 구한다. \n",
        "model2 = cluster.AgglomerativeClustering(n_clusters=2) \n",
        "Y_train2_a = model2.fit_predict(X_train_s2)\n",
        "\n",
        "plt.rcParams['figure.figsize'] = [30, 8]\n",
        "fig = plt.figure()\n",
        "ax1 = fig.add_subplot(1, 3, 1)\n",
        "ax2 = fig.add_subplot(1, 3, 2)\n",
        "ax3 = fig.add_subplot(1, 3, 3)\n",
        "\n",
        "xs = X_train2[:,0]\n",
        "ys = X_train2[:,1]\n",
        "ax1.set_title(\"DBSCAN\")\n",
        "### 실습 : Cluster에 색깔을 입혀서 출력한다\n",
        "scatter = ax1.scatter(xs, ys, c=Y_train2_d, cmap=plt.get_cmap('rainbow', 5))\n",
        "legend = ax1.legend(*scatter.legend_elements(), loc='upper right', title='Clusters')\n",
        "\n",
        "### 실습 : Cluster에 색깔을 입혀서 출력한다\n",
        "ax2.set_title(\"K-means Clustering\")\n",
        "scatter = ax2.scatter(xs, ys, c=Y_train2_k, cmap=plt.get_cmap('rainbow', 5))\n",
        "legend = ax2.legend(*scatter.legend_elements(), loc='upper right', title='Labels')\n",
        "\n",
        "### 실습 : Cluster에 색깔을 입혀서 출력한다\n",
        "ax3.set_title(\"Agglomerative Clustering\")\n",
        "scatter = ax3.scatter(xs, ys, c=Y_train2_a, cmap=plt.get_cmap('rainbow', 5))\n",
        "legend = ax3.legend(*scatter.legend_elements(), loc='upper right', title='Labels')\n",
        "\n",
        "plt.show()"
      ]
    },
    {
      "cell_type": "markdown",
      "metadata": {
        "id": "cLkSJ7jI32CA"
      },
      "source": [
        "MNIST Clustering : https://github.com/yoonkt200/recommender-system/blob/master/deprecated/clustering/mnist-example.ipynb\n",
        "\n",
        "K-means Clustering : https://scikit-learn.org/stable/modules/generated/sklearn.cluster.KMeans.html?highlight=k%20means#sklearn.cluster.KMeans\n",
        "\n",
        "Agglomerative Clustering : https://scikit-learn.org/stable/modules/generated/sklearn.cluster.AgglomerativeClustering.html?highlight=agglomerative#sklearn.cluster.AgglomerativeClustering\n",
        "\n",
        "DBSCAN : https://scikit-learn.org/stable/modules/generated/sklearn.cluster.DBSCAN.html\n",
        "\n",
        "Optional-2 : https://scikit-learn.org/stable/auto_examples/cluster/plot_cluster_comparison.html#sphx-glr-auto-examples-cluster-plot-cluster-comparison-py\n",
        "\n",
        "Figure : Raschkaand and Mirjalili"
      ]
    }
  ],
  "metadata": {
    "colab": {
      "provenance": [],
      "include_colab_link": true
    },
    "kernelspec": {
      "display_name": "Python 3",
      "name": "python3"
    }
  },
  "nbformat": 4,
  "nbformat_minor": 0
}