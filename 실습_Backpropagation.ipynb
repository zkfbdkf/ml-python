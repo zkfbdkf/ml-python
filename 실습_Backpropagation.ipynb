{
  "nbformat": 4,
  "nbformat_minor": 0,
  "metadata": {
    "colab": {
      "provenance": [],
      "authorship_tag": "ABX9TyNEdx2xfdbR90q5wXuqyQHH",
      "include_colab_link": true
    },
    "kernelspec": {
      "name": "python3",
      "display_name": "Python 3"
    },
    "language_info": {
      "name": "python"
    }
  },
  "cells": [
    {
      "cell_type": "markdown",
      "metadata": {
        "id": "view-in-github",
        "colab_type": "text"
      },
      "source": [
        "<a href=\"https://colab.research.google.com/github/chminPark/ml-python/blob/master/%EC%8B%A4%EC%8A%B5_Backpropagation.ipynb\" target=\"_parent\"><img src=\"https://colab.research.google.com/assets/colab-badge.svg\" alt=\"Open In Colab\"/></a>"
      ]
    },
    {
      "cell_type": "markdown",
      "source": [
        "### Backpropagation의 순서\n",
        "* 784개의 입력이 들어가고, 10개의 class를 분류하는 문제임\n",
        "* Foreward path를 통해 10개 Class 각각에 대한 확률을 계산 (feat Softmax)\n",
        "* Backward path를 통해 각 Layer의 인자들을 계산한다.\n",
        "\n",
        "![](https://drive.google.com/uc?export=view&id=1cz59PIGod0O0M17cfzSRM6DmjE5CIyLh)\n",
        "\n",
        "\n",
        "\n"
      ],
      "metadata": {
        "id": "DySJTPnDie4f"
      }
    },
    {
      "cell_type": "code",
      "source": [
        "# Pytorch로 개발하기 위한 Library\n",
        "import torch\n",
        "import torch.nn as nn\n",
        "import torch.nn.functional as F\n",
        "import torch.optim as optim\n",
        "import matplotlib.pyplot as plt\n",
        "\n",
        "import os\n",
        "import gzip\n",
        "import numpy as np\n",
        "from urllib import request\n",
        "from tqdm import tqdm\n",
        "\n",
        "torch.__version__"
      ],
      "metadata": {
        "colab": {
          "base_uri": "https://localhost:8080/",
          "height": 35
        },
        "id": "0smk9wP0Jw3w",
        "outputId": "e938d67f-b2c1-4fbe-e8ea-cc6ce763f602"
      },
      "execution_count": null,
      "outputs": [
        {
          "output_type": "execute_result",
          "data": {
            "text/plain": [
              "'2.1.0+cu118'"
            ],
            "application/vnd.google.colaboratory.intrinsic+json": {
              "type": "string"
            }
          },
          "metadata": {},
          "execution_count": 1
        }
      ]
    },
    {
      "cell_type": "markdown",
      "source": [
        "## MNIST 데이터셋\n",
        "* MNIST는 사람 손으로 쓴 0~9까지의 숫자 이미지로 이루어진 컴퓨터 비젼 데이터셋\n",
        "* 28 x 28 (784 pixels) 의 흑백 이미지로 구성되어 있음\n",
        "\n",
        "<img src=\"https://mblogthumb-phinf.pstatic.net/MjAxODEwMjNfMjg1/MDAxNTQwMjg0ODM2OTQz.OUbvtSh54EYNfjBCpE13-jAOD2KrVQ6BEegpa6IokU4g.pFVcA3eevZE_Enm9g4awAQVPzROLzt6IGcvTRILTZw4g.PNG.ackbary/image.png?type=w800\" height=\"100px\" width=\"400px\">\n",
        "\n"
      ],
      "metadata": {
        "id": "zng4q51VQali"
      }
    },
    {
      "cell_type": "code",
      "source": [
        "#Download MNIST Dataset\n",
        "\n",
        "mnist_url = \"http://yann.lecun.com/exdb/mnist/\"\n",
        "files = [\"train-images-idx3-ubyte.gz\",\"t10k-images-idx3-ubyte.gz\",\"train-labels-idx1-ubyte.gz\",\"t10k-labels-idx1-ubyte.gz\"]\n",
        "if not os.path.exists('mnist'):\n",
        "  os.mkdir('mnist')\n",
        "for file in files:\n",
        "  if not os.path.isfile('mnist/'+file):\n",
        "    request.urlretrieve(mnist_url+file, 'mnist/'+file)\n"
      ],
      "metadata": {
        "id": "9BoCS4ooQY7B"
      },
      "execution_count": null,
      "outputs": []
    },
    {
      "cell_type": "code",
      "source": [
        "# Bype 정보에서 MNIST 데이터 확보\n",
        "with gzip.open('mnist/train-images-idx3-ubyte.gz', 'r') as f:\n",
        "  magic_number = int.from_bytes(f.read(4), 'big')\n",
        "  num_images_training = int.from_bytes(f.read(4), 'big')\n",
        "  row_count = int.from_bytes(f.read(4), 'big')\n",
        "  column_count = int.from_bytes(f.read(4), 'big')\n",
        "  train_images_data = f.read()\n",
        "  train_images = np.frombuffer(train_images_data, dtype=np.uint8).reshape(num_images_training, row_count, column_count)\n",
        "\n",
        "with gzip.open('mnist/train-labels-idx1-ubyte.gz', 'r') as f:\n",
        "  magic_number = int.from_bytes(f.read(4), 'big')\n",
        "  label_count = int.from_bytes(f.read(4), 'big')\n",
        "  train_labels_data = f.read()\n",
        "  train_labels = np.frombuffer(train_labels_data, dtype=np.uint8)\n",
        "\n",
        "with gzip.open('mnist/t10k-images-idx3-ubyte.gz', 'r') as f:\n",
        "  magic_number = int.from_bytes(f.read(4), 'big')\n",
        "  num_images_test = int.from_bytes(f.read(4), 'big')\n",
        "  row_count = int.from_bytes(f.read(4), 'big')\n",
        "  column_count = int.from_bytes(f.read(4), 'big')\n",
        "  test_images_data = f.read()\n",
        "  test_images = np.frombuffer(test_images_data, dtype=np.uint8).reshape(num_images_test, row_count, column_count)\n",
        "\n",
        "with gzip.open('mnist/t10k-labels-idx1-ubyte.gz', 'r') as f:\n",
        "  magic_number = int.from_bytes(f.read(4), 'big')\n",
        "  label_count = int.from_bytes(f.read(4), 'big')\n",
        "  test_labels_data = f.read()\n",
        "  test_labels = np.frombuffer(test_labels_data, dtype=np.uint8)\n",
        "\n",
        "print(\"Training Images Shape:\" , train_images.shape)\n",
        "print(\"Training Labels Shape:\" ,train_labels.shape)\n",
        "print(\"Test Images Shape:\" ,test_images.shape)\n",
        "print(\"Test Labels Shape:\" ,test_labels.shape)\n",
        "\n"
      ],
      "metadata": {
        "colab": {
          "base_uri": "https://localhost:8080/"
        },
        "id": "QCX3wr0eQmmq",
        "outputId": "db4aac25-37b3-4cf1-80d8-09cc9b6c03f5"
      },
      "execution_count": null,
      "outputs": [
        {
          "output_type": "stream",
          "name": "stdout",
          "text": [
            "Training Images Shape: (60000, 28, 28)\n",
            "Training Labels Shape: (60000,)\n",
            "Test Images Shape: (10000, 28, 28)\n",
            "Test Labels Shape: (10000,)\n"
          ]
        }
      ]
    },
    {
      "cell_type": "code",
      "source": [
        "def display_dataset(images, labels):\n",
        "  idxs = np.random.choice(len(labels), 5, replace=False)\n",
        "  plt.figure(figsize=(10, 4))\n",
        "  for i, idx in enumerate(idxs):\n",
        "\n",
        "    ################### 실습 : row 1개 col 5개의 이미지를 출력. 이미지는 plt.imshow로 출력합니다\n",
        "    plt.subplot(1, 5, i+1)\n",
        "    plt.imshow(images[idx], cmap='gray_r')\n",
        "    #####################################################################\n",
        "    plt.title('Digit : {} '.format(labels[idx]), fontsize=14)\n",
        "    plt.xticks([]); plt.yticks([])"
      ],
      "metadata": {
        "id": "W6SZgLUmVEVz"
      },
      "execution_count": null,
      "outputs": []
    },
    {
      "cell_type": "code",
      "source": [
        "# 학습 데이터의 이미지\n",
        "display_dataset(train_images, train_labels)"
      ],
      "metadata": {
        "colab": {
          "base_uri": "https://localhost:8080/",
          "height": 193
        },
        "id": "iyZkMZr7QmRV",
        "outputId": "9a0378ff-a9cd-4f15-d505-ff8636a1d59b"
      },
      "execution_count": null,
      "outputs": [
        {
          "output_type": "display_data",
          "data": {
            "text/plain": [
              "<Figure size 1000x400 with 5 Axes>"
            ],
            "image/png": "[encoded data removed]"
          },
          "metadata": {}
        }
      ]
    },
    {
      "cell_type": "code",
      "source": [
        "# 평가 데이터의 이미지\n",
        "display_dataset(test_images, test_labels)"
      ],
      "metadata": {
        "colab": {
          "base_uri": "https://localhost:8080/",
          "height": 193
        },
        "id": "Mbci8Cd4XICr",
        "outputId": "ed5ad90a-a33b-4916-870d-cc299f88c437"
      },
      "execution_count": null,
      "outputs": [
        {
          "output_type": "display_data",
          "data": {
            "text/plain": [
              "<Figure size 1000x400 with 5 Axes>"
            ],
            "image/png": "[encoded data removed]"
          },
          "metadata": {}
        }
      ]
    },
    {
      "cell_type": "code",
      "source": [
        "train_images[0].shape, 28*28"
      ],
      "metadata": {
        "colab": {
          "base_uri": "https://localhost:8080/"
        },
        "id": "mCrf8w0WwI4y",
        "outputId": "4f14345e-6dd0-4a54-fcfe-9d8068d35232"
      },
      "execution_count": null,
      "outputs": [
        {
          "output_type": "execute_result",
          "data": {
            "text/plain": [
              "((28, 28), 784)"
            ]
          },
          "metadata": {},
          "execution_count": 7
        }
      ]
    },
    {
      "cell_type": "markdown",
      "source": [
        "### MLP 구성 : Foreward Propagation (1)\n",
        "\n",
        "* 금번 실습에서 non-linearity 를 추가하기 위해서 Activation Function으로 Sigmoid 활용.\n",
        "  * Sigmoid 함수 : $g(z) = \\frac{1}{1+ e^{-z}}$\n",
        "  * Sigmoid 함수의 미분값 : $g'(z) = g(z)(1-g(z))$\n",
        "  \n",
        "* 2nd Layer의 출력은 Softmax를 통과하여 0~1 사이의 값을 가진다.\n",
        "  * ${y}_{i}$ = $\\frac{e^{x_i}}{\\sum_{j=1}^{C}e^{x_j}}$\n",
        "  * softmax 함수의 미분값:  $\\frac{\\partial {y}_i}{\\partial x_j} = \\begin{cases}\n",
        "    y_i(1-y_i)& \\quad \\text{if  } i = j\\\\\n",
        "    -y_iy_j &  \\quad \\text{if  } i \\neq j\n",
        "    \\end{cases}$"
      ],
      "metadata": {
        "id": "iy26kIOraRaJ"
      }
    },
    {
      "cell_type": "code",
      "source": [
        "def softmax(x):\n",
        "  exp = np.exp(x)\n",
        "  return exp/np.sum(exp, axis=1, keepdims=True)\n",
        "\n",
        "##########################################################\n",
        "##################### 실습: sigmoid 함수를 선언해 보세요\n",
        "def sigmoid(z):\n",
        "  exp = np.exp(-z)\n",
        "  return 1. / (1. + exp)\n",
        "##########################################################"
      ],
      "metadata": {
        "id": "CgrMHKfIjlvG"
      },
      "execution_count": null,
      "outputs": []
    },
    {
      "cell_type": "code",
      "source": [
        "inputs = np.linspace(-10, 10, 100)\n",
        "figure = plt.figure(figsize=(15,15))\n",
        "\n",
        "fig, ax = plt.subplots(1,2, figsize=(15,5))\n",
        "\n",
        "ax[0].plot(inputs, sigmoid(inputs))\n",
        "ax[0].grid(True)\n",
        "ax[0].set_title('Sigmoid function')\n",
        "ax[0].set_xlabel('$x$')\n",
        "ax[0].set_ylabel('$S(x)$')\n",
        "\n",
        "x = np.linspace(0, 10, 100).reshape(1,-1)\n",
        "ax[1].plot(x[0], softmax(x)[0])\n",
        "ax[1].grid(True)\n",
        "ax[1].set_title('Softmax function')\n",
        "ax[1].set_xlabel('$x$')\n",
        "ax[1].set_ylabel('$Softmax(x)$')\n"
      ],
      "metadata": {
        "colab": {
          "base_uri": "https://localhost:8080/",
          "height": 524
        },
        "id": "R13bXj3djlWu",
        "outputId": "aa36e09a-9c8e-4f2f-d172-c04501e11aa9"
      },
      "execution_count": null,
      "outputs": [
        {
          "output_type": "execute_result",
          "data": {
            "text/plain": [
              "Text(0, 0.5, '$Softmax(x)$')"
            ]
          },
          "metadata": {},
          "execution_count": 9
        },
        {
          "output_type": "display_data",
          "data": {
            "text/plain": [
              "<Figure size 1500x1500 with 0 Axes>"
            ]
          },
          "metadata": {}
        },
        {
          "output_type": "display_data",
          "data": {
            "text/plain": [
              "<Figure size 1500x500 with 2 Axes>"
            ],
            "image/png": "[encoded data removed]"
          },
          "metadata": {}
        }
      ]
    },
    {
      "cell_type": "markdown",
      "source": [
        "### MLP 구성 : Foreward Propagation (2)\n",
        "* `__init__()` : MLP 구성요소 선언\n",
        "* `foreward()` : foreward propagation\n",
        "\n",
        "1) 1st Linear Layer는 입력 X를 받아 선형연산을 통해 z[1] 을 결과로 만들어 준다\n",
        "\n",
        "2) 1st Linear의 결과 z[1] 은 Activation function g() 를 통과해 a[1] 의 결과를 만들어 낸다\n",
        "\n",
        "3) 2nd Linear Layer는 Activation function g()의 결과인 a[1]을 받아 z[2]를 만들어 낸다\n",
        "\n",
        "4) Classification 문제이므로 softmax 를 통과 시켜 예측값을 만들어 낸다\n"
      ],
      "metadata": {
        "id": "jGNssfb6pgek"
      }
    },
    {
      "cell_type": "code",
      "source": [
        "input_size = 28*28\n",
        "output_size = 10\n",
        "hidden_size = 120"
      ],
      "metadata": {
        "id": "eB43wQPDptiS"
      },
      "execution_count": null,
      "outputs": []
    },
    {
      "cell_type": "code",
      "source": [
        "# 1st Linear Layer의 인자\n",
        "W1 = np.random.normal(size=(input_size, hidden_size))\n",
        "b1 = np.random.normal(size=(1, hidden_size))\n",
        "\n",
        "######################################################################\n",
        "##################### 실습: 2nd Linear Layer 의 인자를 선언해 보세요\n",
        "W2 = np.random.normal(size=(hidden_size, output_size))\n",
        "b2 = np.random.normal(size=(1, output_size))\n",
        "######################################################################"
      ],
      "metadata": {
        "id": "rQh5X-nOlwiy"
      },
      "execution_count": null,
      "outputs": []
    },
    {
      "cell_type": "code",
      "source": [
        "class SingleHIddenMLP:\n",
        "  def __init__(self, input_size, hidden_layer_size, output_size, activation):\n",
        "\n",
        "    # 모델 구성에 필요한 인자\n",
        "    self.input_size = input_size\n",
        "    self.hidden_layer_size = hidden_layer_size\n",
        "    self.output_size = output_size\n",
        "    self.activation = activation\n",
        "\n",
        "    ###################### 실습: 1st Linear Layer의 인자를 구성해 보세요\n",
        "    self.W1 = np.random.normal(size=(self.input_size, self.hidden_layer_size))\n",
        "    self.b1 = np.random.normal(size=(1, self.hidden_layer_size,))\n",
        "\n",
        "    ###################### 실습: 2nd Linear Layer의 인자를 구성해 보세요\n",
        "    self.W2 = np.random.normal(size=(self.hidden_layer_size, self.output_size))\n",
        "    self.b2 = np.random.normal(size=(1, self.output_size))\n",
        "\n",
        "\n",
        "\n",
        "  def forward(self,input):\n",
        "\n",
        "    ##### 입력을 만들어 봅시다.\n",
        "    batchsize = len(input)\n",
        "    input = input.reshape(batchsize, -1)\n",
        "\n",
        "    ############### 실습 : 1st Linear Layer의 연산인 xW + b를 구현해 보세요\n",
        "    self.linear_l1 = np.matmul(input, self.W1) + self.b1\n",
        "    ##############################\n",
        "\n",
        "    self.activation_l1 = self.activation(self.linear_l1)\n",
        "\n",
        "    ############### 실습 : 2nd Linear Layer의 연산인 self.activation_l1*W + b를 구현해 보세요\n",
        "    self.linear_l2 = np.matmul(self.activation_l1, self.W2) + self.b2\n",
        "\n",
        "    # Softmax activation for multi-class classification\n",
        "    activation_l2 = softmax(self.linear_l2)\n",
        "    return activation_l2\n"
      ],
      "metadata": {
        "id": "81bhVBcyYICx"
      },
      "execution_count": null,
      "outputs": []
    },
    {
      "cell_type": "code",
      "source": [
        "# 사진 1장을 넣었을 때의 결과는?\n",
        "model = SingleHIddenMLP(input_size=input_size, output_size=output_size, hidden_layer_size=hidden_size, activation=sigmoid)\n",
        "output =  model.forward(train_images[0:1])\n",
        "output, np.sum(output)"
      ],
      "metadata": {
        "colab": {
          "base_uri": "https://localhost:8080/"
        },
        "id": "VYaczKIBYHzh",
        "outputId": "d0be660f-54ff-4c2e-f59d-12256500b647"
      },
      "execution_count": null,
      "outputs": [
        {
          "output_type": "stream",
          "name": "stderr",
          "text": [
            "<ipython-input-8-b4a916cc13d6>:8: RuntimeWarning: overflow encountered in exp\n",
            "  exp = np.exp(-z)\n"
          ]
        },
        {
          "output_type": "execute_result",
          "data": {
            "text/plain": [
              "(array([[2.62697360e-01, 6.51726454e-07, 4.72951384e-10, 1.34658534e-02,\n",
              "         1.89232200e-04, 1.73544253e-02, 1.14439595e-09, 1.36081829e-03,\n",
              "         2.35152634e-01, 4.69779023e-01]]),\n",
              " 1.0)"
            ]
          },
          "metadata": {},
          "execution_count": 13
        }
      ]
    },
    {
      "cell_type": "markdown",
      "source": [
        "### MLP 구성 : Backward Propagation (1)\n",
        "* `__init__()` : MLP 구성요소 선언\n",
        "* `foreward()` : foreward propagation\n",
        "* `compute_loss()` : Compute Average Cross Entropy Loss\n",
        "* `update()` : GD방식을 이용하여 NN의 Weight 업데이트"
      ],
      "metadata": {
        "id": "eM0SF6BKUs7U"
      }
    },
    {
      "cell_type": "code",
      "source": [
        "import numpy as np\n",
        "import matplotlib.pyplot as plt\n",
        "\n",
        "######### 실습 : 0~1 사이에 100개의 숫자를 만들어 보고, y=-log(x)를 계산하여 출력해 봅니다.\n",
        "\n",
        "x = np.linspace(0,1,100)  # 0~1 사이의 값을 만들어 본다\n",
        "y = -np.log(x)\n",
        "plt.plot(x, y)"
      ],
      "metadata": {
        "colab": {
          "base_uri": "https://localhost:8080/",
          "height": 485
        },
        "id": "baPATqBNK8sn",
        "outputId": "db1f1028-a0b7-4272-c7b0-67cb2ad406c3"
      },
      "execution_count": null,
      "outputs": [
        {
          "output_type": "stream",
          "name": "stderr",
          "text": [
            "<ipython-input-14-ce358242a560>:7: RuntimeWarning: divide by zero encountered in log\n",
            "  y = -np.log(x)\n"
          ]
        },
        {
          "output_type": "execute_result",
          "data": {
            "text/plain": [
              "[<matplotlib.lines.Line2D at 0x7c96cc0a8100>]"
            ]
          },
          "metadata": {},
          "execution_count": 14
        },
        {
          "output_type": "display_data",
          "data": {
            "text/plain": [
              "<Figure size 640x480 with 1 Axes>"
            ],
            "image/png": "[encoded data removed]"
          },
          "metadata": {}
        }
      ]
    },
    {
      "cell_type": "code",
      "source": [
        "class SingleHIddenMLP:\n",
        "  def __init__(self, input_size, hidden_layer_size, output_size, activation, learning_rate):\n",
        "\n",
        "    # 모델 구성에 필요한 인자\n",
        "    self.input_size = input_size\n",
        "    self.hidden_layer_size = hidden_layer_size\n",
        "    self.output_size = output_size\n",
        "    self.activation = activation\n",
        "\n",
        "    # 학습에 필요한 인자\n",
        "    self.learning_rate = learning_rate\n",
        "\n",
        "    #1st Linear Layer의 인자를 구성해 보세요\n",
        "    self.W1 = np.random.normal(size=(self.input_size, self.hidden_layer_size))\n",
        "    self.b1 = np.random.normal(size=(1, self.hidden_layer_size,))\n",
        "\n",
        "    #2nd Linear Layer의 인자를 구성해 보세요\n",
        "    self.W2 = np.random.normal(size=(self.hidden_layer_size, self.output_size))\n",
        "    self.b2 = np.random.normal(size=(1, self.output_size))\n",
        "\n",
        "    # 1st Linear Layer의 Gradients\n",
        "    self.W1_grad = np.zeros(shape=(self.input_size, self.hidden_layer_size))\n",
        "    self.b1_grad = np.zeros(shape=(1, self.hidden_layer_size,))\n",
        "\n",
        "    # 2nd Linear Layer의 Gradients\n",
        "    self.W2_grad = np.zeros(shape=(self.hidden_layer_size, self.output_size))\n",
        "    self.b2_grad = np.zeros(shape=(1, self.output_size))\n",
        "\n",
        "  def forward(self,input):\n",
        "\n",
        "    batchsize = len(input)\n",
        "    input = input.reshape(batchsize, -1)\n",
        "\n",
        "    #1st Linear Layer의 연산인 xW + b & activation fucntion\n",
        "    self.linear_l1 = np.matmul(input, self.W1) + self.b1\n",
        "    self.activation_l1 = self.activation(self.linear_l1)\n",
        "\n",
        "    #2nd Linear Layer의 연산인 self.activation_l1*W + b\n",
        "    self.linear_l2 = np.matmul(self.activation_l1, self.W2) + self.b2\n",
        "\n",
        "    # Softmax activation for multi-class classification\n",
        "    activation_l2 = softmax(self.linear_l2)\n",
        "    return activation_l2\n",
        "\n",
        "  def compute_loss(self,prediction, target):\n",
        "    ############## 실습 Cross Entropy Loss : target * log(softmax의 결과)\n",
        "    loss = target * np.log(prediction)\n",
        "    ####################################################################\n",
        "    loss = - np.sum(loss.flatten())/len(target)\n",
        "    return loss\n",
        "\n",
        "  def update(self):\n",
        "\n",
        "    ####실습 : Gradient Descent에 기반하여 Weight update\n",
        "    #### (ex. optimizer.step)\n",
        "    self.W1 -= self.learning_rate * self.W1_grad\n",
        "    self.b1 -= self.learning_rate * self.b1_grad\n",
        "    self.W2 -= self.learning_rate * self.W2_grad\n",
        "    self.b2 -= self.learning_rate * self.b2_grad\n",
        "    ##################################################\n",
        "\n",
        "    # Update 이후 초기화 (ex. Optimizer.zero_grad())\n",
        "    self.W1_grad = np.zeros(shape=(self.input_size, self.hidden_layer_size))\n",
        "    self.b1_grad = np.zeros(shape=(1, self.hidden_layer_size,))\n",
        "    self.W2_grad = np.zeros(shape=(self.hidden_layer_size, self.output_size))\n",
        "    self.b2_grad = np.zeros(shape=(1, self.output_size))\n"
      ],
      "metadata": {
        "id": "wAQhmyLVUr3n"
      },
      "execution_count": null,
      "outputs": []
    },
    {
      "cell_type": "code",
      "source": [
        "# 사진 1장을 넣었을 때의 결과는?\n",
        "############### 실습 : 모델을 선언하고 입력에 대한 예측을 수행해 본다.\n",
        "model = SingleHIddenMLP(input_size=input_size, output_size=output_size, hidden_layer_size=hidden_size, activation=sigmoid, learning_rate=0.1 )\n",
        "predictions =  model.forward(train_images[0:1])\n",
        "###################################################################################\n",
        "\n",
        "plt.imshow(train_images[0], cmap='gray_r')\n",
        "\n",
        "print (f\"예측값은 예측할 Class의 개수의 크기 : {predictions.shape}\")\n",
        "\n",
        "######## 실습 : 예측한 Class 를 확인한다\n",
        "######## 길이 10 array 내 가장 큰 수를 가진 인자의 Index 값이 예측 Class\n",
        "pred_label = np.argmax(predictions)\n",
        "#################################################################\n",
        "\n",
        "plt.title(f\"True Label is {train_labels[0]}, Pred Label is {pred_label}\")\n",
        "target = np.eye(10)[train_labels[0]]\n",
        "print(f\"Cross Entropy Loss is {model.compute_loss(predictions, target)}\")\n",
        "print (f\"Predicted Label: {pred_label}\")\n",
        "\n",
        "### Optimal Loss\n",
        "print(f\"원하는 Loss는 : {model.compute_loss(np.array([0.0001, 0.0001, 0.0001, 0.0001, 0.0001, 0.9991, 0.0001, 0.0001,0.0001, 0.0001]), target)}\")"
      ],
      "metadata": {
        "colab": {
          "base_uri": "https://localhost:8080/",
          "height": 563
        },
        "id": "n-Fx6ZjnX5Ld",
        "outputId": "33833885-f6cb-4527-f76b-1b4a8f366cb9"
      },
      "execution_count": null,
      "outputs": [
        {
          "output_type": "stream",
          "name": "stderr",
          "text": [
            "<ipython-input-8-b4a916cc13d6>:8: RuntimeWarning: overflow encountered in exp\n",
            "  exp = np.exp(-z)\n"
          ]
        },
        {
          "output_type": "stream",
          "name": "stdout",
          "text": [
            "예측값은 예측할 Class의 개수의 크기 : (1, 10)\n",
            "Cross Entropy Loss is 0.18636698862764328\n",
            "Predicted Label: 3\n",
            "원하는 Loss는 : 9.00405243164155e-05\n"
          ]
        },
        {
          "output_type": "display_data",
          "data": {
            "text/plain": [
              "<Figure size 640x480 with 1 Axes>"
            ],
            "image/png": "[encoded data removed]"
          },
          "metadata": {}
        }
      ]
    },
    {
      "cell_type": "markdown",
      "source": [
        "### MLP 구성 : Backward Propagation (2)\n",
        "* `__init__()` : MLP 구성요소 선언\n",
        "* `foreward()` : foreward propagation\n",
        "* `compute_loss()` : Compute Cross Entropy Loss\n",
        "* `update()` : SGD방식을 이용하여 NN의 Weight 업데이트\n",
        "* `backward()` : backward propagation\n",
        "\n",
        "[수행방향]\n",
        "\n",
        "1) W2와 b2 로 Cost를 미분한 값을 계산한다.\n",
        "2) W1과 b1으로 Cost를 미분한 값을 계산한다."
      ],
      "metadata": {
        "id": "nPDzM6qkzRIk"
      }
    },
    {
      "cell_type": "code",
      "source": [
        "def softmax_grad(softmax_output):\n",
        "  return np.diag(softmax_output.squeeze()) - np.matmul(softmax_output.T, softmax_output)\n",
        "\n",
        "##########################################################\n",
        "##################### 실습: sigmoid 의 Gradient 를 선언해 보세요\n",
        "def sigmoid_grad(sigmoid_output):\n",
        "  return sigmoid_output  * (1.-sigmoid_output)\n",
        "##########################################################\n",
        "\n",
        "inputs = np.linspace(-10, 10, 100)\n",
        "figure = plt.figure(figsize=(15,15))\n",
        "\n",
        "fig, ax = plt.subplots(1,2, figsize=(15,5))\n",
        "\n",
        "ax[0].plot(inputs, sigmoid(inputs))\n",
        "ax[0].grid(True)\n",
        "ax[0].set_title('Sigmoid function')\n",
        "ax[0].set_xlabel('$x$')\n",
        "ax[0].set_ylabel('$S(x)$')\n",
        "\n",
        "ax[1].plot(inputs, sigmoid_grad(sigmoid(inputs)))\n",
        "ax[1].grid(True)\n",
        "ax[1].set_title('Gradient of Sigmoid')\n",
        "ax[1].set_xlabel('$x$')\n",
        "ax[1].set_ylabel('$S(x)$')\n",
        "\n"
      ],
      "metadata": {
        "colab": {
          "base_uri": "https://localhost:8080/",
          "height": 524
        },
        "id": "C23QnRHC8CBK",
        "outputId": "53952c1a-5ee2-4b26-8067-fbc775f193ba"
      },
      "execution_count": null,
      "outputs": [
        {
          "output_type": "execute_result",
          "data": {
            "text/plain": [
              "Text(0, 0.5, '$S(x)$')"
            ]
          },
          "metadata": {},
          "execution_count": 17
        },
        {
          "output_type": "display_data",
          "data": {
            "text/plain": [
              "<Figure size 1500x1500 with 0 Axes>"
            ]
          },
          "metadata": {}
        },
        {
          "output_type": "display_data",
          "data": {
            "text/plain": [
              "<Figure size 1500x500 with 2 Axes>"
            ],
            "image/png": "[encoded data removed]"
          },
          "metadata": {}
        }
      ]
    },
    {
      "cell_type": "code",
      "source": [
        "class SingleHIddenMLP:\n",
        "  def __init__(self, input_size, hidden_layer_size, output_size, activation, activation_grad, learning_rate):\n",
        "\n",
        "    # 모델 구성에 필요한 인자\n",
        "    self.input_size = input_size\n",
        "    self.hidden_layer_size = hidden_layer_size\n",
        "    self.output_size = output_size\n",
        "    self.activation = activation\n",
        "\n",
        "    # 학습에 필요한 인자\n",
        "    self.activation_grad = activation_grad\n",
        "    self.learning_rate = learning_rate\n",
        "\n",
        "    #1st Linear Layer의 인자를 구성해 보세요\n",
        "    self.W1 = np.random.normal(size=(self.input_size, self.hidden_layer_size))\n",
        "    self.b1 = np.random.normal(size=(1, self.hidden_layer_size,))\n",
        "\n",
        "    #2nd Linear Layer의 인자를 구성해 보세요\n",
        "    self.W2 = np.random.normal(size=(self.hidden_layer_size, self.output_size))\n",
        "    self.b2 = np.random.normal(size=(1, self.output_size))\n",
        "\n",
        "    # 1st Linear Layer의 Gradients\n",
        "    self.W1_grad = np.zeros(shape=(self.input_size, self.hidden_layer_size))\n",
        "    self.b1_grad = np.zeros(shape=(1, self.hidden_layer_size,))\n",
        "\n",
        "    # 2nd Linear Layer의 Gradients\n",
        "    self.W2_grad = np.zeros(shape=(self.hidden_layer_size, self.output_size))\n",
        "    self.b2_grad = np.zeros(shape=(1, self.output_size))\n",
        "\n",
        "  def forward(self,input):\n",
        "\n",
        "    batchsize = len(input)\n",
        "    input = input.reshape(batchsize, -1)\n",
        "\n",
        "    #1st Linear Layer의 연산인 xW + b & activation fucntion\n",
        "    self.linear_l1 = np.matmul(input, self.W1) + self.b1\n",
        "    self.activation_l1 = self.activation(self.linear_l1)\n",
        "\n",
        "    #2nd Linear Layer의 연산인 self.activation_l1*W + b\n",
        "    self.linear_l2 = np.matmul(self.activation_l1, self.W2) + self.b2\n",
        "\n",
        "    # Softmax activation for multi-class classification\n",
        "    activation_l2 = softmax(self.linear_l2)\n",
        "    return activation_l2\n",
        "\n",
        "  def compute_loss(self,prediction, target):\n",
        "    loss = target * np.log(prediction)\n",
        "    loss = - np.sum(loss.flatten())/len(target)\n",
        "    return loss\n",
        "\n",
        "  def update(self):\n",
        "    self.W1 -= self.learning_rate * self.W1_grad\n",
        "    self.b1 -= self.learning_rate * self.b1_grad\n",
        "    self.W2 -= self.learning_rate * self.W2_grad\n",
        "    self.b2 -= self.learning_rate * self.b2_grad\n",
        "\n",
        "\n",
        "    # Update 이후 초기화\n",
        "    self.W1_grad = np.zeros(shape=(self.input_size, self.hidden_layer_size))\n",
        "    self.b1_grad = np.zeros(shape=(1, self.hidden_layer_size,))\n",
        "    self.W2_grad = np.zeros(shape=(self.hidden_layer_size, self.output_size))\n",
        "    self.b2_grad = np.zeros(shape=(1, self.output_size))\n",
        "\n",
        "  def backward(self,prediction, target, input):\n",
        "\n",
        "    batchsize = len(input)  # 계산하는 Image의 갯수\n",
        "    input = input.reshape(batchsize, -1)\n",
        "\n",
        "    # 역전파 Step 1: dCost/dy\n",
        "    gradient_activation_l2 = -(target)/(prediction + 1e-9)\n",
        "\n",
        "    # 역전파 Step 2: dCost/dz[2]\n",
        "    gradient_linear_l2 = np.matmul(gradient_activation_l2, softmax_grad(prediction))\n",
        "\n",
        "    # 역전파 Step 3: dCost/dW[2], dCost/db[2], dCost/da[1]\n",
        "    self.W2_grad = np.matmul(self.activation_l1.T,gradient_linear_l2 )/batchsize\n",
        "    self.b2_grad = np.sum(gradient_linear_l2, axis=0)/batchsize\n",
        "    gradient_activation_l1 = np.matmul(gradient_linear_l2, self.W2.T)\n",
        "\n",
        "    # 역전파 Step 4: dCost/dz[1], dCost/dW[1]. dCost/db[1]\n",
        "    gradient_linear_l1 = gradient_activation_l1 * self.activation_grad(self.activation_l1)\n",
        "    self.W1_grad = np.matmul(input.T, gradient_linear_l1)/batchsize\n",
        "    self.b1_grad = np.sum(gradient_linear_l1, axis=0)/batchsize\n",
        "\n",
        "    return\n"
      ],
      "metadata": {
        "id": "RZrHOOdzUry-"
      },
      "execution_count": null,
      "outputs": []
    },
    {
      "cell_type": "markdown",
      "source": [
        "### 학습 및 평가\n",
        "* 입력 크기 : 28x28=784\n",
        "* hidden layer 크기 = 120\n",
        "* output 크기 : 10 (0~9 까지의 숫자를 맞추는 문제)\n",
        "* 이미지 별로 학습을 수행하며, Epoch = 3"
      ],
      "metadata": {
        "id": "5YYLnTE9hiBx"
      }
    },
    {
      "cell_type": "code",
      "source": [
        "np.random.seed(0)\n",
        "\n",
        "### 모델 선언 시 Weight들의 초기화는 이루어져 있음\n",
        "model = SingleHIddenMLP(input_size=784, hidden_layer_size=120,\n",
        "                        output_size=10, activation=sigmoid, activation_grad=sigmoid_grad,\n",
        "                        learning_rate=0.1)\n",
        "max_epoches = 3\n",
        "for epoch in tqdm(range(max_epoches)):\n",
        "  indices = np.arange(len(train_images))\n",
        "\n",
        "  ##### 섞어줌\n",
        "  np.random.shuffle(indices)\n",
        "  train_images_shuffle = train_images[indices]\n",
        "  train_labels_shuffle = train_labels[indices]\n",
        "\n",
        "  running_loss = 0.0\n",
        "  for i in range(len(train_images)):\n",
        "\n",
        "    ################## 실습 : 입력 이미지는 Normalization\n",
        "    input = train_images_shuffle[i:i+1]/255.0\n",
        "    ##################################################\n",
        "    label = train_labels_shuffle[i:i+1]\n",
        "\n",
        "    ############### 실습 : Cross Entropy계산을 위한 one-hot Vector생성\n",
        "    label_onehot = np.eye(10)[label]\n",
        "    ##################################################\n",
        "\n",
        "    # 예측값 생성\n",
        "    prediction = model.forward(input)\n",
        "    running_loss += model.compute_loss(prediction, label_onehot)\n",
        "\n",
        "    ########## 실습:  Backpropagation을 통해 모델 학습\n",
        "    model.backward(prediction, label_onehot, input)\n",
        "    model.update()\n",
        "    ##################################################\n",
        "  print('Loss = {}'.format(running_loss/len(train_images)))\n",
        "print('Training Finished')"
      ],
      "metadata": {
        "colab": {
          "base_uri": "https://localhost:8080/"
        },
        "id": "7rH4d8Cufjj7",
        "outputId": "ba3524fb-4058-4d32-c428-26fb2c46fc15"
      },
      "execution_count": null,
      "outputs": [
        {
          "output_type": "stream",
          "name": "stderr",
          "text": [
            " 33%|███▎      | 1/3 [01:47<03:35, 107.72s/it]"
          ]
        },
        {
          "output_type": "stream",
          "name": "stdout",
          "text": [
            "Loss = 0.5012609259579799\n"
          ]
        },
        {
          "output_type": "stream",
          "name": "stderr",
          "text": [
            "\r 67%|██████▋   | 2/3 [03:18<01:37, 97.61s/it] "
          ]
        },
        {
          "output_type": "stream",
          "name": "stdout",
          "text": [
            "Loss = 0.23153933129122573\n"
          ]
        },
        {
          "output_type": "stream",
          "name": "stderr",
          "text": [
            "100%|██████████| 3/3 [04:48<00:00, 96.15s/it]"
          ]
        },
        {
          "output_type": "stream",
          "name": "stdout",
          "text": [
            "Loss = 0.166858308157154\n",
            "Training Finished\n"
          ]
        },
        {
          "output_type": "stream",
          "name": "stderr",
          "text": [
            "\n"
          ]
        }
      ]
    },
    {
      "cell_type": "code",
      "source": [
        "######### 정규화를 해도 문제가 없습니다.\n",
        "fig, ax = plt.subplots(1, 2)\n",
        "ax[0].imshow(train_images[0], cmap='gray_r')\n",
        "ax[1].imshow(train_images[0]/255.0, cmap='gray_r') # 흑백이미지에서 0:Black, 255: White"
      ],
      "metadata": {
        "id": "kngI6P6Zi0Ah",
        "colab": {
          "base_uri": "https://localhost:8080/",
          "height": 305
        },
        "outputId": "91a7f467-96ab-45ba-b9f9-5899cdd4d672"
      },
      "execution_count": null,
      "outputs": [
        {
          "output_type": "execute_result",
          "data": {
            "text/plain": [
              "<matplotlib.image.AxesImage at 0x7c96cbe12fb0>"
            ]
          },
          "metadata": {},
          "execution_count": 20
        },
        {
          "output_type": "display_data",
          "data": {
            "text/plain": [
              "<Figure size 640x480 with 2 Axes>"
            ],
            "image/png": "[encoded data removed]"
          },
          "metadata": {}
        }
      ]
    },
    {
      "cell_type": "code",
      "source": [
        "# 학습된 모델에 대한 성능 평가\n",
        "prediction = model.forward(test_images)\n",
        "prediction_label = np.argmax(prediction, axis=1)\n",
        "\n",
        "# Accuracy : 예측값과 정답값이 같은 비중\n",
        "test_acc = np.sum((prediction_label == test_labels))/len(test_labels)\n",
        "print('Test Accuracy = {:.2f}'.format(100*test_acc))\n",
        "\n",
        "# Plotting results\n",
        "idxs = np.random.choice(len(test_labels), 10, replace=False)\n",
        "plt.figure(figsize=(16, 8))\n",
        "predict = model.forward(test_images[idxs])\n",
        "pred_label = np.argmax(predict, axis=1)\n",
        "for i, idx in enumerate(idxs):\n",
        "  plt.subplot(2, 5, i + 1)\n",
        "  plt.imshow(test_images[idx], cmap='gray_r')\n",
        "  plt.title('Predicted Digit : {} '.format(pred_label[i]), fontsize=14)\n",
        "  plt.xticks([]); plt.yticks([])"
      ],
      "metadata": {
        "colab": {
          "base_uri": "https://localhost:8080/",
          "height": 665
        },
        "id": "LIH8lVzYjIQD",
        "outputId": "4ea855f1-9aad-4231-f67c-6343b05bc671"
      },
      "execution_count": null,
      "outputs": [
        {
          "output_type": "stream",
          "name": "stderr",
          "text": [
            "<ipython-input-8-b4a916cc13d6>:8: RuntimeWarning: overflow encountered in exp\n",
            "  exp = np.exp(-z)\n"
          ]
        },
        {
          "output_type": "stream",
          "name": "stdout",
          "text": [
            "Test Accuracy = 94.42\n"
          ]
        },
        {
          "output_type": "display_data",
          "data": {
            "text/plain": [
              "<Figure size 1600x800 with 10 Axes>"
            ],
            "image/png": "[encoded data removed]"
          },
          "metadata": {}
        }
      ]
    },
    {
      "cell_type": "markdown",
      "source": [
        "## nn.Linear 로 구현해 봅시다\n",
        "\n",
        "* Pytorch 의 CrossEntropyLoss는 내부적으로 입력을 Softmax 처리하므로 모델의 마지막에 softmax가 없어도 됩니다"
      ],
      "metadata": {
        "id": "qNlo4KSdlEDv"
      }
    },
    {
      "cell_type": "code",
      "source": [
        "import torch\n",
        "import torch.nn as nn\n",
        "import torch.nn.functional as F\n",
        "import torch.optim as optim\n",
        "import numpy as np\n",
        "import matplotlib.pyplot as plt\n",
        "\n",
        "class LinearRegressionModel(nn.Module):\n",
        "\n",
        "  def __init__(self, input_size, hidden_layer_size, output_size):\n",
        "    super().__init__()\n",
        "\n",
        "    ############ 실습 : 위에 구현한 모델을 Pytorch로 구현해 봅니다.\n",
        "    #### Pytorch의  Cross Entropy Loss는 내부적으로 입력을 Softmax처리\n",
        "    #### 하므로 모델의 마지막에 Softmax가 없어도 됩니다.\n",
        "    self.linear = nn.Sequential(nn.Linear(in_features=input_size, out_features=hidden_layer_size, bias=True),\n",
        "                                nn.Sigmoid(),\n",
        "                                nn.Linear(in_features=hidden_layer_size, out_features=output_size, bias=True),\n",
        "                                # nn.Softmax()\n",
        "                            )\n",
        "    ###################################\n",
        "\n",
        "  def forward(self, x):\n",
        "      return self.linear(x)"
      ],
      "metadata": {
        "id": "sBKU-a02jl5P"
      },
      "execution_count": null,
      "outputs": []
    },
    {
      "cell_type": "code",
      "source": [
        "####### 실습 : Numpy 이미지는 Tensor로 선언\n",
        "x_train = torch.from_numpy(train_images.reshape(len(train_images), -1)).float()\n",
        "x_test = torch.from_numpy(test_images.reshape(len(test_images), -1)).float()\n",
        "y_train = torch.from_numpy(train_labels)\n",
        "y_test = torch.from_numpy(test_labels)\n",
        "################\n",
        "\n",
        "model = LinearRegressionModel(input_size=784, hidden_layer_size=120, output_size=10)\n",
        "preds = model(x_train)\n",
        "\n",
        "print(\"학습 전 예측결과\")\n",
        "display_dataset(train_images, np.argmax(preds.detach().numpy(), axis=1))\n",
        "\n",
        "loss =  nn.CrossEntropyLoss() # 내부적으로 소프트맥스 함수를 포함하고 있음.\n",
        "print(f\"Initial Cost: {loss(preds, y_train)}\")\n"
      ],
      "metadata": {
        "colab": {
          "base_uri": "https://localhost:8080/",
          "height": 287
        },
        "id": "KyaEPsgqnEG7",
        "outputId": "25dea1ea-dce2-4024-9a6c-147bcba46b39"
      },
      "execution_count": null,
      "outputs": [
        {
          "output_type": "stream",
          "name": "stderr",
          "text": [
            "<ipython-input-23-e946887f91d8>:2: UserWarning: The given NumPy array is not writable, and PyTorch does not support non-writable tensors. This means writing to this tensor will result in undefined behavior. You may want to copy the array to protect its data or make it writable before converting it to a tensor. This type of warning will be suppressed for the rest of this program. (Triggered internally at ../torch/csrc/utils/tensor_numpy.cpp:206.)\n",
            "  x_train = torch.from_numpy(train_images.reshape(len(train_images), -1)).float()\n"
          ]
        },
        {
          "output_type": "stream",
          "name": "stdout",
          "text": [
            "학습 전 예측결과\n",
            "Initial Cost: 2.383118152618408\n"
          ]
        },
        {
          "output_type": "display_data",
          "data": {
            "text/plain": [
              "<Figure size 1000x400 with 5 Axes>"
            ],
            "image/png": "[encoded data removed]"
          },
          "metadata": {}
        }
      ]
    },
    {
      "cell_type": "code",
      "source": [
        "########## 실습 : SGD 최적화 모델 활용\n",
        "optimizer = torch.optim.SGD( model.parameters(), lr=0.1)\n",
        "#########################################################\n",
        "\n",
        "nb_epochs = 15 # 원하는만큼 경사 하강법을 반복\n",
        "for epoch in range(nb_epochs + 1):\n",
        "\n",
        "    preds = model(x_train)\n",
        "\n",
        "    cost = loss(preds, y_train)\n",
        "\n",
        "    ######## 실습 : SGD를 이용하여 학습을 수행합니다.\n",
        "    optimizer.zero_grad() # 초기화\n",
        "    cost.backward() # gradient계산\n",
        "    optimizer.step() # 계산된 gradient 값을 이용하여 W,b 업데이트\n",
        "    #####################################################\n",
        "\n",
        "    if epoch % (nb_epochs/10) == 1:\n",
        "      print(f'Epoch {epoch:4d}/{nb_epochs}, Cost_train: {cost.item():.6f}')\n",
        "\n",
        "preds = model(x_train)\n",
        "print(\"학습 후 예측결과\")\n",
        "prediction_label = np.argmax(preds.detach().numpy(), axis=1)\n",
        "display_dataset(train_images,prediction_label)\n",
        "print(f\"Train accuracy :  {np.sum((prediction_label == train_labels))/len(train_labels)}\")\n",
        "\n",
        "preds_test = model(x_test)\n",
        "prediction_label = np.argmax(preds_test.detach().numpy(), axis=1)\n",
        "display_dataset(test_images, prediction_label)\n",
        "print(f\"Test accuracy :  {np.sum((prediction_label == test_labels))/len(test_labels)}\")\n"
      ],
      "metadata": {
        "colab": {
          "base_uri": "https://localhost:8080/",
          "height": 517
        },
        "id": "usqEYt1jl0si",
        "outputId": "13b40904-4565-4e87-df77-3e757bce4165"
      },
      "execution_count": null,
      "outputs": [
        {
          "output_type": "stream",
          "name": "stdout",
          "text": [
            "Epoch    1/15, Cost_train: 2.087355\n",
            "Epoch    4/15, Cost_train: 1.631766\n",
            "Epoch    7/15, Cost_train: 1.367664\n",
            "Epoch   10/15, Cost_train: 1.205482\n",
            "Epoch   13/15, Cost_train: 1.082580\n",
            "학습 후 예측결과\n",
            "Train accuracy :  0.8175\n",
            "Test accuracy :  0.8273\n"
          ]
        },
        {
          "output_type": "display_data",
          "data": {
            "text/plain": [
              "<Figure size 1000x400 with 5 Axes>"
            ],
            "image/png": "[encoded data removed]"
          },
          "metadata": {}
        },
        {
          "output_type": "display_data",
          "data": {
            "text/plain": [
              "<Figure size 1000x400 with 5 Axes>"
            ],
            "image/png": "[encoded data removed]"
          },
          "metadata": {}
        }
      ]
    },
    {
      "cell_type": "code",
      "source": [
        "preds_test = model(x_test)\n",
        "prediction_label = np.argmax(preds_test.detach().numpy(), axis=1)\n",
        "display_dataset(test_images, prediction_label)\n",
        "print(f\"Test accuracy :  {np.sum((prediction_label == test_labels))/len(test_labels)}\")"
      ],
      "metadata": {
        "colab": {
          "base_uri": "https://localhost:8080/",
          "height": 211
        },
        "id": "yfer5kYRq8Zf",
        "outputId": "72a616a3-8488-4cdc-c9af-dc73256b4b77"
      },
      "execution_count": null,
      "outputs": [
        {
          "output_type": "stream",
          "name": "stdout",
          "text": [
            "Test accuracy :  0.8273\n"
          ]
        },
        {
          "output_type": "display_data",
          "data": {
            "text/plain": [
              "<Figure size 1000x400 with 5 Axes>"
            ],
            "image/png": "[encoded data removed]"
          },
          "metadata": {}
        }
      ]
    },
    {
      "cell_type": "code",
      "source": [
        "test_labels.shape, prediction_label.shape"
      ],
      "metadata": {
        "colab": {
          "base_uri": "https://localhost:8080/"
        },
        "id": "3G_c5tINEyoS",
        "outputId": "ca0b0fdd-2e1a-400f-aaf3-03d5afc9409b"
      },
      "execution_count": null,
      "outputs": [
        {
          "output_type": "execute_result",
          "data": {
            "text/plain": [
              "((10000,), (10000,))"
            ]
          },
          "metadata": {},
          "execution_count": 26
        }
      ]
    },
    {
      "cell_type": "markdown",
      "source": [],
      "metadata": {
        "id": "5k4xXrEBKLFu"
      }
    },
    {
      "cell_type": "code",
      "source": [
        "########### 실습 : 분류 성능을 평가해 봅니다.\n",
        "from sklearn.metrics import classification_report\n",
        "print(classification_report(test_labels, prediction_label))"
      ],
      "metadata": {
        "colab": {
          "base_uri": "https://localhost:8080/"
        },
        "id": "3yXcwEMvEtvl",
        "outputId": "22e009a0-9d18-4f4d-be85-98620a123e92"
      },
      "execution_count": null,
      "outputs": [
        {
          "output_type": "stream",
          "name": "stdout",
          "text": [
            "              precision    recall  f1-score   support\n",
            "\n",
            "           0       0.79      0.98      0.87       980\n",
            "           1       0.88      0.97      0.92      1135\n",
            "           2       0.87      0.78      0.83      1032\n",
            "           3       0.75      0.85      0.80      1010\n",
            "           4       0.86      0.84      0.85       982\n",
            "           5       0.81      0.61      0.70       892\n",
            "           6       0.89      0.90      0.89       958\n",
            "           7       0.78      0.91      0.84      1028\n",
            "           8       0.89      0.62      0.73       974\n",
            "           9       0.79      0.75      0.77      1009\n",
            "\n",
            "    accuracy                           0.83     10000\n",
            "   macro avg       0.83      0.82      0.82     10000\n",
            "weighted avg       0.83      0.83      0.82     10000\n",
            "\n"
          ]
        }
      ]
    },
    {
      "cell_type": "code",
      "source": [
        "########### 실습 : 분류 성능을 평가해 봅니다.\n",
        "# Accuracy : # 전체 샘플중 맞게 예측한 샘플수 (TP + TN) / Total\n",
        "from sklearn.metrics import accuracy_score\n",
        "accuracy_score(test_labels, prediction_label)"
      ],
      "metadata": {
        "colab": {
          "base_uri": "https://localhost:8080/"
        },
        "id": "4T7uHKHkFYfg",
        "outputId": "d3d6e291-26ff-43c4-b217-329dffa4cb8d"
      },
      "execution_count": null,
      "outputs": [
        {
          "output_type": "execute_result",
          "data": {
            "text/plain": [
              "0.8273"
            ]
          },
          "metadata": {},
          "execution_count": 28
        }
      ]
    },
    {
      "cell_type": "code",
      "source": [
        "########### 실습 : 분류 성능을 평가해 봅니다.\n",
        "# Precision 정밀도 : 예측값 값의 정확도\n",
        "from sklearn.metrics import precision_score\n",
        "# 각 label의 prediction을 계산 후 평균을 취함\n",
        "precision_score(test_labels, prediction_label, average = 'macro')"
      ],
      "metadata": {
        "colab": {
          "base_uri": "https://localhost:8080/"
        },
        "id": "OTJvOF61GBgX",
        "outputId": "952a5046-697f-4521-a87b-7ac20aee326b"
      },
      "execution_count": null,
      "outputs": [
        {
          "output_type": "execute_result",
          "data": {
            "text/plain": [
              "0.8308048919849138"
            ]
          },
          "metadata": {},
          "execution_count": 29
        }
      ]
    },
    {
      "cell_type": "code",
      "source": [
        "########### 실습 : 분류 성능을 평가해 봅니다.\n",
        "# recall : 실제 Positive중 Positive라고 예측된 비중\n",
        "from sklearn.metrics import recall_score\n",
        "recall_score(test_labels, prediction_label, average = 'macro')"
      ],
      "metadata": {
        "colab": {
          "base_uri": "https://localhost:8080/"
        },
        "id": "fxsCybAUG5Ng",
        "outputId": "d8d19b03-580c-481e-c9d7-cd15794c7c5e"
      },
      "execution_count": null,
      "outputs": [
        {
          "output_type": "execute_result",
          "data": {
            "text/plain": [
              "0.8230608439460833"
            ]
          },
          "metadata": {},
          "execution_count": 30
        }
      ]
    },
    {
      "cell_type": "code",
      "source": [
        "########### 실습 : 분류 성능을 평가해 봅니다.\n",
        "# f1 score : 정밀도와 재현율의 가중 조화평균\n",
        "from sklearn.metrics import f1_score\n",
        "print(f1_score(test_labels, prediction_label, average = 'macro'))"
      ],
      "metadata": {
        "colab": {
          "base_uri": "https://localhost:8080/"
        },
        "id": "AvXGbaRDHNEg",
        "outputId": "cc8857e1-1ace-4f9b-a46f-e34ab4afbfb0"
      },
      "execution_count": null,
      "outputs": [
        {
          "output_type": "stream",
          "name": "stdout",
          "text": [
            "0.8207910697717583\n"
          ]
        }
      ]
    }
  ]
}