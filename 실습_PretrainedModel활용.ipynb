{
  "cells": [
    {
      "cell_type": "markdown",
      "metadata": {
        "id": "view-in-github",
        "colab_type": "text"
      },
      "source": [
        "<a href=\"https://colab.research.google.com/github/chminPark/ml-python/blob/master/%EC%8B%A4%EC%8A%B5_PretrainedModel%ED%99%9C%EC%9A%A9.ipynb\" target=\"_parent\"><img src=\"https://colab.research.google.com/assets/colab-badge.svg\" alt=\"Open In Colab\"/></a>"
      ]
    },
    {
      "cell_type": "code",
      "execution_count": null,
      "metadata": {
        "colab": {
          "base_uri": "https://localhost:8080/",
          "height": 35
        },
        "id": "6TV0MdKQBU5w",
        "outputId": "459950fa-505c-4297-8023-0b018996e8b1"
      },
      "outputs": [
        {
          "output_type": "execute_result",
          "data": {
            "text/plain": [
              "'2.1.0+cu118'"
            ],
            "application/vnd.google.colaboratory.intrinsic+json": {
              "type": "string"
            }
          },
          "metadata": {},
          "execution_count": 38
        }
      ],
      "source": [
        "# Pytorch로 개발하기 위한 Library\n",
        "import torch\n",
        "import torch.nn as nn\n",
        "import torch.nn.functional as F\n",
        "import torch.optim as optim\n",
        "import matplotlib.pyplot as plt\n",
        "\n",
        "import numpy as np\n",
        "\n",
        "torch.__version__"
      ]
    },
    {
      "cell_type": "code",
      "execution_count": null,
      "metadata": {
        "colab": {
          "base_uri": "https://localhost:8080/"
        },
        "id": "fvM0McnQ8Mx8",
        "outputId": "a43ddcc1-1fdb-41e5-a088-69a5796600d9"
      },
      "outputs": [
        {
          "output_type": "stream",
          "name": "stdout",
          "text": [
            "/usr/local/lib/python3.10/dist-packages/gdown/cli.py:121: FutureWarning: Option `--id` was deprecated in version 4.3.1 and will be removed in 5.0. You don't need to pass it anymore to use a file ID.\n",
            "  warnings.warn(\n",
            "Downloading...\n",
            "From: https://drive.google.com/uc?id=1nOUWByW6ifnd_P-Jgd4mbNkAT-jGzpWC\n",
            "To: /content/semiconductor_dataset.zip\n",
            "100% 10.3M/10.3M [00:00<00:00, 257MB/s]\n",
            "mkdir: cannot create directory ‘semicon’: File exists\n",
            "replace semicon/abnorm_1/1-4.jpg? [y]es, [n]o, [A]ll, [N]one, [r]ename: A\n"
          ]
        }
      ],
      "source": [
        "!gdown --id 1nOUWByW6ifnd_P-Jgd4mbNkAT-jGzpWC\n",
        "!mkdir 'semicon'\n",
        "!unzip -q semiconductor_dataset.zip -d semicon\n",
        "!rm semiconductor_dataset.zip"
      ]
    },
    {
      "cell_type": "code",
      "execution_count": null,
      "metadata": {
        "id": "5dXEooJlWsRV"
      },
      "outputs": [],
      "source": [
        "import csv\n",
        "import os\n",
        "import pandas as pd\n",
        "\"\"\"\n",
        "Args:\n",
        "  directory_string: 이미지가 저장되어 있는 폴더 Path\n",
        "  output_csv_name: csv 파일 이름\n",
        "Returns:\n",
        "  csv file\n",
        "\"\"\"\n",
        "def build_csv(directory_string, output_csv_name):\n",
        "\n",
        "    directory = directory_string\n",
        "    class_list = os.listdir(directory)\n",
        "    class_list.sort()\n",
        "\n",
        "\n",
        "    with open(output_csv_name, 'w', newline='') as csvfile:\n",
        "\n",
        "        ### 실습 : CSV 파일 Object 생성\n",
        "        writer = csv.writer(csvfile, delimiter=',')\n",
        "        ############################################\n",
        "        writer.writerow(['file_name', 'file_path', 'class_name', 'class_index']) # CSV의 column 이름을 지정\n",
        "\n",
        "        ###### 각 folder에 들어가서 각 이미지의 이름을 가져옴\n",
        "        for class_name in class_list:\n",
        "          class_path = os.path.join(directory, class_name)\n",
        "          file_list = os.listdir(class_path) # 해당 파일 내부의 이미지를 확보\n",
        "          for file_name in file_list:\n",
        "              file_path = os.path.join(directory, class_name, file_name) #concatenate class folder dir, class name and file name\n",
        "              writer.writerow([file_name, file_path, class_name, class_name.split(\"_\")[1]]) #write the file path and class name to the csv file\n",
        "        #############################\n",
        "\n",
        "    return\n",
        "\n",
        "train_folder = os.path.join(os.getcwd(), 'semicon')\n",
        "build_csv(train_folder, 'train.csv')\n",
        "train_df = pd.read_csv('train.csv')\n"
      ]
    },
    {
      "cell_type": "code",
      "source": [
        "train_df"
      ],
      "metadata": {
        "colab": {
          "base_uri": "https://localhost:8080/",
          "height": 423
        },
        "id": "Ip7wVpFQ2wex",
        "outputId": "02fd0552-fd96-4114-857c-620955402ab4"
      },
      "execution_count": null,
      "outputs": [
        {
          "output_type": "execute_result",
          "data": {
            "text/plain": [
              "    file_name                           file_path class_name  class_index\n",
              "0    1-97.jpg  /content/semicon/abnorm_1/1-97.jpg   abnorm_1            1\n",
              "1     1-4.jpg   /content/semicon/abnorm_1/1-4.jpg   abnorm_1            1\n",
              "2     2-6.jpg   /content/semicon/abnorm_1/2-6.jpg   abnorm_1            1\n",
              "3    2-10.jpg  /content/semicon/abnorm_1/2-10.jpg   abnorm_1            1\n",
              "4    1-99.jpg  /content/semicon/abnorm_1/1-99.jpg   abnorm_1            1\n",
              "..        ...                                 ...        ...          ...\n",
              "193  2-68.jpg  /content/semicon/normal_0/2-68.jpg   normal_0            0\n",
              "194  2-37.jpg  /content/semicon/normal_0/2-37.jpg   normal_0            0\n",
              "195  1-69.jpg  /content/semicon/normal_0/1-69.jpg   normal_0            0\n",
              "196  2-36.jpg  /content/semicon/normal_0/2-36.jpg   normal_0            0\n",
              "197  2-35.jpg  /content/semicon/normal_0/2-35.jpg   normal_0            0\n",
              "\n",
              "[198 rows x 4 columns]"
            ],
            "text/html": [
              "\n",
              "  <div id=\"df-13ce37db-43d3-43ae-add7-29a2b67f4e71\" class=\"colab-df-container\">\n",
              "    <div>\n",
              "<style scoped>\n",
              "    .dataframe tbody tr th:only-of-type {\n",
              "        vertical-align: middle;\n",
              "    }\n",
              "\n",
              "    .dataframe tbody tr th {\n",
              "        vertical-align: top;\n",
              "    }\n",
              "\n",
              "    .dataframe thead th {\n",
              "        text-align: right;\n",
              "    }\n",
              "</style>\n",
              "<table border=\"1\" class=\"dataframe\">\n",
              "  <thead>\n",
              "    <tr style=\"text-align: right;\">\n",
              "      <th></th>\n",
              "      <th>file_name</th>\n",
              "      <th>file_path</th>\n",
              "      <th>class_name</th>\n",
              "      <th>class_index</th>\n",
              "    </tr>\n",
              "  </thead>\n",
              "  <tbody>\n",
              "    <tr>\n",
              "      <th>0</th>\n",
              "      <td>1-97.jpg</td>\n",
              "      <td>/content/semicon/abnorm_1/1-97.jpg</td>\n",
              "      <td>abnorm_1</td>\n",
              "      <td>1</td>\n",
              "    </tr>\n",
              "    <tr>\n",
              "      <th>1</th>\n",
              "      <td>1-4.jpg</td>\n",
              "      <td>/content/semicon/abnorm_1/1-4.jpg</td>\n",
              "      <td>abnorm_1</td>\n",
              "      <td>1</td>\n",
              "    </tr>\n",
              "    <tr>\n",
              "      <th>2</th>\n",
              "      <td>2-6.jpg</td>\n",
              "      <td>/content/semicon/abnorm_1/2-6.jpg</td>\n",
              "      <td>abnorm_1</td>\n",
              "      <td>1</td>\n",
              "    </tr>\n",
              "    <tr>\n",
              "      <th>3</th>\n",
              "      <td>2-10.jpg</td>\n",
              "      <td>/content/semicon/abnorm_1/2-10.jpg</td>\n",
              "      <td>abnorm_1</td>\n",
              "      <td>1</td>\n",
              "    </tr>\n",
              "    <tr>\n",
              "      <th>4</th>\n",
              "      <td>1-99.jpg</td>\n",
              "      <td>/content/semicon/abnorm_1/1-99.jpg</td>\n",
              "      <td>abnorm_1</td>\n",
              "      <td>1</td>\n",
              "    </tr>\n",
              "    <tr>\n",
              "      <th>...</th>\n",
              "      <td>...</td>\n",
              "      <td>...</td>\n",
              "      <td>...</td>\n",
              "      <td>...</td>\n",
              "    </tr>\n",
              "    <tr>\n",
              "      <th>193</th>\n",
              "      <td>2-68.jpg</td>\n",
              "      <td>/content/semicon/normal_0/2-68.jpg</td>\n",
              "      <td>normal_0</td>\n",
              "      <td>0</td>\n",
              "    </tr>\n",
              "    <tr>\n",
              "      <th>194</th>\n",
              "      <td>2-37.jpg</td>\n",
              "      <td>/content/semicon/normal_0/2-37.jpg</td>\n",
              "      <td>normal_0</td>\n",
              "      <td>0</td>\n",
              "    </tr>\n",
              "    <tr>\n",
              "      <th>195</th>\n",
              "      <td>1-69.jpg</td>\n",
              "      <td>/content/semicon/normal_0/1-69.jpg</td>\n",
              "      <td>normal_0</td>\n",
              "      <td>0</td>\n",
              "    </tr>\n",
              "    <tr>\n",
              "      <th>196</th>\n",
              "      <td>2-36.jpg</td>\n",
              "      <td>/content/semicon/normal_0/2-36.jpg</td>\n",
              "      <td>normal_0</td>\n",
              "      <td>0</td>\n",
              "    </tr>\n",
              "    <tr>\n",
              "      <th>197</th>\n",
              "      <td>2-35.jpg</td>\n",
              "      <td>/content/semicon/normal_0/2-35.jpg</td>\n",
              "      <td>normal_0</td>\n",
              "      <td>0</td>\n",
              "    </tr>\n",
              "  </tbody>\n",
              "</table>\n",
              "<p>198 rows × 4 columns</p>\n",
              "</div>\n",
              "    <div class=\"colab-df-buttons\">\n",
              "\n",
              "  <div class=\"colab-df-container\">\n",
              "    <button class=\"colab-df-convert\" onclick=\"convertToInteractive('df-13ce37db-43d3-43ae-add7-29a2b67f4e71')\"\n",
              "            title=\"Convert this dataframe to an interactive table.\"\n",
              "            style=\"display:none;\">\n",
              "\n",
              "  <svg xmlns=\"http://www.w3.org/2000/svg\" height=\"24px\" viewBox=\"0 -960 960 960\">\n",
              "    <path d=\"M120-120v-720h720v720H120Zm60-500h600v-160H180v160Zm220 220h160v-160H400v160Zm0 220h160v-160H400v160ZM180-400h160v-160H180v160Zm440 0h160v-160H620v160ZM180-180h160v-160H180v160Zm440 0h160v-160H620v160Z\"/>\n",
              "  </svg>\n",
              "    </button>\n",
              "\n",
              "  <style>\n",
              "    .colab-df-container {\n",
              "      display:flex;\n",
              "      gap: 12px;\n",
              "    }\n",
              "\n",
              "    .colab-df-convert {\n",
              "      background-color: #E8F0FE;\n",
              "      border: none;\n",
              "      border-radius: 50%;\n",
              "      cursor: pointer;\n",
              "      display: none;\n",
              "      fill: #1967D2;\n",
              "      height: 32px;\n",
              "      padding: 0 0 0 0;\n",
              "      width: 32px;\n",
              "    }\n",
              "\n",
              "    .colab-df-convert:hover {\n",
              "      background-color: #E2EBFA;\n",
              "      box-shadow: 0px 1px 2px rgba(60, 64, 67, 0.3), 0px 1px 3px 1px rgba(60, 64, 67, 0.15);\n",
              "      fill: #174EA6;\n",
              "    }\n",
              "\n",
              "    .colab-df-buttons div {\n",
              "      margin-bottom: 4px;\n",
              "    }\n",
              "\n",
              "    [theme=dark] .colab-df-convert {\n",
              "      background-color: #3B4455;\n",
              "      fill: #D2E3FC;\n",
              "    }\n",
              "\n",
              "    [theme=dark] .colab-df-convert:hover {\n",
              "      background-color: #434B5C;\n",
              "      box-shadow: 0px 1px 3px 1px rgba(0, 0, 0, 0.15);\n",
              "      filter: drop-shadow(0px 1px 2px rgba(0, 0, 0, 0.3));\n",
              "      fill: #FFFFFF;\n",
              "    }\n",
              "  </style>\n",
              "\n",
              "    <script>\n",
              "      const buttonEl =\n",
              "        document.querySelector('#df-13ce37db-43d3-43ae-add7-29a2b67f4e71 button.colab-df-convert');\n",
              "      buttonEl.style.display =\n",
              "        google.colab.kernel.accessAllowed ? 'block' : 'none';\n",
              "\n",
              "      async function convertToInteractive(key) {\n",
              "        const element = document.querySelector('#df-13ce37db-43d3-43ae-add7-29a2b67f4e71');\n",
              "        const dataTable =\n",
              "          await google.colab.kernel.invokeFunction('convertToInteractive',\n",
              "                                                    [key], {});\n",
              "        if (!dataTable) return;\n",
              "\n",
              "        const docLinkHtml = 'Like what you see? Visit the ' +\n",
              "          '<a target=\"_blank\" href=https://colab.research.google.com/notebooks/data_table.ipynb>data table notebook</a>'\n",
              "          + ' to learn more about interactive tables.';\n",
              "        element.innerHTML = '';\n",
              "        dataTable['output_type'] = 'display_data';\n",
              "        await google.colab.output.renderOutput(dataTable, element);\n",
              "        const docLink = document.createElement('div');\n",
              "        docLink.innerHTML = docLinkHtml;\n",
              "        element.appendChild(docLink);\n",
              "      }\n",
              "    </script>\n",
              "  </div>\n",
              "\n",
              "\n",
              "<div id=\"df-ac96b0df-5f36-430c-94b9-42303d815da6\">\n",
              "  <button class=\"colab-df-quickchart\" onclick=\"quickchart('df-ac96b0df-5f36-430c-94b9-42303d815da6')\"\n",
              "            title=\"Suggest charts\"\n",
              "            style=\"display:none;\">\n",
              "\n",
              "<svg xmlns=\"http://www.w3.org/2000/svg\" height=\"24px\"viewBox=\"0 0 24 24\"\n",
              "     width=\"24px\">\n",
              "    <g>\n",
              "        <path d=\"M19 3H5c-1.1 0-2 .9-2 2v14c0 1.1.9 2 2 2h14c1.1 0 2-.9 2-2V5c0-1.1-.9-2-2-2zM9 17H7v-7h2v7zm4 0h-2V7h2v10zm4 0h-2v-4h2v4z\"/>\n",
              "    </g>\n",
              "</svg>\n",
              "  </button>\n",
              "\n",
              "<style>\n",
              "  .colab-df-quickchart {\n",
              "      --bg-color: #E8F0FE;\n",
              "      --fill-color: #1967D2;\n",
              "      --hover-bg-color: #E2EBFA;\n",
              "      --hover-fill-color: #174EA6;\n",
              "      --disabled-fill-color: #AAA;\n",
              "      --disabled-bg-color: #DDD;\n",
              "  }\n",
              "\n",
              "  [theme=dark] .colab-df-quickchart {\n",
              "      --bg-color: #3B4455;\n",
              "      --fill-color: #D2E3FC;\n",
              "      --hover-bg-color: #434B5C;\n",
              "      --hover-fill-color: #FFFFFF;\n",
              "      --disabled-bg-color: #3B4455;\n",
              "      --disabled-fill-color: #666;\n",
              "  }\n",
              "\n",
              "  .colab-df-quickchart {\n",
              "    background-color: var(--bg-color);\n",
              "    border: none;\n",
              "    border-radius: 50%;\n",
              "    cursor: pointer;\n",
              "    display: none;\n",
              "    fill: var(--fill-color);\n",
              "    height: 32px;\n",
              "    padding: 0;\n",
              "    width: 32px;\n",
              "  }\n",
              "\n",
              "  .colab-df-quickchart:hover {\n",
              "    background-color: var(--hover-bg-color);\n",
              "    box-shadow: 0 1px 2px rgba(60, 64, 67, 0.3), 0 1px 3px 1px rgba(60, 64, 67, 0.15);\n",
              "    fill: var(--button-hover-fill-color);\n",
              "  }\n",
              "\n",
              "  .colab-df-quickchart-complete:disabled,\n",
              "  .colab-df-quickchart-complete:disabled:hover {\n",
              "    background-color: var(--disabled-bg-color);\n",
              "    fill: var(--disabled-fill-color);\n",
              "    box-shadow: none;\n",
              "  }\n",
              "\n",
              "  .colab-df-spinner {\n",
              "    border: 2px solid var(--fill-color);\n",
              "    border-color: transparent;\n",
              "    border-bottom-color: var(--fill-color);\n",
              "    animation:\n",
              "      spin 1s steps(1) infinite;\n",
              "  }\n",
              "\n",
              "  @keyframes spin {\n",
              "    0% {\n",
              "      border-color: transparent;\n",
              "      border-bottom-color: var(--fill-color);\n",
              "      border-left-color: var(--fill-color);\n",
              "    }\n",
              "    20% {\n",
              "      border-color: transparent;\n",
              "      border-left-color: var(--fill-color);\n",
              "      border-top-color: var(--fill-color);\n",
              "    }\n",
              "    30% {\n",
              "      border-color: transparent;\n",
              "      border-left-color: var(--fill-color);\n",
              "      border-top-color: var(--fill-color);\n",
              "      border-right-color: var(--fill-color);\n",
              "    }\n",
              "    40% {\n",
              "      border-color: transparent;\n",
              "      border-right-color: var(--fill-color);\n",
              "      border-top-color: var(--fill-color);\n",
              "    }\n",
              "    60% {\n",
              "      border-color: transparent;\n",
              "      border-right-color: var(--fill-color);\n",
              "    }\n",
              "    80% {\n",
              "      border-color: transparent;\n",
              "      border-right-color: var(--fill-color);\n",
              "      border-bottom-color: var(--fill-color);\n",
              "    }\n",
              "    90% {\n",
              "      border-color: transparent;\n",
              "      border-bottom-color: var(--fill-color);\n",
              "    }\n",
              "  }\n",
              "</style>\n",
              "\n",
              "  <script>\n",
              "    async function quickchart(key) {\n",
              "      const quickchartButtonEl =\n",
              "        document.querySelector('#' + key + ' button');\n",
              "      quickchartButtonEl.disabled = true;  // To prevent multiple clicks.\n",
              "      quickchartButtonEl.classList.add('colab-df-spinner');\n",
              "      try {\n",
              "        const charts = await google.colab.kernel.invokeFunction(\n",
              "            'suggestCharts', [key], {});\n",
              "      } catch (error) {\n",
              "        console.error('Error during call to suggestCharts:', error);\n",
              "      }\n",
              "      quickchartButtonEl.classList.remove('colab-df-spinner');\n",
              "      quickchartButtonEl.classList.add('colab-df-quickchart-complete');\n",
              "    }\n",
              "    (() => {\n",
              "      let quickchartButtonEl =\n",
              "        document.querySelector('#df-ac96b0df-5f36-430c-94b9-42303d815da6 button');\n",
              "      quickchartButtonEl.style.display =\n",
              "        google.colab.kernel.accessAllowed ? 'block' : 'none';\n",
              "    })();\n",
              "  </script>\n",
              "</div>\n",
              "    </div>\n",
              "  </div>\n"
            ]
          },
          "metadata": {},
          "execution_count": 42
        }
      ]
    },
    {
      "cell_type": "markdown",
      "metadata": {
        "id": "i837jqmdjrGV"
      },
      "source": [
        "# Custom데이터를 활용하기 위한 Dataset을 선언\n",
        "- pytorch의 `dataloader`를 이용하기 위해서는 `torch.utils.data.Dataset` 클래스를 상속한 클래스의 선언이 필요하다.\n",
        "- 클래스 내에 `__init__`, `__getitem__`, `__len__`의 3개의 메소드를 선언하여 오버라이드한다."
      ]
    },
    {
      "cell_type": "code",
      "execution_count": null,
      "metadata": {
        "id": "qOUmcMyjYn-W"
      },
      "outputs": [],
      "source": [
        "import cv2\n",
        "import torch\n",
        "from torch.utils.data import Dataset\n",
        "\n",
        "class semiconductorDataset(Dataset): # inheritin from Dataset class\n",
        "\n",
        "    def __init__(self, csv_file, root_dir=\"\", transform=None):\n",
        "        self.annotation_df = pd.read_csv(csv_file)\n",
        "        self.root_dir = root_dir # root directory of images, leave \"\" if using the image path column in the __getitem__ method\n",
        "        self.transform = transform\n",
        "\n",
        "    def __len__(self):\n",
        "        return len(self.annotation_df) # return length (numer of rows) of the dataframe\n",
        "\n",
        "    ############ 실습 : annotation_df에 있는 이미지를 읽어 들어서, 변경한후\n",
        "    ############        읽어 들인 값을 return 하는 함수를 작성한다.\n",
        "    def __getitem__(self, idx):\n",
        "\n",
        "        ##### Image 읽기\n",
        "        image_path = os.path.join(self.root_dir, self.annotation_df.iloc[idx, 1]) #use image path column (index = 1) in csv file\n",
        "        image = cv2.imread(image_path) # read image by cv2\n",
        "        #### 이미지를 Channel순서를 변경\n",
        "        image = cv2.cvtColor(image, cv2.COLOR_BGR2RGB) # convert from BGR to RGB for matplotlib\n",
        "        #### 이미지 Transform\n",
        "        if self.transform:\n",
        "            image = self.transform(image)\n",
        "\n",
        "        #### 이미지에 대한 추가 정보 확인\n",
        "        class_name = self.annotation_df.iloc[idx, 2] # use class name column (index = 2) in csv file\n",
        "        class_index = self.annotation_df.iloc[idx, 3] # use class index column (index = 3) in csv file\n",
        "\n",
        "        return image, class_name, class_index"
      ]
    },
    {
      "cell_type": "code",
      "execution_count": null,
      "metadata": {
        "id": "aH1Zej7hLxxR"
      },
      "outputs": [],
      "source": [
        "# https://pytorch.org/vision/stable/auto_examples/plot_transforms.html#sphx-glr-auto-examples-plot-transforms-py\n",
        "from torchvision import transforms\n",
        "import matplotlib.pyplot as plt\n",
        "import random\n",
        "import pandas as pd\n",
        "\n",
        "\n",
        "transform = transforms.Compose([\n",
        "    transforms.ToTensor(), # PIL Image를 Tensor로 변경\n",
        "    transforms.Resize((100,100), antialias=True), # 크기 변경\n",
        "    transforms.Normalize(mean=(0.485, 0.456, 0.406), std=(0.229, 0.224, 0.225)), # Normalize\n",
        "    # transforms.Grayscale(), # Gray Scale로 변경 /\n",
        "    transforms.RandomAdjustSharpness(sharpness_factor=2), # randomly adjusts the sharpness\n",
        "    transforms.RandomAutocontrast() # 임의로 Contrast변경\n",
        "])\n",
        "\n",
        "##### 실습 : train_dataset 선언\n",
        "train_dataset = semiconductorDataset(csv_file='train.csv', root_dir=\"\", transform=transform)"
      ]
    },
    {
      "cell_type": "code",
      "execution_count": null,
      "metadata": {
        "id": "ghCR7igHNMG1"
      },
      "outputs": [],
      "source": [
        "# Image plotting function\n",
        "def img_plt(X_train, Y_train, n):\n",
        "  X_train_2d = X_train.reshape(X_train.shape[0], 256, 256)\n",
        "  fig, axes = plt.subplots(n, 10, figsize=(10,10))\n",
        "  for j in range(n):\n",
        "    for i in range(10):\n",
        "        ax = axes[j, i]\n",
        "        try:\n",
        "          ax.imshow(X_train_2d[Y_train==j][i], cmap='gray_r')\n",
        "          ax.axis('off')\n",
        "          if i == 0:\n",
        "            ax.set_title('Cluster: {}'.format(j))\n",
        "        except:\n",
        "          ax.axis('off')\n",
        "\n",
        "  plt.tight_layout()\n",
        "  plt.show()"
      ]
    },
    {
      "cell_type": "markdown",
      "metadata": {
        "id": "m5pV5UK4kBiR"
      },
      "source": [
        "# Batch 단위 학습을 위한 DataLoader 선언\n",
        " - Dataset내부의 샘플들을 batch 크기로 추출\n",
        " - Batch Size는 1step에 들어간 데이터의 개수\n",
        " - Epoch 마다 데이터를 섞어(Shuffle) Overfitting을 방지\n",
        " - 병렬처리를 지원하여 데이터 검색 속도를 향상\n"
      ]
    },
    {
      "cell_type": "code",
      "source": [
        "len(train_dataset)"
      ],
      "metadata": {
        "colab": {
          "base_uri": "https://localhost:8080/"
        },
        "id": "WnLogX2Y37Cl",
        "outputId": "69445baf-4b3c-4423-f1a4-24c87a7595d7"
      },
      "execution_count": null,
      "outputs": [
        {
          "output_type": "execute_result",
          "data": {
            "text/plain": [
              "198"
            ]
          },
          "metadata": {},
          "execution_count": 46
        }
      ]
    },
    {
      "cell_type": "code",
      "execution_count": null,
      "metadata": {
        "colab": {
          "base_uri": "https://localhost:8080/"
        },
        "id": "bCTnlT1pRpSS",
        "outputId": "6b972f37-4f6c-48d9-c71e-b348df04e8e8"
      },
      "outputs": [
        {
          "output_type": "stream",
          "name": "stdout",
          "text": [
            "torch.Size([10, 3, 100, 100]) torch.Size([10])\n",
            "torch.Size([10, 3, 100, 100]) torch.Size([10])\n",
            "torch.Size([10, 3, 100, 100]) torch.Size([10])\n",
            "torch.Size([10, 3, 100, 100]) torch.Size([10])\n",
            "torch.Size([10, 3, 100, 100]) torch.Size([10])\n"
          ]
        }
      ],
      "source": [
        "#### 실습 : torch.utils.DataLoader를 이용하여 데이터를 load. Batch 크기를 10으로 한다.\n",
        "train_dataloader = torch.utils.data.DataLoader(train_dataset,batch_size=10, shuffle=True, num_workers=2)\n",
        "\n",
        "for i, data in enumerate(train_dataloader):\n",
        "  images, class_name, labels = data\n",
        "  print(images.shape, labels.shape)\n",
        "\n",
        "  # 5번만 데이터를 load하고 멈춘다\n",
        "  if i > 3:\n",
        "    break"
      ]
    },
    {
      "cell_type": "markdown",
      "metadata": {
        "id": "WhDfo_bXniHr"
      },
      "source": [
        "# VGG16를 Pretrained Model을 이용하여 학습한다.\n",
        "\n",
        "<img src=\"https://editor.analyticsvidhya.com/uploads/51271vgg.jpeg\" height=\"150px\" width=\"800px\">\n",
        "\n"
      ]
    },
    {
      "cell_type": "code",
      "execution_count": null,
      "metadata": {
        "colab": {
          "base_uri": "https://localhost:8080/"
        },
        "id": "GaTBk3ngEGz3",
        "outputId": "44ee793f-993b-4034-a507-b39bc2189e03"
      },
      "outputs": [
        {
          "output_type": "stream",
          "name": "stdout",
          "text": [
            "VGG(\n",
            "  (features): Sequential(\n",
            "    (0): Conv2d(3, 64, kernel_size=(3, 3), stride=(1, 1), padding=(1, 1))\n",
            "    (1): ReLU(inplace=True)\n",
            "    (2): Conv2d(64, 64, kernel_size=(3, 3), stride=(1, 1), padding=(1, 1))\n",
            "    (3): ReLU(inplace=True)\n",
            "    (4): MaxPool2d(kernel_size=2, stride=2, padding=0, dilation=1, ceil_mode=False)\n",
            "    (5): Conv2d(64, 128, kernel_size=(3, 3), stride=(1, 1), padding=(1, 1))\n",
            "    (6): ReLU(inplace=True)\n",
            "    (7): Conv2d(128, 128, kernel_size=(3, 3), stride=(1, 1), padding=(1, 1))\n",
            "    (8): ReLU(inplace=True)\n",
            "    (9): MaxPool2d(kernel_size=2, stride=2, padding=0, dilation=1, ceil_mode=False)\n",
            "    (10): Conv2d(128, 256, kernel_size=(3, 3), stride=(1, 1), padding=(1, 1))\n",
            "    (11): ReLU(inplace=True)\n",
            "    (12): Conv2d(256, 256, kernel_size=(3, 3), stride=(1, 1), padding=(1, 1))\n",
            "    (13): ReLU(inplace=True)\n",
            "    (14): Conv2d(256, 256, kernel_size=(3, 3), stride=(1, 1), padding=(1, 1))\n",
            "    (15): ReLU(inplace=True)\n",
            "    (16): MaxPool2d(kernel_size=2, stride=2, padding=0, dilation=1, ceil_mode=False)\n",
            "    (17): Conv2d(256, 512, kernel_size=(3, 3), stride=(1, 1), padding=(1, 1))\n",
            "    (18): ReLU(inplace=True)\n",
            "    (19): Conv2d(512, 512, kernel_size=(3, 3), stride=(1, 1), padding=(1, 1))\n",
            "    (20): ReLU(inplace=True)\n",
            "    (21): Conv2d(512, 512, kernel_size=(3, 3), stride=(1, 1), padding=(1, 1))\n",
            "    (22): ReLU(inplace=True)\n",
            "    (23): MaxPool2d(kernel_size=2, stride=2, padding=0, dilation=1, ceil_mode=False)\n",
            "    (24): Conv2d(512, 512, kernel_size=(3, 3), stride=(1, 1), padding=(1, 1))\n",
            "    (25): ReLU(inplace=True)\n",
            "    (26): Conv2d(512, 512, kernel_size=(3, 3), stride=(1, 1), padding=(1, 1))\n",
            "    (27): ReLU(inplace=True)\n",
            "    (28): Conv2d(512, 512, kernel_size=(3, 3), stride=(1, 1), padding=(1, 1))\n",
            "    (29): ReLU(inplace=True)\n",
            "    (30): MaxPool2d(kernel_size=2, stride=2, padding=0, dilation=1, ceil_mode=False)\n",
            "  )\n",
            "  (avgpool): AdaptiveAvgPool2d(output_size=(7, 7))\n",
            "  (classifier): Sequential(\n",
            "    (0): Linear(in_features=25088, out_features=4096, bias=True)\n",
            "    (1): ReLU(inplace=True)\n",
            "    (2): Dropout(p=0.5, inplace=False)\n",
            "    (3): Linear(in_features=4096, out_features=4096, bias=True)\n",
            "    (4): ReLU(inplace=True)\n",
            "    (5): Dropout(p=0.5, inplace=False)\n",
            "    (6): Linear(in_features=4096, out_features=1000, bias=True)\n",
            "  )\n",
            ")\n"
          ]
        }
      ],
      "source": [
        "from torchvision import models\n",
        "import torch\n",
        "\n",
        "vgg16_pretrained = models.vgg16(weights='VGG16_Weights.IMAGENET1K_V1')\n",
        "\n",
        "print(vgg16_pretrained)"
      ]
    },
    {
      "cell_type": "code",
      "execution_count": null,
      "metadata": {
        "colab": {
          "base_uri": "https://localhost:8080/"
        },
        "id": "R6G3HkzGEGek",
        "outputId": "c729e0be-c124-4a74-bb00-b399691e65fa"
      },
      "outputs": [
        {
          "output_type": "execute_result",
          "data": {
            "text/plain": [
              "Sequential(\n",
              "  (0): Linear(in_features=25088, out_features=4096, bias=True)\n",
              "  (1): ReLU(inplace=True)\n",
              "  (2): Dropout(p=0.5, inplace=False)\n",
              "  (3): Linear(in_features=4096, out_features=4096, bias=True)\n",
              "  (4): ReLU(inplace=True)\n",
              "  (5): Dropout(p=0.5, inplace=False)\n",
              "  (6): Linear(in_features=4096, out_features=1000, bias=True)\n",
              ")"
            ]
          },
          "metadata": {},
          "execution_count": 53
        }
      ],
      "source": [
        "# 최종 결과가 1000개로 나온다. 우리의 데이터는 11개의 class로 변경해야 한다.\n",
        "vgg16_pretrained.classifier"
      ]
    },
    {
      "cell_type": "code",
      "source": [
        "vgg16_pretrained.classifier[3]"
      ],
      "metadata": {
        "colab": {
          "base_uri": "https://localhost:8080/"
        },
        "id": "4Zv7brW95JST",
        "outputId": "63d3ac78-f6e5-41fd-f844-de5e4f965210"
      },
      "execution_count": null,
      "outputs": [
        {
          "output_type": "execute_result",
          "data": {
            "text/plain": [
              "Linear(in_features=4096, out_features=4096, bias=True)"
            ]
          },
          "metadata": {},
          "execution_count": 58
        }
      ]
    },
    {
      "cell_type": "code",
      "source": [
        "# [참고] python에서 -1은 맨 뒤의 인자를 의미합니다.\n",
        "a = [1,2,3,4,5]\n",
        "a[-1], a[-2], a[:-1]"
      ],
      "metadata": {
        "colab": {
          "base_uri": "https://localhost:8080/"
        },
        "id": "yTH_uMy55VQA",
        "outputId": "41688ad7-6312-4f9f-84df-35e889c9a299"
      },
      "execution_count": null,
      "outputs": [
        {
          "output_type": "execute_result",
          "data": {
            "text/plain": [
              "(5, 4, [1, 2, 3, 4])"
            ]
          },
          "metadata": {},
          "execution_count": 62
        }
      ]
    },
    {
      "cell_type": "code",
      "execution_count": null,
      "metadata": {
        "colab": {
          "base_uri": "https://localhost:8080/"
        },
        "id": "25nahJb2EF75",
        "outputId": "3679f084-91f9-45b3-9e13-beb2e7c09438"
      },
      "outputs": [
        {
          "output_type": "execute_result",
          "data": {
            "text/plain": [
              "Linear(in_features=4096, out_features=1000, bias=True)"
            ]
          },
          "metadata": {},
          "execution_count": 76
        }
      ],
      "source": [
        "vgg16_pretrained.classifier[6]"
      ]
    },
    {
      "cell_type": "code",
      "execution_count": null,
      "metadata": {
        "id": "qKvbnW-bGKL4"
      },
      "outputs": [],
      "source": [
        "# 맨 뒤의 linear layer가 우리 데이터를 지원할 수 있도록 변경하고 싶다 = 11개\n",
        "# 두번째 linear layer의 hidden feature 개수를 4096에서 1000 로 줄이고 싶다\n",
        "vgg16_pretrained.classifier[3] = nn.Linear(in_features=4096, out_features=1000, bias=True)\n",
        "vgg16_pretrained.classifier[6] = nn.Linear(in_features=1000, out_features=11)"
      ]
    },
    {
      "cell_type": "code",
      "execution_count": null,
      "metadata": {
        "colab": {
          "base_uri": "https://localhost:8080/"
        },
        "id": "pZ7YDxOQGPxY",
        "outputId": "e141e908-5e30-4873-a6cf-7a2a79c4eaf5"
      },
      "outputs": [
        {
          "output_type": "execute_result",
          "data": {
            "text/plain": [
              "Sequential(\n",
              "  (0): Linear(in_features=25088, out_features=4096, bias=True)\n",
              "  (1): ReLU(inplace=True)\n",
              "  (2): Dropout(p=0.5, inplace=False)\n",
              "  (3): Linear(in_features=4096, out_features=1000, bias=True)\n",
              "  (4): ReLU(inplace=True)\n",
              "  (5): Dropout(p=0.5, inplace=False)\n",
              "  (6): Linear(in_features=1000, out_features=11, bias=True)\n",
              ")"
            ]
          },
          "metadata": {},
          "execution_count": 78
        }
      ],
      "source": [
        "# 변경된 것을 확인할 수 있다\n",
        "vgg16_pretrained.classifier"
      ]
    },
    {
      "cell_type": "code",
      "execution_count": null,
      "metadata": {
        "id": "yHya_ZR3vj0I"
      },
      "outputs": [],
      "source": [
        "def train(model, data_loader, criterion, optimizer, n_epoch):\n",
        "\n",
        "  model.train() #\n",
        "  for epoch in range(n_epoch):\n",
        "    running_loss = 0\n",
        "    ### 실습 : Custom dataloader 에서 값을 가져온다\n",
        "    for i, (images, _, labels) in enumerate(data_loader):\n",
        "      images, labels = images.cuda(), labels.cuda()\n",
        "      outputs = model(images)\n",
        "      loss = criterion(outputs, labels)\n",
        "\n",
        "      optimizer.zero_grad()\n",
        "      loss.backward()\n",
        "      optimizer.step()\n",
        "      running_loss += loss.item()\n",
        "      if (i + 1) % 100 == 0:\n",
        "        print('iteration: [{}/{}]'.format(i + 1, len(data_loader)))\n",
        "\n",
        "    print('Epoch {}, loss = {:.3f}'.format(epoch + 1, running_loss/len(data_loader)))"
      ]
    },
    {
      "cell_type": "code",
      "execution_count": null,
      "metadata": {
        "id": "0uaHXeaKGjQU"
      },
      "outputs": [],
      "source": [
        "def eval(model, data_loader):\n",
        "\n",
        "  model.eval()\n",
        "  total = 0\n",
        "  correct = 0\n",
        "\n",
        "  preds = []\n",
        "  trues = []\n",
        "\n",
        "  with torch.no_grad():\n",
        "    ### 실습 : Custom dataloader 에서 값을 가져온다\n",
        "    for images, _,  labels in data_loader:\n",
        "      images, labels = images.cuda(), labels.cuda()\n",
        "      outputs = model(images)\n",
        "      _, predicted = torch.max(outputs, 1)\n",
        "      total += labels.size(0)\n",
        "      correct += (predicted == labels).sum().item()\n",
        "\n",
        "      preds.append(predicted.detach().cpu().numpy())\n",
        "      trues.append(labels.detach().cpu().numpy())\n",
        "\n",
        "    accuracy = 100 * correct / total\n",
        "\n",
        "  print('Test Accuracy: {}%'.format(accuracy))\n",
        "  return preds, trues\n"
      ]
    },
    {
      "cell_type": "code",
      "execution_count": null,
      "metadata": {
        "id": "RLI00mauwDyZ"
      },
      "outputs": [],
      "source": [
        "def reset_seed(seed):\n",
        "    torch.manual_seed(seed)\n",
        "    np.random.seed(seed)\n",
        "    random.seed(seed)"
      ]
    },
    {
      "cell_type": "code",
      "execution_count": null,
      "metadata": {
        "colab": {
          "base_uri": "https://localhost:8080/"
        },
        "id": "cYtKeoevHOra",
        "outputId": "24e17698-e22d-49e6-8bd4-14cca560bf4c"
      },
      "outputs": [
        {
          "output_type": "stream",
          "name": "stdout",
          "text": [
            "Test Accuracy: 12.121212121212121%\n",
            "              precision    recall  f1-score   support\n",
            "\n",
            "           0       0.00      0.00      0.00        18\n",
            "           1       0.00      0.00      0.00        16\n",
            "           2       0.14      0.28      0.18        18\n",
            "           3       0.00      0.00      0.00        16\n",
            "           4       0.00      0.00      0.00        16\n",
            "           5       0.00      0.00      0.00        17\n",
            "           6       0.14      0.17      0.15        18\n",
            "           7       0.14      0.89      0.24        18\n",
            "           8       0.00      0.00      0.00        18\n",
            "           9       0.00      0.00      0.00        17\n",
            "          10       0.00      0.00      0.00        18\n",
            "\n",
            "    accuracy                           0.13       190\n",
            "   macro avg       0.04      0.12      0.05       190\n",
            "weighted avg       0.04      0.13      0.05       190\n",
            "\n"
          ]
        },
        {
          "output_type": "stream",
          "name": "stderr",
          "text": [
            "/usr/local/lib/python3.10/dist-packages/sklearn/metrics/_classification.py:1344: UndefinedMetricWarning: Precision and F-score are ill-defined and being set to 0.0 in labels with no predicted samples. Use `zero_division` parameter to control this behavior.\n",
            "  _warn_prf(average, modifier, msg_start, len(result))\n",
            "/usr/local/lib/python3.10/dist-packages/sklearn/metrics/_classification.py:1344: UndefinedMetricWarning: Precision and F-score are ill-defined and being set to 0.0 in labels with no predicted samples. Use `zero_division` parameter to control this behavior.\n",
            "  _warn_prf(average, modifier, msg_start, len(result))\n",
            "/usr/local/lib/python3.10/dist-packages/sklearn/metrics/_classification.py:1344: UndefinedMetricWarning: Precision and F-score are ill-defined and being set to 0.0 in labels with no predicted samples. Use `zero_division` parameter to control this behavior.\n",
            "  _warn_prf(average, modifier, msg_start, len(result))\n"
          ]
        }
      ],
      "source": [
        "# 학습 전에는 ImageNet의 정보를 이용하여 성능이 좋지 않음\n",
        "vgg16 = vgg16_pretrained.to(\"cuda\")\n",
        "preds, trues = eval(vgg16, train_dataloader)\n",
        "prediction_label = np.stack(preds[0:-1]).flatten()\n",
        "train_labels = np.stack(trues[0:-1]).flatten()\n",
        "\n",
        "from sklearn.metrics import classification_report\n",
        "print(classification_report(train_labels, prediction_label))"
      ]
    },
    {
      "cell_type": "code",
      "execution_count": null,
      "metadata": {
        "colab": {
          "base_uri": "https://localhost:8080/"
        },
        "id": "t85o-4CZve4T",
        "outputId": "b45e54b1-4277-4fdc-b0d8-95c66c7cc0e9"
      },
      "outputs": [
        {
          "output_type": "stream",
          "name": "stdout",
          "text": [
            "Epoch 1, loss = 2.344\n",
            "Epoch 2, loss = 1.538\n",
            "Epoch 3, loss = 0.485\n",
            "Epoch 4, loss = 0.152\n",
            "Epoch 5, loss = 0.178\n",
            "Epoch 6, loss = 0.154\n",
            "Epoch 7, loss = 0.018\n"
          ]
        }
      ],
      "source": [
        "reset_seed(2020)\n",
        "criterion = nn.CrossEntropyLoss()\n",
        "\n",
        "vgg16 = vgg16_pretrained.to(\"cuda\")\n",
        "\n",
        "# transfer learning을 할때에는 learning rate을 작은 값으로 수행합니다.\n",
        "optimizer = optim.Adam(params=vgg16.parameters(), lr=0.00003)\n",
        "\n",
        "train(vgg16, train_dataloader, criterion, optimizer, n_epoch=7)"
      ]
    },
    {
      "cell_type": "markdown",
      "metadata": {
        "id": "8d4AUYGHJzQ6"
      },
      "source": [
        "# 정확도를 평가해 봅시다\n",
        "* 데이터가 너무 적어서 평가 데이터에 대한 정확도를 봅니다"
      ]
    },
    {
      "cell_type": "code",
      "execution_count": null,
      "metadata": {
        "id": "cdj0G1XrrBkv",
        "colab": {
          "base_uri": "https://localhost:8080/"
        },
        "outputId": "a588fbbc-542e-4e4e-e7bf-688e4ed3bab0"
      },
      "outputs": [
        {
          "output_type": "stream",
          "name": "stdout",
          "text": [
            "Test Accuracy: 100.0%\n"
          ]
        }
      ],
      "source": [
        "preds, trues = eval(vgg16, train_dataloader)"
      ]
    },
    {
      "cell_type": "code",
      "execution_count": null,
      "metadata": {
        "id": "EITSxg8FGwP2",
        "colab": {
          "base_uri": "https://localhost:8080/"
        },
        "outputId": "8c5bdf74-6d58-4c1a-9e55-bc6301574955"
      },
      "outputs": [
        {
          "output_type": "stream",
          "name": "stdout",
          "text": [
            "              precision    recall  f1-score   support\n",
            "\n",
            "           0       1.00      1.00      1.00        17\n",
            "           1       1.00      1.00      1.00        18\n",
            "           2       1.00      1.00      1.00        19\n",
            "           3       1.00      1.00      1.00        16\n",
            "           4       1.00      1.00      1.00        17\n",
            "           5       1.00      1.00      1.00        17\n",
            "           6       1.00      1.00      1.00        17\n",
            "           7       1.00      1.00      1.00        18\n",
            "           8       1.00      1.00      1.00        16\n",
            "           9       1.00      1.00      1.00        17\n",
            "          10       1.00      1.00      1.00        18\n",
            "\n",
            "    accuracy                           1.00       190\n",
            "   macro avg       1.00      1.00      1.00       190\n",
            "weighted avg       1.00      1.00      1.00       190\n",
            "\n"
          ]
        }
      ],
      "source": [
        "prediction_label = np.stack(preds[0:-1]).flatten()\n",
        "train_labels = np.stack(trues[0:-1]).flatten()\n",
        "\n",
        "from sklearn.metrics import classification_report\n",
        "print(classification_report(train_labels, prediction_label))"
      ]
    },
    {
      "cell_type": "code",
      "source": [
        "# 위의 학습 방식은 \"Train the entire model\" Transfer learning 방식입니다.\n",
        "for name, param in vgg16.named_parameters():\n",
        "  print(name, param.requires_grad)"
      ],
      "metadata": {
        "colab": {
          "base_uri": "https://localhost:8080/"
        },
        "id": "xTUd34hU73uq",
        "outputId": "eade6f75-dfc9-4230-ed0f-6a0c6bbcf6e4"
      },
      "execution_count": null,
      "outputs": [
        {
          "output_type": "stream",
          "name": "stdout",
          "text": [
            "features.0.weight True\n",
            "features.0.bias True\n",
            "features.2.weight True\n",
            "features.2.bias True\n",
            "features.5.weight True\n",
            "features.5.bias True\n",
            "features.7.weight True\n",
            "features.7.bias True\n",
            "features.10.weight True\n",
            "features.10.bias True\n",
            "features.12.weight True\n",
            "features.12.bias True\n",
            "features.14.weight True\n",
            "features.14.bias True\n",
            "features.17.weight True\n",
            "features.17.bias True\n",
            "features.19.weight True\n",
            "features.19.bias True\n",
            "features.21.weight True\n",
            "features.21.bias True\n",
            "features.24.weight True\n",
            "features.24.bias True\n",
            "features.26.weight True\n",
            "features.26.bias True\n",
            "features.28.weight True\n",
            "features.28.bias True\n",
            "classifier.0.weight True\n",
            "classifier.0.bias True\n",
            "classifier.3.weight True\n",
            "classifier.3.bias True\n",
            "classifier.6.weight True\n",
            "classifier.6.bias True\n"
          ]
        }
      ]
    },
    {
      "cell_type": "markdown",
      "source": [
        "# 맨 뒤에 Classifier만 학습하고 싶다."
      ],
      "metadata": {
        "id": "pzwx19OjuHi-"
      }
    },
    {
      "cell_type": "code",
      "source": [
        "from torchvision import models\n",
        "import torch\n",
        "\n",
        "vgg16_pretrained = models.vgg16(weights='VGG16_Weights.IMAGENET1K_V1')\n",
        "\n",
        "print(vgg16_pretrained)"
      ],
      "metadata": {
        "colab": {
          "base_uri": "https://localhost:8080/"
        },
        "id": "m5C5a4zruNRW",
        "outputId": "5cba0e5d-68d6-4df4-c855-28fb92e84fc3"
      },
      "execution_count": null,
      "outputs": [
        {
          "output_type": "stream",
          "name": "stdout",
          "text": [
            "VGG(\n",
            "  (features): Sequential(\n",
            "    (0): Conv2d(3, 64, kernel_size=(3, 3), stride=(1, 1), padding=(1, 1))\n",
            "    (1): ReLU(inplace=True)\n",
            "    (2): Conv2d(64, 64, kernel_size=(3, 3), stride=(1, 1), padding=(1, 1))\n",
            "    (3): ReLU(inplace=True)\n",
            "    (4): MaxPool2d(kernel_size=2, stride=2, padding=0, dilation=1, ceil_mode=False)\n",
            "    (5): Conv2d(64, 128, kernel_size=(3, 3), stride=(1, 1), padding=(1, 1))\n",
            "    (6): ReLU(inplace=True)\n",
            "    (7): Conv2d(128, 128, kernel_size=(3, 3), stride=(1, 1), padding=(1, 1))\n",
            "    (8): ReLU(inplace=True)\n",
            "    (9): MaxPool2d(kernel_size=2, stride=2, padding=0, dilation=1, ceil_mode=False)\n",
            "    (10): Conv2d(128, 256, kernel_size=(3, 3), stride=(1, 1), padding=(1, 1))\n",
            "    (11): ReLU(inplace=True)\n",
            "    (12): Conv2d(256, 256, kernel_size=(3, 3), stride=(1, 1), padding=(1, 1))\n",
            "    (13): ReLU(inplace=True)\n",
            "    (14): Conv2d(256, 256, kernel_size=(3, 3), stride=(1, 1), padding=(1, 1))\n",
            "    (15): ReLU(inplace=True)\n",
            "    (16): MaxPool2d(kernel_size=2, stride=2, padding=0, dilation=1, ceil_mode=False)\n",
            "    (17): Conv2d(256, 512, kernel_size=(3, 3), stride=(1, 1), padding=(1, 1))\n",
            "    (18): ReLU(inplace=True)\n",
            "    (19): Conv2d(512, 512, kernel_size=(3, 3), stride=(1, 1), padding=(1, 1))\n",
            "    (20): ReLU(inplace=True)\n",
            "    (21): Conv2d(512, 512, kernel_size=(3, 3), stride=(1, 1), padding=(1, 1))\n",
            "    (22): ReLU(inplace=True)\n",
            "    (23): MaxPool2d(kernel_size=2, stride=2, padding=0, dilation=1, ceil_mode=False)\n",
            "    (24): Conv2d(512, 512, kernel_size=(3, 3), stride=(1, 1), padding=(1, 1))\n",
            "    (25): ReLU(inplace=True)\n",
            "    (26): Conv2d(512, 512, kernel_size=(3, 3), stride=(1, 1), padding=(1, 1))\n",
            "    (27): ReLU(inplace=True)\n",
            "    (28): Conv2d(512, 512, kernel_size=(3, 3), stride=(1, 1), padding=(1, 1))\n",
            "    (29): ReLU(inplace=True)\n",
            "    (30): MaxPool2d(kernel_size=2, stride=2, padding=0, dilation=1, ceil_mode=False)\n",
            "  )\n",
            "  (avgpool): AdaptiveAvgPool2d(output_size=(7, 7))\n",
            "  (classifier): Sequential(\n",
            "    (0): Linear(in_features=25088, out_features=4096, bias=True)\n",
            "    (1): ReLU(inplace=True)\n",
            "    (2): Dropout(p=0.5, inplace=False)\n",
            "    (3): Linear(in_features=4096, out_features=4096, bias=True)\n",
            "    (4): ReLU(inplace=True)\n",
            "    (5): Dropout(p=0.5, inplace=False)\n",
            "    (6): Linear(in_features=4096, out_features=1000, bias=True)\n",
            "  )\n",
            ")\n"
          ]
        }
      ]
    },
    {
      "cell_type": "code",
      "source": [
        "for name, param in vgg16_pretrained.named_parameters():\n",
        "  print(name, param.requires_grad)"
      ],
      "metadata": {
        "colab": {
          "base_uri": "https://localhost:8080/"
        },
        "id": "hx7GorQdtvLQ",
        "outputId": "6b9e89c7-2bed-4947-d104-4f741d05c150"
      },
      "execution_count": null,
      "outputs": [
        {
          "output_type": "stream",
          "name": "stdout",
          "text": [
            "features.0.weight True\n",
            "features.0.bias True\n",
            "features.2.weight True\n",
            "features.2.bias True\n",
            "features.5.weight True\n",
            "features.5.bias True\n",
            "features.7.weight True\n",
            "features.7.bias True\n",
            "features.10.weight True\n",
            "features.10.bias True\n",
            "features.12.weight True\n",
            "features.12.bias True\n",
            "features.14.weight True\n",
            "features.14.bias True\n",
            "features.17.weight True\n",
            "features.17.bias True\n",
            "features.19.weight True\n",
            "features.19.bias True\n",
            "features.21.weight True\n",
            "features.21.bias True\n",
            "features.24.weight True\n",
            "features.24.bias True\n",
            "features.26.weight True\n",
            "features.26.bias True\n",
            "features.28.weight True\n",
            "features.28.bias True\n",
            "classifier.0.weight True\n",
            "classifier.0.bias True\n",
            "classifier.3.weight True\n",
            "classifier.3.bias True\n",
            "classifier.6.weight True\n",
            "classifier.6.bias True\n"
          ]
        }
      ]
    },
    {
      "cell_type": "code",
      "source": [
        "# 맨 뒤에 Classifier만 !!나머지는 Frozen\n",
        "for name, param in vgg16_pretrained.named_parameters():\n",
        "  if \"classifier\" in name:\n",
        "    print(name, param.requires_grad)\n",
        "  else:\n",
        "    param.requires_grad = False"
      ],
      "metadata": {
        "colab": {
          "base_uri": "https://localhost:8080/"
        },
        "id": "iQr2HH7utu1U",
        "outputId": "a6a0284f-7481-4cb7-c6d1-240c7914168f"
      },
      "execution_count": null,
      "outputs": [
        {
          "output_type": "stream",
          "name": "stdout",
          "text": [
            "classifier.0.weight True\n",
            "classifier.0.bias True\n",
            "classifier.3.weight True\n",
            "classifier.3.bias True\n",
            "classifier.6.weight True\n",
            "classifier.6.bias True\n"
          ]
        }
      ]
    },
    {
      "cell_type": "code",
      "source": [
        "## 확인\n",
        "for name, param in vgg16_pretrained.named_parameters():\n",
        "  print(name, param.requires_grad)"
      ],
      "metadata": {
        "colab": {
          "base_uri": "https://localhost:8080/"
        },
        "id": "IO9lvwLMtuaj",
        "outputId": "69cfc8c4-4539-4c79-92d0-b03313c0ef7a"
      },
      "execution_count": null,
      "outputs": [
        {
          "output_type": "stream",
          "name": "stdout",
          "text": [
            "features.0.weight False\n",
            "features.0.bias False\n",
            "features.2.weight False\n",
            "features.2.bias False\n",
            "features.5.weight False\n",
            "features.5.bias False\n",
            "features.7.weight False\n",
            "features.7.bias False\n",
            "features.10.weight False\n",
            "features.10.bias False\n",
            "features.12.weight False\n",
            "features.12.bias False\n",
            "features.14.weight False\n",
            "features.14.bias False\n",
            "features.17.weight False\n",
            "features.17.bias False\n",
            "features.19.weight False\n",
            "features.19.bias False\n",
            "features.21.weight False\n",
            "features.21.bias False\n",
            "features.24.weight False\n",
            "features.24.bias False\n",
            "features.26.weight False\n",
            "features.26.bias False\n",
            "features.28.weight False\n",
            "features.28.bias False\n",
            "classifier.0.weight True\n",
            "classifier.0.bias True\n",
            "classifier.3.weight True\n",
            "classifier.3.bias True\n",
            "classifier.6.weight True\n",
            "classifier.6.bias True\n"
          ]
        }
      ]
    },
    {
      "cell_type": "code",
      "source": [
        "# Freeze the convolutional base\n",
        "reset_seed(2020)\n",
        "criterion = nn.CrossEntropyLoss()\n",
        "\n",
        "vgg16 = vgg16_pretrained.to(\"cuda\")\n",
        "\n",
        "# transfer learning을 할때에는 learning rate을 작은 값으로 수행합니다.\n",
        "optimizer = optim.Adam(params=vgg16.parameters(), lr=0.00001)\n",
        "\n",
        "train(vgg16, train_dataloader, criterion, optimizer, n_epoch=7)\n"
      ],
      "metadata": {
        "colab": {
          "base_uri": "https://localhost:8080/"
        },
        "id": "3hzRY_xiu4xq",
        "outputId": "5de25e32-adc3-497e-82da-62e50db0e2c9"
      },
      "execution_count": null,
      "outputs": [
        {
          "output_type": "stream",
          "name": "stdout",
          "text": [
            "Epoch 1, loss = 9.163\n",
            "Epoch 2, loss = 5.604\n",
            "Epoch 3, loss = 3.850\n",
            "Epoch 4, loss = 2.772\n",
            "Epoch 5, loss = 1.978\n",
            "Epoch 6, loss = 1.512\n",
            "Epoch 7, loss = 1.065\n"
          ]
        }
      ]
    },
    {
      "cell_type": "code",
      "execution_count": null,
      "metadata": {
        "id": "RlfX4s6PHE08",
        "colab": {
          "base_uri": "https://localhost:8080/"
        },
        "outputId": "4d625e47-5fd8-4b24-aaa7-9a6f68153c8c"
      },
      "outputs": [
        {
          "output_type": "stream",
          "name": "stdout",
          "text": [
            "Test Accuracy: 96.96969696969697%\n",
            "              precision    recall  f1-score   support\n",
            "\n",
            "           0       0.85      1.00      0.92        17\n",
            "           1       1.00      1.00      1.00        18\n",
            "           2       1.00      1.00      1.00        19\n",
            "           3       1.00      1.00      1.00        16\n",
            "           4       1.00      1.00      1.00        17\n",
            "           5       1.00      0.94      0.97        17\n",
            "           6       0.94      1.00      0.97        17\n",
            "           7       1.00      0.94      0.97        18\n",
            "           8       0.88      0.94      0.91        16\n",
            "           9       1.00      0.82      0.90        17\n",
            "          10       1.00      1.00      1.00        18\n",
            "\n",
            "    accuracy                           0.97       190\n",
            "   macro avg       0.97      0.97      0.97       190\n",
            "weighted avg       0.97      0.97      0.97       190\n",
            "\n"
          ]
        }
      ],
      "source": [
        "preds, trues = eval(vgg16, train_dataloader)\n",
        "\n",
        "prediction_label = np.stack(preds[0:-1]).flatten()\n",
        "train_labels = np.stack(trues[0:-1]).flatten()\n",
        "\n",
        "from sklearn.metrics import classification_report\n",
        "print(classification_report(train_labels, prediction_label))"
      ]
    },
    {
      "cell_type": "markdown",
      "source": [
        "#Train some layers and leave others frozon"
      ],
      "metadata": {
        "id": "OpjLY1AZ9dyA"
      }
    },
    {
      "cell_type": "code",
      "source": [
        "# pretrained 모델 가져오기\n",
        "from torchvision import models\n",
        "\n",
        "vgg16_pretrained = models.vgg16(weights='VGG16_Weights.IMAGENET1K_V1')\n",
        "vgg16_pretrained"
      ],
      "metadata": {
        "id": "zYULkxmF9dPh"
      },
      "execution_count": null,
      "outputs": []
    },
    {
      "cell_type": "code",
      "source": [
        "# 데이터셋에 맞에 변경하기\n",
        "vgg16_pretrained.classifier[3] = nn.Linear(in_features=4096, out_features=1000, bias=True)\n",
        "vgg16_pretrained.classifier[6] = nn.Linear(in_features=1000, out_features=11, bias=True)"
      ],
      "metadata": {
        "id": "vmvGGicJ9_uy"
      },
      "execution_count": null,
      "outputs": []
    },
    {
      "cell_type": "code",
      "source": [
        "# 일부 layer frozon  하기\n",
        "for name, params in vgg16_pretrained.named_parameters():\n",
        "  # print(name, params.requires_grad)\n",
        "\n",
        "  if 'features' in name:\n",
        "    idx = int(name.split(\".\")[1])\n",
        "    if idx <= 5:\n",
        "      params.requires_grad = False"
      ],
      "metadata": {
        "id": "rDU-XK5U9mtp"
      },
      "execution_count": null,
      "outputs": []
    },
    {
      "cell_type": "code",
      "source": [
        "for name, params in vgg16_pretrained.named_parameters():\n",
        "  print(name, params.requires_grad)"
      ],
      "metadata": {
        "id": "ME4Dq6fk-4Zz"
      },
      "execution_count": null,
      "outputs": []
    },
    {
      "cell_type": "code",
      "source": [
        "# 학습하기\n",
        "reset_seed(2020)\n",
        "criterion = nn.CrossEntropyLoss()\n",
        "\n",
        "vgg16 = vgg16_pretrained.to(\"cuda\")\n",
        "\n",
        "# transfer learning을 할때에는 learning rate을 작은 값으로 수행합니다.\n",
        "optimizer = optim.Adam(params=vgg16.parameters(), lr=0.00003)\n",
        "\n",
        "train(vgg16, train_dataloader, criterion, optimizer, n_epoch=7)"
      ],
      "metadata": {
        "colab": {
          "base_uri": "https://localhost:8080/"
        },
        "id": "_HU3p1JP9pe7",
        "outputId": "c8532c80-5884-40da-93ee-85f69fe80fc1"
      },
      "execution_count": null,
      "outputs": [
        {
          "output_type": "stream",
          "name": "stdout",
          "text": [
            "Epoch 1, loss = 2.278\n",
            "Epoch 2, loss = 1.340\n",
            "Epoch 3, loss = 0.436\n",
            "Epoch 4, loss = 0.167\n",
            "Epoch 5, loss = 0.063\n",
            "Epoch 6, loss = 0.091\n",
            "Epoch 7, loss = 0.115\n"
          ]
        }
      ]
    },
    {
      "cell_type": "code",
      "source": [
        "# 평가\n",
        "preds, trues = eval(vgg16, train_dataloader)\n",
        "\n",
        "prediction_label = np.stack(preds[0:-1]).flatten()\n",
        "train_labels = np.stack(trues[0:-1]).flatten()\n",
        "\n",
        "from sklearn.metrics import classification_report\n",
        "print(classification_report(train_labels, prediction_label))"
      ],
      "metadata": {
        "colab": {
          "base_uri": "https://localhost:8080/"
        },
        "id": "YB_Mufk29qcb",
        "outputId": "f2c78baf-0365-48ba-d283-cf087b53b08c"
      },
      "execution_count": null,
      "outputs": [
        {
          "output_type": "stream",
          "name": "stdout",
          "text": [
            "Test Accuracy: 86.86868686868686%\n",
            "              precision    recall  f1-score   support\n",
            "\n",
            "           0       0.67      0.71      0.69        17\n",
            "           1       0.81      0.94      0.87        18\n",
            "           2       1.00      1.00      1.00        19\n",
            "           3       0.94      0.94      0.94        16\n",
            "           4       1.00      1.00      1.00        17\n",
            "           5       0.89      0.94      0.91        17\n",
            "           6       0.85      1.00      0.92        17\n",
            "           7       0.80      0.89      0.84        18\n",
            "           8       0.79      0.69      0.73        16\n",
            "           9       0.89      0.47      0.62        17\n",
            "          10       1.00      1.00      1.00        18\n",
            "\n",
            "    accuracy                           0.87       190\n",
            "   macro avg       0.88      0.87      0.87       190\n",
            "weighted avg       0.88      0.87      0.87       190\n",
            "\n"
          ]
        }
      ]
    },
    {
      "cell_type": "markdown",
      "metadata": {
        "id": "WW3YT2amVrK6"
      },
      "source": [
        "# Visualize 해보겠습니다"
      ]
    },
    {
      "cell_type": "code",
      "execution_count": null,
      "metadata": {
        "id": "G6T6t3FyLmws"
      },
      "outputs": [],
      "source": [
        "prediction_label = np.stack(preds[0:-1]).flatten()\n",
        "train_labels = np.stack(trues[0:-1]).flatten()"
      ]
    },
    {
      "cell_type": "code",
      "execution_count": null,
      "metadata": {
        "id": "WW-zeNcmIVmk",
        "colab": {
          "base_uri": "https://localhost:8080/"
        },
        "outputId": "ff938462-b324-43cd-e044-7a9488262e67"
      },
      "outputs": [
        {
          "output_type": "stream",
          "name": "stdout",
          "text": [
            "정답 Label은 0, 예측 Label은 6\n",
            "정답 Label은 7, 예측 Label은 8\n",
            "정답 Label은 9, 예측 Label은 0\n",
            "정답 Label은 9, 예측 Label은 0\n",
            "정답 Label은 0, 예측 Label은 3\n",
            "정답 Label은 8, 예측 Label은 7\n",
            "정답 Label은 9, 예측 Label은 8\n",
            "정답 Label은 9, 예측 Label은 1\n",
            "정답 Label은 5, 예측 Label은 0\n",
            "정답 Label은 3, 예측 Label은 0\n",
            "정답 Label은 0, 예측 Label은 5\n",
            "정답 Label은 8, 예측 Label은 9\n",
            "정답 Label은 8, 예측 Label은 6\n",
            "정답 Label은 9, 예측 Label은 8\n",
            "정답 Label은 8, 예측 Label은 0\n",
            "정답 Label은 9, 예측 Label은 7\n",
            "정답 Label은 9, 예측 Label은 7\n",
            "정답 Label은 9, 예측 Label은 0\n",
            "정답 Label은 1, 예측 Label은 5\n",
            "정답 Label은 8, 예측 Label은 7\n",
            "정답 Label은 0, 예측 Label은 1\n",
            "정답 Label은 9, 예측 Label은 6\n",
            "정답 Label은 0, 예측 Label은 1\n",
            "정답 Label은 7, 예측 Label은 1\n"
          ]
        }
      ],
      "source": [
        "idx_diff = np.where(train_labels != prediction_label)\n",
        "labels_diff = train_labels[idx_diff]\n",
        "predicted_diff = prediction_label[idx_diff]\n",
        "\n",
        "\n",
        "for t, p in zip(labels_diff, predicted_diff):\n",
        "  print(f\"정답 Label은 {t}, 예측 Label은 {p}\")\n"
      ]
    },
    {
      "cell_type": "code",
      "execution_count": null,
      "metadata": {
        "id": "DMtnCACjKKQL",
        "colab": {
          "base_uri": "https://localhost:8080/"
        },
        "outputId": "a3ee9dfc-99e6-477c-f1c2-b73026f75641"
      },
      "outputs": [
        {
          "output_type": "stream",
          "name": "stdout",
          "text": [
            "torch.Size([198, 3, 100, 100]) (198,) torch.Size([198])\n",
            "torch.Size([198, 3, 100, 100])\n"
          ]
        }
      ],
      "source": [
        "## 실습 : 전체 데이터를 한번에 가져오고, 이 결과를 기반으로 Report출력\n",
        "train_dataloader = torch.utils.data.DataLoader(train_dataset,\n",
        "                                               batch_size=len(train_dataset),\n",
        "                                               shuffle=False, num_workers=1)\n",
        "\n",
        "labels, predicted,images, names = None, None, None, None\n",
        "with torch.no_grad():\n",
        "  for images, names,  labels in train_dataloader:\n",
        "    continue\n",
        "\n",
        "names = np.array(list(names))\n",
        "\n",
        "print(images.shape, np.shape(names), labels.shape)\n",
        "\n",
        "\n",
        "images = images.squeeze()\n",
        "print(images.shape)\n",
        "\n",
        "#images = images.view(images.shape[0], -1)\n",
        "#images.shape"
      ]
    },
    {
      "cell_type": "code",
      "execution_count": null,
      "metadata": {
        "id": "vHG6U_ttWJWn",
        "colab": {
          "base_uri": "https://localhost:8080/",
          "height": 1000
        },
        "outputId": "6643c415-92e4-4f1f-9e7c-804f3d504a05"
      },
      "outputs": [
        {
          "output_type": "error",
          "ename": "RuntimeError",
          "evalue": "ignored",
          "traceback": [
            "\u001b[0;31m---------------------------------------------------------------------------\u001b[0m",
            "\u001b[0;31mRuntimeError\u001b[0m                              Traceback (most recent call last)",
            "\u001b[0;32m<ipython-input-115-97a55c304395>\u001b[0m in \u001b[0;36m<cell line: 6>\u001b[0;34m()\u001b[0m\n\u001b[1;32m      7\u001b[0m \u001b[0;34m\u001b[0m\u001b[0m\n\u001b[1;32m      8\u001b[0m   \u001b[0mplt\u001b[0m\u001b[0;34m.\u001b[0m\u001b[0msubplot\u001b[0m\u001b[0;34m(\u001b[0m\u001b[0;36m1\u001b[0m\u001b[0;34m,\u001b[0m \u001b[0;36m2\u001b[0m\u001b[0;34m,\u001b[0m \u001b[0mi\u001b[0m\u001b[0;34m+\u001b[0m\u001b[0;36m1\u001b[0m\u001b[0;34m)\u001b[0m\u001b[0;34m\u001b[0m\u001b[0;34m\u001b[0m\u001b[0m\n\u001b[0;32m----> 9\u001b[0;31m   \u001b[0mplt\u001b[0m\u001b[0;34m.\u001b[0m\u001b[0mimshow\u001b[0m\u001b[0;34m(\u001b[0m\u001b[0mimages\u001b[0m\u001b[0;34m[\u001b[0m\u001b[0midx\u001b[0m\u001b[0;34m]\u001b[0m\u001b[0;34m.\u001b[0m\u001b[0mreshape\u001b[0m\u001b[0;34m(\u001b[0m\u001b[0;36m256\u001b[0m\u001b[0;34m,\u001b[0m\u001b[0;36m256\u001b[0m\u001b[0;34m,\u001b[0m\u001b[0;36m3\u001b[0m\u001b[0;34m)\u001b[0m\u001b[0;34m,\u001b[0m \u001b[0mcmap\u001b[0m\u001b[0;34m=\u001b[0m\u001b[0;34m'gray_r'\u001b[0m\u001b[0;34m)\u001b[0m\u001b[0;34m\u001b[0m\u001b[0;34m\u001b[0m\u001b[0m\n\u001b[0m\u001b[1;32m     10\u001b[0m   \u001b[0mplt\u001b[0m\u001b[0;34m.\u001b[0m\u001b[0mtitle\u001b[0m\u001b[0;34m(\u001b[0m\u001b[0;34m'Digit : {} '\u001b[0m\u001b[0;34m.\u001b[0m\u001b[0mformat\u001b[0m\u001b[0;34m(\u001b[0m\u001b[0mnames\u001b[0m\u001b[0;34m[\u001b[0m\u001b[0midx\u001b[0m\u001b[0;34m]\u001b[0m\u001b[0;34m)\u001b[0m\u001b[0;34m,\u001b[0m \u001b[0mfontsize\u001b[0m\u001b[0;34m=\u001b[0m\u001b[0;36m14\u001b[0m\u001b[0;34m)\u001b[0m\u001b[0;34m\u001b[0m\u001b[0;34m\u001b[0m\u001b[0m\n\u001b[1;32m     11\u001b[0m   \u001b[0mplt\u001b[0m\u001b[0;34m.\u001b[0m\u001b[0mxticks\u001b[0m\u001b[0;34m(\u001b[0m\u001b[0;34m[\u001b[0m\u001b[0;34m]\u001b[0m\u001b[0;34m)\u001b[0m\u001b[0;34m;\u001b[0m \u001b[0mplt\u001b[0m\u001b[0;34m.\u001b[0m\u001b[0myticks\u001b[0m\u001b[0;34m(\u001b[0m\u001b[0;34m[\u001b[0m\u001b[0;34m]\u001b[0m\u001b[0;34m)\u001b[0m\u001b[0;34m\u001b[0m\u001b[0;34m\u001b[0m\u001b[0m\n",
            "\u001b[0;31mRuntimeError\u001b[0m: shape '[256, 256, 3]' is invalid for input of size 30000"
          ]
        },
        {
          "output_type": "display_data",
          "data": {
            "text/plain": [
              "<Figure size 1500x1000 with 1 Axes>"
            ],
            "image/png": "[encoded data removed]"
          },
          "metadata": {}
        }
      ],
      "source": [
        "### 실습 : label 이 0인 이미지 중 5개만 추려서 출력해 봅시다\n",
        "target_index = np.where(labels == 0)[0]\n",
        "random_idx = np.random.choice(target_index, 2)\n",
        "\n",
        "plt.figure(figsize=(15, 10))\n",
        "for i, idx in enumerate(random_idx):\n",
        "\n",
        "  plt.subplot(1, 2, i+1)\n",
        "  plt.imshow(images[idx].reshape(256,256,3), cmap='gray_r')\n",
        "  plt.title('Digit : {} '.format(names[idx]), fontsize=14)\n",
        "  plt.xticks([]); plt.yticks([])\n"
      ]
    },
    {
      "cell_type": "code",
      "execution_count": null,
      "metadata": {
        "id": "slT5q4HWOkKL"
      },
      "outputs": [],
      "source": []
    }
  ],
  "metadata": {
    "colab": {
      "provenance": [],
      "gpuType": "T4",
      "include_colab_link": true
    },
    "kernelspec": {
      "display_name": "Python 3",
      "name": "python3"
    },
    "language_info": {
      "name": "python"
    },
    "accelerator": "GPU"
  },
  "nbformat": 4,
  "nbformat_minor": 0
}