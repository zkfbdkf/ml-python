{
  "nbformat": 4,
  "nbformat_minor": 0,
  "metadata": {
    "colab": {
      "provenance": [],
      "authorship_tag": "ABX9TyNvmi8obaYr1Erzq9mfjPi7",
      "include_colab_link": true
    },
    "kernelspec": {
      "name": "python3",
      "display_name": "Python 3"
    },
    "language_info": {
      "name": "python"
    }
  },
  "cells": [
    {
      "cell_type": "markdown",
      "metadata": {
        "id": "view-in-github",
        "colab_type": "text"
      },
      "source": [
        "<a href=\"https://colab.research.google.com/github/chminPark/ml-python/blob/master/%5B%ED%95%99%EC%83%9D%EC%9A%A9%5D%EC%8B%A4%EC%8A%B52_3%EC%9D%BC%EC%B0%A8_Backpropagation.ipynb\" target=\"_parent\"><img src=\"https://colab.research.google.com/assets/colab-badge.svg\" alt=\"Open In Colab\"/></a>"
      ]
    },
    {
      "cell_type": "markdown",
      "source": [
        "### Backpropagation의 순서\n",
        "* 784개의 입력이 들어가고, 10개의 class를 분류하는 문제임 \n",
        "* Foreward path를 통해 10개 Class 각각에 대한 확률을 계산 (feat Softmax)\n",
        "* Backward path를 통해 각 Layer의 인자들을 계산한다. \n",
        "\n",
        "![](https://drive.google.com/uc?export=view&id=1cz59PIGod0O0M17cfzSRM6DmjE5CIyLh)\n",
        "\n",
        "\n",
        "\n"
      ],
      "metadata": {
        "id": "DySJTPnDie4f"
      }
    },
    {
      "cell_type": "code",
      "source": [
        "# Pytorch로 개발하기 위한 Library\n",
        "import torch\n",
        "import torch.nn as nn\n",
        "import torch.nn.functional as F\n",
        "import torch.optim as optim\n",
        "import matplotlib.pyplot as plt\n",
        "\n",
        "import os\n",
        "import gzip\n",
        "import numpy as np\n",
        "from urllib import request\n",
        "from tqdm import tqdm\n",
        "\n",
        "torch.__version__"
      ],
      "metadata": {
        "colab": {
          "base_uri": "https://localhost:8080/",
          "height": 35
        },
        "id": "0smk9wP0Jw3w",
        "outputId": "40ae5f63-8497-4cfe-fc72-464c476add5c"
      },
      "execution_count": null,
      "outputs": [
        {
          "output_type": "execute_result",
          "data": {
            "text/plain": [
              "'1.13.0+cu116'"
            ],
            "application/vnd.google.colaboratory.intrinsic+json": {
              "type": "string"
            }
          },
          "metadata": {},
          "execution_count": 1
        }
      ]
    },
    {
      "cell_type": "markdown",
      "source": [
        "## MNIST 데이터셋\n",
        "* MNIST는 사람 손으로 쓴 0~9까지의 숫자 이미지로 이루어진 컴퓨터 비젼 데이터셋\n",
        "* 28 x 28 (784 pixels) 의 흑백 이미지로 구성되어 있음\n",
        "\n",
        "<img src=\"https://mblogthumb-phinf.pstatic.net/MjAxODEwMjNfMjg1/MDAxNTQwMjg0ODM2OTQz.OUbvtSh54EYNfjBCpE13-jAOD2KrVQ6BEegpa6IokU4g.pFVcA3eevZE_Enm9g4awAQVPzROLzt6IGcvTRILTZw4g.PNG.ackbary/image.png?type=w800\" height=\"100px\" width=\"400px\">\n",
        "\n"
      ],
      "metadata": {
        "id": "zng4q51VQali"
      }
    },
    {
      "cell_type": "code",
      "source": [
        "#Download MNIST Dataset\n",
        "\n",
        "mnist_url = \"http://yann.lecun.com/exdb/mnist/\"\n",
        "files = [\"train-images-idx3-ubyte.gz\",\"t10k-images-idx3-ubyte.gz\",\"train-labels-idx1-ubyte.gz\",\"t10k-labels-idx1-ubyte.gz\"]\n",
        "if not os.path.exists('mnist'):\n",
        "  os.mkdir('mnist')\n",
        "for file in files: \n",
        "  if not os.path.isfile('mnist/'+file):\n",
        "    request.urlretrieve(mnist_url+file, 'mnist/'+file)\n"
      ],
      "metadata": {
        "id": "9BoCS4ooQY7B"
      },
      "execution_count": null,
      "outputs": []
    },
    {
      "cell_type": "code",
      "source": [
        "# Bype 정보에서 MNIST 데이터 확보 \n",
        "with gzip.open('mnist/train-images-idx3-ubyte.gz', 'r') as f:\n",
        "  magic_number = int.from_bytes(f.read(4), 'big')\n",
        "  num_images_training = int.from_bytes(f.read(4), 'big')\n",
        "  row_count = int.from_bytes(f.read(4), 'big')\n",
        "  column_count = int.from_bytes(f.read(4), 'big')\n",
        "  train_images_data = f.read()\n",
        "  train_images = np.frombuffer(train_images_data, dtype=np.uint8).reshape(num_images_training, row_count, column_count)\n",
        "\n",
        "with gzip.open('mnist/train-labels-idx1-ubyte.gz', 'r') as f:\n",
        "  magic_number = int.from_bytes(f.read(4), 'big')\n",
        "  label_count = int.from_bytes(f.read(4), 'big')\n",
        "  train_labels_data = f.read()\n",
        "  train_labels = np.frombuffer(train_labels_data, dtype=np.uint8)\n",
        "\n",
        "with gzip.open('mnist/t10k-images-idx3-ubyte.gz', 'r') as f:\n",
        "  magic_number = int.from_bytes(f.read(4), 'big')\n",
        "  num_images_test = int.from_bytes(f.read(4), 'big')\n",
        "  row_count = int.from_bytes(f.read(4), 'big')\n",
        "  column_count = int.from_bytes(f.read(4), 'big')\n",
        "  test_images_data = f.read()\n",
        "  test_images = np.frombuffer(test_images_data, dtype=np.uint8).reshape(num_images_test, row_count, column_count)\n",
        "\n",
        "with gzip.open('mnist/t10k-labels-idx1-ubyte.gz', 'r') as f:\n",
        "  magic_number = int.from_bytes(f.read(4), 'big')\n",
        "  label_count = int.from_bytes(f.read(4), 'big')\n",
        "  test_labels_data = f.read()\n",
        "  test_labels = np.frombuffer(test_labels_data, dtype=np.uint8) \n",
        "\n",
        "print(\"Training Images Shape:\" , train_images.shape)\n",
        "print(\"Training Labels Shape:\" ,train_labels.shape)\n",
        "print(\"Test Images Shape:\" ,test_images.shape)\n",
        "print(\"Test Labels Shape:\" ,test_labels.shape)\n",
        "\n"
      ],
      "metadata": {
        "colab": {
          "base_uri": "https://localhost:8080/"
        },
        "id": "QCX3wr0eQmmq",
        "outputId": "e8415faf-a8e4-42ac-c45c-b71b166f03a2"
      },
      "execution_count": null,
      "outputs": [
        {
          "output_type": "stream",
          "name": "stdout",
          "text": [
            "Training Images Shape: (60000, 28, 28)\n",
            "Training Labels Shape: (60000,)\n",
            "Test Images Shape: (10000, 28, 28)\n",
            "Test Labels Shape: (10000,)\n"
          ]
        }
      ]
    },
    {
      "cell_type": "code",
      "source": [
        "def display_dataset(images, labels):\n",
        "  idxs = np.random.choice(len(labels), 5, replace=False)\n",
        "  plt.figure(figsize=(10, 4))\n",
        "  for i, idx in enumerate(idxs):\n",
        "    \n",
        "    ################### 실습 : row 1개 col 5개의 이미지를 출력. 이미지는 plt.imshow로 출력합니다\n",
        "    ??\n",
        "    ??\n",
        "    #####################################################################\n",
        "    plt.title('Digit : {} '.format(labels[idx]), fontsize=14)\n",
        "    plt.xticks([]); plt.yticks([])"
      ],
      "metadata": {
        "id": "W6SZgLUmVEVz"
      },
      "execution_count": null,
      "outputs": []
    },
    {
      "cell_type": "code",
      "source": [
        "# 학습 데이터의 이미지 \n",
        "display_dataset(train_images, train_labels)"
      ],
      "metadata": {
        "colab": {
          "base_uri": "https://localhost:8080/",
          "height": 148
        },
        "id": "iyZkMZr7QmRV",
        "outputId": "0c3ec035-ac7e-4850-941a-352fa6625406"
      },
      "execution_count": null,
      "outputs": [
        {
          "output_type": "display_data",
          "data": {
            "text/plain": [
              "<Figure size 720x288 with 5 Axes>"
            ],
            "image/png": "[encoded data removed]"
          },
          "metadata": {}
        }
      ]
    },
    {
      "cell_type": "code",
      "source": [
        "# 평가 데이터의 이미지 \n",
        "display_dataset(test_images, test_labels)"
      ],
      "metadata": {
        "colab": {
          "base_uri": "https://localhost:8080/",
          "height": 148
        },
        "id": "Mbci8Cd4XICr",
        "outputId": "61587373-4918-4b05-ca8d-0fa043f4abf4"
      },
      "execution_count": null,
      "outputs": [
        {
          "output_type": "display_data",
          "data": {
            "text/plain": [
              "<Figure size 720x288 with 5 Axes>"
            ],
            "image/png": "[encoded data removed]"
          },
          "metadata": {}
        }
      ]
    },
    {
      "cell_type": "code",
      "source": [
        "train_images[0].shape, 28*28"
      ],
      "metadata": {
        "colab": {
          "base_uri": "https://localhost:8080/"
        },
        "id": "mCrf8w0WwI4y",
        "outputId": "45110c07-d0b7-4360-d88d-8a9db757d841"
      },
      "execution_count": null,
      "outputs": [
        {
          "output_type": "execute_result",
          "data": {
            "text/plain": [
              "((28, 28), 784)"
            ]
          },
          "metadata": {},
          "execution_count": 7
        }
      ]
    },
    {
      "cell_type": "markdown",
      "source": [
        "### MLP 구성 : Foreward Propagation (1)\n",
        "\n",
        "* 금번 실습에서 non-linearity 를 추가하기 위해서 Activation Function으로 Sigmoid 활용.\n",
        "  * Sigmoid 함수 : $g(z) = \\frac{1}{1+ e^{-z}}$ \n",
        "  * Sigmoid 함수의 미분값 : $g'(z) = g(z)(1-g(z))$ \n",
        "  \n",
        "* 2nd Layer의 출력은 Softmax를 통과하여 0~1 사이의 값을 가진다. \n",
        "  * ${y}_{i}$ = $\\frac{e^{x_i}}{\\sum_{j=1}^{C}e^{x_j}}$ \n",
        "  * softmax 함수의 미분값:  $\\frac{\\partial {y}_i}{\\partial x_j} = \\begin{cases}\n",
        "    y_i(1-y_i)& \\quad \\text{if  } i = j\\\\\n",
        "    -y_iy_j &  \\quad \\text{if  } i \\neq j\n",
        "    \\end{cases}$"
      ],
      "metadata": {
        "id": "iy26kIOraRaJ"
      }
    },
    {
      "cell_type": "code",
      "source": [
        "def softmax(x):\n",
        "  exp = np.exp(x)\n",
        "  return exp/np.sum(exp, axis=1, keepdims=True)\n",
        "\n",
        "##########################################################\n",
        "##################### 실습: sigmoid 함수를 선언해 보세요\n",
        "def sigmoid(z):\n",
        "  exp = ??\n",
        "  return ??\n",
        "##########################################################"
      ],
      "metadata": {
        "id": "CgrMHKfIjlvG"
      },
      "execution_count": null,
      "outputs": []
    },
    {
      "cell_type": "code",
      "source": [
        "inputs = np.linspace(-10, 10, 100)\n",
        "figure = plt.figure(figsize=(15,15))\n",
        "\n",
        "fig, ax = plt.subplots(1,2, figsize=(15,5))\n",
        "\n",
        "ax[0].plot(inputs, sigmoid(inputs))\n",
        "ax[0].grid(True)\n",
        "ax[0].set_title('Sigmoid function')\n",
        "ax[0].set_xlabel('$x$')\n",
        "ax[0].set_ylabel('$S(x)$')\n",
        "\n",
        "x = np.linspace(0, 10, 100).reshape(1,-1)\n",
        "ax[1].plot(x[0], softmax(x)[0])\n",
        "ax[1].grid(True)\n",
        "ax[1].set_title('Softmax function')\n",
        "ax[1].set_xlabel('$x$')\n",
        "ax[1].set_ylabel('$Softmax(x)$')\n"
      ],
      "metadata": {
        "colab": {
          "base_uri": "https://localhost:8080/",
          "height": 387
        },
        "id": "R13bXj3djlWu",
        "outputId": "bc28f85c-cfb4-4600-ae97-269593c97457"
      },
      "execution_count": null,
      "outputs": [
        {
          "output_type": "execute_result",
          "data": {
            "text/plain": [
              "Text(0, 0.5, '$Softmax(x)$')"
            ]
          },
          "metadata": {},
          "execution_count": 9
        },
        {
          "output_type": "display_data",
          "data": {
            "text/plain": [
              "<Figure size 1080x1080 with 0 Axes>"
            ]
          },
          "metadata": {}
        },
        {
          "output_type": "display_data",
          "data": {
            "text/plain": [
              "<Figure size 1080x360 with 2 Axes>"
            ],
            "image/png": "[encoded data removed]"
          },
          "metadata": {
            "needs_background": "light"
          }
        }
      ]
    },
    {
      "cell_type": "markdown",
      "source": [
        "### MLP 구성 : Foreward Propagation (2)\n",
        "* `__init__()` : MLP 구성요소 선언\n",
        "* `foreward()` : foreward propagation\n",
        "\n",
        "1) 1st Linear Layer는 입력 X를 받아 선형연산을 통해 z[1] 을 결과로 만들어 준다 \n",
        "\n",
        "2) 1st Linear의 결과 z[1] 은 Activation function g() 를 통과해 a[1] 의 결과를 만들어 낸다 \n",
        "\n",
        "3) 2nd Linear Layer는 Activation function g()의 결과인 a[1]을 받아 z[2]를 만들어 낸다 \n",
        "\n",
        "4) Classification 문제이므로 softmax 를 통과 시켜 예측값을 만들어 낸다\n"
      ],
      "metadata": {
        "id": "jGNssfb6pgek"
      }
    },
    {
      "cell_type": "code",
      "source": [
        "input_size = 28*28\n",
        "output_size = 10\n",
        "hidden_size = 120"
      ],
      "metadata": {
        "id": "eB43wQPDptiS"
      },
      "execution_count": null,
      "outputs": []
    },
    {
      "cell_type": "code",
      "source": [
        "# 1st Linear Layer의 인자 \n",
        "W1 = np.random.normal(size=(input_size, hidden_size))\n",
        "b1 = np.random.normal(size=(1, hidden_size)) \n",
        "\n",
        "######################################################################\n",
        "##################### 실습: 2nd Linear Layer 의 인자를 선언해 보세요\n",
        "W2 = ??\n",
        "b2 = ??\n",
        "######################################################################"
      ],
      "metadata": {
        "id": "rQh5X-nOlwiy"
      },
      "execution_count": null,
      "outputs": []
    },
    {
      "cell_type": "code",
      "source": [
        "class SingleHIddenMLP:\n",
        "  def __init__(self, input_size, hidden_layer_size, output_size, activation):\n",
        "    \n",
        "    # 모델 구성에 필요한 인자 \n",
        "    self.input_size = input_size\n",
        "    self.hidden_layer_size = hidden_layer_size\n",
        "    self.output_size = output_size\n",
        "    self.activation = activation\n",
        "    \n",
        "    ###################### 실습: 1st Linear Layer의 인자를 구성해 보세요\n",
        "    self.W1 = ??\n",
        "    self.b1 = ??\n",
        "\n",
        "    ###################### 실습: 2nd Linear Layer의 인자를 구성해 보세요\n",
        "    self.W2 = ??\n",
        "    self.b2 = ??\n",
        "\n",
        "    \n",
        "\n",
        "  def forward(self,input):\n",
        "\n",
        "    ##### 입력을 만들어 봅시다. \n",
        "    batchsize = len(input)\n",
        "    input = ??\n",
        "    \n",
        "    ############### 실습 : 1st Linear Layer의 연산인 xW + b를 구현해 보세요\n",
        "    self.linear_l1 = ??\n",
        "    ##############################\n",
        "    \n",
        "    self.activation_l1 = self.activation(self.linear_l1)\n",
        "\n",
        "    ############### 실습 : 2nd Linear Layer의 연산인 self.activation_l1*W + b를 구현해 보세요\n",
        "    self.linear_l2 = ??\n",
        "\n",
        "    # Softmax activation for multi-class classification \n",
        "    activation_l2 = softmax(self.linear_l2)\n",
        "    return activation_l2\n"
      ],
      "metadata": {
        "id": "81bhVBcyYICx"
      },
      "execution_count": null,
      "outputs": []
    },
    {
      "cell_type": "code",
      "source": [
        "# 사진 1장을 넣었을 때의 결과는?\n",
        "model = SingleHIddenMLP(input_size=input_size, output_size=output_size, hidden_layer_size=hidden_size, activation=sigmoid)\n",
        "output =  model.forward(train_images[0:1])\n",
        "output, np.sum(output)"
      ],
      "metadata": {
        "colab": {
          "base_uri": "https://localhost:8080/"
        },
        "id": "VYaczKIBYHzh",
        "outputId": "a43a0b14-9da5-4003-f98a-595537f8dca8"
      },
      "execution_count": null,
      "outputs": [
        {
          "output_type": "stream",
          "name": "stderr",
          "text": [
            "<ipython-input-8-b4a916cc13d6>:8: RuntimeWarning: overflow encountered in exp\n",
            "  exp = np.exp(-z)\n"
          ]
        },
        {
          "output_type": "execute_result",
          "data": {
            "text/plain": [
              "(array([[3.88992184e-02, 5.80164660e-03, 1.63638560e-06, 8.60874248e-09,\n",
              "         8.79757645e-07, 1.78511367e-05, 9.49794262e-01, 4.51898181e-05,\n",
              "         3.29615801e-04, 5.10969113e-03]]), 1.0000000000000002)"
            ]
          },
          "metadata": {},
          "execution_count": 13
        }
      ]
    },
    {
      "cell_type": "markdown",
      "source": [
        "### MLP 구성 : Backward Propagation (1)\n",
        "* `__init__()` : MLP 구성요소 선언\n",
        "* `foreward()` : foreward propagation\n",
        "* `compute_loss()` : Compute Average Cross Entropy Loss\n",
        "* `update()` : GD방식을 이용하여 NN의 Weight 업데이트 "
      ],
      "metadata": {
        "id": "eM0SF6BKUs7U"
      }
    },
    {
      "cell_type": "code",
      "source": [
        "import numpy as np\n",
        "import matplotlib.pyplot as plt\n",
        "\n",
        "######### 실습 : 0~1 사이에 100개의 숫자를 만들어 보고, y=-log(x)를 계산하여 출력해 봅니다. \n",
        "\n",
        "x = ???  # 0~1 사이의 값을 만들어 본다 \n",
        "y = -np.log(x) \n",
        "plt.plot(x, y)"
      ],
      "metadata": {
        "colab": {
          "base_uri": "https://localhost:8080/",
          "height": 320
        },
        "id": "baPATqBNK8sn",
        "outputId": "274befbe-ebee-4fbb-90e1-1b5551f47930"
      },
      "execution_count": null,
      "outputs": [
        {
          "output_type": "stream",
          "name": "stderr",
          "text": [
            "<ipython-input-58-ce358242a560>:7: RuntimeWarning: divide by zero encountered in log\n",
            "  y = -np.log(x)\n"
          ]
        },
        {
          "output_type": "execute_result",
          "data": {
            "text/plain": [
              "[<matplotlib.lines.Line2D at 0x7f93f157f970>]"
            ]
          },
          "metadata": {},
          "execution_count": 58
        },
        {
          "output_type": "display_data",
          "data": {
            "text/plain": [
              "<Figure size 432x288 with 1 Axes>"
            ],
            "image/png": "[encoded data removed]"
          },
          "metadata": {
            "needs_background": "light"
          }
        }
      ]
    },
    {
      "cell_type": "code",
      "source": [
        "class SingleHIddenMLP:\n",
        "  def __init__(self, input_size, hidden_layer_size, output_size, activation, learning_rate):\n",
        "    \n",
        "    # 모델 구성에 필요한 인자 \n",
        "    self.input_size = input_size\n",
        "    self.hidden_layer_size = hidden_layer_size\n",
        "    self.output_size = output_size\n",
        "    self.activation = activation\n",
        "\n",
        "    # 학습에 필요한 인자 \n",
        "    self.learning_rate = learning_rate\n",
        "    \n",
        "    #1st Linear Layer의 인자를 구성해 보세요\n",
        "    self.W1 = np.random.normal(size=(self.input_size, self.hidden_layer_size))\n",
        "    self.b1 = np.random.normal(size=(1, self.hidden_layer_size,)) \n",
        "\n",
        "    #2nd Linear Layer의 인자를 구성해 보세요\n",
        "    self.W2 = np.random.normal(size=(self.hidden_layer_size, self.output_size))\n",
        "    self.b2 = np.random.normal(size=(1, self.output_size)) \n",
        "\n",
        "    # 1st Linear Layer의 Gradients\n",
        "    self.W1_grad = np.zeros(shape=(self.input_size, self.hidden_layer_size))\n",
        "    self.b1_grad = np.zeros(shape=(1, self.hidden_layer_size,)) \n",
        "\n",
        "    # 2nd Linear Layer의 Gradients\n",
        "    self.W2_grad = np.zeros(shape=(self.hidden_layer_size, self.output_size))\n",
        "    self.b2_grad = np.zeros(shape=(1, self.output_size))\n",
        "\n",
        "  def forward(self,input):\n",
        "\n",
        "    batchsize = len(input)\n",
        "    input = input.reshape(batchsize, -1)\n",
        "    \n",
        "    #1st Linear Layer의 연산인 xW + b & activation fucntion\n",
        "    self.linear_l1 = np.matmul(input, self.W1) + self.b1\n",
        "    self.activation_l1 = self.activation(self.linear_l1)\n",
        "\n",
        "    #2nd Linear Layer의 연산인 self.activation_l1*W + b \n",
        "    self.linear_l2 = np.matmul(self.activation_l1, self.W2) + self.b2\n",
        "    \n",
        "    # Softmax activation for multi-class classification \n",
        "    activation_l2 = softmax(self.linear_l2)\n",
        "    return activation_l2\n",
        "\n",
        "  def compute_loss(self,prediction, target):\n",
        "    ############## 실습 Cross Entropy Loss : target * log(softmax의 결과)\n",
        "    loss = ???\n",
        "    ####################################################################\n",
        "    loss = - np.sum(loss.flatten())/len(target)\n",
        "    return loss\n",
        "\n",
        "  def update(self):\n",
        "\n",
        "    ####실습 : Gradient Descent에 기반하여 Weight update\n",
        "    #### (ex. optimizer.step)\n",
        "    self.W1 -= ??\n",
        "    self.b1 -= ??\n",
        "    self.W2 -= ??\n",
        "    self.b2 -= ??\n",
        "    ##################################################\n",
        "\n",
        "    # Update 이후 초기화 (ex. Optimizer.zero_grad())\n",
        "    self.W1_grad = np.zeros(shape=(self.input_size, self.hidden_layer_size))\n",
        "    self.b1_grad = np.zeros(shape=(1, self.hidden_layer_size,)) \n",
        "    self.W2_grad = np.zeros(shape=(self.hidden_layer_size, self.output_size))\n",
        "    self.b2_grad = np.zeros(shape=(1, self.output_size)) \n"
      ],
      "metadata": {
        "id": "wAQhmyLVUr3n"
      },
      "execution_count": null,
      "outputs": []
    },
    {
      "cell_type": "code",
      "source": [
        "# 사진 1장을 넣었을 때의 결과는?\n",
        "############### 실습 : 모델을 선언하고 입력에 대한 예측을 수행해 본다. \n",
        "model = ??\n",
        "predictions =  ??\n",
        "###################################################################################\n",
        "\n",
        "plt.imshow(train_images[0], cmap='gray_r')\n",
        "\n",
        "print (f\"예측값은 예측할 Class의 개수의 크기 : {predictions.shape}\")\n",
        "\n",
        "######## 실습 : 예측한 Class 를 확인한다\n",
        "######## 길이 10 array 내 가장 큰 수를 가진 인자의 Index 값이 예측 Class\n",
        "pred_label = ??\n",
        "#################################################################\n",
        "\n",
        "plt.title(f\"True Label is {train_labels[0]}, Pred Label is {pred_label}\")\n",
        "target = np.eye(10)[train_labels[0]]\n",
        "print(f\"Cross Entropy Loss is {model.compute_loss(predictions, target)}\")\n",
        "print (f\"Predicted Label: {pred_label}\")\n",
        "\n",
        "### Optimal Loss\n",
        "print(f\"원하는 Loss는 : {model.compute_loss(np.array([0.0001, 0.0001, 0.0001, 0.0001, 0.0001, 0.9991, 0.0001, 0.0001,0.0001, 0.0001]), target)}\")"
      ],
      "metadata": {
        "colab": {
          "base_uri": "https://localhost:8080/",
          "height": 391
        },
        "id": "n-Fx6ZjnX5Ld",
        "outputId": "16da58b7-f479-4609-ca7a-9b7d3363be3f"
      },
      "execution_count": null,
      "outputs": [
        {
          "output_type": "stream",
          "name": "stderr",
          "text": [
            "<ipython-input-8-b4a916cc13d6>:8: RuntimeWarning: overflow encountered in exp\n",
            "  exp = np.exp(-z)\n"
          ]
        },
        {
          "output_type": "stream",
          "name": "stdout",
          "text": [
            "예측값은 예측할 Class의 개수의 크기 : (1, 10)\n",
            "Cross Entropy Loss is 0.5777526495257925\n",
            "Predicted Label: 3\n",
            "원하는 Loss는 : 9.00405243164155e-05\n"
          ]
        },
        {
          "output_type": "display_data",
          "data": {
            "text/plain": [
              "<Figure size 432x288 with 1 Axes>"
            ],
            "image/png": "[encoded data removed]"
          },
          "metadata": {
            "needs_background": "light"
          }
        }
      ]
    },
    {
      "cell_type": "markdown",
      "source": [
        "### MLP 구성 : Backward Propagation (2)\n",
        "* `__init__()` : MLP 구성요소 선언\n",
        "* `foreward()` : foreward propagation\n",
        "* `compute_loss()` : Compute Cross Entropy Loss\n",
        "* `update()` : SGD방식을 이용하여 NN의 Weight 업데이트 \n",
        "* `backward()` : backward propagation\n",
        "\n",
        "[수행방향]\n",
        "\n",
        "1) W2와 b2 로 Cost를 미분한 값을 계산한다. \n",
        "2) W1과 b1으로 Cost를 미분한 값을 계산한다. "
      ],
      "metadata": {
        "id": "nPDzM6qkzRIk"
      }
    },
    {
      "cell_type": "code",
      "source": [
        "def softmax_grad(softmax_output):\n",
        "  return np.diag(softmax_output.squeeze()) - np.matmul(softmax_output.T, softmax_output)\n",
        "\n",
        "##########################################################\n",
        "##################### 실습: sigmoid 의 Gradient 를 선언해 보세요\n",
        "def sigmoid_grad(sigmoid_output):\n",
        "  return ??\n",
        "##########################################################\n",
        "\n",
        "inputs = np.linspace(-10, 10, 100)\n",
        "figure = plt.figure(figsize=(15,15))\n",
        "\n",
        "fig, ax = plt.subplots(1,2, figsize=(15,5))\n",
        "\n",
        "ax[0].plot(inputs, sigmoid(inputs))\n",
        "ax[0].grid(True)\n",
        "ax[0].set_title('Sigmoid function')\n",
        "ax[0].set_xlabel('$x$')\n",
        "ax[0].set_ylabel('$S(x)$')\n",
        "\n",
        "ax[1].plot(inputs, sigmoid_grad(sigmoid(inputs)))\n",
        "ax[1].grid(True)\n",
        "ax[1].set_title('Gradient of Sigmoid')\n",
        "ax[1].set_xlabel('$x$')\n",
        "ax[1].set_ylabel('$S(x)$')\n",
        "\n"
      ],
      "metadata": {
        "colab": {
          "base_uri": "https://localhost:8080/",
          "height": 387
        },
        "id": "C23QnRHC8CBK",
        "outputId": "15b08812-2455-4e62-f3ed-e35bef251133"
      },
      "execution_count": null,
      "outputs": [
        {
          "output_type": "execute_result",
          "data": {
            "text/plain": [
              "Text(0, 0.5, '$S(x)$')"
            ]
          },
          "metadata": {},
          "execution_count": 16
        },
        {
          "output_type": "display_data",
          "data": {
            "text/plain": [
              "<Figure size 1080x1080 with 0 Axes>"
            ]
          },
          "metadata": {}
        },
        {
          "output_type": "display_data",
          "data": {
            "text/plain": [
              "<Figure size 1080x360 with 2 Axes>"
            ],
            "image/png": "[encoded data removed]"
          },
          "metadata": {
            "needs_background": "light"
          }
        }
      ]
    },
    {
      "cell_type": "code",
      "source": [
        "class SingleHIddenMLP:\n",
        "  def __init__(self, input_size, hidden_layer_size, output_size, activation, activation_grad, learning_rate):\n",
        "    \n",
        "    # 모델 구성에 필요한 인자 \n",
        "    self.input_size = input_size\n",
        "    self.hidden_layer_size = hidden_layer_size\n",
        "    self.output_size = output_size\n",
        "    self.activation = activation\n",
        "\n",
        "    # 학습에 필요한 인자 \n",
        "    self.activation_grad = activation_grad\n",
        "    self.learning_rate = learning_rate\n",
        "    \n",
        "    #1st Linear Layer의 인자를 구성해 보세요\n",
        "    self.W1 = np.random.normal(size=(self.input_size, self.hidden_layer_size))\n",
        "    self.b1 = np.random.normal(size=(1, self.hidden_layer_size,)) \n",
        "\n",
        "    #2nd Linear Layer의 인자를 구성해 보세요\n",
        "    self.W2 = np.random.normal(size=(self.hidden_layer_size, self.output_size))\n",
        "    self.b2 = np.random.normal(size=(1, self.output_size)) \n",
        "\n",
        "    # 1st Linear Layer의 Gradients\n",
        "    self.W1_grad = np.zeros(shape=(self.input_size, self.hidden_layer_size))\n",
        "    self.b1_grad = np.zeros(shape=(1, self.hidden_layer_size,)) \n",
        "\n",
        "    # 2nd Linear Layer의 Gradients\n",
        "    self.W2_grad = np.zeros(shape=(self.hidden_layer_size, self.output_size))\n",
        "    self.b2_grad = np.zeros(shape=(1, self.output_size))\n",
        "\n",
        "  def forward(self,input):\n",
        "\n",
        "    batchsize = len(input)\n",
        "    input = input.reshape(batchsize, -1)\n",
        "    \n",
        "    #1st Linear Layer의 연산인 xW + b & activation fucntion\n",
        "    self.linear_l1 = np.matmul(input, self.W1) + self.b1\n",
        "    self.activation_l1 = self.activation(self.linear_l1)\n",
        "\n",
        "    #2nd Linear Layer의 연산인 self.activation_l1*W + b \n",
        "    self.linear_l2 = np.matmul(self.activation_l1, self.W2) + self.b2\n",
        "    \n",
        "    # Softmax activation for multi-class classification \n",
        "    activation_l2 = softmax(self.linear_l2)\n",
        "    return activation_l2\n",
        "\n",
        "  def compute_loss(self,prediction, target):\n",
        "    loss = target * np.log(prediction)\n",
        "    loss = - np.sum(loss.flatten())/len(target)\n",
        "    return loss\n",
        "\n",
        "  def update(self):\n",
        "    self.W1 -= self.learning_rate * self.W1_grad\n",
        "    self.b1 -= self.learning_rate * self.b1_grad\n",
        "    self.W2 -= self.learning_rate * self.W2_grad\n",
        "    self.b2 -= self.learning_rate * self.b2_grad\n",
        "\n",
        "\n",
        "    # Update 이후 초기화\n",
        "    self.W1_grad = np.zeros(shape=(self.input_size, self.hidden_layer_size))\n",
        "    self.b1_grad = np.zeros(shape=(1, self.hidden_layer_size,)) \n",
        "    self.W2_grad = np.zeros(shape=(self.hidden_layer_size, self.output_size))\n",
        "    self.b2_grad = np.zeros(shape=(1, self.output_size)) \n",
        "\n",
        "  def backward(self,prediction, target, input):\n",
        "    \n",
        "    batchsize = len(input)  # 계산하는 Image의 갯수\n",
        "    input = input.reshape(batchsize, -1)    \n",
        "\n",
        "    # 역전파 Step 1: dCost/dy \n",
        "    gradient_activation_l2 = ???\n",
        "\n",
        "    # 역전파 Step 2: dCost/dz[2]\n",
        "    gradient_linear_l2 = ???\n",
        "    \n",
        "    # 역전파 Step 3: dCost/dW[2], dCost/db[2], dCost/da[1]\n",
        "    self.W2_grad = ???\n",
        "    self.b2_grad = ???\n",
        "    gradient_activation_l1 = ???\n",
        "\n",
        "    # 역전파 Step 4: dCost/dz[1], dCost/dW[1]. dCost/db[1]\n",
        "    gradient_linear_l1 = ???\n",
        "    self.W1_grad = ???\n",
        "    self.b1_grad = ???\n",
        "    \n",
        "    return\n"
      ],
      "metadata": {
        "id": "RZrHOOdzUry-"
      },
      "execution_count": null,
      "outputs": []
    },
    {
      "cell_type": "markdown",
      "source": [
        "### 학습 및 평가 \n",
        "* 입력 크기 : 28x28=784\n",
        "* hidden layer 크기 = 120\n",
        "* output 크기 : 10 (0~9 까지의 숫자를 맞추는 문제)\n",
        "* 이미지 별로 학습을 수행하며, Epoch = 3"
      ],
      "metadata": {
        "id": "5YYLnTE9hiBx"
      }
    },
    {
      "cell_type": "code",
      "source": [
        "np.random.seed(0)\n",
        "\n",
        "### 모델 선언 시 Weight들의 초기화는 이루어져 있음\n",
        "model = SingleHIddenMLP(input_size=784, hidden_layer_size=120, \n",
        "                        output_size=10, activation=sigmoid, activation_grad=sigmoid_grad, \n",
        "                        learning_rate=0.1)\n",
        "max_epoches = 3\n",
        "for epoch in tqdm(range(max_epoches)):\n",
        "  indices = np.arange(len(train_images))\n",
        "  \n",
        "  ##### 섞어줌\n",
        "  np.random.shuffle(indices)\n",
        "  train_images_shuffle = train_images[indices]\n",
        "  train_labels_shuffle = train_labels[indices]\n",
        "\n",
        "  running_loss = 0.0\n",
        "  for i in range(len(train_images)):\n",
        "\n",
        "    ################## 실습 : 입력 이미지는 Normalization \n",
        "    input = ???\n",
        "    ##################################################\n",
        "    label = train_labels_shuffle[i:i+1]\n",
        "\n",
        "    ############### 실습 : Cross Entropy계산을 위한 one-hot Vector생성\n",
        "    label_onehot = ???\n",
        "    ##################################################\n",
        "\n",
        "    # 예측값 생성 \n",
        "    prediction = model.forward(input)\n",
        "    running_loss += model.compute_loss(prediction, label_onehot)\n",
        "\n",
        "    ########## 실습:  Backpropagation을 통해 모델 학습 \n",
        "    model.???\n",
        "    model.???\n",
        "    ##################################################\n",
        "  print('Loss = {}'.format(running_loss/len(train_images)))\n",
        "print('Training Finished')"
      ],
      "metadata": {
        "colab": {
          "base_uri": "https://localhost:8080/"
        },
        "id": "7rH4d8Cufjj7",
        "outputId": "913095bb-5586-404b-c086-f698ac917125"
      },
      "execution_count": null,
      "outputs": [
        {
          "output_type": "stream",
          "name": "stderr",
          "text": [
            " 33%|███▎      | 1/3 [01:55<03:51, 115.85s/it]"
          ]
        },
        {
          "output_type": "stream",
          "name": "stdout",
          "text": [
            "Loss = 0.49819821792671876\n"
          ]
        },
        {
          "output_type": "stream",
          "name": "stderr",
          "text": [
            "\r 67%|██████▋   | 2/3 [03:40<01:49, 109.11s/it]"
          ]
        },
        {
          "output_type": "stream",
          "name": "stdout",
          "text": [
            "Loss = 0.23073435284357266\n"
          ]
        },
        {
          "output_type": "stream",
          "name": "stderr",
          "text": [
            "100%|██████████| 3/3 [05:39<00:00, 113.04s/it]"
          ]
        },
        {
          "output_type": "stream",
          "name": "stdout",
          "text": [
            "Loss = 0.17938796385863306\n",
            "Training Finished\n"
          ]
        },
        {
          "output_type": "stream",
          "name": "stderr",
          "text": [
            "\n"
          ]
        }
      ]
    },
    {
      "cell_type": "code",
      "source": [
        "######### 정규화를 해도 문제가 없습니다. \n",
        "fig, ax = plt.subplots(1, 2)\n",
        "ax[0].imshow(train_images[0], cmap='gray_r')\n",
        "ax[1].imshow(train_images[0]/255.0, cmap='gray_r') # 흑백이미지에서 0:Black, 255: White"
      ],
      "metadata": {
        "id": "kngI6P6Zi0Ah",
        "colab": {
          "base_uri": "https://localhost:8080/",
          "height": 219
        },
        "outputId": "0c725c06-ab04-4817-f275-7303d4a2237f"
      },
      "execution_count": null,
      "outputs": [
        {
          "output_type": "execute_result",
          "data": {
            "text/plain": [
              "<matplotlib.image.AxesImage at 0x7f93f2843ca0>"
            ]
          },
          "metadata": {},
          "execution_count": 19
        },
        {
          "output_type": "display_data",
          "data": {
            "text/plain": [
              "<Figure size 432x288 with 2 Axes>"
            ],
            "image/png": "[encoded data removed]"
          },
          "metadata": {
            "needs_background": "light"
          }
        }
      ]
    },
    {
      "cell_type": "code",
      "source": [
        "# 학습된 모델에 대한 성능 평가 \n",
        "prediction = model.forward(test_images)\n",
        "prediction_label = np.argmax(prediction, axis=1)\n",
        "\n",
        "# Accuracy : 예측값과 정답값이 같은 비중\n",
        "test_acc = np.sum((prediction_label == test_labels))/len(test_labels)\n",
        "print('Test Accuracy = {:.2f}'.format(100*test_acc))\n",
        "\n",
        "# Plotting results\n",
        "idxs = np.random.choice(len(test_labels), 10, replace=False)\n",
        "plt.figure(figsize=(16, 8))\n",
        "predict = model.forward(test_images[idxs])\n",
        "pred_label = np.argmax(predict, axis=1)\n",
        "for i, idx in enumerate(idxs):\n",
        "  plt.subplot(2, 5, i + 1)\n",
        "  plt.imshow(test_images[idx], cmap='gray_r')\n",
        "  plt.title('Predicted Digit : {} '.format(pred_label[i]), fontsize=14)\n",
        "  plt.xticks([]); plt.yticks([])"
      ],
      "metadata": {
        "colab": {
          "base_uri": "https://localhost:8080/",
          "height": 472
        },
        "id": "LIH8lVzYjIQD",
        "outputId": "252edd00-de06-402c-cc79-183c5be0115a"
      },
      "execution_count": null,
      "outputs": [
        {
          "output_type": "stream",
          "name": "stderr",
          "text": [
            "<ipython-input-8-b4a916cc13d6>:8: RuntimeWarning: overflow encountered in exp\n",
            "  exp = np.exp(-z)\n"
          ]
        },
        {
          "output_type": "stream",
          "name": "stdout",
          "text": [
            "Test Accuracy = 10.79\n"
          ]
        },
        {
          "output_type": "display_data",
          "data": {
            "text/plain": [
              "<Figure size 1152x576 with 10 Axes>"
            ],
            "image/png": "[encoded data removed]"
          },
          "metadata": {}
        }
      ]
    },
    {
      "cell_type": "markdown",
      "source": [
        "## nn.Linear 로 구현해 봅시다 \n",
        "\n",
        "* Pytorch 의 CrossEntropyLoss는 내부적으로 입력을 Softmax 처리하므로 모델의 마지막에 softmax가 없어도 됩니다 "
      ],
      "metadata": {
        "id": "qNlo4KSdlEDv"
      }
    },
    {
      "cell_type": "code",
      "source": [
        "import torch\n",
        "import torch.nn as nn\n",
        "import torch.nn.functional as F\n",
        "import torch.optim as optim\n",
        "import numpy as np\n",
        "import matplotlib.pyplot as plt\n",
        "\n",
        "class LinearRegressionModel(nn.Module):\n",
        "\n",
        "  def __init__(self, input_size, hidden_layer_size, output_size):\n",
        "    super().__init__()\n",
        "\n",
        "    ############ 실습 : 위에 구현한 모델을 Pytorch로 구현해 봅니다. \n",
        "    #### Pytorch의  Cross Entropy Loss는 내부적으로 입력을 Softmax처리\n",
        "    #### 하므로 모델의 마지막에 Softmax가 없어도 됩니다. \n",
        "    self.linear = ???\n",
        "    ###################################\n",
        "\n",
        "  def forward(self, x):\n",
        "      return self.linear(x)"
      ],
      "metadata": {
        "id": "sBKU-a02jl5P"
      },
      "execution_count": null,
      "outputs": []
    },
    {
      "cell_type": "code",
      "source": [
        "####### 실습 : Numpy 이미지는 Tensor로 선언 \n",
        "x_train = ???\n",
        "x_test = ???\n",
        "y_train = ???\n",
        "y_test = ???\n",
        "################\n",
        "\n",
        "model = LinearRegressionModel(input_size=784, hidden_layer_size=120, output_size=10)\n",
        "preds = model(x_train)\n",
        "\n",
        "print(\"학습 전 예측결과\")\n",
        "display_dataset(train_images, np.argmax(preds.detach().numpy(), axis=1))\n",
        "\n",
        "loss =  nn.CrossEntropyLoss() # 내부적으로 소프트맥스 함수를 포함하고 있음.\n",
        "print(f\"Initial Cost: {loss(preds, y_train)}\")\n"
      ],
      "metadata": {
        "colab": {
          "base_uri": "https://localhost:8080/",
          "height": 185
        },
        "id": "KyaEPsgqnEG7",
        "outputId": "1153cff9-9c8a-48b9-c89f-a95cce085aa3"
      },
      "execution_count": null,
      "outputs": [
        {
          "output_type": "stream",
          "name": "stdout",
          "text": [
            "학습 전 예측결과\n",
            "Initial Cost: 2.321712017059326\n"
          ]
        },
        {
          "output_type": "display_data",
          "data": {
            "text/plain": [
              "<Figure size 720x288 with 5 Axes>"
            ],
            "image/png": "[encoded data removed]"
          },
          "metadata": {}
        }
      ]
    },
    {
      "cell_type": "code",
      "source": [
        "########## 실습 : SGD 최적화 모델 활용\n",
        "optimizer = ???\n",
        "#########################################################\n",
        "\n",
        "nb_epochs = 15 # 원하는만큼 경사 하강법을 반복\n",
        "for epoch in range(nb_epochs + 1):\n",
        "\n",
        "    preds = model(x_train)\n",
        "\n",
        "    cost = loss(preds, y_train)\n",
        "\n",
        "    ######## 실습 : SGD를 이용하여 학습을 수행합니다. \n",
        "    ??? # 초기화\n",
        "    ??? # gradient계산\n",
        "    ??? # 계산된 gradient 값을 이용하여 W,b 업데이트\n",
        "    #####################################################\n",
        "\n",
        "    if epoch % (nb_epochs/10) == 1:\n",
        "      print(f'Epoch {epoch:4d}/{nb_epochs}, Cost_train: {cost.item():.6f}')\n",
        "\n",
        "preds = model(x_train)\n",
        "print(\"학습 후 예측결과\")\n",
        "prediction_label = np.argmax(preds.detach().numpy(), axis=1)\n",
        "display_dataset(train_images,prediction_label)\n",
        "print(f\"Train accuracy :  {np.sum((prediction_label == train_labels))/len(train_labels)}\")\n",
        "\n",
        "preds_test = model(x_test)\n",
        "prediction_label = np.argmax(preds_test.detach().numpy(), axis=1)\n",
        "display_dataset(test_images, prediction_label)\n",
        "print(f\"Test accuracy :  {np.sum((prediction_label == test_labels))/len(test_labels)}\")\n"
      ],
      "metadata": {
        "colab": {
          "base_uri": "https://localhost:8080/",
          "height": 426
        },
        "id": "usqEYt1jl0si",
        "outputId": "a1809a7d-393e-448b-f9ea-27f37f6f4224"
      },
      "execution_count": null,
      "outputs": [
        {
          "output_type": "stream",
          "name": "stdout",
          "text": [
            "Epoch    1/15, Cost_train: 2.016064\n",
            "Epoch    4/15, Cost_train: 1.599279\n",
            "Epoch    7/15, Cost_train: 1.357389\n",
            "Epoch   10/15, Cost_train: 1.198328\n",
            "Epoch   13/15, Cost_train: 1.073400\n",
            "학습 후 예측결과\n",
            "Train accuracy :  0.8197166666666666\n",
            "Test accuracy :  0.825\n"
          ]
        },
        {
          "output_type": "display_data",
          "data": {
            "text/plain": [
              "<Figure size 720x288 with 5 Axes>"
            ],
            "image/png": "[encoded data removed]"
          },
          "metadata": {}
        },
        {
          "output_type": "display_data",
          "data": {
            "text/plain": [
              "<Figure size 720x288 with 5 Axes>"
            ],
            "image/png": "[encoded data removed]"
          },
          "metadata": {}
        }
      ]
    },
    {
      "cell_type": "code",
      "source": [
        "preds_test = model(x_test)\n",
        "prediction_label = np.argmax(preds_test.detach().numpy(), axis=1)\n",
        "display_dataset(test_images, prediction_label)\n",
        "print(f\"Test accuracy :  {np.sum((prediction_label == test_labels))/len(test_labels)}\")"
      ],
      "metadata": {
        "colab": {
          "base_uri": "https://localhost:8080/",
          "height": 166
        },
        "id": "yfer5kYRq8Zf",
        "outputId": "f6434106-bf1e-4323-a1db-fc1dee1e3f74"
      },
      "execution_count": null,
      "outputs": [
        {
          "output_type": "stream",
          "name": "stdout",
          "text": [
            "Test accuracy :  0.825\n"
          ]
        },
        {
          "output_type": "display_data",
          "data": {
            "text/plain": [
              "<Figure size 720x288 with 5 Axes>"
            ],
            "image/png": "[encoded data removed]"
          },
          "metadata": {}
        }
      ]
    },
    {
      "cell_type": "code",
      "source": [
        "test_labels.shape, prediction_label.shape"
      ],
      "metadata": {
        "colab": {
          "base_uri": "https://localhost:8080/"
        },
        "id": "3G_c5tINEyoS",
        "outputId": "e9ddede5-e363-4092-b469-ef24a9f8ec5a"
      },
      "execution_count": null,
      "outputs": [
        {
          "output_type": "execute_result",
          "data": {
            "text/plain": [
              "((10000,), (10000,))"
            ]
          },
          "metadata": {},
          "execution_count": 41
        }
      ]
    },
    {
      "cell_type": "markdown",
      "source": [],
      "metadata": {
        "id": "5k4xXrEBKLFu"
      }
    },
    {
      "cell_type": "code",
      "source": [
        "########### 실습 : 분류 성능을 평가해 봅니다. \n",
        "from sklearn.metrics import classification_report\n",
        "print(???)"
      ],
      "metadata": {
        "colab": {
          "base_uri": "https://localhost:8080/"
        },
        "id": "3yXcwEMvEtvl",
        "outputId": "66a6f87f-e8ce-4050-c0f9-72b40d25b238"
      },
      "execution_count": null,
      "outputs": [
        {
          "output_type": "stream",
          "name": "stdout",
          "text": [
            "              precision    recall  f1-score   support\n",
            "\n",
            "           0       0.88      0.97      0.92       980\n",
            "           1       0.88      0.98      0.93      1135\n",
            "           2       0.85      0.81      0.83      1032\n",
            "           3       0.70      0.87      0.78      1010\n",
            "           4       0.87      0.73      0.79       982\n",
            "           5       0.84      0.57      0.68       892\n",
            "           6       0.88      0.90      0.89       958\n",
            "           7       0.89      0.85      0.87      1028\n",
            "           8       0.89      0.63      0.74       974\n",
            "           9       0.67      0.89      0.76      1009\n",
            "\n",
            "    accuracy                           0.82     10000\n",
            "   macro avg       0.84      0.82      0.82     10000\n",
            "weighted avg       0.84      0.82      0.82     10000\n",
            "\n"
          ]
        }
      ]
    },
    {
      "cell_type": "code",
      "source": [
        "########### 실습 : 분류 성능을 평가해 봅니다. \n",
        "# Accuracy : # 전체 샘플중 맞게 예측한 샘플수 (TP + TN) / Total\n",
        "from sklearn.metrics import accuracy_score\n",
        "???"
      ],
      "metadata": {
        "colab": {
          "base_uri": "https://localhost:8080/"
        },
        "id": "4T7uHKHkFYfg",
        "outputId": "d46813ec-9c1d-4d32-a96f-020533b7ca5c"
      },
      "execution_count": null,
      "outputs": [
        {
          "output_type": "execute_result",
          "data": {
            "text/plain": [
              "0.825"
            ]
          },
          "metadata": {},
          "execution_count": 47
        }
      ]
    },
    {
      "cell_type": "code",
      "source": [
        "########### 실습 : 분류 성능을 평가해 봅니다. \n",
        "# Precision 정밀도 : 예측값 값의 정확도 \n",
        "from sklearn.metrics import precision_score\n",
        "# 각 label의 prediction을 계산 후 평균을 취함\n",
        "???"
      ],
      "metadata": {
        "colab": {
          "base_uri": "https://localhost:8080/"
        },
        "id": "OTJvOF61GBgX",
        "outputId": "ab6ed076-68d5-46e1-8dc7-3da041019e10"
      },
      "execution_count": null,
      "outputs": [
        {
          "output_type": "execute_result",
          "data": {
            "text/plain": [
              "0.8352866107956164"
            ]
          },
          "metadata": {},
          "execution_count": 55
        }
      ]
    },
    {
      "cell_type": "code",
      "source": [
        "########### 실습 : 분류 성능을 평가해 봅니다. \n",
        "# recall : 실제 Positive중 Positive라고 예측된 비중\n",
        "from sklearn.metrics import recall_score\n",
        "???"
      ],
      "metadata": {
        "colab": {
          "base_uri": "https://localhost:8080/"
        },
        "id": "fxsCybAUG5Ng",
        "outputId": "f37e343c-915b-49bc-a7c9-6193d02e9289"
      },
      "execution_count": null,
      "outputs": [
        {
          "output_type": "execute_result",
          "data": {
            "text/plain": [
              "0.8198829660968174"
            ]
          },
          "metadata": {},
          "execution_count": 56
        }
      ]
    },
    {
      "cell_type": "code",
      "source": [
        "########### 실습 : 분류 성능을 평가해 봅니다. \n",
        "# f1 score : 정밀도와 재현율의 가중 조화평균\n",
        "from sklearn.metrics import f1_score\n",
        "???"
      ],
      "metadata": {
        "colab": {
          "base_uri": "https://localhost:8080/"
        },
        "id": "AvXGbaRDHNEg",
        "outputId": "e572d8ad-7d22-44a1-a816-0b07acfe8045"
      },
      "execution_count": null,
      "outputs": [
        {
          "output_type": "stream",
          "name": "stdout",
          "text": [
            "0.8190193648526283\n"
          ]
        }
      ]
    }
  ]
}