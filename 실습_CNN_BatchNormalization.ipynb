{
  "nbformat": 4,
  "nbformat_minor": 0,
  "metadata": {
    "colab": {
      "provenance": [],
      "gpuType": "T4",
      "authorship_tag": "ABX9TyMYGhP8MIRfg8uOqwGLhgZd",
      "include_colab_link": true
    },
    "kernelspec": {
      "name": "python3",
      "display_name": "Python 3"
    },
    "language_info": {
      "name": "python"
    },
    "accelerator": "GPU"
  },
  "cells": [
    {
      "cell_type": "markdown",
      "metadata": {
        "id": "view-in-github",
        "colab_type": "text"
      },
      "source": [
        "<a href=\"https://colab.research.google.com/github/chminPark/ml-python/blob/master/%EC%8B%A4%EC%8A%B5_CNN_BatchNormalization.ipynb\" target=\"_parent\"><img src=\"https://colab.research.google.com/assets/colab-badge.svg\" alt=\"Open In Colab\"/></a>"
      ]
    },
    {
      "cell_type": "code",
      "source": [
        "from __future__ import print_function\n",
        "\n",
        "import torch\n",
        "import torch.nn as nn\n",
        "import torch.nn.functional as F\n",
        "import torch.optim as optim\n",
        "\n",
        "from PIL import Image\n",
        "import matplotlib.pyplot as plt\n",
        "\n",
        "import torchvision\n",
        "import torchvision.transforms as transforms\n",
        "import torchvision.models as models\n",
        "\n",
        "import copy\n",
        "import os\n",
        "import numpy as np\n",
        "import random\n",
        "import time\n",
        "import os\n",
        "\n",
        "torch.backends.cudnn.deterministic = True # Use cudnn as deterministic mode for reproducibility\n",
        "torch.backends.cudnn.benchmark = False"
      ],
      "metadata": {
        "id": "fvM0McnQ8Mx8"
      },
      "execution_count": null,
      "outputs": []
    },
    {
      "cell_type": "markdown",
      "source": [
        "# CIFAR-10 데이터를 이용한다."
      ],
      "metadata": {
        "id": "oR6SrnSXNdbS"
      }
    },
    {
      "cell_type": "code",
      "source": [
        "transform = transforms.Compose([\n",
        "        transforms.RandomCrop(32, padding=4), # Random Crop: Randomly crop the part of the large image and utilize it as an augmented data\n",
        "        transforms.RandomHorizontalFlip(), # Random Horizontal Flip: Randomly flip the image and utilize it as an augmented data\n",
        "        transforms.ToTensor(),\n",
        "        transforms.Normalize(mean=[0.4914, 0.4822, 0.4465], std=[0.2023,0.1994,0.2010]), # Normalize the data using the given mean and standard deviation\n",
        "        ])\n",
        "\n",
        "#Apply data preprocessing for test set\n",
        "transform_test = transforms.Compose([\n",
        "        transforms.ToTensor(),\n",
        "        transforms.Normalize(mean=[0.4914, 0.4822, 0.4465], std=[0.2023,0.1994,0.2010]),\n",
        "        ])\n",
        "\n",
        "train_dataset = torchvision.datasets.CIFAR10(root='./data', train=True, download=True, transform=transform)\n",
        "test_dataset = torchvision.datasets.CIFAR10(root='./data', train=False, download=True, transform=transform_test)\n",
        "\n",
        "train_loader = torch.utils.data.DataLoader(train_dataset, batch_size=100, shuffle=True)\n",
        "test_loader = torch.utils.data.DataLoader(test_dataset, batch_size=100)"
      ],
      "metadata": {
        "colab": {
          "base_uri": "https://localhost:8080/"
        },
        "id": "T5r2VhcQPJwl",
        "outputId": "29b111e7-31ee-4d96-8bcf-68f6e61f7d3b"
      },
      "execution_count": null,
      "outputs": [
        {
          "output_type": "stream",
          "name": "stdout",
          "text": [
            "Downloading https://www.cs.toronto.edu/~kriz/cifar-10-python.tar.gz to ./data/cifar-10-python.tar.gz\n"
          ]
        },
        {
          "output_type": "stream",
          "name": "stderr",
          "text": [
            "100%|██████████| 170498071/170498071 [00:03<00:00, 49657700.34it/s]\n"
          ]
        },
        {
          "output_type": "stream",
          "name": "stdout",
          "text": [
            "Extracting ./data/cifar-10-python.tar.gz to ./data\n",
            "Files already downloaded and verified\n"
          ]
        }
      ]
    },
    {
      "cell_type": "code",
      "source": [
        "# Cifar 데이터는 어떻게 생겼을까?\n",
        "import matplotlib.pyplot as plt\n",
        "import cv2\n",
        "import warnings\n",
        "warnings.filterwarnings(\"ignore\")\n",
        "\n",
        "idxs = np.random.choice(len(train_dataset), 10, replace=False)\n",
        "\n",
        "plt.figure(figsize=(20, 5))\n",
        "for i, idx in enumerate(idxs):\n",
        "\n",
        "  #### 실습 : Index로 데이터 확인\n",
        "  #### 1) Tensor to Numpy 2) BGR to RGB\n",
        "  image, target =  train_dataset[idx]\n",
        "\n",
        "  image = image.permute(1,2,0).float().numpy()\n",
        "  image_converted = cv2.cvtColor(image, cv2.COLOR_BGR2RGB)\n",
        "  #########################################\n",
        "\n",
        "  plt.subplot(2, 10, i+1)\n",
        "  plt.imshow(image.astype(np.uint8))\n",
        "  plt.subplot(2, 10, i+11)\n",
        "  plt.imshow(image_converted.astype(np.uint8))\n"
      ],
      "metadata": {
        "colab": {
          "base_uri": "https://localhost:8080/",
          "height": 311
        },
        "id": "mlsGEtJCPPGx",
        "outputId": "08785132-f56e-4be5-a18e-574db5f4ab3f"
      },
      "execution_count": null,
      "outputs": [
        {
          "output_type": "display_data",
          "data": {
            "text/plain": [
              "<Figure size 2000x500 with 20 Axes>"
            ],
            "image/png": "[encoded data removed]"
          },
          "metadata": {}
        }
      ]
    },
    {
      "cell_type": "code",
      "source": [
        "def reset_seed(seed):\n",
        "    torch.manual_seed(seed)\n",
        "    np.random.seed(seed)\n",
        "    random.seed(seed)"
      ],
      "metadata": {
        "id": "_1QV7UevU0D8"
      },
      "execution_count": null,
      "outputs": []
    },
    {
      "cell_type": "markdown",
      "source": [
        "# 학습함수를 선언하고 학습을 수행한다"
      ],
      "metadata": {
        "id": "gpA1CP5kZ-nD"
      }
    },
    {
      "cell_type": "code",
      "source": [
        "def train(model, data_loader, criterion, optimizer, n_epoch):\n",
        "  ### 실습 : 학습 중임을 알림\n",
        "  model.train() ###\n",
        "  for epoch in range(n_epoch):\n",
        "    running_loss = 0\n",
        "    for i, (images, labels) in enumerate(data_loader):\n",
        "      ### 실습 : 데이터를 GPU로 할당\n",
        "      images, labels = images.cuda(), labels.cuda()\n",
        "      outputs = model(images)\n",
        "      loss = criterion(outputs, labels)\n",
        "\n",
        "      optimizer.zero_grad()\n",
        "      loss.backward()\n",
        "      optimizer.step()\n",
        "      running_loss += loss.item()\n",
        "      if (i + 1) % 100 == 0:\n",
        "        print('iteration: [{}/{}]'.format(i + 1, len(data_loader)))\n",
        "\n",
        "    print('Epoch {}, loss = {:.3f}'.format(epoch + 1, running_loss/len(data_loader)))"
      ],
      "metadata": {
        "id": "XdzlE2_OUz33"
      },
      "execution_count": null,
      "outputs": []
    },
    {
      "cell_type": "code",
      "source": [
        "class VGG(nn.Module):\n",
        "    def __init__(self):\n",
        "      super(VGG, self).__init__()\n",
        "\n",
        "      ##### 실습 : 위 그림에 있는 CNN구성 요소 선언\n",
        "      self.conv1 = nn.Conv2d(in_channels=3, out_channels=32, kernel_size=3, padding=1) # Convolutional layer with 3x3 kernel. The size of feature does not change due to the usage of padding.\n",
        "      self.conv2 = nn.Conv2d(in_channels=32, out_channels=32, kernel_size=3, padding=1)\n",
        "\n",
        "      self.conv3 = nn.Conv2d(in_channels=32, out_channels=64, kernel_size=3, padding=1)\n",
        "      self.conv4 = nn.Conv2d(in_channels=64, out_channels=64, kernel_size=3, padding=1)\n",
        "\n",
        "      self.conv5 = nn.Conv2d(in_channels=64, out_channels=128, kernel_size=3, padding=1)\n",
        "      self.conv6 = nn.Conv2d(in_channels=128, out_channels=128, kernel_size=3, padding=1)\n",
        "\n",
        "      self.max_pool = nn.MaxPool2d(kernel_size=2, stride=2) #Maxpooling layer to change feature size\n",
        "      self.avg_pool = nn.AdaptiveAvgPool2d(output_size = (1, 1)) ## 실습: 이미지의 평균값을 계산하는 Layer\n",
        "      self.fc = nn.Linear(in_features=128, out_features=10) # 실습 : 10개 Class를 만들어 내는 FC\n",
        "\n",
        "    def forward(self, x):\n",
        "      #### 실습 : VGG를 구성한다.\n",
        "      x = self.conv1(x)\n",
        "      x = F.relu(x)\n",
        "      x = self.conv2(x)\n",
        "      x = F.relu(x)\n",
        "      x = self.max_pool(x)\n",
        "\n",
        "      x = self.conv3(x)\n",
        "      x = F.relu(x)\n",
        "      x = self.conv4(x)\n",
        "      x = F.relu(x)\n",
        "      x = self.max_pool(x)\n",
        "\n",
        "      x = self.conv5(x)\n",
        "      x = F.relu(x)\n",
        "      x = self.conv6(x)\n",
        "      x = F.relu(x)   # 128x8x8\n",
        "      x = self.avg_pool(x) # 128x1x1\n",
        "\n",
        "      x = x.view(-1, 128)\n",
        "      x = self.fc(x)\n",
        "      return x"
      ],
      "metadata": {
        "id": "iDW6IKfnMqJ_"
      },
      "execution_count": null,
      "outputs": []
    },
    {
      "cell_type": "code",
      "source": [
        "reset_seed(2020)\n",
        "criterion = nn.CrossEntropyLoss()\n",
        "##### 실습 : 모델을 GPU에 할당한다.\n",
        "vgg_model = VGG().to(\"cuda\")\n",
        "\n",
        "##### Adam 최적화 모델을 할당한다\n",
        "optimizer = optim.Adam(params=vgg_model.parameters())\n",
        "\n",
        "train(vgg_model, train_loader, criterion, optimizer, n_epoch=10)"
      ],
      "metadata": {
        "colab": {
          "base_uri": "https://localhost:8080/"
        },
        "id": "DV3Zjb9BVo15",
        "outputId": "a4025daa-30c7-4c17-86eb-5db410c58834"
      },
      "execution_count": null,
      "outputs": [
        {
          "output_type": "stream",
          "name": "stdout",
          "text": [
            "iteration: [100/500]\n",
            "iteration: [200/500]\n",
            "iteration: [300/500]\n",
            "iteration: [400/500]\n",
            "iteration: [500/500]\n",
            "Epoch 1, loss = 1.757\n",
            "iteration: [100/500]\n",
            "iteration: [200/500]\n",
            "iteration: [300/500]\n",
            "iteration: [400/500]\n",
            "iteration: [500/500]\n",
            "Epoch 2, loss = 1.336\n",
            "iteration: [100/500]\n",
            "iteration: [200/500]\n",
            "iteration: [300/500]\n",
            "iteration: [400/500]\n",
            "iteration: [500/500]\n",
            "Epoch 3, loss = 1.110\n",
            "iteration: [100/500]\n",
            "iteration: [200/500]\n",
            "iteration: [300/500]\n",
            "iteration: [400/500]\n",
            "iteration: [500/500]\n",
            "Epoch 4, loss = 0.982\n",
            "iteration: [100/500]\n",
            "iteration: [200/500]\n",
            "iteration: [300/500]\n",
            "iteration: [400/500]\n",
            "iteration: [500/500]\n",
            "Epoch 5, loss = 0.893\n",
            "iteration: [100/500]\n",
            "iteration: [200/500]\n",
            "iteration: [300/500]\n",
            "iteration: [400/500]\n",
            "iteration: [500/500]\n",
            "Epoch 6, loss = 0.813\n",
            "iteration: [100/500]\n",
            "iteration: [200/500]\n",
            "iteration: [300/500]\n",
            "iteration: [400/500]\n",
            "iteration: [500/500]\n",
            "Epoch 7, loss = 0.746\n",
            "iteration: [100/500]\n",
            "iteration: [200/500]\n",
            "iteration: [300/500]\n",
            "iteration: [400/500]\n",
            "iteration: [500/500]\n",
            "Epoch 8, loss = 0.699\n",
            "iteration: [100/500]\n",
            "iteration: [200/500]\n",
            "iteration: [300/500]\n",
            "iteration: [400/500]\n",
            "iteration: [500/500]\n",
            "Epoch 9, loss = 0.654\n",
            "iteration: [100/500]\n",
            "iteration: [200/500]\n",
            "iteration: [300/500]\n",
            "iteration: [400/500]\n",
            "iteration: [500/500]\n",
            "Epoch 10, loss = 0.615\n"
          ]
        }
      ]
    },
    {
      "cell_type": "markdown",
      "source": [
        "# 평가 함수를 구성하고 평가 정확도를 확인한다"
      ],
      "metadata": {
        "id": "lGaoRR1iZ5Nt"
      }
    },
    {
      "cell_type": "code",
      "source": [
        "def eval(model, data_loader):\n",
        "  #### 실습 : 평가를 위해서는 eval()을 선언\n",
        "  model.eval()\n",
        "  total = 0\n",
        "  correct = 0\n",
        "  #### 실습 : Gradient를 타지 않아야 한다\n",
        "  with torch.no_grad():\n",
        "    for images, labels in data_loader:\n",
        "      images, labels = images.cuda(), labels.cuda()\n",
        "      outputs = model(images)\n",
        "      _, predicted = torch.max(outputs, 1)\n",
        "      total += labels.size(0)\n",
        "      correct += (predicted == labels).sum().item()\n",
        "    accuracy = 100 * correct / total\n",
        "\n",
        "  print('Test Accuracy: {}%'.format(accuracy))"
      ],
      "metadata": {
        "id": "1aX7lDqDWPGW"
      },
      "execution_count": null,
      "outputs": []
    },
    {
      "cell_type": "code",
      "source": [
        "eval(vgg_model, test_loader)"
      ],
      "metadata": {
        "id": "rwbjZYTFZ3ae",
        "colab": {
          "base_uri": "https://localhost:8080/"
        },
        "outputId": "bb5afabf-f50a-43c5-89cb-70c510e80629"
      },
      "execution_count": null,
      "outputs": [
        {
          "output_type": "stream",
          "name": "stdout",
          "text": [
            "Test Accuracy: 76.15%\n"
          ]
        }
      ]
    },
    {
      "cell_type": "markdown",
      "source": [
        "# Batch Normalization을 구현한다"
      ],
      "metadata": {
        "id": "EnLYfRsgaf1W"
      }
    },
    {
      "cell_type": "code",
      "source": [
        "class MyBatchNorm2d(nn.Module):\n",
        "  def __init__(self, num_features, alpha=0.1):\n",
        "    super(MyBatchNorm2d, self).__init__()\n",
        "\n",
        "    ######### 실습 : 각 Channel에 대해 Scale & Shift할 인자를 정의한다\n",
        "    self.gamma = nn.Parameter(torch.ones(num_features))\n",
        "    self.beta = nn.Parameter(torch.ones(num_features))\n",
        "\n",
        "    self.n_batches = 0\n",
        "    self.alpha = alpha\n",
        "\n",
        "  def forward(self, input):\n",
        "\n",
        "    if self.training: # 'model.train()' 이 호출되면 자동으로 True로 세팅됨\n",
        "      self.n_batches += 1\n",
        "      ### 실습 : Channel이 차원 1에 있음. 나머지 영역에서 Mean/Var계산\n",
        "      mean = input.mean([0, 2, 3], keepdim=True)\n",
        "      var = input.var([0, 2, 3], keepdim=True)\n",
        "\n",
        "      if self.n_batches == 1:\n",
        "        ##### 실습 : 첫 Batch에는 평균/분산을 저장한다\n",
        "        self.running_mean = mean\n",
        "        self.running_var = var\n",
        "      else:\n",
        "        ##### 실습 : 평균, 분산에 대한 Moving Average를 계산한다\n",
        "        self.running_mean = self.alpha * mean + (1 - self.alpha) * self.running_mean\n",
        "        self.running_var = self.alpha * var + (1 - self.alpha) * self.running_var\n",
        "\n",
        "    else: # 'model.eval()' 이 호출되면 자동으로 True로 세팅됨\n",
        "      ##### 실습 : infernece 시에는 학습 시 저장한 값 활용\n",
        "      mean = self.running_mean\n",
        "      var = self.running_var\n",
        "\n",
        "    #### 실습 : Standardization\n",
        "    output = (input - mean) / (torch.sqrt(var + 1e-8))\n",
        "    #### 실습 : 각 channel에 있는 값에 scale & shift 수행\n",
        "    output = output * self.gamma.reshape(1, -1, 1, 1) + self.beta.reshape(1, -1, 1, 1)\n",
        "\n",
        "    return output"
      ],
      "metadata": {
        "id": "76wpBLxdafGK"
      },
      "execution_count": null,
      "outputs": []
    },
    {
      "cell_type": "markdown",
      "source": [
        "# Barch Norm이 들어간 VGG를 구현한다\n",
        "\n",
        "![](https://drive.google.com/uc?export=view&id=1vLrvhxczx1ZCOH05cxzzESylaOaF1Uj2)\n"
      ],
      "metadata": {
        "id": "c3qipGwJazO-"
      }
    },
    {
      "cell_type": "code",
      "source": [
        "class VGG_BatchNorm(nn.Module):\n",
        "  def __init__(self):\n",
        "    super(VGG_BatchNorm, self).__init__()\n",
        "    #### 실습 : BatchNormalization이 들어가 있는 구조 선언\n",
        "    self.conv1 = nn.Conv2d(in_channels=3, out_channels=32, kernel_size=3, padding=1)\n",
        "    self.norm1 = MyBatchNorm2d(32)\n",
        "    self.conv2 = nn.Conv2d(in_channels=32, out_channels=32, kernel_size=3, padding=1)\n",
        "    self.norm2 = MyBatchNorm2d(32)\n",
        "\n",
        "    self.conv3 = nn.Conv2d(in_channels=32, out_channels=64, kernel_size=3, padding=1)\n",
        "    self.norm3 = MyBatchNorm2d(64)\n",
        "\n",
        "    self.conv4 = nn.Conv2d(in_channels=64, out_channels=64, kernel_size=3, padding=1)\n",
        "    self.norm4 = MyBatchNorm2d(64)\n",
        "\n",
        "    self.conv5 = nn.Conv2d(in_channels=64, out_channels=128, kernel_size=3, padding=1)\n",
        "    self.norm5 = MyBatchNorm2d(128)\n",
        "    self.conv6 = nn.Conv2d(in_channels=128, out_channels=128, kernel_size=3, padding=1)\n",
        "    self.norm6 = MyBatchNorm2d(128)\n",
        "\n",
        "    self.max_pool = nn.MaxPool2d(kernel_size=2, stride=2) #Maxpooling layer to change feature size\n",
        "    self.avg_pool = nn.AdaptiveAvgPool2d(output_size = (1, 1)) #Note that average pooling layer is not adopted in original VGG architecture. We use average pooling layer to make the architecture for experiment simple.\n",
        "\n",
        "    self.fc = nn.Linear(in_features=128, out_features=10)\n",
        "\n",
        "  def forward(self, x):\n",
        "    #### 실습 : Batch Norm을 Convolution 이후에 선언\n",
        "    x = self.norm1(self.conv1(x))\n",
        "    x = F.relu(x)\n",
        "    x = self.norm2(self.conv2(x))\n",
        "    x = F.relu(x)\n",
        "    x = self.max_pool(x)\n",
        "\n",
        "    x = self.norm3(self.conv3(x))\n",
        "    x = F.relu(x)\n",
        "    x = self.norm4(self.conv4(x))\n",
        "    x = F.relu(x)\n",
        "    x = self.max_pool(x)\n",
        "\n",
        "    x = self.norm5(self.conv5(x))\n",
        "    x = F.relu(x)\n",
        "    x = self.norm6(self.conv6(x))\n",
        "    x = F.relu(x)\n",
        "\n",
        "    x = self.avg_pool(x)\n",
        "    x = x.view(-1, 128)\n",
        "    x = self.fc(x)\n",
        "    return x"
      ],
      "metadata": {
        "id": "tHCxl7AebLCX"
      },
      "execution_count": null,
      "outputs": []
    },
    {
      "cell_type": "code",
      "source": [
        "reset_seed(2020)\n",
        "criterion = nn.CrossEntropyLoss()\n",
        "vgg_batchnorm_model = VGG_BatchNorm().to(\"cuda\")\n",
        "optimizer = optim.Adam(params=vgg_batchnorm_model.parameters())\n",
        "\n",
        "train(vgg_batchnorm_model, train_loader, criterion, optimizer, n_epoch=10)"
      ],
      "metadata": {
        "id": "OfRIehkLbLm7",
        "colab": {
          "base_uri": "https://localhost:8080/"
        },
        "outputId": "8a630135-5ccf-4a36-a738-a1576cd6c5d6"
      },
      "execution_count": null,
      "outputs": [
        {
          "output_type": "stream",
          "name": "stdout",
          "text": [
            "iteration: [100/500]\n",
            "iteration: [200/500]\n",
            "iteration: [300/500]\n",
            "iteration: [400/500]\n",
            "iteration: [500/500]\n",
            "Epoch 1, loss = 1.471\n",
            "iteration: [100/500]\n",
            "iteration: [200/500]\n",
            "iteration: [300/500]\n",
            "iteration: [400/500]\n",
            "iteration: [500/500]\n",
            "Epoch 2, loss = 1.128\n",
            "iteration: [100/500]\n",
            "iteration: [200/500]\n",
            "iteration: [300/500]\n",
            "iteration: [400/500]\n",
            "iteration: [500/500]\n",
            "Epoch 3, loss = 0.985\n",
            "iteration: [100/500]\n",
            "iteration: [200/500]\n",
            "iteration: [300/500]\n",
            "iteration: [400/500]\n",
            "iteration: [500/500]\n",
            "Epoch 4, loss = 0.874\n",
            "iteration: [100/500]\n",
            "iteration: [200/500]\n",
            "iteration: [300/500]\n",
            "iteration: [400/500]\n",
            "iteration: [500/500]\n",
            "Epoch 5, loss = 0.802\n",
            "iteration: [100/500]\n",
            "iteration: [200/500]\n",
            "iteration: [300/500]\n",
            "iteration: [400/500]\n",
            "iteration: [500/500]\n",
            "Epoch 6, loss = 0.747\n",
            "iteration: [100/500]\n",
            "iteration: [200/500]\n",
            "iteration: [300/500]\n",
            "iteration: [400/500]\n",
            "iteration: [500/500]\n",
            "Epoch 7, loss = 0.701\n",
            "iteration: [100/500]\n",
            "iteration: [200/500]\n",
            "iteration: [300/500]\n",
            "iteration: [400/500]\n",
            "iteration: [500/500]\n",
            "Epoch 8, loss = 0.662\n",
            "iteration: [100/500]\n",
            "iteration: [200/500]\n",
            "iteration: [300/500]\n",
            "iteration: [400/500]\n",
            "iteration: [500/500]\n",
            "Epoch 9, loss = 0.631\n",
            "iteration: [100/500]\n",
            "iteration: [200/500]\n",
            "iteration: [300/500]\n",
            "iteration: [400/500]\n",
            "iteration: [500/500]\n",
            "Epoch 10, loss = 0.598\n"
          ]
        }
      ]
    },
    {
      "cell_type": "code",
      "source": [
        "eval(vgg_batchnorm_model, test_loader)"
      ],
      "metadata": {
        "id": "B6Yd4Z3WbL9i",
        "colab": {
          "base_uri": "https://localhost:8080/"
        },
        "outputId": "edb006e2-7891-4e12-b9dd-8eac799738a6"
      },
      "execution_count": null,
      "outputs": [
        {
          "output_type": "stream",
          "name": "stdout",
          "text": [
            "Test Accuracy: 72.84%\n"
          ]
        }
      ]
    },
    {
      "cell_type": "markdown",
      "source": [
        "# Pytorch 의 BatchNorm2D를 이용"
      ],
      "metadata": {
        "id": "CB27ugshk9p9"
      }
    },
    {
      "cell_type": "code",
      "source": [
        "class VGG_BatchNormTorch(nn.Module):\n",
        "  def __init__(self):\n",
        "    ### 실습 : 객체 이름과 초기화 이름은 똑같아야 한다\n",
        "    super(VGG_BatchNormTorch, self).__init__()\n",
        "    self.conv1 = nn.Conv2d(in_channels=3, out_channels=32, kernel_size=3, padding=1)\n",
        "    #### 실습 : Batch Norm 을 Pytorch의 값으로 변경한다\n",
        "    self.norm1 = torch.nn.BatchNorm2d(32)\n",
        "    self.conv2 = nn.Conv2d(in_channels=32, out_channels=32, kernel_size=3, padding=1)\n",
        "    self.norm2 = torch.nn.BatchNorm2d(32)\n",
        "\n",
        "    self.conv3 = nn.Conv2d(in_channels=32, out_channels=64, kernel_size=3, padding=1)\n",
        "    #### 실습 : Batch Norm 을 Pytorch의 값으로 변경한다\n",
        "    self.norm3 = torch.nn.BatchNorm2d(64)\n",
        "\n",
        "    self.conv4 = nn.Conv2d(in_channels=64, out_channels=64, kernel_size=3, padding=1)\n",
        "    #### 실습 : Batch Norm 을 Pytorch의 값으로 변경한다\n",
        "    self.norm4 = torch.nn.BatchNorm2d(64)\n",
        "\n",
        "    self.conv5 = nn.Conv2d(in_channels=64, out_channels=128, kernel_size=3, padding=1)\n",
        "    #### 실습 : Batch Norm 을 Pytorch의 값으로 변경한다\n",
        "    self.norm5 = torch.nn.BatchNorm2d(128)\n",
        "    self.conv6 = nn.Conv2d(in_channels=128, out_channels=128, kernel_size=3, padding=1)\n",
        "    #### 실습 : Batch Norm 을 Pytorch의 값으로 변경한다\n",
        "    self.norm6 = torch.nn.BatchNorm2d(128)\n",
        "\n",
        "    self.max_pool = nn.MaxPool2d(kernel_size=2, stride=2) #Maxpooling layer to change feature size\n",
        "    self.avg_pool = nn.AdaptiveAvgPool2d(output_size = (1, 1)) #Note that average pooling layer is not adopted in original VGG architecture. We use average pooling layer to make the architecture for experiment simple.\n",
        "\n",
        "    self.fc = nn.Linear(in_features=128, out_features=10)\n",
        "\n",
        "  def forward(self, x):\n",
        "    #### 실습 : Batch Norm을 Convolution 이후에 선언\n",
        "    x = self.norm1(self.conv1(x))\n",
        "    x = F.relu(x)\n",
        "    x = self.norm2(self.conv2(x))\n",
        "    x = F.relu(x)\n",
        "    x = self.max_pool(x)\n",
        "\n",
        "    x = self.norm3(self.conv3(x))\n",
        "    x = F.relu(x)\n",
        "    x = self.norm4(self.conv4(x))\n",
        "    x = F.relu(x)\n",
        "    x = self.max_pool(x)\n",
        "\n",
        "    x = self.norm5(self.conv5(x))\n",
        "    x = F.relu(x)\n",
        "    x = self.norm6(self.conv6(x))\n",
        "    x = F.relu(x)\n",
        "\n",
        "    x = self.avg_pool(x)\n",
        "    x = x.view(-1, 128)\n",
        "    x = self.fc(x)\n",
        "    return x"
      ],
      "metadata": {
        "id": "Pbg1Yh_Ik9LA"
      },
      "execution_count": null,
      "outputs": []
    },
    {
      "cell_type": "code",
      "source": [
        "reset_seed(2020)\n",
        "criterion = nn.CrossEntropyLoss()\n",
        "vgg_batchnorm_model_torch = VGG_BatchNormTorch().to(\"cuda\")\n",
        "optimizer = optim.Adam(params=vgg_batchnorm_model_torch.parameters())\n",
        "\n",
        "train(vgg_batchnorm_model_torch, train_loader, criterion, optimizer, n_epoch=10)"
      ],
      "metadata": {
        "id": "nyXxMNAqldlT",
        "colab": {
          "base_uri": "https://localhost:8080/"
        },
        "outputId": "5a6bfa47-61ba-419b-fe62-84f4bd7edfda"
      },
      "execution_count": null,
      "outputs": [
        {
          "output_type": "stream",
          "name": "stdout",
          "text": [
            "iteration: [100/500]\n",
            "iteration: [200/500]\n",
            "iteration: [300/500]\n",
            "iteration: [400/500]\n",
            "iteration: [500/500]\n",
            "Epoch 1, loss = 1.307\n",
            "iteration: [100/500]\n",
            "iteration: [200/500]\n",
            "iteration: [300/500]\n",
            "iteration: [400/500]\n",
            "iteration: [500/500]\n",
            "Epoch 2, loss = 0.907\n",
            "iteration: [100/500]\n",
            "iteration: [200/500]\n",
            "iteration: [300/500]\n",
            "iteration: [400/500]\n",
            "iteration: [500/500]\n",
            "Epoch 3, loss = 0.761\n",
            "iteration: [100/500]\n",
            "iteration: [200/500]\n",
            "iteration: [300/500]\n",
            "iteration: [400/500]\n",
            "iteration: [500/500]\n",
            "Epoch 4, loss = 0.667\n",
            "iteration: [100/500]\n",
            "iteration: [200/500]\n",
            "iteration: [300/500]\n",
            "iteration: [400/500]\n",
            "iteration: [500/500]\n",
            "Epoch 5, loss = 0.605\n",
            "iteration: [100/500]\n",
            "iteration: [200/500]\n",
            "iteration: [300/500]\n",
            "iteration: [400/500]\n",
            "iteration: [500/500]\n",
            "Epoch 6, loss = 0.561\n",
            "iteration: [100/500]\n",
            "iteration: [200/500]\n",
            "iteration: [300/500]\n",
            "iteration: [400/500]\n",
            "iteration: [500/500]\n",
            "Epoch 7, loss = 0.524\n",
            "iteration: [100/500]\n",
            "iteration: [200/500]\n",
            "iteration: [300/500]\n",
            "iteration: [400/500]\n",
            "iteration: [500/500]\n",
            "Epoch 8, loss = 0.495\n",
            "iteration: [100/500]\n",
            "iteration: [200/500]\n",
            "iteration: [300/500]\n",
            "iteration: [400/500]\n",
            "iteration: [500/500]\n",
            "Epoch 9, loss = 0.466\n",
            "iteration: [100/500]\n",
            "iteration: [200/500]\n",
            "iteration: [300/500]\n",
            "iteration: [400/500]\n",
            "iteration: [500/500]\n",
            "Epoch 10, loss = 0.447\n"
          ]
        }
      ]
    },
    {
      "cell_type": "code",
      "source": [
        "eval(vgg_batchnorm_model_torch, test_loader)"
      ],
      "metadata": {
        "id": "q0ue_xzhlqRR",
        "colab": {
          "base_uri": "https://localhost:8080/"
        },
        "outputId": "3e462264-bed3-4435-e94d-0501268e83d9"
      },
      "execution_count": null,
      "outputs": [
        {
          "output_type": "stream",
          "name": "stdout",
          "text": [
            "Test Accuracy: 81.2%\n"
          ]
        }
      ]
    },
    {
      "cell_type": "code",
      "source": [],
      "metadata": {
        "id": "vtNEEEeAdGrY"
      },
      "execution_count": null,
      "outputs": []
    }
  ]
}