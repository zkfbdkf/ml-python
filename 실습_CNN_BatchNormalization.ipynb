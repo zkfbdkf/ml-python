{
  "nbformat": 4,
  "nbformat_minor": 0,
  "metadata": {
    "colab": {
      "provenance": [],
      "gpuType": "T4",
      "authorship_tag": "ABX9TyPT16HHHn63ac5tsbs0KhTV",
      "include_colab_link": true
    },
    "kernelspec": {
      "name": "python3",
      "display_name": "Python 3"
    },
    "language_info": {
      "name": "python"
    },
    "accelerator": "GPU"
  },
  "cells": [
    {
      "cell_type": "markdown",
      "metadata": {
        "id": "view-in-github",
        "colab_type": "text"
      },
      "source": [
        "<a href=\"https://colab.research.google.com/github/chminPark/ml-python/blob/master/%EC%8B%A4%EC%8A%B5_CNN_BatchNormalization.ipynb\" target=\"_parent\"><img src=\"https://colab.research.google.com/assets/colab-badge.svg\" alt=\"Open In Colab\"/></a>"
      ]
    },
    {
      "cell_type": "code",
      "source": [
        "from __future__ import print_function\n",
        "\n",
        "import torch\n",
        "import torch.nn as nn\n",
        "import torch.nn.functional as F\n",
        "import torch.optim as optim\n",
        "\n",
        "from PIL import Image\n",
        "import matplotlib.pyplot as plt\n",
        "\n",
        "import torchvision\n",
        "import torchvision.transforms as transforms\n",
        "import torchvision.models as models\n",
        "\n",
        "import copy\n",
        "import os\n",
        "import numpy as np\n",
        "import random\n",
        "import time\n",
        "import os\n",
        "\n",
        "torch.backends.cudnn.deterministic = True # Use cudnn as deterministic mode for reproducibility\n",
        "torch.backends.cudnn.benchmark = False"
      ],
      "metadata": {
        "id": "fvM0McnQ8Mx8"
      },
      "execution_count": 9,
      "outputs": []
    },
    {
      "cell_type": "markdown",
      "source": [
        "# CIFAR-10 데이터를 이용한다."
      ],
      "metadata": {
        "id": "oR6SrnSXNdbS"
      }
    },
    {
      "cell_type": "code",
      "source": [
        "transform = transforms.Compose([\n",
        "        transforms.RandomCrop(32, padding=4), # Random Crop: Randomly crop the part of the large image and utilize it as an augmented data\n",
        "        transforms.RandomHorizontalFlip(), # Random Horizontal Flip: Randomly flip the image and utilize it as an augmented data\n",
        "        transforms.ToTensor(),\n",
        "        transforms.Normalize(mean=[0.4914, 0.4822, 0.4465], std=[0.2023,0.1994,0.2010]), # Normalize the data using the given mean and standard deviation\n",
        "        ])\n",
        "\n",
        "#Apply data preprocessing for test set\n",
        "transform_test = transforms.Compose([\n",
        "        transforms.ToTensor(),\n",
        "        transforms.Normalize(mean=[0.4914, 0.4822, 0.4465], std=[0.2023,0.1994,0.2010]),\n",
        "        ])\n",
        "\n",
        "train_dataset = torchvision.datasets.CIFAR10(root='./data', train=True, download=True, transform=transform)\n",
        "test_dataset = torchvision.datasets.CIFAR10(root='./data', train=False, download=True, transform=transform_test)\n",
        "\n",
        "train_loader = torch.utils.data.DataLoader(train_dataset, batch_size=100, shuffle=True)\n",
        "test_loader = torch.utils.data.DataLoader(test_dataset, batch_size=100)"
      ],
      "metadata": {
        "colab": {
          "base_uri": "https://localhost:8080/"
        },
        "id": "T5r2VhcQPJwl",
        "outputId": "6082b8b1-37d3-4441-e4e1-65fdafa77697"
      },
      "execution_count": 10,
      "outputs": [
        {
          "output_type": "stream",
          "name": "stdout",
          "text": [
            "Files already downloaded and verified\n",
            "Files already downloaded and verified\n"
          ]
        }
      ]
    },
    {
      "cell_type": "code",
      "source": [
        "train_dataset"
      ],
      "metadata": {
        "colab": {
          "base_uri": "https://localhost:8080/"
        },
        "id": "dXVWQtYH7zio",
        "outputId": "0cf07c97-7127-4ff1-ca07-914b3d6019b3"
      },
      "execution_count": 28,
      "outputs": [
        {
          "output_type": "execute_result",
          "data": {
            "text/plain": [
              "Dataset CIFAR10\n",
              "    Number of datapoints: 50000\n",
              "    Root location: ./data\n",
              "    Split: Train\n",
              "    StandardTransform\n",
              "Transform: Compose(\n",
              "               RandomCrop(size=(32, 32), padding=4)\n",
              "               RandomHorizontalFlip(p=0.5)\n",
              "               ToTensor()\n",
              "               Normalize(mean=[0.4914, 0.4822, 0.4465], std=[0.2023, 0.1994, 0.201])\n",
              "           )"
            ]
          },
          "metadata": {},
          "execution_count": 28
        }
      ]
    },
    {
      "cell_type": "code",
      "source": [
        "# Cifar 데이터는 어떻게 생겼을까?\n",
        "import matplotlib.pyplot as plt\n",
        "import cv2\n",
        "import warnings\n",
        "warnings.filterwarnings(\"ignore\")\n",
        "\n",
        "idxs = np.random.choice(len(train_dataset), 10, replace=False)\n",
        "\n",
        "plt.figure(figsize=(20, 5))\n",
        "for i, idx in enumerate(idxs):\n",
        "\n",
        "  #### 실습 : Index로 데이터 확인\n",
        "  #### 1) Tensor to Numpy 2) BGR to RGB\n",
        "  image, target =  train_dataset[idx]\n",
        "\n",
        "  image = image.permute(1,2,0).float().numpy()\n",
        "  image_converted = cv2.cvtColor(image, cv2.COLOR_BGR2RGB)\n",
        "  #########################################\n",
        "\n",
        "  plt.subplot(2, 10, i+1)\n",
        "  plt.imshow(image.astype(np.uint8))\n",
        "  plt.subplot(2, 10, i+11)\n",
        "  plt.imshow(image_converted.astype(np.uint8))\n"
      ],
      "metadata": {
        "colab": {
          "base_uri": "https://localhost:8080/",
          "height": 250
        },
        "id": "mlsGEtJCPPGx",
        "outputId": "dc7278b8-7eff-4f56-b984-821ae1c2e21d"
      },
      "execution_count": 11,
      "outputs": [
        {
          "output_type": "display_data",
          "data": {
            "text/plain": [
              "<Figure size 2000x500 with 20 Axes>"
            ],
            "image/png": "[encoded data removed]"
          },
          "metadata": {}
        }
      ]
    },
    {
      "cell_type": "code",
      "source": [
        "def reset_seed(seed):\n",
        "    torch.manual_seed(seed)\n",
        "    np.random.seed(seed)\n",
        "    random.seed(seed)"
      ],
      "metadata": {
        "id": "_1QV7UevU0D8"
      },
      "execution_count": 12,
      "outputs": []
    },
    {
      "cell_type": "markdown",
      "source": [
        "# 학습함수를 선언하고 학습을 수행한다"
      ],
      "metadata": {
        "id": "gpA1CP5kZ-nD"
      }
    },
    {
      "cell_type": "code",
      "source": [
        "def train(model, data_loader, criterion, optimizer, n_epoch):\n",
        "  ### 실습 : 학습 중임을 알림\n",
        "  model.train() ###\n",
        "  for epoch in range(n_epoch):\n",
        "    running_loss = 0\n",
        "    for i, (images, labels) in enumerate(data_loader):\n",
        "      ### 실습 : 데이터를 GPU로 할당\n",
        "      images, labels = images.cuda(), labels.cuda()\n",
        "      outputs = model(images)\n",
        "      loss = criterion(outputs, labels)\n",
        "\n",
        "      optimizer.zero_grad()\n",
        "      loss.backward()\n",
        "      optimizer.step()\n",
        "      running_loss += loss.item()\n",
        "      if (i + 1) % 100 == 0:\n",
        "        print('iteration: [{}/{}]'.format(i + 1, len(data_loader)))\n",
        "\n",
        "    print('Epoch {}, loss = {:.3f}'.format(epoch + 1, running_loss/len(data_loader)))"
      ],
      "metadata": {
        "id": "XdzlE2_OUz33"
      },
      "execution_count": 13,
      "outputs": []
    },
    {
      "cell_type": "code",
      "source": [
        "class VGG(nn.Module):\n",
        "    def __init__(self):\n",
        "      super(VGG, self).__init__()\n",
        "\n",
        "      ##### 실습 : 위 그림에 있는 CNN구성 요소 선언\n",
        "      self.conv1 = nn.Conv2d(in_channels=3, out_channels=32, kernel_size=3, padding=1) # Convolutional layer with 3x3 kernel. The size of feature does not change due to the usage of padding.\n",
        "      self.conv2 = nn.Conv2d(in_channels=32, out_channels=32, kernel_size=3, padding=1)\n",
        "\n",
        "      self.conv3 = nn.Conv2d(in_channels=32, out_channels=64, kernel_size=3, padding=1)\n",
        "      self.conv4 = nn.Conv2d(in_channels=64, out_channels=64, kernel_size=3, padding=1)\n",
        "\n",
        "      self.conv5 = nn.Conv2d(in_channels=64, out_channels=128, kernel_size=3, padding=1)\n",
        "      self.conv6 = nn.Conv2d(in_channels=128, out_channels=128, kernel_size=3, padding=1)\n",
        "\n",
        "      self.max_pool = nn.MaxPool2d(kernel_size=2, stride=2) #Maxpooling layer to change feature size\n",
        "      self.avg_pool = nn.AdaptiveAvgPool2d(output_size = (1, 1)) ## 실습: 이미지의 평균값을 계산하는 Layer\n",
        "      self.fc = nn.Linear(in_features=128, out_features=10) # 실습 : 10개 Class를 만들어 내는 FC\n",
        "\n",
        "    def forward(self, x):\n",
        "      #### 실습 : VGG를 구성한다.\n",
        "      x = self.conv1(x)\n",
        "      x = F.relu(x)\n",
        "      x = self.conv2(x)\n",
        "      x = F.relu(x)\n",
        "      x = self.max_pool(x)\n",
        "\n",
        "      x = self.conv3(x)\n",
        "      x = F.relu(x)\n",
        "      x = self.conv4(x)\n",
        "      x = F.relu(x)\n",
        "      x = self.max_pool(x)\n",
        "\n",
        "      x = self.conv5(x)\n",
        "      x = F.relu(x)\n",
        "      x = self.conv6(x)\n",
        "      x = F.relu(x)   # 128x8x8\n",
        "      x = self.avg_pool(x) # 128x1x1\n",
        "\n",
        "      x = x.view(-1, 128)\n",
        "      x = self.fc(x)\n",
        "      return x"
      ],
      "metadata": {
        "id": "iDW6IKfnMqJ_"
      },
      "execution_count": 14,
      "outputs": []
    },
    {
      "cell_type": "code",
      "source": [
        "reset_seed(2020)\n",
        "criterion = nn.CrossEntropyLoss()\n",
        "##### 실습 : 모델을 GPU에 할당한다.\n",
        "vgg_model = VGG().to(\"cuda\")\n",
        "\n",
        "##### Adam 최적화 모델을 할당한다\n",
        "optimizer = optim.Adam(params=vgg_model.parameters())\n",
        "\n",
        "train(vgg_model, train_loader, criterion, optimizer, n_epoch=10)"
      ],
      "metadata": {
        "colab": {
          "base_uri": "https://localhost:8080/"
        },
        "id": "DV3Zjb9BVo15",
        "outputId": "b5aa5f89-ca0d-4f81-ae00-a39edf459e6f"
      },
      "execution_count": 15,
      "outputs": [
        {
          "output_type": "stream",
          "name": "stdout",
          "text": [
            "iteration: [100/500]\n",
            "iteration: [200/500]\n",
            "iteration: [300/500]\n",
            "iteration: [400/500]\n",
            "iteration: [500/500]\n",
            "Epoch 1, loss = 1.757\n",
            "iteration: [100/500]\n",
            "iteration: [200/500]\n",
            "iteration: [300/500]\n",
            "iteration: [400/500]\n",
            "iteration: [500/500]\n",
            "Epoch 2, loss = 1.336\n",
            "iteration: [100/500]\n",
            "iteration: [200/500]\n",
            "iteration: [300/500]\n",
            "iteration: [400/500]\n",
            "iteration: [500/500]\n",
            "Epoch 3, loss = 1.110\n",
            "iteration: [100/500]\n",
            "iteration: [200/500]\n",
            "iteration: [300/500]\n",
            "iteration: [400/500]\n",
            "iteration: [500/500]\n",
            "Epoch 4, loss = 0.982\n",
            "iteration: [100/500]\n",
            "iteration: [200/500]\n",
            "iteration: [300/500]\n",
            "iteration: [400/500]\n",
            "iteration: [500/500]\n",
            "Epoch 5, loss = 0.893\n",
            "iteration: [100/500]\n",
            "iteration: [200/500]\n",
            "iteration: [300/500]\n",
            "iteration: [400/500]\n",
            "iteration: [500/500]\n",
            "Epoch 6, loss = 0.813\n",
            "iteration: [100/500]\n",
            "iteration: [200/500]\n",
            "iteration: [300/500]\n",
            "iteration: [400/500]\n",
            "iteration: [500/500]\n",
            "Epoch 7, loss = 0.746\n",
            "iteration: [100/500]\n",
            "iteration: [200/500]\n",
            "iteration: [300/500]\n",
            "iteration: [400/500]\n",
            "iteration: [500/500]\n",
            "Epoch 8, loss = 0.699\n",
            "iteration: [100/500]\n",
            "iteration: [200/500]\n",
            "iteration: [300/500]\n",
            "iteration: [400/500]\n",
            "iteration: [500/500]\n",
            "Epoch 9, loss = 0.654\n",
            "iteration: [100/500]\n",
            "iteration: [200/500]\n",
            "iteration: [300/500]\n",
            "iteration: [400/500]\n",
            "iteration: [500/500]\n",
            "Epoch 10, loss = 0.615\n"
          ]
        }
      ]
    },
    {
      "cell_type": "markdown",
      "source": [
        "# 평가 함수를 구성하고 평가 정확도를 확인한다"
      ],
      "metadata": {
        "id": "lGaoRR1iZ5Nt"
      }
    },
    {
      "cell_type": "code",
      "source": [
        "def eval(model, data_loader):\n",
        "  #### 실습 : 평가를 위해서는 eval()을 선언\n",
        "  model.eval()\n",
        "  total = 0\n",
        "  correct = 0\n",
        "  #### 실습 : Gradient를 타지 않아야 한다\n",
        "  with torch.no_grad():\n",
        "    for images, labels in data_loader:\n",
        "      images, labels = images.cuda(), labels.cuda()\n",
        "      outputs = model(images)\n",
        "      _, predicted = torch.max(outputs, 1)\n",
        "      total += labels.size(0)\n",
        "      correct += (predicted == labels).sum().item()\n",
        "    accuracy = 100 * correct / total\n",
        "\n",
        "  print('Test Accuracy: {}%'.format(accuracy))"
      ],
      "metadata": {
        "id": "1aX7lDqDWPGW"
      },
      "execution_count": 16,
      "outputs": []
    },
    {
      "cell_type": "code",
      "source": [
        "eval(vgg_model, test_loader)"
      ],
      "metadata": {
        "id": "rwbjZYTFZ3ae",
        "colab": {
          "base_uri": "https://localhost:8080/"
        },
        "outputId": "9a8bf8ea-640d-4a03-c7f3-04c8d110f1f9"
      },
      "execution_count": 17,
      "outputs": [
        {
          "output_type": "stream",
          "name": "stdout",
          "text": [
            "Test Accuracy: 76.15%\n"
          ]
        }
      ]
    },
    {
      "cell_type": "markdown",
      "source": [
        "# Batch Normalization을 구현한다"
      ],
      "metadata": {
        "id": "EnLYfRsgaf1W"
      }
    },
    {
      "cell_type": "code",
      "source": [
        "class MyBatchNorm2d(nn.Module):\n",
        "  def __init__(self, num_features, alpha=0.1):\n",
        "    super(MyBatchNorm2d, self).__init__()\n",
        "\n",
        "    ######### 실습 : 각 Channel에 대해 Scale & Shift할 인자를 정의한다\n",
        "    self.gamma = nn.Parameter(torch.ones(num_features)) # 크기가 1\n",
        "    self.beta = nn.Parameter(torch.zeros(num_features))\n",
        "\n",
        "    self.n_batches = 0\n",
        "    self.alpha = alpha\n",
        "\n",
        "  def forward(self, input):\n",
        "\n",
        "    if self.training: # 'model.train()' 이 호출되면 자동으로 True로 세팅됨\n",
        "\n",
        "      self.n_batches += 1\n",
        "      ### 실습 : Channel이 차원 1에 있음. 나머지 영역에서 Mean/Var계산\n",
        "      ## VGG를 통과한 입력은 크기가 batchsize [dim=0] x channel[dim=1] x height[dim=2] x width[dim=3]\n",
        "      ## 100 x 32 x 224 x 224\n",
        "      mean = input.mean([0, 2, 3], keepdim=True)\n",
        "      var = input.var([0, 2, 3], keepdim=True)\n",
        "\n",
        "\n",
        "      if self.n_batches == 1:\n",
        "        ##### 실습 : 첫 Batch에는 평균/분산을 저장한다\n",
        "        self.running_mean = mean\n",
        "        self.running_var = var\n",
        "      else:\n",
        "        ##### 실습 : 평균, 분산에 대한 Moving Average를 계산한다\n",
        "        self.running_mean = self.alpha * self.running_mean + (1-self.alpha) * mean\n",
        "        self.running_var = self.alpha *  self.running_var + (1-self.alpha) * var\n",
        "\n",
        "    else: # 'model.eval()' 이 호출되면 자동으로 self.training=False로 세팅됨\n",
        "      ##### 실습 : infernece 시에는 학습 시 저장한 값 활용\n",
        "      mean =  self.running_mean\n",
        "      var = self.running_var\n",
        "\n",
        "    #### 실습 : Standardization\n",
        "    output = (input - mean) / torch.sqrt(var + 1e-8)\n",
        "    #### 실습 : 각 channel에 있는 값에 scale & shift 수행\n",
        "    # self.gamma 는 크기가 1, output 은 batchsize x channel x width x height\n",
        "    # gamma 와 beta는 channel에 적용되도록\n",
        "    output = self.gamma.reshape(1, -1, 1, 1) * output + self.beta.reshape(1, -1, 1, 1)\n",
        "\n",
        "    return output"
      ],
      "metadata": {
        "id": "76wpBLxdafGK"
      },
      "execution_count": 18,
      "outputs": []
    },
    {
      "cell_type": "markdown",
      "source": [
        "# Barch Norm이 들어간 VGG를 구현한다\n",
        "\n",
        "![](https://drive.google.com/uc?export=view&id=1vLrvhxczx1ZCOH05cxzzESylaOaF1Uj2)\n"
      ],
      "metadata": {
        "id": "c3qipGwJazO-"
      }
    },
    {
      "cell_type": "code",
      "source": [
        "class VGG_BatchNorm(nn.Module):\n",
        "  def __init__(self):\n",
        "    super(VGG_BatchNorm, self).__init__()\n",
        "    #### 실습 : BatchNormalization이 들어가 있는 구조 선언\n",
        "    self.conv1 = nn.Conv2d(in_channels=3, out_channels=32, kernel_size=3, padding=1)\n",
        "    self.norm1 = MyBatchNorm2d(32)\n",
        "    self.conv2 = nn.Conv2d(in_channels=32, out_channels=32, kernel_size=3, padding=1)\n",
        "    self.norm2 = MyBatchNorm2d(32)\n",
        "\n",
        "    self.conv3 = nn.Conv2d(in_channels=32, out_channels=64, kernel_size=3, padding=1)\n",
        "    self.norm3 = MyBatchNorm2d(64)\n",
        "\n",
        "    self.conv4 = nn.Conv2d(in_channels=64, out_channels=64, kernel_size=3, padding=1)\n",
        "    self.norm4 = MyBatchNorm2d(64)\n",
        "\n",
        "    self.conv5 = nn.Conv2d(in_channels=64, out_channels=128, kernel_size=3, padding=1)\n",
        "    self.norm5 = MyBatchNorm2d(128)\n",
        "    self.conv6 = nn.Conv2d(in_channels=128, out_channels=128, kernel_size=3, padding=1)\n",
        "    self.norm6 = MyBatchNorm2d(128)\n",
        "\n",
        "    self.max_pool = nn.MaxPool2d(kernel_size=2, stride=2) #Maxpooling layer to change feature size\n",
        "    self.avg_pool = nn.AdaptiveAvgPool2d(output_size = (1, 1)) #Note that average pooling layer is not adopted in original VGG architecture. We use average pooling layer to make the architecture for experiment simple.\n",
        "\n",
        "    self.fc = nn.Linear(in_features=128, out_features=10)\n",
        "\n",
        "  def forward(self, x):\n",
        "    #### 실습 : Batch Norm을 Convolution 이후에 선언\n",
        "    x = self.norm1(self.conv1(x))\n",
        "    x = F.relu(x)\n",
        "    x = self.norm2(self.conv2(x))\n",
        "    x = F.relu(x)\n",
        "    x = self.max_pool(x)\n",
        "\n",
        "    x = self.norm3(self.conv3(x))\n",
        "    x = F.relu(x)\n",
        "    x = self.norm4(self.conv4(x))\n",
        "    x = F.relu(x)\n",
        "    x = self.max_pool(x)\n",
        "\n",
        "    x = self.norm5(self.conv5(x))\n",
        "    x = F.relu(x)\n",
        "    x = self.norm6(self.conv6(x))\n",
        "    x = F.relu(x)\n",
        "\n",
        "    x = self.avg_pool(x)\n",
        "    x = x.view(-1, 128)\n",
        "    x = self.fc(x)\n",
        "    return x"
      ],
      "metadata": {
        "id": "tHCxl7AebLCX"
      },
      "execution_count": 19,
      "outputs": []
    },
    {
      "cell_type": "code",
      "source": [
        "reset_seed(2020)\n",
        "criterion = nn.CrossEntropyLoss()\n",
        "vgg_batchnorm_model = VGG_BatchNorm().to(\"cuda\")\n",
        "optimizer = optim.Adam(params=vgg_batchnorm_model.parameters())\n",
        "\n",
        "train(vgg_batchnorm_model, train_loader, criterion, optimizer, n_epoch=10)"
      ],
      "metadata": {
        "id": "OfRIehkLbLm7",
        "colab": {
          "base_uri": "https://localhost:8080/"
        },
        "outputId": "bb803291-0277-40e9-9d92-2d0b6f4f5935"
      },
      "execution_count": 20,
      "outputs": [
        {
          "output_type": "stream",
          "name": "stdout",
          "text": [
            "iteration: [100/500]\n",
            "iteration: [200/500]\n",
            "iteration: [300/500]\n",
            "iteration: [400/500]\n",
            "iteration: [500/500]\n",
            "Epoch 1, loss = 1.308\n",
            "iteration: [100/500]\n",
            "iteration: [200/500]\n",
            "iteration: [300/500]\n",
            "iteration: [400/500]\n",
            "iteration: [500/500]\n",
            "Epoch 2, loss = 0.909\n",
            "iteration: [100/500]\n",
            "iteration: [200/500]\n",
            "iteration: [300/500]\n",
            "iteration: [400/500]\n",
            "iteration: [500/500]\n",
            "Epoch 3, loss = 0.762\n",
            "iteration: [100/500]\n",
            "iteration: [200/500]\n",
            "iteration: [300/500]\n",
            "iteration: [400/500]\n",
            "iteration: [500/500]\n",
            "Epoch 4, loss = 0.667\n",
            "iteration: [100/500]\n",
            "iteration: [200/500]\n",
            "iteration: [300/500]\n",
            "iteration: [400/500]\n",
            "iteration: [500/500]\n",
            "Epoch 5, loss = 0.605\n",
            "iteration: [100/500]\n",
            "iteration: [200/500]\n",
            "iteration: [300/500]\n",
            "iteration: [400/500]\n",
            "iteration: [500/500]\n",
            "Epoch 6, loss = 0.560\n",
            "iteration: [100/500]\n",
            "iteration: [200/500]\n",
            "iteration: [300/500]\n",
            "iteration: [400/500]\n",
            "iteration: [500/500]\n",
            "Epoch 7, loss = 0.523\n",
            "iteration: [100/500]\n",
            "iteration: [200/500]\n",
            "iteration: [300/500]\n",
            "iteration: [400/500]\n",
            "iteration: [500/500]\n",
            "Epoch 8, loss = 0.496\n",
            "iteration: [100/500]\n",
            "iteration: [200/500]\n",
            "iteration: [300/500]\n",
            "iteration: [400/500]\n",
            "iteration: [500/500]\n",
            "Epoch 9, loss = 0.470\n",
            "iteration: [100/500]\n",
            "iteration: [200/500]\n",
            "iteration: [300/500]\n",
            "iteration: [400/500]\n",
            "iteration: [500/500]\n",
            "Epoch 10, loss = 0.446\n"
          ]
        }
      ]
    },
    {
      "cell_type": "code",
      "source": [
        "eval(vgg_batchnorm_model, test_loader)"
      ],
      "metadata": {
        "id": "B6Yd4Z3WbL9i",
        "colab": {
          "base_uri": "https://localhost:8080/"
        },
        "outputId": "47ef21a1-727a-4272-fd6f-0a2dd0ce505d"
      },
      "execution_count": 21,
      "outputs": [
        {
          "output_type": "stream",
          "name": "stdout",
          "text": [
            "Test Accuracy: 82.41%\n"
          ]
        }
      ]
    },
    {
      "cell_type": "markdown",
      "source": [
        "# Pytorch 의 BatchNorm2D를 이용"
      ],
      "metadata": {
        "id": "CB27ugshk9p9"
      }
    },
    {
      "cell_type": "code",
      "source": [
        "class VGG_BatchNormTorch(nn.Module):\n",
        "  def __init__(self):\n",
        "    ### 실습 : 객체 이름과 초기화 이름은 똑같아야 한다\n",
        "    super(VGG_BatchNormTorch, self).__init__()\n",
        "    self.conv1 = nn.Conv2d(in_channels=3, out_channels=32, kernel_size=3, padding=1)\n",
        "    #### 실습 : Batch Norm 을 Pytorch의 값으로 변경한다\n",
        "    self.norm1 = torch.nn.BatchNorm2d(32)\n",
        "    self.conv2 = nn.Conv2d(in_channels=32, out_channels=32, kernel_size=3, padding=1)\n",
        "    self.norm2 = torch.nn.BatchNorm2d(32)\n",
        "\n",
        "    self.conv3 = nn.Conv2d(in_channels=32, out_channels=64, kernel_size=3, padding=1)\n",
        "    #### 실습 : Batch Norm 을 Pytorch의 값으로 변경한다\n",
        "    self.norm3 = torch.nn.BatchNorm2d(64)\n",
        "\n",
        "    self.conv4 = nn.Conv2d(in_channels=64, out_channels=64, kernel_size=3, padding=1)\n",
        "    #### 실습 : Batch Norm 을 Pytorch의 값으로 변경한다\n",
        "    self.norm4 = torch.nn.BatchNorm2d(64)\n",
        "\n",
        "    self.conv5 = nn.Conv2d(in_channels=64, out_channels=128, kernel_size=3, padding=1)\n",
        "    #### 실습 : Batch Norm 을 Pytorch의 값으로 변경한다\n",
        "    self.norm5 = torch.nn.BatchNorm2d(128)\n",
        "    self.conv6 = nn.Conv2d(in_channels=128, out_channels=128, kernel_size=3, padding=1)\n",
        "    #### 실습 : Batch Norm 을 Pytorch의 값으로 변경한다\n",
        "    self.norm6 = torch.nn.BatchNorm2d(128)\n",
        "\n",
        "    self.max_pool = nn.MaxPool2d(kernel_size=2, stride=2) #Maxpooling layer to change feature size\n",
        "    self.avg_pool = nn.AdaptiveAvgPool2d(output_size = (1, 1)) #Note that average pooling layer is not adopted in original VGG architecture. We use average pooling layer to make the architecture for experiment simple.\n",
        "\n",
        "    self.fc = nn.Linear(in_features=128, out_features=10)\n",
        "\n",
        "  def forward(self, x):\n",
        "    #### 실습 : Batch Norm을 Convolution 이후에 선언\n",
        "    x = self.norm1(self.conv1(x))\n",
        "    x = F.relu(x)\n",
        "    x = self.norm2(self.conv2(x))\n",
        "    x = F.relu(x)\n",
        "    x = self.max_pool(x)\n",
        "\n",
        "    x = self.norm3(self.conv3(x))\n",
        "    x = F.relu(x)\n",
        "    x = self.norm4(self.conv4(x))\n",
        "    x = F.relu(x)\n",
        "    x = self.max_pool(x)\n",
        "\n",
        "    x = self.norm5(self.conv5(x))\n",
        "    x = F.relu(x)\n",
        "    x = self.norm6(self.conv6(x))\n",
        "    x = F.relu(x)\n",
        "\n",
        "    x = self.avg_pool(x)\n",
        "    x = x.view(-1, 128)\n",
        "    x = self.fc(x)\n",
        "    return x"
      ],
      "metadata": {
        "id": "Pbg1Yh_Ik9LA"
      },
      "execution_count": 22,
      "outputs": []
    },
    {
      "cell_type": "code",
      "source": [
        "reset_seed(2020)\n",
        "criterion = nn.CrossEntropyLoss()\n",
        "vgg_batchnorm_model_torch = VGG_BatchNormTorch().to(\"cuda\")\n",
        "optimizer = optim.Adam(params=vgg_batchnorm_model_torch.parameters())\n",
        "\n",
        "train(vgg_batchnorm_model_torch, train_loader, criterion, optimizer, n_epoch=10)"
      ],
      "metadata": {
        "id": "nyXxMNAqldlT",
        "colab": {
          "base_uri": "https://localhost:8080/"
        },
        "outputId": "1f488c79-8930-4d3a-af4d-04911e236d5d"
      },
      "execution_count": 23,
      "outputs": [
        {
          "output_type": "stream",
          "name": "stdout",
          "text": [
            "iteration: [100/500]\n",
            "iteration: [200/500]\n",
            "iteration: [300/500]\n",
            "iteration: [400/500]\n",
            "iteration: [500/500]\n",
            "Epoch 1, loss = 1.307\n",
            "iteration: [100/500]\n",
            "iteration: [200/500]\n",
            "iteration: [300/500]\n",
            "iteration: [400/500]\n",
            "iteration: [500/500]\n",
            "Epoch 2, loss = 0.907\n",
            "iteration: [100/500]\n",
            "iteration: [200/500]\n",
            "iteration: [300/500]\n",
            "iteration: [400/500]\n",
            "iteration: [500/500]\n",
            "Epoch 3, loss = 0.761\n",
            "iteration: [100/500]\n",
            "iteration: [200/500]\n",
            "iteration: [300/500]\n",
            "iteration: [400/500]\n",
            "iteration: [500/500]\n",
            "Epoch 4, loss = 0.667\n",
            "iteration: [100/500]\n",
            "iteration: [200/500]\n",
            "iteration: [300/500]\n",
            "iteration: [400/500]\n",
            "iteration: [500/500]\n",
            "Epoch 5, loss = 0.605\n",
            "iteration: [100/500]\n",
            "iteration: [200/500]\n",
            "iteration: [300/500]\n",
            "iteration: [400/500]\n",
            "iteration: [500/500]\n",
            "Epoch 6, loss = 0.561\n",
            "iteration: [100/500]\n",
            "iteration: [200/500]\n",
            "iteration: [300/500]\n",
            "iteration: [400/500]\n",
            "iteration: [500/500]\n",
            "Epoch 7, loss = 0.524\n",
            "iteration: [100/500]\n",
            "iteration: [200/500]\n",
            "iteration: [300/500]\n",
            "iteration: [400/500]\n",
            "iteration: [500/500]\n",
            "Epoch 8, loss = 0.495\n",
            "iteration: [100/500]\n",
            "iteration: [200/500]\n",
            "iteration: [300/500]\n",
            "iteration: [400/500]\n",
            "iteration: [500/500]\n",
            "Epoch 9, loss = 0.466\n",
            "iteration: [100/500]\n",
            "iteration: [200/500]\n",
            "iteration: [300/500]\n",
            "iteration: [400/500]\n",
            "iteration: [500/500]\n",
            "Epoch 10, loss = 0.447\n"
          ]
        }
      ]
    },
    {
      "cell_type": "code",
      "source": [
        "eval(vgg_batchnorm_model_torch, test_loader)"
      ],
      "metadata": {
        "id": "q0ue_xzhlqRR",
        "colab": {
          "base_uri": "https://localhost:8080/"
        },
        "outputId": "c6db14ce-516f-40bd-ea8f-8a8643be5a22"
      },
      "execution_count": 24,
      "outputs": [
        {
          "output_type": "stream",
          "name": "stdout",
          "text": [
            "Test Accuracy: 81.2%\n"
          ]
        }
      ]
    },
    {
      "cell_type": "markdown",
      "source": [
        "# 일부 layer에만 BatchNorm을 적용하면?"
      ],
      "metadata": {
        "id": "bznU8lI02NuW"
      }
    },
    {
      "cell_type": "code",
      "source": [
        "\n",
        "class VGG_BatchNormPart(nn.Module):\n",
        "  def __init__(self):\n",
        "    ### 실습 : 객체 이름과 초기화 이름은 똑같아야 한다\n",
        "    super(VGG_BatchNormPart, self).__init__()\n",
        "    self.conv1 = nn.Conv2d(in_channels=3, out_channels=32, kernel_size=3, padding=1)\n",
        "\n",
        "    #### 실습 : Batch Norm 을 Pytorch의 값으로 변경한다\n",
        "    self.norm1 = nn.BatchNorm2d(num_features=32)\n",
        "    self.conv2 = nn.Conv2d(in_channels=32, out_channels=32, kernel_size=3, padding=1)\n",
        "    self.norm2 = nn.BatchNorm2d(num_features=32)\n",
        "\n",
        "    self.conv3 = nn.Conv2d(in_channels=32, out_channels=64, kernel_size=3, padding=1)\n",
        "    #### 실습 : Batch Norm 을 Pytorch의 값으로 변경한다\n",
        "    self.norm3 = nn.BatchNorm2d(num_features=64)\n",
        "\n",
        "    self.conv4 = nn.Conv2d(in_channels=64, out_channels=64, kernel_size=3, padding=1)\n",
        "    #### 실습 : Batch Norm 을 Pytorch의 값으로 변경한다\n",
        "    #self.norm4 = nn.BatchNorm2d(num_features=64)\n",
        "\n",
        "    self.conv5 = nn.Conv2d(in_channels=64, out_channels=128, kernel_size=3, padding=1)\n",
        "    #### 실습 : Batch Norm 을 Pytorch의 값으로 변경한다\n",
        "    #self.norm5 = nn.BatchNorm2d(num_features=128)\n",
        "    self.conv6 = nn.Conv2d(in_channels=128, out_channels=128, kernel_size=3, padding=1)\n",
        "    #### 실습 : Batch Norm 을 Pytorch의 값으로 변경한다\n",
        "    #self.norm6 = nn.BatchNorm2d(num_features=128)\n",
        "\n",
        "    self.max_pool = nn.MaxPool2d(kernel_size=2, stride=2) #Maxpooling layer to change feature size\n",
        "    self.avg_pool = nn.AdaptiveAvgPool2d(output_size = (1, 1)) #Note that average pooling layer is not adopted in original VGG architecture. We use average pooling layer to make the architecture for experiment simple.\n",
        "\n",
        "    self.fc = nn.Linear(in_features=128, out_features=10)\n",
        "\n",
        "  def forward(self, x):\n",
        "    #### 실습 : Batch Norm을 Convolution 이후에 선언\n",
        "    x = self.conv1(x)\n",
        "    x = self.norm1(x)\n",
        "    x = F.relu(x)\n",
        "\n",
        "    x = self.conv2(x)\n",
        "    x = self.norm2(x)\n",
        "    x = F.relu(x)\n",
        "    x = self.max_pool(x)\n",
        "\n",
        "    x = self.conv3(x)\n",
        "    x = self.norm3(x)\n",
        "    x = F.relu(x)\n",
        "\n",
        "    x = self.conv4(x)\n",
        "    #x = self.norm4(x)\n",
        "    x = F.relu(x)\n",
        "    x = self.max_pool(x)\n",
        "\n",
        "    x = self.conv5(x)\n",
        "    #x = self.norm5(x)\n",
        "    x = F.relu(x)\n",
        "    x = self.conv6(x)\n",
        "    #x = self.norm6(x)\n",
        "    x = F.relu(x)\n",
        "\n",
        "    x = self.avg_pool(x)\n",
        "    x = x.view(-1, 128)\n",
        "    x = self.fc(x)\n",
        "    return x"
      ],
      "metadata": {
        "id": "vtNEEEeAdGrY"
      },
      "execution_count": 25,
      "outputs": []
    },
    {
      "cell_type": "code",
      "source": [
        "reset_seed(2020)\n",
        "criterion = nn.CrossEntropyLoss()\n",
        "vgg_batchnorm_model_part = VGG_BatchNormPart().to(\"cuda\")\n",
        "optimizer = optim.Adam(params=vgg_batchnorm_model_part.parameters())\n",
        "\n",
        "train(vgg_batchnorm_model_part, train_loader, criterion, optimizer, n_epoch=5)"
      ],
      "metadata": {
        "colab": {
          "base_uri": "https://localhost:8080/"
        },
        "id": "2WZ_OjFv2TqD",
        "outputId": "3405a5c6-c9c5-4aca-c143-10f2c6c7db6b"
      },
      "execution_count": 26,
      "outputs": [
        {
          "output_type": "stream",
          "name": "stdout",
          "text": [
            "iteration: [100/500]\n",
            "iteration: [200/500]\n",
            "iteration: [300/500]\n",
            "iteration: [400/500]\n",
            "iteration: [500/500]\n",
            "Epoch 1, loss = 1.543\n",
            "iteration: [100/500]\n",
            "iteration: [200/500]\n",
            "iteration: [300/500]\n",
            "iteration: [400/500]\n",
            "iteration: [500/500]\n",
            "Epoch 2, loss = 1.112\n",
            "iteration: [100/500]\n",
            "iteration: [200/500]\n",
            "iteration: [300/500]\n",
            "iteration: [400/500]\n",
            "iteration: [500/500]\n",
            "Epoch 3, loss = 0.937\n",
            "iteration: [100/500]\n",
            "iteration: [200/500]\n",
            "iteration: [300/500]\n",
            "iteration: [400/500]\n",
            "iteration: [500/500]\n",
            "Epoch 4, loss = 0.814\n",
            "iteration: [100/500]\n",
            "iteration: [200/500]\n",
            "iteration: [300/500]\n",
            "iteration: [400/500]\n",
            "iteration: [500/500]\n",
            "Epoch 5, loss = 0.725\n"
          ]
        }
      ]
    },
    {
      "cell_type": "code",
      "source": [
        "eval(vgg_batchnorm_model_part, test_loader)"
      ],
      "metadata": {
        "colab": {
          "base_uri": "https://localhost:8080/"
        },
        "id": "3fOtteRu2WtZ",
        "outputId": "5568596d-9513-4f4f-90a2-bfd6d4b0ea6f"
      },
      "execution_count": 27,
      "outputs": [
        {
          "output_type": "stream",
          "name": "stdout",
          "text": [
            "Test Accuracy: 73.06%\n"
          ]
        }
      ]
    }
  ]
}