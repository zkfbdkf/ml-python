{
  "nbformat": 4,
  "nbformat_minor": 0,
  "metadata": {
    "colab": {
      "provenance": [],
      "toc_visible": true,
      "authorship_tag": "ABX9TyMEfE4EWu1G3lFJbSKNRRqG",
      "include_colab_link": true
    },
    "kernelspec": {
      "name": "python3",
      "display_name": "Python 3"
    },
    "language_info": {
      "name": "python"
    }
  },
  "cells": [
    {
      "cell_type": "markdown",
      "metadata": {
        "id": "view-in-github",
        "colab_type": "text"
      },
      "source": [
        "<a href=\"https://colab.research.google.com/github/chminPark/ml-python/blob/master/%5B%ED%95%99%EC%83%9D%EC%9A%A9%5D%EC%8B%A4%EC%8A%B51%EC%9D%BC%EC%B0%A8_regression.ipynb\" target=\"_parent\"><img src=\"https://colab.research.google.com/assets/colab-badge.svg\" alt=\"Open In Colab\"/></a>"
      ]
    },
    {
      "cell_type": "markdown",
      "source": [
        "# 다항식 문제를 선형회기로 풀어봅니다 \n",
        "![](https://drive.google.com/uc?export=view&id=1X3BKISKrrSOqqAATlwk-n9qzXmXI4-lt)\n",
        "\n",
        "\n",
        "* 2차 다항식에서 만들어진 데이터 이므로 2차 다항식 문제로 풀어본다\n",
        "* 4차 다항식 형태로 풀어 본다면?\n",
        "* Loss 는 MSE와 RMSE를 활용한다. 각 Loss로 했을 때의 문제는?\n",
        "* Learning Rate를 바꾸어 가면서 실험 해 보세요. 크게 하면?\n"
      ],
      "metadata": {
        "id": "DySJTPnDie4f"
      }
    },
    {
      "cell_type": "code",
      "source": [
        "# Pytorch로 개발하기 위한 Library\n",
        "import torch\n",
        "import torch.nn as nn\n",
        "import torch.nn.functional as F\n",
        "import torch.optim as optim\n",
        "import matplotlib.pyplot as plt\n",
        "\n",
        "torch.__version__"
      ],
      "metadata": {
        "colab": {
          "base_uri": "https://localhost:8080/",
          "height": 35
        },
        "id": "0smk9wP0Jw3w",
        "outputId": "8d2553c2-35ba-4fea-b220-6fc708a06954"
      },
      "execution_count": null,
      "outputs": [
        {
          "output_type": "execute_result",
          "data": {
            "text/plain": [
              "'1.13.0+cu116'"
            ],
            "application/vnd.google.colaboratory.intrinsic+json": {
              "type": "string"
            }
          },
          "metadata": {},
          "execution_count": 39
        }
      ]
    },
    {
      "cell_type": "code",
      "source": [
        "def show_predicted(x, y, preds, ax=None):\n",
        "    if ax is None: \n",
        "      ax=plt.subplots(figsize=(3,3))[1]\n",
        "    ax.scatter(x,y, label='true')\n",
        "\n",
        "    if preds is not None:\n",
        "      ax.scatter(x, preds, label='pred', color='red')\n",
        "    ax.legend()\n"
      ],
      "metadata": {
        "id": "zj5VDdYym2Xb"
      },
      "execution_count": null,
      "outputs": []
    },
    {
      "cell_type": "markdown",
      "source": [
        "### Stochastic Gradient Descent의 개념을 이해한다 \n",
        "* Loss계산 후 Step Loss를 줄이기 위해 학습이 진행됩니다. \n",
        "* Gradient(기울기)는 Loss의 기울기 입니다\n",
        "\n",
        "<img src=\"https://static.javatpoint.com/tutorial/machine-learning/images/gradient-descent-in-machine-learning1.png\" height=\"200px\" width=\"300px\">\n",
        "\n",
        "<img src=\"https://miro.medium.com/max/1400/1*zoywHDM6_AdN2LmQbro9Iw.webp\" height=\"150px\" width=\"350px\">\n",
        "\n",
        "\n",
        "* Learning의 크기는 학습속도에 영향을 미칩니다. 너무 크면 학습이 안될 수도 있습니다 \n",
        "\n",
        "<img src=\"https://static.javatpoint.com/tutorial/machine-learning/images/gradient-descent-in-machine-learning3.png\" height=\"200px\" width=\"500px\">\n",
        "\n",
        "\n",
        "\n",
        "\n",
        " "
      ],
      "metadata": {
        "id": "GxlcEfNGa3aQ"
      }
    },
    {
      "cell_type": "code",
      "source": [
        "# 데이터 생성\n",
        "x_train = torch.arange(0,20).float()\n",
        "y_train = x_train*3 + 0.75*((x_train-9.5)**2)+1\n",
        "\n",
        "\n",
        "# 모델 가정\n",
        "# Quadratic function\n",
        "def hypothesis(x, coefficients):\n",
        "    a,b,c = coefficients\n",
        "\n",
        "    ##### [실습]\n",
        "    ##### 학습할 모델(=수식) 을 정의한다 \n",
        "    hypo = ?????\n",
        "    ##### \n",
        "\n",
        "    return hypo \n",
        "\n",
        "\n",
        "\n",
        "##### RMSE Loss를 구현해 본다. \n",
        "def rmse(preds, targets):\n",
        "\n",
        "    error = preds-targets\n",
        "\n",
        "    ##### [실습]\n",
        "    ###### RMSE를 정의한다 ###\n",
        "    rmse = ?????\n",
        "    ######\n",
        "\n",
        "\n",
        "    return rmse\n",
        "\n",
        "\n",
        "fig, ax = plt.subplots(1,3, figsize=(10,3))\n",
        "show_predicted(x_train,y_train, None, ax[0])\n",
        "\n",
        "# 2차 함수이므로 bias 까지 포함하여 random 값 3개를 학습이 되도록 선언한다\n",
        "params = torch.randn(3).requires_grad_()\n",
        "print(f\"Initial Weights: {params}\")\n",
        "\n",
        "# 예측값 생성\n",
        "preds = hypothesis(x_train, params)\n",
        "show_predicted(x_train, y_train, preds.detach().numpy(), ax[1])\n",
        "\n",
        "# RMSE loss\n",
        "cost = rmse(preds,  y_train)\n",
        "print(f\"Initial Cost: {cost}\")\n",
        "\n",
        "\n",
        "# Weight와 Bias를 cost를 줄이는 방향으로 업데이트 ~ Optimization(최적화)\n",
        "\n",
        "### Learning Rate를 0.0001, 0.1, 0.00000001 에 대해 실험해 본다. \n",
        "optimizer = torch.optim.SGD([params], lr=0.0001) \n",
        "\n",
        "nb_epochs = 10000 # 원하는만큼 경사 하강법을 반복\n",
        "for epoch in range(nb_epochs + 1):\n",
        "\n",
        "    ##### 예측값을 생성해 본다. \n",
        "    preds = hypothesis(x_train, params)\n",
        "    #####\n",
        "    \n",
        "    # cost 계산\n",
        "    cost = rmse(preds,  y_train)\n",
        "\n",
        "    optimizer.zero_grad() # 초기화\n",
        "    cost.backward() # gradient계산\n",
        "\n",
        "    ##### 계산된 gradient 값을 이용하여 W,b 업데이트하는 Step을 구현한다\n",
        "    optimizer.step() \n",
        "    #####\n",
        "\n",
        "\n",
        "    # 100번마다 로그 출력\n",
        "    if epoch % (nb_epochs/10) == 1:\n",
        "        print('Epoch {:4d}/{} a: {:.3f}, b: {:.3f}, c: {:.3f}, Cost: {:.6f}'.format(\n",
        "            epoch, nb_epochs, params[0].item(), params[1].item(), params[2].item(), cost.item()\n",
        "        ))\n",
        "\n",
        "preds = hypothesis(x_train, params)\n",
        "show_predicted(x_train, y_train, preds.detach().numpy(), ax[2])"
      ],
      "metadata": {
        "colab": {
          "base_uri": "https://localhost:8080/",
          "height": 431
        },
        "id": "weNMvY_svCLx",
        "outputId": "1d21c102-1497-4a12-e089-52038e2d17fb"
      },
      "execution_count": null,
      "outputs": [
        {
          "output_type": "stream",
          "name": "stdout",
          "text": [
            "Initial Weights: tensor([-1.8321,  1.6028, -0.8873], requires_grad=True)\n",
            "Initial Cost: 346.9790344238281\n",
            "Epoch    1/10000 a: -1.799, b: 1.605, c: -0.887, Cost: 344.169708\n",
            "Epoch 1001/10000 a: 0.220, b: 1.768, c: -0.838, Cost: 25.757513\n",
            "Epoch 2001/10000 a: 0.217, b: 1.804, c: -0.795, Cost: 25.725420\n",
            "Epoch 3001/10000 a: 0.215, b: 1.839, c: -0.751, Cost: 25.694437\n",
            "Epoch 4001/10000 a: 0.213, b: 1.872, c: -0.708, Cost: 25.664499\n",
            "Epoch 5001/10000 a: 0.211, b: 1.904, c: -0.665, Cost: 25.635553\n",
            "Epoch 6001/10000 a: 0.208, b: 1.935, c: -0.622, Cost: 25.607542\n",
            "Epoch 7001/10000 a: 0.206, b: 1.965, c: -0.579, Cost: 25.580408\n",
            "Epoch 8001/10000 a: 0.204, b: 1.994, c: -0.537, Cost: 25.554111\n",
            "Epoch 9001/10000 a: 0.202, b: 2.021, c: -0.495, Cost: 25.528597\n"
          ]
        },
        {
          "output_type": "display_data",
          "data": {
            "text/plain": [
              "<Figure size 720x216 with 3 Axes>"
            ],
            "image/png": "[encoded data removed]"
          },
          "metadata": {
            "needs_background": "light"
          }
        }
      ]
    },
    {
      "cell_type": "code",
      "source": [
        "#MSE로 위의 문제를 풀어 본다 \n",
        "\n",
        "# 데이터 생성\n",
        "x_train = torch.arange(0,20).float()\n",
        "y_train = x_train*3 + 0.75*((x_train-9.5)**2)+1\n",
        "\n",
        "\n",
        "# 모델 가정\n",
        "# Quadratic function\n",
        "def hypothesis(x, coefficients):\n",
        "    a,b,c = coefficients\n",
        "    hypo = a*(x**2)+(b*x)+c\n",
        "\n",
        "    return hypo \n",
        "\n",
        "\n",
        "##### MSE Loss를 구현해 본다. \n",
        "def mse(preds, targets):\n",
        "\n",
        "    error = preds-targets\n",
        "\n",
        "    ##### [실습]\n",
        "    ###### RMSE를 정의한다 ###\n",
        "    mse = (error**2).mean()\n",
        "    ######\n",
        "\n",
        "\n",
        "    return mse\n",
        "\n",
        "fig, ax = plt.subplots(1,3, figsize=(10,3))\n",
        "show_predicted(x_train,y_train, None, ax[0])\n",
        "\n",
        "# 2차 함수이므로 bias 까지 포함하여 random 값 3개를 학습이 되도록 선언한다\n",
        "params = torch.randn(3).requires_grad_()\n",
        "print(f\"Initial Weights: {params}\")\n",
        "\n",
        "# 예측값 생성\n",
        "preds = hypothesis(x_train, params)\n",
        "show_predicted(x_train, y_train, preds.detach().numpy(), ax[1])\n",
        "\n",
        "# mse loss\n",
        "cost = mse(preds,  y_train)\n",
        "print(f\"Initial Cost: {cost}\")\n",
        "\n",
        "\n",
        "# Weight와 Bias를 cost를 줄이는 방향으로 업데이트 ~ Optimization(최적화)\n",
        "\n",
        "##### [실습]\n",
        "##### 적절한 Learning Rate를 할당한다. \n",
        "optimizer = torch.optim.SGD([params], lr=??????????) \n",
        "######\n",
        "\n",
        "nb_epochs = 10000 # 원하는만큼 경사 하강법을 반복\n",
        "for epoch in range(nb_epochs + 1):\n",
        "\n",
        "    ##### 예측값을 생성해 본다. \n",
        "    preds = hypothesis(x_train, params)\n",
        "    #####\n",
        "    \n",
        "    # cost 계산\n",
        "    cost = mse(preds,  y_train)\n",
        "\n",
        "    optimizer.zero_grad() # 초기화\n",
        "    cost.backward() # gradient계산\n",
        "    optimizer.step() \n",
        "    \n",
        "\n",
        "    # 100번마다 로그 출력\n",
        "    if epoch % (nb_epochs/10) == 1:\n",
        "        print('Epoch {:4d}/{} a: {:.3f}, b: {:.3f}, c: {:.3f}, Cost: {:.6f}'.format(\n",
        "            epoch, nb_epochs, params[0].item(), params[1].item(), params[2].item(), cost.item()\n",
        "        ))\n",
        "\n",
        "preds = hypothesis(x_train, params)\n",
        "show_predicted(x_train, y_train, preds.detach().numpy(), ax[2])"
      ],
      "metadata": {
        "colab": {
          "base_uri": "https://localhost:8080/",
          "height": 431
        },
        "id": "mAt3SjdlqQHx",
        "outputId": "75e33f85-bb12-4c99-9424-9e5c1ca9ea15"
      },
      "execution_count": null,
      "outputs": [
        {
          "output_type": "stream",
          "name": "stdout",
          "text": [
            "Initial Weights: tensor([ 0.9091, -0.1633,  1.9999], requires_grad=True)\n",
            "Initial Cost: 10038.4453125\n",
            "Epoch    1/10000 a: 0.846, b: -0.167, c: 2.000, Cost: 9007.792969\n",
            "Epoch 1001/10000 a: 0.331, b: -0.160, c: 2.024, Cost: 650.108032\n",
            "Epoch 2001/10000 a: 0.329, b: -0.121, c: 2.050, Cost: 647.901733\n",
            "Epoch 3001/10000 a: 0.326, b: -0.083, c: 2.075, Cost: 645.755432\n",
            "Epoch 4001/10000 a: 0.323, b: -0.045, c: 2.101, Cost: 643.665894\n",
            "Epoch 5001/10000 a: 0.321, b: -0.008, c: 2.127, Cost: 641.634766\n",
            "Epoch 6001/10000 a: 0.319, b: 0.028, c: 2.152, Cost: 639.656372\n",
            "Epoch 7001/10000 a: 0.316, b: 0.064, c: 2.177, Cost: 637.731934\n",
            "Epoch 8001/10000 a: 0.314, b: 0.099, c: 2.203, Cost: 635.858154\n",
            "Epoch 9001/10000 a: 0.311, b: 0.134, c: 2.228, Cost: 634.033569\n"
          ]
        },
        {
          "output_type": "display_data",
          "data": {
            "text/plain": [
              "<Figure size 720x216 with 3 Axes>"
            ],
            "image/png": "[encoded data removed]"
          },
          "metadata": {
            "needs_background": "light"
          }
        }
      ]
    },
    {
      "cell_type": "code",
      "source": [
        "# 위와 똑같은 문제를 4차 다항식으로 정의 하시요. 결과가 어떤가요?\n",
        "\n",
        "# 데이터 생성\n",
        "x_train = torch.arange(0,20).float()\n",
        "y_train = x_train*3 + 0.75*((x_train-9.5)**2)+1\n",
        "\n",
        "\n",
        "# 모델 가정\n",
        "def hypothesis(x, coefficients):\n",
        "    a,b,c,d,e = coefficients\n",
        "\n",
        "    ##### [실습]\n",
        "    ##### 학습할 모델(=수식) 을 정의한다 \n",
        "    hypo = a*(x**4)+b*(x**3)+c*(x**2)+d*(x) + e\n",
        "    ##### \n",
        "\n",
        "    return hypo \n",
        "\n",
        "\n",
        "##### RMSE Loss를 구현해 본다. \n",
        "def rmse(preds, targets):\n",
        "\n",
        "    error = preds-targets\n",
        "    ###### RMSE를 정의한다 ###\n",
        "    rmse = ?????\n",
        "    ######\n",
        "\n",
        "    return rmse\n",
        "\n",
        "fig, ax = plt.subplots(1,3, figsize=(10,3))\n",
        "show_predicted(x_train,y_train, None, ax[0])\n",
        "\n",
        "\n",
        "##### [실습] 4차 함수\n",
        "params = torch.randn(5).requires_grad_()\n",
        "print(f\"Initial Weights: {params}\")\n",
        "\n",
        "# 예측값 생성\n",
        "preds = hypothesis(x_train, params)\n",
        "show_predicted(x_train, y_train, preds.detach().numpy(), ax[1])\n",
        "\n",
        "# RMSE loss\n",
        "cost = rmse(preds,  y_train)\n",
        "print(f\"Initial Cost: {cost}\")\n",
        "\n",
        "\n",
        "##### [실습] Learning Rate을 바꾸어 가면서 실험해 보세요\n",
        "optimizer = torch.optim.SGD([params], lr=?????) # 0.0001?\n",
        "\n",
        "##### [실습] Epoch를 바꾼다면?\n",
        "nb_epochs = ????? # 10000? 원하는만큼 경사 하강법을 반복\n",
        "for epoch in range(nb_epochs + 1):\n",
        "\n",
        "    ##### 예측값을 생성해 본다. \n",
        "    preds = ?????\n",
        "    #####\n",
        "    \n",
        "    # cost 계산\n",
        "    cost = rmse(preds,  y_train)\n",
        "\n",
        "    optimizer.zero_grad() # 초기화\n",
        "    cost.backward() # gradient계산\n",
        "\n",
        "    ##### 계산된 gradient 값을 이용하여 W,b 업데이트하는 Step을 구현한다\n",
        "    ?????\n",
        "    #####\n",
        "\n",
        "\n",
        "    # 100번마다 로그 출력\n",
        "    if epoch % (nb_epochs/10) == 1:\n",
        "        print('Epoch {:4d}/{} a: {:.3f}, b: {:.3f}, c: {:.3f}, Cost: {:.6f}'.format(\n",
        "            epoch, nb_epochs, params[0].item(), params[1].item(), params[2].item(), cost.item()\n",
        "        ))\n",
        "\n",
        "preds = hypothesis(x_train, params)\n",
        "show_predicted(x_train, y_train, preds.detach().numpy(), ax[2])"
      ],
      "metadata": {
        "id": "KlDbZhRlp2bm",
        "colab": {
          "base_uri": "https://localhost:8080/",
          "height": 451
        },
        "outputId": "a8a28056-0f7e-497b-afd5-69e90e0c6a6c"
      },
      "execution_count": null,
      "outputs": [
        {
          "output_type": "stream",
          "name": "stdout",
          "text": [
            "Initial Weights: tensor([ 0.4806, -1.1301,  0.4818, -0.6329, -0.4162], requires_grad=True)\n",
            "Initial Cost: 19706.943359375\n",
            "Epoch    1/10000 a: 0.481, b: -1.129, c: 0.482, Cost: 205709.703125\n",
            "Epoch 1001/10000 a: 0.684, b: -0.859, c: 0.518, Cost: 195366.000000\n",
            "Epoch 2001/10000 a: 0.757, b: -0.688, c: 0.542, Cost: 191439.937500\n",
            "Epoch 3001/10000 a: 0.795, b: -0.559, c: 0.559, Cost: 189281.703125\n",
            "Epoch 4001/10000 a: 0.817, b: -0.458, c: 0.573, Cost: 187957.187500\n",
            "Epoch 5001/10000 a: 0.830, b: -0.376, c: 0.584, Cost: 187098.796875\n",
            "Epoch 6001/10000 a: 0.838, b: -0.310, c: 0.594, Cost: 186524.531250\n",
            "Epoch 7001/10000 a: 0.844, b: -0.255, c: 0.601, Cost: 186130.187500\n",
            "Epoch 8001/10000 a: 0.847, b: -0.210, c: 0.607, Cost: 185854.671875\n",
            "Epoch 9001/10000 a: 0.849, b: -0.173, c: 0.613, Cost: 185658.468750\n"
          ]
        },
        {
          "output_type": "display_data",
          "data": {
            "text/plain": [
              "<Figure size 720x216 with 3 Axes>"
            ],
            "image/png": "[encoded data removed]"
          },
          "metadata": {
            "needs_background": "light"
          }
        }
      ]
    },
    {
      "cell_type": "code",
      "source": [
        "# y = 2x +1 데이터를 확인한다 \n",
        "x_train = torch.FloatTensor([[1], [2], [3]])\n",
        "y_train = torch.FloatTensor([[3], [5], [7]])\n",
        "\n",
        "# Linear function\n",
        "def hypothesis(x, coefficients):\n",
        "    a,b = coefficients\n",
        "    return a*x + b\n",
        "                 \n",
        "\n",
        "##### RMSE Loss를 구현해 본다. \n",
        "def rmse(preds, targets):\n",
        "    return ?????\n",
        "#####\n",
        "\n",
        "###### 실습 : Learing Rate 를 바꾸어 가면서 위 데이터에 대한 문제를 풀어 본다. \n",
        "def show_predicted(x, y, preds, ax=None):\n",
        "    if ax is None: \n",
        "      ax=plt.subplots(figsize=(3,3))[1]\n",
        "    ax.scatter(x,y, label='true')\n",
        "\n",
        "    if preds is not None:\n",
        "      ax.scatter(x, preds, label='pred', color='red')\n",
        "    ax.legend()\n",
        "\n",
        "\n",
        "fig, ax = plt.subplots(1,3, figsize=(10,3))\n",
        "show_predicted(x_train,y_train, None, ax[0])\n",
        "\n",
        "params = torch.randn(2).requires_grad_()\n",
        "print(f\"Initial Weights: {params}\")\n",
        "\n",
        "preds = hypothesis(x_train, params)\n",
        "show_predicted(x_train, y_train, preds.detach().numpy(), ax[1])\n",
        "\n",
        "# RMSE loss\n",
        "cost = rmse(preds,  y_train)\n",
        "\n",
        "print(f\"Initial Cost: {cost}\")\n",
        "\n",
        "\n",
        "# Weight와 Bias를 cost를 줄이는 방향으로 업데이트 ~ Optimization(최적화)\n",
        "\n",
        "### Learning Rate를 0.0001, 0.1, 0.00000001 에 대해 실험해 본다. \n",
        "optimizer = torch.optim.SGD([params], lr=?????) \n",
        "\n",
        "nb_epochs = 1000 # 원하는만큼 경사 하강법을 반복\n",
        "for epoch in range(nb_epochs + 1):\n",
        "\n",
        "    ##### 예측값을 생성해 본다. \n",
        "    preds = hypothesis(x_train, params)\n",
        "    #####\n",
        "    \n",
        "    # cost 계산\n",
        "    cost = rmse(preds,  y_train)\n",
        "\n",
        "    optimizer.zero_grad() # 초기화\n",
        "    cost.backward() # gradient계산\n",
        "\n",
        "    ##### 계산된 gradient 값을 이용하여 W,b 업데이트하는 Step을 구현한다\n",
        "    optimizer.step() \n",
        "    #####\n",
        "\n",
        "\n",
        "    # 100번마다 로그 출력\n",
        "    if epoch % (nb_epochs/10) == 1:\n",
        "        print('Epoch {:4d}/{} a: {:.3f}, b: {:.3f}, Cost: {:.6f}'.format(\n",
        "            epoch, nb_epochs, params[0].item(), params[1].item(), cost.item()\n",
        "        ))\n",
        "\n",
        "preds = hypothesis(x_train, params)\n",
        "show_predicted(x_train, y_train, preds.detach().numpy(), ax[2])"
      ],
      "metadata": {
        "colab": {
          "base_uri": "https://localhost:8080/",
          "height": 431
        },
        "id": "2JvctUTZa2SN",
        "outputId": "436b982e-00d4-4470-9590-9470a1fa560b"
      },
      "execution_count": null,
      "outputs": [
        {
          "output_type": "stream",
          "name": "stdout",
          "text": [
            "Initial Weights: tensor([0.7690, 0.5841], requires_grad=True)\n",
            "Initial Cost: 3.048475503921509\n",
            "Epoch    1/1000 a: 0.812, b: 0.603, Cost: 2.993020\n",
            "Epoch  101/1000 a: 2.006, b: 1.016, Cost: 0.027716\n",
            "Epoch  201/1000 a: 2.011, b: 1.005, Cost: 0.027733\n",
            "Epoch  301/1000 a: 2.011, b: 1.005, Cost: 0.027730\n",
            "Epoch  401/1000 a: 2.011, b: 1.005, Cost: 0.027731\n",
            "Epoch  501/1000 a: 2.011, b: 1.005, Cost: 0.027731\n",
            "Epoch  601/1000 a: 2.011, b: 1.005, Cost: 0.027731\n",
            "Epoch  701/1000 a: 2.011, b: 1.005, Cost: 0.027731\n",
            "Epoch  801/1000 a: 2.011, b: 1.005, Cost: 0.027731\n",
            "Epoch  901/1000 a: 2.011, b: 1.005, Cost: 0.027731\n"
          ]
        },
        {
          "output_type": "display_data",
          "data": {
            "text/plain": [
              "<Figure size 720x216 with 3 Axes>"
            ],
            "image/png": "[encoded data removed]"
          },
          "metadata": {
            "needs_background": "light"
          }
        }
      ]
    },
    {
      "cell_type": "markdown",
      "source": [
        "## 데이터의 형태를 알아도 잘 학습이 안되는 경우"
      ],
      "metadata": {
        "id": "MDZ0e7P3d6Yn"
      }
    },
    {
      "cell_type": "code",
      "source": [
        "import torch \n",
        "from torch import optim\n",
        "import numpy as np\n",
        "import matplotlib.pyplot as plt\n",
        "\n",
        "x_train = torch.arange(1,100,5).float() # start, stop, step\n",
        "y_train=0.15*x_train**3 - 20*x_train**2 + 5*x_train - 4 + 5000\n",
        "\n",
        "def hypothesis(x, coefficients):\n",
        "    a,b,c,d = coefficients\n",
        "\n",
        "    \n",
        "    return a*(x**3)+b*(x**2)+c*x+d\n",
        "\n",
        "############################################################\n",
        "##### 실습 : 3차식 문제를 풀 수 있는 코드를 작성해 보세요\n",
        "params = ?????\n",
        "print(f\"Initial Weights: {params}\")\n",
        "\n",
        "preds = hypothesis(x_train, params)\n",
        "\n",
        "fig, ax = plt.subplots(1,2, figsize=(10,3))\n",
        "show_predicted(x_train, y_train, preds.detach().numpy(), ax[0])\n",
        "\n",
        "cost = rmse(preds,  y_train)\n",
        "\n",
        "print(f\"Initial Cost: {cost}\")\n",
        "\n",
        "# Weight와 Bias를 cost를 줄이는 방향으로 업데이트 ~ Optimization(최적화)\n",
        "optimizer = torch.optim.SGD([params], lr=0.001)\n",
        "\n",
        "nb_epochs = 10000 # 원하는만큼 경사 하강법을 반복\n",
        "for epoch in range(nb_epochs + 1):\n",
        "\n",
        "    preds = hypothesis(x_train, params)\n",
        "    # cost 계산\n",
        "    cost =  rmse(preds,  y_train)\n",
        "\n",
        "    optimizer.zero_grad() # 초기화\n",
        "    cost.backward() # gradient계산\n",
        "    optimizer.step() # 계산된 gradient 값을 이용하여 W,b 업데이트\n",
        "\n",
        "\n",
        "    # 100번마다 로그 출력\n",
        "    if epoch % (nb_epochs/10) == 1:\n",
        "        print('Epoch {:4d}/{} a: {:.3f}, b: {:.3f}, c: {:.3f}, d: {:.3f}, Cost: {:.6f}'.format(\n",
        "            epoch, nb_epochs, params[0].item(), params[1].item(), params[2].item(), params[3].item(), cost.item()\n",
        "        ))\n",
        "\n",
        "preds = hypothesis(x_train, params)\n",
        "show_predicted(x_train, y_train, preds.detach().numpy(),ax[1])"
      ],
      "metadata": {
        "id": "EHSUz8oya10N",
        "colab": {
          "base_uri": "https://localhost:8080/",
          "height": 441
        },
        "outputId": "47745aef-607c-4e69-a9e3-f4e9887a3df7"
      },
      "execution_count": null,
      "outputs": [
        {
          "output_type": "stream",
          "name": "stdout",
          "text": [
            "Initial Weights: tensor([-0.3453,  0.9821, -0.3403,  0.1119], requires_grad=True)\n",
            "Initial Cost: 92553.875\n",
            "Epoch    1/10000 a: -3.554, b: 0.851, c: -0.343, d: 0.112, Cost: 126714752.000000\n",
            "Epoch 1001/10000 a: -6.894, b: -1.304, c: -0.405, d: 0.110, Cost: 125511136.000000\n",
            "Epoch 2001/10000 a: -8.207, b: -2.677, c: -0.445, d: 0.110, Cost: 125035600.000000\n",
            "Epoch 3001/10000 a: -9.046, b: -3.776, c: -0.476, d: 0.109, Cost: 124730800.000000\n",
            "Epoch 4001/10000 a: -9.662, b: -4.710, c: -0.502, d: 0.109, Cost: 124506680.000000\n",
            "Epoch 5001/10000 a: -10.142, b: -5.527, c: -0.526, d: 0.108, Cost: 124331456.000000\n",
            "Epoch 6001/10000 a: -10.525, b: -6.255, c: -0.546, d: 0.108, Cost: 124191224.000000\n",
            "Epoch 7001/10000 a: -10.842, b: -6.911, c: -0.564, d: 0.107, Cost: 124075048.000000\n",
            "Epoch 8001/10000 a: -11.098, b: -7.509, c: -0.581, d: 0.107, Cost: 123981176.000000\n",
            "Epoch 9001/10000 a: -11.320, b: -8.055, c: -0.596, d: 0.107, Cost: 123899384.000000\n"
          ]
        },
        {
          "output_type": "display_data",
          "data": {
            "text/plain": [
              "<Figure size 720x216 with 2 Axes>"
            ],
            "image/png": "[encoded data removed]"
          },
          "metadata": {
            "needs_background": "light"
          }
        }
      ]
    },
    {
      "cell_type": "markdown",
      "source": [
        "## nn.Linear()를 이용하여 위 문제를 해결해 봅시다\n",
        "* Loss 함수도 :Pytorch 내부에 있는 것을 활용한다. \n",
        "\n",
        "https://pytorch.org/docs/stable/generated/torch.nn.Linear.html\n"
      ],
      "metadata": {
        "id": "0YnBK9VpKo0n"
      }
    },
    {
      "cell_type": "code",
      "source": [
        "import torch \n",
        "from torch import optim\n",
        "import numpy as np\n",
        "import matplotlib.pyplot as plt\n",
        "\n",
        "x_train = torch.arange(1,100,5).float().unsqueeze(1) # start, stop, step\n",
        "y_train=0.15*x_train**3 - 20*x_train**2 + 5*x_train - 4 + 5000\n",
        "\n",
        "#######\n",
        "######## 실습 : 1개의 입력을 받고 1개의 출력을 내는 Linear 모델은 어떻게 선언할까요?\n",
        "model = ?????\n",
        "########\n",
        "\n",
        "\n",
        "print(f\"Initial Weights: {list(model.parameters())}\")\n",
        "\n",
        "preds = model(x_train)\n",
        "\n",
        "fig, ax = plt.subplots(1,2, figsize=(10,3))\n",
        "show_predicted(x_train, y_train, preds.detach().numpy(), ax[0])\n",
        "\n",
        "cost = rmse(preds,  y_train)\n",
        "\n",
        "print(f\"Initial Cost: {cost}\")\n",
        "\n",
        "# Weight와 Bias를 cost를 줄이는 방향으로 업데이트 ~ Optimization(최적화)\n",
        "optimizer = torch.optim.SGD( model.parameters(), lr=0.1)\n",
        "\n",
        "nb_epochs = 1000 # 원하는만큼 경사 하강법을 반복\n",
        "for epoch in range(nb_epochs + 1):\n",
        "\n",
        "    preds = model(x_train)\n",
        "    # cost 계산\n",
        "    cost =  rmse(preds,  y_train)\n",
        "\n",
        "    optimizer.zero_grad() # 초기화\n",
        "    cost.backward() # gradient계산\n",
        "    optimizer.step() # 계산된 gradient 값을 이용하여 W,b 업데이트\n",
        "\n",
        "\n",
        "    # 100번마다 로그 출력\n",
        "    if epoch % 100 == 1:\n",
        "        print('Epoch {:4d}/{},  Cost: {:.6f}'.format(\n",
        "            epoch, nb_epochs, cost.item()\n",
        "        ))\n",
        "\n",
        "preds = model(x_train)\n",
        "show_predicted(x_train, y_train, preds.detach().numpy(),ax[1])\n",
        "print(f\"Train accuracy(RMSE) :  {torch.sqrt(nn.MSELoss()(preds,  y_train))}\")"
      ],
      "metadata": {
        "colab": {
          "base_uri": "https://localhost:8080/",
          "height": 486
        },
        "id": "c9XfthNAKmoP",
        "outputId": "a6c57020-3c7e-42ed-9ade-06ef1abab261"
      },
      "execution_count": null,
      "outputs": [
        {
          "output_type": "stream",
          "name": "stdout",
          "text": [
            "Initial Weights: [Parameter containing:\n",
            "tensor([[-0.8604]], requires_grad=True), Parameter containing:\n",
            "tensor([-0.9921], requires_grad=True)]\n",
            "Initial Cost: 29967.884765625\n",
            "Epoch    1/1000,  Cost: 29659.587891\n",
            "Epoch  101/1000,  Cost: 5704.567383\n",
            "Epoch  201/1000,  Cost: 5328.377930\n",
            "Epoch  301/1000,  Cost: 5326.647461\n",
            "Epoch  401/1000,  Cost: 5324.918945\n",
            "Epoch  501/1000,  Cost: 5323.190918\n",
            "Epoch  601/1000,  Cost: 5321.463867\n",
            "Epoch  701/1000,  Cost: 5319.737793\n",
            "Epoch  801/1000,  Cost: 5318.010742\n",
            "Epoch  901/1000,  Cost: 5316.285156\n",
            "Train accuracy(RMSE) :  5314.56005859375\n"
          ]
        },
        {
          "output_type": "display_data",
          "data": {
            "text/plain": [
              "<Figure size 720x216 with 2 Axes>"
            ],
            "image/png": "[encoded data removed]"
          },
          "metadata": {
            "needs_background": "light"
          }
        }
      ]
    },
    {
      "cell_type": "markdown",
      "source": [
        "## Multi Layer Perceptron (MLP)로 해당 문제를 해결합니다. \n",
        "\n",
        "https://pytorch.org/docs/stable/generated/torch.nn.Sequential.html?highlight=sequential#torch.nn.Sequential"
      ],
      "metadata": {
        "id": "xfigVLaYyIEd"
      }
    },
    {
      "cell_type": "code",
      "source": [
        "import torch \n",
        "from torch import optim\n",
        "import numpy as np\n",
        "import matplotlib.pyplot as plt\n",
        "\n",
        "x_train = torch.arange(1,100,5).float().unsqueeze(1) # start, stop, step\n",
        "y_train=0.15*x_train**3 - 20*x_train**2 + 5*x_train - 4 + 5000\n",
        "\n",
        "\n",
        "###############\n",
        "###### 실습 : inputsize=1, hidden_size=5, outputsize=1 짜리 MLP를 만들어 보세요\n",
        "model = ?????\n",
        "###############\n",
        "\n",
        "\n",
        "print(f\"Initial Weights: {list(model.parameters())}\")\n",
        "\n",
        "preds = model(x_train)\n",
        "\n",
        "fig, ax = plt.subplots(1,2, figsize=(10,3))\n",
        "show_predicted(x_train, y_train, preds.detach().numpy(), ax[0])\n",
        "\n",
        "cost = rmse(preds,  y_train)\n",
        "\n",
        "print(f\"Initial Cost: {cost}\")\n",
        "\n",
        "# Weight와 Bias를 cost를 줄이는 방향으로 업데이트 ~ Optimization(최적화)\n",
        "optimizer = torch.optim.SGD( model.parameters(), lr=0.0001)\n",
        "\n",
        "nb_epochs = 1000 # 원하는만큼 경사 하강법을 반복\n",
        "for epoch in range(nb_epochs + 1):\n",
        "\n",
        "    preds = model(x_train)\n",
        "    # cost 계산\n",
        "    cost =  torch.sqrt(nn.MSELoss()(preds,  y_train))\n",
        "\n",
        "    optimizer.zero_grad() # 초기화\n",
        "    cost.backward() # gradient계산\n",
        "    optimizer.step() # 계산된 gradient 값을 이용하여 W,b 업데이트\n",
        "\n",
        "\n",
        "    # 100번마다 로그 출력\n",
        "    if epoch % 100 == 1:\n",
        "        print('Epoch {:4d}/{},  Cost: {:.6f}'.format(\n",
        "            epoch, nb_epochs, cost.item()\n",
        "        ))\n",
        "\n",
        "preds = model(x_train)\n",
        "show_predicted(x_train, y_train, preds.detach().numpy(),ax[1])\n",
        "print(f\"Train accuracy(RMSE) :  {torch.sqrt(nn.MSELoss()(preds,  y_train))}\")"
      ],
      "metadata": {
        "colab": {
          "base_uri": "https://localhost:8080/",
          "height": 727
        },
        "id": "G7f7m8gqKoOm",
        "outputId": "7b77a672-4971-4fb8-e348-25518be6d0e5"
      },
      "execution_count": null,
      "outputs": [
        {
          "output_type": "stream",
          "name": "stdout",
          "text": [
            "Initial Weights: [Parameter containing:\n",
            "tensor([[-0.0731],\n",
            "        [ 0.8802],\n",
            "        [-0.1848],\n",
            "        [-0.0872],\n",
            "        [-0.0075]], requires_grad=True), Parameter containing:\n",
            "tensor([ 0.5783,  0.8458, -0.1372, -0.5813, -0.4112], requires_grad=True), Parameter containing:\n",
            "tensor([[-0.4065, -0.0582, -0.0565, -0.4397, -0.3083],\n",
            "        [-0.1833,  0.0565,  0.1934, -0.3284, -0.3722],\n",
            "        [ 0.3605,  0.3704,  0.4138,  0.0834, -0.0441],\n",
            "        [-0.0974, -0.1675, -0.2834, -0.0174,  0.0637],\n",
            "        [-0.2325, -0.1129, -0.1293, -0.0191,  0.1444]], requires_grad=True), Parameter containing:\n",
            "tensor([ 0.4365,  0.2650, -0.0532, -0.2079,  0.1820], requires_grad=True), Parameter containing:\n",
            "tensor([[ 0.3576,  0.1518,  0.4121,  0.1127, -0.4096]], requires_grad=True), Parameter containing:\n",
            "tensor([-0.1506], requires_grad=True)]\n",
            "Initial Cost: 30023.435546875\n",
            "Epoch    1/1000,  Cost: 30023.236328\n",
            "Epoch  101/1000,  Cost: 30005.066406\n",
            "Epoch  201/1000,  Cost: 29950.517578\n",
            "Epoch  301/1000,  Cost: 28995.666016\n",
            "Epoch  401/1000,  Cost: 5335.879883\n",
            "Epoch  501/1000,  Cost: 5328.342773\n",
            "Epoch  601/1000,  Cost: 5320.809570\n",
            "Epoch  701/1000,  Cost: 5313.255859\n",
            "Epoch  801/1000,  Cost: 5305.659180\n",
            "Epoch  901/1000,  Cost: 5297.996094\n",
            "Train accuracy(RMSE) :  5290.24267578125\n"
          ]
        },
        {
          "output_type": "display_data",
          "data": {
            "text/plain": [
              "<Figure size 720x216 with 2 Axes>"
            ],
            "image/png": "[encoded data removed]"
          },
          "metadata": {
            "needs_background": "light"
          }
        }
      ]
    },
    {
      "cell_type": "markdown",
      "source": [
        "## Neural Network 는 nn.Module을 이용하여 객체로 표현합니다. \n",
        "\n",
        "* 위에 실습한 내용을 nn.Module을 이용하여 수정해 봅시다\n",
        "\n",
        "<img src=\"https://raw.githubusercontent.com/mrdbourke/pytorch-deep-learning/main/images/01-pytorch-linear-regression-model-with-nn-Parameter-and-nn-Linear-compared.png\" height=\"300px\" width=\"700px\">\n",
        "\n"
      ],
      "metadata": {
        "id": "CGtv1n98Rdin"
      }
    },
    {
      "cell_type": "code",
      "source": [
        "#### 실습 : nn.Module 을 이용하여 위의 MLP를 구현한다. \n",
        "\n",
        "import torch \n",
        "from torch import optim\n",
        "import numpy as np\n",
        "import matplotlib.pyplot as plt\n",
        "\n",
        "class LinearRegressionModel(nn.Module):\n",
        "\n",
        "  # 객체를 만들때에는 항상 init 이 있어야 함\n",
        "  def __init__(self):\n",
        "    super().__init__()\n",
        "\n",
        "    ####### 실습 : 여기에 모델을 선언한다. \n",
        "    self.linear = ?????\n",
        "  def forward(self, x):\n",
        "      return self.linear(x)\n",
        "\n",
        "\n",
        "\n",
        "\n",
        "x_train = torch.arange(1,100,5).float().unsqueeze(1) # start, stop, step\n",
        "y_train=0.15*x_train**3 - 20*x_train**2 + 5*x_train - 4 + 5000\n",
        "\n",
        "\n",
        "###############\n",
        "###### 실습 : LinearRegressionModel 을 이용해 보세요\n",
        "model = ?????\n",
        "\n",
        "preds = model(x_train)\n",
        "\n",
        "fig, ax = plt.subplots(1,2, figsize=(10,3))\n",
        "show_predicted(x_train, y_train, preds.detach().numpy(), ax[0])\n",
        "\n",
        "cost = rmse(preds,  y_train)\n",
        "\n",
        "print(f\"Initial Cost: {cost}\")\n",
        "\n",
        "# Weight와 Bias를 cost를 줄이는 방향으로 업데이트 ~ Optimization(최적화)\n",
        "optimizer = torch.optim.SGD( model.parameters(), lr=0.0001)\n",
        "\n",
        "nb_epochs = 1000 # 원하는만큼 경사 하강법을 반복\n",
        "for epoch in range(nb_epochs + 1):\n",
        "\n",
        "    preds = model(x_train)\n",
        "    # cost 계산\n",
        "    cost =  torch.sqrt(nn.MSELoss()(preds,  y_train))\n",
        "\n",
        "    optimizer.zero_grad() # 초기화\n",
        "    cost.backward() # gradient계산\n",
        "    optimizer.step() # 계산된 gradient 값을 이용하여 W,b 업데이트\n",
        "\n",
        "\n",
        "    # 100번마다 로그 출력\n",
        "    if epoch % (nb_epochs/10) == 1:\n",
        "        print('Epoch {:4d}/{},  Cost: {:.6f}'.format(\n",
        "            epoch, nb_epochs, cost.item()\n",
        "        ))\n",
        "\n",
        "preds = model(x_train)\n",
        "show_predicted(x_train, y_train, preds.detach().numpy(),ax[1])\n",
        "print(f\"Train accuracy(RMSE) :  {torch.sqrt(nn.MSELoss()(preds,  y_train))}\")"
      ],
      "metadata": {
        "id": "z5YMCdS0Rcf4",
        "colab": {
          "base_uri": "https://localhost:8080/",
          "height": 431
        },
        "outputId": "271809f4-3845-4601-b9d2-4299375212d0"
      },
      "execution_count": null,
      "outputs": [
        {
          "output_type": "stream",
          "name": "stdout",
          "text": [
            "Initial Cost: 30004.380859375\n",
            "Epoch    1/1000,  Cost: 30004.203125\n",
            "Epoch  101/1000,  Cost: 29958.267578\n",
            "Epoch  201/1000,  Cost: 29263.326172\n",
            "Epoch  301/1000,  Cost: 5323.379395\n",
            "Epoch  401/1000,  Cost: 5315.792480\n",
            "Epoch  501/1000,  Cost: 5308.170410\n",
            "Epoch  601/1000,  Cost: 5300.488281\n",
            "Epoch  701/1000,  Cost: 5292.722168\n",
            "Epoch  801/1000,  Cost: 5284.846191\n",
            "Epoch  901/1000,  Cost: 5276.834473\n",
            "Train accuracy(RMSE) :  5268.65478515625\n"
          ]
        },
        {
          "output_type": "display_data",
          "data": {
            "text/plain": [
              "<Figure size 720x216 with 2 Axes>"
            ],
            "image/png": "[encoded data removed]"
          },
          "metadata": {
            "needs_background": "light"
          }
        }
      ]
    },
    {
      "cell_type": "markdown",
      "source": [
        "## Activation 함수를 이용하여 결과에 비 선형성을 추가합니다. \n",
        "\n",
        "<img src=\"https://img1.daumcdn.net/thumb/R1280x0/?scode=mtistory2&fname=https%3A%2F%2Fblog.kakaocdn.net%2Fdn%2FbQFeQ8%2Fbtrq5pVsbmm%2FNglSr508rNOo0ctBziaN5k%2Fimg.png\" height=\"300px\" width=\"500px\">\n",
        "\n",
        "\n",
        "아래 블로그가 정리가 너무 잘 되어 있음\n",
        "\n",
        "https://sanghyu.tistory.com/182"
      ],
      "metadata": {
        "id": "Ak0Eg9jP1ZiL"
      }
    },
    {
      "cell_type": "code",
      "source": [
        "import torch \n",
        "from torch import optim\n",
        "import numpy as np\n",
        "import matplotlib.pyplot as plt\n",
        "\n",
        "x_train = torch.arange(1,100,5).float().unsqueeze(1) # start, stop, step\n",
        "x_train = torch.arange(1,100,1.7).float().unsqueeze(1) # start, stop, step\n",
        "y_train=0.15*x_train**3 - 20*x_train**2 + 5*x_train - 4 + 5000\n",
        "\n",
        "\n",
        "# 학습해야 하는 모델 선언. hidden layer 크기가 인경우를 구현한다\n",
        "model = LinearRegressionModel()\n",
        " \n",
        "# print(f\"Initial Weights: {list(model.parameters())}\")\n",
        "\n",
        "preds = model(x_train)\n",
        "\n",
        "fig, ax = plt.subplots(1,2, figsize=(10,3))\n",
        "show_predicted(x_train, y_train, preds.detach().numpy(), ax[0])\n",
        "\n",
        "cost = rmse(preds,  y_train)\n",
        "\n",
        "print(f\"Initial Cost: {cost}\")\n",
        "\n",
        "# Weight와 Bias를 cost를 줄이는 방향으로 업데이트 ~ Optimization(최적화)\n",
        "#optimizer = torch.optim.SGD( model.parameters(), lr=0.000015)\n",
        "optimizer = torch.optim.SGD( model.parameters(), lr=0.00005)\n",
        "\n",
        "nb_epochs = 10000 # 원하는만큼 경사 하강법을 반복\n",
        "for epoch in range(nb_epochs + 1):\n",
        "\n",
        "    preds = model(x_train)\n",
        "    # cost 계산\n",
        "    cost =  rmse(preds,  y_train)\n",
        "\n",
        "    optimizer.zero_grad() # 초기화\n",
        "    cost.backward() # gradient계산\n",
        "    optimizer.step() # 계산된 gradient 값을 이용하여 W,b 업데이트\n",
        "\n",
        "\n",
        "    # 1000번마다 로그 출력\n",
        "    if epoch % 1000 == 1:\n",
        "        print('Epoch {:4d}/{},  Cost: {:.6f}'.format(\n",
        "            epoch, nb_epochs, cost.item()\n",
        "        ))\n",
        "\n",
        "preds = model(x_train)\n",
        "show_predicted(x_train, y_train, preds.detach().numpy(),ax[1])"
      ],
      "metadata": {
        "colab": {
          "base_uri": "https://localhost:8080/",
          "height": 413
        },
        "id": "6CFA5z8JUI9h",
        "outputId": "4b30a589-6a41-4965-cb74-221c24429e5d"
      },
      "execution_count": null,
      "outputs": [
        {
          "output_type": "stream",
          "name": "stdout",
          "text": [
            "Initial Cost: 30589.27734375\n",
            "Epoch    1/10000,  Cost: 30589.103516\n",
            "Epoch 1001/10000,  Cost: 5351.833008\n",
            "Epoch 2001/10000,  Cost: 5318.494629\n",
            "Epoch 3001/10000,  Cost: 5280.512695\n",
            "Epoch 4001/10000,  Cost: 5233.613281\n",
            "Epoch 5001/10000,  Cost: 5169.701660\n",
            "Epoch 6001/10000,  Cost: 5071.320312\n",
            "Epoch 7001/10000,  Cost: 4898.078613\n",
            "Epoch 8001/10000,  Cost: 4564.565430\n",
            "Epoch 9001/10000,  Cost: 4667.249512\n"
          ]
        },
        {
          "output_type": "display_data",
          "data": {
            "text/plain": [
              "<Figure size 720x216 with 2 Axes>"
            ],
            "image/png": "[encoded data removed]"
          },
          "metadata": {
            "needs_background": "light"
          }
        }
      ]
    },
    {
      "cell_type": "code",
      "source": [
        "import torch \n",
        "from torch import optim\n",
        "import numpy as np\n",
        "import matplotlib.pyplot as plt\n",
        "\n",
        "x_train = torch.arange(1,100,5).float().unsqueeze(1) # start, stop, step\n",
        "x_train = torch.arange(1,100,1.2).float().unsqueeze(1) # start, stop, step\n",
        "y_train=0.15*x_train**3 - 20*x_train**2 + 5*x_train - 4 + 5000\n",
        "\n",
        "class LinearRegressionModel(nn.Module):\n",
        "\n",
        "  # 객체를 만들때에는 항상 init 이 있어야 함\n",
        "  def __init__(self):\n",
        "    super().__init__()\n",
        "    \n",
        "    #################\n",
        "    #### 실습 : 각 linear layer 사이 사이에 Sigmoid, Tanh, ReLU의 activation들을 넣어 보세요. \n",
        "    self.linear = nn.Sequential(nn.Linear(in_features=1, out_features=5, bias=True),\n",
        "                                #### 실습 : ReLU? Sigmoid? Tanh?\n",
        "                                ?????\n",
        "                                \n",
        "                                nn.Linear(in_features=5, out_features=5, bias=True),\n",
        "                                #### 실습 : ReLU? Sigmoid? Tanh?, leakyReLU?\n",
        "                               ?????\n",
        "                                nn.Linear(in_features=5, out_features=1, bias=True),\n",
        "                            )\n",
        "\n",
        "  def forward(self, x):\n",
        "      return self.linear(x)\n",
        "\n",
        "\n",
        "model = LinearRegressionModel()\n",
        " \n",
        "# print(f\"Initial Weights: {list(model.parameters())}\")\n",
        "\n",
        "preds = model(x_train)\n",
        "\n",
        "fig, ax = plt.subplots(1,2, figsize=(10,3))\n",
        "show_predicted(x_train, y_train, preds.detach().numpy(), ax[0])\n",
        "\n",
        "cost =  torch.sqrt(nn.MSELoss()(preds,  y_train))\n",
        "\n",
        "print(f\"Initial Cost: {cost}\")\n",
        "\n",
        "# Weight와 Bias를 cost를 줄이는 방향으로 업데이트 ~ Optimization(최적화)\n",
        "#optimizer = torch.optim.SGD( model.parameters(), lr=0.000015)\n",
        "optimizer = torch.optim.SGD( model.parameters(), lr=0.0001)\n",
        "\n",
        "nb_epochs = 10000 # 원하는만큼 경사 하강법을 반복\n",
        "for epoch in range(nb_epochs + 1):\n",
        "\n",
        "    preds = model(x_train)\n",
        "    # cost 계산\n",
        "    cost = torch.sqrt(nn.MSELoss()(preds,  y_train))\n",
        "\n",
        "    optimizer.zero_grad() # 초기화\n",
        "    cost.backward() # gradient계산\n",
        "    optimizer.step() # 계산된 gradient 값을 이용하여 W,b 업데이트\n",
        "\n",
        "\n",
        "    # 1000번마다 로그 출력\n",
        "    if epoch % (nb_epochs/10) == 1:\n",
        "        print('Epoch {:4d}/{},  Cost: {:.6f}'.format(\n",
        "            epoch, nb_epochs, cost.item()\n",
        "        ))\n",
        "\n",
        "preds = model(x_train)\n",
        "show_predicted(x_train, y_train, preds.detach().numpy(),ax[1])"
      ],
      "metadata": {
        "colab": {
          "base_uri": "https://localhost:8080/",
          "height": 413
        },
        "id": "RlXkCFyzfTJq",
        "outputId": "9f16cf05-e154-4a08-a992-4ed59e175982"
      },
      "execution_count": null,
      "outputs": [
        {
          "output_type": "stream",
          "name": "stdout",
          "text": [
            "Initial Cost: 30556.826171875\n",
            "Epoch    1/10000,  Cost: 30556.781250\n",
            "Epoch 1001/10000,  Cost: 5311.939453\n",
            "Epoch 2001/10000,  Cost: 5227.095703\n",
            "Epoch 3001/10000,  Cost: 5074.596191\n",
            "Epoch 4001/10000,  Cost: 4654.828613\n",
            "Epoch 5001/10000,  Cost: 4872.522949\n",
            "Epoch 6001/10000,  Cost: 4781.472656\n",
            "Epoch 7001/10000,  Cost: 4661.176270\n",
            "Epoch 8001/10000,  Cost: 4558.097656\n",
            "Epoch 9001/10000,  Cost: 4455.202637\n"
          ]
        },
        {
          "output_type": "display_data",
          "data": {
            "text/plain": [
              "<Figure size 720x216 with 2 Axes>"
            ],
            "image/png": "[encoded data removed]"
          },
          "metadata": {
            "needs_background": "light"
          }
        }
      ]
    },
    {
      "cell_type": "markdown",
      "source": [
        "## [참고] 실험할때 마다 항상 똑같은 값을 만들고 싶으면?\n",
        "* 뉴럴네트워크는 새로 수행될 때마다 Random 값이 생성된다. \n",
        "* Random Seed 를 고정시키면 항상 똑같은 값이 나오게 된다. "
      ],
      "metadata": {
        "id": "1NYyPNMn6P2N"
      }
    },
    {
      "cell_type": "code",
      "source": [
        "seed = 27\n",
        "torch.manual_seed(seed) # cpu 연산 무작위 고정 \n",
        "torch.cuda.manual_seed(seed) # gpu 연산 무작위 고정 \n",
        "torch.cuda.manual_seed_all(seed) # 멀티 gpu 연산 무작위 고정 \n",
        "np.random.seed(seed) # numpy 관련 연산 무작위 고정"
      ],
      "metadata": {
        "id": "fMFcd7KH6IfV"
      },
      "execution_count": null,
      "outputs": []
    },
    {
      "cell_type": "markdown",
      "source": [
        "# 데이터를 대해 Train, Validation, Test용으로 나누는 실습을 한다 \n",
        "* 학습부/평가부를 나누어야 한다 \n",
        "* Multivariate 한 입력을 처리하는 실습을 한다\n",
        "\n",
        "<img src=\"https://img1.daumcdn.net/thumb/R1280x0/?scode=mtistory2&fname=https%3A%2F%2Ft1.daumcdn.net%2Fcfile%2Ftistory%2F99785E3F5E48AEC50A\" height=\"300px\" width=\"500px\">\n",
        "\n",
        "\n",
        "참고\n",
        "\n",
        "https://scikit-learn.org/stable/modules/generated/sklearn.model_selection.train_test_split.html\n",
        "https://blog.naver.com/PostView.naver?blogId=siniphia&logNo=221396370872"
      ],
      "metadata": {
        "id": "5-V6-Sv-RXDi"
      }
    },
    {
      "cell_type": "code",
      "source": [
        "from sklearn.model_selection import train_test_split\n",
        "\n",
        "def get_train_testset(X,y, tensor=False, show=True):\n",
        "\n",
        "  ############## 실습 : train_test_split을 이용하여 데이터를 나눈다.\n",
        "  X_train, X_test, y_train, y_test = ?????\n",
        "  ####################################\n",
        "\n",
        "  if show:\n",
        "    fig, ax = plt.subplots(1,2, figsize=(5,2))\n",
        "    ax[0].scatter(X_train, y_train, s=100)\n",
        "    ax[1].scatter(X_test, y_test, s=100)\n",
        "\n",
        "  if tensor:\n",
        "    X_train = torch.from_numpy(X_train).float()\n",
        "    y_train = torch.from_numpy(y_train).float()\n",
        "    #X_train = x_train.view(X_train.size(0), -1)\n",
        "    #y_train = y_train.view(y_train.size(0), -1)\n",
        "\n",
        "    X_test = torch.from_numpy(X_test).float()\n",
        "    y_test = torch.from_numpy(y_test).float()\n",
        "    #X_test = X_test.view(X_test.size(0), -1)\n",
        "    #y_test = y_test.view(y_test.size(0), -1)\n",
        "\n",
        "  return X_train, X_test, y_train, y_test"
      ],
      "metadata": {
        "id": "Qr0l585YRWPm"
      },
      "execution_count": null,
      "outputs": []
    },
    {
      "cell_type": "code",
      "source": [
        "import torch \n",
        "from torch import optim\n",
        "import numpy as np\n",
        "import matplotlib.pyplot as plt\n",
        "\n",
        "##### 실습 : Seed 를 바꾸어 가면서 실습해 보세요\n",
        "seed = ?????\n",
        "################################\n",
        "torch.manual_seed(seed) # cpu 연산 무작위 고정 \n",
        "torch.cuda.manual_seed(seed) # gpu 연산 무작위 고정 \n",
        "torch.cuda.manual_seed_all(seed) # 멀티 gpu 연산 무작위 고정 \n",
        "np.random.seed(seed) # numpy 관련 연산 무작위 고정\n",
        "\n",
        "x = torch.arange(1,100,1.2).float().unsqueeze(1) # start, stop, step\n",
        "y=0.15*x**3 - 20*x**2 + 5*x - 4 + 5000\n",
        "\n",
        "##################################################\n",
        "###### 실습: 데이터를 Train, Validation, Test로 나눕니다. \n",
        "x_train, x_test, y_train, y_test = ?????\n",
        "x_train, x_val, y_train, y_val = ?????\n",
        "##########################################\n",
        "\n",
        "class LinearRegressionModel(nn.Module):\n",
        "\n",
        "  # 객체를 만들때에는 항상 init 이 있어야 함\n",
        "  def __init__(self):\n",
        "    super().__init__()\n",
        "    self.linear = nn.Sequential(nn.Linear(in_features=1, out_features=10, bias=True),\n",
        "                                nn.LeakyReLU(),\n",
        "                                nn.Linear(in_features=10, out_features=10, bias=True),\n",
        "                                nn.LeakyReLU(),\n",
        "                                nn.Linear(in_features=10, out_features=5, bias=True),\n",
        "                                nn.LeakyReLU(),\n",
        "                                nn.Linear(in_features=5, out_features=1, bias=True),\n",
        "                            )\n",
        "\n",
        "  def forward(self, x):\n",
        "      return self.linear(x)\n",
        "\n",
        "# 학습해야 하는 모델 선언. hidden layer 크기가 인경우를 구현한다\n",
        "model = LinearRegressionModel()\n",
        " \n",
        "# print(f\"Initial Weights: {list(model.parameters())}\")\n",
        "\n",
        "\n",
        "############ 실습 : 학습 데이터를 활용하여 학습\n",
        "preds = model(x_train)\n",
        "##############################################\n",
        "\n",
        "\n",
        "fig, ax = plt.subplots(1,3, figsize=(10,3))\n",
        "show_predicted(x_train, y_train, preds.detach().numpy(), ax[0])\n",
        "\n",
        "cost =  torch.sqrt(nn.MSELoss()(preds,  y_train))\n",
        "\n",
        "print(f\"Initial Cost: {cost}\")\n",
        "\n",
        "# Weight와 Bias를 cost를 줄이는 방향으로 업데이트 ~ Optimization(최적화)\n",
        "optimizer = torch.optim.SGD( model.parameters(), lr=0.0003)\n",
        "\n",
        "################# 실습 : epoch를 원하는 만큼 변경해 보세요\n",
        "nb_epochs = 100000 # 원하는만큼 경사 하강법을 반복\n",
        "###########################################################\n",
        "\n",
        "for epoch in range(nb_epochs + 1):\n",
        "\n",
        "    preds = model(x_train)\n",
        "    # cost 계산\n",
        "    cost = torch.sqrt(nn.MSELoss()(preds, y_train))\n",
        "\n",
        "    optimizer.zero_grad() # 초기화\n",
        "    cost.backward() # gradient계산\n",
        "    optimizer.step() # 계산된 gradient 값을 이용하여 W,b 업데이트\n",
        "\n",
        "\n",
        "    ############ 실습 : Validation 데이터를 활용하여 평가\n",
        "    preds_val = model(x_val)\n",
        "    cost_val = torch.sqrt(nn.MSELoss()(preds_val, y_val))\n",
        "    #######################################################\n",
        "\n",
        "\n",
        "    # 1000번마다 로그 출력\n",
        "    if epoch % (nb_epochs/10) == 1:\n",
        "      print(f'Epoch {epoch:4d}/{nb_epochs}, Cost_train: {cost.item():.6f}, Cost_val: {cost_val.item():.6f}')\n",
        "\n",
        "\n",
        "############ 실습 : 학습데이터에 대한 정확도 계산\n",
        "preds = model(x_train)\n",
        "print(f\"Train accuracy(RMSE) :  {torch.sqrt(nn.MSELoss()(preds,  y_train))}\")\n",
        "##########################################################\n",
        "show_predicted(x_train, y_train, preds.detach().numpy(),ax[1])\n",
        "\n",
        "############ 실습 : 평가데이터에 대한 정확도 계산\n",
        "preds_test = model(x_test)\n",
        "print(f\"Test accuracy(RMSE) : { torch.sqrt(nn.MSELoss()(preds_test,  y_test))}\")\n",
        "############################################################\n",
        "show_predicted(x_test, y_test, preds_test.detach().numpy(),ax[2])"
      ],
      "metadata": {
        "colab": {
          "base_uri": "https://localhost:8080/",
          "height": 450
        },
        "id": "6gU8YfcYXW9B",
        "outputId": "2c643380-bc4f-4598-e3e5-e7ee5d5969be"
      },
      "execution_count": null,
      "outputs": [
        {
          "output_type": "stream",
          "name": "stdout",
          "text": [
            "Initial Cost: 29422.017578125\n",
            "Epoch    1/100000, Cost_train: 29421.978516, Cost_val: 27712.205078\n",
            "Epoch 10001/100000, Cost_train: 3517.961426, Cost_val: 3125.737549\n",
            "Epoch 20001/100000, Cost_train: 2871.091309, Cost_val: 3455.504395\n",
            "Epoch 30001/100000, Cost_train: 2515.645752, Cost_val: 2853.932861\n",
            "Epoch 40001/100000, Cost_train: 2377.968750, Cost_val: 2628.193359\n",
            "Epoch 50001/100000, Cost_train: 2498.940186, Cost_val: 2287.868164\n",
            "Epoch 60001/100000, Cost_train: 2343.754395, Cost_val: 1553.648804\n",
            "Epoch 70001/100000, Cost_train: 3189.262207, Cost_val: 1109.713989\n",
            "Epoch 80001/100000, Cost_train: 997.793579, Cost_val: 2454.334229\n",
            "Epoch 90001/100000, Cost_train: 1255.775513, Cost_val: 2838.122314\n",
            "Train accuracy(RMSE) :  998.219482421875\n",
            "Test accuracy(RMSE) : 1310.677490234375\n"
          ]
        },
        {
          "output_type": "display_data",
          "data": {
            "text/plain": [
              "<Figure size 720x216 with 3 Axes>"
            ],
            "image/png": "[encoded data removed]"
          },
          "metadata": {
            "needs_background": "light"
          }
        }
      ]
    },
    {
      "cell_type": "markdown",
      "source": [
        "# [참고] Sklearn examples"
      ],
      "metadata": {
        "id": "pmp7aciESd6W"
      }
    },
    {
      "cell_type": "code",
      "source": [
        "from sklearn.linear_model import (\n",
        "    LinearRegression,\n",
        "    TheilSenRegressor,\n",
        "    RANSACRegressor,\n",
        "    HuberRegressor,\n",
        ")\n",
        "\n",
        "x = np.arange(1,100,1.2) # start, stop, step\n",
        "y=0.15*x**3 - 20*x**2 + 5*x - 4 + 5000\n",
        "\n",
        "x_train, x_test, y_train, y_test = get_train_testset(x,y, show=False)\n",
        "x_train, x_val, y_train, y_val = get_train_testset(x_train,y_train, show=False)\n",
        "\n",
        "plt.scatter(x_train, y_train, color=\"black\")\n",
        "\n",
        "model_linear= LinearRegression() #random_state=20)\n",
        "model_squared= LinearRegression() #random_state=20)\n",
        "model_cubic= LinearRegression() #random_state=20)\n",
        "\n",
        "x2=x_train**2\n",
        "x3=x_train**3\n",
        "\n",
        "model_linear.fit(np.vstack([x_train]).T, y_train)\n",
        "model_squared.fit(np.vstack([x_train,x2]).T, y_train)\n",
        "model_cubic.fit(np.vstack([x_train,x2,x3]).T, y_train)\n",
        "\n",
        "\n",
        "yf_linear=model_linear.predict(np.vstack([x_test]).T)\n",
        "yf_squared=model_squared.predict(np.vstack([x_test,x_test**2]).T)\n",
        "yf_cubic=model_cubic.predict(np.vstack([x_test,x_test**2,x_test**3]).T)\n",
        "\n",
        "plt.plot(x_test,yf_linear, label=\"linear\")\n",
        "plt.plot(x_test,yf_squared, label=\"squared\")\n",
        "plt.plot(x_test,yf_cubic, label=\"cubic\")\n",
        "plt.legend()\n",
        "\n",
        "from sklearn.metrics import mean_squared_error\n",
        "print (f\"Error yf_linear: {mean_squared_error(y_test, yf_linear, squared=False):.6f}\")\n",
        "print (f\"Error yf_squared: {mean_squared_error(y_test, yf_squared, squared=False):.6f}\")\n",
        "print (f\"Error yf_cubic: {mean_squared_error(y_test, yf_cubic, squared=False):.6f}\")"
      ],
      "metadata": {
        "colab": {
          "base_uri": "https://localhost:8080/",
          "height": 320
        },
        "id": "h2tNBE3vScrS",
        "outputId": "585b8181-c47a-4631-8641-ea3039a5a0fb"
      },
      "execution_count": null,
      "outputs": [
        {
          "output_type": "stream",
          "name": "stdout",
          "text": [
            "Error yf_linear: 4367.800954\n",
            "Error yf_squared: 3085.459794\n",
            "Error yf_cubic: 0.000000\n"
          ]
        },
        {
          "output_type": "display_data",
          "data": {
            "text/plain": [
              "<Figure size 432x288 with 1 Axes>"
            ],
            "image/png": "[encoded data removed]"
          },
          "metadata": {
            "needs_background": "light"
          }
        }
      ]
    },
    {
      "cell_type": "markdown",
      "source": [
        "# 당노병 데이터를 이용하여 본격적인 실습을 해 봅시다. \n",
        "* MLP로 문제를 해결해 본다\n",
        "* LSTM로 문제를 해결해 본다"
      ],
      "metadata": {
        "id": "bgxcqxJwRmE_"
      }
    },
    {
      "cell_type": "code",
      "source": [
        "#importing the inbuilt dataset in sklearn package for performing regression analysis.\n",
        "from sklearn import datasets\n",
        "diabetes = datasets.load_diabetes()\n",
        "print(diabetes.DESCR)"
      ],
      "metadata": {
        "id": "hjkLNrYNRPpf",
        "colab": {
          "base_uri": "https://localhost:8080/"
        },
        "outputId": "f814c06d-c048-4fe3-d259-0474934dbc8d"
      },
      "execution_count": null,
      "outputs": [
        {
          "output_type": "stream",
          "name": "stdout",
          "text": [
            ".. _diabetes_dataset:\n",
            "\n",
            "Diabetes dataset\n",
            "----------------\n",
            "\n",
            "Ten baseline variables, age, sex, body mass index, average blood\n",
            "pressure, and six blood serum measurements were obtained for each of n =\n",
            "442 diabetes patients, as well as the response of interest, a\n",
            "quantitative measure of disease progression one year after baseline.\n",
            "\n",
            "**Data Set Characteristics:**\n",
            "\n",
            "  :Number of Instances: 442\n",
            "\n",
            "  :Number of Attributes: First 10 columns are numeric predictive values\n",
            "\n",
            "  :Target: Column 11 is a quantitative measure of disease progression one year after baseline\n",
            "\n",
            "  :Attribute Information:\n",
            "      - age     age in years\n",
            "      - sex\n",
            "      - bmi     body mass index\n",
            "      - bp      average blood pressure\n",
            "      - s1      tc, total serum cholesterol\n",
            "      - s2      ldl, low-density lipoproteins\n",
            "      - s3      hdl, high-density lipoproteins\n",
            "      - s4      tch, total cholesterol / HDL\n",
            "      - s5      ltg, possibly log of serum triglycerides level\n",
            "      - s6      glu, blood sugar level\n",
            "\n",
            "Note: Each of these 10 feature variables have been mean centered and scaled by the standard deviation times `n_samples` (i.e. the sum of squares of each column totals 1).\n",
            "\n",
            "Source URL:\n",
            "https://www4.stat.ncsu.edu/~boos/var.select/diabetes.html\n",
            "\n",
            "For more information see:\n",
            "Bradley Efron, Trevor Hastie, Iain Johnstone and Robert Tibshirani (2004) \"Least Angle Regression,\" Annals of Statistics (with discussion), 407-499.\n",
            "(https://web.stanford.edu/~hastie/Papers/LARS/LeastAngle_2002.pdf)\n"
          ]
        }
      ]
    },
    {
      "cell_type": "code",
      "source": [
        "print(f\"feature names: {diabetes.feature_names }\")\n",
        "print(f\"data shape: {diabetes.data.shape}\")"
      ],
      "metadata": {
        "colab": {
          "base_uri": "https://localhost:8080/"
        },
        "id": "IDPeUkophYCj",
        "outputId": "0cda48d2-1b24-4f5a-8b5f-cfa85fa28e33"
      },
      "execution_count": null,
      "outputs": [
        {
          "output_type": "stream",
          "name": "stdout",
          "text": [
            "feature names: ['age', 'sex', 'bmi', 'bp', 's1', 's2', 's3', 's4', 's5', 's6']\n",
            "data shape: (442, 10)\n"
          ]
        }
      ]
    },
    {
      "cell_type": "code",
      "source": [
        "import pandas as pd\n",
        "\n",
        "df_data = pd.DataFrame(diabetes.data,columns=diabetes.feature_names)\n",
        "df_data['target'] = diabetes.target # add target\n",
        "df_data.head()"
      ],
      "metadata": {
        "colab": {
          "base_uri": "https://localhost:8080/",
          "height": 270
        },
        "id": "3wyVM1xHhy6O",
        "outputId": "c5894fcb-c425-405e-ae57-437993cbaa65"
      },
      "execution_count": null,
      "outputs": [
        {
          "output_type": "execute_result",
          "data": {
            "text/plain": [
              "        age       sex       bmi        bp        s1        s2        s3  \\\n",
              "0  0.038076  0.050680  0.061696  0.021872 -0.044223 -0.034821 -0.043401   \n",
              "1 -0.001882 -0.044642 -0.051474 -0.026328 -0.008449 -0.019163  0.074412   \n",
              "2  0.085299  0.050680  0.044451 -0.005671 -0.045599 -0.034194 -0.032356   \n",
              "3 -0.089063 -0.044642 -0.011595 -0.036656  0.012191  0.024991 -0.036038   \n",
              "4  0.005383 -0.044642 -0.036385  0.021872  0.003935  0.015596  0.008142   \n",
              "\n",
              "         s4        s5        s6  target  \n",
              "0 -0.002592  0.019908 -0.017646   151.0  \n",
              "1 -0.039493 -0.068330 -0.092204    75.0  \n",
              "2 -0.002592  0.002864 -0.025930   141.0  \n",
              "3  0.034309  0.022692 -0.009362   206.0  \n",
              "4 -0.002592 -0.031991 -0.046641   135.0  "
            ],
            "text/html": [
              "\n",
              "  <div id=\"df-de2cd6c6-a3bd-41e0-bfe5-3840a049b4da\">\n",
              "    <div class=\"colab-df-container\">\n",
              "      <div>\n",
              "<style scoped>\n",
              "    .dataframe tbody tr th:only-of-type {\n",
              "        vertical-align: middle;\n",
              "    }\n",
              "\n",
              "    .dataframe tbody tr th {\n",
              "        vertical-align: top;\n",
              "    }\n",
              "\n",
              "    .dataframe thead th {\n",
              "        text-align: right;\n",
              "    }\n",
              "</style>\n",
              "<table border=\"1\" class=\"dataframe\">\n",
              "  <thead>\n",
              "    <tr style=\"text-align: right;\">\n",
              "      <th></th>\n",
              "      <th>age</th>\n",
              "      <th>sex</th>\n",
              "      <th>bmi</th>\n",
              "      <th>bp</th>\n",
              "      <th>s1</th>\n",
              "      <th>s2</th>\n",
              "      <th>s3</th>\n",
              "      <th>s4</th>\n",
              "      <th>s5</th>\n",
              "      <th>s6</th>\n",
              "      <th>target</th>\n",
              "    </tr>\n",
              "  </thead>\n",
              "  <tbody>\n",
              "    <tr>\n",
              "      <th>0</th>\n",
              "      <td>0.038076</td>\n",
              "      <td>0.050680</td>\n",
              "      <td>0.061696</td>\n",
              "      <td>0.021872</td>\n",
              "      <td>-0.044223</td>\n",
              "      <td>-0.034821</td>\n",
              "      <td>-0.043401</td>\n",
              "      <td>-0.002592</td>\n",
              "      <td>0.019908</td>\n",
              "      <td>-0.017646</td>\n",
              "      <td>151.0</td>\n",
              "    </tr>\n",
              "    <tr>\n",
              "      <th>1</th>\n",
              "      <td>-0.001882</td>\n",
              "      <td>-0.044642</td>\n",
              "      <td>-0.051474</td>\n",
              "      <td>-0.026328</td>\n",
              "      <td>-0.008449</td>\n",
              "      <td>-0.019163</td>\n",
              "      <td>0.074412</td>\n",
              "      <td>-0.039493</td>\n",
              "      <td>-0.068330</td>\n",
              "      <td>-0.092204</td>\n",
              "      <td>75.0</td>\n",
              "    </tr>\n",
              "    <tr>\n",
              "      <th>2</th>\n",
              "      <td>0.085299</td>\n",
              "      <td>0.050680</td>\n",
              "      <td>0.044451</td>\n",
              "      <td>-0.005671</td>\n",
              "      <td>-0.045599</td>\n",
              "      <td>-0.034194</td>\n",
              "      <td>-0.032356</td>\n",
              "      <td>-0.002592</td>\n",
              "      <td>0.002864</td>\n",
              "      <td>-0.025930</td>\n",
              "      <td>141.0</td>\n",
              "    </tr>\n",
              "    <tr>\n",
              "      <th>3</th>\n",
              "      <td>-0.089063</td>\n",
              "      <td>-0.044642</td>\n",
              "      <td>-0.011595</td>\n",
              "      <td>-0.036656</td>\n",
              "      <td>0.012191</td>\n",
              "      <td>0.024991</td>\n",
              "      <td>-0.036038</td>\n",
              "      <td>0.034309</td>\n",
              "      <td>0.022692</td>\n",
              "      <td>-0.009362</td>\n",
              "      <td>206.0</td>\n",
              "    </tr>\n",
              "    <tr>\n",
              "      <th>4</th>\n",
              "      <td>0.005383</td>\n",
              "      <td>-0.044642</td>\n",
              "      <td>-0.036385</td>\n",
              "      <td>0.021872</td>\n",
              "      <td>0.003935</td>\n",
              "      <td>0.015596</td>\n",
              "      <td>0.008142</td>\n",
              "      <td>-0.002592</td>\n",
              "      <td>-0.031991</td>\n",
              "      <td>-0.046641</td>\n",
              "      <td>135.0</td>\n",
              "    </tr>\n",
              "  </tbody>\n",
              "</table>\n",
              "</div>\n",
              "      <button class=\"colab-df-convert\" onclick=\"convertToInteractive('df-de2cd6c6-a3bd-41e0-bfe5-3840a049b4da')\"\n",
              "              title=\"Convert this dataframe to an interactive table.\"\n",
              "              style=\"display:none;\">\n",
              "        \n",
              "  <svg xmlns=\"http://www.w3.org/2000/svg\" height=\"24px\"viewBox=\"0 0 24 24\"\n",
              "       width=\"24px\">\n",
              "    <path d=\"M0 0h24v24H0V0z\" fill=\"none\"/>\n",
              "    <path d=\"M18.56 5.44l.94 2.06.94-2.06 2.06-.94-2.06-.94-.94-2.06-.94 2.06-2.06.94zm-11 1L8.5 8.5l.94-2.06 2.06-.94-2.06-.94L8.5 2.5l-.94 2.06-2.06.94zm10 10l.94 2.06.94-2.06 2.06-.94-2.06-.94-.94-2.06-.94 2.06-2.06.94z\"/><path d=\"M17.41 7.96l-1.37-1.37c-.4-.4-.92-.59-1.43-.59-.52 0-1.04.2-1.43.59L10.3 9.45l-7.72 7.72c-.78.78-.78 2.05 0 2.83L4 21.41c.39.39.9.59 1.41.59.51 0 1.02-.2 1.41-.59l7.78-7.78 2.81-2.81c.8-.78.8-2.07 0-2.86zM5.41 20L4 18.59l7.72-7.72 1.47 1.35L5.41 20z\"/>\n",
              "  </svg>\n",
              "      </button>\n",
              "      \n",
              "  <style>\n",
              "    .colab-df-container {\n",
              "      display:flex;\n",
              "      flex-wrap:wrap;\n",
              "      gap: 12px;\n",
              "    }\n",
              "\n",
              "    .colab-df-convert {\n",
              "      background-color: #E8F0FE;\n",
              "      border: none;\n",
              "      border-radius: 50%;\n",
              "      cursor: pointer;\n",
              "      display: none;\n",
              "      fill: #1967D2;\n",
              "      height: 32px;\n",
              "      padding: 0 0 0 0;\n",
              "      width: 32px;\n",
              "    }\n",
              "\n",
              "    .colab-df-convert:hover {\n",
              "      background-color: #E2EBFA;\n",
              "      box-shadow: 0px 1px 2px rgba(60, 64, 67, 0.3), 0px 1px 3px 1px rgba(60, 64, 67, 0.15);\n",
              "      fill: #174EA6;\n",
              "    }\n",
              "\n",
              "    [theme=dark] .colab-df-convert {\n",
              "      background-color: #3B4455;\n",
              "      fill: #D2E3FC;\n",
              "    }\n",
              "\n",
              "    [theme=dark] .colab-df-convert:hover {\n",
              "      background-color: #434B5C;\n",
              "      box-shadow: 0px 1px 3px 1px rgba(0, 0, 0, 0.15);\n",
              "      filter: drop-shadow(0px 1px 2px rgba(0, 0, 0, 0.3));\n",
              "      fill: #FFFFFF;\n",
              "    }\n",
              "  </style>\n",
              "\n",
              "      <script>\n",
              "        const buttonEl =\n",
              "          document.querySelector('#df-de2cd6c6-a3bd-41e0-bfe5-3840a049b4da button.colab-df-convert');\n",
              "        buttonEl.style.display =\n",
              "          google.colab.kernel.accessAllowed ? 'block' : 'none';\n",
              "\n",
              "        async function convertToInteractive(key) {\n",
              "          const element = document.querySelector('#df-de2cd6c6-a3bd-41e0-bfe5-3840a049b4da');\n",
              "          const dataTable =\n",
              "            await google.colab.kernel.invokeFunction('convertToInteractive',\n",
              "                                                     [key], {});\n",
              "          if (!dataTable) return;\n",
              "\n",
              "          const docLinkHtml = 'Like what you see? Visit the ' +\n",
              "            '<a target=\"_blank\" href=https://colab.research.google.com/notebooks/data_table.ipynb>data table notebook</a>'\n",
              "            + ' to learn more about interactive tables.';\n",
              "          element.innerHTML = '';\n",
              "          dataTable['output_type'] = 'display_data';\n",
              "          await google.colab.output.renderOutput(dataTable, element);\n",
              "          const docLink = document.createElement('div');\n",
              "          docLink.innerHTML = docLinkHtml;\n",
              "          element.appendChild(docLink);\n",
              "        }\n",
              "      </script>\n",
              "    </div>\n",
              "  </div>\n",
              "  "
            ]
          },
          "metadata": {},
          "execution_count": 57
        }
      ]
    },
    {
      "cell_type": "markdown",
      "source": [
        "## 데이터 확인 \n",
        " * 데이터에 NaN이 있는지 확인\n",
        " * 인자간 상관관계 확인: 인자산 선형 관계성은 Correlation 을 이용하여 해결함 \n",
        "\n",
        "<img src=\"https://wikimedia.org/api/rest_v1/media/math/render/svg/ee1e03b44aabd2904cca430279faad515c617891\" height=\"80px\" width=\"400px\">\n",
        "\n",
        "\n",
        "<img src=\"https://www.simplilearn.com/ice9/free_resources_article_thumb/Pearson_Correlation_1.jpg\" height=\"300px\" width=\"500px\">\n",
        "\n",
        "\n",
        "참고\n",
        "\n",
        "https://hyen4110.tistory.com/38\n",
        "https://wikidocs.net/157461"
      ],
      "metadata": {
        "id": "7L2TvqwFiUf8"
      }
    },
    {
      "cell_type": "code",
      "source": [
        "df_data.describe()"
      ],
      "metadata": {
        "colab": {
          "base_uri": "https://localhost:8080/",
          "height": 434
        },
        "id": "pBhwIcsknd0-",
        "outputId": "351c65fb-b738-4138-f268-b7ac4a31f8d2"
      },
      "execution_count": null,
      "outputs": [
        {
          "output_type": "execute_result",
          "data": {
            "text/plain": [
              "                age           sex           bmi            bp            s1  \\\n",
              "count  4.420000e+02  4.420000e+02  4.420000e+02  4.420000e+02  4.420000e+02   \n",
              "mean  -3.639623e-16  1.309912e-16 -8.013951e-16  1.289818e-16 -9.042540e-17   \n",
              "std    4.761905e-02  4.761905e-02  4.761905e-02  4.761905e-02  4.761905e-02   \n",
              "min   -1.072256e-01 -4.464164e-02 -9.027530e-02 -1.123996e-01 -1.267807e-01   \n",
              "25%   -3.729927e-02 -4.464164e-02 -3.422907e-02 -3.665645e-02 -3.424784e-02   \n",
              "50%    5.383060e-03 -4.464164e-02 -7.283766e-03 -5.670611e-03 -4.320866e-03   \n",
              "75%    3.807591e-02  5.068012e-02  3.124802e-02  3.564384e-02  2.835801e-02   \n",
              "max    1.107267e-01  5.068012e-02  1.705552e-01  1.320442e-01  1.539137e-01   \n",
              "\n",
              "                 s2            s3            s4            s5            s6  \\\n",
              "count  4.420000e+02  4.420000e+02  4.420000e+02  4.420000e+02  4.420000e+02   \n",
              "mean   1.301121e-16 -4.563971e-16  3.863174e-16 -3.848103e-16 -3.398488e-16   \n",
              "std    4.761905e-02  4.761905e-02  4.761905e-02  4.761905e-02  4.761905e-02   \n",
              "min   -1.156131e-01 -1.023071e-01 -7.639450e-02 -1.260974e-01 -1.377672e-01   \n",
              "25%   -3.035840e-02 -3.511716e-02 -3.949338e-02 -3.324879e-02 -3.317903e-02   \n",
              "50%   -3.819065e-03 -6.584468e-03 -2.592262e-03 -1.947634e-03 -1.077698e-03   \n",
              "75%    2.984439e-02  2.931150e-02  3.430886e-02  3.243323e-02  2.791705e-02   \n",
              "max    1.987880e-01  1.811791e-01  1.852344e-01  1.335990e-01  1.356118e-01   \n",
              "\n",
              "           target  \n",
              "count  442.000000  \n",
              "mean   152.133484  \n",
              "std     77.093005  \n",
              "min     25.000000  \n",
              "25%     87.000000  \n",
              "50%    140.500000  \n",
              "75%    211.500000  \n",
              "max    346.000000  "
            ],
            "text/html": [
              "\n",
              "  <div id=\"df-9a9d42f2-6aa6-4dbe-964c-bfac2c23a42a\">\n",
              "    <div class=\"colab-df-container\">\n",
              "      <div>\n",
              "<style scoped>\n",
              "    .dataframe tbody tr th:only-of-type {\n",
              "        vertical-align: middle;\n",
              "    }\n",
              "\n",
              "    .dataframe tbody tr th {\n",
              "        vertical-align: top;\n",
              "    }\n",
              "\n",
              "    .dataframe thead th {\n",
              "        text-align: right;\n",
              "    }\n",
              "</style>\n",
              "<table border=\"1\" class=\"dataframe\">\n",
              "  <thead>\n",
              "    <tr style=\"text-align: right;\">\n",
              "      <th></th>\n",
              "      <th>age</th>\n",
              "      <th>sex</th>\n",
              "      <th>bmi</th>\n",
              "      <th>bp</th>\n",
              "      <th>s1</th>\n",
              "      <th>s2</th>\n",
              "      <th>s3</th>\n",
              "      <th>s4</th>\n",
              "      <th>s5</th>\n",
              "      <th>s6</th>\n",
              "      <th>target</th>\n",
              "    </tr>\n",
              "  </thead>\n",
              "  <tbody>\n",
              "    <tr>\n",
              "      <th>count</th>\n",
              "      <td>4.420000e+02</td>\n",
              "      <td>4.420000e+02</td>\n",
              "      <td>4.420000e+02</td>\n",
              "      <td>4.420000e+02</td>\n",
              "      <td>4.420000e+02</td>\n",
              "      <td>4.420000e+02</td>\n",
              "      <td>4.420000e+02</td>\n",
              "      <td>4.420000e+02</td>\n",
              "      <td>4.420000e+02</td>\n",
              "      <td>4.420000e+02</td>\n",
              "      <td>442.000000</td>\n",
              "    </tr>\n",
              "    <tr>\n",
              "      <th>mean</th>\n",
              "      <td>-3.639623e-16</td>\n",
              "      <td>1.309912e-16</td>\n",
              "      <td>-8.013951e-16</td>\n",
              "      <td>1.289818e-16</td>\n",
              "      <td>-9.042540e-17</td>\n",
              "      <td>1.301121e-16</td>\n",
              "      <td>-4.563971e-16</td>\n",
              "      <td>3.863174e-16</td>\n",
              "      <td>-3.848103e-16</td>\n",
              "      <td>-3.398488e-16</td>\n",
              "      <td>152.133484</td>\n",
              "    </tr>\n",
              "    <tr>\n",
              "      <th>std</th>\n",
              "      <td>4.761905e-02</td>\n",
              "      <td>4.761905e-02</td>\n",
              "      <td>4.761905e-02</td>\n",
              "      <td>4.761905e-02</td>\n",
              "      <td>4.761905e-02</td>\n",
              "      <td>4.761905e-02</td>\n",
              "      <td>4.761905e-02</td>\n",
              "      <td>4.761905e-02</td>\n",
              "      <td>4.761905e-02</td>\n",
              "      <td>4.761905e-02</td>\n",
              "      <td>77.093005</td>\n",
              "    </tr>\n",
              "    <tr>\n",
              "      <th>min</th>\n",
              "      <td>-1.072256e-01</td>\n",
              "      <td>-4.464164e-02</td>\n",
              "      <td>-9.027530e-02</td>\n",
              "      <td>-1.123996e-01</td>\n",
              "      <td>-1.267807e-01</td>\n",
              "      <td>-1.156131e-01</td>\n",
              "      <td>-1.023071e-01</td>\n",
              "      <td>-7.639450e-02</td>\n",
              "      <td>-1.260974e-01</td>\n",
              "      <td>-1.377672e-01</td>\n",
              "      <td>25.000000</td>\n",
              "    </tr>\n",
              "    <tr>\n",
              "      <th>25%</th>\n",
              "      <td>-3.729927e-02</td>\n",
              "      <td>-4.464164e-02</td>\n",
              "      <td>-3.422907e-02</td>\n",
              "      <td>-3.665645e-02</td>\n",
              "      <td>-3.424784e-02</td>\n",
              "      <td>-3.035840e-02</td>\n",
              "      <td>-3.511716e-02</td>\n",
              "      <td>-3.949338e-02</td>\n",
              "      <td>-3.324879e-02</td>\n",
              "      <td>-3.317903e-02</td>\n",
              "      <td>87.000000</td>\n",
              "    </tr>\n",
              "    <tr>\n",
              "      <th>50%</th>\n",
              "      <td>5.383060e-03</td>\n",
              "      <td>-4.464164e-02</td>\n",
              "      <td>-7.283766e-03</td>\n",
              "      <td>-5.670611e-03</td>\n",
              "      <td>-4.320866e-03</td>\n",
              "      <td>-3.819065e-03</td>\n",
              "      <td>-6.584468e-03</td>\n",
              "      <td>-2.592262e-03</td>\n",
              "      <td>-1.947634e-03</td>\n",
              "      <td>-1.077698e-03</td>\n",
              "      <td>140.500000</td>\n",
              "    </tr>\n",
              "    <tr>\n",
              "      <th>75%</th>\n",
              "      <td>3.807591e-02</td>\n",
              "      <td>5.068012e-02</td>\n",
              "      <td>3.124802e-02</td>\n",
              "      <td>3.564384e-02</td>\n",
              "      <td>2.835801e-02</td>\n",
              "      <td>2.984439e-02</td>\n",
              "      <td>2.931150e-02</td>\n",
              "      <td>3.430886e-02</td>\n",
              "      <td>3.243323e-02</td>\n",
              "      <td>2.791705e-02</td>\n",
              "      <td>211.500000</td>\n",
              "    </tr>\n",
              "    <tr>\n",
              "      <th>max</th>\n",
              "      <td>1.107267e-01</td>\n",
              "      <td>5.068012e-02</td>\n",
              "      <td>1.705552e-01</td>\n",
              "      <td>1.320442e-01</td>\n",
              "      <td>1.539137e-01</td>\n",
              "      <td>1.987880e-01</td>\n",
              "      <td>1.811791e-01</td>\n",
              "      <td>1.852344e-01</td>\n",
              "      <td>1.335990e-01</td>\n",
              "      <td>1.356118e-01</td>\n",
              "      <td>346.000000</td>\n",
              "    </tr>\n",
              "  </tbody>\n",
              "</table>\n",
              "</div>\n",
              "      <button class=\"colab-df-convert\" onclick=\"convertToInteractive('df-9a9d42f2-6aa6-4dbe-964c-bfac2c23a42a')\"\n",
              "              title=\"Convert this dataframe to an interactive table.\"\n",
              "              style=\"display:none;\">\n",
              "        \n",
              "  <svg xmlns=\"http://www.w3.org/2000/svg\" height=\"24px\"viewBox=\"0 0 24 24\"\n",
              "       width=\"24px\">\n",
              "    <path d=\"M0 0h24v24H0V0z\" fill=\"none\"/>\n",
              "    <path d=\"M18.56 5.44l.94 2.06.94-2.06 2.06-.94-2.06-.94-.94-2.06-.94 2.06-2.06.94zm-11 1L8.5 8.5l.94-2.06 2.06-.94-2.06-.94L8.5 2.5l-.94 2.06-2.06.94zm10 10l.94 2.06.94-2.06 2.06-.94-2.06-.94-.94-2.06-.94 2.06-2.06.94z\"/><path d=\"M17.41 7.96l-1.37-1.37c-.4-.4-.92-.59-1.43-.59-.52 0-1.04.2-1.43.59L10.3 9.45l-7.72 7.72c-.78.78-.78 2.05 0 2.83L4 21.41c.39.39.9.59 1.41.59.51 0 1.02-.2 1.41-.59l7.78-7.78 2.81-2.81c.8-.78.8-2.07 0-2.86zM5.41 20L4 18.59l7.72-7.72 1.47 1.35L5.41 20z\"/>\n",
              "  </svg>\n",
              "      </button>\n",
              "      \n",
              "  <style>\n",
              "    .colab-df-container {\n",
              "      display:flex;\n",
              "      flex-wrap:wrap;\n",
              "      gap: 12px;\n",
              "    }\n",
              "\n",
              "    .colab-df-convert {\n",
              "      background-color: #E8F0FE;\n",
              "      border: none;\n",
              "      border-radius: 50%;\n",
              "      cursor: pointer;\n",
              "      display: none;\n",
              "      fill: #1967D2;\n",
              "      height: 32px;\n",
              "      padding: 0 0 0 0;\n",
              "      width: 32px;\n",
              "    }\n",
              "\n",
              "    .colab-df-convert:hover {\n",
              "      background-color: #E2EBFA;\n",
              "      box-shadow: 0px 1px 2px rgba(60, 64, 67, 0.3), 0px 1px 3px 1px rgba(60, 64, 67, 0.15);\n",
              "      fill: #174EA6;\n",
              "    }\n",
              "\n",
              "    [theme=dark] .colab-df-convert {\n",
              "      background-color: #3B4455;\n",
              "      fill: #D2E3FC;\n",
              "    }\n",
              "\n",
              "    [theme=dark] .colab-df-convert:hover {\n",
              "      background-color: #434B5C;\n",
              "      box-shadow: 0px 1px 3px 1px rgba(0, 0, 0, 0.15);\n",
              "      filter: drop-shadow(0px 1px 2px rgba(0, 0, 0, 0.3));\n",
              "      fill: #FFFFFF;\n",
              "    }\n",
              "  </style>\n",
              "\n",
              "      <script>\n",
              "        const buttonEl =\n",
              "          document.querySelector('#df-9a9d42f2-6aa6-4dbe-964c-bfac2c23a42a button.colab-df-convert');\n",
              "        buttonEl.style.display =\n",
              "          google.colab.kernel.accessAllowed ? 'block' : 'none';\n",
              "\n",
              "        async function convertToInteractive(key) {\n",
              "          const element = document.querySelector('#df-9a9d42f2-6aa6-4dbe-964c-bfac2c23a42a');\n",
              "          const dataTable =\n",
              "            await google.colab.kernel.invokeFunction('convertToInteractive',\n",
              "                                                     [key], {});\n",
              "          if (!dataTable) return;\n",
              "\n",
              "          const docLinkHtml = 'Like what you see? Visit the ' +\n",
              "            '<a target=\"_blank\" href=https://colab.research.google.com/notebooks/data_table.ipynb>data table notebook</a>'\n",
              "            + ' to learn more about interactive tables.';\n",
              "          element.innerHTML = '';\n",
              "          dataTable['output_type'] = 'display_data';\n",
              "          await google.colab.output.renderOutput(dataTable, element);\n",
              "          const docLink = document.createElement('div');\n",
              "          docLink.innerHTML = docLinkHtml;\n",
              "          element.appendChild(docLink);\n",
              "        }\n",
              "      </script>\n",
              "    </div>\n",
              "  </div>\n",
              "  "
            ]
          },
          "metadata": {},
          "execution_count": 58
        }
      ]
    },
    {
      "cell_type": "code",
      "source": [
        "print(df_data.isna().sum())\n",
        "print(f\"NaN Exist = {df_data.isna().any().any()}\")"
      ],
      "metadata": {
        "colab": {
          "base_uri": "https://localhost:8080/"
        },
        "id": "nM_K1aQgiRpN",
        "outputId": "a1bf3822-9ba7-434c-efa9-92d00fe4761e"
      },
      "execution_count": null,
      "outputs": [
        {
          "output_type": "stream",
          "name": "stdout",
          "text": [
            "age       0\n",
            "sex       0\n",
            "bmi       0\n",
            "bp        0\n",
            "s1        0\n",
            "s2        0\n",
            "s3        0\n",
            "s4        0\n",
            "s5        0\n",
            "s6        0\n",
            "target    0\n",
            "dtype: int64\n",
            "NaN Exist = False\n"
          ]
        }
      ]
    },
    {
      "cell_type": "code",
      "source": [
        "#### 실습: 어떤 지수가 서로 관련이 있는지 확인해 보세요\n",
        "##########################################################\n",
        "\n",
        "import seaborn as sns\n",
        "plt.subplots(figsize=(8,8))\n",
        "sns.heatmap(df_data.corr(),cmap= 'RdYlGn',annot=True)\n",
        "plt.show()\n"
      ],
      "metadata": {
        "colab": {
          "base_uri": "https://localhost:8080/",
          "height": 487
        },
        "id": "6IaX4bZ8iR7w",
        "outputId": "4aaf6f16-6081-4023-ca82-a1b7df0a447e"
      },
      "execution_count": null,
      "outputs": [
        {
          "output_type": "display_data",
          "data": {
            "text/plain": [
              "<Figure size 576x576 with 2 Axes>"
            ],
            "image/png": "[encoded data removed]"
          },
          "metadata": {
            "needs_background": "light"
          }
        }
      ]
    },
    {
      "cell_type": "code",
      "source": [
        "\n",
        "#independent variables / explanatory variables\n",
        "x = df_data.drop(labels='target', axis=1)  #axis=1 means we drop data by column.\n",
        "\n",
        "#dependent variable / response / target variable.\n",
        "y = df_data['target']\n"
      ],
      "metadata": {
        "id": "3jbZ9mKzkIhp"
      },
      "execution_count": null,
      "outputs": []
    },
    {
      "cell_type": "code",
      "source": [
        "#### 실습 : Tensor 를 정보로 넘겨받기\n",
        "x_train, x_test, y_train, y_test = get_train_testset(x.values,y.values, tensor=True, show=False)\n",
        "x_train, x_val, y_train, y_val = ?????\n",
        "\n",
        "#### 실습 : Tensor 의 모양 바꾸기!!\n",
        "y_train = y_train.view(-1,1)\n",
        "y_val = y_val.view(-1,1)\n",
        "y_test = ?????\n",
        "\n",
        "print(x_train.shape)\n",
        "print(x_test.shape)\n",
        "print(y_train.shape)\n",
        "print(y_test.shape)\n"
      ],
      "metadata": {
        "colab": {
          "base_uri": "https://localhost:8080/"
        },
        "id": "HSjAgXepkSij",
        "outputId": "9b048d86-b3b0-4b97-bfaa-d0a628a85d31"
      },
      "execution_count": null,
      "outputs": [
        {
          "output_type": "stream",
          "name": "stdout",
          "text": [
            "torch.Size([282, 10])\n",
            "torch.Size([89, 10])\n",
            "torch.Size([282, 1])\n",
            "torch.Size([89, 1])\n"
          ]
        }
      ]
    },
    {
      "cell_type": "code",
      "source": [
        "import torch \n",
        "from torch import optim\n",
        "import numpy as np\n",
        "import matplotlib.pyplot as plt\n",
        "\n",
        "class LinearRegressionModel(nn.Module):\n",
        "\n",
        "  # 객체를 만들때에는 항상 init 이 있어야 함\n",
        "  def __init__(self):\n",
        "    super().__init__()\n",
        "    self.linear = nn.Sequential(nn.Linear(in_features=10, out_features=30, bias=True),\n",
        "                                nn.LeakyReLU(),\n",
        "                                nn.Linear(in_features=30, out_features=30, bias=True),\n",
        "                                nn.LeakyReLU(),\n",
        "                                nn.Linear(in_features=30, out_features=5, bias=True),\n",
        "                                nn.LeakyReLU(),\n",
        "                                nn.Linear(in_features=5, out_features=1, bias=True),\n",
        "                            )\n",
        "\n",
        "  def forward(self, x):\n",
        "      return self.linear(x)\n",
        "      \n",
        "\n",
        "seed = 27\n",
        "torch.manual_seed(seed) # cpu 연산 무작위 고정 \n",
        "torch.cuda.manual_seed(seed) # gpu 연산 무작위 고정 \n",
        "torch.cuda.manual_seed_all(seed) # 멀티 gpu 연산 무작위 고정 \n",
        "np.random.seed(seed) # numpy 관련 연산 무작위 고정"
      ],
      "metadata": {
        "id": "eqnmq-VKkl5t"
      },
      "execution_count": null,
      "outputs": []
    },
    {
      "cell_type": "code",
      "source": [
        "#################### \n",
        "############### 실습 : MLP로 Diabetes 를 예상해 봅시다 \n",
        "###################\n",
        "# 학습해야 하는 모델 선언. hidden layer 크기가 인경우를 구현한다\n",
        "model = ?????\n",
        "preds = model(x_train)\n",
        "\n",
        "fig, ax = plt.subplots(1,3, figsize=(10,3))\n",
        "show_predicted(range(x_train.shape[0]), y_train, preds.detach().numpy(), ax[0])\n",
        "\n",
        "cost =  torch.sqrt(nn.MSELoss()(preds,  y_train))\n",
        "\n",
        "print(f\"Initial Cost: {cost}\")\n",
        "\n",
        "# Weight와 Bias를 cost를 줄이는 방향으로 업데이트 ~ Optimization(최적화)\n",
        "optimizer = torch.optim.SGD( model.parameters(), lr=0.0003)\n",
        "\n",
        "nb_epochs = 100000 # 원하는만큼 경사 하강법을 반복\n",
        "for epoch in range(nb_epochs + 1):\n",
        "\n",
        "    preds = model(x_train)\n",
        "    # cost 계산\n",
        "    cost = torch.sqrt(nn.MSELoss()(preds, y_train))\n",
        "\n",
        "    optimizer.zero_grad() # 초기화\n",
        "    cost.backward() # gradient계산\n",
        "    optimizer.step() # 계산된 gradient 값을 이용하여 W,b 업데이트\n",
        "\n",
        "\n",
        "    preds_val = model(x_val)\n",
        "    # cost 계산\n",
        "    cost_val = torch.sqrt(nn.MSELoss()(preds_val, y_val))\n",
        "\n",
        "\n",
        "    # 1000번마다 로그 출력\n",
        "    if epoch % (nb_epochs/10) == 1:\n",
        "      print(f'Epoch {epoch:4d}/{nb_epochs}, Cost_train: {cost.item():.6f}, Cost_val: {cost_val.item():.6f}')\n",
        "\n",
        "preds = model(x_train)\n",
        "show_predicted(range(x_train.shape[0]), y_train, preds.detach().numpy(),ax[1])\n",
        "print(f\"Train accuracy(RMSE) :  {torch.sqrt(nn.MSELoss()(preds,  y_train))}\")\n",
        "\n",
        "preds_test = model(x_test)\n",
        "print(f\"Test accuracy(RMSE) : { torch.sqrt(nn.MSELoss()(preds_test,  y_test))}\")\n",
        "show_predicted(range(x_test.shape[0]), y_test, preds_test.detach().numpy(),ax[2])"
      ],
      "metadata": {
        "colab": {
          "base_uri": "https://localhost:8080/",
          "height": 450
        },
        "id": "XDnS_EvkWaRR",
        "outputId": "8a40cfef-6674-43c4-c3c8-f4cc61f50c50"
      },
      "execution_count": null,
      "outputs": [
        {
          "output_type": "stream",
          "name": "stdout",
          "text": [
            "Initial Cost: 168.89439392089844\n",
            "Epoch    1/100000, Cost_train: 168.894104, Cost_val: 175.467377\n",
            "Epoch 10001/100000, Cost_train: 76.965477, Cost_val: 75.928703\n",
            "Epoch 20001/100000, Cost_train: 51.935120, Cost_val: 62.011715\n",
            "Epoch 30001/100000, Cost_train: 51.409576, Cost_val: 62.065170\n",
            "Epoch 40001/100000, Cost_train: 51.030209, Cost_val: 61.818008\n",
            "Epoch 50001/100000, Cost_train: 50.777458, Cost_val: 61.675114\n",
            "Epoch 60001/100000, Cost_train: 50.505295, Cost_val: 61.742977\n",
            "Epoch 70001/100000, Cost_train: 50.039562, Cost_val: 61.588058\n",
            "Epoch 80001/100000, Cost_train: 49.497162, Cost_val: 62.107708\n",
            "Epoch 90001/100000, Cost_train: 48.739311, Cost_val: 62.980427\n",
            "Train accuracy(RMSE) :  48.26082229614258\n",
            "Test accuracy(RMSE) : 52.7850456237793\n"
          ]
        },
        {
          "output_type": "display_data",
          "data": {
            "text/plain": [
              "<Figure size 720x216 with 3 Axes>"
            ],
            "image/png": "[encoded data removed]"
          },
          "metadata": {
            "needs_background": "light"
          }
        }
      ]
    },
    {
      "cell_type": "markdown",
      "source": [
        "# LSTM 구현\n",
        "\n",
        "* LSTM Arcitecture\n",
        "\n",
        "<img src=\"https://api.wandb.ai/files/sauravmaheshkar/images/projects/445540/3b5df3df.png\n",
        "\" height=\"200px\" width=\"300px\">\n",
        "\n",
        "\n",
        "* L = Sequence Length\n",
        "* N = Batch Size\n",
        "* Hin=input_size (=num of features)\n",
        "\n",
        "* tensor shape (L,Hin) for unbatched input\n",
        "* tensor shape (N, L, Hin) when batch_first=True\n",
        "* tensor shape (L, N, Hin) when batch_forst=False\n",
        "\n",
        "* num_layers는 LSTM의 개수를 의미함\n",
        "\n",
        "<img src=\"https://img1.daumcdn.net/thumb/R1280x0/?scode=mtistory2&fname=https%3A%2F%2Fblog.kakaocdn.net%2Fdn%2FVJ2Yi%2FbtrE4VSN4tw%2FwO0TxP67kQqpOJiN0vP3N0%2Fimg.png\n",
        "\" height=\"150px\" width=\"400px\">\n",
        "\n",
        "<img src=\"https://img1.daumcdn.net/thumb/R1280x0/?scode=mtistory2&fname=https%3A%2F%2Fblog.kakaocdn.net%2Fdn%2FbEv7iK%2FbtrE5tnWMD7%2FBGvkQClKqRp3shsOhUJJ20%2Fimg.png\n",
        "\" height=\"150px\" width=\"400px\">\n",
        "\n",
        "\n",
        "\n",
        "\n",
        "https://pytorch.org/docs/stable/generated/torch.nn.LSTM.html\n",
        "\n",
        "https://hongl.tistory.com/247\n",
        "\n",
        "https://ok-lab.tistory.com/209"
      ],
      "metadata": {
        "id": "gX3H8BscpJ1j"
      }
    },
    {
      "cell_type": "code",
      "source": [
        "from sklearn import datasets\n",
        "diabetes = datasets.load_diabetes()\n",
        "df_data = pd.DataFrame(diabetes.data,columns=diabetes.feature_names)\n",
        "df_data['target'] = diabetes.target # add target\n",
        "x_train, x_test, y_train, y_test = get_train_testset(x.values,y.values, tensor=True, show=False)\n",
        "x_train, x_val, y_train, y_val = get_train_testset(x_train,y_train,  show=False)\n",
        "\n",
        "y_train = y_train.view(-1,1)\n",
        "y_val = y_val.view(-1,1)\n",
        "y_test = y_test.view(-1,1)\n",
        "\n",
        "\n",
        "# 입력 길이는 1\n",
        "x_train = torch.reshape(x_train,   (x_train.shape[0], 1, x_train.shape[1]))\n",
        "x_val = torch.reshape(x_val,   (x_val.shape[0], 1, x_val.shape[1]))\n",
        "x_test = torch.reshape(x_test,  (x_test.shape[0], 1, x_test.shape[1])) \n",
        "\n",
        "\n",
        "print(x_train.shape)\n",
        "print(x_test.shape)\n",
        "print(y_train.shape)\n",
        "print(y_test.shape)"
      ],
      "metadata": {
        "colab": {
          "base_uri": "https://localhost:8080/"
        },
        "id": "-aNuSnRMvP2d",
        "outputId": "d69f87e6-822b-493a-953a-ef2ca194a6ef"
      },
      "execution_count": null,
      "outputs": [
        {
          "output_type": "stream",
          "name": "stdout",
          "text": [
            "torch.Size([282, 1, 10])\n",
            "torch.Size([89, 1, 10])\n",
            "torch.Size([282, 1])\n",
            "torch.Size([89, 1])\n"
          ]
        }
      ]
    },
    {
      "cell_type": "markdown",
      "source": [
        "## LSTM 객체를 생성한다. "
      ],
      "metadata": {
        "id": "eT5apPSZX2mX"
      }
    },
    {
      "cell_type": "code",
      "source": [
        "from torch.autograd import Variable\n",
        "from sklearn.preprocessing import MinMaxScaler\n",
        "\n",
        "class LSTM(nn.Module):\n",
        "  def __init__(self, num_classes, input_size, hidden_size, num_layers):\n",
        "    super(LSTM, self).__init__()\n",
        "    self.num_classes = num_classes \n",
        "    self.num_layers = num_layers \n",
        "    self.input_size = input_size \n",
        "    self.hidden_size = hidden_size \n",
        " \n",
        "    self.lstm = nn.LSTM(input_size=input_size, hidden_size=hidden_size,\n",
        "                      num_layers=num_layers, batch_first=True) #lstm\n",
        "\n",
        "    self.fc =  nn.Sequential(nn.Linear(hidden_size, int(hidden_size/2)), \n",
        "                             nn.ReLU(),\n",
        "                             nn.Linear(int(hidden_size/2), num_classes) \n",
        "    )\n",
        "\n",
        "     \n",
        "\n",
        "  def forward(self,x):\n",
        "\n",
        "    h_0 = Variable(torch.zeros(self.num_layers, x.size(0), self.hidden_size))\n",
        "    c_0 = Variable(torch.zeros(self.num_layers, x.size(0), self.hidden_size))  \n",
        "    \n",
        "    # Propagate input through LSTM\n",
        "    output, (hn, cn) = self.lstm(x, (h_0, c_0)) #lstm with input, hidden, and internal state\n",
        "   \n",
        "    hn = hn.view(-1, self.hidden_size) #reshaping the data for Dense layer next\n",
        "\n",
        "    batch_size = x.shape[0]\n",
        "\n",
        "    out = self.fc(hn) # Final Output\n",
        "    \n",
        "   \n",
        "    return out "
      ],
      "metadata": {
        "id": "Z_9lsKDGpJHA"
      },
      "execution_count": null,
      "outputs": []
    },
    {
      "cell_type": "code",
      "source": [
        "import torch \n",
        "from torch import optim\n",
        "import numpy as np\n",
        "import matplotlib.pyplot as plt\n",
        "\n",
        "seed = 27\n",
        "torch.manual_seed(seed) # cpu 연산 무작위 고정 \n",
        "torch.cuda.manual_seed(seed) # gpu 연산 무작위 고정 \n",
        "torch.cuda.manual_seed_all(seed) # 멀티 gpu 연산 무작위 고정 \n",
        "np.random.seed(seed) # numpy 관련 연산 무작위 고정\n",
        "\n",
        "\n",
        "#####################\n",
        "### 실습 : LSTM을 이용하여 실습을 수행한다. \n",
        "### num_layer를 2로 하면 어떻게 될까요?\n",
        "# num_classes=1, input_size=10, hidden_size=50\n",
        "model =???????\n",
        "##################\n",
        "\n",
        "\n",
        "preds = model(x_train)\n",
        "\n",
        "fig, ax = plt.subplots(1,3, figsize=(10,3))\n",
        "\n",
        "show_predicted(np.arange(0, x_train.shape[0]), y_train, preds.detach().numpy(), ax[0])\n",
        "\n",
        "cost =  torch.sqrt(nn.MSELoss()(preds,  y_train))\n",
        "\n",
        "print(f\"Initial Cost: {cost}\")\n",
        "\n",
        "# Weight와 Bias를 cost를 줄이는 방향으로 업데이트 ~ Optimization(최적화)\n",
        "optimizer = torch.optim.SGD( model.parameters(), lr=0.0003)\n",
        "\n",
        "nb_epochs = 100000 # 원하는만큼 경사 하강법을 반복\n",
        "for epoch in range(nb_epochs + 1):\n",
        "\n",
        "    preds = model(x_train)\n",
        "    # cost 계산\n",
        "    cost = torch.sqrt(nn.MSELoss()(preds, y_train))\n",
        "\n",
        "    optimizer.zero_grad() # 초기화\n",
        "    cost.backward() # gradient계산\n",
        "    optimizer.step() # 계산된 gradient 값을 이용하여 W,b 업데이트\n",
        "\n",
        "\n",
        "    preds_val = model(x_val)\n",
        "    # cost 계산\n",
        "    cost_val = torch.sqrt(nn.MSELoss()(preds_val, y_val))\n",
        "\n",
        "\n",
        "    # 1000번마다 로그 출력\n",
        "    if epoch % (nb_epochs/10) == 1:\n",
        "      print(f'Epoch {epoch:4d}/{nb_epochs}, Cost_train: {cost.item():.6f}, Cost_val: {cost_val.item():.6f}')\n",
        "\n",
        "preds = model(x_train)\n",
        "show_predicted(range(x_train.shape[0]), y_train, preds.detach().numpy(),ax[1])\n",
        "print(f\"Train accuracy(RMSE) :  {torch.sqrt(nn.MSELoss()(preds,  y_train))}\")\n",
        "\n",
        "preds_test = model(x_test)\n",
        "print(f\"Test accuracy(RMSE) : { torch.sqrt(nn.MSELoss()(preds_test,  y_test))}\")\n",
        "show_predicted(range(x_test.shape[0]), y_test, preds_test.detach().numpy(),ax[2])"
      ],
      "metadata": {
        "id": "9j7lYtCMuSrq",
        "colab": {
          "base_uri": "https://localhost:8080/",
          "height": 450
        },
        "outputId": "d22c240d-6f39-43cc-9870-615b8681c561"
      },
      "execution_count": null,
      "outputs": [
        {
          "output_type": "stream",
          "name": "stdout",
          "text": [
            "Initial Cost: 169.02223205566406\n",
            "Epoch    1/100000, Cost_train: 169.021927, Cost_val: 175.597122\n",
            "Epoch 10001/100000, Cost_train: 158.452164, Cost_val: 164.828522\n",
            "Epoch 20001/100000, Cost_train: 79.015503, Cost_val: 77.642838\n",
            "Epoch 30001/100000, Cost_train: 77.772217, Cost_val: 76.635315\n",
            "Epoch 40001/100000, Cost_train: 71.650505, Cost_val: 72.057747\n",
            "Epoch 50001/100000, Cost_train: 55.358906, Cost_val: 62.793854\n",
            "Epoch 60001/100000, Cost_train: 52.883598, Cost_val: 60.966129\n",
            "Epoch 70001/100000, Cost_train: 52.572422, Cost_val: 60.892262\n",
            "Epoch 80001/100000, Cost_train: 52.486210, Cost_val: 61.043636\n",
            "Epoch 90001/100000, Cost_train: 52.422123, Cost_val: 61.159321\n",
            "Train accuracy(RMSE) :  52.360355377197266\n",
            "Test accuracy(RMSE) : 52.90922546386719\n"
          ]
        },
        {
          "output_type": "display_data",
          "data": {
            "text/plain": [
              "<Figure size 720x216 with 3 Axes>"
            ],
            "image/png": "[encoded data removed]"
          },
          "metadata": {
            "needs_background": "light"
          }
        }
      ]
    },
    {
      "cell_type": "code",
      "source": [
        "############## 실습\n",
        "\n",
        "class LSTM(nn.Module):\n",
        "  def __init__(self, num_classes, input_size, hidden_size, num_layers):\n",
        "    super(LSTM, self).__init__()\n",
        "    self.num_classes = num_classes \n",
        "    self.num_layers = num_layers \n",
        "    self.input_size = input_size \n",
        "    self.hidden_size = hidden_size \n",
        " \n",
        "    self.lstm = nn.LSTM(input_size=input_size, hidden_size=hidden_size,\n",
        "                      num_layers=num_layers, batch_first=True) #lstm\n",
        "\n",
        "    self.fc =  nn.Sequential(nn.Linear(hidden_size, int(hidden_size/2)), \n",
        "                             nn.ReLU(),\n",
        "                             nn.Linear(int(hidden_size/2), num_classes) \n",
        "    )\n",
        "\n",
        "     \n",
        "\n",
        "  def forward(self,x):\n",
        "\n",
        "    h_0 = Variable(torch.zeros(self.num_layers, x.size(0), self.hidden_size))\n",
        "    c_0 = Variable(torch.zeros(self.num_layers, x.size(0), self.hidden_size))  \n",
        "    \n",
        "    # Propagate input through LSTM\n",
        "    output, (hn, cn) = self.lstm(x, (h_0, c_0)) #lstm with input, hidden, and internal state\n",
        "   \n",
        "    hn = hn.view(-1, self.hidden_size) #reshaping the data for Dense layer next\n",
        "\n",
        "    batch_size = x.shape[0]\n",
        "\n",
        "    ##### [실습] 어떻게 변경해서 num_layer=2 일때 동작할까요?\n",
        "    #####  hn 은 num_layer *  입력개수의 크기를 가집니다. \n",
        "    ######### 맨 마지막 layer의 출력만 가지고 와야 합니다. \n",
        "    out = self.fc(????????) #Final Output\n",
        "   \n",
        "    return out "
      ],
      "metadata": {
        "id": "rZLyNNq1ZJ1G"
      },
      "execution_count": null,
      "outputs": []
    },
    {
      "cell_type": "code",
      "source": [
        "############ 실습 : num_layer=2 로 변경해 봅시다\n",
        "\n",
        "import torch \n",
        "from torch import optim\n",
        "import numpy as np\n",
        "import matplotlib.pyplot as plt\n",
        "\n",
        "seed = 27\n",
        "torch.manual_seed(seed) # cpu 연산 무작위 고정 \n",
        "torch.cuda.manual_seed(seed) # gpu 연산 무작위 고정 \n",
        "torch.cuda.manual_seed_all(seed) # 멀티 gpu 연산 무작위 고정 \n",
        "np.random.seed(seed) # numpy 관련 연산 무작위 고정\n",
        "\n",
        "\n",
        "from torch.autograd import Variable\n",
        "from sklearn.preprocessing import MinMaxScaler\n",
        "\n",
        "###########################################\n",
        "###### 실습:  학습해야 하는 모델 선언. hidden layer 크기가 인경우를 구현한다\n",
        "model = LSTM(num_classes=1, input_size=10, hidden_size=50, num_layers=???????)\n",
        "preds = model(x_train)\n",
        "\n",
        "fig, ax = plt.subplots(1,3, figsize=(10,3))\n",
        "\n",
        "show_predicted(np.arange(0, x_train.shape[0]), y_train, preds.detach().numpy(), ax[0])\n",
        "\n",
        "cost =  torch.sqrt(nn.MSELoss()(preds,  y_train))\n",
        "\n",
        "print(f\"Initial Cost: {cost}\")\n",
        "\n",
        "# Weight와 Bias를 cost를 줄이는 방향으로 업데이트 ~ Optimization(최적화)\n",
        "optimizer = torch.optim.SGD( model.parameters(), lr=0.0003)\n",
        "\n",
        "nb_epochs = 100000 # 원하는만큼 경사 하강법을 반복\n",
        "for epoch in range(nb_epochs + 1):\n",
        "\n",
        "    preds = model(x_train)\n",
        "    # cost 계산\n",
        "    cost = torch.sqrt(nn.MSELoss()(preds, y_train))\n",
        "\n",
        "    optimizer.zero_grad() # 초기화\n",
        "    cost.backward() # gradient계산\n",
        "    optimizer.step() # 계산된 gradient 값을 이용하여 W,b 업데이트\n",
        "\n",
        "\n",
        "    preds_val = model(x_val)\n",
        "    # cost 계산\n",
        "    cost_val = torch.sqrt(nn.MSELoss()(preds_val, y_val))\n",
        "\n",
        "\n",
        "    # 1000번마다 로그 출력\n",
        "    if epoch % (nb_epochs/10) == 1:\n",
        "      print(f'Epoch {epoch:4d}/{nb_epochs}, Cost_train: {cost.item():.6f}, Cost_val: {cost_val.item():.6f}')\n",
        "\n",
        "preds = model(x_train)\n",
        "show_predicted(range(x_train.shape[0]), y_train, preds.detach().numpy(),ax[1])\n",
        "print(f\"Train accuracy(RMSE) :  {torch.sqrt(nn.MSELoss()(preds,  y_train))}\")\n",
        "\n",
        "preds_test = model(x_test)\n",
        "print(f\"Test accuracy(RMSE) : { torch.sqrt(nn.MSELoss()(preds_test,  y_test))}\")\n",
        "show_predicted(range(x_test.shape[0]), y_test, preds_test.detach().numpy(),ax[2])"
      ],
      "metadata": {
        "colab": {
          "base_uri": "https://localhost:8080/",
          "height": 450
        },
        "id": "cC7U1TrBKais",
        "outputId": "776e01b3-9051-4c47-f53f-226d9df0509f"
      },
      "execution_count": null,
      "outputs": [
        {
          "output_type": "stream",
          "name": "stdout",
          "text": [
            "Initial Cost: 168.94200134277344\n",
            "Epoch    1/100000, Cost_train: 168.941696, Cost_val: 175.515701\n",
            "Epoch 10001/100000, Cost_train: 157.828522, Cost_val: 164.193863\n",
            "Epoch 20001/100000, Cost_train: 79.564194, Cost_val: 78.107758\n",
            "Epoch 30001/100000, Cost_train: 79.498474, Cost_val: 78.051529\n",
            "Epoch 40001/100000, Cost_train: 79.372429, Cost_val: 77.945816\n",
            "Epoch 50001/100000, Cost_train: 79.027336, Cost_val: 77.663834\n",
            "Epoch 60001/100000, Cost_train: 76.929581, Cost_val: 76.040009\n",
            "Epoch 70001/100000, Cost_train: 52.793839, Cost_val: 62.327942\n",
            "Epoch 80001/100000, Cost_train: 51.954296, Cost_val: 61.849983\n",
            "Epoch 90001/100000, Cost_train: 51.878429, Cost_val: 61.873692\n",
            "Train accuracy(RMSE) :  51.797264099121094\n",
            "Test accuracy(RMSE) : 53.276676177978516\n"
          ]
        },
        {
          "output_type": "display_data",
          "data": {
            "text/plain": [
              "<Figure size 720x216 with 3 Axes>"
            ],
            "image/png": "[encoded data removed]"
          },
          "metadata": {
            "needs_background": "light"
          }
        }
      ]
    },
    {
      "cell_type": "markdown",
      "source": [
        "# [주가예측] Sequence길이가 N개인 경우는?\n",
        "* Pandas DataFrame 의 Rolling을 이용하면 MovingAverage를 계산 가능합니다. \n",
        "\n",
        "\n",
        "<img src=\"https://datagy.io/wp-content/uploads/2020/07/How-to-Calculate-a-Rolling-Average-in-Pandas-1024x576.png\n",
        "\" height=\"350px\" width=\"500px\">\n",
        "\n",
        "\n",
        "<img src=\"https://i0.wp.com/www.datasciencelearner.com/wp-content/uploads/2021/07/Simple-Dataframe-for-Implementing-Rolling-mean.jpg?ssl=1\n",
        "\" height=\"200px\" width=\"400px\">\n",
        "\n",
        "\n",
        "<img src=\"https://www.datasciencelearner.com/ezoimgfmt/i0.wp.com/www.datasciencelearner.com/wp-content/uploads/2021/07/Rolling-mean-for-the-simple-dataframe.jpg?resize=450%2C183&ssl=1&ezimgfmt=ng:webp/ngcb11\n",
        "\" height=\"200px\" width=\"400px\">\n",
        "\n",
        "\n",
        "\n",
        "\n",
        "[참고]\n",
        "\n",
        "https://wikidocs.net/152788\n",
        "\n",
        "https://www.datasciencelearner.com/pandas-rolling-mean-implementation-python-steps/"
      ],
      "metadata": {
        "id": "kOwSjAEWLCaM"
      }
    },
    {
      "cell_type": "code",
      "source": [
        "!pip install finance-datareader\n",
        "!pip install requests_cache"
      ],
      "metadata": {
        "colab": {
          "base_uri": "https://localhost:8080/",
          "height": 955
        },
        "id": "MT-RBfKs2ytm",
        "outputId": "0b26acb2-cb75-43b2-e20c-f32860d08d72"
      },
      "execution_count": null,
      "outputs": [
        {
          "output_type": "stream",
          "name": "stdout",
          "text": [
            "Looking in indexes: https://pypi.org/simple, https://us-python.pkg.dev/colab-wheels/public/simple/\n",
            "Collecting finance-datareader\n",
            "  Downloading finance_datareader-0.9.50-py3-none-any.whl (19 kB)\n",
            "Requirement already satisfied: lxml in /usr/local/lib/python3.8/dist-packages (from finance-datareader) (4.9.2)\n",
            "Requirement already satisfied: pandas>=0.19.2 in /usr/local/lib/python3.8/dist-packages (from finance-datareader) (1.3.5)\n",
            "Requirement already satisfied: tqdm in /usr/local/lib/python3.8/dist-packages (from finance-datareader) (4.64.1)\n",
            "Collecting requests-file\n",
            "  Downloading requests_file-1.5.1-py2.py3-none-any.whl (3.7 kB)\n",
            "Requirement already satisfied: requests>=2.3.0 in /usr/local/lib/python3.8/dist-packages (from finance-datareader) (2.25.1)\n",
            "Requirement already satisfied: python-dateutil>=2.7.3 in /usr/local/lib/python3.8/dist-packages (from pandas>=0.19.2->finance-datareader) (2.8.2)\n",
            "Requirement already satisfied: numpy>=1.17.3 in /usr/local/lib/python3.8/dist-packages (from pandas>=0.19.2->finance-datareader) (1.21.6)\n",
            "Requirement already satisfied: pytz>=2017.3 in /usr/local/lib/python3.8/dist-packages (from pandas>=0.19.2->finance-datareader) (2022.7)\n",
            "Requirement already satisfied: certifi>=2017.4.17 in /usr/local/lib/python3.8/dist-packages (from requests>=2.3.0->finance-datareader) (2022.12.7)\n",
            "Requirement already satisfied: idna<3,>=2.5 in /usr/local/lib/python3.8/dist-packages (from requests>=2.3.0->finance-datareader) (2.10)\n",
            "Requirement already satisfied: chardet<5,>=3.0.2 in /usr/local/lib/python3.8/dist-packages (from requests>=2.3.0->finance-datareader) (4.0.0)\n",
            "Requirement already satisfied: urllib3<1.27,>=1.21.1 in /usr/local/lib/python3.8/dist-packages (from requests>=2.3.0->finance-datareader) (1.24.3)\n",
            "Requirement already satisfied: six in /usr/local/lib/python3.8/dist-packages (from requests-file->finance-datareader) (1.15.0)\n",
            "Installing collected packages: requests-file, finance-datareader\n",
            "Successfully installed finance-datareader-0.9.50 requests-file-1.5.1\n",
            "Looking in indexes: https://pypi.org/simple, https://us-python.pkg.dev/colab-wheels/public/simple/\n",
            "Collecting requests_cache\n",
            "  Downloading requests_cache-0.9.7-py3-none-any.whl (48 kB)\n",
            "\u001b[2K     \u001b[90m━━━━━━━━━━━━━━━━━━━━━━━━━━━━━━━━━━━━━━━━\u001b[0m \u001b[32m48.5/48.5 KB\u001b[0m \u001b[31m2.7 MB/s\u001b[0m eta \u001b[36m0:00:00\u001b[0m\n",
            "\u001b[?25hCollecting url-normalize>=1.4\n",
            "  Downloading url_normalize-1.4.3-py2.py3-none-any.whl (6.8 kB)\n",
            "Requirement already satisfied: attrs>=21.2 in /usr/local/lib/python3.8/dist-packages (from requests_cache) (22.2.0)\n",
            "Requirement already satisfied: requests>=2.22 in /usr/local/lib/python3.8/dist-packages (from requests_cache) (2.25.1)\n",
            "Collecting cattrs>=22.2\n",
            "  Downloading cattrs-22.2.0-py3-none-any.whl (35 kB)\n",
            "Requirement already satisfied: appdirs>=1.4.4 in /usr/local/lib/python3.8/dist-packages (from requests_cache) (1.4.4)\n",
            "Collecting urllib3>=1.25.5\n",
            "  Downloading urllib3-1.26.13-py2.py3-none-any.whl (140 kB)\n",
            "\u001b[2K     \u001b[90m━━━━━━━━━━━━━━━━━━━━━━━━━━━━━━━━━━━━━━━\u001b[0m \u001b[32m140.6/140.6 KB\u001b[0m \u001b[31m7.1 MB/s\u001b[0m eta \u001b[36m0:00:00\u001b[0m\n",
            "\u001b[?25hCollecting exceptiongroup\n",
            "  Downloading exceptiongroup-1.1.0-py3-none-any.whl (14 kB)\n",
            "Requirement already satisfied: idna<3,>=2.5 in /usr/local/lib/python3.8/dist-packages (from requests>=2.22->requests_cache) (2.10)\n",
            "Requirement already satisfied: chardet<5,>=3.0.2 in /usr/local/lib/python3.8/dist-packages (from requests>=2.22->requests_cache) (4.0.0)\n",
            "Requirement already satisfied: certifi>=2017.4.17 in /usr/local/lib/python3.8/dist-packages (from requests>=2.22->requests_cache) (2022.12.7)\n",
            "Requirement already satisfied: six in /usr/local/lib/python3.8/dist-packages (from url-normalize>=1.4->requests_cache) (1.15.0)\n",
            "Installing collected packages: urllib3, url-normalize, exceptiongroup, cattrs, requests_cache\n",
            "  Attempting uninstall: urllib3\n",
            "    Found existing installation: urllib3 1.24.3\n",
            "    Uninstalling urllib3-1.24.3:\n",
            "      Successfully uninstalled urllib3-1.24.3\n",
            "Successfully installed cattrs-22.2.0 exceptiongroup-1.1.0 requests_cache-0.9.7 url-normalize-1.4.3 urllib3-1.26.13\n"
          ]
        },
        {
          "output_type": "display_data",
          "data": {
            "application/vnd.colab-display-data+json": {
              "pip_warning": {
                "packages": [
                  "urllib3"
                ]
              }
            }
          },
          "metadata": {}
        }
      ]
    },
    {
      "cell_type": "code",
      "source": [
        "import FinanceDataReader as fdr\n",
        "import pandas_datareader as pdr\n",
        "import requests_cache\n",
        "import matplotlib.pyplot as plt\n",
        "import pandas as pd\n",
        "\n",
        "start_date = '20100101'\n",
        "end_date = '20221231'\n",
        "\n",
        "df = fdr.DataReader('005930', start_date, end_date)   # 삼성전자: 005930\n"
      ],
      "metadata": {
        "id": "VhY_Fte8MsDm"
      },
      "execution_count": null,
      "outputs": []
    },
    {
      "cell_type": "code",
      "source": [
        "################ 실습: 5일, 20일, 60일 이동평균선을 구한다\n",
        "df['ma5'] = df['Close'].rolling(window=5).mean()\n",
        "df['ma20'] = df['Close'].rolling(window=20).mean()\n",
        "df['ma60'] = df['Close'].rolling(window=60).mean()\n",
        "##################################################\n",
        "\n",
        "# 다음날 종가를 예측\n",
        "df['target'] = df['Close'].shift(-1)\n",
        "\n",
        "df = df.dropna()"
      ],
      "metadata": {
        "id": "MPYVxYROch5K"
      },
      "execution_count": null,
      "outputs": []
    },
    {
      "cell_type": "code",
      "source": [
        "df.isna().any()"
      ],
      "metadata": {
        "colab": {
          "base_uri": "https://localhost:8080/"
        },
        "id": "DYjB2rHJNrTn",
        "outputId": "1f3b384b-1511-4115-c6fb-9f3d67dc112e"
      },
      "execution_count": null,
      "outputs": [
        {
          "output_type": "execute_result",
          "data": {
            "text/plain": [
              "Open      False\n",
              "High      False\n",
              "Low       False\n",
              "Close     False\n",
              "Volume    False\n",
              "Change    False\n",
              "ma5       False\n",
              "ma20      False\n",
              "ma60      False\n",
              "target    False\n",
              "dtype: bool"
            ]
          },
          "metadata": {},
          "execution_count": 82
        }
      ]
    },
    {
      "cell_type": "code",
      "source": [
        "df"
      ],
      "metadata": {
        "colab": {
          "base_uri": "https://localhost:8080/",
          "height": 693
        },
        "id": "Nve5izApNyuV",
        "outputId": "f98a5e27-a7a2-409a-fa6e-2c52bfc5d1d2"
      },
      "execution_count": null,
      "outputs": [
        {
          "output_type": "execute_result",
          "data": {
            "text/plain": [
              "             Open   High    Low  Close    Volume    Change      ma5     ma20  \\\n",
              "Date                                                                           \n",
              "2010-03-30  16540  16580  16240  16280    240934 -0.004890  16360.0  15851.0   \n",
              "2010-03-31  16280  16680  16260  16360    434300  0.004914  16356.0  15898.0   \n",
              "2010-04-01  16520  16900  16480  16900    561659  0.033007  16460.0  15982.0   \n",
              "2010-04-02  16920  17200  16820  17140    419069  0.014201  16608.0  16064.0   \n",
              "2010-04-05  17220  17400  17140  17400    304516  0.015169  16816.0  16148.0   \n",
              "...           ...    ...    ...    ...       ...       ...      ...      ...   \n",
              "2022-12-22  58100  59100  58100  59100  10720630  0.018966  58940.0  59930.0   \n",
              "2022-12-23  58200  58400  57700  58100   9829407 -0.016920  58660.0  59785.0   \n",
              "2022-12-26  58000  58100  57700  57900   6756411 -0.003442  58340.0  59675.0   \n",
              "2022-12-27  58000  58400  57900  58100  10667027  0.003454  58240.0  59550.0   \n",
              "2022-12-28  57600  57600  56400  56600  14665410 -0.025818  57960.0  59270.0   \n",
              "\n",
              "                    ma60   target  \n",
              "Date                               \n",
              "2010-03-30  15831.333333  16360.0  \n",
              "2010-03-31  15834.333333  16900.0  \n",
              "2010-04-01  15842.000000  17140.0  \n",
              "2010-04-02  15847.333333  17400.0  \n",
              "2010-04-05  15866.333333  17380.0  \n",
              "...                  ...      ...  \n",
              "2022-12-22  58913.333333  58100.0  \n",
              "2022-12-23  59000.000000  57900.0  \n",
              "2022-12-26  59088.333333  58100.0  \n",
              "2022-12-27  59171.666667  56600.0  \n",
              "2022-12-28  59195.000000  55300.0  \n",
              "\n",
              "[3148 rows x 10 columns]"
            ],
            "text/html": [
              "\n",
              "  <div id=\"df-607db6a8-b347-4ece-bbf6-e5451fffbcd1\">\n",
              "    <div class=\"colab-df-container\">\n",
              "      <div>\n",
              "<style scoped>\n",
              "    .dataframe tbody tr th:only-of-type {\n",
              "        vertical-align: middle;\n",
              "    }\n",
              "\n",
              "    .dataframe tbody tr th {\n",
              "        vertical-align: top;\n",
              "    }\n",
              "\n",
              "    .dataframe thead th {\n",
              "        text-align: right;\n",
              "    }\n",
              "</style>\n",
              "<table border=\"1\" class=\"dataframe\">\n",
              "  <thead>\n",
              "    <tr style=\"text-align: right;\">\n",
              "      <th></th>\n",
              "      <th>Open</th>\n",
              "      <th>High</th>\n",
              "      <th>Low</th>\n",
              "      <th>Close</th>\n",
              "      <th>Volume</th>\n",
              "      <th>Change</th>\n",
              "      <th>ma5</th>\n",
              "      <th>ma20</th>\n",
              "      <th>ma60</th>\n",
              "      <th>target</th>\n",
              "    </tr>\n",
              "    <tr>\n",
              "      <th>Date</th>\n",
              "      <th></th>\n",
              "      <th></th>\n",
              "      <th></th>\n",
              "      <th></th>\n",
              "      <th></th>\n",
              "      <th></th>\n",
              "      <th></th>\n",
              "      <th></th>\n",
              "      <th></th>\n",
              "      <th></th>\n",
              "    </tr>\n",
              "  </thead>\n",
              "  <tbody>\n",
              "    <tr>\n",
              "      <th>2010-03-30</th>\n",
              "      <td>16540</td>\n",
              "      <td>16580</td>\n",
              "      <td>16240</td>\n",
              "      <td>16280</td>\n",
              "      <td>240934</td>\n",
              "      <td>-0.004890</td>\n",
              "      <td>16360.0</td>\n",
              "      <td>15851.0</td>\n",
              "      <td>15831.333333</td>\n",
              "      <td>16360.0</td>\n",
              "    </tr>\n",
              "    <tr>\n",
              "      <th>2010-03-31</th>\n",
              "      <td>16280</td>\n",
              "      <td>16680</td>\n",
              "      <td>16260</td>\n",
              "      <td>16360</td>\n",
              "      <td>434300</td>\n",
              "      <td>0.004914</td>\n",
              "      <td>16356.0</td>\n",
              "      <td>15898.0</td>\n",
              "      <td>15834.333333</td>\n",
              "      <td>16900.0</td>\n",
              "    </tr>\n",
              "    <tr>\n",
              "      <th>2010-04-01</th>\n",
              "      <td>16520</td>\n",
              "      <td>16900</td>\n",
              "      <td>16480</td>\n",
              "      <td>16900</td>\n",
              "      <td>561659</td>\n",
              "      <td>0.033007</td>\n",
              "      <td>16460.0</td>\n",
              "      <td>15982.0</td>\n",
              "      <td>15842.000000</td>\n",
              "      <td>17140.0</td>\n",
              "    </tr>\n",
              "    <tr>\n",
              "      <th>2010-04-02</th>\n",
              "      <td>16920</td>\n",
              "      <td>17200</td>\n",
              "      <td>16820</td>\n",
              "      <td>17140</td>\n",
              "      <td>419069</td>\n",
              "      <td>0.014201</td>\n",
              "      <td>16608.0</td>\n",
              "      <td>16064.0</td>\n",
              "      <td>15847.333333</td>\n",
              "      <td>17400.0</td>\n",
              "    </tr>\n",
              "    <tr>\n",
              "      <th>2010-04-05</th>\n",
              "      <td>17220</td>\n",
              "      <td>17400</td>\n",
              "      <td>17140</td>\n",
              "      <td>17400</td>\n",
              "      <td>304516</td>\n",
              "      <td>0.015169</td>\n",
              "      <td>16816.0</td>\n",
              "      <td>16148.0</td>\n",
              "      <td>15866.333333</td>\n",
              "      <td>17380.0</td>\n",
              "    </tr>\n",
              "    <tr>\n",
              "      <th>...</th>\n",
              "      <td>...</td>\n",
              "      <td>...</td>\n",
              "      <td>...</td>\n",
              "      <td>...</td>\n",
              "      <td>...</td>\n",
              "      <td>...</td>\n",
              "      <td>...</td>\n",
              "      <td>...</td>\n",
              "      <td>...</td>\n",
              "      <td>...</td>\n",
              "    </tr>\n",
              "    <tr>\n",
              "      <th>2022-12-22</th>\n",
              "      <td>58100</td>\n",
              "      <td>59100</td>\n",
              "      <td>58100</td>\n",
              "      <td>59100</td>\n",
              "      <td>10720630</td>\n",
              "      <td>0.018966</td>\n",
              "      <td>58940.0</td>\n",
              "      <td>59930.0</td>\n",
              "      <td>58913.333333</td>\n",
              "      <td>58100.0</td>\n",
              "    </tr>\n",
              "    <tr>\n",
              "      <th>2022-12-23</th>\n",
              "      <td>58200</td>\n",
              "      <td>58400</td>\n",
              "      <td>57700</td>\n",
              "      <td>58100</td>\n",
              "      <td>9829407</td>\n",
              "      <td>-0.016920</td>\n",
              "      <td>58660.0</td>\n",
              "      <td>59785.0</td>\n",
              "      <td>59000.000000</td>\n",
              "      <td>57900.0</td>\n",
              "    </tr>\n",
              "    <tr>\n",
              "      <th>2022-12-26</th>\n",
              "      <td>58000</td>\n",
              "      <td>58100</td>\n",
              "      <td>57700</td>\n",
              "      <td>57900</td>\n",
              "      <td>6756411</td>\n",
              "      <td>-0.003442</td>\n",
              "      <td>58340.0</td>\n",
              "      <td>59675.0</td>\n",
              "      <td>59088.333333</td>\n",
              "      <td>58100.0</td>\n",
              "    </tr>\n",
              "    <tr>\n",
              "      <th>2022-12-27</th>\n",
              "      <td>58000</td>\n",
              "      <td>58400</td>\n",
              "      <td>57900</td>\n",
              "      <td>58100</td>\n",
              "      <td>10667027</td>\n",
              "      <td>0.003454</td>\n",
              "      <td>58240.0</td>\n",
              "      <td>59550.0</td>\n",
              "      <td>59171.666667</td>\n",
              "      <td>56600.0</td>\n",
              "    </tr>\n",
              "    <tr>\n",
              "      <th>2022-12-28</th>\n",
              "      <td>57600</td>\n",
              "      <td>57600</td>\n",
              "      <td>56400</td>\n",
              "      <td>56600</td>\n",
              "      <td>14665410</td>\n",
              "      <td>-0.025818</td>\n",
              "      <td>57960.0</td>\n",
              "      <td>59270.0</td>\n",
              "      <td>59195.000000</td>\n",
              "      <td>55300.0</td>\n",
              "    </tr>\n",
              "  </tbody>\n",
              "</table>\n",
              "<p>3148 rows × 10 columns</p>\n",
              "</div>\n",
              "      <button class=\"colab-df-convert\" onclick=\"convertToInteractive('df-607db6a8-b347-4ece-bbf6-e5451fffbcd1')\"\n",
              "              title=\"Convert this dataframe to an interactive table.\"\n",
              "              style=\"display:none;\">\n",
              "        \n",
              "  <svg xmlns=\"http://www.w3.org/2000/svg\" height=\"24px\"viewBox=\"0 0 24 24\"\n",
              "       width=\"24px\">\n",
              "    <path d=\"M0 0h24v24H0V0z\" fill=\"none\"/>\n",
              "    <path d=\"M18.56 5.44l.94 2.06.94-2.06 2.06-.94-2.06-.94-.94-2.06-.94 2.06-2.06.94zm-11 1L8.5 8.5l.94-2.06 2.06-.94-2.06-.94L8.5 2.5l-.94 2.06-2.06.94zm10 10l.94 2.06.94-2.06 2.06-.94-2.06-.94-.94-2.06-.94 2.06-2.06.94z\"/><path d=\"M17.41 7.96l-1.37-1.37c-.4-.4-.92-.59-1.43-.59-.52 0-1.04.2-1.43.59L10.3 9.45l-7.72 7.72c-.78.78-.78 2.05 0 2.83L4 21.41c.39.39.9.59 1.41.59.51 0 1.02-.2 1.41-.59l7.78-7.78 2.81-2.81c.8-.78.8-2.07 0-2.86zM5.41 20L4 18.59l7.72-7.72 1.47 1.35L5.41 20z\"/>\n",
              "  </svg>\n",
              "      </button>\n",
              "      \n",
              "  <style>\n",
              "    .colab-df-container {\n",
              "      display:flex;\n",
              "      flex-wrap:wrap;\n",
              "      gap: 12px;\n",
              "    }\n",
              "\n",
              "    .colab-df-convert {\n",
              "      background-color: #E8F0FE;\n",
              "      border: none;\n",
              "      border-radius: 50%;\n",
              "      cursor: pointer;\n",
              "      display: none;\n",
              "      fill: #1967D2;\n",
              "      height: 32px;\n",
              "      padding: 0 0 0 0;\n",
              "      width: 32px;\n",
              "    }\n",
              "\n",
              "    .colab-df-convert:hover {\n",
              "      background-color: #E2EBFA;\n",
              "      box-shadow: 0px 1px 2px rgba(60, 64, 67, 0.3), 0px 1px 3px 1px rgba(60, 64, 67, 0.15);\n",
              "      fill: #174EA6;\n",
              "    }\n",
              "\n",
              "    [theme=dark] .colab-df-convert {\n",
              "      background-color: #3B4455;\n",
              "      fill: #D2E3FC;\n",
              "    }\n",
              "\n",
              "    [theme=dark] .colab-df-convert:hover {\n",
              "      background-color: #434B5C;\n",
              "      box-shadow: 0px 1px 3px 1px rgba(0, 0, 0, 0.15);\n",
              "      filter: drop-shadow(0px 1px 2px rgba(0, 0, 0, 0.3));\n",
              "      fill: #FFFFFF;\n",
              "    }\n",
              "  </style>\n",
              "\n",
              "      <script>\n",
              "        const buttonEl =\n",
              "          document.querySelector('#df-607db6a8-b347-4ece-bbf6-e5451fffbcd1 button.colab-df-convert');\n",
              "        buttonEl.style.display =\n",
              "          google.colab.kernel.accessAllowed ? 'block' : 'none';\n",
              "\n",
              "        async function convertToInteractive(key) {\n",
              "          const element = document.querySelector('#df-607db6a8-b347-4ece-bbf6-e5451fffbcd1');\n",
              "          const dataTable =\n",
              "            await google.colab.kernel.invokeFunction('convertToInteractive',\n",
              "                                                     [key], {});\n",
              "          if (!dataTable) return;\n",
              "\n",
              "          const docLinkHtml = 'Like what you see? Visit the ' +\n",
              "            '<a target=\"_blank\" href=https://colab.research.google.com/notebooks/data_table.ipynb>data table notebook</a>'\n",
              "            + ' to learn more about interactive tables.';\n",
              "          element.innerHTML = '';\n",
              "          dataTable['output_type'] = 'display_data';\n",
              "          await google.colab.output.renderOutput(dataTable, element);\n",
              "          const docLink = document.createElement('div');\n",
              "          docLink.innerHTML = docLinkHtml;\n",
              "          element.appendChild(docLink);\n",
              "        }\n",
              "      </script>\n",
              "    </div>\n",
              "  </div>\n",
              "  "
            ]
          },
          "metadata": {},
          "execution_count": 83
        }
      ]
    },
    {
      "cell_type": "markdown",
      "source": [
        "## 입력의 Scaling 이 다를 때 전처리\n",
        "\n",
        "* MinMaxScaling()\n",
        "\n",
        "<img src=\"https://img1.daumcdn.net/thumb/R1280x0/?scode=mtistory2&fname=https%3A%2F%2Fblog.kakaocdn.net%2Fdn%2FbeIaIr%2FbtqIM7PCgJ3%2F2dnDTIc3XQK5s7zwwLNYZ0%2Fimg.png\" height=\"80px\" width=\"150px\">\n",
        "\n",
        "* Standard Scaling()\n",
        "\n",
        "<img src=\"https://velog.velcdn.com/images%2Fjiselectric%2Fpost%2F8862ef9a-13a2-4402-8c80-1929d7c37083%2F0_PXGPVYIxyI_IEHP7.png\" height=\"80px\" width=\"150px\">\n",
        "\n",
        "\n",
        "참고\n",
        "\n",
        "아래 블로그에 잘 정리되어 있네요\n",
        "\n",
        "https://m.blog.naver.com/wideeyed/221614354947\n",
        "\n"
      ],
      "metadata": {
        "id": "3HZKzajFcP6u"
      }
    },
    {
      "cell_type": "code",
      "source": [
        "# Normilization\n",
        "from sklearn.preprocessing import MinMaxScaler, StandardScaler\n",
        "import numpy as np\n",
        "\n",
        "data = df[['Close', 'Open', 'High', 'Low', 'ma5', 'ma20', 'ma60']]\n",
        "target = df[['target']]"
      ],
      "metadata": {
        "id": "q8S6nPe1d4Ea"
      },
      "execution_count": null,
      "outputs": []
    },
    {
      "cell_type": "code",
      "source": [
        "data.describe()"
      ],
      "metadata": {
        "colab": {
          "base_uri": "https://localhost:8080/",
          "height": 364
        },
        "id": "fQeCzofAd5Nx",
        "outputId": "e493e528-cf26-4994-ebc2-615b100a7a1f"
      },
      "execution_count": null,
      "outputs": [
        {
          "output_type": "execute_result",
          "data": {
            "text/plain": [
              "              Close          Open          High           Low           ma5  \\\n",
              "count   3148.000000   3148.000000   3148.000000   3148.000000   3148.000000   \n",
              "mean   39504.132783  39465.693774  39841.046061  39078.967916  39478.032402   \n",
              "std    18881.142087  18936.161527  19092.976848  18773.332417  18874.405631   \n",
              "min    13600.000000      0.000000      0.000000      0.000000  14044.000000   \n",
              "25%    25320.000000  25335.000000  25540.000000  25100.000000  25359.000000   \n",
              "50%    30930.000000  30960.000000  31270.000000  30630.000000  30846.000000   \n",
              "75%    51400.000000  51400.000000  52000.000000  50805.000000  51370.000000   \n",
              "max    91000.000000  90300.000000  96800.000000  89500.000000  89960.000000   \n",
              "\n",
              "               ma20          ma60  \n",
              "count   3148.000000   3148.000000  \n",
              "mean   39375.382783  39091.696739  \n",
              "std    18855.088914  18792.930283  \n",
              "min    14540.000000  15311.333333  \n",
              "25%    25407.250000  24970.000000  \n",
              "50%    30436.500000  30073.166667  \n",
              "75%    51244.500000  50631.458333  \n",
              "max    86710.000000  84005.000000  "
            ],
            "text/html": [
              "\n",
              "  <div id=\"df-ea3a1000-b4f2-4137-92aa-b1cc32ae3ea2\">\n",
              "    <div class=\"colab-df-container\">\n",
              "      <div>\n",
              "<style scoped>\n",
              "    .dataframe tbody tr th:only-of-type {\n",
              "        vertical-align: middle;\n",
              "    }\n",
              "\n",
              "    .dataframe tbody tr th {\n",
              "        vertical-align: top;\n",
              "    }\n",
              "\n",
              "    .dataframe thead th {\n",
              "        text-align: right;\n",
              "    }\n",
              "</style>\n",
              "<table border=\"1\" class=\"dataframe\">\n",
              "  <thead>\n",
              "    <tr style=\"text-align: right;\">\n",
              "      <th></th>\n",
              "      <th>Close</th>\n",
              "      <th>Open</th>\n",
              "      <th>High</th>\n",
              "      <th>Low</th>\n",
              "      <th>ma5</th>\n",
              "      <th>ma20</th>\n",
              "      <th>ma60</th>\n",
              "    </tr>\n",
              "  </thead>\n",
              "  <tbody>\n",
              "    <tr>\n",
              "      <th>count</th>\n",
              "      <td>3148.000000</td>\n",
              "      <td>3148.000000</td>\n",
              "      <td>3148.000000</td>\n",
              "      <td>3148.000000</td>\n",
              "      <td>3148.000000</td>\n",
              "      <td>3148.000000</td>\n",
              "      <td>3148.000000</td>\n",
              "    </tr>\n",
              "    <tr>\n",
              "      <th>mean</th>\n",
              "      <td>39504.132783</td>\n",
              "      <td>39465.693774</td>\n",
              "      <td>39841.046061</td>\n",
              "      <td>39078.967916</td>\n",
              "      <td>39478.032402</td>\n",
              "      <td>39375.382783</td>\n",
              "      <td>39091.696739</td>\n",
              "    </tr>\n",
              "    <tr>\n",
              "      <th>std</th>\n",
              "      <td>18881.142087</td>\n",
              "      <td>18936.161527</td>\n",
              "      <td>19092.976848</td>\n",
              "      <td>18773.332417</td>\n",
              "      <td>18874.405631</td>\n",
              "      <td>18855.088914</td>\n",
              "      <td>18792.930283</td>\n",
              "    </tr>\n",
              "    <tr>\n",
              "      <th>min</th>\n",
              "      <td>13600.000000</td>\n",
              "      <td>0.000000</td>\n",
              "      <td>0.000000</td>\n",
              "      <td>0.000000</td>\n",
              "      <td>14044.000000</td>\n",
              "      <td>14540.000000</td>\n",
              "      <td>15311.333333</td>\n",
              "    </tr>\n",
              "    <tr>\n",
              "      <th>25%</th>\n",
              "      <td>25320.000000</td>\n",
              "      <td>25335.000000</td>\n",
              "      <td>25540.000000</td>\n",
              "      <td>25100.000000</td>\n",
              "      <td>25359.000000</td>\n",
              "      <td>25407.250000</td>\n",
              "      <td>24970.000000</td>\n",
              "    </tr>\n",
              "    <tr>\n",
              "      <th>50%</th>\n",
              "      <td>30930.000000</td>\n",
              "      <td>30960.000000</td>\n",
              "      <td>31270.000000</td>\n",
              "      <td>30630.000000</td>\n",
              "      <td>30846.000000</td>\n",
              "      <td>30436.500000</td>\n",
              "      <td>30073.166667</td>\n",
              "    </tr>\n",
              "    <tr>\n",
              "      <th>75%</th>\n",
              "      <td>51400.000000</td>\n",
              "      <td>51400.000000</td>\n",
              "      <td>52000.000000</td>\n",
              "      <td>50805.000000</td>\n",
              "      <td>51370.000000</td>\n",
              "      <td>51244.500000</td>\n",
              "      <td>50631.458333</td>\n",
              "    </tr>\n",
              "    <tr>\n",
              "      <th>max</th>\n",
              "      <td>91000.000000</td>\n",
              "      <td>90300.000000</td>\n",
              "      <td>96800.000000</td>\n",
              "      <td>89500.000000</td>\n",
              "      <td>89960.000000</td>\n",
              "      <td>86710.000000</td>\n",
              "      <td>84005.000000</td>\n",
              "    </tr>\n",
              "  </tbody>\n",
              "</table>\n",
              "</div>\n",
              "      <button class=\"colab-df-convert\" onclick=\"convertToInteractive('df-ea3a1000-b4f2-4137-92aa-b1cc32ae3ea2')\"\n",
              "              title=\"Convert this dataframe to an interactive table.\"\n",
              "              style=\"display:none;\">\n",
              "        \n",
              "  <svg xmlns=\"http://www.w3.org/2000/svg\" height=\"24px\"viewBox=\"0 0 24 24\"\n",
              "       width=\"24px\">\n",
              "    <path d=\"M0 0h24v24H0V0z\" fill=\"none\"/>\n",
              "    <path d=\"M18.56 5.44l.94 2.06.94-2.06 2.06-.94-2.06-.94-.94-2.06-.94 2.06-2.06.94zm-11 1L8.5 8.5l.94-2.06 2.06-.94-2.06-.94L8.5 2.5l-.94 2.06-2.06.94zm10 10l.94 2.06.94-2.06 2.06-.94-2.06-.94-.94-2.06-.94 2.06-2.06.94z\"/><path d=\"M17.41 7.96l-1.37-1.37c-.4-.4-.92-.59-1.43-.59-.52 0-1.04.2-1.43.59L10.3 9.45l-7.72 7.72c-.78.78-.78 2.05 0 2.83L4 21.41c.39.39.9.59 1.41.59.51 0 1.02-.2 1.41-.59l7.78-7.78 2.81-2.81c.8-.78.8-2.07 0-2.86zM5.41 20L4 18.59l7.72-7.72 1.47 1.35L5.41 20z\"/>\n",
              "  </svg>\n",
              "      </button>\n",
              "      \n",
              "  <style>\n",
              "    .colab-df-container {\n",
              "      display:flex;\n",
              "      flex-wrap:wrap;\n",
              "      gap: 12px;\n",
              "    }\n",
              "\n",
              "    .colab-df-convert {\n",
              "      background-color: #E8F0FE;\n",
              "      border: none;\n",
              "      border-radius: 50%;\n",
              "      cursor: pointer;\n",
              "      display: none;\n",
              "      fill: #1967D2;\n",
              "      height: 32px;\n",
              "      padding: 0 0 0 0;\n",
              "      width: 32px;\n",
              "    }\n",
              "\n",
              "    .colab-df-convert:hover {\n",
              "      background-color: #E2EBFA;\n",
              "      box-shadow: 0px 1px 2px rgba(60, 64, 67, 0.3), 0px 1px 3px 1px rgba(60, 64, 67, 0.15);\n",
              "      fill: #174EA6;\n",
              "    }\n",
              "\n",
              "    [theme=dark] .colab-df-convert {\n",
              "      background-color: #3B4455;\n",
              "      fill: #D2E3FC;\n",
              "    }\n",
              "\n",
              "    [theme=dark] .colab-df-convert:hover {\n",
              "      background-color: #434B5C;\n",
              "      box-shadow: 0px 1px 3px 1px rgba(0, 0, 0, 0.15);\n",
              "      filter: drop-shadow(0px 1px 2px rgba(0, 0, 0, 0.3));\n",
              "      fill: #FFFFFF;\n",
              "    }\n",
              "  </style>\n",
              "\n",
              "      <script>\n",
              "        const buttonEl =\n",
              "          document.querySelector('#df-ea3a1000-b4f2-4137-92aa-b1cc32ae3ea2 button.colab-df-convert');\n",
              "        buttonEl.style.display =\n",
              "          google.colab.kernel.accessAllowed ? 'block' : 'none';\n",
              "\n",
              "        async function convertToInteractive(key) {\n",
              "          const element = document.querySelector('#df-ea3a1000-b4f2-4137-92aa-b1cc32ae3ea2');\n",
              "          const dataTable =\n",
              "            await google.colab.kernel.invokeFunction('convertToInteractive',\n",
              "                                                     [key], {});\n",
              "          if (!dataTable) return;\n",
              "\n",
              "          const docLinkHtml = 'Like what you see? Visit the ' +\n",
              "            '<a target=\"_blank\" href=https://colab.research.google.com/notebooks/data_table.ipynb>data table notebook</a>'\n",
              "            + ' to learn more about interactive tables.';\n",
              "          element.innerHTML = '';\n",
              "          dataTable['output_type'] = 'display_data';\n",
              "          await google.colab.output.renderOutput(dataTable, element);\n",
              "          const docLink = document.createElement('div');\n",
              "          docLink.innerHTML = docLinkHtml;\n",
              "          element.appendChild(docLink);\n",
              "        }\n",
              "      </script>\n",
              "    </div>\n",
              "  </div>\n",
              "  "
            ]
          },
          "metadata": {},
          "execution_count": 111
        }
      ]
    },
    {
      "cell_type": "code",
      "source": [
        "# Normilization\n",
        "from sklearn.preprocessing import MinMaxScaler, StandardScaler\n",
        "import numpy as np\n",
        "\n",
        "data = df[['Close', 'Open', 'High', 'Low', 'ma5', 'ma20', 'ma60']]\n",
        "target = df[['target']]\n",
        "\n",
        "print(f\"data shape: {data.shape}\")\n",
        "scaler = MinMaxScaler(feature_range=(0, 1))\n",
        "scaler_target = StandardScaler()\n",
        "x = scaler.fit_transform(data)\n",
        "y = scaler_target.fit_transform(target)\n",
        "print(scaler.n_samples_seen_, scaler.feature_range)\n",
        "print(x.shape, y.shape)\n",
        "print(x[0,0:10])\n",
        "print(y[0:5])"
      ],
      "metadata": {
        "colab": {
          "base_uri": "https://localhost:8080/"
        },
        "id": "Oq-hcM2XOCoX",
        "outputId": "7a038dc4-a678-4b26-cf98-5771236da6cb"
      },
      "execution_count": null,
      "outputs": [
        {
          "output_type": "stream",
          "name": "stdout",
          "text": [
            "data shape: (3148, 7)\n",
            "3148 (0, 1)\n",
            "(3148, 7) (3148, 1)\n",
            "[0.03462532 0.18316722 0.17128099 0.18145251 0.0305074  0.01816544\n",
            " 0.00756984]\n",
            "[[-1.22679042]\n",
            " [-1.19818221]\n",
            " [-1.18546745]\n",
            " [-1.17169312]\n",
            " [-1.17275269]]\n"
          ]
        }
      ]
    },
    {
      "cell_type": "code",
      "source": [
        "############ 실습 : MinMaxScaler 를 구현해 봅시다. \n",
        "normalized_df=?????????\n",
        "###################\n",
        "\n",
        "print(normalized_df.values[0, 0:10])\n",
        "\n",
        "\n",
        "############ 실습 : StandardScaler 를 구현해 봅시다. \n",
        "normalized_target=?????????\n",
        "###################\n",
        "\n",
        "print(normalized_target.values[0:5])\n"
      ],
      "metadata": {
        "colab": {
          "base_uri": "https://localhost:8080/"
        },
        "id": "EyeHwaFWeBTT",
        "outputId": "e36682e4-b29a-4810-abd9-205973f5c8e2"
      },
      "execution_count": null,
      "outputs": [
        {
          "output_type": "stream",
          "name": "stdout",
          "text": [
            "[0.03462532 0.18316722 0.17128099 0.18145251 0.0305074  0.01816544\n",
            " 0.00756984]\n",
            "[[-1.22659555]\n",
            " [-1.19799188]\n",
            " [-1.18527914]\n",
            " [-1.17150701]\n",
            " [-1.1725664 ]]\n"
          ]
        }
      ]
    },
    {
      "cell_type": "code",
      "source": [
        "##### 딥러닝에 넣을때에는 float 이여야 합니다. \n",
        "test_idx = int(len(x) * 0.8)\n",
        "\n",
        "x_train, y_train = x[:test_idx], y[:test_idx]\n",
        "x_test, y_test = x[test_idx:], y[test_idx:]\n",
        "\n",
        "x_train = torch.from_numpy(x_train).float()\n",
        "y_train = torch.from_numpy(y_train).float()\n",
        "\n",
        "x_test = torch.from_numpy(x_test).float()\n",
        "y_test = torch.from_numpy(y_test).float()\n",
        "\n",
        "x_train = torch.reshape(x_train,   (x_train.shape[0], 1, x_train.shape[1]))\n",
        "x_test = torch.reshape(x_test,  (x_test.shape[0], 1, x_test.shape[1])) \n",
        "y_train = y_train.view(-1,1)\n",
        "y_test = y_test.view(-1,1)\n",
        "\n",
        "x_train.shape, y_train.shape"
      ],
      "metadata": {
        "colab": {
          "base_uri": "https://localhost:8080/"
        },
        "id": "8ao13UDrQyCD",
        "outputId": "a1b8825d-7179-4ba3-c479-a09e4283420b"
      },
      "execution_count": null,
      "outputs": [
        {
          "output_type": "execute_result",
          "data": {
            "text/plain": [
              "(torch.Size([2518, 1, 7]), torch.Size([2518, 1]))"
            ]
          },
          "metadata": {},
          "execution_count": 114
        }
      ]
    },
    {
      "cell_type": "code",
      "source": [
        "import torch \n",
        "from torch import optim\n",
        "import numpy as np\n",
        "import matplotlib.pyplot as plt\n",
        "\n",
        "seed = 27\n",
        "torch.manual_seed(seed) # cpu 연산 무작위 고정 \n",
        "torch.cuda.manual_seed(seed) # gpu 연산 무작위 고정 \n",
        "torch.cuda.manual_seed_all(seed) # 멀티 gpu 연산 무작위 고정 \n",
        "np.random.seed(seed) # numpy 관련 연산 무작위 고정\n",
        "\n",
        "\n",
        "# 학습해야 하는 모델 선언. hidden layer 크기가 인경우를 구현한다\n",
        "model = LSTM(num_classes=1, input_size=7, hidden_size=25, num_layers=1)\n",
        "preds = model(x_train)\n",
        "\n",
        "fig, ax = plt.subplots(1,3, figsize=(18,5))\n",
        "\n",
        "show_predicted(np.arange(0, x_train.shape[0]), y_train, preds.detach().numpy(), ax[0])\n",
        "\n",
        "cost =  torch.sqrt(nn.MSELoss()(preds,  y_train))\n",
        "\n",
        "print(f\"Initial Cost: {cost}\")\n",
        "\n",
        "# Weight와 Bias를 cost를 줄이는 방향으로 업데이트 ~ Optimization(최적화)\n",
        "optimizer = torch.optim.SGD( model.parameters(), lr=0.0003)\n",
        "\n",
        "nb_epochs = 100000 # 원하는만큼 경사 하강법을 반복\n",
        "for epoch in range(nb_epochs + 1):\n",
        "\n",
        "    preds = model(x_train)\n",
        "    # cost 계산\n",
        "    cost = torch.sqrt(nn.MSELoss()(preds, y_train))\n",
        "\n",
        "    optimizer.zero_grad() # 초기화\n",
        "    cost.backward() # gradient계산\n",
        "    optimizer.step() # 계산된 gradient 값을 이용하여 W,b 업데이트\n",
        "\n",
        "\n",
        "    # 1000번마다 로그 출력\n",
        "    if epoch % (nb_epochs/10) == 1:\n",
        "      print(f'Epoch {epoch:4d}/{nb_epochs}, Cost: {cost.item():.6f}')\n",
        "\n",
        "preds = model(x_train)\n",
        "show_predicted(range(x_train.shape[0]), y_train, preds.detach().numpy(),ax[1])\n",
        "print(f\"Train accuracy(RMSE) :  {torch.sqrt(nn.MSELoss()(preds,  y_train))}\")\n",
        "\n",
        "preds_test = model(x_test)\n",
        "print(f\"Test accuracy(RMSE) : { torch.sqrt(nn.MSELoss()(preds_test,  y_test))}\")\n",
        "show_predicted(range(x_test.shape[0]), y_test, preds_test.detach().numpy(),ax[2])"
      ],
      "metadata": {
        "colab": {
          "base_uri": "https://localhost:8080/",
          "height": 437
        },
        "id": "6qkiHF-ePYcL",
        "outputId": "713cef63-5514-4b3e-e5e9-0f787113bcf4"
      },
      "execution_count": null,
      "outputs": [
        {
          "output_type": "stream",
          "name": "stdout",
          "text": [
            "Initial Cost: 0.9081196188926697\n",
            "Epoch    1/100000, Cost: 0.907917\n",
            "Epoch 10001/100000, Cost: 0.634267\n",
            "Epoch 20001/100000, Cost: 0.630872\n",
            "Epoch 30001/100000, Cost: 0.625155\n",
            "Epoch 40001/100000, Cost: 0.614318\n",
            "Epoch 50001/100000, Cost: 0.589678\n",
            "Epoch 60001/100000, Cost: 0.525445\n",
            "Epoch 70001/100000, Cost: 0.318730\n",
            "Epoch 80001/100000, Cost: 0.062546\n",
            "Epoch 90001/100000, Cost: 0.059812\n",
            "Train accuracy(RMSE) :  0.05875873938202858\n",
            "Test accuracy(RMSE) : 0.2791307866573334\n"
          ]
        },
        {
          "output_type": "display_data",
          "data": {
            "text/plain": [
              "<Figure size 1296x360 with 3 Axes>"
            ],
            "image/png": "[encoded data removed]"
          },
          "metadata": {
            "needs_background": "light"
          }
        }
      ]
    },
    {
      "cell_type": "markdown",
      "source": [
        "## 최종 결과에 대해서 Inverse Transform 하고 결과를 출력해 봅니다"
      ],
      "metadata": {
        "id": "933nOVucgNhI"
      }
    },
    {
      "cell_type": "code",
      "source": [
        "x_test.shape, y_test.shape"
      ],
      "metadata": {
        "colab": {
          "base_uri": "https://localhost:8080/"
        },
        "id": "-MRo9BickASH",
        "outputId": "fa22be36-a7bb-4347-c893-f7b376cb0d9d"
      },
      "execution_count": null,
      "outputs": [
        {
          "output_type": "execute_result",
          "data": {
            "text/plain": [
              "(torch.Size([630, 1, 7]), torch.Size([630, 1]))"
            ]
          },
          "metadata": {},
          "execution_count": 117
        }
      ]
    },
    {
      "cell_type": "code",
      "source": [
        "preds_test = model(x_test)\n",
        "print(f\"Test accuracy(RMSE) : { torch.sqrt(nn.MSELoss()(preds_test,  y_test))}\")\n",
        "\n",
        "#### 실습 : Sequence 길이 부분을 제거한다 \n",
        "x_test_s = ?????????\n",
        "\n",
        "##### 실습 : Inverse Transform을 수행한다. \n",
        "x_test_inv = scaler.inverse_transform(x_test_s)\n",
        "y_test_inv = ?????????\n",
        "preds_test_inv = ?????????\n",
        "\n",
        "_, ax = plt.subplots(figsize=(10,5))\n",
        "ax.scatter(range(x_test_inv.shape[0]),y_test_inv, label='true')\n",
        "ax.scatter(range(x_test_inv.shape[0]), preds_test_inv, label='pred', color='red')\n",
        "ax.legend()\n"
      ],
      "metadata": {
        "colab": {
          "base_uri": "https://localhost:8080/",
          "height": 357
        },
        "id": "o8CuO79zgM8h",
        "outputId": "9176b301-c5be-4d0d-f603-8d771a5a61f2"
      },
      "execution_count": null,
      "outputs": [
        {
          "output_type": "stream",
          "name": "stdout",
          "text": [
            "Test accuracy(RMSE) : 0.2791307866573334\n"
          ]
        },
        {
          "output_type": "execute_result",
          "data": {
            "text/plain": [
              "<matplotlib.legend.Legend at 0x7f0be3a1dee0>"
            ]
          },
          "metadata": {},
          "execution_count": 119
        },
        {
          "output_type": "display_data",
          "data": {
            "text/plain": [
              "<Figure size 720x360 with 1 Axes>"
            ],
            "image/png": "[encoded data removed]"
          },
          "metadata": {
            "needs_background": "light"
          }
        }
      ]
    }
  ]
}